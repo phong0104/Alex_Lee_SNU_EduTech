{
 "cells": [
  {
   "cell_type": "markdown",
   "id": "60e0b1a6",
   "metadata": {},
   "source": [
    "### 1. Top10 확인하기"
   ]
  },
  {
   "cell_type": "code",
   "execution_count": 1,
   "id": "ba9b6977",
   "metadata": {},
   "outputs": [
    {
     "data": {
      "text/html": [
       "<div>\n",
       "<style scoped>\n",
       "    .dataframe tbody tr th:only-of-type {\n",
       "        vertical-align: middle;\n",
       "    }\n",
       "\n",
       "    .dataframe tbody tr th {\n",
       "        vertical-align: top;\n",
       "    }\n",
       "\n",
       "    .dataframe thead th {\n",
       "        text-align: right;\n",
       "    }\n",
       "</style>\n",
       "<table border=\"1\" class=\"dataframe\">\n",
       "  <thead>\n",
       "    <tr style=\"text-align: right;\">\n",
       "      <th></th>\n",
       "      <th>CRIM</th>\n",
       "      <th>ZN</th>\n",
       "      <th>INDUS</th>\n",
       "      <th>CHAS</th>\n",
       "      <th>NOX</th>\n",
       "      <th>RM</th>\n",
       "      <th>AGE</th>\n",
       "      <th>DIS</th>\n",
       "      <th>RAD</th>\n",
       "      <th>TAX</th>\n",
       "      <th>PTRATIO</th>\n",
       "      <th>B</th>\n",
       "      <th>LSTAT</th>\n",
       "      <th>MEDV</th>\n",
       "    </tr>\n",
       "  </thead>\n",
       "  <tbody>\n",
       "    <tr>\n",
       "      <th>0</th>\n",
       "      <td>0.00632</td>\n",
       "      <td>18.0</td>\n",
       "      <td>2.31</td>\n",
       "      <td>0</td>\n",
       "      <td>0.538</td>\n",
       "      <td>6.575</td>\n",
       "      <td>65.2</td>\n",
       "      <td>4.0900</td>\n",
       "      <td>1</td>\n",
       "      <td>296</td>\n",
       "      <td>15.3</td>\n",
       "      <td>396.90</td>\n",
       "      <td>4.98</td>\n",
       "      <td>24.0</td>\n",
       "    </tr>\n",
       "    <tr>\n",
       "      <th>1</th>\n",
       "      <td>0.02731</td>\n",
       "      <td>0.0</td>\n",
       "      <td>7.07</td>\n",
       "      <td>0</td>\n",
       "      <td>0.469</td>\n",
       "      <td>6.421</td>\n",
       "      <td>78.9</td>\n",
       "      <td>4.9671</td>\n",
       "      <td>2</td>\n",
       "      <td>242</td>\n",
       "      <td>17.8</td>\n",
       "      <td>396.90</td>\n",
       "      <td>9.14</td>\n",
       "      <td>21.6</td>\n",
       "    </tr>\n",
       "    <tr>\n",
       "      <th>2</th>\n",
       "      <td>0.02729</td>\n",
       "      <td>0.0</td>\n",
       "      <td>7.07</td>\n",
       "      <td>0</td>\n",
       "      <td>0.469</td>\n",
       "      <td>7.185</td>\n",
       "      <td>61.1</td>\n",
       "      <td>4.9671</td>\n",
       "      <td>2</td>\n",
       "      <td>242</td>\n",
       "      <td>17.8</td>\n",
       "      <td>392.83</td>\n",
       "      <td>4.03</td>\n",
       "      <td>34.7</td>\n",
       "    </tr>\n",
       "    <tr>\n",
       "      <th>3</th>\n",
       "      <td>0.03237</td>\n",
       "      <td>0.0</td>\n",
       "      <td>2.18</td>\n",
       "      <td>0</td>\n",
       "      <td>0.458</td>\n",
       "      <td>6.998</td>\n",
       "      <td>45.8</td>\n",
       "      <td>6.0622</td>\n",
       "      <td>3</td>\n",
       "      <td>222</td>\n",
       "      <td>18.7</td>\n",
       "      <td>394.63</td>\n",
       "      <td>2.94</td>\n",
       "      <td>33.4</td>\n",
       "    </tr>\n",
       "    <tr>\n",
       "      <th>4</th>\n",
       "      <td>0.06905</td>\n",
       "      <td>0.0</td>\n",
       "      <td>2.18</td>\n",
       "      <td>0</td>\n",
       "      <td>0.458</td>\n",
       "      <td>7.147</td>\n",
       "      <td>54.2</td>\n",
       "      <td>6.0622</td>\n",
       "      <td>3</td>\n",
       "      <td>222</td>\n",
       "      <td>18.7</td>\n",
       "      <td>396.90</td>\n",
       "      <td>5.33</td>\n",
       "      <td>36.2</td>\n",
       "    </tr>\n",
       "    <tr>\n",
       "      <th>...</th>\n",
       "      <td>...</td>\n",
       "      <td>...</td>\n",
       "      <td>...</td>\n",
       "      <td>...</td>\n",
       "      <td>...</td>\n",
       "      <td>...</td>\n",
       "      <td>...</td>\n",
       "      <td>...</td>\n",
       "      <td>...</td>\n",
       "      <td>...</td>\n",
       "      <td>...</td>\n",
       "      <td>...</td>\n",
       "      <td>...</td>\n",
       "      <td>...</td>\n",
       "    </tr>\n",
       "    <tr>\n",
       "      <th>501</th>\n",
       "      <td>0.06263</td>\n",
       "      <td>0.0</td>\n",
       "      <td>11.93</td>\n",
       "      <td>0</td>\n",
       "      <td>0.573</td>\n",
       "      <td>6.593</td>\n",
       "      <td>69.1</td>\n",
       "      <td>2.4786</td>\n",
       "      <td>1</td>\n",
       "      <td>273</td>\n",
       "      <td>21.0</td>\n",
       "      <td>391.99</td>\n",
       "      <td>9.67</td>\n",
       "      <td>22.4</td>\n",
       "    </tr>\n",
       "    <tr>\n",
       "      <th>502</th>\n",
       "      <td>0.04527</td>\n",
       "      <td>0.0</td>\n",
       "      <td>11.93</td>\n",
       "      <td>0</td>\n",
       "      <td>0.573</td>\n",
       "      <td>NaN</td>\n",
       "      <td>76.7</td>\n",
       "      <td>2.2875</td>\n",
       "      <td>1</td>\n",
       "      <td>273</td>\n",
       "      <td>21.0</td>\n",
       "      <td>396.90</td>\n",
       "      <td>9.08</td>\n",
       "      <td>20.6</td>\n",
       "    </tr>\n",
       "    <tr>\n",
       "      <th>503</th>\n",
       "      <td>0.06076</td>\n",
       "      <td>0.0</td>\n",
       "      <td>11.93</td>\n",
       "      <td>0</td>\n",
       "      <td>0.573</td>\n",
       "      <td>6.976</td>\n",
       "      <td>91.0</td>\n",
       "      <td>2.1675</td>\n",
       "      <td>1</td>\n",
       "      <td>273</td>\n",
       "      <td>21.0</td>\n",
       "      <td>396.90</td>\n",
       "      <td>5.64</td>\n",
       "      <td>23.9</td>\n",
       "    </tr>\n",
       "    <tr>\n",
       "      <th>504</th>\n",
       "      <td>0.10959</td>\n",
       "      <td>0.0</td>\n",
       "      <td>11.93</td>\n",
       "      <td>0</td>\n",
       "      <td>0.573</td>\n",
       "      <td>6.794</td>\n",
       "      <td>89.3</td>\n",
       "      <td>2.3889</td>\n",
       "      <td>1</td>\n",
       "      <td>273</td>\n",
       "      <td>21.0</td>\n",
       "      <td>393.45</td>\n",
       "      <td>6.48</td>\n",
       "      <td>22.0</td>\n",
       "    </tr>\n",
       "    <tr>\n",
       "      <th>505</th>\n",
       "      <td>0.04741</td>\n",
       "      <td>0.0</td>\n",
       "      <td>11.93</td>\n",
       "      <td>0</td>\n",
       "      <td>0.573</td>\n",
       "      <td>6.030</td>\n",
       "      <td>80.8</td>\n",
       "      <td>2.5050</td>\n",
       "      <td>1</td>\n",
       "      <td>273</td>\n",
       "      <td>21.0</td>\n",
       "      <td>396.90</td>\n",
       "      <td>7.88</td>\n",
       "      <td>11.9</td>\n",
       "    </tr>\n",
       "  </tbody>\n",
       "</table>\n",
       "<p>506 rows × 14 columns</p>\n",
       "</div>"
      ],
      "text/plain": [
       "        CRIM    ZN  INDUS  CHAS    NOX     RM   AGE     DIS  RAD  TAX  \\\n",
       "0    0.00632  18.0   2.31     0  0.538  6.575  65.2  4.0900    1  296   \n",
       "1    0.02731   0.0   7.07     0  0.469  6.421  78.9  4.9671    2  242   \n",
       "2    0.02729   0.0   7.07     0  0.469  7.185  61.1  4.9671    2  242   \n",
       "3    0.03237   0.0   2.18     0  0.458  6.998  45.8  6.0622    3  222   \n",
       "4    0.06905   0.0   2.18     0  0.458  7.147  54.2  6.0622    3  222   \n",
       "..       ...   ...    ...   ...    ...    ...   ...     ...  ...  ...   \n",
       "501  0.06263   0.0  11.93     0  0.573  6.593  69.1  2.4786    1  273   \n",
       "502  0.04527   0.0  11.93     0  0.573    NaN  76.7  2.2875    1  273   \n",
       "503  0.06076   0.0  11.93     0  0.573  6.976  91.0  2.1675    1  273   \n",
       "504  0.10959   0.0  11.93     0  0.573  6.794  89.3  2.3889    1  273   \n",
       "505  0.04741   0.0  11.93     0  0.573  6.030  80.8  2.5050    1  273   \n",
       "\n",
       "     PTRATIO       B  LSTAT  MEDV  \n",
       "0       15.3  396.90   4.98  24.0  \n",
       "1       17.8  396.90   9.14  21.6  \n",
       "2       17.8  392.83   4.03  34.7  \n",
       "3       18.7  394.63   2.94  33.4  \n",
       "4       18.7  396.90   5.33  36.2  \n",
       "..       ...     ...    ...   ...  \n",
       "501     21.0  391.99   9.67  22.4  \n",
       "502     21.0  396.90   9.08  20.6  \n",
       "503     21.0  396.90   5.64  23.9  \n",
       "504     21.0  393.45   6.48  22.0  \n",
       "505     21.0  396.90   7.88  11.9  \n",
       "\n",
       "[506 rows x 14 columns]"
      ]
     },
     "execution_count": 1,
     "metadata": {},
     "output_type": "execute_result"
    }
   ],
   "source": [
    "import pandas as pd\n",
    "data = pd.read_csv('boston.csv')\n",
    "data"
   ]
  },
  {
   "cell_type": "code",
   "execution_count": 2,
   "id": "2925df53",
   "metadata": {},
   "outputs": [
    {
     "name": "stdout",
     "output_type": "stream",
     "text": [
      "283    50.0\n",
      "225    50.0\n",
      "369    50.0\n",
      "370    50.0\n",
      "371    50.0\n",
      "372    50.0\n",
      "186    50.0\n",
      "204    50.0\n",
      "257    50.0\n",
      "195    50.0\n",
      "Name: MEDV, dtype: float64\n"
     ]
    }
   ],
   "source": [
    "print(data.sort_values('MEDV', ascending=False).head(10)['MEDV'])"
   ]
  },
  {
   "cell_type": "code",
   "execution_count": 3,
   "id": "6652e124",
   "metadata": {},
   "outputs": [
    {
     "name": "stdout",
     "output_type": "stream",
     "text": [
      "      CRIM    ZN  INDUS  CHAS    NOX     RM   AGE     DIS  RAD  TAX  PTRATIO  \\\n",
      "0  0.00632  18.0   2.31     0  0.538  6.575  65.2  4.0900    1  296     15.3   \n",
      "1  0.02731   0.0   7.07     0  0.469  6.421  78.9  4.9671    2  242     17.8   \n",
      "2  0.02729   0.0   7.07     0  0.469  7.185  61.1  4.9671    2  242     17.8   \n",
      "3  0.03237   0.0   2.18     0  0.458  6.998  45.8  6.0622    3  222     18.7   \n",
      "4  0.06905   0.0   2.18     0  0.458  7.147  54.2  6.0622    3  222     18.7   \n",
      "\n",
      "        B  LSTAT  MEDV  \n",
      "0  396.90   4.98  24.0  \n",
      "1  396.90   9.14  21.6  \n",
      "2  392.83   4.03  34.7  \n",
      "3  394.63   2.94  33.4  \n",
      "4  396.90   5.33  36.2  \n"
     ]
    }
   ],
   "source": [
    "print(data.head())"
   ]
  },
  {
   "cell_type": "code",
   "execution_count": 4,
   "id": "e4448925",
   "metadata": {},
   "outputs": [
    {
     "name": "stdout",
     "output_type": "stream",
     "text": [
      "         CRIM    ZN  INDUS  CHAS    NOX     RM    AGE     DIS  RAD  TAX  \\\n",
      "398  38.35180   0.0  18.10     0  0.693    NaN  100.0  1.4896   24  666   \n",
      "405  67.92080   0.0  18.10     0  0.693  5.683  100.0  1.4254   24  666   \n",
      "400  25.04610   0.0  18.10     0  0.693  5.987  100.0  1.5888   24  666   \n",
      "399   9.91655   0.0  18.10     0  0.693  5.852   77.8  1.5004   24  666   \n",
      "414  45.74610   0.0  18.10     0  0.693  4.519  100.0  1.6582   24  666   \n",
      "..        ...   ...    ...   ...    ...    ...    ...     ...  ...  ...   \n",
      "166   2.01019   0.0  19.58     0  0.605  7.929   96.2  2.0459    5  403   \n",
      "195   0.01381  80.0   0.46     0  0.422  7.875   32.0  5.6484    4  255   \n",
      "283   0.01501  90.0   1.21     1  0.401  7.923   24.8  5.8850    1  198   \n",
      "225   0.52693   0.0   6.20     0  0.504  8.725   83.0  2.8944    8  307   \n",
      "186   0.05602   0.0   2.46     0  0.488  7.831   53.6  3.1992    3  193   \n",
      "\n",
      "     PTRATIO       B  LSTAT  MEDV  \n",
      "398     20.2  396.90  30.59   5.0  \n",
      "405     20.2  384.97  22.98   5.0  \n",
      "400     20.2  396.90  26.77   5.6  \n",
      "399     20.2  338.16  29.97   6.3  \n",
      "414     20.2   88.27  36.98   7.0  \n",
      "..       ...     ...    ...   ...  \n",
      "166     14.7  369.30   3.70  50.0  \n",
      "195     14.4  394.23   2.97  50.0  \n",
      "283     13.6  395.52   3.16  50.0  \n",
      "225     17.4  382.00   4.63  50.0  \n",
      "186     17.8  392.63   4.45  50.0  \n",
      "\n",
      "[506 rows x 14 columns]\n"
     ]
    }
   ],
   "source": [
    "print(data.sort_values(by='MEDV', ascending=True))"
   ]
  },
  {
   "cell_type": "code",
   "execution_count": 5,
   "id": "b67f8c02",
   "metadata": {},
   "outputs": [
    {
     "name": "stdout",
     "output_type": "stream",
     "text": [
      "398     5.0\n",
      "405     5.0\n",
      "400     5.6\n",
      "399     6.3\n",
      "414     7.0\n",
      "       ... \n",
      "166    50.0\n",
      "195    50.0\n",
      "283    50.0\n",
      "225    50.0\n",
      "186    50.0\n",
      "Name: MEDV, Length: 506, dtype: float64\n"
     ]
    }
   ],
   "source": [
    "print(data.sort_values(by='MEDV', ascending=True)['MEDV'])"
   ]
  },
  {
   "cell_type": "code",
   "execution_count": 6,
   "id": "a29cba82",
   "metadata": {},
   "outputs": [
    {
     "name": "stdout",
     "output_type": "stream",
     "text": [
      "398    5.0\n",
      "405    5.0\n",
      "400    5.6\n",
      "399    6.3\n",
      "414    7.0\n",
      "489    7.0\n",
      "401    7.2\n",
      "385    7.2\n",
      "415    7.2\n",
      "387    7.4\n",
      "Name: MEDV, dtype: float64\n"
     ]
    }
   ],
   "source": [
    "print(data.sort_values(by='MEDV', ascending=True)['MEDV'].head(10))"
   ]
  },
  {
   "cell_type": "markdown",
   "id": "045b5b4d",
   "metadata": {},
   "source": [
    "### 2. 결측치 확인하기"
   ]
  },
  {
   "cell_type": "code",
   "execution_count": 7,
   "id": "5da7f3e7",
   "metadata": {},
   "outputs": [
    {
     "name": "stdout",
     "output_type": "stream",
     "text": [
      "      CRIM     ZN  INDUS   CHAS    NOX     RM    AGE    DIS    RAD    TAX  \\\n",
      "0    False  False  False  False  False  False  False  False  False  False   \n",
      "1    False  False  False  False  False  False  False  False  False  False   \n",
      "2    False  False  False  False  False  False  False  False  False  False   \n",
      "3    False  False  False  False  False  False  False  False  False  False   \n",
      "4    False  False  False  False  False  False  False  False  False  False   \n",
      "..     ...    ...    ...    ...    ...    ...    ...    ...    ...    ...   \n",
      "501  False  False  False  False  False  False  False  False  False  False   \n",
      "502  False  False  False  False  False   True  False  False  False  False   \n",
      "503  False  False  False  False  False  False  False  False  False  False   \n",
      "504  False  False  False  False  False  False  False  False  False  False   \n",
      "505  False  False  False  False  False  False  False  False  False  False   \n",
      "\n",
      "     PTRATIO      B  LSTAT   MEDV  \n",
      "0      False  False  False  False  \n",
      "1      False  False  False  False  \n",
      "2      False  False  False  False  \n",
      "3      False  False  False  False  \n",
      "4      False  False  False  False  \n",
      "..       ...    ...    ...    ...  \n",
      "501    False  False  False  False  \n",
      "502    False  False  False  False  \n",
      "503    False  False  False  False  \n",
      "504    False  False  False  False  \n",
      "505    False  False  False  False  \n",
      "\n",
      "[506 rows x 14 columns]\n"
     ]
    }
   ],
   "source": [
    "import pandas as pd\n",
    "data = pd.read_csv('boston.csv')\n",
    "print(data.isnull())"
   ]
  },
  {
   "cell_type": "code",
   "execution_count": 8,
   "id": "37f3fcc7",
   "metadata": {},
   "outputs": [
    {
     "name": "stdout",
     "output_type": "stream",
     "text": [
      "CRIM        0\n",
      "ZN          0\n",
      "INDUS       0\n",
      "CHAS        0\n",
      "NOX         0\n",
      "RM         15\n",
      "AGE         0\n",
      "DIS         0\n",
      "RAD         0\n",
      "TAX         0\n",
      "PTRATIO     0\n",
      "B           0\n",
      "LSTAT       0\n",
      "MEDV        0\n",
      "dtype: int64\n"
     ]
    }
   ],
   "source": [
    "print(data.isnull().sum())"
   ]
  },
  {
   "cell_type": "code",
   "execution_count": 9,
   "id": "23a942fc",
   "metadata": {},
   "outputs": [
    {
     "name": "stdout",
     "output_type": "stream",
     "text": [
      "15\n"
     ]
    }
   ],
   "source": [
    "data_mean = data['RM'].copy()\n",
    "print(data_mean.isnull().sum())"
   ]
  },
  {
   "cell_type": "code",
   "execution_count": 10,
   "id": "92c88e4c",
   "metadata": {},
   "outputs": [
    {
     "name": "stdout",
     "output_type": "stream",
     "text": [
      "0    6.575\n",
      "1    6.421\n",
      "2    7.185\n",
      "Name: RM, dtype: float64\n"
     ]
    }
   ],
   "source": [
    "print(data_mean.head(3))"
   ]
  },
  {
   "cell_type": "code",
   "execution_count": 11,
   "id": "ae0948b0",
   "metadata": {},
   "outputs": [
    {
     "name": "stdout",
     "output_type": "stream",
     "text": [
      "6.285101832993899\n"
     ]
    }
   ],
   "source": [
    "rm_mean = data_mean.mean()\n",
    "print(rm_mean)"
   ]
  },
  {
   "cell_type": "code",
   "execution_count": 12,
   "id": "ca4afaa4",
   "metadata": {},
   "outputs": [
    {
     "name": "stdout",
     "output_type": "stream",
     "text": [
      "0      6.575000\n",
      "1      6.421000\n",
      "2      7.185000\n",
      "3      6.998000\n",
      "4      7.147000\n",
      "         ...   \n",
      "501    6.593000\n",
      "502    6.285102\n",
      "503    6.976000\n",
      "504    6.794000\n",
      "505    6.030000\n",
      "Name: RM, Length: 506, dtype: float64\n"
     ]
    }
   ],
   "source": [
    "print(data_mean.fillna(rm_mean, inplace=False))"
   ]
  },
  {
   "cell_type": "code",
   "execution_count": 13,
   "id": "ce8ae99a",
   "metadata": {},
   "outputs": [
    {
     "name": "stdout",
     "output_type": "stream",
     "text": [
      "15\n"
     ]
    }
   ],
   "source": [
    "print(data_mean.isnull().sum())"
   ]
  },
  {
   "cell_type": "code",
   "execution_count": 14,
   "id": "c55d0ac7",
   "metadata": {},
   "outputs": [
    {
     "name": "stdout",
     "output_type": "stream",
     "text": [
      "0\n"
     ]
    }
   ],
   "source": [
    "data_mean.fillna(rm_mean, inplace=True)\n",
    "print(data_mean.isnull().sum())"
   ]
  },
  {
   "cell_type": "code",
   "execution_count": 15,
   "id": "dadc8a50",
   "metadata": {},
   "outputs": [
    {
     "name": "stdout",
     "output_type": "stream",
     "text": [
      "15\n"
     ]
    }
   ],
   "source": [
    "data_del = data['RM'].copy()\n",
    "print(data_del.isnull().sum())"
   ]
  },
  {
   "cell_type": "code",
   "execution_count": 16,
   "id": "235b9f61",
   "metadata": {},
   "outputs": [
    {
     "name": "stdout",
     "output_type": "stream",
     "text": [
      "(506,)\n"
     ]
    }
   ],
   "source": [
    "print(data_del.shape)"
   ]
  },
  {
   "cell_type": "code",
   "execution_count": 17,
   "id": "6d04b30c",
   "metadata": {},
   "outputs": [
    {
     "name": "stdout",
     "output_type": "stream",
     "text": [
      "(491,)\n"
     ]
    }
   ],
   "source": [
    "data_del.dropna(inplace=True)\n",
    "print(data_del.shape)"
   ]
  },
  {
   "cell_type": "code",
   "execution_count": 18,
   "id": "bb7126c7",
   "metadata": {},
   "outputs": [
    {
     "name": "stdout",
     "output_type": "stream",
     "text": [
      "0\n"
     ]
    }
   ],
   "source": [
    "print(data_del.isnull().sum())"
   ]
  },
  {
   "cell_type": "code",
   "execution_count": 19,
   "id": "2180fb00",
   "metadata": {},
   "outputs": [
    {
     "name": "stdout",
     "output_type": "stream",
     "text": [
      "0.6975001826300911\n"
     ]
    }
   ],
   "source": [
    "print(data_mean.std())"
   ]
  },
  {
   "cell_type": "code",
   "execution_count": 20,
   "id": "da852153",
   "metadata": {},
   "outputs": [
    {
     "name": "stdout",
     "output_type": "stream",
     "text": [
      "0.7080957287241957\n"
     ]
    }
   ],
   "source": [
    "print(data_del.std())"
   ]
  },
  {
   "cell_type": "code",
   "execution_count": 21,
   "id": "07a8e931",
   "metadata": {},
   "outputs": [
    {
     "name": "stdout",
     "output_type": "stream",
     "text": [
      "0.010595546094104624\n"
     ]
    }
   ],
   "source": [
    "print(abs(data_mean.std() - data_del.std()))"
   ]
  },
  {
   "cell_type": "code",
   "execution_count": 22,
   "id": "1b6ba0d7",
   "metadata": {},
   "outputs": [
    {
     "name": "stdout",
     "output_type": "stream",
     "text": [
      "0.010595546094104624\n"
     ]
    }
   ],
   "source": [
    "import pandas as pd\n",
    "data = pd.read_csv('boston.csv')\n",
    "data_mean = data['RM'].copy()\n",
    "rm_mean = data_mean.mean()\n",
    "data_mean.fillna(rm_mean, inplace=True)\n",
    "data_del = data['RM'].copy()\n",
    "data_del.dropna(inplace=True)\n",
    "print(abs(data_mean.std() - data_del.std()))"
   ]
  },
  {
   "cell_type": "markdown",
   "id": "907fba44",
   "metadata": {},
   "source": [
    "### 3. 이상값 확인하기"
   ]
  },
  {
   "cell_type": "code",
   "execution_count": 23,
   "id": "20431f97",
   "metadata": {},
   "outputs": [
    {
     "data": {
      "text/plain": [
       "3462.5"
      ]
     },
     "execution_count": 23,
     "metadata": {},
     "output_type": "execute_result"
    }
   ],
   "source": [
    "import pandas as pd\n",
    "data = pd.read_csv('boston.csv')\n",
    "zn_mean = data['ZN'].mean()\n",
    "zn_std = data['ZN'].std()\n",
    "zn_plus = zn_mean + zn_std * 1.5\n",
    "zn_minus = zn_mean - zn_std * 1.5\n",
    "data[(data['ZN'] > zn_plus) | (data['ZN'] < zn_minus)]['ZN'].sum()"
   ]
  },
  {
   "cell_type": "code",
   "execution_count": 24,
   "id": "24dd0826",
   "metadata": {},
   "outputs": [],
   "source": [
    "import pandas as pd\n",
    "data = pd.read_csv('boston.csv')"
   ]
  },
  {
   "cell_type": "code",
   "execution_count": 25,
   "id": "92d8dfa4",
   "metadata": {},
   "outputs": [
    {
     "data": {
      "text/plain": [
       "11.363636363636363"
      ]
     },
     "execution_count": 25,
     "metadata": {},
     "output_type": "execute_result"
    }
   ],
   "source": [
    "zn_mean = data['ZN'].mean()\n",
    "zn_mean"
   ]
  },
  {
   "cell_type": "code",
   "execution_count": 26,
   "id": "a0b1a1a2",
   "metadata": {},
   "outputs": [
    {
     "data": {
      "text/plain": [
       "23.322452994515036"
      ]
     },
     "execution_count": 26,
     "metadata": {},
     "output_type": "execute_result"
    }
   ],
   "source": [
    "zn_std = data['ZN'].std()\n",
    "zn_std"
   ]
  },
  {
   "cell_type": "code",
   "execution_count": 27,
   "id": "a4793a22",
   "metadata": {},
   "outputs": [
    {
     "data": {
      "text/plain": [
       "46.34731585540892"
      ]
     },
     "execution_count": 27,
     "metadata": {},
     "output_type": "execute_result"
    }
   ],
   "source": [
    "zn_max = zn_mean + (1.5 * zn_std)\n",
    "zn_max"
   ]
  },
  {
   "cell_type": "code",
   "execution_count": 28,
   "id": "4e1b678d",
   "metadata": {},
   "outputs": [
    {
     "data": {
      "text/plain": [
       "-23.620043128136192"
      ]
     },
     "execution_count": 28,
     "metadata": {},
     "output_type": "execute_result"
    }
   ],
   "source": [
    "zn_min = zn_mean - (1.5 * zn_std)\n",
    "zn_min"
   ]
  },
  {
   "cell_type": "code",
   "execution_count": 29,
   "id": "4a0e3acd",
   "metadata": {},
   "outputs": [
    {
     "name": "stdout",
     "output_type": "stream",
     "text": [
      "0      False\n",
      "1      False\n",
      "2      False\n",
      "3      False\n",
      "4      False\n",
      "       ...  \n",
      "501    False\n",
      "502    False\n",
      "503    False\n",
      "504    False\n",
      "505    False\n",
      "Name: ZN, Length: 506, dtype: bool\n"
     ]
    }
   ],
   "source": [
    "print(data['ZN'] > zn_max)"
   ]
  },
  {
   "cell_type": "code",
   "execution_count": 30,
   "id": "a7bba934",
   "metadata": {},
   "outputs": [
    {
     "name": "stdout",
     "output_type": "stream",
     "text": [
      "        CRIM     ZN  INDUS  CHAS     NOX     RM   AGE      DIS  RAD  TAX  \\\n",
      "39   0.02763   75.0   2.95     0  0.4280  6.595  21.8   5.4011    3  252   \n",
      "40   0.03359   75.0   2.95     0  0.4280  7.024  15.8   5.4011    3  252   \n",
      "54   0.01360   75.0   4.00     0  0.4100  5.888  47.6   7.3197    3  469   \n",
      "55   0.01311   90.0   1.22     0  0.4030  7.249  21.9   8.6966    5  226   \n",
      "56   0.02055   85.0   0.74     0  0.4100  6.383  35.7   9.1876    2  313   \n",
      "57   0.01432  100.0   1.32     0  0.4110  6.816  40.5   8.3248    5  256   \n",
      "65   0.03584   80.0   3.37     0  0.3980  6.290  17.8   6.6115    4  337   \n",
      "66   0.04379   80.0   3.37     0  0.3980  5.787  31.1   6.6115    4  337   \n",
      "193  0.02187   60.0   2.93     0  0.4010  6.800   9.9   6.2196    1  265   \n",
      "194  0.01439   60.0   2.93     0  0.4010  6.604  18.8   6.2196    1  265   \n",
      "195  0.01381   80.0   0.46     0  0.4220  7.875  32.0   5.6484    4  255   \n",
      "196  0.04011   80.0   1.52     0  0.4040  7.287  34.1   7.3090    2  329   \n",
      "197  0.04666   80.0   1.52     0  0.4040  7.107  36.6   7.3090    2  329   \n",
      "198  0.03768   80.0   1.52     0  0.4040  7.274  38.3   7.3090    2  329   \n",
      "199  0.03150   95.0   1.47     0  0.4030  6.975  15.3   7.6534    3  402   \n",
      "200  0.01778   95.0   1.47     0  0.4030  7.135  13.9   7.6534    3  402   \n",
      "201  0.03445   82.5   2.03     0  0.4150  6.162  38.4   6.2700    2  348   \n",
      "202  0.02177   82.5   2.03     0  0.4150  7.610  15.7   6.2700    2  348   \n",
      "203  0.03510   95.0   2.68     0  0.4161  7.853  33.2   5.1180    4  224   \n",
      "204  0.02009   95.0   2.68     0  0.4161  8.034  31.9   5.1180    4  224   \n",
      "254  0.04819   80.0   3.64     0  0.3920  6.108  32.0   9.2203    1  315   \n",
      "255  0.03548   80.0   3.64     0  0.3920  5.876  19.1   9.2203    1  315   \n",
      "256  0.01538   90.0   3.75     0  0.3940  7.454  34.2   6.3361    3  244   \n",
      "283  0.01501   90.0   1.21     1  0.4010  7.923  24.8   5.8850    1  198   \n",
      "284  0.00906   90.0   2.97     0  0.4000  7.088  20.8   7.3073    1  285   \n",
      "285  0.01096   55.0   2.25     0  0.3890  6.453  31.9   7.3073    1  300   \n",
      "286  0.01965   80.0   1.76     0  0.3850  6.230  31.5   9.0892    1  241   \n",
      "287  0.03871   52.5   5.32     0  0.4050  6.209  31.3   7.3172    6  293   \n",
      "288  0.04590   52.5   5.32     0  0.4050  6.315  45.6   7.3172    6  293   \n",
      "289  0.04297   52.5   5.32     0  0.4050  6.565  22.9   7.3172    6  293   \n",
      "290  0.03502   80.0   4.95     0  0.4110  6.861  27.9   5.1167    4  245   \n",
      "291  0.07886   80.0   4.95     0  0.4110  7.148  27.7   5.1167    4  245   \n",
      "292  0.03615   80.0   4.95     0  0.4110  6.630  23.4   5.1167    4  245   \n",
      "298  0.06466   70.0   2.24     0  0.4000  6.345  20.1   7.8278    5  358   \n",
      "299  0.05561   70.0   2.24     0  0.4000  7.041  10.0   7.8278    5  358   \n",
      "300  0.04417   70.0   2.24     0  0.4000  6.871  47.4   7.8278    5  358   \n",
      "343  0.02543   55.0   3.78     0  0.4840  6.696  56.4   5.7321    5  370   \n",
      "344  0.03049   55.0   3.78     0  0.4840    NaN  28.1   6.4654    5  370   \n",
      "347  0.01870   85.0   4.15     0  0.4290  6.516  27.7   8.5353    4  351   \n",
      "348  0.01501   80.0   2.01     0  0.4350  6.635  29.7   8.3440    4  280   \n",
      "351  0.07950   60.0   1.69     0  0.4110  6.579  35.9  10.7103    4  411   \n",
      "352  0.07244   60.0   1.69     0  0.4110  5.884  18.5  10.7103    4  411   \n",
      "353  0.01709   90.0   2.02     0  0.4100  6.728  36.1  12.1265    5  187   \n",
      "354  0.04301   80.0   1.91     0  0.4130  5.663  21.9  10.5857    4  334   \n",
      "355  0.10659   80.0   1.91     0  0.4130  5.936  19.5  10.5857    4  334   \n",
      "\n",
      "     PTRATIO       B  LSTAT  MEDV  \n",
      "39      18.3  395.63   4.32  30.8  \n",
      "40      18.3  395.62   1.98  34.9  \n",
      "54      21.1  396.90  14.80  18.9  \n",
      "55      17.9  395.93   4.81  35.4  \n",
      "56      17.3  396.90   5.77  24.7  \n",
      "57      15.1  392.90   3.95  31.6  \n",
      "65      16.1  396.90   4.67  23.5  \n",
      "66      16.1  396.90  10.24  19.4  \n",
      "193     15.6  393.37   5.03  31.1  \n",
      "194     15.6  376.70   4.38  29.1  \n",
      "195     14.4  394.23   2.97  50.0  \n",
      "196     12.6  396.90   4.08  33.3  \n",
      "197     12.6  354.31   8.61  30.3  \n",
      "198     12.6  392.20   6.62  34.6  \n",
      "199     17.0  396.90   4.56  34.9  \n",
      "200     17.0  384.30   4.45  32.9  \n",
      "201     14.7  393.77   7.43  24.1  \n",
      "202     14.7  395.38   3.11  42.3  \n",
      "203     14.7  392.78   3.81  48.5  \n",
      "204     14.7  390.55   2.88  50.0  \n",
      "254     16.4  392.89   6.57  21.9  \n",
      "255     16.4  395.18   9.25  20.9  \n",
      "256     15.9  386.34   3.11  44.0  \n",
      "283     13.6  395.52   3.16  50.0  \n",
      "284     15.3  394.72   7.85  32.2  \n",
      "285     15.3  394.72   8.23  22.0  \n",
      "286     18.2  341.60  12.93  20.1  \n",
      "287     16.6  396.90   7.14  23.2  \n",
      "288     16.6  396.90   7.60  22.3  \n",
      "289     16.6  371.72   9.51  24.8  \n",
      "290     19.2  396.90   3.33  28.5  \n",
      "291     19.2  396.90   3.56  37.3  \n",
      "292     19.2  396.90   4.70  27.9  \n",
      "298     14.8  368.24   4.97  22.5  \n",
      "299     14.8  371.58   4.74  29.0  \n",
      "300     14.8  390.86   6.07  24.8  \n",
      "343     17.6  396.90   7.18  23.9  \n",
      "344     17.6  387.97   4.61  31.2  \n",
      "347     17.9  392.43   6.36  23.1  \n",
      "348     17.0  390.94   5.99  24.5  \n",
      "351     18.3  370.78   5.49  24.1  \n",
      "352     18.3  392.33   7.79  18.6  \n",
      "353     17.0  384.46   4.50  30.1  \n",
      "354     22.0  382.80   8.05  18.2  \n",
      "355     22.0  376.04   5.57  20.6  \n"
     ]
    }
   ],
   "source": [
    "print(data[data['ZN'] > zn_max])"
   ]
  },
  {
   "cell_type": "code",
   "execution_count": 31,
   "id": "01ca77c8",
   "metadata": {},
   "outputs": [
    {
     "name": "stdout",
     "output_type": "stream",
     "text": [
      "39      75.0\n",
      "40      75.0\n",
      "54      75.0\n",
      "55      90.0\n",
      "56      85.0\n",
      "57     100.0\n",
      "65      80.0\n",
      "66      80.0\n",
      "193     60.0\n",
      "194     60.0\n",
      "195     80.0\n",
      "196     80.0\n",
      "197     80.0\n",
      "198     80.0\n",
      "199     95.0\n",
      "200     95.0\n",
      "201     82.5\n",
      "202     82.5\n",
      "203     95.0\n",
      "204     95.0\n",
      "254     80.0\n",
      "255     80.0\n",
      "256     90.0\n",
      "283     90.0\n",
      "284     90.0\n",
      "285     55.0\n",
      "286     80.0\n",
      "287     52.5\n",
      "288     52.5\n",
      "289     52.5\n",
      "290     80.0\n",
      "291     80.0\n",
      "292     80.0\n",
      "298     70.0\n",
      "299     70.0\n",
      "300     70.0\n",
      "343     55.0\n",
      "344     55.0\n",
      "347     85.0\n",
      "348     80.0\n",
      "351     60.0\n",
      "352     60.0\n",
      "353     90.0\n",
      "354     80.0\n",
      "355     80.0\n",
      "Name: ZN, dtype: float64\n"
     ]
    }
   ],
   "source": [
    "zn_max2 = data[data['ZN'] > zn_max]['ZN']\n",
    "print(zn_max2)"
   ]
  },
  {
   "cell_type": "code",
   "execution_count": 32,
   "id": "af76911d",
   "metadata": {},
   "outputs": [
    {
     "name": "stdout",
     "output_type": "stream",
     "text": [
      "Empty DataFrame\n",
      "Columns: [CRIM, ZN, INDUS, CHAS, NOX, RM, AGE, DIS, RAD, TAX, PTRATIO, B, LSTAT, MEDV]\n",
      "Index: []\n"
     ]
    }
   ],
   "source": [
    "print(data[data['ZN'] < zn_min])"
   ]
  },
  {
   "cell_type": "code",
   "execution_count": 33,
   "id": "a2db7726",
   "metadata": {},
   "outputs": [
    {
     "name": "stdout",
     "output_type": "stream",
     "text": [
      "3462.5\n"
     ]
    }
   ],
   "source": [
    "print(sum(zn_max2))"
   ]
  },
  {
   "cell_type": "code",
   "execution_count": 34,
   "id": "09e743dd",
   "metadata": {},
   "outputs": [
    {
     "name": "stdout",
     "output_type": "stream",
     "text": [
      "3462.5\n"
     ]
    }
   ],
   "source": [
    "import pandas as pd\n",
    "data = pd.read_csv('boston.csv')\n",
    "zn_mean = data['ZN'].mean()\n",
    "zn_std = data['ZN'].std()\n",
    "zn_max = zn_mean + (1.5 * zn_std)\n",
    "zn_min = zn_mean - (1.5 * zn_std)\n",
    "zn_max2 - data[data['ZN'] > zn_max]['ZN']\n",
    "print(sum(zn_max2))"
   ]
  },
  {
   "cell_type": "markdown",
   "id": "18d44d68",
   "metadata": {},
   "source": [
    "### 4. 사분위수 구하기"
   ]
  },
  {
   "cell_type": "code",
   "execution_count": 35,
   "id": "9a9f578d",
   "metadata": {},
   "outputs": [
    {
     "data": {
      "text/html": [
       "<div>\n",
       "<style scoped>\n",
       "    .dataframe tbody tr th:only-of-type {\n",
       "        vertical-align: middle;\n",
       "    }\n",
       "\n",
       "    .dataframe tbody tr th {\n",
       "        vertical-align: top;\n",
       "    }\n",
       "\n",
       "    .dataframe thead th {\n",
       "        text-align: right;\n",
       "    }\n",
       "</style>\n",
       "<table border=\"1\" class=\"dataframe\">\n",
       "  <thead>\n",
       "    <tr style=\"text-align: right;\">\n",
       "      <th></th>\n",
       "      <th>CRIM</th>\n",
       "      <th>ZN</th>\n",
       "      <th>INDUS</th>\n",
       "      <th>CHAS</th>\n",
       "      <th>NOX</th>\n",
       "      <th>RM</th>\n",
       "      <th>AGE</th>\n",
       "      <th>DIS</th>\n",
       "      <th>RAD</th>\n",
       "      <th>TAX</th>\n",
       "      <th>PTRATIO</th>\n",
       "      <th>B</th>\n",
       "      <th>LSTAT</th>\n",
       "      <th>MEDV</th>\n",
       "    </tr>\n",
       "  </thead>\n",
       "  <tbody>\n",
       "    <tr>\n",
       "      <th>0</th>\n",
       "      <td>0.00632</td>\n",
       "      <td>18.0</td>\n",
       "      <td>2.31</td>\n",
       "      <td>0</td>\n",
       "      <td>0.538</td>\n",
       "      <td>6.575</td>\n",
       "      <td>65.2</td>\n",
       "      <td>4.0900</td>\n",
       "      <td>1</td>\n",
       "      <td>296</td>\n",
       "      <td>15.3</td>\n",
       "      <td>396.90</td>\n",
       "      <td>4.98</td>\n",
       "      <td>24.0</td>\n",
       "    </tr>\n",
       "    <tr>\n",
       "      <th>1</th>\n",
       "      <td>0.02731</td>\n",
       "      <td>0.0</td>\n",
       "      <td>7.07</td>\n",
       "      <td>0</td>\n",
       "      <td>0.469</td>\n",
       "      <td>6.421</td>\n",
       "      <td>78.9</td>\n",
       "      <td>4.9671</td>\n",
       "      <td>2</td>\n",
       "      <td>242</td>\n",
       "      <td>17.8</td>\n",
       "      <td>396.90</td>\n",
       "      <td>9.14</td>\n",
       "      <td>21.6</td>\n",
       "    </tr>\n",
       "    <tr>\n",
       "      <th>2</th>\n",
       "      <td>0.02729</td>\n",
       "      <td>0.0</td>\n",
       "      <td>7.07</td>\n",
       "      <td>0</td>\n",
       "      <td>0.469</td>\n",
       "      <td>7.185</td>\n",
       "      <td>61.1</td>\n",
       "      <td>4.9671</td>\n",
       "      <td>2</td>\n",
       "      <td>242</td>\n",
       "      <td>17.8</td>\n",
       "      <td>392.83</td>\n",
       "      <td>4.03</td>\n",
       "      <td>34.7</td>\n",
       "    </tr>\n",
       "    <tr>\n",
       "      <th>3</th>\n",
       "      <td>0.03237</td>\n",
       "      <td>0.0</td>\n",
       "      <td>2.18</td>\n",
       "      <td>0</td>\n",
       "      <td>0.458</td>\n",
       "      <td>6.998</td>\n",
       "      <td>45.8</td>\n",
       "      <td>6.0622</td>\n",
       "      <td>3</td>\n",
       "      <td>222</td>\n",
       "      <td>18.7</td>\n",
       "      <td>394.63</td>\n",
       "      <td>2.94</td>\n",
       "      <td>33.4</td>\n",
       "    </tr>\n",
       "    <tr>\n",
       "      <th>4</th>\n",
       "      <td>0.06905</td>\n",
       "      <td>0.0</td>\n",
       "      <td>2.18</td>\n",
       "      <td>0</td>\n",
       "      <td>0.458</td>\n",
       "      <td>7.147</td>\n",
       "      <td>54.2</td>\n",
       "      <td>6.0622</td>\n",
       "      <td>3</td>\n",
       "      <td>222</td>\n",
       "      <td>18.7</td>\n",
       "      <td>396.90</td>\n",
       "      <td>5.33</td>\n",
       "      <td>36.2</td>\n",
       "    </tr>\n",
       "  </tbody>\n",
       "</table>\n",
       "</div>"
      ],
      "text/plain": [
       "      CRIM    ZN  INDUS  CHAS    NOX     RM   AGE     DIS  RAD  TAX  PTRATIO  \\\n",
       "0  0.00632  18.0   2.31     0  0.538  6.575  65.2  4.0900    1  296     15.3   \n",
       "1  0.02731   0.0   7.07     0  0.469  6.421  78.9  4.9671    2  242     17.8   \n",
       "2  0.02729   0.0   7.07     0  0.469  7.185  61.1  4.9671    2  242     17.8   \n",
       "3  0.03237   0.0   2.18     0  0.458  6.998  45.8  6.0622    3  222     18.7   \n",
       "4  0.06905   0.0   2.18     0  0.458  7.147  54.2  6.0622    3  222     18.7   \n",
       "\n",
       "        B  LSTAT  MEDV  \n",
       "0  396.90   4.98  24.0  \n",
       "1  396.90   9.14  21.6  \n",
       "2  392.83   4.03  34.7  \n",
       "3  394.63   2.94  33.4  \n",
       "4  396.90   5.33  36.2  "
      ]
     },
     "execution_count": 35,
     "metadata": {},
     "output_type": "execute_result"
    }
   ],
   "source": [
    "data.head()"
   ]
  },
  {
   "cell_type": "code",
   "execution_count": 36,
   "id": "bdf6636f",
   "metadata": {},
   "outputs": [
    {
     "name": "stdout",
     "output_type": "stream",
     "text": [
      "        CRIM    ZN  INDUS    NOX     RM   AGE     DIS  TAX  PTRATIO       B  \\\n",
      "0    0.00632  18.0   2.31  0.538  6.575  65.2  4.0900  296     15.3  396.90   \n",
      "1    0.02731   0.0   7.07  0.469  6.421  78.9  4.9671  242     17.8  396.90   \n",
      "2    0.02729   0.0   7.07  0.469  7.185  61.1  4.9671  242     17.8  392.83   \n",
      "3    0.03237   0.0   2.18  0.458  6.998  45.8  6.0622  222     18.7  394.63   \n",
      "4    0.06905   0.0   2.18  0.458  7.147  54.2  6.0622  222     18.7  396.90   \n",
      "..       ...   ...    ...    ...    ...   ...     ...  ...      ...     ...   \n",
      "501  0.06263   0.0  11.93  0.573  6.593  69.1  2.4786  273     21.0  391.99   \n",
      "502  0.04527   0.0  11.93  0.573    NaN  76.7  2.2875  273     21.0  396.90   \n",
      "503  0.06076   0.0  11.93  0.573  6.976  91.0  2.1675  273     21.0  396.90   \n",
      "504  0.10959   0.0  11.93  0.573  6.794  89.3  2.3889  273     21.0  393.45   \n",
      "505  0.04741   0.0  11.93  0.573  6.030  80.8  2.5050  273     21.0  396.90   \n",
      "\n",
      "     LSTAT  MEDV  \n",
      "0     4.98  24.0  \n",
      "1     9.14  21.6  \n",
      "2     4.03  34.7  \n",
      "3     2.94  33.4  \n",
      "4     5.33  36.2  \n",
      "..     ...   ...  \n",
      "501   9.67  22.4  \n",
      "502   9.08  20.6  \n",
      "503   5.64  23.9  \n",
      "504   6.48  22.0  \n",
      "505   7.88  11.9  \n",
      "\n",
      "[506 rows x 12 columns]\n"
     ]
    }
   ],
   "source": [
    "data_col12 = data.drop(columns= ['CHAS', 'RAD'])\n",
    "print(data_col12)"
   ]
  },
  {
   "cell_type": "code",
   "execution_count": 37,
   "id": "9de148ce",
   "metadata": {},
   "outputs": [
    {
     "name": "stdout",
     "output_type": "stream",
     "text": [
      "             CRIM          ZN       INDUS         NOX          RM         AGE  \\\n",
      "count  506.000000  506.000000  506.000000  506.000000  491.000000  506.000000   \n",
      "mean     3.613524   11.363636   11.136779    0.554695    6.285102   68.574901   \n",
      "std      8.601545   23.322453    6.860353    0.115878    0.708096   28.148861   \n",
      "min      0.006320    0.000000    0.460000    0.385000    3.561000    2.900000   \n",
      "25%      0.082045    0.000000    5.190000    0.449000    5.886000   45.025000   \n",
      "50%      0.256510    0.000000    9.690000    0.538000    6.209000   77.500000   \n",
      "75%      3.677083   12.500000   18.100000    0.624000    6.622000   94.075000   \n",
      "max     88.976200  100.000000   27.740000    0.871000    8.780000  100.000000   \n",
      "\n",
      "              DIS         TAX     PTRATIO           B       LSTAT        MEDV  \n",
      "count  506.000000  506.000000  506.000000  506.000000  506.000000  506.000000  \n",
      "mean     3.795043  408.237154   18.455534  356.674032   12.653063   22.532806  \n",
      "std      2.105710  168.537116    2.164946   91.294864    7.141062    9.197104  \n",
      "min      1.129600  187.000000   12.600000    0.320000    1.730000    5.000000  \n",
      "25%      2.100175  279.000000   17.400000  375.377500    6.950000   17.025000  \n",
      "50%      3.207450  330.000000   19.050000  391.440000   11.360000   21.200000  \n",
      "75%      5.188425  666.000000   20.200000  396.225000   16.955000   25.000000  \n",
      "max     12.126500  711.000000   22.000000  396.900000   37.970000   50.000000  \n"
     ]
    }
   ],
   "source": [
    "data_col12_desc = data_col12.describe()\n",
    "print(data_col12_desc)"
   ]
  },
  {
   "cell_type": "code",
   "execution_count": 38,
   "id": "a45cf096",
   "metadata": {},
   "outputs": [
    {
     "name": "stdout",
     "output_type": "stream",
     "text": [
      "         CRIM    ZN  INDUS    NOX     RM     AGE       DIS    TAX  PTRATIO  \\\n",
      "25%  0.082045   0.0   5.19  0.449  5.886  45.025  2.100175  279.0     17.4   \n",
      "75%  3.677083  12.5  18.10  0.624  6.622  94.075  5.188425  666.0     20.2   \n",
      "\n",
      "            B   LSTAT    MEDV  \n",
      "25%  375.3775   6.950  17.025  \n",
      "75%  396.2250  16.955  25.000  \n"
     ]
    }
   ],
   "source": [
    "print(data_col12_desc.iloc[[4,6]])"
   ]
  },
  {
   "cell_type": "code",
   "execution_count": 39,
   "id": "b39b9db9",
   "metadata": {},
   "outputs": [
    {
     "name": "stdout",
     "output_type": "stream",
     "text": [
      "                25%         75%\n",
      "CRIM       0.082045    3.677083\n",
      "ZN         0.000000   12.500000\n",
      "INDUS      5.190000   18.100000\n",
      "NOX        0.449000    0.624000\n",
      "RM         5.886000    6.622000\n",
      "AGE       45.025000   94.075000\n",
      "DIS        2.100175    5.188425\n",
      "TAX      279.000000  666.000000\n",
      "PTRATIO   17.400000   20.200000\n",
      "B        375.377500  396.225000\n",
      "LSTAT      6.950000   16.955000\n",
      "MEDV      17.025000   25.000000\n"
     ]
    }
   ],
   "source": [
    "data_col12_desc_T = data_col12_desc.iloc[[4,6]].T\n",
    "print(data_col12_desc_T)"
   ]
  },
  {
   "cell_type": "code",
   "execution_count": 40,
   "id": "1be5b8d2",
   "metadata": {},
   "outputs": [
    {
     "name": "stdout",
     "output_type": "stream",
     "text": [
      "CRIM         3.595038\n",
      "ZN          12.500000\n",
      "INDUS       12.910000\n",
      "NOX          0.175000\n",
      "RM           0.736000\n",
      "AGE         49.050000\n",
      "DIS          3.088250\n",
      "TAX        387.000000\n",
      "PTRATIO      2.800000\n",
      "B           20.847500\n",
      "LSTAT       10.005000\n",
      "MEDV         7.975000\n",
      "dtype: float64\n"
     ]
    }
   ],
   "source": [
    "print(data_col12_desc_T['75%'] - data_col12_desc_T['25%'])"
   ]
  },
  {
   "cell_type": "code",
   "execution_count": 41,
   "id": "b478825f",
   "metadata": {},
   "outputs": [
    {
     "name": "stdout",
     "output_type": "stream",
     "text": [
      "CRIM         3.595038\n",
      "ZN          12.500000\n",
      "INDUS       12.910000\n",
      "NOX          0.175000\n",
      "RM           0.736000\n",
      "AGE         49.050000\n",
      "DIS          3.088250\n",
      "TAX        387.000000\n",
      "PTRATIO      2.800000\n",
      "B           20.847500\n",
      "LSTAT       10.005000\n",
      "MEDV         7.975000\n",
      "dtype: float64\n"
     ]
    }
   ],
   "source": [
    "import pandas as pd\n",
    "data = pd.read_csv('boston.csv')\n",
    "data_col12 = data.drop(columns=['CHAS', 'RAD'])\n",
    "data_col12_desc = data_col12.describe()\n",
    "data_col12_desc_T = data_col12_desc.iloc[[4,6]].T\n",
    "print(data_col12_desc_T['75%'] - data_col12_desc_T['25%'])"
   ]
  },
  {
   "cell_type": "markdown",
   "id": "94e14214",
   "metadata": {},
   "source": [
    "### 5. 순위 구하기"
   ]
  },
  {
   "cell_type": "code",
   "execution_count": 1,
   "id": "e2cfba92",
   "metadata": {},
   "outputs": [],
   "source": [
    "import pandas as pd\n",
    "data = pd.read_csv('boston.csv')"
   ]
  },
  {
   "cell_type": "code",
   "execution_count": 4,
   "id": "78ccb5a9",
   "metadata": {},
   "outputs": [
    {
     "name": "stdout",
     "output_type": "stream",
     "text": [
      "(506, 14)\n"
     ]
    }
   ],
   "source": [
    "print(data.shape)"
   ]
  },
  {
   "cell_type": "code",
   "execution_count": 20,
   "id": "eade3268",
   "metadata": {},
   "outputs": [
    {
     "name": "stdout",
     "output_type": "stream",
     "text": [
      "22.179644268774698 21.2 5.0 41.7\n"
     ]
    }
   ],
   "source": [
    "df2 = data.sort_values(by='MEDV', ascending=False)['MEDV']\n",
    "val = df2.iloc[29]\n",
    "df2.iloc[:29] = val\n",
    "print(df2.mean(), df2.median(), df2.min(), df2.max())"
   ]
  },
  {
   "cell_type": "code",
   "execution_count": 22,
   "id": "aeb7bd46",
   "metadata": {},
   "outputs": [
    {
     "name": "stdout",
     "output_type": "stream",
     "text": [
      "0    24.0\n",
      "1    21.6\n",
      "2    34.7\n",
      "Name: MEDV, dtype: float64\n"
     ]
    }
   ],
   "source": [
    "import pandas as pd\n",
    "data = pd.read_csv('boston.csv')\n",
    "print(data['MEDV'].head(3))"
   ]
  },
  {
   "cell_type": "code",
   "execution_count": 24,
   "id": "ab34d2b7",
   "metadata": {},
   "outputs": [
    {
     "name": "stdout",
     "output_type": "stream",
     "text": [
      "283    50.0\n",
      "225    50.0\n",
      "369    50.0\n",
      "370    50.0\n",
      "371    50.0\n",
      "372    50.0\n",
      "186    50.0\n",
      "204    50.0\n",
      "257    50.0\n",
      "195    50.0\n",
      "166    50.0\n",
      "163    50.0\n",
      "267    50.0\n",
      "162    50.0\n",
      "161    50.0\n",
      "368    50.0\n",
      "262    48.8\n",
      "203    48.5\n",
      "233    48.3\n",
      "228    46.7\n",
      "282    46.0\n",
      "280    45.4\n",
      "224    44.8\n",
      "256    44.0\n",
      "98     43.8\n",
      "268    43.5\n",
      "261    43.1\n",
      "253    42.8\n",
      "202    42.3\n",
      "232    41.7\n",
      "Name: MEDV, dtype: float64\n"
     ]
    }
   ],
   "source": [
    "data_new = data['MEDV'].sort_values(ascending = False)\n",
    "print(data_new.head(30))"
   ]
  },
  {
   "cell_type": "code",
   "execution_count": 25,
   "id": "99b9a727",
   "metadata": {},
   "outputs": [
    {
     "name": "stdout",
     "output_type": "stream",
     "text": [
      "41.7\n"
     ]
    }
   ],
   "source": [
    "print(data_new.iloc[29])"
   ]
  },
  {
   "cell_type": "code",
   "execution_count": 26,
   "id": "9ade6b40",
   "metadata": {},
   "outputs": [
    {
     "name": "stdout",
     "output_type": "stream",
     "text": [
      "283    50.0\n",
      "225    50.0\n",
      "369    50.0\n",
      "370    50.0\n",
      "371    50.0\n",
      "372    50.0\n",
      "186    50.0\n",
      "204    50.0\n",
      "257    50.0\n",
      "195    50.0\n",
      "166    50.0\n",
      "163    50.0\n",
      "267    50.0\n",
      "162    50.0\n",
      "161    50.0\n",
      "368    50.0\n",
      "262    48.8\n",
      "203    48.5\n",
      "233    48.3\n",
      "228    46.7\n",
      "282    46.0\n",
      "280    45.4\n",
      "224    44.8\n",
      "256    44.0\n",
      "98     43.8\n",
      "268    43.5\n",
      "261    43.1\n",
      "253    42.8\n",
      "Name: MEDV, dtype: float64\n"
     ]
    }
   ],
   "source": [
    "print(data_new.iloc[0:28])"
   ]
  },
  {
   "cell_type": "code",
   "execution_count": 27,
   "id": "fb2911b0",
   "metadata": {},
   "outputs": [
    {
     "name": "stdout",
     "output_type": "stream",
     "text": [
      "283    41.7\n",
      "225    41.7\n",
      "369    41.7\n",
      "370    41.7\n",
      "371    41.7\n",
      "372    41.7\n",
      "186    41.7\n",
      "204    41.7\n",
      "257    41.7\n",
      "195    41.7\n",
      "166    41.7\n",
      "163    41.7\n",
      "267    41.7\n",
      "162    41.7\n",
      "161    41.7\n",
      "368    41.7\n",
      "262    41.7\n",
      "203    41.7\n",
      "233    41.7\n",
      "228    41.7\n",
      "282    41.7\n",
      "280    41.7\n",
      "224    41.7\n",
      "256    41.7\n",
      "98     41.7\n",
      "268    41.7\n",
      "261    41.7\n",
      "253    41.7\n",
      "Name: MEDV, dtype: float64\n"
     ]
    }
   ],
   "source": [
    "data_new.iloc[0:28] = 41.7\n",
    "print(data_new.iloc[0:28])"
   ]
  },
  {
   "cell_type": "code",
   "execution_count": 28,
   "id": "075dec92",
   "metadata": {},
   "outputs": [
    {
     "name": "stdout",
     "output_type": "stream",
     "text": [
      "22.180830039525684 21.2 5.0 42.3\n"
     ]
    }
   ],
   "source": [
    "print(data_new.mean(), data_new.median(), data_new.min(), data_new.max())"
   ]
  },
  {
   "cell_type": "code",
   "execution_count": null,
   "id": "256f8557",
   "metadata": {},
   "outputs": [],
   "source": []
  }
 ],
 "metadata": {
  "kernelspec": {
   "display_name": "Python 3",
   "language": "python",
   "name": "python3"
  },
  "language_info": {
   "codemirror_mode": {
    "name": "ipython",
    "version": 3
   },
   "file_extension": ".py",
   "mimetype": "text/x-python",
   "name": "python",
   "nbconvert_exporter": "python",
   "pygments_lexer": "ipython3",
   "version": "3.8.8"
  }
 },
 "nbformat": 4,
 "nbformat_minor": 5
}
