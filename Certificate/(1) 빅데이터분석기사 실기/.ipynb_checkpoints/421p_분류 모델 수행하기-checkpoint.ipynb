{
 "cells": [
  {
   "cell_type": "markdown",
   "id": "7e47a1aa",
   "metadata": {},
   "source": [
    "# 1. 데이터 탐색하기"
   ]
  },
  {
   "cell_type": "markdown",
   "id": "f39310a1",
   "metadata": {},
   "source": [
    "### 데이터 가져오기"
   ]
  },
  {
   "cell_type": "code",
   "execution_count": 1,
   "id": "f443ced2",
   "metadata": {},
   "outputs": [
    {
     "name": "stdout",
     "output_type": "stream",
     "text": [
      "                                   0\n",
      "PassengerId                        1\n",
      "티켓등급                               3\n",
      "승객이름         Braund, Mr. Owen Harris\n",
      "성별                              male\n",
      "나이                              22.0\n",
      "형제자매배우자수                           1\n",
      "부모자식수                              0\n",
      "티켓번호                       A/5 21171\n",
      "운임요금                            7.25\n",
      "객실번호                             NaN\n",
      "선착장                                S\n",
      "                            0\n",
      "PassengerId               892\n",
      "티켓등급                        3\n",
      "승객이름         Kelly, Mr. James\n",
      "성별                       male\n",
      "나이                       34.5\n",
      "형제자매배우자수                    0\n",
      "부모자식수                       0\n",
      "티켓번호                   330911\n",
      "운임요금                   7.8292\n",
      "객실번호                      NaN\n",
      "선착장                         Q\n"
     ]
    }
   ],
   "source": [
    "import pandas as pd\n",
    "x_train = pd.read_csv('titanic_x_train.csv', encoding='cp949')\n",
    "x_test = pd.read_csv('titanic_x_test.csv', encoding='cp949')\n",
    "y_train = pd.read_csv('titanic_y_train.csv', encoding='cp949')\n",
    "\n",
    "print(x_train.head(1).T)\n",
    "print(x_test.head(1).T)"
   ]
  },
  {
   "cell_type": "code",
   "execution_count": 2,
   "id": "84135357",
   "metadata": {},
   "outputs": [
    {
     "name": "stdout",
     "output_type": "stream",
     "text": [
      "                            0\n",
      "PassengerId               892\n",
      "티켓등급                        3\n",
      "승객이름         Kelly, Mr. James\n",
      "성별                       male\n",
      "나이                       34.5\n",
      "형제자매배우자수                    0\n",
      "부모자식수                       0\n",
      "티켓번호                   330911\n",
      "운임요금                   7.8292\n",
      "객실번호                      NaN\n",
      "선착장                         Q\n"
     ]
    }
   ],
   "source": [
    "print(x_test.head(1).T)"
   ]
  },
  {
   "cell_type": "code",
   "execution_count": 3,
   "id": "7fa81257",
   "metadata": {},
   "outputs": [
    {
     "name": "stdout",
     "output_type": "stream",
     "text": [
      "   癤풮assengerId  Survived\n",
      "0             1         0\n",
      "1             2         1\n",
      "2             3         1\n",
      "3             4         1\n",
      "4             5         0\n"
     ]
    }
   ],
   "source": [
    "print(y_train.head(5))"
   ]
  },
  {
   "cell_type": "code",
   "execution_count": 4,
   "id": "1cb7caa3",
   "metadata": {},
   "outputs": [],
   "source": [
    "y_train.columns = ['PassengerId', 'Survived']"
   ]
  },
  {
   "cell_type": "code",
   "execution_count": 5,
   "id": "9e12dbb0",
   "metadata": {},
   "outputs": [
    {
     "name": "stdout",
     "output_type": "stream",
     "text": [
      "   PassengerId  Survived\n",
      "0            1         0\n",
      "1            2         1\n",
      "2            3         1\n",
      "3            4         1\n",
      "4            5         0\n"
     ]
    }
   ],
   "source": [
    "print(y_train.head(5))"
   ]
  },
  {
   "cell_type": "markdown",
   "id": "7c00fb28",
   "metadata": {},
   "source": [
    "### 행/열 확인하기"
   ]
  },
  {
   "cell_type": "code",
   "execution_count": 6,
   "id": "5844626e",
   "metadata": {},
   "outputs": [
    {
     "name": "stdout",
     "output_type": "stream",
     "text": [
      "(891, 11)\n"
     ]
    }
   ],
   "source": [
    "print(x_train.shape)"
   ]
  },
  {
   "cell_type": "code",
   "execution_count": 7,
   "id": "ec330975",
   "metadata": {},
   "outputs": [
    {
     "name": "stdout",
     "output_type": "stream",
     "text": [
      "(418, 11)\n"
     ]
    }
   ],
   "source": [
    "print(x_test.shape)"
   ]
  },
  {
   "cell_type": "code",
   "execution_count": 8,
   "id": "c6b42109",
   "metadata": {},
   "outputs": [
    {
     "name": "stdout",
     "output_type": "stream",
     "text": [
      "(891, 2)\n"
     ]
    }
   ],
   "source": [
    "print(y_train.shape)"
   ]
  },
  {
   "cell_type": "markdown",
   "id": "988b7253",
   "metadata": {},
   "source": [
    "### 요약정보 확인하기"
   ]
  },
  {
   "cell_type": "code",
   "execution_count": 9,
   "id": "701ea8f1",
   "metadata": {},
   "outputs": [
    {
     "name": "stdout",
     "output_type": "stream",
     "text": [
      "<class 'pandas.core.frame.DataFrame'>\n",
      "RangeIndex: 891 entries, 0 to 890\n",
      "Data columns (total 11 columns):\n",
      " #   Column       Non-Null Count  Dtype  \n",
      "---  ------       --------------  -----  \n",
      " 0   PassengerId  891 non-null    int64  \n",
      " 1   티켓등급         891 non-null    int64  \n",
      " 2   승객이름         891 non-null    object \n",
      " 3   성별           891 non-null    object \n",
      " 4   나이           714 non-null    float64\n",
      " 5   형제자매배우자수     891 non-null    int64  \n",
      " 6   부모자식수        891 non-null    int64  \n",
      " 7   티켓번호         891 non-null    object \n",
      " 8   운임요금         891 non-null    float64\n",
      " 9   객실번호         204 non-null    object \n",
      " 10  선착장          889 non-null    object \n",
      "dtypes: float64(2), int64(4), object(5)\n",
      "memory usage: 76.7+ KB\n",
      "None\n"
     ]
    }
   ],
   "source": [
    "print(x_train.info())"
   ]
  },
  {
   "cell_type": "code",
   "execution_count": 10,
   "id": "e016cb01",
   "metadata": {},
   "outputs": [
    {
     "name": "stdout",
     "output_type": "stream",
     "text": [
      "2\n"
     ]
    }
   ],
   "source": [
    "print(x_train['성별'].unique().size)"
   ]
  },
  {
   "cell_type": "code",
   "execution_count": 11,
   "id": "ceadfcf2",
   "metadata": {},
   "outputs": [
    {
     "name": "stdout",
     "output_type": "stream",
     "text": [
      "['male' 'female']\n"
     ]
    }
   ],
   "source": [
    "print(x_train['성별'].unique())"
   ]
  },
  {
   "cell_type": "code",
   "execution_count": 12,
   "id": "1b3179df",
   "metadata": {},
   "outputs": [
    {
     "name": "stdout",
     "output_type": "stream",
     "text": [
      "4\n"
     ]
    }
   ],
   "source": [
    "print(x_train['선착장'].unique().size)"
   ]
  },
  {
   "cell_type": "code",
   "execution_count": 13,
   "id": "f5fe599d",
   "metadata": {},
   "outputs": [
    {
     "name": "stdout",
     "output_type": "stream",
     "text": [
      "['S' 'C' 'Q' nan]\n"
     ]
    }
   ],
   "source": [
    "print(x_train['선착장'].unique())"
   ]
  },
  {
   "cell_type": "code",
   "execution_count": 14,
   "id": "a0c7b64e",
   "metadata": {},
   "outputs": [
    {
     "name": "stdout",
     "output_type": "stream",
     "text": [
      "891\n",
      "681\n",
      "148\n"
     ]
    }
   ],
   "source": [
    "print(x_train['승객이름'].unique().size)\n",
    "print(x_train['티켓번호'].unique().size)\n",
    "print(x_train['객실번호'].unique().size)"
   ]
  },
  {
   "cell_type": "markdown",
   "id": "f1649609",
   "metadata": {},
   "source": [
    "### 기초 통계량 확인하기"
   ]
  },
  {
   "cell_type": "code",
   "execution_count": 15,
   "id": "597ee8d0",
   "metadata": {},
   "outputs": [
    {
     "name": "stdout",
     "output_type": "stream",
     "text": [
      "             count        mean         std   min       25%       50%    75%  \\\n",
      "PassengerId  891.0  446.000000  257.353842  1.00  223.5000  446.0000  668.5   \n",
      "티켓등급         891.0    2.308642    0.836071  1.00    2.0000    3.0000    3.0   \n",
      "나이           714.0   29.699118   14.526497  0.42   20.1250   28.0000   38.0   \n",
      "형제자매배우자수     891.0    0.523008    1.102743  0.00    0.0000    0.0000    1.0   \n",
      "부모자식수        891.0    0.381594    0.806057  0.00    0.0000    0.0000    0.0   \n",
      "운임요금         891.0   32.204208   49.693429  0.00    7.9104   14.4542   31.0   \n",
      "\n",
      "                  max  \n",
      "PassengerId  891.0000  \n",
      "티켓등급           3.0000  \n",
      "나이            80.0000  \n",
      "형제자매배우자수       8.0000  \n",
      "부모자식수          6.0000  \n",
      "운임요금         512.3292  \n"
     ]
    }
   ],
   "source": [
    "print(x_train.describe().T)"
   ]
  },
  {
   "cell_type": "code",
   "execution_count": 16,
   "id": "62cd80d2",
   "metadata": {},
   "outputs": [
    {
     "data": {
      "text/html": [
       "<div>\n",
       "<style scoped>\n",
       "    .dataframe tbody tr th:only-of-type {\n",
       "        vertical-align: middle;\n",
       "    }\n",
       "\n",
       "    .dataframe tbody tr th {\n",
       "        vertical-align: top;\n",
       "    }\n",
       "\n",
       "    .dataframe thead th {\n",
       "        text-align: right;\n",
       "    }\n",
       "</style>\n",
       "<table border=\"1\" class=\"dataframe\">\n",
       "  <thead>\n",
       "    <tr style=\"text-align: right;\">\n",
       "      <th></th>\n",
       "      <th>count</th>\n",
       "      <th>mean</th>\n",
       "      <th>std</th>\n",
       "      <th>min</th>\n",
       "      <th>25%</th>\n",
       "      <th>50%</th>\n",
       "      <th>75%</th>\n",
       "      <th>max</th>\n",
       "    </tr>\n",
       "  </thead>\n",
       "  <tbody>\n",
       "    <tr>\n",
       "      <th>PassengerId</th>\n",
       "      <td>891.0</td>\n",
       "      <td>446.000000</td>\n",
       "      <td>257.353842</td>\n",
       "      <td>1.00</td>\n",
       "      <td>223.5000</td>\n",
       "      <td>446.0000</td>\n",
       "      <td>668.5</td>\n",
       "      <td>891.0000</td>\n",
       "    </tr>\n",
       "    <tr>\n",
       "      <th>티켓등급</th>\n",
       "      <td>891.0</td>\n",
       "      <td>2.308642</td>\n",
       "      <td>0.836071</td>\n",
       "      <td>1.00</td>\n",
       "      <td>2.0000</td>\n",
       "      <td>3.0000</td>\n",
       "      <td>3.0</td>\n",
       "      <td>3.0000</td>\n",
       "    </tr>\n",
       "    <tr>\n",
       "      <th>나이</th>\n",
       "      <td>714.0</td>\n",
       "      <td>29.699118</td>\n",
       "      <td>14.526497</td>\n",
       "      <td>0.42</td>\n",
       "      <td>20.1250</td>\n",
       "      <td>28.0000</td>\n",
       "      <td>38.0</td>\n",
       "      <td>80.0000</td>\n",
       "    </tr>\n",
       "    <tr>\n",
       "      <th>형제자매배우자수</th>\n",
       "      <td>891.0</td>\n",
       "      <td>0.523008</td>\n",
       "      <td>1.102743</td>\n",
       "      <td>0.00</td>\n",
       "      <td>0.0000</td>\n",
       "      <td>0.0000</td>\n",
       "      <td>1.0</td>\n",
       "      <td>8.0000</td>\n",
       "    </tr>\n",
       "    <tr>\n",
       "      <th>부모자식수</th>\n",
       "      <td>891.0</td>\n",
       "      <td>0.381594</td>\n",
       "      <td>0.806057</td>\n",
       "      <td>0.00</td>\n",
       "      <td>0.0000</td>\n",
       "      <td>0.0000</td>\n",
       "      <td>0.0</td>\n",
       "      <td>6.0000</td>\n",
       "    </tr>\n",
       "    <tr>\n",
       "      <th>운임요금</th>\n",
       "      <td>891.0</td>\n",
       "      <td>32.204208</td>\n",
       "      <td>49.693429</td>\n",
       "      <td>0.00</td>\n",
       "      <td>7.9104</td>\n",
       "      <td>14.4542</td>\n",
       "      <td>31.0</td>\n",
       "      <td>512.3292</td>\n",
       "    </tr>\n",
       "  </tbody>\n",
       "</table>\n",
       "</div>"
      ],
      "text/plain": [
       "             count        mean         std   min       25%       50%    75%  \\\n",
       "PassengerId  891.0  446.000000  257.353842  1.00  223.5000  446.0000  668.5   \n",
       "티켓등급         891.0    2.308642    0.836071  1.00    2.0000    3.0000    3.0   \n",
       "나이           714.0   29.699118   14.526497  0.42   20.1250   28.0000   38.0   \n",
       "형제자매배우자수     891.0    0.523008    1.102743  0.00    0.0000    0.0000    1.0   \n",
       "부모자식수        891.0    0.381594    0.806057  0.00    0.0000    0.0000    0.0   \n",
       "운임요금         891.0   32.204208   49.693429  0.00    7.9104   14.4542   31.0   \n",
       "\n",
       "                  max  \n",
       "PassengerId  891.0000  \n",
       "티켓등급           3.0000  \n",
       "나이            80.0000  \n",
       "형제자매배우자수       8.0000  \n",
       "부모자식수          6.0000  \n",
       "운임요금         512.3292  "
      ]
     },
     "execution_count": 16,
     "metadata": {},
     "output_type": "execute_result"
    }
   ],
   "source": [
    "x_train.describe().T"
   ]
  },
  {
   "cell_type": "markdown",
   "id": "9da5b0fb",
   "metadata": {},
   "source": [
    "### 독립변수와 종속변수의 관계 확인하기"
   ]
  },
  {
   "cell_type": "code",
   "execution_count": 17,
   "id": "dad7c514",
   "metadata": {},
   "outputs": [
    {
     "data": {
      "text/html": [
       "<div>\n",
       "<style scoped>\n",
       "    .dataframe tbody tr th:only-of-type {\n",
       "        vertical-align: middle;\n",
       "    }\n",
       "\n",
       "    .dataframe tbody tr th {\n",
       "        vertical-align: top;\n",
       "    }\n",
       "\n",
       "    .dataframe thead th {\n",
       "        text-align: right;\n",
       "    }\n",
       "</style>\n",
       "<table border=\"1\" class=\"dataframe\">\n",
       "  <thead>\n",
       "    <tr style=\"text-align: right;\">\n",
       "      <th></th>\n",
       "      <th>PassengerId</th>\n",
       "      <th>티켓등급</th>\n",
       "      <th>승객이름</th>\n",
       "      <th>성별</th>\n",
       "      <th>나이</th>\n",
       "      <th>형제자매배우자수</th>\n",
       "      <th>부모자식수</th>\n",
       "      <th>티켓번호</th>\n",
       "      <th>운임요금</th>\n",
       "      <th>객실번호</th>\n",
       "      <th>선착장</th>\n",
       "      <th>PassengerId</th>\n",
       "      <th>Survived</th>\n",
       "    </tr>\n",
       "  </thead>\n",
       "  <tbody>\n",
       "    <tr>\n",
       "      <th>0</th>\n",
       "      <td>1</td>\n",
       "      <td>3</td>\n",
       "      <td>Braund, Mr. Owen Harris</td>\n",
       "      <td>male</td>\n",
       "      <td>22.0</td>\n",
       "      <td>1</td>\n",
       "      <td>0</td>\n",
       "      <td>A/5 21171</td>\n",
       "      <td>7.2500</td>\n",
       "      <td>NaN</td>\n",
       "      <td>S</td>\n",
       "      <td>1</td>\n",
       "      <td>0</td>\n",
       "    </tr>\n",
       "    <tr>\n",
       "      <th>1</th>\n",
       "      <td>2</td>\n",
       "      <td>1</td>\n",
       "      <td>Cumings, Mrs. John Bradley (Florence Briggs Th...</td>\n",
       "      <td>female</td>\n",
       "      <td>38.0</td>\n",
       "      <td>1</td>\n",
       "      <td>0</td>\n",
       "      <td>PC 17599</td>\n",
       "      <td>71.2833</td>\n",
       "      <td>C85</td>\n",
       "      <td>C</td>\n",
       "      <td>2</td>\n",
       "      <td>1</td>\n",
       "    </tr>\n",
       "    <tr>\n",
       "      <th>2</th>\n",
       "      <td>3</td>\n",
       "      <td>3</td>\n",
       "      <td>Heikkinen, Miss. Laina</td>\n",
       "      <td>female</td>\n",
       "      <td>26.0</td>\n",
       "      <td>0</td>\n",
       "      <td>0</td>\n",
       "      <td>STON/O2. 3101282</td>\n",
       "      <td>7.9250</td>\n",
       "      <td>NaN</td>\n",
       "      <td>S</td>\n",
       "      <td>3</td>\n",
       "      <td>1</td>\n",
       "    </tr>\n",
       "    <tr>\n",
       "      <th>3</th>\n",
       "      <td>4</td>\n",
       "      <td>1</td>\n",
       "      <td>Futrelle, Mrs. Jacques Heath (Lily May Peel)</td>\n",
       "      <td>female</td>\n",
       "      <td>35.0</td>\n",
       "      <td>1</td>\n",
       "      <td>0</td>\n",
       "      <td>113803</td>\n",
       "      <td>53.1000</td>\n",
       "      <td>C123</td>\n",
       "      <td>S</td>\n",
       "      <td>4</td>\n",
       "      <td>1</td>\n",
       "    </tr>\n",
       "    <tr>\n",
       "      <th>4</th>\n",
       "      <td>5</td>\n",
       "      <td>3</td>\n",
       "      <td>Allen, Mr. William Henry</td>\n",
       "      <td>male</td>\n",
       "      <td>35.0</td>\n",
       "      <td>0</td>\n",
       "      <td>0</td>\n",
       "      <td>373450</td>\n",
       "      <td>8.0500</td>\n",
       "      <td>NaN</td>\n",
       "      <td>S</td>\n",
       "      <td>5</td>\n",
       "      <td>0</td>\n",
       "    </tr>\n",
       "  </tbody>\n",
       "</table>\n",
       "</div>"
      ],
      "text/plain": [
       "   PassengerId  티켓등급                                               승객이름  \\\n",
       "0            1     3                            Braund, Mr. Owen Harris   \n",
       "1            2     1  Cumings, Mrs. John Bradley (Florence Briggs Th...   \n",
       "2            3     3                             Heikkinen, Miss. Laina   \n",
       "3            4     1       Futrelle, Mrs. Jacques Heath (Lily May Peel)   \n",
       "4            5     3                           Allen, Mr. William Henry   \n",
       "\n",
       "       성별    나이  형제자매배우자수  부모자식수              티켓번호     운임요금  객실번호 선착장  \\\n",
       "0    male  22.0         1      0         A/5 21171   7.2500   NaN   S   \n",
       "1  female  38.0         1      0          PC 17599  71.2833   C85   C   \n",
       "2  female  26.0         0      0  STON/O2. 3101282   7.9250   NaN   S   \n",
       "3  female  35.0         1      0            113803  53.1000  C123   S   \n",
       "4    male  35.0         0      0            373450   8.0500   NaN   S   \n",
       "\n",
       "   PassengerId  Survived  \n",
       "0            1         0  \n",
       "1            2         1  \n",
       "2            3         1  \n",
       "3            4         1  \n",
       "4            5         0  "
      ]
     },
     "execution_count": 17,
     "metadata": {},
     "output_type": "execute_result"
    }
   ],
   "source": [
    "data = pd.concat([x_train, y_train], axis=1)\n",
    "data.head()"
   ]
  },
  {
   "cell_type": "code",
   "execution_count": 18,
   "id": "08fe60f0",
   "metadata": {},
   "outputs": [
    {
     "name": "stdout",
     "output_type": "stream",
     "text": [
      "성별\n",
      "female    0.742038\n",
      "male      0.188908\n",
      "Name: Survived, dtype: float64\n"
     ]
    }
   ],
   "source": [
    "print(data.groupby(['성별'])['Survived'].mean())"
   ]
  },
  {
   "cell_type": "code",
   "execution_count": 19,
   "id": "68058705",
   "metadata": {},
   "outputs": [
    {
     "name": "stdout",
     "output_type": "stream",
     "text": [
      "티켓등급\n",
      "1    0.629630\n",
      "2    0.472826\n",
      "3    0.242363\n",
      "Name: Survived, dtype: float64\n"
     ]
    }
   ],
   "source": [
    "print(data.groupby(['티켓등급'])['Survived'].mean())"
   ]
  },
  {
   "cell_type": "code",
   "execution_count": 20,
   "id": "bdf9234f",
   "metadata": {},
   "outputs": [
    {
     "name": "stdout",
     "output_type": "stream",
     "text": [
      "선착장\n",
      "C    0.553571\n",
      "Q    0.389610\n",
      "S    0.336957\n",
      "Name: Survived, dtype: float64\n"
     ]
    }
   ],
   "source": [
    "print(data.groupby(['선착장'])['Survived'].mean())"
   ]
  },
  {
   "cell_type": "markdown",
   "id": "9e8e6743",
   "metadata": {},
   "source": [
    "# 2. 전처리하기"
   ]
  },
  {
   "cell_type": "markdown",
   "id": "7ce5ce3e",
   "metadata": {},
   "source": [
    "### 불필요한 칼럼 삭제하기"
   ]
  },
  {
   "cell_type": "code",
   "execution_count": 21,
   "id": "24248dc7",
   "metadata": {},
   "outputs": [
    {
     "name": "stdout",
     "output_type": "stream",
     "text": [
      "   티켓등급                                               승객이름      성별    나이  \\\n",
      "0     3                            Braund, Mr. Owen Harris    male  22.0   \n",
      "1     1  Cumings, Mrs. John Bradley (Florence Briggs Th...  female  38.0   \n",
      "2     3                             Heikkinen, Miss. Laina  female  26.0   \n",
      "3     1       Futrelle, Mrs. Jacques Heath (Lily May Peel)  female  35.0   \n",
      "4     3                           Allen, Mr. William Henry    male  35.0   \n",
      "\n",
      "   형제자매배우자수  부모자식수              티켓번호     운임요금  객실번호 선착장  \n",
      "0         1      0         A/5 21171   7.2500   NaN   S  \n",
      "1         1      0          PC 17599  71.2833   C85   C  \n",
      "2         0      0  STON/O2. 3101282   7.9250   NaN   S  \n",
      "3         1      0            113803  53.1000  C123   S  \n",
      "4         0      0            373450   8.0500   NaN   S  \n"
     ]
    }
   ],
   "source": [
    "x_test_passenger_id = x_test['PassengerId']\n",
    "x_train = x_train.drop(columns = ['PassengerId'])\n",
    "y_train = y_train.drop(columns = ['PassengerId'])\n",
    "x_test = x_test.drop(columns = ['PassengerId'])\n",
    "\n",
    "print(x_train.head())"
   ]
  },
  {
   "cell_type": "code",
   "execution_count": 22,
   "id": "a4cc5833",
   "metadata": {},
   "outputs": [
    {
     "data": {
      "text/html": [
       "<div>\n",
       "<style scoped>\n",
       "    .dataframe tbody tr th:only-of-type {\n",
       "        vertical-align: middle;\n",
       "    }\n",
       "\n",
       "    .dataframe tbody tr th {\n",
       "        vertical-align: top;\n",
       "    }\n",
       "\n",
       "    .dataframe thead th {\n",
       "        text-align: right;\n",
       "    }\n",
       "</style>\n",
       "<table border=\"1\" class=\"dataframe\">\n",
       "  <thead>\n",
       "    <tr style=\"text-align: right;\">\n",
       "      <th></th>\n",
       "      <th>티켓등급</th>\n",
       "      <th>승객이름</th>\n",
       "      <th>성별</th>\n",
       "      <th>나이</th>\n",
       "      <th>형제자매배우자수</th>\n",
       "      <th>부모자식수</th>\n",
       "      <th>티켓번호</th>\n",
       "      <th>운임요금</th>\n",
       "      <th>객실번호</th>\n",
       "      <th>선착장</th>\n",
       "    </tr>\n",
       "  </thead>\n",
       "  <tbody>\n",
       "    <tr>\n",
       "      <th>0</th>\n",
       "      <td>3</td>\n",
       "      <td>Braund, Mr. Owen Harris</td>\n",
       "      <td>male</td>\n",
       "      <td>22.0</td>\n",
       "      <td>1</td>\n",
       "      <td>0</td>\n",
       "      <td>A/5 21171</td>\n",
       "      <td>7.2500</td>\n",
       "      <td>NaN</td>\n",
       "      <td>S</td>\n",
       "    </tr>\n",
       "    <tr>\n",
       "      <th>1</th>\n",
       "      <td>1</td>\n",
       "      <td>Cumings, Mrs. John Bradley (Florence Briggs Th...</td>\n",
       "      <td>female</td>\n",
       "      <td>38.0</td>\n",
       "      <td>1</td>\n",
       "      <td>0</td>\n",
       "      <td>PC 17599</td>\n",
       "      <td>71.2833</td>\n",
       "      <td>C85</td>\n",
       "      <td>C</td>\n",
       "    </tr>\n",
       "    <tr>\n",
       "      <th>2</th>\n",
       "      <td>3</td>\n",
       "      <td>Heikkinen, Miss. Laina</td>\n",
       "      <td>female</td>\n",
       "      <td>26.0</td>\n",
       "      <td>0</td>\n",
       "      <td>0</td>\n",
       "      <td>STON/O2. 3101282</td>\n",
       "      <td>7.9250</td>\n",
       "      <td>NaN</td>\n",
       "      <td>S</td>\n",
       "    </tr>\n",
       "    <tr>\n",
       "      <th>3</th>\n",
       "      <td>1</td>\n",
       "      <td>Futrelle, Mrs. Jacques Heath (Lily May Peel)</td>\n",
       "      <td>female</td>\n",
       "      <td>35.0</td>\n",
       "      <td>1</td>\n",
       "      <td>0</td>\n",
       "      <td>113803</td>\n",
       "      <td>53.1000</td>\n",
       "      <td>C123</td>\n",
       "      <td>S</td>\n",
       "    </tr>\n",
       "    <tr>\n",
       "      <th>4</th>\n",
       "      <td>3</td>\n",
       "      <td>Allen, Mr. William Henry</td>\n",
       "      <td>male</td>\n",
       "      <td>35.0</td>\n",
       "      <td>0</td>\n",
       "      <td>0</td>\n",
       "      <td>373450</td>\n",
       "      <td>8.0500</td>\n",
       "      <td>NaN</td>\n",
       "      <td>S</td>\n",
       "    </tr>\n",
       "  </tbody>\n",
       "</table>\n",
       "</div>"
      ],
      "text/plain": [
       "   티켓등급                                               승객이름      성별    나이  \\\n",
       "0     3                            Braund, Mr. Owen Harris    male  22.0   \n",
       "1     1  Cumings, Mrs. John Bradley (Florence Briggs Th...  female  38.0   \n",
       "2     3                             Heikkinen, Miss. Laina  female  26.0   \n",
       "3     1       Futrelle, Mrs. Jacques Heath (Lily May Peel)  female  35.0   \n",
       "4     3                           Allen, Mr. William Henry    male  35.0   \n",
       "\n",
       "   형제자매배우자수  부모자식수              티켓번호     운임요금  객실번호 선착장  \n",
       "0         1      0         A/5 21171   7.2500   NaN   S  \n",
       "1         1      0          PC 17599  71.2833   C85   C  \n",
       "2         0      0  STON/O2. 3101282   7.9250   NaN   S  \n",
       "3         1      0            113803  53.1000  C123   S  \n",
       "4         0      0            373450   8.0500   NaN   S  "
      ]
     },
     "execution_count": 22,
     "metadata": {},
     "output_type": "execute_result"
    }
   ],
   "source": [
    "x_train.head()"
   ]
  },
  {
   "cell_type": "code",
   "execution_count": 23,
   "id": "805523eb",
   "metadata": {},
   "outputs": [
    {
     "name": "stdout",
     "output_type": "stream",
     "text": [
      "   Survived\n",
      "0         0\n",
      "1         1\n",
      "2         1\n",
      "3         1\n",
      "4         0\n"
     ]
    }
   ],
   "source": [
    "print(y_train.head())"
   ]
  },
  {
   "cell_type": "code",
   "execution_count": 24,
   "id": "9fc73686",
   "metadata": {},
   "outputs": [],
   "source": [
    "x_train = x_train.drop(columns = ['티켓번호'])\n",
    "x_test = x_test.drop(columns = ['티켓번호'])"
   ]
  },
  {
   "cell_type": "code",
   "execution_count": 25,
   "id": "435ea417",
   "metadata": {},
   "outputs": [],
   "source": [
    "x_train = x_train.drop(columns = ['승객이름'])\n",
    "x_test = x_test.drop(columns = ['승객이름'])"
   ]
  },
  {
   "cell_type": "markdown",
   "id": "7d580cd8",
   "metadata": {},
   "source": [
    "### 결측치 처리하기"
   ]
  },
  {
   "cell_type": "code",
   "execution_count": 26,
   "id": "4cd3ec49",
   "metadata": {},
   "outputs": [
    {
     "name": "stdout",
     "output_type": "stream",
     "text": [
      "177\n"
     ]
    }
   ],
   "source": [
    "print(x_train['나이'].isnull().sum())"
   ]
  },
  {
   "cell_type": "code",
   "execution_count": 27,
   "id": "f9583cf1",
   "metadata": {},
   "outputs": [
    {
     "name": "stdout",
     "output_type": "stream",
     "text": [
      "687\n"
     ]
    }
   ],
   "source": [
    "print(x_train['객실번호'].isnull().sum())"
   ]
  },
  {
   "cell_type": "code",
   "execution_count": 28,
   "id": "a1917747",
   "metadata": {},
   "outputs": [
    {
     "name": "stdout",
     "output_type": "stream",
     "text": [
      "2\n"
     ]
    }
   ],
   "source": [
    "print(x_train['선착장'].isnull().sum())"
   ]
  },
  {
   "cell_type": "code",
   "execution_count": 29,
   "id": "cd9b25b4",
   "metadata": {},
   "outputs": [
    {
     "name": "stdout",
     "output_type": "stream",
     "text": [
      "                나이  Survived\n",
      "나이        1.000000 -0.077221\n",
      "Survived -0.077221  1.000000\n"
     ]
    }
   ],
   "source": [
    "print(data[['나이', 'Survived']].corr())"
   ]
  },
  {
   "cell_type": "code",
   "execution_count": 30,
   "id": "b8823bd8",
   "metadata": {},
   "outputs": [
    {
     "data": {
      "text/html": [
       "<div>\n",
       "<style scoped>\n",
       "    .dataframe tbody tr th:only-of-type {\n",
       "        vertical-align: middle;\n",
       "    }\n",
       "\n",
       "    .dataframe tbody tr th {\n",
       "        vertical-align: top;\n",
       "    }\n",
       "\n",
       "    .dataframe thead th {\n",
       "        text-align: right;\n",
       "    }\n",
       "</style>\n",
       "<table border=\"1\" class=\"dataframe\">\n",
       "  <thead>\n",
       "    <tr style=\"text-align: right;\">\n",
       "      <th></th>\n",
       "      <th>나이</th>\n",
       "      <th>Survived</th>\n",
       "    </tr>\n",
       "  </thead>\n",
       "  <tbody>\n",
       "    <tr>\n",
       "      <th>나이</th>\n",
       "      <td>1.000000</td>\n",
       "      <td>-0.077221</td>\n",
       "    </tr>\n",
       "    <tr>\n",
       "      <th>Survived</th>\n",
       "      <td>-0.077221</td>\n",
       "      <td>1.000000</td>\n",
       "    </tr>\n",
       "  </tbody>\n",
       "</table>\n",
       "</div>"
      ],
      "text/plain": [
       "                나이  Survived\n",
       "나이        1.000000 -0.077221\n",
       "Survived -0.077221  1.000000"
      ]
     },
     "execution_count": 30,
     "metadata": {},
     "output_type": "execute_result"
    }
   ],
   "source": [
    "data[['나이', 'Survived']].corr()"
   ]
  },
  {
   "cell_type": "code",
   "execution_count": 31,
   "id": "eaf27c31",
   "metadata": {},
   "outputs": [],
   "source": [
    "x_train = x_train.drop(columns = ['나이'])\n",
    "x_test = x_test.drop(columns = ['나이'])"
   ]
  },
  {
   "cell_type": "code",
   "execution_count": 32,
   "id": "a9568aeb",
   "metadata": {},
   "outputs": [
    {
     "name": "stdout",
     "output_type": "stream",
     "text": [
      "148\n"
     ]
    }
   ],
   "source": [
    "print(x_train['객실번호'].unique().size)"
   ]
  },
  {
   "cell_type": "code",
   "execution_count": 33,
   "id": "ea1000aa",
   "metadata": {},
   "outputs": [],
   "source": [
    "x_train = x_train.drop(columns = ['객실번호'])\n",
    "x_test = x_test.drop(columns = ['객실번호'])"
   ]
  },
  {
   "cell_type": "code",
   "execution_count": 34,
   "id": "4c3c5e19",
   "metadata": {},
   "outputs": [
    {
     "name": "stdout",
     "output_type": "stream",
     "text": [
      "선착장\n",
      "C    168\n",
      "Q     77\n",
      "S    644\n",
      "Name: 선착장, dtype: int64\n"
     ]
    }
   ],
   "source": [
    "print(x_train.groupby(['선착장'])['선착장'].count())"
   ]
  },
  {
   "cell_type": "code",
   "execution_count": 35,
   "id": "7c2177b8",
   "metadata": {},
   "outputs": [
    {
     "name": "stdout",
     "output_type": "stream",
     "text": [
      "0\n"
     ]
    }
   ],
   "source": [
    "x_train['선착장'] = x_train['선착장'].fillna('S')\n",
    "print(x_train['선착장'].isnull().sum())"
   ]
  },
  {
   "cell_type": "code",
   "execution_count": 36,
   "id": "b5af5d66",
   "metadata": {},
   "outputs": [
    {
     "name": "stdout",
     "output_type": "stream",
     "text": [
      "0\n"
     ]
    }
   ],
   "source": [
    "print(x_test['선착장'].isnull().sum())"
   ]
  },
  {
   "cell_type": "markdown",
   "id": "0f65bfb2",
   "metadata": {},
   "source": [
    "### 범주형 변수를 인코딩하기"
   ]
  },
  {
   "cell_type": "code",
   "execution_count": 37,
   "id": "136e0294",
   "metadata": {},
   "outputs": [
    {
     "data": {
      "text/html": [
       "<div>\n",
       "<style scoped>\n",
       "    .dataframe tbody tr th:only-of-type {\n",
       "        vertical-align: middle;\n",
       "    }\n",
       "\n",
       "    .dataframe tbody tr th {\n",
       "        vertical-align: top;\n",
       "    }\n",
       "\n",
       "    .dataframe thead th {\n",
       "        text-align: right;\n",
       "    }\n",
       "</style>\n",
       "<table border=\"1\" class=\"dataframe\">\n",
       "  <thead>\n",
       "    <tr style=\"text-align: right;\">\n",
       "      <th></th>\n",
       "      <th>티켓등급</th>\n",
       "      <th>성별</th>\n",
       "      <th>형제자매배우자수</th>\n",
       "      <th>부모자식수</th>\n",
       "      <th>운임요금</th>\n",
       "      <th>선착장</th>\n",
       "    </tr>\n",
       "  </thead>\n",
       "  <tbody>\n",
       "    <tr>\n",
       "      <th>0</th>\n",
       "      <td>3</td>\n",
       "      <td>0</td>\n",
       "      <td>1</td>\n",
       "      <td>0</td>\n",
       "      <td>7.2500</td>\n",
       "      <td>S</td>\n",
       "    </tr>\n",
       "    <tr>\n",
       "      <th>1</th>\n",
       "      <td>1</td>\n",
       "      <td>1</td>\n",
       "      <td>1</td>\n",
       "      <td>0</td>\n",
       "      <td>71.2833</td>\n",
       "      <td>C</td>\n",
       "    </tr>\n",
       "    <tr>\n",
       "      <th>2</th>\n",
       "      <td>3</td>\n",
       "      <td>1</td>\n",
       "      <td>0</td>\n",
       "      <td>0</td>\n",
       "      <td>7.9250</td>\n",
       "      <td>S</td>\n",
       "    </tr>\n",
       "    <tr>\n",
       "      <th>3</th>\n",
       "      <td>1</td>\n",
       "      <td>1</td>\n",
       "      <td>1</td>\n",
       "      <td>0</td>\n",
       "      <td>53.1000</td>\n",
       "      <td>S</td>\n",
       "    </tr>\n",
       "    <tr>\n",
       "      <th>4</th>\n",
       "      <td>3</td>\n",
       "      <td>0</td>\n",
       "      <td>0</td>\n",
       "      <td>0</td>\n",
       "      <td>8.0500</td>\n",
       "      <td>S</td>\n",
       "    </tr>\n",
       "  </tbody>\n",
       "</table>\n",
       "</div>"
      ],
      "text/plain": [
       "   티켓등급  성별  형제자매배우자수  부모자식수     운임요금 선착장\n",
       "0     3   0         1      0   7.2500   S\n",
       "1     1   1         1      0  71.2833   C\n",
       "2     3   1         0      0   7.9250   S\n",
       "3     1   1         1      0  53.1000   S\n",
       "4     3   0         0      0   8.0500   S"
      ]
     },
     "execution_count": 37,
     "metadata": {},
     "output_type": "execute_result"
    }
   ],
   "source": [
    "x_train['성별'] = x_train['성별'].replace('male',0).replace('female',1)\n",
    "x_test['성별'] = x_test['성별'].replace('male',0).replace('female',1)\n",
    "x_train.head(5)"
   ]
  },
  {
   "cell_type": "code",
   "execution_count": 38,
   "id": "feb66b48",
   "metadata": {},
   "outputs": [
    {
     "data": {
      "text/html": [
       "<div>\n",
       "<style scoped>\n",
       "    .dataframe tbody tr th:only-of-type {\n",
       "        vertical-align: middle;\n",
       "    }\n",
       "\n",
       "    .dataframe tbody tr th {\n",
       "        vertical-align: top;\n",
       "    }\n",
       "\n",
       "    .dataframe thead th {\n",
       "        text-align: right;\n",
       "    }\n",
       "</style>\n",
       "<table border=\"1\" class=\"dataframe\">\n",
       "  <thead>\n",
       "    <tr style=\"text-align: right;\">\n",
       "      <th></th>\n",
       "      <th>선착장Q</th>\n",
       "      <th>선착장S</th>\n",
       "    </tr>\n",
       "  </thead>\n",
       "  <tbody>\n",
       "    <tr>\n",
       "      <th>0</th>\n",
       "      <td>0</td>\n",
       "      <td>1</td>\n",
       "    </tr>\n",
       "    <tr>\n",
       "      <th>1</th>\n",
       "      <td>0</td>\n",
       "      <td>0</td>\n",
       "    </tr>\n",
       "    <tr>\n",
       "      <th>2</th>\n",
       "      <td>0</td>\n",
       "      <td>1</td>\n",
       "    </tr>\n",
       "    <tr>\n",
       "      <th>3</th>\n",
       "      <td>0</td>\n",
       "      <td>1</td>\n",
       "    </tr>\n",
       "    <tr>\n",
       "      <th>4</th>\n",
       "      <td>0</td>\n",
       "      <td>1</td>\n",
       "    </tr>\n",
       "  </tbody>\n",
       "</table>\n",
       "</div>"
      ],
      "text/plain": [
       "   선착장Q  선착장S\n",
       "0     0     1\n",
       "1     0     0\n",
       "2     0     1\n",
       "3     0     1\n",
       "4     0     1"
      ]
     },
     "execution_count": 38,
     "metadata": {},
     "output_type": "execute_result"
    }
   ],
   "source": [
    "선착장_dummy = pd.get_dummies(x_train['선착장'], drop_first=True)\\\n",
    "                .rename(columns={'Q':'선착장Q', 'S':'선착장S'})\n",
    "선착장_dummy.head()"
   ]
  },
  {
   "cell_type": "code",
   "execution_count": 39,
   "id": "ca2cb7c7",
   "metadata": {},
   "outputs": [
    {
     "data": {
      "text/html": [
       "<div>\n",
       "<style scoped>\n",
       "    .dataframe tbody tr th:only-of-type {\n",
       "        vertical-align: middle;\n",
       "    }\n",
       "\n",
       "    .dataframe tbody tr th {\n",
       "        vertical-align: top;\n",
       "    }\n",
       "\n",
       "    .dataframe thead th {\n",
       "        text-align: right;\n",
       "    }\n",
       "</style>\n",
       "<table border=\"1\" class=\"dataframe\">\n",
       "  <thead>\n",
       "    <tr style=\"text-align: right;\">\n",
       "      <th></th>\n",
       "      <th>티켓등급</th>\n",
       "      <th>성별</th>\n",
       "      <th>형제자매배우자수</th>\n",
       "      <th>부모자식수</th>\n",
       "      <th>운임요금</th>\n",
       "      <th>선착장</th>\n",
       "      <th>선착장Q</th>\n",
       "      <th>선착장S</th>\n",
       "    </tr>\n",
       "  </thead>\n",
       "  <tbody>\n",
       "    <tr>\n",
       "      <th>0</th>\n",
       "      <td>3</td>\n",
       "      <td>0</td>\n",
       "      <td>1</td>\n",
       "      <td>0</td>\n",
       "      <td>7.2500</td>\n",
       "      <td>S</td>\n",
       "      <td>0</td>\n",
       "      <td>1</td>\n",
       "    </tr>\n",
       "    <tr>\n",
       "      <th>1</th>\n",
       "      <td>1</td>\n",
       "      <td>1</td>\n",
       "      <td>1</td>\n",
       "      <td>0</td>\n",
       "      <td>71.2833</td>\n",
       "      <td>C</td>\n",
       "      <td>0</td>\n",
       "      <td>0</td>\n",
       "    </tr>\n",
       "    <tr>\n",
       "      <th>2</th>\n",
       "      <td>3</td>\n",
       "      <td>1</td>\n",
       "      <td>0</td>\n",
       "      <td>0</td>\n",
       "      <td>7.9250</td>\n",
       "      <td>S</td>\n",
       "      <td>0</td>\n",
       "      <td>1</td>\n",
       "    </tr>\n",
       "    <tr>\n",
       "      <th>3</th>\n",
       "      <td>1</td>\n",
       "      <td>1</td>\n",
       "      <td>1</td>\n",
       "      <td>0</td>\n",
       "      <td>53.1000</td>\n",
       "      <td>S</td>\n",
       "      <td>0</td>\n",
       "      <td>1</td>\n",
       "    </tr>\n",
       "    <tr>\n",
       "      <th>4</th>\n",
       "      <td>3</td>\n",
       "      <td>0</td>\n",
       "      <td>0</td>\n",
       "      <td>0</td>\n",
       "      <td>8.0500</td>\n",
       "      <td>S</td>\n",
       "      <td>0</td>\n",
       "      <td>1</td>\n",
       "    </tr>\n",
       "  </tbody>\n",
       "</table>\n",
       "</div>"
      ],
      "text/plain": [
       "   티켓등급  성별  형제자매배우자수  부모자식수     운임요금 선착장  선착장Q  선착장S\n",
       "0     3   0         1      0   7.2500   S     0     1\n",
       "1     1   1         1      0  71.2833   C     0     0\n",
       "2     3   1         0      0   7.9250   S     0     1\n",
       "3     1   1         1      0  53.1000   S     0     1\n",
       "4     3   0         0      0   8.0500   S     0     1"
      ]
     },
     "execution_count": 39,
     "metadata": {},
     "output_type": "execute_result"
    }
   ],
   "source": [
    "x_train = pd.concat([x_train, 선착장_dummy], axis=1)\n",
    "x_train.head()"
   ]
  },
  {
   "cell_type": "code",
   "execution_count": 40,
   "id": "cafe0f06",
   "metadata": {},
   "outputs": [],
   "source": [
    "x_train = x_train.drop(columns=['선착장'])"
   ]
  },
  {
   "cell_type": "code",
   "execution_count": 41,
   "id": "f3624716",
   "metadata": {},
   "outputs": [
    {
     "data": {
      "text/html": [
       "<div>\n",
       "<style scoped>\n",
       "    .dataframe tbody tr th:only-of-type {\n",
       "        vertical-align: middle;\n",
       "    }\n",
       "\n",
       "    .dataframe tbody tr th {\n",
       "        vertical-align: top;\n",
       "    }\n",
       "\n",
       "    .dataframe thead th {\n",
       "        text-align: right;\n",
       "    }\n",
       "</style>\n",
       "<table border=\"1\" class=\"dataframe\">\n",
       "  <thead>\n",
       "    <tr style=\"text-align: right;\">\n",
       "      <th></th>\n",
       "      <th>선착장Q</th>\n",
       "      <th>선착장S</th>\n",
       "    </tr>\n",
       "  </thead>\n",
       "  <tbody>\n",
       "    <tr>\n",
       "      <th>0</th>\n",
       "      <td>1</td>\n",
       "      <td>0</td>\n",
       "    </tr>\n",
       "    <tr>\n",
       "      <th>1</th>\n",
       "      <td>0</td>\n",
       "      <td>1</td>\n",
       "    </tr>\n",
       "    <tr>\n",
       "      <th>2</th>\n",
       "      <td>1</td>\n",
       "      <td>0</td>\n",
       "    </tr>\n",
       "    <tr>\n",
       "      <th>3</th>\n",
       "      <td>0</td>\n",
       "      <td>1</td>\n",
       "    </tr>\n",
       "    <tr>\n",
       "      <th>4</th>\n",
       "      <td>0</td>\n",
       "      <td>1</td>\n",
       "    </tr>\n",
       "  </tbody>\n",
       "</table>\n",
       "</div>"
      ],
      "text/plain": [
       "   선착장Q  선착장S\n",
       "0     1     0\n",
       "1     0     1\n",
       "2     1     0\n",
       "3     0     1\n",
       "4     0     1"
      ]
     },
     "execution_count": 41,
     "metadata": {},
     "output_type": "execute_result"
    }
   ],
   "source": [
    "선착장_dummy = pd.get_dummies(x_test['선착장'], drop_first=True)\\\n",
    "                .rename(columns = {'Q':'선착장Q', 'S':'선착장S'})\n",
    "선착장_dummy.head()"
   ]
  },
  {
   "cell_type": "code",
   "execution_count": 42,
   "id": "5703d101",
   "metadata": {},
   "outputs": [
    {
     "data": {
      "text/html": [
       "<div>\n",
       "<style scoped>\n",
       "    .dataframe tbody tr th:only-of-type {\n",
       "        vertical-align: middle;\n",
       "    }\n",
       "\n",
       "    .dataframe tbody tr th {\n",
       "        vertical-align: top;\n",
       "    }\n",
       "\n",
       "    .dataframe thead th {\n",
       "        text-align: right;\n",
       "    }\n",
       "</style>\n",
       "<table border=\"1\" class=\"dataframe\">\n",
       "  <thead>\n",
       "    <tr style=\"text-align: right;\">\n",
       "      <th></th>\n",
       "      <th>티켓등급</th>\n",
       "      <th>성별</th>\n",
       "      <th>형제자매배우자수</th>\n",
       "      <th>부모자식수</th>\n",
       "      <th>운임요금</th>\n",
       "      <th>선착장Q</th>\n",
       "      <th>선착장S</th>\n",
       "    </tr>\n",
       "  </thead>\n",
       "  <tbody>\n",
       "    <tr>\n",
       "      <th>0</th>\n",
       "      <td>3</td>\n",
       "      <td>0</td>\n",
       "      <td>0</td>\n",
       "      <td>0</td>\n",
       "      <td>7.8292</td>\n",
       "      <td>1</td>\n",
       "      <td>0</td>\n",
       "    </tr>\n",
       "    <tr>\n",
       "      <th>1</th>\n",
       "      <td>3</td>\n",
       "      <td>1</td>\n",
       "      <td>1</td>\n",
       "      <td>0</td>\n",
       "      <td>7.0000</td>\n",
       "      <td>0</td>\n",
       "      <td>1</td>\n",
       "    </tr>\n",
       "    <tr>\n",
       "      <th>2</th>\n",
       "      <td>2</td>\n",
       "      <td>0</td>\n",
       "      <td>0</td>\n",
       "      <td>0</td>\n",
       "      <td>9.6875</td>\n",
       "      <td>1</td>\n",
       "      <td>0</td>\n",
       "    </tr>\n",
       "    <tr>\n",
       "      <th>3</th>\n",
       "      <td>3</td>\n",
       "      <td>0</td>\n",
       "      <td>0</td>\n",
       "      <td>0</td>\n",
       "      <td>8.6625</td>\n",
       "      <td>0</td>\n",
       "      <td>1</td>\n",
       "    </tr>\n",
       "    <tr>\n",
       "      <th>4</th>\n",
       "      <td>3</td>\n",
       "      <td>1</td>\n",
       "      <td>1</td>\n",
       "      <td>1</td>\n",
       "      <td>12.2875</td>\n",
       "      <td>0</td>\n",
       "      <td>1</td>\n",
       "    </tr>\n",
       "  </tbody>\n",
       "</table>\n",
       "</div>"
      ],
      "text/plain": [
       "   티켓등급  성별  형제자매배우자수  부모자식수     운임요금  선착장Q  선착장S\n",
       "0     3   0         0      0   7.8292     1     0\n",
       "1     3   1         1      0   7.0000     0     1\n",
       "2     2   0         0      0   9.6875     1     0\n",
       "3     3   0         0      0   8.6625     0     1\n",
       "4     3   1         1      1  12.2875     0     1"
      ]
     },
     "execution_count": 42,
     "metadata": {},
     "output_type": "execute_result"
    }
   ],
   "source": [
    "x_test = pd.concat([x_test, 선착장_dummy], axis=1)\n",
    "x_test = x_test.drop(columns=['선착장'])\n",
    "x_test.head()"
   ]
  },
  {
   "cell_type": "markdown",
   "id": "1ad4878d",
   "metadata": {},
   "source": [
    "### 파생변수 만들기"
   ]
  },
  {
   "cell_type": "code",
   "execution_count": 43,
   "id": "de899684",
   "metadata": {},
   "outputs": [
    {
     "name": "stdout",
     "output_type": "stream",
     "text": [
      "   형제자매배우자수  부모자식수  가족수\n",
      "0         1      0    1\n",
      "1         1      0    1\n",
      "2         0      0    0\n",
      "3         1      0    1\n",
      "4         0      0    0\n"
     ]
    }
   ],
   "source": [
    "x_train['가족수'] = x_train['형제자매배우자수'] + x_train['부모자식수']\n",
    "print(x_train[['형제자매배우자수','부모자식수','가족수']].head())"
   ]
  },
  {
   "cell_type": "code",
   "execution_count": 44,
   "id": "df65d0e8",
   "metadata": {},
   "outputs": [],
   "source": [
    "x_train = x_train.drop(columns=['형제자매배우자수', '부모자식수'])"
   ]
  },
  {
   "cell_type": "code",
   "execution_count": 45,
   "id": "3e0e2b36",
   "metadata": {},
   "outputs": [
    {
     "name": "stdout",
     "output_type": "stream",
     "text": [
      "   티켓등급  성별     운임요금  선착장Q  선착장S  가족수\n",
      "0     3   0   7.8292     1     0    0\n",
      "1     3   1   7.0000     0     1    1\n",
      "2     2   0   9.6875     1     0    0\n",
      "3     3   0   8.6625     0     1    0\n",
      "4     3   1  12.2875     0     1    2\n"
     ]
    }
   ],
   "source": [
    "x_test['가족수'] = x_test['형제자매배우자수'] + x_test['부모자식수']\n",
    "x_test = x_test.drop(columns = ['형제자매배우자수','부모자식수'])\n",
    "print(x_test.head())"
   ]
  },
  {
   "cell_type": "markdown",
   "id": "3063656d",
   "metadata": {},
   "source": [
    "# 3. 학습하고 평가하기"
   ]
  },
  {
   "cell_type": "markdown",
   "id": "96053e58",
   "metadata": {},
   "source": [
    "### 데이터 분리하기"
   ]
  },
  {
   "cell_type": "code",
   "execution_count": 46,
   "id": "78af15d3",
   "metadata": {},
   "outputs": [
    {
     "name": "stdout",
     "output_type": "stream",
     "text": [
      "(712, 6)\n",
      "(179, 6)\n",
      "(712, 1)\n",
      "(179, 1)\n"
     ]
    }
   ],
   "source": [
    "from sklearn.model_selection import train_test_split\n",
    "\n",
    "X_TRAIN, X_TEST, Y_TRAIN, Y_TEST = train_test_split(x_train, y_train, test_size=0.2, random_state=10)\n",
    "print(X_TRAIN.shape)\n",
    "print(X_TEST.shape)\n",
    "print(Y_TRAIN.shape)\n",
    "print(Y_TEST.shape)"
   ]
  },
  {
   "cell_type": "code",
   "execution_count": 47,
   "id": "76520fe3",
   "metadata": {},
   "outputs": [
    {
     "name": "stdout",
     "output_type": "stream",
     "text": [
      "     Survived\n",
      "57          0\n",
      "717         1\n",
      "431         1\n",
      "633         0\n",
      "163         0\n"
     ]
    }
   ],
   "source": [
    "print(Y_TRAIN.head())"
   ]
  },
  {
   "cell_type": "markdown",
   "id": "11302860",
   "metadata": {},
   "source": [
    "### 데이터 학습 및 하이퍼 파라미터 튜닝하기"
   ]
  },
  {
   "cell_type": "code",
   "execution_count": 56,
   "id": "6a24ac85",
   "metadata": {},
   "outputs": [
    {
     "data": {
      "text/plain": [
       "XGBClassifier(base_score=0.5, booster='gbtree', colsample_bylevel=1,\n",
       "              colsample_bynode=1, colsample_bytree=1, enable_categorical=False,\n",
       "              eval_metric='error', gamma=0, gpu_id=-1, importance_type=None,\n",
       "              interaction_constraints='', learning_rate=0.300000012,\n",
       "              max_delta_step=0, max_depth=6, min_child_weight=1, missing=nan,\n",
       "              monotone_constraints='()', n_estimators=100, n_jobs=8,\n",
       "              num_parallel_tree=1, predictor='auto', random_state=10,\n",
       "              reg_alpha=0, reg_lambda=1, scale_pos_weight=1, subsample=1,\n",
       "              tree_method='exact', use_label_encoder=False,\n",
       "              validate_parameters=1, verbosity=None)"
      ]
     },
     "execution_count": 56,
     "metadata": {},
     "output_type": "execute_result"
    }
   ],
   "source": [
    "from xgboost import XGBClassifier\n",
    "model1 = XGBClassifier(eval_metric = 'error', random_state=10, use_label_encoder=False)\n",
    "model1.fit(X_TRAIN, Y_TRAIN)"
   ]
  },
  {
   "cell_type": "code",
   "execution_count": 49,
   "id": "a4e250e9",
   "metadata": {},
   "outputs": [
    {
     "data": {
      "text/plain": [
       "XGBClassifier(base_score=0.5, booster='gbtree', colsample_bylevel=1,\n",
       "              colsample_bynode=1, colsample_bytree=1, enable_categorical=False,\n",
       "              eval_metric='error', gamma=0, gpu_id=-1, importance_type=None,\n",
       "              interaction_constraints='', learning_rate=0.300000012,\n",
       "              max_delta_step=0, max_depth=5, min_child_weight=1, missing=nan,\n",
       "              monotone_constraints='()', n_estimators=100, n_jobs=8,\n",
       "              num_parallel_tree=1, predictor='auto', random_state=10,\n",
       "              reg_alpha=0, reg_lambda=1, scale_pos_weight=1, subsample=1,\n",
       "              tree_method='exact', use_label_encoder=False,\n",
       "              validate_parameters=1, verbosity=None)"
      ]
     },
     "execution_count": 49,
     "metadata": {},
     "output_type": "execute_result"
    }
   ],
   "source": [
    "model2 = XGBClassifier(n_estimators = 100, max_depth=5, eval_metric='error', \n",
    "                       use_label_encoder=False, random_state=10)\n",
    "model2.fit(X_TRAIN,Y_TRAIN)"
   ]
  },
  {
   "cell_type": "markdown",
   "id": "3a691f41",
   "metadata": {},
   "source": [
    "### 결과 예측하기"
   ]
  },
  {
   "cell_type": "code",
   "execution_count": 61,
   "id": "dacdfb92",
   "metadata": {},
   "outputs": [
    {
     "data": {
      "text/html": [
       "<div>\n",
       "<style scoped>\n",
       "    .dataframe tbody tr th:only-of-type {\n",
       "        vertical-align: middle;\n",
       "    }\n",
       "\n",
       "    .dataframe tbody tr th {\n",
       "        vertical-align: top;\n",
       "    }\n",
       "\n",
       "    .dataframe thead th {\n",
       "        text-align: right;\n",
       "    }\n",
       "</style>\n",
       "<table border=\"1\" class=\"dataframe\">\n",
       "  <thead>\n",
       "    <tr style=\"text-align: right;\">\n",
       "      <th></th>\n",
       "      <th>0</th>\n",
       "    </tr>\n",
       "  </thead>\n",
       "  <tbody>\n",
       "    <tr>\n",
       "      <th>0</th>\n",
       "      <td>0</td>\n",
       "    </tr>\n",
       "    <tr>\n",
       "      <th>1</th>\n",
       "      <td>0</td>\n",
       "    </tr>\n",
       "    <tr>\n",
       "      <th>2</th>\n",
       "      <td>0</td>\n",
       "    </tr>\n",
       "    <tr>\n",
       "      <th>3</th>\n",
       "      <td>0</td>\n",
       "    </tr>\n",
       "    <tr>\n",
       "      <th>4</th>\n",
       "      <td>1</td>\n",
       "    </tr>\n",
       "  </tbody>\n",
       "</table>\n",
       "</div>"
      ],
      "text/plain": [
       "   0\n",
       "0  0\n",
       "1  0\n",
       "2  0\n",
       "3  0\n",
       "4  1"
      ]
     },
     "execution_count": 61,
     "metadata": {},
     "output_type": "execute_result"
    }
   ],
   "source": [
    "y_test_predicted = pd.DataFrame(model.predict(x_test))\n",
    "y_test_predicted.head()"
   ]
  },
  {
   "cell_type": "code",
   "execution_count": 53,
   "id": "8adaae68",
   "metadata": {},
   "outputs": [
    {
     "data": {
      "text/html": [
       "<div>\n",
       "<style scoped>\n",
       "    .dataframe tbody tr th:only-of-type {\n",
       "        vertical-align: middle;\n",
       "    }\n",
       "\n",
       "    .dataframe tbody tr th {\n",
       "        vertical-align: top;\n",
       "    }\n",
       "\n",
       "    .dataframe thead th {\n",
       "        text-align: right;\n",
       "    }\n",
       "</style>\n",
       "<table border=\"1\" class=\"dataframe\">\n",
       "  <thead>\n",
       "    <tr style=\"text-align: right;\">\n",
       "      <th></th>\n",
       "      <th>0</th>\n",
       "    </tr>\n",
       "  </thead>\n",
       "  <tbody>\n",
       "    <tr>\n",
       "      <th>0</th>\n",
       "      <td>0</td>\n",
       "    </tr>\n",
       "    <tr>\n",
       "      <th>1</th>\n",
       "      <td>0</td>\n",
       "    </tr>\n",
       "    <tr>\n",
       "      <th>2</th>\n",
       "      <td>0</td>\n",
       "    </tr>\n",
       "    <tr>\n",
       "      <th>3</th>\n",
       "      <td>1</td>\n",
       "    </tr>\n",
       "    <tr>\n",
       "      <th>4</th>\n",
       "      <td>1</td>\n",
       "    </tr>\n",
       "  </tbody>\n",
       "</table>\n",
       "</div>"
      ],
      "text/plain": [
       "   0\n",
       "0  0\n",
       "1  0\n",
       "2  0\n",
       "3  1\n",
       "4  1"
      ]
     },
     "execution_count": 53,
     "metadata": {},
     "output_type": "execute_result"
    }
   ],
   "source": [
    "Y_TEST_PREDICTED = pd.DataFrame(model.predict(X_TEST))\n",
    "Y_TEST_PREDICTED.head()"
   ]
  },
  {
   "cell_type": "markdown",
   "id": "77b5a03a",
   "metadata": {},
   "source": [
    "### 모델 평가하기"
   ]
  },
  {
   "cell_type": "code",
   "execution_count": 54,
   "id": "24618f04",
   "metadata": {},
   "outputs": [],
   "source": [
    "from sklearn.metrics import roc_auc_score"
   ]
  },
  {
   "cell_type": "markdown",
   "id": "4afaa1e4",
   "metadata": {},
   "source": [
    "- 1차 학습 모델 평가지표 결과"
   ]
  },
  {
   "cell_type": "code",
   "execution_count": 57,
   "id": "cd2cfeee",
   "metadata": {},
   "outputs": [
    {
     "data": {
      "text/html": [
       "<div>\n",
       "<style scoped>\n",
       "    .dataframe tbody tr th:only-of-type {\n",
       "        vertical-align: middle;\n",
       "    }\n",
       "\n",
       "    .dataframe tbody tr th {\n",
       "        vertical-align: top;\n",
       "    }\n",
       "\n",
       "    .dataframe thead th {\n",
       "        text-align: right;\n",
       "    }\n",
       "</style>\n",
       "<table border=\"1\" class=\"dataframe\">\n",
       "  <thead>\n",
       "    <tr style=\"text-align: right;\">\n",
       "      <th></th>\n",
       "      <th>0</th>\n",
       "    </tr>\n",
       "  </thead>\n",
       "  <tbody>\n",
       "    <tr>\n",
       "      <th>0</th>\n",
       "      <td>0</td>\n",
       "    </tr>\n",
       "    <tr>\n",
       "      <th>1</th>\n",
       "      <td>0</td>\n",
       "    </tr>\n",
       "    <tr>\n",
       "      <th>2</th>\n",
       "      <td>0</td>\n",
       "    </tr>\n",
       "    <tr>\n",
       "      <th>3</th>\n",
       "      <td>1</td>\n",
       "    </tr>\n",
       "    <tr>\n",
       "      <th>4</th>\n",
       "      <td>1</td>\n",
       "    </tr>\n",
       "  </tbody>\n",
       "</table>\n",
       "</div>"
      ],
      "text/plain": [
       "   0\n",
       "0  0\n",
       "1  0\n",
       "2  0\n",
       "3  1\n",
       "4  1"
      ]
     },
     "execution_count": 57,
     "metadata": {},
     "output_type": "execute_result"
    }
   ],
   "source": [
    "Y_TEST_PREDICTED_1 = pd.DataFrame(model1.predict(X_TEST))\n",
    "Y_TEST_PREDICTED_1.head()"
   ]
  },
  {
   "cell_type": "code",
   "execution_count": 58,
   "id": "e794178a",
   "metadata": {},
   "outputs": [
    {
     "name": "stdout",
     "output_type": "stream",
     "text": [
      "0.7731596360628619\n"
     ]
    }
   ],
   "source": [
    "print(roc_auc_score(Y_TEST, Y_TEST_PREDICTED_1))"
   ]
  },
  {
   "cell_type": "code",
   "execution_count": 59,
   "id": "e1039eb1",
   "metadata": {},
   "outputs": [
    {
     "data": {
      "text/html": [
       "<div>\n",
       "<style scoped>\n",
       "    .dataframe tbody tr th:only-of-type {\n",
       "        vertical-align: middle;\n",
       "    }\n",
       "\n",
       "    .dataframe tbody tr th {\n",
       "        vertical-align: top;\n",
       "    }\n",
       "\n",
       "    .dataframe thead th {\n",
       "        text-align: right;\n",
       "    }\n",
       "</style>\n",
       "<table border=\"1\" class=\"dataframe\">\n",
       "  <thead>\n",
       "    <tr style=\"text-align: right;\">\n",
       "      <th></th>\n",
       "      <th>0</th>\n",
       "    </tr>\n",
       "  </thead>\n",
       "  <tbody>\n",
       "    <tr>\n",
       "      <th>0</th>\n",
       "      <td>0</td>\n",
       "    </tr>\n",
       "    <tr>\n",
       "      <th>1</th>\n",
       "      <td>0</td>\n",
       "    </tr>\n",
       "    <tr>\n",
       "      <th>2</th>\n",
       "      <td>0</td>\n",
       "    </tr>\n",
       "    <tr>\n",
       "      <th>3</th>\n",
       "      <td>1</td>\n",
       "    </tr>\n",
       "    <tr>\n",
       "      <th>4</th>\n",
       "      <td>1</td>\n",
       "    </tr>\n",
       "  </tbody>\n",
       "</table>\n",
       "</div>"
      ],
      "text/plain": [
       "   0\n",
       "0  0\n",
       "1  0\n",
       "2  0\n",
       "3  1\n",
       "4  1"
      ]
     },
     "execution_count": 59,
     "metadata": {},
     "output_type": "execute_result"
    }
   ],
   "source": [
    "Y_TEST_PREDICTED_2 = pd.DataFrame(model2.predict(X_TEST))\n",
    "Y_TEST_PREDICTED_2.head()"
   ]
  },
  {
   "cell_type": "code",
   "execution_count": 60,
   "id": "a5865c3a",
   "metadata": {},
   "outputs": [
    {
     "name": "stdout",
     "output_type": "stream",
     "text": [
      "0.7983181692859112\n"
     ]
    }
   ],
   "source": [
    "print(roc_auc_score(Y_TEST, Y_TEST_PREDICTED_2))"
   ]
  },
  {
   "cell_type": "code",
   "execution_count": 66,
   "id": "3e048939",
   "metadata": {},
   "outputs": [
    {
     "data": {
      "text/html": [
       "<div>\n",
       "<style scoped>\n",
       "    .dataframe tbody tr th:only-of-type {\n",
       "        vertical-align: middle;\n",
       "    }\n",
       "\n",
       "    .dataframe tbody tr th {\n",
       "        vertical-align: top;\n",
       "    }\n",
       "\n",
       "    .dataframe thead th {\n",
       "        text-align: right;\n",
       "    }\n",
       "</style>\n",
       "<table border=\"1\" class=\"dataframe\">\n",
       "  <thead>\n",
       "    <tr style=\"text-align: right;\">\n",
       "      <th></th>\n",
       "      <th>Survived</th>\n",
       "    </tr>\n",
       "  </thead>\n",
       "  <tbody>\n",
       "    <tr>\n",
       "      <th>0</th>\n",
       "      <td>0</td>\n",
       "    </tr>\n",
       "    <tr>\n",
       "      <th>1</th>\n",
       "      <td>1</td>\n",
       "    </tr>\n",
       "    <tr>\n",
       "      <th>2</th>\n",
       "      <td>0</td>\n",
       "    </tr>\n",
       "    <tr>\n",
       "      <th>3</th>\n",
       "      <td>0</td>\n",
       "    </tr>\n",
       "    <tr>\n",
       "      <th>4</th>\n",
       "      <td>1</td>\n",
       "    </tr>\n",
       "  </tbody>\n",
       "</table>\n",
       "</div>"
      ],
      "text/plain": [
       "   Survived\n",
       "0         0\n",
       "1         1\n",
       "2         0\n",
       "3         0\n",
       "4         1"
      ]
     },
     "execution_count": 66,
     "metadata": {},
     "output_type": "execute_result"
    }
   ],
   "source": [
    "y_test_predicted = pd.DataFrame(model2.predict(x_test)).rename(columns={0:'Survived'})\n",
    "y_test_predicted.head()"
   ]
  },
  {
   "cell_type": "markdown",
   "id": "e4adc143",
   "metadata": {},
   "source": [
    "# 4. 결과 제출하기"
   ]
  },
  {
   "cell_type": "code",
   "execution_count": 67,
   "id": "414cec5f",
   "metadata": {},
   "outputs": [
    {
     "name": "stdout",
     "output_type": "stream",
     "text": [
      "     PassengerId  Survived\n",
      "0            892         0\n",
      "1            893         1\n",
      "2            894         0\n",
      "3            895         0\n",
      "4            896         1\n",
      "..           ...       ...\n",
      "413         1305         0\n",
      "414         1306         1\n",
      "415         1307         0\n",
      "416         1308         0\n",
      "417         1309         1\n",
      "\n",
      "[418 rows x 2 columns]\n"
     ]
    }
   ],
   "source": [
    "print(pd.concat([x_test_passenger_id, y_test_predicted], axis=1))"
   ]
  },
  {
   "cell_type": "code",
   "execution_count": 68,
   "id": "517f8c6d",
   "metadata": {},
   "outputs": [],
   "source": [
    "final = pd.concat([x_test_passenger_id, y_test_predicted], axis=1)\n",
    "final.to_csv('20210112.csv', index=False)"
   ]
  },
  {
   "cell_type": "code",
   "execution_count": 74,
   "id": "e6ab0063",
   "metadata": {},
   "outputs": [
    {
     "data": {
      "text/html": [
       "<div>\n",
       "<style scoped>\n",
       "    .dataframe tbody tr th:only-of-type {\n",
       "        vertical-align: middle;\n",
       "    }\n",
       "\n",
       "    .dataframe tbody tr th {\n",
       "        vertical-align: top;\n",
       "    }\n",
       "\n",
       "    .dataframe thead th {\n",
       "        text-align: right;\n",
       "    }\n",
       "</style>\n",
       "<table border=\"1\" class=\"dataframe\">\n",
       "  <thead>\n",
       "    <tr style=\"text-align: right;\">\n",
       "      <th></th>\n",
       "      <th>PassengerId</th>\n",
       "      <th>Survived</th>\n",
       "    </tr>\n",
       "  </thead>\n",
       "  <tbody>\n",
       "    <tr>\n",
       "      <th>0</th>\n",
       "      <td>1</td>\n",
       "      <td>0</td>\n",
       "    </tr>\n",
       "    <tr>\n",
       "      <th>1</th>\n",
       "      <td>2</td>\n",
       "      <td>1</td>\n",
       "    </tr>\n",
       "    <tr>\n",
       "      <th>2</th>\n",
       "      <td>3</td>\n",
       "      <td>1</td>\n",
       "    </tr>\n",
       "    <tr>\n",
       "      <th>3</th>\n",
       "      <td>4</td>\n",
       "      <td>1</td>\n",
       "    </tr>\n",
       "    <tr>\n",
       "      <th>4</th>\n",
       "      <td>5</td>\n",
       "      <td>0</td>\n",
       "    </tr>\n",
       "  </tbody>\n",
       "</table>\n",
       "</div>"
      ],
      "text/plain": [
       "   PassengerId  Survived\n",
       "0            1         0\n",
       "1            2         1\n",
       "2            3         1\n",
       "3            4         1\n",
       "4            5         0"
      ]
     },
     "execution_count": 74,
     "metadata": {},
     "output_type": "execute_result"
    }
   ],
   "source": [
    "import pandas as pd\n",
    "# 데이터 가져오기\n",
    "x_train = pd.read_csv('titanic_x_train.csv', encoding='cp949')\n",
    "x_test = pd.read_csv('titanic_x_test.csv', encoding='cp949')\n",
    "y_train = pd.read_csv('titanic_y_train.csv', encoding='cp949')\n",
    "\n",
    "# 전처리하기\n",
    "x_test_passenger_id = x_test['PassengerId']\n",
    "x_train = x_train.drop(columns=['PassengerId','티켓번호', '승객이름','나이','객실번호'])\n",
    "x_test = x_test.drop(columns=[\"PassengerId\",'티켓번호', '승객이름','나이','객실번호'])\n",
    "y_train.columns=['PassengerId', 'Survived']\n",
    "y_train.head()"
   ]
  },
  {
   "cell_type": "code",
   "execution_count": 77,
   "id": "f475ee14",
   "metadata": {},
   "outputs": [],
   "source": [
    "import pandas as pd\n",
    "# 데이터 가져오기\n",
    "x_train = pd.read_csv('titanic_x_train.csv', encoding='cp949')\n",
    "x_test = pd.read_csv('titanic_x_test.csv', encoding='cp949')\n",
    "y_train = pd.read_csv('titanic_y_train.csv', encoding='cp949')\n",
    "\n",
    "# 전처리하기\n",
    "x_test_passenger_id = x_test['PassengerId']\n",
    "x_train = x_train.drop(columns=['PassengerId','티켓번호', '승객이름','나이','객실번호'])\n",
    "x_test = x_test.drop(columns=[\"PassengerId\",'티켓번호', '승객이름','나이','객실번호'])\n",
    "y_train.columns=['PassengerId', 'Survived']\n",
    "y_train = y_train.drop(columns=['PassengerId'])\n",
    "\n",
    "# 결측치 처리하기\n",
    "x_train['선착장'] = x_train['선착장'].fillna('S')\n",
    "x_test['선착장'] = x_train['선착장'].fillna('S')\n",
    "\n",
    "# 인코딩 수행하기\n",
    "x_train['성별'] = x_train['성별'].replace('male',0).replace('female',1)\n",
    "x_test['성별'] = x_test['성별'].replace('male',0).replace('female',1)\n",
    "선착장_dummy = pd.get_dummies(x_train['선착장'], drop_first=True).rename(\\\n",
    "                columns={'Q':'선착장Q', 'S':'선착장S'})\n",
    "x_train = pd.concat([x_train, 선착장_dummy], axis=1)\n",
    "x_train = x_train.drop(columns=['선착장'])\n",
    "선착장_dummy = pd.get_dummies(x_test['선착장'], drop_first=True).rename(\\\n",
    "                columns={'Q':'선착장Q', 'S':'선착장S'})\n",
    "x_test = pd.concat([x_test,선착장_dummy], axis=1)\n",
    "x_test = x_test.drop(columns=['선착장'])\n",
    "\n",
    "# 파생변수 만들기\n",
    "x_train['가족수'] = x_train['형제자매배우자수'] + x_train['부모자식수']\n",
    "x_train = x_train.drop(columns=['형제자매배우자수','부모자식수'])\n",
    "x_test['가족수'] = x_test['형제자매배우자수'] + x_test['부모자식수']\n",
    "x_test = x_test.drop(columns=['형제자매배우자수','부모자식수'])\n",
    "\n",
    "# 데이터분리하기\n",
    "from sklearn.model_selection import train_test_split\n",
    "X_TRAIN, X_TEST, Y_TRAIN, Y_TEST = train_test_split(x_train, y_train, test_size=0.2, random_state=10)\n",
    "\n",
    "# 모델 학습하기\n",
    "from xgboost import XGBClassifier\n",
    "model = XGBClassifier(n_estimators=100, max_depth=5, eval_metric='error', random_state=10, use_label_encoder=False)\n",
    "model.fit(X_TRAIN,Y_TRAIN)\n",
    "\n",
    "# 최종 결과를 파일로 저장하기\n",
    "y_test_predicted = pd.DataFrame(model.predict(x_test)).rename(columns={0:'Survived'})\n",
    "final = pd.concat([x_test_passenger_id, y_test_predicted], axis=1)\n",
    "final.to_csv('20210112_2.csv', index=False)"
   ]
  },
  {
   "cell_type": "code",
   "execution_count": null,
   "id": "99c35533",
   "metadata": {},
   "outputs": [],
   "source": []
  }
 ],
 "metadata": {
  "kernelspec": {
   "display_name": "Python 3",
   "language": "python",
   "name": "python3"
  },
  "language_info": {
   "codemirror_mode": {
    "name": "ipython",
    "version": 3
   },
   "file_extension": ".py",
   "mimetype": "text/x-python",
   "name": "python",
   "nbconvert_exporter": "python",
   "pygments_lexer": "ipython3",
   "version": "3.8.8"
  }
 },
 "nbformat": 4,
 "nbformat_minor": 5
}
