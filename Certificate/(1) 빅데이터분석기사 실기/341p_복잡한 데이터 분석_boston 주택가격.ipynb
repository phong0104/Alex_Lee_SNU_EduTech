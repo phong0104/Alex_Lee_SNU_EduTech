{
 "cells": [
  {
   "cell_type": "markdown",
   "id": "c581b84f",
   "metadata": {},
   "source": [
    "### 1. 그룹별 집계/요약하기"
   ]
  },
  {
   "cell_type": "code",
   "execution_count": 1,
   "id": "201989e8",
   "metadata": {},
   "outputs": [
    {
     "data": {
      "text/html": [
       "<div>\n",
       "<style scoped>\n",
       "    .dataframe tbody tr th:only-of-type {\n",
       "        vertical-align: middle;\n",
       "    }\n",
       "\n",
       "    .dataframe tbody tr th {\n",
       "        vertical-align: top;\n",
       "    }\n",
       "\n",
       "    .dataframe thead th {\n",
       "        text-align: right;\n",
       "    }\n",
       "</style>\n",
       "<table border=\"1\" class=\"dataframe\">\n",
       "  <thead>\n",
       "    <tr style=\"text-align: right;\">\n",
       "      <th></th>\n",
       "      <th>CRIM</th>\n",
       "      <th>ZN</th>\n",
       "      <th>INDUS</th>\n",
       "      <th>CHAS</th>\n",
       "      <th>NOX</th>\n",
       "      <th>RM</th>\n",
       "      <th>AGE</th>\n",
       "      <th>DIS</th>\n",
       "      <th>RAD</th>\n",
       "      <th>TAX</th>\n",
       "      <th>PTRATIO</th>\n",
       "      <th>B</th>\n",
       "      <th>LSTAT</th>\n",
       "      <th>MEDV</th>\n",
       "    </tr>\n",
       "  </thead>\n",
       "  <tbody>\n",
       "    <tr>\n",
       "      <th>0</th>\n",
       "      <td>0.00632</td>\n",
       "      <td>18.0</td>\n",
       "      <td>2.31</td>\n",
       "      <td>0</td>\n",
       "      <td>0.538</td>\n",
       "      <td>6.575</td>\n",
       "      <td>65.2</td>\n",
       "      <td>4.0900</td>\n",
       "      <td>1</td>\n",
       "      <td>296</td>\n",
       "      <td>15.3</td>\n",
       "      <td>396.90</td>\n",
       "      <td>4.98</td>\n",
       "      <td>24.0</td>\n",
       "    </tr>\n",
       "    <tr>\n",
       "      <th>1</th>\n",
       "      <td>0.02731</td>\n",
       "      <td>0.0</td>\n",
       "      <td>7.07</td>\n",
       "      <td>0</td>\n",
       "      <td>0.469</td>\n",
       "      <td>6.421</td>\n",
       "      <td>78.9</td>\n",
       "      <td>4.9671</td>\n",
       "      <td>2</td>\n",
       "      <td>242</td>\n",
       "      <td>17.8</td>\n",
       "      <td>396.90</td>\n",
       "      <td>9.14</td>\n",
       "      <td>21.6</td>\n",
       "    </tr>\n",
       "    <tr>\n",
       "      <th>2</th>\n",
       "      <td>0.02729</td>\n",
       "      <td>0.0</td>\n",
       "      <td>7.07</td>\n",
       "      <td>0</td>\n",
       "      <td>0.469</td>\n",
       "      <td>7.185</td>\n",
       "      <td>61.1</td>\n",
       "      <td>4.9671</td>\n",
       "      <td>2</td>\n",
       "      <td>242</td>\n",
       "      <td>17.8</td>\n",
       "      <td>392.83</td>\n",
       "      <td>4.03</td>\n",
       "      <td>34.7</td>\n",
       "    </tr>\n",
       "    <tr>\n",
       "      <th>3</th>\n",
       "      <td>0.03237</td>\n",
       "      <td>0.0</td>\n",
       "      <td>2.18</td>\n",
       "      <td>0</td>\n",
       "      <td>0.458</td>\n",
       "      <td>6.998</td>\n",
       "      <td>45.8</td>\n",
       "      <td>6.0622</td>\n",
       "      <td>3</td>\n",
       "      <td>222</td>\n",
       "      <td>18.7</td>\n",
       "      <td>394.63</td>\n",
       "      <td>2.94</td>\n",
       "      <td>33.4</td>\n",
       "    </tr>\n",
       "    <tr>\n",
       "      <th>4</th>\n",
       "      <td>0.06905</td>\n",
       "      <td>0.0</td>\n",
       "      <td>2.18</td>\n",
       "      <td>0</td>\n",
       "      <td>0.458</td>\n",
       "      <td>7.147</td>\n",
       "      <td>54.2</td>\n",
       "      <td>6.0622</td>\n",
       "      <td>3</td>\n",
       "      <td>222</td>\n",
       "      <td>18.7</td>\n",
       "      <td>396.90</td>\n",
       "      <td>5.33</td>\n",
       "      <td>36.2</td>\n",
       "    </tr>\n",
       "    <tr>\n",
       "      <th>...</th>\n",
       "      <td>...</td>\n",
       "      <td>...</td>\n",
       "      <td>...</td>\n",
       "      <td>...</td>\n",
       "      <td>...</td>\n",
       "      <td>...</td>\n",
       "      <td>...</td>\n",
       "      <td>...</td>\n",
       "      <td>...</td>\n",
       "      <td>...</td>\n",
       "      <td>...</td>\n",
       "      <td>...</td>\n",
       "      <td>...</td>\n",
       "      <td>...</td>\n",
       "    </tr>\n",
       "    <tr>\n",
       "      <th>501</th>\n",
       "      <td>0.06263</td>\n",
       "      <td>0.0</td>\n",
       "      <td>11.93</td>\n",
       "      <td>0</td>\n",
       "      <td>0.573</td>\n",
       "      <td>6.593</td>\n",
       "      <td>69.1</td>\n",
       "      <td>2.4786</td>\n",
       "      <td>1</td>\n",
       "      <td>273</td>\n",
       "      <td>21.0</td>\n",
       "      <td>391.99</td>\n",
       "      <td>9.67</td>\n",
       "      <td>22.4</td>\n",
       "    </tr>\n",
       "    <tr>\n",
       "      <th>502</th>\n",
       "      <td>0.04527</td>\n",
       "      <td>0.0</td>\n",
       "      <td>11.93</td>\n",
       "      <td>0</td>\n",
       "      <td>0.573</td>\n",
       "      <td>NaN</td>\n",
       "      <td>76.7</td>\n",
       "      <td>2.2875</td>\n",
       "      <td>1</td>\n",
       "      <td>273</td>\n",
       "      <td>21.0</td>\n",
       "      <td>396.90</td>\n",
       "      <td>9.08</td>\n",
       "      <td>20.6</td>\n",
       "    </tr>\n",
       "    <tr>\n",
       "      <th>503</th>\n",
       "      <td>0.06076</td>\n",
       "      <td>0.0</td>\n",
       "      <td>11.93</td>\n",
       "      <td>0</td>\n",
       "      <td>0.573</td>\n",
       "      <td>6.976</td>\n",
       "      <td>91.0</td>\n",
       "      <td>2.1675</td>\n",
       "      <td>1</td>\n",
       "      <td>273</td>\n",
       "      <td>21.0</td>\n",
       "      <td>396.90</td>\n",
       "      <td>5.64</td>\n",
       "      <td>23.9</td>\n",
       "    </tr>\n",
       "    <tr>\n",
       "      <th>504</th>\n",
       "      <td>0.10959</td>\n",
       "      <td>0.0</td>\n",
       "      <td>11.93</td>\n",
       "      <td>0</td>\n",
       "      <td>0.573</td>\n",
       "      <td>6.794</td>\n",
       "      <td>89.3</td>\n",
       "      <td>2.3889</td>\n",
       "      <td>1</td>\n",
       "      <td>273</td>\n",
       "      <td>21.0</td>\n",
       "      <td>393.45</td>\n",
       "      <td>6.48</td>\n",
       "      <td>22.0</td>\n",
       "    </tr>\n",
       "    <tr>\n",
       "      <th>505</th>\n",
       "      <td>0.04741</td>\n",
       "      <td>0.0</td>\n",
       "      <td>11.93</td>\n",
       "      <td>0</td>\n",
       "      <td>0.573</td>\n",
       "      <td>6.030</td>\n",
       "      <td>80.8</td>\n",
       "      <td>2.5050</td>\n",
       "      <td>1</td>\n",
       "      <td>273</td>\n",
       "      <td>21.0</td>\n",
       "      <td>396.90</td>\n",
       "      <td>7.88</td>\n",
       "      <td>11.9</td>\n",
       "    </tr>\n",
       "  </tbody>\n",
       "</table>\n",
       "<p>506 rows × 14 columns</p>\n",
       "</div>"
      ],
      "text/plain": [
       "        CRIM    ZN  INDUS  CHAS    NOX     RM   AGE     DIS  RAD  TAX  \\\n",
       "0    0.00632  18.0   2.31     0  0.538  6.575  65.2  4.0900    1  296   \n",
       "1    0.02731   0.0   7.07     0  0.469  6.421  78.9  4.9671    2  242   \n",
       "2    0.02729   0.0   7.07     0  0.469  7.185  61.1  4.9671    2  242   \n",
       "3    0.03237   0.0   2.18     0  0.458  6.998  45.8  6.0622    3  222   \n",
       "4    0.06905   0.0   2.18     0  0.458  7.147  54.2  6.0622    3  222   \n",
       "..       ...   ...    ...   ...    ...    ...   ...     ...  ...  ...   \n",
       "501  0.06263   0.0  11.93     0  0.573  6.593  69.1  2.4786    1  273   \n",
       "502  0.04527   0.0  11.93     0  0.573    NaN  76.7  2.2875    1  273   \n",
       "503  0.06076   0.0  11.93     0  0.573  6.976  91.0  2.1675    1  273   \n",
       "504  0.10959   0.0  11.93     0  0.573  6.794  89.3  2.3889    1  273   \n",
       "505  0.04741   0.0  11.93     0  0.573  6.030  80.8  2.5050    1  273   \n",
       "\n",
       "     PTRATIO       B  LSTAT  MEDV  \n",
       "0       15.3  396.90   4.98  24.0  \n",
       "1       17.8  396.90   9.14  21.6  \n",
       "2       17.8  392.83   4.03  34.7  \n",
       "3       18.7  394.63   2.94  33.4  \n",
       "4       18.7  396.90   5.33  36.2  \n",
       "..       ...     ...    ...   ...  \n",
       "501     21.0  391.99   9.67  22.4  \n",
       "502     21.0  396.90   9.08  20.6  \n",
       "503     21.0  396.90   5.64  23.9  \n",
       "504     21.0  393.45   6.48  22.0  \n",
       "505     21.0  396.90   7.88  11.9  \n",
       "\n",
       "[506 rows x 14 columns]"
      ]
     },
     "execution_count": 1,
     "metadata": {},
     "output_type": "execute_result"
    }
   ],
   "source": [
    "import pandas as pd\n",
    "data = pd.read_csv('boston.csv')\n",
    "data"
   ]
  },
  {
   "cell_type": "code",
   "execution_count": 2,
   "id": "fc6829e1",
   "metadata": {},
   "outputs": [
    {
     "name": "stdout",
     "output_type": "stream",
     "text": [
      "330.0\n"
     ]
    },
    {
     "data": {
      "text/html": [
       "<div>\n",
       "<style scoped>\n",
       "    .dataframe tbody tr th:only-of-type {\n",
       "        vertical-align: middle;\n",
       "    }\n",
       "\n",
       "    .dataframe tbody tr th {\n",
       "        vertical-align: top;\n",
       "    }\n",
       "\n",
       "    .dataframe thead th {\n",
       "        text-align: right;\n",
       "    }\n",
       "</style>\n",
       "<table border=\"1\" class=\"dataframe\">\n",
       "  <thead>\n",
       "    <tr style=\"text-align: right;\">\n",
       "      <th></th>\n",
       "      <th>CRIM</th>\n",
       "      <th>ZN</th>\n",
       "      <th>INDUS</th>\n",
       "      <th>CHAS</th>\n",
       "      <th>NOX</th>\n",
       "      <th>RM</th>\n",
       "      <th>AGE</th>\n",
       "      <th>DIS</th>\n",
       "      <th>RAD</th>\n",
       "      <th>TAX</th>\n",
       "      <th>PTRATIO</th>\n",
       "      <th>B</th>\n",
       "      <th>LSTAT</th>\n",
       "      <th>MEDV</th>\n",
       "    </tr>\n",
       "  </thead>\n",
       "  <tbody>\n",
       "    <tr>\n",
       "      <th>54</th>\n",
       "      <td>0.01360</td>\n",
       "      <td>75.0</td>\n",
       "      <td>4.00</td>\n",
       "      <td>0</td>\n",
       "      <td>0.410</td>\n",
       "      <td>5.888</td>\n",
       "      <td>47.6</td>\n",
       "      <td>7.3197</td>\n",
       "      <td>3</td>\n",
       "      <td>469</td>\n",
       "      <td>21.1</td>\n",
       "      <td>396.90</td>\n",
       "      <td>14.80</td>\n",
       "      <td>18.9</td>\n",
       "    </tr>\n",
       "    <tr>\n",
       "      <th>65</th>\n",
       "      <td>0.03584</td>\n",
       "      <td>80.0</td>\n",
       "      <td>3.37</td>\n",
       "      <td>0</td>\n",
       "      <td>0.398</td>\n",
       "      <td>6.290</td>\n",
       "      <td>17.8</td>\n",
       "      <td>6.6115</td>\n",
       "      <td>4</td>\n",
       "      <td>337</td>\n",
       "      <td>16.1</td>\n",
       "      <td>396.90</td>\n",
       "      <td>4.67</td>\n",
       "      <td>23.5</td>\n",
       "    </tr>\n",
       "    <tr>\n",
       "      <th>66</th>\n",
       "      <td>0.04379</td>\n",
       "      <td>80.0</td>\n",
       "      <td>3.37</td>\n",
       "      <td>0</td>\n",
       "      <td>0.398</td>\n",
       "      <td>5.787</td>\n",
       "      <td>31.1</td>\n",
       "      <td>6.6115</td>\n",
       "      <td>4</td>\n",
       "      <td>337</td>\n",
       "      <td>16.1</td>\n",
       "      <td>396.90</td>\n",
       "      <td>10.24</td>\n",
       "      <td>19.4</td>\n",
       "    </tr>\n",
       "    <tr>\n",
       "      <th>67</th>\n",
       "      <td>0.05789</td>\n",
       "      <td>12.5</td>\n",
       "      <td>6.07</td>\n",
       "      <td>0</td>\n",
       "      <td>0.409</td>\n",
       "      <td>5.878</td>\n",
       "      <td>21.4</td>\n",
       "      <td>6.4980</td>\n",
       "      <td>4</td>\n",
       "      <td>345</td>\n",
       "      <td>18.9</td>\n",
       "      <td>396.21</td>\n",
       "      <td>8.10</td>\n",
       "      <td>22.0</td>\n",
       "    </tr>\n",
       "    <tr>\n",
       "      <th>68</th>\n",
       "      <td>0.13554</td>\n",
       "      <td>12.5</td>\n",
       "      <td>6.07</td>\n",
       "      <td>0</td>\n",
       "      <td>0.409</td>\n",
       "      <td>5.594</td>\n",
       "      <td>36.8</td>\n",
       "      <td>6.4980</td>\n",
       "      <td>4</td>\n",
       "      <td>345</td>\n",
       "      <td>18.9</td>\n",
       "      <td>396.90</td>\n",
       "      <td>13.09</td>\n",
       "      <td>17.4</td>\n",
       "    </tr>\n",
       "  </tbody>\n",
       "</table>\n",
       "</div>"
      ],
      "text/plain": [
       "       CRIM    ZN  INDUS  CHAS    NOX     RM   AGE     DIS  RAD  TAX  PTRATIO  \\\n",
       "54  0.01360  75.0   4.00     0  0.410  5.888  47.6  7.3197    3  469     21.1   \n",
       "65  0.03584  80.0   3.37     0  0.398  6.290  17.8  6.6115    4  337     16.1   \n",
       "66  0.04379  80.0   3.37     0  0.398  5.787  31.1  6.6115    4  337     16.1   \n",
       "67  0.05789  12.5   6.07     0  0.409  5.878  21.4  6.4980    4  345     18.9   \n",
       "68  0.13554  12.5   6.07     0  0.409  5.594  36.8  6.4980    4  345     18.9   \n",
       "\n",
       "         B  LSTAT  MEDV  \n",
       "54  396.90  14.80  18.9  \n",
       "65  396.90   4.67  23.5  \n",
       "66  396.90  10.24  19.4  \n",
       "67  396.21   8.10  22.0  \n",
       "68  396.90  13.09  17.4  "
      ]
     },
     "execution_count": 2,
     "metadata": {},
     "output_type": "execute_result"
    }
   ],
   "source": [
    "data2 = data[data['TAX'] > data['TAX'].median()]\n",
    "print(data['TAX'].median())\n",
    "data2.head()"
   ]
  },
  {
   "cell_type": "code",
   "execution_count": 3,
   "id": "da918c0b",
   "metadata": {},
   "outputs": [
    {
     "data": {
      "text/plain": [
       "CHAS  RAD\n",
       "0     1        3\n",
       "      2        2\n",
       "      3        5\n",
       "      4       33\n",
       "      5       51\n",
       "      6       17\n",
       "      24     124\n",
       "1     5        7\n",
       "      24       8\n",
       "Name: CHAS, dtype: int64"
      ]
     },
     "execution_count": 3,
     "metadata": {},
     "output_type": "execute_result"
    }
   ],
   "source": [
    "data3 = data2.groupby(['CHAS','RAD'])['CHAS'].count()\n",
    "data3"
   ]
  },
  {
   "cell_type": "code",
   "execution_count": 4,
   "id": "faa5de7e",
   "metadata": {},
   "outputs": [
    {
     "data": {
      "text/html": [
       "<div>\n",
       "<style scoped>\n",
       "    .dataframe tbody tr th:only-of-type {\n",
       "        vertical-align: middle;\n",
       "    }\n",
       "\n",
       "    .dataframe tbody tr th {\n",
       "        vertical-align: top;\n",
       "    }\n",
       "\n",
       "    .dataframe thead th {\n",
       "        text-align: right;\n",
       "    }\n",
       "</style>\n",
       "<table border=\"1\" class=\"dataframe\">\n",
       "  <thead>\n",
       "    <tr style=\"text-align: right;\">\n",
       "      <th></th>\n",
       "      <th>CRIM</th>\n",
       "      <th>ZN</th>\n",
       "      <th>INDUS</th>\n",
       "      <th>CHAS</th>\n",
       "      <th>NOX</th>\n",
       "      <th>RM</th>\n",
       "      <th>AGE</th>\n",
       "      <th>DIS</th>\n",
       "      <th>RAD</th>\n",
       "      <th>TAX</th>\n",
       "      <th>PTRATIO</th>\n",
       "      <th>B</th>\n",
       "      <th>LSTAT</th>\n",
       "      <th>MEDV</th>\n",
       "    </tr>\n",
       "  </thead>\n",
       "  <tbody>\n",
       "    <tr>\n",
       "      <th>0</th>\n",
       "      <td>0.00632</td>\n",
       "      <td>18.0</td>\n",
       "      <td>2.31</td>\n",
       "      <td>0</td>\n",
       "      <td>0.538</td>\n",
       "      <td>6.575</td>\n",
       "      <td>65.2</td>\n",
       "      <td>4.0900</td>\n",
       "      <td>1</td>\n",
       "      <td>296</td>\n",
       "      <td>15.3</td>\n",
       "      <td>396.90</td>\n",
       "      <td>4.98</td>\n",
       "      <td>24.0</td>\n",
       "    </tr>\n",
       "    <tr>\n",
       "      <th>1</th>\n",
       "      <td>0.02731</td>\n",
       "      <td>0.0</td>\n",
       "      <td>7.07</td>\n",
       "      <td>0</td>\n",
       "      <td>0.469</td>\n",
       "      <td>6.421</td>\n",
       "      <td>78.9</td>\n",
       "      <td>4.9671</td>\n",
       "      <td>2</td>\n",
       "      <td>242</td>\n",
       "      <td>17.8</td>\n",
       "      <td>396.90</td>\n",
       "      <td>9.14</td>\n",
       "      <td>21.6</td>\n",
       "    </tr>\n",
       "    <tr>\n",
       "      <th>2</th>\n",
       "      <td>0.02729</td>\n",
       "      <td>0.0</td>\n",
       "      <td>7.07</td>\n",
       "      <td>0</td>\n",
       "      <td>0.469</td>\n",
       "      <td>7.185</td>\n",
       "      <td>61.1</td>\n",
       "      <td>4.9671</td>\n",
       "      <td>2</td>\n",
       "      <td>242</td>\n",
       "      <td>17.8</td>\n",
       "      <td>392.83</td>\n",
       "      <td>4.03</td>\n",
       "      <td>34.7</td>\n",
       "    </tr>\n",
       "    <tr>\n",
       "      <th>3</th>\n",
       "      <td>0.03237</td>\n",
       "      <td>0.0</td>\n",
       "      <td>2.18</td>\n",
       "      <td>0</td>\n",
       "      <td>0.458</td>\n",
       "      <td>6.998</td>\n",
       "      <td>45.8</td>\n",
       "      <td>6.0622</td>\n",
       "      <td>3</td>\n",
       "      <td>222</td>\n",
       "      <td>18.7</td>\n",
       "      <td>394.63</td>\n",
       "      <td>2.94</td>\n",
       "      <td>33.4</td>\n",
       "    </tr>\n",
       "    <tr>\n",
       "      <th>4</th>\n",
       "      <td>0.06905</td>\n",
       "      <td>0.0</td>\n",
       "      <td>2.18</td>\n",
       "      <td>0</td>\n",
       "      <td>0.458</td>\n",
       "      <td>7.147</td>\n",
       "      <td>54.2</td>\n",
       "      <td>6.0622</td>\n",
       "      <td>3</td>\n",
       "      <td>222</td>\n",
       "      <td>18.7</td>\n",
       "      <td>396.90</td>\n",
       "      <td>5.33</td>\n",
       "      <td>36.2</td>\n",
       "    </tr>\n",
       "    <tr>\n",
       "      <th>...</th>\n",
       "      <td>...</td>\n",
       "      <td>...</td>\n",
       "      <td>...</td>\n",
       "      <td>...</td>\n",
       "      <td>...</td>\n",
       "      <td>...</td>\n",
       "      <td>...</td>\n",
       "      <td>...</td>\n",
       "      <td>...</td>\n",
       "      <td>...</td>\n",
       "      <td>...</td>\n",
       "      <td>...</td>\n",
       "      <td>...</td>\n",
       "      <td>...</td>\n",
       "    </tr>\n",
       "    <tr>\n",
       "      <th>501</th>\n",
       "      <td>0.06263</td>\n",
       "      <td>0.0</td>\n",
       "      <td>11.93</td>\n",
       "      <td>0</td>\n",
       "      <td>0.573</td>\n",
       "      <td>6.593</td>\n",
       "      <td>69.1</td>\n",
       "      <td>2.4786</td>\n",
       "      <td>1</td>\n",
       "      <td>273</td>\n",
       "      <td>21.0</td>\n",
       "      <td>391.99</td>\n",
       "      <td>9.67</td>\n",
       "      <td>22.4</td>\n",
       "    </tr>\n",
       "    <tr>\n",
       "      <th>502</th>\n",
       "      <td>0.04527</td>\n",
       "      <td>0.0</td>\n",
       "      <td>11.93</td>\n",
       "      <td>0</td>\n",
       "      <td>0.573</td>\n",
       "      <td>NaN</td>\n",
       "      <td>76.7</td>\n",
       "      <td>2.2875</td>\n",
       "      <td>1</td>\n",
       "      <td>273</td>\n",
       "      <td>21.0</td>\n",
       "      <td>396.90</td>\n",
       "      <td>9.08</td>\n",
       "      <td>20.6</td>\n",
       "    </tr>\n",
       "    <tr>\n",
       "      <th>503</th>\n",
       "      <td>0.06076</td>\n",
       "      <td>0.0</td>\n",
       "      <td>11.93</td>\n",
       "      <td>0</td>\n",
       "      <td>0.573</td>\n",
       "      <td>6.976</td>\n",
       "      <td>91.0</td>\n",
       "      <td>2.1675</td>\n",
       "      <td>1</td>\n",
       "      <td>273</td>\n",
       "      <td>21.0</td>\n",
       "      <td>396.90</td>\n",
       "      <td>5.64</td>\n",
       "      <td>23.9</td>\n",
       "    </tr>\n",
       "    <tr>\n",
       "      <th>504</th>\n",
       "      <td>0.10959</td>\n",
       "      <td>0.0</td>\n",
       "      <td>11.93</td>\n",
       "      <td>0</td>\n",
       "      <td>0.573</td>\n",
       "      <td>6.794</td>\n",
       "      <td>89.3</td>\n",
       "      <td>2.3889</td>\n",
       "      <td>1</td>\n",
       "      <td>273</td>\n",
       "      <td>21.0</td>\n",
       "      <td>393.45</td>\n",
       "      <td>6.48</td>\n",
       "      <td>22.0</td>\n",
       "    </tr>\n",
       "    <tr>\n",
       "      <th>505</th>\n",
       "      <td>0.04741</td>\n",
       "      <td>0.0</td>\n",
       "      <td>11.93</td>\n",
       "      <td>0</td>\n",
       "      <td>0.573</td>\n",
       "      <td>6.030</td>\n",
       "      <td>80.8</td>\n",
       "      <td>2.5050</td>\n",
       "      <td>1</td>\n",
       "      <td>273</td>\n",
       "      <td>21.0</td>\n",
       "      <td>396.90</td>\n",
       "      <td>7.88</td>\n",
       "      <td>11.9</td>\n",
       "    </tr>\n",
       "  </tbody>\n",
       "</table>\n",
       "<p>506 rows × 14 columns</p>\n",
       "</div>"
      ],
      "text/plain": [
       "        CRIM    ZN  INDUS  CHAS    NOX     RM   AGE     DIS  RAD  TAX  \\\n",
       "0    0.00632  18.0   2.31     0  0.538  6.575  65.2  4.0900    1  296   \n",
       "1    0.02731   0.0   7.07     0  0.469  6.421  78.9  4.9671    2  242   \n",
       "2    0.02729   0.0   7.07     0  0.469  7.185  61.1  4.9671    2  242   \n",
       "3    0.03237   0.0   2.18     0  0.458  6.998  45.8  6.0622    3  222   \n",
       "4    0.06905   0.0   2.18     0  0.458  7.147  54.2  6.0622    3  222   \n",
       "..       ...   ...    ...   ...    ...    ...   ...     ...  ...  ...   \n",
       "501  0.06263   0.0  11.93     0  0.573  6.593  69.1  2.4786    1  273   \n",
       "502  0.04527   0.0  11.93     0  0.573    NaN  76.7  2.2875    1  273   \n",
       "503  0.06076   0.0  11.93     0  0.573  6.976  91.0  2.1675    1  273   \n",
       "504  0.10959   0.0  11.93     0  0.573  6.794  89.3  2.3889    1  273   \n",
       "505  0.04741   0.0  11.93     0  0.573  6.030  80.8  2.5050    1  273   \n",
       "\n",
       "     PTRATIO       B  LSTAT  MEDV  \n",
       "0       15.3  396.90   4.98  24.0  \n",
       "1       17.8  396.90   9.14  21.6  \n",
       "2       17.8  392.83   4.03  34.7  \n",
       "3       18.7  394.63   2.94  33.4  \n",
       "4       18.7  396.90   5.33  36.2  \n",
       "..       ...     ...    ...   ...  \n",
       "501     21.0  391.99   9.67  22.4  \n",
       "502     21.0  396.90   9.08  20.6  \n",
       "503     21.0  396.90   5.64  23.9  \n",
       "504     21.0  393.45   6.48  22.0  \n",
       "505     21.0  396.90   7.88  11.9  \n",
       "\n",
       "[506 rows x 14 columns]"
      ]
     },
     "execution_count": 4,
     "metadata": {},
     "output_type": "execute_result"
    }
   ],
   "source": [
    "import pandas as pd\n",
    "data = pd.read_csv('boston.csv')\n",
    "data"
   ]
  },
  {
   "cell_type": "code",
   "execution_count": 5,
   "id": "cee7b915",
   "metadata": {},
   "outputs": [
    {
     "name": "stdout",
     "output_type": "stream",
     "text": [
      "330.0\n"
     ]
    }
   ],
   "source": [
    "tax_median = data['TAX'].median()\n",
    "print(tax_median)"
   ]
  },
  {
   "cell_type": "code",
   "execution_count": 6,
   "id": "e8ca48fb",
   "metadata": {},
   "outputs": [
    {
     "name": "stdout",
     "output_type": "stream",
     "text": [
      "0      False\n",
      "1      False\n",
      "2      False\n",
      "3      False\n",
      "4      False\n",
      "       ...  \n",
      "501    False\n",
      "502    False\n",
      "503    False\n",
      "504    False\n",
      "505    False\n",
      "Name: TAX, Length: 506, dtype: bool\n"
     ]
    }
   ],
   "source": [
    "print(data['TAX'] > tax_median)"
   ]
  },
  {
   "cell_type": "code",
   "execution_count": 7,
   "id": "bb334cac",
   "metadata": {},
   "outputs": [
    {
     "name": "stdout",
     "output_type": "stream",
     "text": [
      "        CRIM    ZN  INDUS  CHAS    NOX     RM   AGE     DIS  RAD  TAX  \\\n",
      "54   0.01360  75.0   4.00     0  0.410  5.888  47.6  7.3197    3  469   \n",
      "65   0.03584  80.0   3.37     0  0.398  6.290  17.8  6.6115    4  337   \n",
      "66   0.04379  80.0   3.37     0  0.398  5.787  31.1  6.6115    4  337   \n",
      "67   0.05789  12.5   6.07     0  0.409  5.878  21.4  6.4980    4  345   \n",
      "68   0.13554  12.5   6.07     0  0.409  5.594  36.8  6.4980    4  345   \n",
      "..       ...   ...    ...   ...    ...    ...   ...     ...  ...  ...   \n",
      "496  0.28960   0.0   9.69     0  0.585  5.390  72.9  2.7986    6  391   \n",
      "497  0.26838   0.0   9.69     0  0.585    NaN  70.6  2.8927    6  391   \n",
      "498  0.23912   0.0   9.69     0  0.585  6.019  65.3  2.4091    6  391   \n",
      "499  0.17783   0.0   9.69     0  0.585  5.569  73.5  2.3999    6  391   \n",
      "500  0.22438   0.0   9.69     0  0.585  6.027  79.7  2.4982    6  391   \n",
      "\n",
      "     PTRATIO       B  LSTAT  MEDV  \n",
      "54      21.1  396.90  14.80  18.9  \n",
      "65      16.1  396.90   4.67  23.5  \n",
      "66      16.1  396.90  10.24  19.4  \n",
      "67      18.9  396.21   8.10  22.0  \n",
      "68      18.9  396.90  13.09  17.4  \n",
      "..       ...     ...    ...   ...  \n",
      "496     19.2  396.90  21.14  19.7  \n",
      "497     19.2  396.90  14.10  18.3  \n",
      "498     19.2  396.90  12.92  21.2  \n",
      "499     19.2  395.77  15.10  17.5  \n",
      "500     19.2  396.90  14.33  16.8  \n",
      "\n",
      "[250 rows x 14 columns]\n"
     ]
    }
   ],
   "source": [
    "print(data[data['TAX'] > tax_median])"
   ]
  },
  {
   "cell_type": "code",
   "execution_count": 8,
   "id": "b3416c89",
   "metadata": {},
   "outputs": [
    {
     "name": "stdout",
     "output_type": "stream",
     "text": [
      "     CHAS  RAD\n",
      "54      0    3\n",
      "65      0    4\n",
      "66      0    4\n",
      "67      0    4\n",
      "68      0    4\n",
      "..    ...  ...\n",
      "496     0    6\n",
      "497     0    6\n",
      "498     0    6\n",
      "499     0    6\n",
      "500     0    6\n",
      "\n",
      "[250 rows x 2 columns]\n"
     ]
    }
   ],
   "source": [
    "print(data[data['TAX'] > tax_median][['CHAS', 'RAD']])"
   ]
  },
  {
   "cell_type": "code",
   "execution_count": 9,
   "id": "dc0b5e67",
   "metadata": {},
   "outputs": [
    {
     "name": "stdout",
     "output_type": "stream",
     "text": [
      "[0 1]\n"
     ]
    }
   ],
   "source": [
    "data_new = data[data['TAX'] > tax_median][['CHAS', 'RAD']]\n",
    "print(data_new['CHAS'].unique())"
   ]
  },
  {
   "cell_type": "code",
   "execution_count": 10,
   "id": "c195e563",
   "metadata": {},
   "outputs": [
    {
     "name": "stdout",
     "output_type": "stream",
     "text": [
      "[ 3  4  5  6  2  1 24]\n"
     ]
    }
   ],
   "source": [
    "print(data_new['RAD'].unique())"
   ]
  },
  {
   "cell_type": "code",
   "execution_count": 11,
   "id": "6c117e13",
   "metadata": {},
   "outputs": [
    {
     "data": {
      "text/plain": [
       "CHAS  RAD\n",
       "0     1        3\n",
       "      2        2\n",
       "      3        5\n",
       "      4       33\n",
       "      5       51\n",
       "      6       17\n",
       "      24     124\n",
       "1     5        7\n",
       "      24       8\n",
       "Name: RAD, dtype: int64"
      ]
     },
     "execution_count": 11,
     "metadata": {},
     "output_type": "execute_result"
    }
   ],
   "source": [
    "data_new2 = data_new.groupby(['CHAS', 'RAD'])['RAD'].count()\n",
    "data_new2"
   ]
  },
  {
   "cell_type": "code",
   "execution_count": 12,
   "id": "f66a003d",
   "metadata": {},
   "outputs": [
    {
     "name": "stdout",
     "output_type": "stream",
     "text": [
      "<class 'pandas.core.series.Series'>\n"
     ]
    }
   ],
   "source": [
    "print(type(data_new2))"
   ]
  },
  {
   "cell_type": "code",
   "execution_count": 13,
   "id": "b2d6c917",
   "metadata": {},
   "outputs": [
    {
     "name": "stdout",
     "output_type": "stream",
     "text": [
      "          COUNT\n",
      "CHAS RAD       \n",
      "0    1        3\n",
      "     2        2\n",
      "     3        5\n",
      "     4       33\n",
      "     5       51\n",
      "     6       17\n",
      "     24     124\n",
      "1    5        7\n",
      "     24       8\n"
     ]
    }
   ],
   "source": [
    "data_new3 = pd.DataFrame(data_new2)\n",
    "data_new3.columns = ['COUNT']\n",
    "print(data_new3)"
   ]
  },
  {
   "cell_type": "code",
   "execution_count": 14,
   "id": "5b964710",
   "metadata": {},
   "outputs": [
    {
     "name": "stdout",
     "output_type": "stream",
     "text": [
      "          COUNT\n",
      "CHAS RAD       \n",
      "0    1        3\n",
      "     2        2\n",
      "     3        5\n",
      "     4       33\n",
      "     5       51\n",
      "     6       17\n",
      "     24     124\n",
      "1    5        7\n",
      "     24       8\n"
     ]
    }
   ],
   "source": [
    "import pandas as pd\n",
    "data = pd.read_csv('boston.csv')\n",
    "tax_median = data['TAX'].median()\n",
    "data_new = data[data['TAX'] > tax_median][['CHAS', 'RAD']]\n",
    "data_new2 = data_new.groupby(['CHAS', 'RAD'])['RAD'].count()\n",
    "data_new3 = pd.DataFrame(data_new2)\n",
    "data_new3.columns = ['COUNT']\n",
    "print(data_new3)"
   ]
  },
  {
   "cell_type": "markdown",
   "id": "000c8ea9",
   "metadata": {},
   "source": [
    "### 2. 오름차순/내림차순 정렬하기"
   ]
  },
  {
   "cell_type": "code",
   "execution_count": 15,
   "id": "31a8a011",
   "metadata": {},
   "outputs": [
    {
     "data": {
      "text/html": [
       "<div>\n",
       "<style scoped>\n",
       "    .dataframe tbody tr th:only-of-type {\n",
       "        vertical-align: middle;\n",
       "    }\n",
       "\n",
       "    .dataframe tbody tr th {\n",
       "        vertical-align: top;\n",
       "    }\n",
       "\n",
       "    .dataframe thead th {\n",
       "        text-align: right;\n",
       "    }\n",
       "</style>\n",
       "<table border=\"1\" class=\"dataframe\">\n",
       "  <thead>\n",
       "    <tr style=\"text-align: right;\">\n",
       "      <th></th>\n",
       "      <th>CRIM</th>\n",
       "      <th>ZN</th>\n",
       "      <th>INDUS</th>\n",
       "      <th>CHAS</th>\n",
       "      <th>NOX</th>\n",
       "      <th>RM</th>\n",
       "      <th>AGE</th>\n",
       "      <th>DIS</th>\n",
       "      <th>RAD</th>\n",
       "      <th>TAX</th>\n",
       "      <th>PTRATIO</th>\n",
       "      <th>B</th>\n",
       "      <th>LSTAT</th>\n",
       "      <th>MEDV</th>\n",
       "    </tr>\n",
       "  </thead>\n",
       "  <tbody>\n",
       "    <tr>\n",
       "      <th>0</th>\n",
       "      <td>0.00632</td>\n",
       "      <td>18.0</td>\n",
       "      <td>2.31</td>\n",
       "      <td>0</td>\n",
       "      <td>0.538</td>\n",
       "      <td>6.575</td>\n",
       "      <td>65.2</td>\n",
       "      <td>4.0900</td>\n",
       "      <td>1</td>\n",
       "      <td>296</td>\n",
       "      <td>15.3</td>\n",
       "      <td>396.90</td>\n",
       "      <td>4.98</td>\n",
       "      <td>24.0</td>\n",
       "    </tr>\n",
       "    <tr>\n",
       "      <th>1</th>\n",
       "      <td>0.02731</td>\n",
       "      <td>0.0</td>\n",
       "      <td>7.07</td>\n",
       "      <td>0</td>\n",
       "      <td>0.469</td>\n",
       "      <td>6.421</td>\n",
       "      <td>78.9</td>\n",
       "      <td>4.9671</td>\n",
       "      <td>2</td>\n",
       "      <td>242</td>\n",
       "      <td>17.8</td>\n",
       "      <td>396.90</td>\n",
       "      <td>9.14</td>\n",
       "      <td>21.6</td>\n",
       "    </tr>\n",
       "    <tr>\n",
       "      <th>2</th>\n",
       "      <td>0.02729</td>\n",
       "      <td>0.0</td>\n",
       "      <td>7.07</td>\n",
       "      <td>0</td>\n",
       "      <td>0.469</td>\n",
       "      <td>7.185</td>\n",
       "      <td>61.1</td>\n",
       "      <td>4.9671</td>\n",
       "      <td>2</td>\n",
       "      <td>242</td>\n",
       "      <td>17.8</td>\n",
       "      <td>392.83</td>\n",
       "      <td>4.03</td>\n",
       "      <td>34.7</td>\n",
       "    </tr>\n",
       "    <tr>\n",
       "      <th>3</th>\n",
       "      <td>0.03237</td>\n",
       "      <td>0.0</td>\n",
       "      <td>2.18</td>\n",
       "      <td>0</td>\n",
       "      <td>0.458</td>\n",
       "      <td>6.998</td>\n",
       "      <td>45.8</td>\n",
       "      <td>6.0622</td>\n",
       "      <td>3</td>\n",
       "      <td>222</td>\n",
       "      <td>18.7</td>\n",
       "      <td>394.63</td>\n",
       "      <td>2.94</td>\n",
       "      <td>33.4</td>\n",
       "    </tr>\n",
       "    <tr>\n",
       "      <th>4</th>\n",
       "      <td>0.06905</td>\n",
       "      <td>0.0</td>\n",
       "      <td>2.18</td>\n",
       "      <td>0</td>\n",
       "      <td>0.458</td>\n",
       "      <td>7.147</td>\n",
       "      <td>54.2</td>\n",
       "      <td>6.0622</td>\n",
       "      <td>3</td>\n",
       "      <td>222</td>\n",
       "      <td>18.7</td>\n",
       "      <td>396.90</td>\n",
       "      <td>5.33</td>\n",
       "      <td>36.2</td>\n",
       "    </tr>\n",
       "    <tr>\n",
       "      <th>...</th>\n",
       "      <td>...</td>\n",
       "      <td>...</td>\n",
       "      <td>...</td>\n",
       "      <td>...</td>\n",
       "      <td>...</td>\n",
       "      <td>...</td>\n",
       "      <td>...</td>\n",
       "      <td>...</td>\n",
       "      <td>...</td>\n",
       "      <td>...</td>\n",
       "      <td>...</td>\n",
       "      <td>...</td>\n",
       "      <td>...</td>\n",
       "      <td>...</td>\n",
       "    </tr>\n",
       "    <tr>\n",
       "      <th>501</th>\n",
       "      <td>0.06263</td>\n",
       "      <td>0.0</td>\n",
       "      <td>11.93</td>\n",
       "      <td>0</td>\n",
       "      <td>0.573</td>\n",
       "      <td>6.593</td>\n",
       "      <td>69.1</td>\n",
       "      <td>2.4786</td>\n",
       "      <td>1</td>\n",
       "      <td>273</td>\n",
       "      <td>21.0</td>\n",
       "      <td>391.99</td>\n",
       "      <td>9.67</td>\n",
       "      <td>22.4</td>\n",
       "    </tr>\n",
       "    <tr>\n",
       "      <th>502</th>\n",
       "      <td>0.04527</td>\n",
       "      <td>0.0</td>\n",
       "      <td>11.93</td>\n",
       "      <td>0</td>\n",
       "      <td>0.573</td>\n",
       "      <td>NaN</td>\n",
       "      <td>76.7</td>\n",
       "      <td>2.2875</td>\n",
       "      <td>1</td>\n",
       "      <td>273</td>\n",
       "      <td>21.0</td>\n",
       "      <td>396.90</td>\n",
       "      <td>9.08</td>\n",
       "      <td>20.6</td>\n",
       "    </tr>\n",
       "    <tr>\n",
       "      <th>503</th>\n",
       "      <td>0.06076</td>\n",
       "      <td>0.0</td>\n",
       "      <td>11.93</td>\n",
       "      <td>0</td>\n",
       "      <td>0.573</td>\n",
       "      <td>6.976</td>\n",
       "      <td>91.0</td>\n",
       "      <td>2.1675</td>\n",
       "      <td>1</td>\n",
       "      <td>273</td>\n",
       "      <td>21.0</td>\n",
       "      <td>396.90</td>\n",
       "      <td>5.64</td>\n",
       "      <td>23.9</td>\n",
       "    </tr>\n",
       "    <tr>\n",
       "      <th>504</th>\n",
       "      <td>0.10959</td>\n",
       "      <td>0.0</td>\n",
       "      <td>11.93</td>\n",
       "      <td>0</td>\n",
       "      <td>0.573</td>\n",
       "      <td>6.794</td>\n",
       "      <td>89.3</td>\n",
       "      <td>2.3889</td>\n",
       "      <td>1</td>\n",
       "      <td>273</td>\n",
       "      <td>21.0</td>\n",
       "      <td>393.45</td>\n",
       "      <td>6.48</td>\n",
       "      <td>22.0</td>\n",
       "    </tr>\n",
       "    <tr>\n",
       "      <th>505</th>\n",
       "      <td>0.04741</td>\n",
       "      <td>0.0</td>\n",
       "      <td>11.93</td>\n",
       "      <td>0</td>\n",
       "      <td>0.573</td>\n",
       "      <td>6.030</td>\n",
       "      <td>80.8</td>\n",
       "      <td>2.5050</td>\n",
       "      <td>1</td>\n",
       "      <td>273</td>\n",
       "      <td>21.0</td>\n",
       "      <td>396.90</td>\n",
       "      <td>7.88</td>\n",
       "      <td>11.9</td>\n",
       "    </tr>\n",
       "  </tbody>\n",
       "</table>\n",
       "<p>506 rows × 14 columns</p>\n",
       "</div>"
      ],
      "text/plain": [
       "        CRIM    ZN  INDUS  CHAS    NOX     RM   AGE     DIS  RAD  TAX  \\\n",
       "0    0.00632  18.0   2.31     0  0.538  6.575  65.2  4.0900    1  296   \n",
       "1    0.02731   0.0   7.07     0  0.469  6.421  78.9  4.9671    2  242   \n",
       "2    0.02729   0.0   7.07     0  0.469  7.185  61.1  4.9671    2  242   \n",
       "3    0.03237   0.0   2.18     0  0.458  6.998  45.8  6.0622    3  222   \n",
       "4    0.06905   0.0   2.18     0  0.458  7.147  54.2  6.0622    3  222   \n",
       "..       ...   ...    ...   ...    ...    ...   ...     ...  ...  ...   \n",
       "501  0.06263   0.0  11.93     0  0.573  6.593  69.1  2.4786    1  273   \n",
       "502  0.04527   0.0  11.93     0  0.573    NaN  76.7  2.2875    1  273   \n",
       "503  0.06076   0.0  11.93     0  0.573  6.976  91.0  2.1675    1  273   \n",
       "504  0.10959   0.0  11.93     0  0.573  6.794  89.3  2.3889    1  273   \n",
       "505  0.04741   0.0  11.93     0  0.573  6.030  80.8  2.5050    1  273   \n",
       "\n",
       "     PTRATIO       B  LSTAT  MEDV  \n",
       "0       15.3  396.90   4.98  24.0  \n",
       "1       17.8  396.90   9.14  21.6  \n",
       "2       17.8  392.83   4.03  34.7  \n",
       "3       18.7  394.63   2.94  33.4  \n",
       "4       18.7  396.90   5.33  36.2  \n",
       "..       ...     ...    ...   ...  \n",
       "501     21.0  391.99   9.67  22.4  \n",
       "502     21.0  396.90   9.08  20.6  \n",
       "503     21.0  396.90   5.64  23.9  \n",
       "504     21.0  393.45   6.48  22.0  \n",
       "505     21.0  396.90   7.88  11.9  \n",
       "\n",
       "[506 rows x 14 columns]"
      ]
     },
     "execution_count": 15,
     "metadata": {},
     "output_type": "execute_result"
    }
   ],
   "source": [
    "import pandas as pd\n",
    "data = pd.read_csv('boston.csv')\n",
    "data"
   ]
  },
  {
   "cell_type": "code",
   "execution_count": 16,
   "id": "61f9437a",
   "metadata": {},
   "outputs": [
    {
     "name": "stdout",
     "output_type": "stream",
     "text": [
      "     index     CRIM    ZN  INDUS  CHAS    NOX     RM   AGE      DIS  RAD  TAX  \\\n",
      "0      353  0.01709  90.0   2.02     0  0.410  6.728  36.1  12.1265    5  187   \n",
      "1      123  0.15038   0.0  25.65     0  0.581  5.856  97.0   1.9444    2  188   \n",
      "2      122  0.09299   0.0  25.65     0  0.581  5.961  92.9   2.0869    2  188   \n",
      "3      126  0.38735   0.0  25.65     0  0.581  5.613  95.6   1.7572    2  188   \n",
      "4      125  0.16902   0.0  25.65     0  0.581  5.986  88.4   1.9929    2  188   \n",
      "..     ...      ...   ...    ...   ...    ...    ...   ...      ...  ...  ...   \n",
      "501    492  0.11132   0.0  27.74     0  0.609  5.983  83.5   2.1099    4  711   \n",
      "502    491  0.10574   0.0  27.74     0  0.609  5.983  98.8   1.8681    4  711   \n",
      "503    490  0.20746   0.0  27.74     0  0.609  5.093  98.0   1.8226    4  711   \n",
      "504    489  0.18337   0.0  27.74     0  0.609  5.414  98.3   1.7554    4  711   \n",
      "505    488  0.15086   0.0  27.74     0  0.609  5.454  92.7   1.8209    4  711   \n",
      "\n",
      "     PTRATIO       B  LSTAT  MEDV  \n",
      "0       17.0  384.46   4.50  30.1  \n",
      "1       19.1  370.31  25.41  17.3  \n",
      "2       19.1  378.09  17.93  20.5  \n",
      "3       19.1  359.29  27.26  15.7  \n",
      "4       19.1  385.02  14.81  21.4  \n",
      "..       ...     ...    ...   ...  \n",
      "501     20.1  396.90  13.35  20.1  \n",
      "502     20.1  390.11  18.07  13.6  \n",
      "503     20.1  318.43  29.68   8.1  \n",
      "504     20.1  344.05  23.97   7.0  \n",
      "505     20.1  395.09  18.06  15.2  \n",
      "\n",
      "[506 rows x 15 columns]\n"
     ]
    }
   ],
   "source": [
    "data_asc = data.sort_values(by='TAX', ascending=True)\n",
    "print(data_asc.reset_index())"
   ]
  },
  {
   "cell_type": "code",
   "execution_count": 17,
   "id": "52856d53",
   "metadata": {},
   "outputs": [
    {
     "name": "stdout",
     "output_type": "stream",
     "text": [
      "     index     CRIM    ZN  INDUS  CHAS    NOX     RM   AGE      DIS  RAD  TAX  \\\n",
      "0      492  0.11132   0.0  27.74     0  0.609  5.983  83.5   2.1099    4  711   \n",
      "1      491  0.10574   0.0  27.74     0  0.609  5.983  98.8   1.8681    4  711   \n",
      "2      490  0.20746   0.0  27.74     0  0.609  5.093  98.0   1.8226    4  711   \n",
      "3      489  0.18337   0.0  27.74     0  0.609  5.414  98.3   1.7554    4  711   \n",
      "4      488  0.15086   0.0  27.74     0  0.609  5.454  92.7   1.8209    4  711   \n",
      "..     ...      ...   ...    ...   ...    ...    ...   ...      ...  ...  ...   \n",
      "501    121  0.07165   0.0  25.65     0  0.581  6.004  84.1   2.1974    2  188   \n",
      "502    120  0.06899   0.0  25.65     0  0.581  5.870  69.7   2.2577    2  188   \n",
      "503    125  0.16902   0.0  25.65     0  0.581  5.986  88.4   1.9929    2  188   \n",
      "504    124  0.09849   0.0  25.65     0  0.581  5.879  95.8   2.0063    2  188   \n",
      "505    353  0.01709  90.0   2.02     0  0.410  6.728  36.1  12.1265    5  187   \n",
      "\n",
      "     PTRATIO       B  LSTAT  MEDV  \n",
      "0       20.1  396.90  13.35  20.1  \n",
      "1       20.1  390.11  18.07  13.6  \n",
      "2       20.1  318.43  29.68   8.1  \n",
      "3       20.1  344.05  23.97   7.0  \n",
      "4       20.1  395.09  18.06  15.2  \n",
      "..       ...     ...    ...   ...  \n",
      "501     19.1  377.67  14.27  20.3  \n",
      "502     19.1  389.15  14.37  22.0  \n",
      "503     19.1  385.02  14.81  21.4  \n",
      "504     19.1  379.38  17.58  18.8  \n",
      "505     17.0  384.46   4.50  30.1  \n",
      "\n",
      "[506 rows x 15 columns]\n"
     ]
    }
   ],
   "source": [
    "data_desc = data.sort_values(by='TAX', ascending=False)\n",
    "print(data_desc.reset_index())"
   ]
  },
  {
   "cell_type": "code",
   "execution_count": 18,
   "id": "c7b36345",
   "metadata": {},
   "outputs": [
    {
     "name": "stdout",
     "output_type": "stream",
     "text": [
      "    CRIM   ZN  INDUS  CHAS  NOX   RM  AGE  DIS  RAD  TAX  PTRATIO    B  LSTAT  \\\n",
      "0    0.0  0.0    0.0     0  0.0  0.0  0.0  0.0    0    0      0.0  0.0    0.0   \n",
      "1    0.0  0.0    0.0     0  0.0  0.0  0.0  0.0    0    0      0.0  0.0    0.0   \n",
      "2    0.0  0.0    0.0     0  0.0  0.0  0.0  0.0    0    0      0.0  0.0    0.0   \n",
      "3    0.0  0.0    0.0     0  0.0  0.0  0.0  0.0    0    0      0.0  0.0    0.0   \n",
      "4    0.0  0.0    0.0     0  0.0  0.0  0.0  0.0    0    0      0.0  0.0    0.0   \n",
      "5    0.0  0.0    0.0     0  0.0  0.0  0.0  0.0    0    0      0.0  0.0    0.0   \n",
      "6    0.0  0.0    0.0     0  0.0  NaN  0.0  0.0    0    0      0.0  0.0    0.0   \n",
      "7    0.0  0.0    0.0     0  0.0  0.0  0.0  0.0    0    0      0.0  0.0    0.0   \n",
      "8    0.0  0.0    0.0     0  0.0  0.0  0.0  0.0    0    0      0.0  0.0    0.0   \n",
      "9    0.0  0.0    0.0     0  0.0  0.0  0.0  0.0    0    0      0.0  0.0    0.0   \n",
      "10   0.0  0.0    0.0     0  0.0  0.0  0.0  0.0    0    0      0.0  0.0    0.0   \n",
      "11   0.0  0.0    0.0     0  0.0  0.0  0.0  0.0    0    0      0.0  0.0    0.0   \n",
      "12   0.0  0.0    0.0     0  0.0  0.0  0.0  0.0    0    0      0.0  0.0    0.0   \n",
      "13   0.0  0.0    0.0     0  0.0  0.0  0.0  0.0    0    0      0.0  0.0    0.0   \n",
      "14   0.0  0.0    0.0     0  0.0  0.0  0.0  0.0    0    0      0.0  0.0    0.0   \n",
      "15   0.0  0.0    0.0     0  0.0  NaN  0.0  0.0    0    0      0.0  0.0    0.0   \n",
      "16   0.0  0.0    0.0     0  0.0  0.0  0.0  0.0    0    0      0.0  0.0    0.0   \n",
      "17   0.0  0.0    0.0     0  0.0  0.0  0.0  0.0    0    0      0.0  0.0    0.0   \n",
      "18   0.0  0.0    0.0     0  0.0  0.0  0.0  0.0    0    0      0.0  0.0    0.0   \n",
      "19   0.0  0.0    0.0     0  0.0  0.0  0.0  0.0    0    0      0.0  0.0    0.0   \n",
      "20   0.0  0.0    0.0     0  0.0  0.0  0.0  0.0    0    0      0.0  0.0    0.0   \n",
      "21   0.0  0.0    0.0     0  0.0  0.0  0.0  0.0    0    0      0.0  0.0    0.0   \n",
      "22   0.0  0.0    0.0     0  0.0  0.0  0.0  0.0    0    0      0.0  0.0    0.0   \n",
      "23   0.0  0.0    0.0     0  0.0  0.0  0.0  0.0    0    0      0.0  0.0    0.0   \n",
      "24   0.0  0.0    0.0     0  0.0  0.0  0.0  0.0    0    0      0.0  0.0    0.0   \n",
      "25   0.0  0.0    0.0     0  0.0  0.0  0.0  0.0    0    0      0.0  0.0    0.0   \n",
      "26   0.0  0.0    0.0     0  0.0  0.0  0.0  0.0    0    0      0.0  0.0    0.0   \n",
      "27   0.0  0.0    0.0     0  0.0  0.0  0.0  0.0    0    0      0.0  0.0    0.0   \n",
      "28   0.0  0.0    0.0     0  0.0  0.0  0.0  0.0    0    0      0.0  0.0    0.0   \n",
      "29   0.0  0.0    0.0     0  0.0  NaN  0.0  0.0    0    0      0.0  0.0    0.0   \n",
      "\n",
      "    MEDV  \n",
      "0    0.0  \n",
      "1    0.0  \n",
      "2    0.0  \n",
      "3    0.0  \n",
      "4    0.0  \n",
      "5    0.0  \n",
      "6    0.0  \n",
      "7    0.0  \n",
      "8    0.0  \n",
      "9    0.0  \n",
      "10   0.0  \n",
      "11   0.0  \n",
      "12   0.0  \n",
      "13   0.0  \n",
      "14   0.0  \n",
      "15   0.0  \n",
      "16   0.0  \n",
      "17   0.0  \n",
      "18   0.0  \n",
      "19   0.0  \n",
      "20   0.0  \n",
      "21   0.0  \n",
      "22   0.0  \n",
      "23   0.0  \n",
      "24   0.0  \n",
      "25   0.0  \n",
      "26   0.0  \n",
      "27   0.0  \n",
      "28   0.0  \n",
      "29   0.0  \n"
     ]
    }
   ],
   "source": [
    "data_diff = data_asc - data_desc\n",
    "print(data_diff.head(30))"
   ]
  },
  {
   "cell_type": "markdown",
   "id": "52364d40",
   "metadata": {},
   "source": [
    "Answer"
   ]
  },
  {
   "cell_type": "code",
   "execution_count": 19,
   "id": "c2c3a7ce",
   "metadata": {},
   "outputs": [
    {
     "name": "stdout",
     "output_type": "stream",
     "text": [
      "353    187\n",
      "123    188\n",
      "122    188\n",
      "126    188\n",
      "125    188\n",
      "      ... \n",
      "492    711\n",
      "491    711\n",
      "490    711\n",
      "489    711\n",
      "488    711\n",
      "Name: TAX, Length: 506, dtype: int64\n"
     ]
    }
   ],
   "source": [
    "import pandas as pd\n",
    "data = pd.read_csv('boston.csv')\n",
    "data_asc = data['TAX'].copy()\n",
    "data_desc = data['TAX'].copy()\n",
    "print(data_asc.sort_values(ascending=True))"
   ]
  },
  {
   "cell_type": "code",
   "execution_count": 20,
   "id": "f7f9ea9d",
   "metadata": {},
   "outputs": [
    {
     "name": "stdout",
     "output_type": "stream",
     "text": [
      "353    187\n",
      "123    188\n",
      "122    188\n",
      "126    188\n",
      "125    188\n",
      "      ... \n",
      "492    711\n",
      "491    711\n",
      "490    711\n",
      "489    711\n",
      "488    711\n",
      "Name: TAX, Length: 506, dtype: int64\n"
     ]
    }
   ],
   "source": [
    "data_asc.sort_values(inplace=True)\n",
    "print(data_asc)"
   ]
  },
  {
   "cell_type": "code",
   "execution_count": 21,
   "id": "0b12ddc4",
   "metadata": {},
   "outputs": [
    {
     "name": "stdout",
     "output_type": "stream",
     "text": [
      "492    711\n",
      "491    711\n",
      "490    711\n",
      "489    711\n",
      "488    711\n",
      "      ... \n",
      "121    188\n",
      "120    188\n",
      "125    188\n",
      "124    188\n",
      "353    187\n",
      "Name: TAX, Length: 506, dtype: int64\n"
     ]
    }
   ],
   "source": [
    "data_desc.sort_values(ascending=False, inplace=True)\n",
    "print(data_desc)"
   ]
  },
  {
   "cell_type": "code",
   "execution_count": 22,
   "id": "3fd9e101",
   "metadata": {},
   "outputs": [
    {
     "name": "stdout",
     "output_type": "stream",
     "text": [
      "0      187\n",
      "1      188\n",
      "2      188\n",
      "3      188\n",
      "4      188\n",
      "      ... \n",
      "501    711\n",
      "502    711\n",
      "503    711\n",
      "504    711\n",
      "505    711\n",
      "Name: TAX, Length: 506, dtype: int64\n"
     ]
    }
   ],
   "source": [
    "data_asc.reset_index(drop=True, inplace=True)\n",
    "print(data_asc)"
   ]
  },
  {
   "cell_type": "code",
   "execution_count": 23,
   "id": "ccc93815",
   "metadata": {},
   "outputs": [
    {
     "name": "stdout",
     "output_type": "stream",
     "text": [
      "0      711\n",
      "1      711\n",
      "2      711\n",
      "3      711\n",
      "4      711\n",
      "      ... \n",
      "501    188\n",
      "502    188\n",
      "503    188\n",
      "504    188\n",
      "505    187\n",
      "Name: TAX, Length: 506, dtype: int64\n"
     ]
    }
   ],
   "source": [
    "data_desc.reset_index(drop=True, inplace=True)\n",
    "print(data_desc)"
   ]
  },
  {
   "cell_type": "code",
   "execution_count": 24,
   "id": "e4c1672d",
   "metadata": {},
   "outputs": [
    {
     "name": "stdout",
     "output_type": "stream",
     "text": [
      "     TAX  TAX\n",
      "0    187  711\n",
      "1    188  711\n",
      "2    188  711\n",
      "3    188  711\n",
      "4    188  711\n",
      "..   ...  ...\n",
      "501  711  188\n",
      "502  711  188\n",
      "503  711  188\n",
      "504  711  188\n",
      "505  711  187\n",
      "\n",
      "[506 rows x 2 columns]\n"
     ]
    }
   ],
   "source": [
    "data_concat = pd.concat([data_asc, data_desc], axis=1)\n",
    "print(data_concat)"
   ]
  },
  {
   "cell_type": "code",
   "execution_count": 25,
   "id": "d91a7803",
   "metadata": {},
   "outputs": [
    {
     "name": "stdout",
     "output_type": "stream",
     "text": [
      "0      187\n",
      "1      188\n",
      "2      188\n",
      "3      188\n",
      "4      188\n",
      "      ... \n",
      "501    711\n",
      "502    711\n",
      "503    711\n",
      "504    711\n",
      "505    711\n",
      "Name: TAX, Length: 506, dtype: int64\n"
     ]
    }
   ],
   "source": [
    "print(data_concat.iloc[:,0])"
   ]
  },
  {
   "cell_type": "code",
   "execution_count": 26,
   "id": "e4436498",
   "metadata": {},
   "outputs": [
    {
     "name": "stdout",
     "output_type": "stream",
     "text": [
      "0      711\n",
      "1      711\n",
      "2      711\n",
      "3      711\n",
      "4      711\n",
      "      ... \n",
      "501    188\n",
      "502    188\n",
      "503    188\n",
      "504    188\n",
      "505    187\n",
      "Name: TAX, Length: 506, dtype: int64\n"
     ]
    }
   ],
   "source": [
    "print(data_concat.iloc[:,1])"
   ]
  },
  {
   "cell_type": "code",
   "execution_count": 27,
   "id": "538685f7",
   "metadata": {},
   "outputs": [
    {
     "name": "stdout",
     "output_type": "stream",
     "text": [
      "     TAX  TAX  diff\n",
      "0    187  711   524\n",
      "1    188  711   523\n",
      "2    188  711   523\n",
      "3    188  711   523\n",
      "4    188  711   523\n",
      "..   ...  ...   ...\n",
      "501  711  188   523\n",
      "502  711  188   523\n",
      "503  711  188   523\n",
      "504  711  188   523\n",
      "505  711  187   524\n",
      "\n",
      "[506 rows x 3 columns]\n"
     ]
    }
   ],
   "source": [
    "data_concat['diff'] = abs(data_concat.iloc[:,0] - data_concat.iloc[:,1])\n",
    "print(data_concat)"
   ]
  },
  {
   "cell_type": "code",
   "execution_count": 28,
   "id": "616325fc",
   "metadata": {},
   "outputs": [
    {
     "name": "stdout",
     "output_type": "stream",
     "text": [
      "28490.5986459515\n"
     ]
    }
   ],
   "source": [
    "print(data_concat['diff'].var())"
   ]
  },
  {
   "cell_type": "code",
   "execution_count": 29,
   "id": "7d0f08bd",
   "metadata": {},
   "outputs": [
    {
     "name": "stdout",
     "output_type": "stream",
     "text": [
      "28490.5986459515\n"
     ]
    }
   ],
   "source": [
    "import pandas as pd\n",
    "data = pd.read_csv('boston.csv')\n",
    "data_asc = data['TAX'].copy()\n",
    "data_desc = data['TAX'].copy()\n",
    "data_asc.sort_values(ascending=True, inplace=True)\n",
    "data_desc.sort_values(ascending=False, inplace=True)\n",
    "data_asc.reset_index(drop=True, inplace=True)\n",
    "data_desc.reset_index(drop=True, inplace=True)\n",
    "data_concat = pd.concat([data_asc, data_desc], axis=1)\n",
    "data_concat['diff'] = abs(data_concat.iloc[:,0] - data_concat.iloc[:,1])\n",
    "print(data_concat['diff'].var())"
   ]
  },
  {
   "cell_type": "markdown",
   "id": "5996110b",
   "metadata": {},
   "source": [
    "### 3. 최소최대 변환하기 : MinMaxScaler"
   ]
  },
  {
   "cell_type": "code",
   "execution_count": 30,
   "id": "1c6eb612",
   "metadata": {},
   "outputs": [
    {
     "name": "stdout",
     "output_type": "stream",
     "text": [
      "<class 'numpy.ndarray'>\n"
     ]
    }
   ],
   "source": [
    "import pandas as pd\n",
    "data = pd.read_csv('boston.csv')\n",
    "from sklearn.preprocessing import MinMaxScaler\n",
    "scaler = MinMaxScaler()\n",
    "data_minmax = scaler.fit_transform(data)\n",
    "print(type(data_minmax))"
   ]
  },
  {
   "cell_type": "code",
   "execution_count": 31,
   "id": "6111574b",
   "metadata": {},
   "outputs": [
    {
     "name": "stdout",
     "output_type": "stream",
     "text": [
      "[[0.00000000e+00 1.80000000e-01 6.78152493e-02 ... 1.00000000e+00\n",
      "  8.96799117e-02 4.22222222e-01]\n",
      " [2.35922539e-04 0.00000000e+00 2.42302053e-01 ... 1.00000000e+00\n",
      "  2.04470199e-01 3.68888889e-01]\n",
      " [2.35697744e-04 0.00000000e+00 2.42302053e-01 ... 9.89737254e-01\n",
      "  6.34657837e-02 6.60000000e-01]\n",
      " ...\n",
      " [6.11892474e-04 0.00000000e+00 4.20454545e-01 ... 1.00000000e+00\n",
      "  1.07891832e-01 4.20000000e-01]\n",
      " [1.16072990e-03 0.00000000e+00 4.20454545e-01 ... 9.91300620e-01\n",
      "  1.31070640e-01 3.77777778e-01]\n",
      " [4.61841693e-04 0.00000000e+00 4.20454545e-01 ... 1.00000000e+00\n",
      "  1.69701987e-01 1.53333333e-01]]\n"
     ]
    }
   ],
   "source": [
    "print(data_minmax)"
   ]
  },
  {
   "cell_type": "code",
   "execution_count": 32,
   "id": "e9fd5dd3",
   "metadata": {},
   "outputs": [
    {
     "name": "stdout",
     "output_type": "stream",
     "text": [
      "       CRIM    ZN     INDUS  CHAS       NOX        RM       AGE       DIS  \\\n",
      "0  0.000000  0.18  0.067815   0.0  0.314815  0.577505  0.641607  0.269203   \n",
      "1  0.000236  0.00  0.242302   0.0  0.172840  0.547998  0.782698  0.348962   \n",
      "2  0.000236  0.00  0.242302   0.0  0.172840  0.694386  0.599382  0.348962   \n",
      "\n",
      "        RAD       TAX   PTRATIO         B     LSTAT      MEDV  \n",
      "0  0.000000  0.208015  0.287234  1.000000  0.089680  0.422222  \n",
      "1  0.043478  0.104962  0.553191  1.000000  0.204470  0.368889  \n",
      "2  0.043478  0.104962  0.553191  0.989737  0.063466  0.660000  \n"
     ]
    }
   ],
   "source": [
    "data_minmax = pd.DataFrame(data_minmax, columns = data.columns)\n",
    "print(data_minmax.head(3))"
   ]
  },
  {
   "cell_type": "code",
   "execution_count": 33,
   "id": "71c8c203",
   "metadata": {},
   "outputs": [
    {
     "name": "stdout",
     "output_type": "stream",
     "text": [
      "count    506.000000\n",
      "mean       0.389618\n",
      "std        0.204380\n",
      "min        0.000000\n",
      "25%        0.267222\n",
      "50%        0.360000\n",
      "75%        0.444444\n",
      "max        1.000000\n",
      "Name: MEDV, dtype: float64\n"
     ]
    }
   ],
   "source": [
    "print(data_minmax['MEDV'].describe())"
   ]
  },
  {
   "cell_type": "code",
   "execution_count": 34,
   "id": "ef7864fc",
   "metadata": {},
   "outputs": [
    {
     "name": "stdout",
     "output_type": "stream",
     "text": [
      "0      False\n",
      "1      False\n",
      "2       True\n",
      "3       True\n",
      "4       True\n",
      "       ...  \n",
      "501    False\n",
      "502    False\n",
      "503    False\n",
      "504    False\n",
      "505    False\n",
      "Name: MEDV, Length: 506, dtype: bool\n"
     ]
    }
   ],
   "source": [
    "print(data_minmax['MEDV'] > 0.5)"
   ]
  },
  {
   "cell_type": "code",
   "execution_count": 35,
   "id": "b5a50e51",
   "metadata": {},
   "outputs": [
    {
     "name": "stdout",
     "output_type": "stream",
     "text": [
      "         CRIM    ZN     INDUS  CHAS       NOX        RM       AGE       DIS  \\\n",
      "2    0.000236  0.00  0.242302   0.0  0.172840  0.694386  0.599382  0.348962   \n",
      "3    0.000293  0.00  0.063050   0.0  0.150206  0.658555  0.441813  0.448545   \n",
      "4    0.000705  0.00  0.063050   0.0  0.150206  0.687105  0.528321  0.448545   \n",
      "5    0.000264  0.00  0.063050   0.0  0.150206  0.549722  0.574665  0.448545   \n",
      "39   0.000240  0.75  0.091276   0.0  0.088477  0.581337  0.194645  0.388428   \n",
      "..        ...   ...       ...   ...       ...       ...       ...       ...   \n",
      "370  0.073423  0.00  0.646628   1.0  0.506173  0.662004  0.974253  0.006620   \n",
      "371  0.103698  0.00  0.646628   0.0  0.506173  0.508718  1.000000  0.003592   \n",
      "372  0.092851  0.00  0.646628   1.0  0.582305  0.443380  0.892894  0.000000   \n",
      "407  0.134256  0.00  0.646628   0.0  0.563786  0.392221  1.000000  0.014149   \n",
      "473  0.052159  0.00  0.646628   0.0  0.471193  0.655106  0.666323  0.127609   \n",
      "\n",
      "          RAD       TAX   PTRATIO         B     LSTAT      MEDV  \n",
      "2    0.043478  0.104962  0.553191  0.989737  0.063466  0.660000  \n",
      "3    0.086957  0.066794  0.648936  0.994276  0.033389  0.631111  \n",
      "4    0.086957  0.066794  0.648936  1.000000  0.099338  0.693333  \n",
      "5    0.086957  0.066794  0.648936  0.992990  0.096026  0.526667  \n",
      "39   0.086957  0.124046  0.606383  0.996798  0.071468  0.573333  \n",
      "..        ...       ...       ...       ...       ...       ...  \n",
      "370  1.000000  0.914122  0.808511  0.987770  0.033940  1.000000  \n",
      "371  1.000000  0.914122  0.808511  0.922462  0.215232  1.000000  \n",
      "372  1.000000  0.914122  0.808511  0.876393  0.197296  1.000000  \n",
      "407  1.000000  0.914122  0.808511  0.836578  0.286976  0.508889  \n",
      "473  1.000000  0.914122  0.808511  0.943971  0.274007  0.551111  \n",
      "\n",
      "[106 rows x 14 columns]\n"
     ]
    }
   ],
   "source": [
    "print(data_minmax[data_minmax['MEDV'] > 0.5])"
   ]
  },
  {
   "cell_type": "code",
   "execution_count": 36,
   "id": "30de3389",
   "metadata": {},
   "outputs": [
    {
     "name": "stdout",
     "output_type": "stream",
     "text": [
      "2      0.660000\n",
      "3      0.631111\n",
      "4      0.693333\n",
      "5      0.526667\n",
      "39     0.573333\n",
      "         ...   \n",
      "370    1.000000\n",
      "371    1.000000\n",
      "372    1.000000\n",
      "407    0.508889\n",
      "473    0.551111\n",
      "Name: MEDV, Length: 106, dtype: float64\n"
     ]
    }
   ],
   "source": [
    "print(data_minmax[data_minmax['MEDV'] > 0.5]['MEDV'])"
   ]
  },
  {
   "cell_type": "code",
   "execution_count": 37,
   "id": "40ab4ae2",
   "metadata": {},
   "outputs": [
    {
     "name": "stdout",
     "output_type": "stream",
     "text": [
      "106\n"
     ]
    }
   ],
   "source": [
    "print(data_minmax[data_minmax['MEDV'] > 0.5]['MEDV'].count())"
   ]
  },
  {
   "cell_type": "code",
   "execution_count": 38,
   "id": "d584e8d2",
   "metadata": {},
   "outputs": [
    {
     "name": "stdout",
     "output_type": "stream",
     "text": [
      "106\n"
     ]
    }
   ],
   "source": [
    "import pandas as pd\n",
    "from sklearn.preprocessing import MinMaxScaler\n",
    "data = pd.read_csv('boston.csv')\n",
    "scaler = MinMaxScaler()\n",
    "data_minmax = scaler.fit_transform(data)\n",
    "data_minmax = pd.DataFrame(data_minmax, columns = data.columns)\n",
    "print(data_minmax[data_minmax['MEDV'] > 0.5]['MEDV'].count())"
   ]
  },
  {
   "cell_type": "markdown",
   "id": "0e254bf0",
   "metadata": {},
   "source": [
    "### 4. 빈도값 구하기"
   ]
  },
  {
   "cell_type": "markdown",
   "id": "8b659edc",
   "metadata": {},
   "source": [
    "- 첫 번째 방법"
   ]
  },
  {
   "cell_type": "code",
   "execution_count": 39,
   "id": "ce2991fb",
   "metadata": {},
   "outputs": [
    {
     "name": "stdout",
     "output_type": "stream",
     "text": [
      "0      65.2\n",
      "1      78.9\n",
      "2      61.1\n",
      "3      45.8\n",
      "4      54.2\n",
      "       ... \n",
      "501    69.1\n",
      "502    76.7\n",
      "503    91.0\n",
      "504    89.3\n",
      "505    80.8\n",
      "Name: AGE, Length: 506, dtype: float64\n"
     ]
    }
   ],
   "source": [
    "import pandas as pd\n",
    "data = pd.read_csv('boston.csv')\n",
    "print(data['AGE'])"
   ]
  },
  {
   "cell_type": "code",
   "execution_count": 46,
   "id": "4dfe489f",
   "metadata": {},
   "outputs": [
    {
     "name": "stdout",
     "output_type": "stream",
     "text": [
      "0      65.0\n",
      "1      79.0\n",
      "2      61.0\n",
      "3      46.0\n",
      "4      54.0\n",
      "       ... \n",
      "501    69.0\n",
      "502    77.0\n",
      "503    91.0\n",
      "504    89.0\n",
      "505    81.0\n",
      "Name: AGE, Length: 506, dtype: float64\n"
     ]
    }
   ],
   "source": [
    "print(round(data['AGE'],0))"
   ]
  },
  {
   "cell_type": "code",
   "execution_count": 48,
   "id": "d6cea521",
   "metadata": {},
   "outputs": [
    {
     "name": "stdout",
     "output_type": "stream",
     "text": [
      "AGE\n",
      "3.0       1\n",
      "6.0       3\n",
      "7.0       3\n",
      "8.0       3\n",
      "9.0       1\n",
      "         ..\n",
      "96.0     15\n",
      "97.0     17\n",
      "98.0     19\n",
      "99.0     10\n",
      "100.0    43\n",
      "Name: AGE, Length: 91, dtype: int64\n"
     ]
    }
   ],
   "source": [
    "data2 = round(data['AGE'], 0)\n",
    "data2 = pd.DataFrame(data2)\n",
    "print(data2.groupby(['AGE'])['AGE'].count())"
   ]
  },
  {
   "cell_type": "code",
   "execution_count": 49,
   "id": "c19f5351",
   "metadata": {},
   "outputs": [
    {
     "name": "stdout",
     "output_type": "stream",
     "text": [
      "AGE\n",
      "3.0       1\n",
      "6.0       3\n",
      "7.0       3\n",
      "8.0       3\n",
      "9.0       1\n",
      "         ..\n",
      "96.0     15\n",
      "97.0     17\n",
      "98.0     19\n",
      "99.0     10\n",
      "100.0    43\n",
      "Name: AGE, Length: 91, dtype: int64\n"
     ]
    }
   ],
   "source": [
    "data3 = data2.groupby(['AGE'])['AGE'].count()\n",
    "print(data3)"
   ]
  },
  {
   "cell_type": "code",
   "execution_count": 50,
   "id": "21229f26",
   "metadata": {},
   "outputs": [
    {
     "name": "stdout",
     "output_type": "stream",
     "text": [
      "<class 'pandas.core.series.Series'>\n"
     ]
    }
   ],
   "source": [
    "print(type(data3))"
   ]
  },
  {
   "cell_type": "code",
   "execution_count": 51,
   "id": "6110cd15",
   "metadata": {},
   "outputs": [
    {
     "name": "stdout",
     "output_type": "stream",
     "text": [
      "<class 'pandas.core.frame.DataFrame'>\n"
     ]
    }
   ],
   "source": [
    "data3 = pd.DataFrame(data3)\n",
    "print(type(data3))"
   ]
  },
  {
   "cell_type": "code",
   "execution_count": 52,
   "id": "f1902b22",
   "metadata": {},
   "outputs": [
    {
     "name": "stdout",
     "output_type": "stream",
     "text": [
      "Index(['AGE'], dtype='object')\n"
     ]
    }
   ],
   "source": [
    "print(data3.columns)"
   ]
  },
  {
   "cell_type": "code",
   "execution_count": 53,
   "id": "059e5c26",
   "metadata": {},
   "outputs": [
    {
     "name": "stdout",
     "output_type": "stream",
     "text": [
      "     COUNT\n",
      "AGE       \n",
      "3.0      1\n",
      "6.0      3\n",
      "7.0      3\n"
     ]
    }
   ],
   "source": [
    "data3.columns = ['COUNT']\n",
    "print(data3.head(3))"
   ]
  },
  {
   "cell_type": "code",
   "execution_count": 54,
   "id": "40675610",
   "metadata": {},
   "outputs": [
    {
     "name": "stdout",
     "output_type": "stream",
     "text": [
      "   AGE  COUNT\n",
      "0  3.0      1\n",
      "1  6.0      3\n",
      "2  7.0      3\n"
     ]
    }
   ],
   "source": [
    "data3.reset_index(drop=False, inplace=True)\n",
    "print(data3.head(3))"
   ]
  },
  {
   "cell_type": "code",
   "execution_count": 55,
   "id": "13f0dc03",
   "metadata": {},
   "outputs": [
    {
     "name": "stdout",
     "output_type": "stream",
     "text": [
      "      AGE  COUNT\n",
      "90  100.0     43\n",
      "88   98.0     19\n",
      "87   97.0     17\n"
     ]
    }
   ],
   "source": [
    "data3.sort_values(by='COUNT', ascending=False, inplace=True)\n",
    "print(data3.head(3))"
   ]
  },
  {
   "cell_type": "code",
   "execution_count": 56,
   "id": "5b0b007c",
   "metadata": {},
   "outputs": [
    {
     "name": "stdout",
     "output_type": "stream",
     "text": [
      "100.0 43\n"
     ]
    }
   ],
   "source": [
    "print(data3.iloc[0,0], data3.iloc[0,1])"
   ]
  },
  {
   "cell_type": "markdown",
   "id": "a73dac50",
   "metadata": {},
   "source": [
    "- 두 번째 방법"
   ]
  },
  {
   "cell_type": "code",
   "execution_count": 57,
   "id": "9232d24f",
   "metadata": {},
   "outputs": [
    {
     "name": "stdout",
     "output_type": "stream",
     "text": [
      "ModeResult(mode=array([[100.]]), count=array([[43]]))\n"
     ]
    }
   ],
   "source": [
    "from scipy.stats import mode\n",
    "print(mode(data2))"
   ]
  },
  {
   "cell_type": "code",
   "execution_count": 58,
   "id": "f3965f49",
   "metadata": {},
   "outputs": [
    {
     "name": "stdout",
     "output_type": "stream",
     "text": [
      "[[100.]]\n"
     ]
    }
   ],
   "source": [
    "print(mode(data2)[0])"
   ]
  },
  {
   "cell_type": "code",
   "execution_count": 59,
   "id": "575950bf",
   "metadata": {},
   "outputs": [
    {
     "name": "stdout",
     "output_type": "stream",
     "text": [
      "[[43]]\n"
     ]
    }
   ],
   "source": [
    "print(mode(data2)[1])"
   ]
  },
  {
   "cell_type": "code",
   "execution_count": 62,
   "id": "4e5d7d8b",
   "metadata": {},
   "outputs": [
    {
     "name": "stdout",
     "output_type": "stream",
     "text": [
      "100\n"
     ]
    }
   ],
   "source": [
    "print(int(mode(data2)[0][0][0]))"
   ]
  },
  {
   "cell_type": "code",
   "execution_count": 63,
   "id": "8f21159c",
   "metadata": {},
   "outputs": [
    {
     "name": "stdout",
     "output_type": "stream",
     "text": [
      "43\n"
     ]
    }
   ],
   "source": [
    "print(int(mode(data2)[1][0][0]))"
   ]
  },
  {
   "cell_type": "code",
   "execution_count": 64,
   "id": "0b729822",
   "metadata": {},
   "outputs": [
    {
     "name": "stdout",
     "output_type": "stream",
     "text": [
      "100 43\n"
     ]
    }
   ],
   "source": [
    "print(int(mode(data2)[0][0][0]), int(mode(data2)[1][0][0]))"
   ]
  },
  {
   "cell_type": "markdown",
   "id": "db28d090",
   "metadata": {},
   "source": [
    "### 5. 표준 변환하기(StandardScaler)"
   ]
  },
  {
   "cell_type": "code",
   "execution_count": 65,
   "id": "a32874bc",
   "metadata": {},
   "outputs": [
    {
     "name": "stdout",
     "output_type": "stream",
     "text": [
      "[[-0.41978194  0.28482986 -1.2879095  ...  0.44105193 -1.0755623\n",
      "   0.15968566]\n",
      " [-0.41733926 -0.48772236 -0.59338101 ...  0.44105193 -0.49243937\n",
      "  -0.10152429]\n",
      " [-0.41734159 -0.48772236 -0.59338101 ...  0.39642699 -1.2087274\n",
      "   1.32424667]\n",
      " ...\n",
      " [-0.41344658 -0.48772236  0.11573841 ...  0.44105193 -0.98304761\n",
      "   0.14880191]\n",
      " [-0.40776407 -0.48772236  0.11573841 ...  0.4032249  -0.86530163\n",
      "  -0.0579893 ]\n",
      " [-0.41500016 -0.48772236  0.11573841 ...  0.44105193 -0.66905833\n",
      "  -1.15724782]]\n"
     ]
    }
   ],
   "source": [
    "import pandas as pd\n",
    "from sklearn.preprocessing import StandardScaler\n",
    "data = pd.read_csv('boston.csv')\n",
    "scaler = StandardScaler()\n",
    "data2 = scaler.fit_transform(data)\n",
    "print(data2)"
   ]
  },
  {
   "cell_type": "code",
   "execution_count": 68,
   "id": "eda06d5d",
   "metadata": {},
   "outputs": [
    {
     "data": {
      "text/html": [
       "<div>\n",
       "<style scoped>\n",
       "    .dataframe tbody tr th:only-of-type {\n",
       "        vertical-align: middle;\n",
       "    }\n",
       "\n",
       "    .dataframe tbody tr th {\n",
       "        vertical-align: top;\n",
       "    }\n",
       "\n",
       "    .dataframe thead th {\n",
       "        text-align: right;\n",
       "    }\n",
       "</style>\n",
       "<table border=\"1\" class=\"dataframe\">\n",
       "  <thead>\n",
       "    <tr style=\"text-align: right;\">\n",
       "      <th></th>\n",
       "      <th>CRIM</th>\n",
       "      <th>ZN</th>\n",
       "      <th>INDUS</th>\n",
       "      <th>CHAS</th>\n",
       "      <th>NOX</th>\n",
       "      <th>RM</th>\n",
       "      <th>AGE</th>\n",
       "      <th>DIS</th>\n",
       "      <th>RAD</th>\n",
       "      <th>TAX</th>\n",
       "      <th>PTRATIO</th>\n",
       "      <th>B</th>\n",
       "      <th>LSTAT</th>\n",
       "      <th>MEDV</th>\n",
       "    </tr>\n",
       "  </thead>\n",
       "  <tbody>\n",
       "    <tr>\n",
       "      <th>0</th>\n",
       "      <td>-0.419782</td>\n",
       "      <td>0.284830</td>\n",
       "      <td>-1.287909</td>\n",
       "      <td>-0.272599</td>\n",
       "      <td>-0.144217</td>\n",
       "      <td>0.409823</td>\n",
       "      <td>-0.120013</td>\n",
       "      <td>0.140214</td>\n",
       "      <td>-0.982843</td>\n",
       "      <td>-0.666608</td>\n",
       "      <td>-1.459000</td>\n",
       "      <td>0.441052</td>\n",
       "      <td>-1.075562</td>\n",
       "      <td>0.159686</td>\n",
       "    </tr>\n",
       "    <tr>\n",
       "      <th>1</th>\n",
       "      <td>-0.417339</td>\n",
       "      <td>-0.487722</td>\n",
       "      <td>-0.593381</td>\n",
       "      <td>-0.272599</td>\n",
       "      <td>-0.740262</td>\n",
       "      <td>0.192116</td>\n",
       "      <td>0.367166</td>\n",
       "      <td>0.557160</td>\n",
       "      <td>-0.867883</td>\n",
       "      <td>-0.987329</td>\n",
       "      <td>-0.303094</td>\n",
       "      <td>0.441052</td>\n",
       "      <td>-0.492439</td>\n",
       "      <td>-0.101524</td>\n",
       "    </tr>\n",
       "    <tr>\n",
       "      <th>2</th>\n",
       "      <td>-0.417342</td>\n",
       "      <td>-0.487722</td>\n",
       "      <td>-0.593381</td>\n",
       "      <td>-0.272599</td>\n",
       "      <td>-0.740262</td>\n",
       "      <td>1.272167</td>\n",
       "      <td>-0.265812</td>\n",
       "      <td>0.557160</td>\n",
       "      <td>-0.867883</td>\n",
       "      <td>-0.987329</td>\n",
       "      <td>-0.303094</td>\n",
       "      <td>0.396427</td>\n",
       "      <td>-1.208727</td>\n",
       "      <td>1.324247</td>\n",
       "    </tr>\n",
       "    <tr>\n",
       "      <th>3</th>\n",
       "      <td>-0.416750</td>\n",
       "      <td>-0.487722</td>\n",
       "      <td>-1.306878</td>\n",
       "      <td>-0.272599</td>\n",
       "      <td>-0.835284</td>\n",
       "      <td>1.007809</td>\n",
       "      <td>-0.809889</td>\n",
       "      <td>1.077737</td>\n",
       "      <td>-0.752922</td>\n",
       "      <td>-1.106115</td>\n",
       "      <td>0.113032</td>\n",
       "      <td>0.416163</td>\n",
       "      <td>-1.361517</td>\n",
       "      <td>1.182758</td>\n",
       "    </tr>\n",
       "    <tr>\n",
       "      <th>4</th>\n",
       "      <td>-0.412482</td>\n",
       "      <td>-0.487722</td>\n",
       "      <td>-1.306878</td>\n",
       "      <td>-0.272599</td>\n",
       "      <td>-0.835284</td>\n",
       "      <td>1.218447</td>\n",
       "      <td>-0.511180</td>\n",
       "      <td>1.077737</td>\n",
       "      <td>-0.752922</td>\n",
       "      <td>-1.106115</td>\n",
       "      <td>0.113032</td>\n",
       "      <td>0.441052</td>\n",
       "      <td>-1.026501</td>\n",
       "      <td>1.487503</td>\n",
       "    </tr>\n",
       "    <tr>\n",
       "      <th>...</th>\n",
       "      <td>...</td>\n",
       "      <td>...</td>\n",
       "      <td>...</td>\n",
       "      <td>...</td>\n",
       "      <td>...</td>\n",
       "      <td>...</td>\n",
       "      <td>...</td>\n",
       "      <td>...</td>\n",
       "      <td>...</td>\n",
       "      <td>...</td>\n",
       "      <td>...</td>\n",
       "      <td>...</td>\n",
       "      <td>...</td>\n",
       "      <td>...</td>\n",
       "    </tr>\n",
       "    <tr>\n",
       "      <th>501</th>\n",
       "      <td>-0.413229</td>\n",
       "      <td>-0.487722</td>\n",
       "      <td>0.115738</td>\n",
       "      <td>-0.272599</td>\n",
       "      <td>0.158124</td>\n",
       "      <td>0.435269</td>\n",
       "      <td>0.018673</td>\n",
       "      <td>-0.625796</td>\n",
       "      <td>-0.982843</td>\n",
       "      <td>-0.803212</td>\n",
       "      <td>1.176466</td>\n",
       "      <td>0.387217</td>\n",
       "      <td>-0.418147</td>\n",
       "      <td>-0.014454</td>\n",
       "    </tr>\n",
       "    <tr>\n",
       "      <th>502</th>\n",
       "      <td>-0.415249</td>\n",
       "      <td>-0.487722</td>\n",
       "      <td>0.115738</td>\n",
       "      <td>-0.272599</td>\n",
       "      <td>0.158124</td>\n",
       "      <td>NaN</td>\n",
       "      <td>0.288933</td>\n",
       "      <td>-0.716639</td>\n",
       "      <td>-0.982843</td>\n",
       "      <td>-0.803212</td>\n",
       "      <td>1.176466</td>\n",
       "      <td>0.441052</td>\n",
       "      <td>-0.500850</td>\n",
       "      <td>-0.210362</td>\n",
       "    </tr>\n",
       "    <tr>\n",
       "      <th>503</th>\n",
       "      <td>-0.413447</td>\n",
       "      <td>-0.487722</td>\n",
       "      <td>0.115738</td>\n",
       "      <td>-0.272599</td>\n",
       "      <td>0.158124</td>\n",
       "      <td>0.976708</td>\n",
       "      <td>0.797449</td>\n",
       "      <td>-0.773684</td>\n",
       "      <td>-0.982843</td>\n",
       "      <td>-0.803212</td>\n",
       "      <td>1.176466</td>\n",
       "      <td>0.441052</td>\n",
       "      <td>-0.983048</td>\n",
       "      <td>0.148802</td>\n",
       "    </tr>\n",
       "    <tr>\n",
       "      <th>504</th>\n",
       "      <td>-0.407764</td>\n",
       "      <td>-0.487722</td>\n",
       "      <td>0.115738</td>\n",
       "      <td>-0.272599</td>\n",
       "      <td>0.158124</td>\n",
       "      <td>0.719419</td>\n",
       "      <td>0.736996</td>\n",
       "      <td>-0.668437</td>\n",
       "      <td>-0.982843</td>\n",
       "      <td>-0.803212</td>\n",
       "      <td>1.176466</td>\n",
       "      <td>0.403225</td>\n",
       "      <td>-0.865302</td>\n",
       "      <td>-0.057989</td>\n",
       "    </tr>\n",
       "    <tr>\n",
       "      <th>505</th>\n",
       "      <td>-0.415000</td>\n",
       "      <td>-0.487722</td>\n",
       "      <td>0.115738</td>\n",
       "      <td>-0.272599</td>\n",
       "      <td>0.158124</td>\n",
       "      <td>-0.360632</td>\n",
       "      <td>0.434732</td>\n",
       "      <td>-0.613246</td>\n",
       "      <td>-0.982843</td>\n",
       "      <td>-0.803212</td>\n",
       "      <td>1.176466</td>\n",
       "      <td>0.441052</td>\n",
       "      <td>-0.669058</td>\n",
       "      <td>-1.157248</td>\n",
       "    </tr>\n",
       "  </tbody>\n",
       "</table>\n",
       "<p>506 rows × 14 columns</p>\n",
       "</div>"
      ],
      "text/plain": [
       "         CRIM        ZN     INDUS      CHAS       NOX        RM       AGE  \\\n",
       "0   -0.419782  0.284830 -1.287909 -0.272599 -0.144217  0.409823 -0.120013   \n",
       "1   -0.417339 -0.487722 -0.593381 -0.272599 -0.740262  0.192116  0.367166   \n",
       "2   -0.417342 -0.487722 -0.593381 -0.272599 -0.740262  1.272167 -0.265812   \n",
       "3   -0.416750 -0.487722 -1.306878 -0.272599 -0.835284  1.007809 -0.809889   \n",
       "4   -0.412482 -0.487722 -1.306878 -0.272599 -0.835284  1.218447 -0.511180   \n",
       "..        ...       ...       ...       ...       ...       ...       ...   \n",
       "501 -0.413229 -0.487722  0.115738 -0.272599  0.158124  0.435269  0.018673   \n",
       "502 -0.415249 -0.487722  0.115738 -0.272599  0.158124       NaN  0.288933   \n",
       "503 -0.413447 -0.487722  0.115738 -0.272599  0.158124  0.976708  0.797449   \n",
       "504 -0.407764 -0.487722  0.115738 -0.272599  0.158124  0.719419  0.736996   \n",
       "505 -0.415000 -0.487722  0.115738 -0.272599  0.158124 -0.360632  0.434732   \n",
       "\n",
       "          DIS       RAD       TAX   PTRATIO         B     LSTAT      MEDV  \n",
       "0    0.140214 -0.982843 -0.666608 -1.459000  0.441052 -1.075562  0.159686  \n",
       "1    0.557160 -0.867883 -0.987329 -0.303094  0.441052 -0.492439 -0.101524  \n",
       "2    0.557160 -0.867883 -0.987329 -0.303094  0.396427 -1.208727  1.324247  \n",
       "3    1.077737 -0.752922 -1.106115  0.113032  0.416163 -1.361517  1.182758  \n",
       "4    1.077737 -0.752922 -1.106115  0.113032  0.441052 -1.026501  1.487503  \n",
       "..        ...       ...       ...       ...       ...       ...       ...  \n",
       "501 -0.625796 -0.982843 -0.803212  1.176466  0.387217 -0.418147 -0.014454  \n",
       "502 -0.716639 -0.982843 -0.803212  1.176466  0.441052 -0.500850 -0.210362  \n",
       "503 -0.773684 -0.982843 -0.803212  1.176466  0.441052 -0.983048  0.148802  \n",
       "504 -0.668437 -0.982843 -0.803212  1.176466  0.403225 -0.865302 -0.057989  \n",
       "505 -0.613246 -0.982843 -0.803212  1.176466  0.441052 -0.669058 -1.157248  \n",
       "\n",
       "[506 rows x 14 columns]"
      ]
     },
     "execution_count": 68,
     "metadata": {},
     "output_type": "execute_result"
    }
   ],
   "source": [
    "data3 = pd.DataFrame(data2, columns = data.columns)\n",
    "data3"
   ]
  },
  {
   "cell_type": "code",
   "execution_count": 75,
   "id": "ec649985",
   "metadata": {},
   "outputs": [
    {
     "data": {
      "text/plain": [
       "0.48"
      ]
     },
     "execution_count": 75,
     "metadata": {},
     "output_type": "execute_result"
    }
   ],
   "source": [
    "data4 = round(data3[(data3['DIS'] > 0.4) & (data3['DIS'] < 0.6)]['DIS'].mean(), 2)\n",
    "data4"
   ]
  },
  {
   "cell_type": "code",
   "execution_count": 78,
   "id": "794e842a",
   "metadata": {},
   "outputs": [
    {
     "name": "stdout",
     "output_type": "stream",
     "text": [
      "<class 'numpy.ndarray'>\n"
     ]
    }
   ],
   "source": [
    "import pandas as pd\n",
    "data = pd.read_csv('boston.csv')\n",
    "from sklearn.preprocessing import StandardScaler\n",
    "scaler = StandardScaler()\n",
    "\n",
    "data_stdd = scaler.fit_transform(data)\n",
    "print(type(data_stdd))"
   ]
  },
  {
   "cell_type": "code",
   "execution_count": 79,
   "id": "26b35f7c",
   "metadata": {},
   "outputs": [
    {
     "name": "stdout",
     "output_type": "stream",
     "text": [
      "         CRIM        ZN     INDUS      CHAS       NOX        RM       AGE  \\\n",
      "0   -0.419782  0.284830 -1.287909 -0.272599 -0.144217  0.409823 -0.120013   \n",
      "1   -0.417339 -0.487722 -0.593381 -0.272599 -0.740262  0.192116  0.367166   \n",
      "2   -0.417342 -0.487722 -0.593381 -0.272599 -0.740262  1.272167 -0.265812   \n",
      "3   -0.416750 -0.487722 -1.306878 -0.272599 -0.835284  1.007809 -0.809889   \n",
      "4   -0.412482 -0.487722 -1.306878 -0.272599 -0.835284  1.218447 -0.511180   \n",
      "..        ...       ...       ...       ...       ...       ...       ...   \n",
      "501 -0.413229 -0.487722  0.115738 -0.272599  0.158124  0.435269  0.018673   \n",
      "502 -0.415249 -0.487722  0.115738 -0.272599  0.158124       NaN  0.288933   \n",
      "503 -0.413447 -0.487722  0.115738 -0.272599  0.158124  0.976708  0.797449   \n",
      "504 -0.407764 -0.487722  0.115738 -0.272599  0.158124  0.719419  0.736996   \n",
      "505 -0.415000 -0.487722  0.115738 -0.272599  0.158124 -0.360632  0.434732   \n",
      "\n",
      "          DIS       RAD       TAX   PTRATIO         B     LSTAT      MEDV  \n",
      "0    0.140214 -0.982843 -0.666608 -1.459000  0.441052 -1.075562  0.159686  \n",
      "1    0.557160 -0.867883 -0.987329 -0.303094  0.441052 -0.492439 -0.101524  \n",
      "2    0.557160 -0.867883 -0.987329 -0.303094  0.396427 -1.208727  1.324247  \n",
      "3    1.077737 -0.752922 -1.106115  0.113032  0.416163 -1.361517  1.182758  \n",
      "4    1.077737 -0.752922 -1.106115  0.113032  0.441052 -1.026501  1.487503  \n",
      "..        ...       ...       ...       ...       ...       ...       ...  \n",
      "501 -0.625796 -0.982843 -0.803212  1.176466  0.387217 -0.418147 -0.014454  \n",
      "502 -0.716639 -0.982843 -0.803212  1.176466  0.441052 -0.500850 -0.210362  \n",
      "503 -0.773684 -0.982843 -0.803212  1.176466  0.441052 -0.983048  0.148802  \n",
      "504 -0.668437 -0.982843 -0.803212  1.176466  0.403225 -0.865302 -0.057989  \n",
      "505 -0.613246 -0.982843 -0.803212  1.176466  0.441052 -0.669058 -1.157248  \n",
      "\n",
      "[506 rows x 14 columns]\n"
     ]
    }
   ],
   "source": [
    "data_stdd = pd.DataFrame(data_stdd, columns = data.columns)\n",
    "print(data_stdd)"
   ]
  },
  {
   "cell_type": "code",
   "execution_count": 80,
   "id": "6fb2130e",
   "metadata": {},
   "outputs": [
    {
     "name": "stdout",
     "output_type": "stream",
     "text": [
      "0      False\n",
      "1       True\n",
      "2       True\n",
      "3      False\n",
      "4      False\n",
      "       ...  \n",
      "501    False\n",
      "502    False\n",
      "503    False\n",
      "504    False\n",
      "505    False\n",
      "Name: DIS, Length: 506, dtype: bool\n"
     ]
    }
   ],
   "source": [
    "print((data_stdd['DIS'] > 0.4) & (data_stdd['DIS'] < 0.6))"
   ]
  },
  {
   "cell_type": "code",
   "execution_count": 82,
   "id": "550f9ada",
   "metadata": {},
   "outputs": [
    {
     "name": "stdout",
     "output_type": "stream",
     "text": [
      "         CRIM        ZN     INDUS      CHAS       NOX        RM       AGE  \\\n",
      "1   -0.417339 -0.487722 -0.593381 -0.272599 -0.740262  0.192116  0.367166   \n",
      "2   -0.417342 -0.487722 -0.593381 -0.272599 -0.740262  1.272167 -0.265812   \n",
      "13  -0.347230 -0.487722 -0.437258 -0.272599 -0.144217 -0.475140 -0.240919   \n",
      "26  -0.342325 -0.487722 -0.437258 -0.272599 -0.144217 -0.667400  0.772557   \n",
      "78  -0.413947 -0.487722  0.247057 -0.272599 -1.016689 -0.075069 -0.528960   \n",
      "84  -0.414630 -0.487722 -0.969827 -0.272599 -0.913029  0.146879 -0.731655   \n",
      "276 -0.408334  1.229060 -0.689681  3.668398 -0.930305  1.388089 -0.696095   \n",
      "277 -0.413387  1.229060 -0.689681  3.668398 -0.930305  0.764656 -1.457091   \n",
      "280 -0.416354  0.370669 -1.139082 -0.272599 -0.965723  2.169853 -0.144906   \n",
      "322 -0.379654 -0.487722 -0.548149 -0.272599 -0.532942 -0.345082 -0.664090   \n",
      "323 -0.387477 -0.487722 -0.548149 -0.272599 -0.532942 -0.815837  0.203588   \n",
      "324 -0.380824 -0.487722 -0.548149 -0.272599 -0.532942  0.183634 -1.012584   \n",
      "338 -0.416670 -0.487722 -0.867691 -0.272599 -0.342899 -0.319635 -1.112153   \n",
      "339 -0.414120 -0.487722 -0.867691 -0.272599 -0.342899 -0.424248 -0.824113   \n",
      "340 -0.413359 -0.487722 -0.867691 -0.272599 -0.342899 -0.448280 -0.358269   \n",
      "\n",
      "          DIS       RAD       TAX   PTRATIO         B     LSTAT      MEDV  \n",
      "1    0.557160 -0.867883 -0.987329 -0.303094  0.441052 -0.492439 -0.101524  \n",
      "2    0.557160 -0.867883 -0.987329 -0.303094  0.396427 -1.208727  1.324247  \n",
      "13   0.433754 -0.637962 -0.601276  1.176466  0.441052 -0.615792 -0.232129  \n",
      "26   0.421632 -0.637962 -0.601276  1.176466  0.221545  0.302346 -0.645712  \n",
      "78   0.579502 -0.523001 -0.060801  0.113032  0.325926 -0.043883 -0.145059  \n",
      "84   0.467933 -0.752922 -0.957633  0.020560  0.441052 -0.425156  0.148802  \n",
      "276  0.471641 -0.637962 -0.916058 -0.395567  0.357175 -0.925576  1.160990  \n",
      "277  0.507579 -0.637962 -0.916058 -0.395567  0.403225 -1.190505  1.150107  \n",
      "280  0.427669 -0.523001 -1.141751 -1.643945  0.335904 -1.246574  2.488808  \n",
      "322  0.440219 -0.523001 -0.720062  0.529158  0.441052 -0.694290 -0.232129  \n",
      "323  0.440219 -0.523001 -0.720062  0.529158  0.377788 -0.127988 -0.438920  \n",
      "324  0.440219 -0.523001 -0.720062  0.529158  0.441052 -0.915764  0.268523  \n",
      "338  0.483525 -0.523001 -1.094237  0.806576  0.432719 -0.580749 -0.210362  \n",
      "339  0.483525 -0.523001 -1.094237  0.806576  0.441052 -0.408335 -0.384502  \n",
      "340  0.483525 -0.523001 -1.094237  0.806576  0.441052 -0.471413 -0.417153  \n"
     ]
    }
   ],
   "source": [
    "print(data_stdd[(data_stdd['DIS'] > 0.4) & (data_stdd['DIS'] < 0.6)])\n",
    "data_stdd = data_stdd[(data_stdd['DIS'] > 0.4) & (data_stdd['DIS'] < 0.6)]"
   ]
  },
  {
   "cell_type": "code",
   "execution_count": 83,
   "id": "d2b9a56e",
   "metadata": {},
   "outputs": [
    {
     "data": {
      "text/plain": [
       "1      0.557160\n",
       "2      0.557160\n",
       "13     0.433754\n",
       "26     0.421632\n",
       "78     0.579502\n",
       "84     0.467933\n",
       "276    0.471641\n",
       "277    0.507579\n",
       "280    0.427669\n",
       "322    0.440219\n",
       "323    0.440219\n",
       "324    0.440219\n",
       "338    0.483525\n",
       "339    0.483525\n",
       "340    0.483525\n",
       "Name: DIS, dtype: float64"
      ]
     },
     "execution_count": 83,
     "metadata": {},
     "output_type": "execute_result"
    }
   ],
   "source": [
    "data_stdd['DIS']"
   ]
  },
  {
   "cell_type": "code",
   "execution_count": 84,
   "id": "c1b0296d",
   "metadata": {},
   "outputs": [
    {
     "name": "stdout",
     "output_type": "stream",
     "text": [
      "0.479684212855197\n"
     ]
    }
   ],
   "source": [
    "print(data_stdd['DIS'].mean())"
   ]
  },
  {
   "cell_type": "code",
   "execution_count": 85,
   "id": "d51cf2cc",
   "metadata": {},
   "outputs": [
    {
     "name": "stdout",
     "output_type": "stream",
     "text": [
      "0.48\n"
     ]
    }
   ],
   "source": [
    "print(round(data_stdd['DIS'].mean(),2))"
   ]
  },
  {
   "cell_type": "code",
   "execution_count": 86,
   "id": "b7dbd6e8",
   "metadata": {},
   "outputs": [
    {
     "name": "stdout",
     "output_type": "stream",
     "text": [
      "0.48\n"
     ]
    }
   ],
   "source": [
    "import pandas as pd\n",
    "from sklearn.preprocessing import StandardScaler\n",
    "data = pd.read_csv('boston.csv')\n",
    "scaler = StandardScaler()\n",
    "data_stdd = scaler.fit_transform(data)\n",
    "data_stdd = pd.DataFrame(data_stdd, columns = data.columns)\n",
    "data_stdd = data_stdd[(data_stdd['DIS'] > 0.4) & (data_stdd['DIS'] < 0.6)]\n",
    "print(round(data_stdd['DIS'].mean(), 2))"
   ]
  },
  {
   "cell_type": "markdown",
   "id": "49423bae",
   "metadata": {},
   "source": [
    "### 6. 유니크한 값 구하기"
   ]
  },
  {
   "cell_type": "code",
   "execution_count": 89,
   "id": "c9105424",
   "metadata": {},
   "outputs": [
    {
     "data": {
      "text/html": [
       "<div>\n",
       "<style scoped>\n",
       "    .dataframe tbody tr th:only-of-type {\n",
       "        vertical-align: middle;\n",
       "    }\n",
       "\n",
       "    .dataframe tbody tr th {\n",
       "        vertical-align: top;\n",
       "    }\n",
       "\n",
       "    .dataframe thead th {\n",
       "        text-align: right;\n",
       "    }\n",
       "</style>\n",
       "<table border=\"1\" class=\"dataframe\">\n",
       "  <thead>\n",
       "    <tr style=\"text-align: right;\">\n",
       "      <th></th>\n",
       "      <th>CRIM</th>\n",
       "      <th>ZN</th>\n",
       "      <th>INDUS</th>\n",
       "      <th>CHAS</th>\n",
       "      <th>NOX</th>\n",
       "      <th>RM</th>\n",
       "      <th>AGE</th>\n",
       "      <th>DIS</th>\n",
       "      <th>RAD</th>\n",
       "      <th>TAX</th>\n",
       "      <th>PTRATIO</th>\n",
       "      <th>B</th>\n",
       "      <th>LSTAT</th>\n",
       "      <th>MEDV</th>\n",
       "    </tr>\n",
       "  </thead>\n",
       "  <tbody>\n",
       "    <tr>\n",
       "      <th>0</th>\n",
       "      <td>0.00632</td>\n",
       "      <td>18.0</td>\n",
       "      <td>2.31</td>\n",
       "      <td>0</td>\n",
       "      <td>0.538</td>\n",
       "      <td>6.575</td>\n",
       "      <td>65.2</td>\n",
       "      <td>4.0900</td>\n",
       "      <td>1</td>\n",
       "      <td>296</td>\n",
       "      <td>15.3</td>\n",
       "      <td>396.90</td>\n",
       "      <td>4.98</td>\n",
       "      <td>24.0</td>\n",
       "    </tr>\n",
       "    <tr>\n",
       "      <th>1</th>\n",
       "      <td>0.02731</td>\n",
       "      <td>0.0</td>\n",
       "      <td>7.07</td>\n",
       "      <td>0</td>\n",
       "      <td>0.469</td>\n",
       "      <td>6.421</td>\n",
       "      <td>78.9</td>\n",
       "      <td>4.9671</td>\n",
       "      <td>2</td>\n",
       "      <td>242</td>\n",
       "      <td>17.8</td>\n",
       "      <td>396.90</td>\n",
       "      <td>9.14</td>\n",
       "      <td>21.6</td>\n",
       "    </tr>\n",
       "    <tr>\n",
       "      <th>2</th>\n",
       "      <td>0.02729</td>\n",
       "      <td>0.0</td>\n",
       "      <td>7.07</td>\n",
       "      <td>0</td>\n",
       "      <td>0.469</td>\n",
       "      <td>7.185</td>\n",
       "      <td>61.1</td>\n",
       "      <td>4.9671</td>\n",
       "      <td>2</td>\n",
       "      <td>242</td>\n",
       "      <td>17.8</td>\n",
       "      <td>392.83</td>\n",
       "      <td>4.03</td>\n",
       "      <td>34.7</td>\n",
       "    </tr>\n",
       "    <tr>\n",
       "      <th>3</th>\n",
       "      <td>0.03237</td>\n",
       "      <td>0.0</td>\n",
       "      <td>2.18</td>\n",
       "      <td>0</td>\n",
       "      <td>0.458</td>\n",
       "      <td>6.998</td>\n",
       "      <td>45.8</td>\n",
       "      <td>6.0622</td>\n",
       "      <td>3</td>\n",
       "      <td>222</td>\n",
       "      <td>18.7</td>\n",
       "      <td>394.63</td>\n",
       "      <td>2.94</td>\n",
       "      <td>33.4</td>\n",
       "    </tr>\n",
       "    <tr>\n",
       "      <th>4</th>\n",
       "      <td>0.06905</td>\n",
       "      <td>0.0</td>\n",
       "      <td>2.18</td>\n",
       "      <td>0</td>\n",
       "      <td>0.458</td>\n",
       "      <td>7.147</td>\n",
       "      <td>54.2</td>\n",
       "      <td>6.0622</td>\n",
       "      <td>3</td>\n",
       "      <td>222</td>\n",
       "      <td>18.7</td>\n",
       "      <td>396.90</td>\n",
       "      <td>5.33</td>\n",
       "      <td>36.2</td>\n",
       "    </tr>\n",
       "  </tbody>\n",
       "</table>\n",
       "</div>"
      ],
      "text/plain": [
       "      CRIM    ZN  INDUS  CHAS    NOX     RM   AGE     DIS  RAD  TAX  PTRATIO  \\\n",
       "0  0.00632  18.0   2.31     0  0.538  6.575  65.2  4.0900    1  296     15.3   \n",
       "1  0.02731   0.0   7.07     0  0.469  6.421  78.9  4.9671    2  242     17.8   \n",
       "2  0.02729   0.0   7.07     0  0.469  7.185  61.1  4.9671    2  242     17.8   \n",
       "3  0.03237   0.0   2.18     0  0.458  6.998  45.8  6.0622    3  222     18.7   \n",
       "4  0.06905   0.0   2.18     0  0.458  7.147  54.2  6.0622    3  222     18.7   \n",
       "\n",
       "        B  LSTAT  MEDV  \n",
       "0  396.90   4.98  24.0  \n",
       "1  396.90   9.14  21.6  \n",
       "2  392.83   4.03  34.7  \n",
       "3  394.63   2.94  33.4  \n",
       "4  396.90   5.33  36.2  "
      ]
     },
     "execution_count": 89,
     "metadata": {},
     "output_type": "execute_result"
    }
   ],
   "source": [
    "import pandas as pd\n",
    "data = pd.read_csv('boston.csv')\n",
    "data.head(5)"
   ]
  },
  {
   "cell_type": "code",
   "execution_count": 91,
   "id": "3a6ada97",
   "metadata": {},
   "outputs": [
    {
     "data": {
      "text/plain": [
       "array([ 18. ,   0. ,  12.5,  75. ,  21. ,  90. ,  85. , 100. ,  25. ,\n",
       "        17.5,  80. ,  28. ,  45. ,  60. ,  95. ,  82.5,  30. ,  22. ,\n",
       "        20. ,  40. ,  55. ,  52.5,  70. ,  34. ,  33. ,  35. ])"
      ]
     },
     "execution_count": 91,
     "metadata": {},
     "output_type": "execute_result"
    }
   ],
   "source": [
    "data['ZN'].unique()"
   ]
  },
  {
   "cell_type": "code",
   "execution_count": 93,
   "id": "656327bd",
   "metadata": {},
   "outputs": [
    {
     "data": {
      "text/plain": [
       "Index(['CRIM', 'ZN', 'INDUS', 'CHAS', 'NOX', 'RM', 'AGE', 'DIS', 'RAD', 'TAX',\n",
       "       'PTRATIO', 'B', 'LSTAT', 'MEDV'],\n",
       "      dtype='object')"
      ]
     },
     "execution_count": 93,
     "metadata": {},
     "output_type": "execute_result"
    }
   ],
   "source": [
    "data.columns"
   ]
  },
  {
   "cell_type": "code",
   "execution_count": 94,
   "id": "7914adb3",
   "metadata": {},
   "outputs": [
    {
     "name": "stdout",
     "output_type": "stream",
     "text": [
      "CRIM 504\n",
      "ZN 26\n",
      "INDUS 76\n",
      "CHAS 2\n",
      "NOX 81\n",
      "RM 434\n",
      "AGE 356\n",
      "DIS 412\n",
      "RAD 9\n",
      "TAX 66\n",
      "PTRATIO 46\n",
      "B 357\n",
      "LSTAT 455\n",
      "MEDV 229\n"
     ]
    }
   ],
   "source": [
    "for i in data.columns:\n",
    "    print(i, len(data[i].unique()))"
   ]
  },
  {
   "cell_type": "code",
   "execution_count": 96,
   "id": "a29ff1ef",
   "metadata": {},
   "outputs": [
    {
     "name": "stdout",
     "output_type": "stream",
     "text": [
      "Index(['CRIM', 'ZN', 'INDUS', 'CHAS', 'NOX', 'RM', 'AGE', 'DIS', 'RAD', 'TAX',\n",
      "       'PTRATIO', 'B', 'LSTAT', 'MEDV'],\n",
      "      dtype='object')\n"
     ]
    }
   ],
   "source": [
    "import pandas as pd\n",
    "data = pd.read_csv('boston.csv')\n",
    "print(data.columns)"
   ]
  },
  {
   "cell_type": "code",
   "execution_count": 97,
   "id": "4955e4a6",
   "metadata": {},
   "outputs": [
    {
     "name": "stdout",
     "output_type": "stream",
     "text": [
      "14\n"
     ]
    }
   ],
   "source": [
    "data_col = data.columns\n",
    "print(data_col.size)"
   ]
  },
  {
   "cell_type": "code",
   "execution_count": 98,
   "id": "f020b898",
   "metadata": {},
   "outputs": [
    {
     "name": "stdout",
     "output_type": "stream",
     "text": [
      "[0 1]\n"
     ]
    }
   ],
   "source": [
    "print(data['CHAS'].unique())"
   ]
  },
  {
   "cell_type": "code",
   "execution_count": 99,
   "id": "27c8326e",
   "metadata": {},
   "outputs": [
    {
     "name": "stdout",
     "output_type": "stream",
     "text": [
      "   0\n",
      "0  0\n",
      "1  1\n"
     ]
    }
   ],
   "source": [
    "print(pd.DataFrame(data['CHAS'].unique()))"
   ]
  },
  {
   "cell_type": "code",
   "execution_count": 102,
   "id": "9572163c",
   "metadata": {},
   "outputs": [
    {
     "name": "stdout",
     "output_type": "stream",
     "text": [
      "0    2\n",
      "dtype: int64\n"
     ]
    }
   ],
   "source": [
    "print(pd.DataFrame(data['CHAS'].unique()).count())"
   ]
  },
  {
   "cell_type": "code",
   "execution_count": 103,
   "id": "d9a07e33",
   "metadata": {},
   "outputs": [
    {
     "name": "stdout",
     "output_type": "stream",
     "text": [
      "2\n"
     ]
    }
   ],
   "source": [
    "print(int(pd.DataFrame(data['CHAS'].unique()).count()))"
   ]
  },
  {
   "cell_type": "code",
   "execution_count": 105,
   "id": "764a2c6b",
   "metadata": {},
   "outputs": [
    {
     "name": "stdout",
     "output_type": "stream",
     "text": [
      "26\n"
     ]
    }
   ],
   "source": [
    "print(int(pd.DataFrame(data['ZN'].unique()).count())) # 이렇게 계속 반복..."
   ]
  },
  {
   "cell_type": "markdown",
   "id": "56851495",
   "metadata": {},
   "source": [
    "- 두 번째 방법"
   ]
  },
  {
   "cell_type": "code",
   "execution_count": 106,
   "id": "fd34b9bb",
   "metadata": {},
   "outputs": [],
   "source": [
    "sum = 0\n",
    "for i in data_col:\n",
    "    sum = sum + int(pd.DataFrame(data[i].unique()).count()[0])"
   ]
  },
  {
   "cell_type": "code",
   "execution_count": 107,
   "id": "5db37271",
   "metadata": {},
   "outputs": [
    {
     "name": "stdout",
     "output_type": "stream",
     "text": [
      "3052\n"
     ]
    }
   ],
   "source": [
    "print(sum)"
   ]
  },
  {
   "cell_type": "code",
   "execution_count": 108,
   "id": "d511372f",
   "metadata": {},
   "outputs": [
    {
     "name": "stdout",
     "output_type": "stream",
     "text": [
      "218.0\n"
     ]
    }
   ],
   "source": [
    "print(sum/data_col.size)"
   ]
  },
  {
   "cell_type": "code",
   "execution_count": 112,
   "id": "0f98acc1",
   "metadata": {},
   "outputs": [
    {
     "name": "stdout",
     "output_type": "stream",
     "text": [
      "218.0\n"
     ]
    }
   ],
   "source": [
    "import pandas as pd\n",
    "data = pd.read_csv(\"boston.csv\")\n",
    "data_col = data.columns\n",
    "sum = 0\n",
    "for i in data_col:\n",
    "    sum = sum + int(pd.DataFrame(data[i].unique()).count()[0])\n",
    "print(sum/data_col.size)"
   ]
  },
  {
   "cell_type": "code",
   "execution_count": 114,
   "id": "933f56af",
   "metadata": {},
   "outputs": [
    {
     "name": "stdout",
     "output_type": "stream",
     "text": [
      "['__SKLEARN_SETUP__', '__all__', '__builtins__', '__cached__', '__check_build', '__doc__', '__file__', '__loader__', '__name__', '__package__', '__path__', '__spec__', '__version__', '_config', '_distributor_init', 'base', 'clone', 'config_context', 'exceptions', 'get_config', 'logger', 'logging', 'os', 'preprocessing', 'random', 'set_config', 'setup_module', 'show_versions', 'sys', 'utils']\n"
     ]
    }
   ],
   "source": [
    "import sklearn\n",
    "print(dir(sklearn))"
   ]
  },
  {
   "cell_type": "code",
   "execution_count": 115,
   "id": "70a97c1d",
   "metadata": {},
   "outputs": [
    {
     "name": "stdout",
     "output_type": "stream",
     "text": [
      "['Binarizer', 'FunctionTransformer', 'KBinsDiscretizer', 'KernelCenterer', 'LabelBinarizer', 'LabelEncoder', 'MaxAbsScaler', 'MinMaxScaler', 'MultiLabelBinarizer', 'Normalizer', 'OneHotEncoder', 'OrdinalEncoder', 'PolynomialFeatures', 'PowerTransformer', 'QuantileTransformer', 'RobustScaler', 'StandardScaler', '__all__', '__builtins__', '__cached__', '__doc__', '__file__', '__loader__', '__name__', '__package__', '__path__', '__spec__', '_csr_polynomial_expansion', '_data', '_discretization', '_encoders', '_function_transformer', '_label', 'add_dummy_feature', 'binarize', 'label_binarize', 'maxabs_scale', 'minmax_scale', 'normalize', 'power_transform', 'quantile_transform', 'robust_scale', 'scale']\n"
     ]
    }
   ],
   "source": [
    "import sklearn.preprocessing\n",
    "print(dir(sklearn.preprocessing))"
   ]
  },
  {
   "cell_type": "code",
   "execution_count": 116,
   "id": "178c6f17",
   "metadata": {},
   "outputs": [
    {
     "name": "stdout",
     "output_type": "stream",
     "text": [
      "Help on class StandardScaler in module sklearn.preprocessing._data:\n",
      "\n",
      "class StandardScaler(sklearn.base.TransformerMixin, sklearn.base.BaseEstimator)\n",
      " |  StandardScaler(*, copy=True, with_mean=True, with_std=True)\n",
      " |  \n",
      " |  Standardize features by removing the mean and scaling to unit variance\n",
      " |  \n",
      " |  The standard score of a sample `x` is calculated as:\n",
      " |  \n",
      " |      z = (x - u) / s\n",
      " |  \n",
      " |  where `u` is the mean of the training samples or zero if `with_mean=False`,\n",
      " |  and `s` is the standard deviation of the training samples or one if\n",
      " |  `with_std=False`.\n",
      " |  \n",
      " |  Centering and scaling happen independently on each feature by computing\n",
      " |  the relevant statistics on the samples in the training set. Mean and\n",
      " |  standard deviation are then stored to be used on later data using\n",
      " |  :meth:`transform`.\n",
      " |  \n",
      " |  Standardization of a dataset is a common requirement for many\n",
      " |  machine learning estimators: they might behave badly if the\n",
      " |  individual features do not more or less look like standard normally\n",
      " |  distributed data (e.g. Gaussian with 0 mean and unit variance).\n",
      " |  \n",
      " |  For instance many elements used in the objective function of\n",
      " |  a learning algorithm (such as the RBF kernel of Support Vector\n",
      " |  Machines or the L1 and L2 regularizers of linear models) assume that\n",
      " |  all features are centered around 0 and have variance in the same\n",
      " |  order. If a feature has a variance that is orders of magnitude larger\n",
      " |  that others, it might dominate the objective function and make the\n",
      " |  estimator unable to learn from other features correctly as expected.\n",
      " |  \n",
      " |  This scaler can also be applied to sparse CSR or CSC matrices by passing\n",
      " |  `with_mean=False` to avoid breaking the sparsity structure of the data.\n",
      " |  \n",
      " |  Read more in the :ref:`User Guide <preprocessing_scaler>`.\n",
      " |  \n",
      " |  Parameters\n",
      " |  ----------\n",
      " |  copy : bool, default=True\n",
      " |      If False, try to avoid a copy and do inplace scaling instead.\n",
      " |      This is not guaranteed to always work inplace; e.g. if the data is\n",
      " |      not a NumPy array or scipy.sparse CSR matrix, a copy may still be\n",
      " |      returned.\n",
      " |  \n",
      " |  with_mean : bool, default=True\n",
      " |      If True, center the data before scaling.\n",
      " |      This does not work (and will raise an exception) when attempted on\n",
      " |      sparse matrices, because centering them entails building a dense\n",
      " |      matrix which in common use cases is likely to be too large to fit in\n",
      " |      memory.\n",
      " |  \n",
      " |  with_std : bool, default=True\n",
      " |      If True, scale the data to unit variance (or equivalently,\n",
      " |      unit standard deviation).\n",
      " |  \n",
      " |  Attributes\n",
      " |  ----------\n",
      " |  scale_ : ndarray of shape (n_features,) or None\n",
      " |      Per feature relative scaling of the data to achieve zero mean and unit\n",
      " |      variance. Generally this is calculated using `np.sqrt(var_)`. If a\n",
      " |      variance is zero, we can't achieve unit variance, and the data is left\n",
      " |      as-is, giving a scaling factor of 1. `scale_` is equal to `None`\n",
      " |      when `with_std=False`.\n",
      " |  \n",
      " |      .. versionadded:: 0.17\n",
      " |         *scale_*\n",
      " |  \n",
      " |  mean_ : ndarray of shape (n_features,) or None\n",
      " |      The mean value for each feature in the training set.\n",
      " |      Equal to ``None`` when ``with_mean=False``.\n",
      " |  \n",
      " |  var_ : ndarray of shape (n_features,) or None\n",
      " |      The variance for each feature in the training set. Used to compute\n",
      " |      `scale_`. Equal to ``None`` when ``with_std=False``.\n",
      " |  \n",
      " |  n_samples_seen_ : int or ndarray of shape (n_features,)\n",
      " |      The number of samples processed by the estimator for each feature.\n",
      " |      If there are no missing samples, the ``n_samples_seen`` will be an\n",
      " |      integer, otherwise it will be an array of dtype int. If\n",
      " |      `sample_weights` are used it will be a float (if no missing data)\n",
      " |      or an array of dtype float that sums the weights seen so far.\n",
      " |      Will be reset on new calls to fit, but increments across\n",
      " |      ``partial_fit`` calls.\n",
      " |  \n",
      " |  Examples\n",
      " |  --------\n",
      " |  >>> from sklearn.preprocessing import StandardScaler\n",
      " |  >>> data = [[0, 0], [0, 0], [1, 1], [1, 1]]\n",
      " |  >>> scaler = StandardScaler()\n",
      " |  >>> print(scaler.fit(data))\n",
      " |  StandardScaler()\n",
      " |  >>> print(scaler.mean_)\n",
      " |  [0.5 0.5]\n",
      " |  >>> print(scaler.transform(data))\n",
      " |  [[-1. -1.]\n",
      " |   [-1. -1.]\n",
      " |   [ 1.  1.]\n",
      " |   [ 1.  1.]]\n",
      " |  >>> print(scaler.transform([[2, 2]]))\n",
      " |  [[3. 3.]]\n",
      " |  \n",
      " |  See Also\n",
      " |  --------\n",
      " |  scale : Equivalent function without the estimator API.\n",
      " |  \n",
      " |  :class:`~sklearn.decomposition.PCA` : Further removes the linear\n",
      " |      correlation across features with 'whiten=True'.\n",
      " |  \n",
      " |  Notes\n",
      " |  -----\n",
      " |  NaNs are treated as missing values: disregarded in fit, and maintained in\n",
      " |  transform.\n",
      " |  \n",
      " |  We use a biased estimator for the standard deviation, equivalent to\n",
      " |  `numpy.std(x, ddof=0)`. Note that the choice of `ddof` is unlikely to\n",
      " |  affect model performance.\n",
      " |  \n",
      " |  For a comparison of the different scalers, transformers, and normalizers,\n",
      " |  see :ref:`examples/preprocessing/plot_all_scaling.py\n",
      " |  <sphx_glr_auto_examples_preprocessing_plot_all_scaling.py>`.\n",
      " |  \n",
      " |  Method resolution order:\n",
      " |      StandardScaler\n",
      " |      sklearn.base.TransformerMixin\n",
      " |      sklearn.base.BaseEstimator\n",
      " |      builtins.object\n",
      " |  \n",
      " |  Methods defined here:\n",
      " |  \n",
      " |  __init__(self, *, copy=True, with_mean=True, with_std=True)\n",
      " |      Initialize self.  See help(type(self)) for accurate signature.\n",
      " |  \n",
      " |  fit(self, X, y=None, sample_weight=None)\n",
      " |      Compute the mean and std to be used for later scaling.\n",
      " |      \n",
      " |      Parameters\n",
      " |      ----------\n",
      " |      X : {array-like, sparse matrix} of shape (n_samples, n_features)\n",
      " |          The data used to compute the mean and standard deviation\n",
      " |          used for later scaling along the features axis.\n",
      " |      \n",
      " |      y : None\n",
      " |          Ignored.\n",
      " |      \n",
      " |      sample_weight : array-like of shape (n_samples,), default=None\n",
      " |          Individual weights for each sample.\n",
      " |      \n",
      " |          .. versionadded:: 0.24\n",
      " |             parameter *sample_weight* support to StandardScaler.\n",
      " |      \n",
      " |      Returns\n",
      " |      -------\n",
      " |      self : object\n",
      " |          Fitted scaler.\n",
      " |  \n",
      " |  inverse_transform(self, X, copy=None)\n",
      " |      Scale back the data to the original representation\n",
      " |      \n",
      " |      Parameters\n",
      " |      ----------\n",
      " |      X : {array-like, sparse matrix} of shape (n_samples, n_features)\n",
      " |          The data used to scale along the features axis.\n",
      " |      copy : bool, default=None\n",
      " |          Copy the input X or not.\n",
      " |      \n",
      " |      Returns\n",
      " |      -------\n",
      " |      X_tr : {ndarray, sparse matrix} of shape (n_samples, n_features)\n",
      " |          Transformed array.\n",
      " |  \n",
      " |  partial_fit(self, X, y=None, sample_weight=None)\n",
      " |      Online computation of mean and std on X for later scaling.\n",
      " |      \n",
      " |      All of X is processed as a single batch. This is intended for cases\n",
      " |      when :meth:`fit` is not feasible due to very large number of\n",
      " |      `n_samples` or because X is read from a continuous stream.\n",
      " |      \n",
      " |      The algorithm for incremental mean and std is given in Equation 1.5a,b\n",
      " |      in Chan, Tony F., Gene H. Golub, and Randall J. LeVeque. \"Algorithms\n",
      " |      for computing the sample variance: Analysis and recommendations.\"\n",
      " |      The American Statistician 37.3 (1983): 242-247:\n",
      " |      \n",
      " |      Parameters\n",
      " |      ----------\n",
      " |      X : {array-like, sparse matrix} of shape (n_samples, n_features)\n",
      " |          The data used to compute the mean and standard deviation\n",
      " |          used for later scaling along the features axis.\n",
      " |      \n",
      " |      y : None\n",
      " |          Ignored.\n",
      " |      \n",
      " |      sample_weight : array-like of shape (n_samples,), default=None\n",
      " |          Individual weights for each sample.\n",
      " |      \n",
      " |          .. versionadded:: 0.24\n",
      " |             parameter *sample_weight* support to StandardScaler.\n",
      " |      \n",
      " |      Returns\n",
      " |      -------\n",
      " |      self : object\n",
      " |          Fitted scaler.\n",
      " |  \n",
      " |  transform(self, X, copy=None)\n",
      " |      Perform standardization by centering and scaling\n",
      " |      \n",
      " |      Parameters\n",
      " |      ----------\n",
      " |      X : {array-like, sparse matrix of shape (n_samples, n_features)\n",
      " |          The data used to scale along the features axis.\n",
      " |      copy : bool, default=None\n",
      " |          Copy the input X or not.\n",
      " |      \n",
      " |      Returns\n",
      " |      -------\n",
      " |      X_tr : {ndarray, sparse matrix} of shape (n_samples, n_features)\n",
      " |          Transformed array.\n",
      " |  \n",
      " |  ----------------------------------------------------------------------\n",
      " |  Methods inherited from sklearn.base.TransformerMixin:\n",
      " |  \n",
      " |  fit_transform(self, X, y=None, **fit_params)\n",
      " |      Fit to data, then transform it.\n",
      " |      \n",
      " |      Fits transformer to `X` and `y` with optional parameters `fit_params`\n",
      " |      and returns a transformed version of `X`.\n",
      " |      \n",
      " |      Parameters\n",
      " |      ----------\n",
      " |      X : array-like of shape (n_samples, n_features)\n",
      " |          Input samples.\n",
      " |      \n",
      " |      y :  array-like of shape (n_samples,) or (n_samples, n_outputs),                 default=None\n",
      " |          Target values (None for unsupervised transformations).\n",
      " |      \n",
      " |      **fit_params : dict\n",
      " |          Additional fit parameters.\n",
      " |      \n",
      " |      Returns\n",
      " |      -------\n",
      " |      X_new : ndarray array of shape (n_samples, n_features_new)\n",
      " |          Transformed array.\n",
      " |  \n",
      " |  ----------------------------------------------------------------------\n",
      " |  Data descriptors inherited from sklearn.base.TransformerMixin:\n",
      " |  \n",
      " |  __dict__\n",
      " |      dictionary for instance variables (if defined)\n",
      " |  \n",
      " |  __weakref__\n",
      " |      list of weak references to the object (if defined)\n",
      " |  \n",
      " |  ----------------------------------------------------------------------\n",
      " |  Methods inherited from sklearn.base.BaseEstimator:\n",
      " |  \n",
      " |  __getstate__(self)\n",
      " |  \n",
      " |  __repr__(self, N_CHAR_MAX=700)\n",
      " |      Return repr(self).\n",
      " |  \n",
      " |  __setstate__(self, state)\n",
      " |  \n",
      " |  get_params(self, deep=True)\n",
      " |      Get parameters for this estimator.\n",
      " |      \n",
      " |      Parameters\n",
      " |      ----------\n",
      " |      deep : bool, default=True\n",
      " |          If True, will return the parameters for this estimator and\n",
      " |          contained subobjects that are estimators.\n",
      " |      \n",
      " |      Returns\n",
      " |      -------\n",
      " |      params : dict\n",
      " |          Parameter names mapped to their values.\n",
      " |  \n",
      " |  set_params(self, **params)\n",
      " |      Set the parameters of this estimator.\n",
      " |      \n",
      " |      The method works on simple estimators as well as on nested objects\n",
      " |      (such as :class:`~sklearn.pipeline.Pipeline`). The latter have\n",
      " |      parameters of the form ``<component>__<parameter>`` so that it's\n",
      " |      possible to update each component of a nested object.\n",
      " |      \n",
      " |      Parameters\n",
      " |      ----------\n",
      " |      **params : dict\n",
      " |          Estimator parameters.\n",
      " |      \n",
      " |      Returns\n",
      " |      -------\n",
      " |      self : estimator instance\n",
      " |          Estimator instance.\n",
      "\n",
      "None\n"
     ]
    }
   ],
   "source": [
    "from sklearn.preprocessing import StandardScaler\n",
    "print(help(StandardScaler))"
   ]
  },
  {
   "cell_type": "code",
   "execution_count": null,
   "id": "73a2fa43",
   "metadata": {},
   "outputs": [],
   "source": []
  }
 ],
 "metadata": {
  "kernelspec": {
   "display_name": "Python 3",
   "language": "python",
   "name": "python3"
  },
  "language_info": {
   "codemirror_mode": {
    "name": "ipython",
    "version": 3
   },
   "file_extension": ".py",
   "mimetype": "text/x-python",
   "name": "python",
   "nbconvert_exporter": "python",
   "pygments_lexer": "ipython3",
   "version": "3.8.8"
  }
 },
 "nbformat": 4,
 "nbformat_minor": 5
}
