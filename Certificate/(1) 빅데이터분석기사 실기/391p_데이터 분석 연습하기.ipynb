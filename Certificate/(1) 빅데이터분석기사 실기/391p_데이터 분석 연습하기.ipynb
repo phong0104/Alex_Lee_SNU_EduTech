{
 "cells": [
  {
   "cell_type": "markdown",
   "id": "d63dce0f",
   "metadata": {},
   "source": [
    "# 1. 데이터 탐색하기"
   ]
  },
  {
   "cell_type": "markdown",
   "id": "76809103",
   "metadata": {},
   "source": [
    "### 데이터 가져오기"
   ]
  },
  {
   "cell_type": "code",
   "execution_count": 1,
   "id": "b03709c2",
   "metadata": {},
   "outputs": [],
   "source": [
    "import pandas as pd\n",
    "x_train = pd.read_csv('x_train.csv', encoding='cp949')\n",
    "x_test = pd.read_csv('x_test.csv', encoding='cp949')\n",
    "y_train = pd.read_csv('y_train.csv', encoding='cp949')"
   ]
  },
  {
   "cell_type": "code",
   "execution_count": 2,
   "id": "2d7a6b5b",
   "metadata": {},
   "outputs": [
    {
     "name": "stdout",
     "output_type": "stream",
     "text": [
      "   cust_id      총구매액     최대구매액       환불금액   주구매상품 주구매지점  내점일수   내점당구매건수  \\\n",
      "0        0  68282840  11264000  6860000.0      기타   강남점    19  3.894737   \n",
      "1        1   2136000   2136000   300000.0     스포츠   잠실점     2  1.500000   \n",
      "2        2   3197000   1639000        NaN  남성 캐주얼   관악점     2  2.000000   \n",
      "3        3  16077620   4935000        NaN      기타   광주점    18  2.444444   \n",
      "4        4  29050000  24000000        NaN      보석  본  점     2  1.500000   \n",
      "\n",
      "     주말방문비율  구매주기  \n",
      "0  0.527027    17  \n",
      "1  0.000000     1  \n",
      "2  0.000000     1  \n",
      "3  0.318182    16  \n",
      "4  0.000000    85  \n"
     ]
    }
   ],
   "source": [
    "print(x_train.head())"
   ]
  },
  {
   "cell_type": "code",
   "execution_count": 3,
   "id": "81d646d4",
   "metadata": {},
   "outputs": [
    {
     "name": "stdout",
     "output_type": "stream",
     "text": [
      "   cust_id       총구매액     최대구매액        환불금액 주구매상품 주구매지점  내점일수    내점당구매건수  \\\n",
      "0     3500   70900400  22000000   4050000.0    골프  부산본점    13   1.461538   \n",
      "1     3501  310533100  38558000  48034700.0   농산물   잠실점    90   2.433333   \n",
      "2     3502  305264140  14825000  30521000.0  가공식품  본  점   101  14.623762   \n",
      "3     3503    7594080   5225000         NaN  주방용품  부산본점     5   2.000000   \n",
      "4     3504    1795790   1411200         NaN   수산품  청량리점     3   2.666667   \n",
      "\n",
      "     주말방문비율  구매주기  \n",
      "0  0.789474    26  \n",
      "1  0.369863     3  \n",
      "2  0.083277     3  \n",
      "3  0.000000    47  \n",
      "4  0.125000     8  \n"
     ]
    }
   ],
   "source": [
    "print(x_test.head())"
   ]
  },
  {
   "cell_type": "code",
   "execution_count": 4,
   "id": "1c6edae6",
   "metadata": {},
   "outputs": [
    {
     "name": "stdout",
     "output_type": "stream",
     "text": [
      "   cust_id  gender\n",
      "0        0       0\n",
      "1        1       0\n",
      "2        2       1\n",
      "3        3       1\n",
      "4        4       0\n"
     ]
    }
   ],
   "source": [
    "print(y_train.head())"
   ]
  },
  {
   "cell_type": "code",
   "execution_count": 5,
   "id": "ffd07213",
   "metadata": {},
   "outputs": [
    {
     "name": "stdout",
     "output_type": "stream",
     "text": [
      "                 0         1        2         3         4\n",
      "cust_id          0         1        2         3         4\n",
      "총구매액      68282840   2136000  3197000  16077620  29050000\n",
      "최대구매액     11264000   2136000  1639000   4935000  24000000\n",
      "환불금액     6860000.0  300000.0      NaN       NaN       NaN\n",
      "주구매상품           기타       스포츠   남성 캐주얼        기타        보석\n",
      "주구매지점          강남점       잠실점      관악점       광주점      본  점\n",
      "내점일수            19         2        2        18         2\n",
      "내점당구매건수   3.894737       1.5      2.0  2.444444       1.5\n",
      "주말방문비율    0.527027       0.0      0.0  0.318182       0.0\n",
      "구매주기            17         1        1        16        85\n"
     ]
    }
   ],
   "source": [
    "print(x_train.head().T)"
   ]
  },
  {
   "cell_type": "code",
   "execution_count": 6,
   "id": "0233a74c",
   "metadata": {},
   "outputs": [
    {
     "name": "stdout",
     "output_type": "stream",
     "text": [
      "   cust_id      총구매액     최대구매액       환불금액   주구매상품 주구매지점  내점일수   내점당구매건수  \\\n",
      "0        0  68282840  11264000  6860000.0      기타   강남점    19  3.894737   \n",
      "1        1   2136000   2136000   300000.0     스포츠   잠실점     2  1.500000   \n",
      "2        2   3197000   1639000        NaN  남성 캐주얼   관악점     2  2.000000   \n",
      "3        3  16077620   4935000        NaN      기타   광주점    18  2.444444   \n",
      "4        4  29050000  24000000        NaN      보석  본  점     2  1.500000   \n",
      "\n",
      "     주말방문비율  구매주기  \n",
      "0  0.527027    17  \n",
      "1  0.000000     1  \n",
      "2  0.000000     1  \n",
      "3  0.318182    16  \n",
      "4  0.000000    85  \n"
     ]
    }
   ],
   "source": [
    "pd.options.display.max_columns = None\n",
    "print(x_train.head())"
   ]
  },
  {
   "cell_type": "markdown",
   "id": "8305bab6",
   "metadata": {},
   "source": [
    "### 행/열 확인하기"
   ]
  },
  {
   "cell_type": "code",
   "execution_count": 7,
   "id": "3b68addb",
   "metadata": {},
   "outputs": [
    {
     "name": "stdout",
     "output_type": "stream",
     "text": [
      "(3500, 10)\n"
     ]
    }
   ],
   "source": [
    "print(x_train.shape)"
   ]
  },
  {
   "cell_type": "code",
   "execution_count": 8,
   "id": "4fc7aa76",
   "metadata": {},
   "outputs": [
    {
     "name": "stdout",
     "output_type": "stream",
     "text": [
      "(2482, 10)\n"
     ]
    }
   ],
   "source": [
    "print(x_test.shape)"
   ]
  },
  {
   "cell_type": "code",
   "execution_count": 9,
   "id": "391d333f",
   "metadata": {},
   "outputs": [
    {
     "name": "stdout",
     "output_type": "stream",
     "text": [
      "(3500, 2)\n"
     ]
    }
   ],
   "source": [
    "print(y_train.shape)"
   ]
  },
  {
   "cell_type": "markdown",
   "id": "485f2262",
   "metadata": {},
   "source": [
    "### 요약정보 확인하기"
   ]
  },
  {
   "cell_type": "code",
   "execution_count": 10,
   "id": "fd55329b",
   "metadata": {},
   "outputs": [
    {
     "name": "stdout",
     "output_type": "stream",
     "text": [
      "<class 'pandas.core.frame.DataFrame'>\n",
      "RangeIndex: 3500 entries, 0 to 3499\n",
      "Data columns (total 10 columns):\n",
      " #   Column   Non-Null Count  Dtype  \n",
      "---  ------   --------------  -----  \n",
      " 0   cust_id  3500 non-null   int64  \n",
      " 1   총구매액     3500 non-null   int64  \n",
      " 2   최대구매액    3500 non-null   int64  \n",
      " 3   환불금액     1205 non-null   float64\n",
      " 4   주구매상품    3500 non-null   object \n",
      " 5   주구매지점    3500 non-null   object \n",
      " 6   내점일수     3500 non-null   int64  \n",
      " 7   내점당구매건수  3500 non-null   float64\n",
      " 8   주말방문비율   3500 non-null   float64\n",
      " 9   구매주기     3500 non-null   int64  \n",
      "dtypes: float64(3), int64(5), object(2)\n",
      "memory usage: 273.6+ KB\n",
      "None\n"
     ]
    }
   ],
   "source": [
    "print(x_train.info())"
   ]
  },
  {
   "cell_type": "markdown",
   "id": "a764e318",
   "metadata": {},
   "source": [
    "### 기초 통계량 확인하기"
   ]
  },
  {
   "cell_type": "code",
   "execution_count": 11,
   "id": "2de7100a",
   "metadata": {},
   "outputs": [
    {
     "name": "stdout",
     "output_type": "stream",
     "text": [
      "          count          mean           std         min           25%  \\\n",
      "cust_id  3500.0  1.749500e+03  1.010507e+03         0.0  8.747500e+02   \n",
      "총구매액     3500.0  9.191925e+07  1.635065e+08 -52421520.0  4.747050e+06   \n",
      "최대구매액    3500.0  1.966424e+07  3.199235e+07  -2992000.0  2.875000e+06   \n",
      "환불금액     1205.0  2.407822e+07  4.746453e+07      5600.0  2.259000e+06   \n",
      "내점일수     3500.0  1.925371e+01  2.717494e+01         1.0  2.000000e+00   \n",
      "내점당구매건수  3500.0  2.834963e+00  1.912368e+00         1.0  1.666667e+00   \n",
      "주말방문비율   3500.0  3.072463e-01  2.897516e-01         0.0  2.729090e-02   \n",
      "구매주기     3500.0  2.095829e+01  2.474868e+01         0.0  4.000000e+00   \n",
      "\n",
      "                  50%           75%           max  \n",
      "cust_id  1.749500e+03  2.624250e+03  3.499000e+03  \n",
      "총구매액     2.822270e+07  1.065079e+08  2.323180e+09  \n",
      "최대구매액    9.837000e+06  2.296250e+07  7.066290e+08  \n",
      "환불금액     7.392000e+06  2.412000e+07  5.637530e+08  \n",
      "내점일수     8.000000e+00  2.500000e+01  2.850000e+02  \n",
      "내점당구매건수  2.333333e+00  3.375000e+00  2.208333e+01  \n",
      "주말방문비율   2.564103e-01  4.489796e-01  1.000000e+00  \n",
      "구매주기     1.300000e+01  2.800000e+01  1.660000e+02  \n"
     ]
    }
   ],
   "source": [
    "print(x_train.describe().T)"
   ]
  },
  {
   "cell_type": "markdown",
   "id": "a5fd0272",
   "metadata": {},
   "source": [
    "# 2. 전처리하기"
   ]
  },
  {
   "cell_type": "markdown",
   "id": "c45c213d",
   "metadata": {},
   "source": [
    "### 불필요한 칼럼 삭제하기"
   ]
  },
  {
   "cell_type": "code",
   "execution_count": 12,
   "id": "974e37d7",
   "metadata": {},
   "outputs": [
    {
     "data": {
      "text/plain": [
       "0       3500\n",
       "1       3501\n",
       "2       3502\n",
       "3       3503\n",
       "4       3504\n",
       "        ... \n",
       "2477    5977\n",
       "2478    5978\n",
       "2479    5979\n",
       "2480    5980\n",
       "2481    5981\n",
       "Name: cust_id, Length: 2482, dtype: int64"
      ]
     },
     "execution_count": 12,
     "metadata": {},
     "output_type": "execute_result"
    }
   ],
   "source": [
    "x_test_cust_id = x_test['cust_id']\n",
    "x_test_cust_id"
   ]
  },
  {
   "cell_type": "code",
   "execution_count": 13,
   "id": "9db2f419",
   "metadata": {},
   "outputs": [
    {
     "name": "stdout",
     "output_type": "stream",
     "text": [
      "       총구매액     최대구매액       환불금액   주구매상품 주구매지점  내점일수   내점당구매건수    주말방문비율  구매주기\n",
      "0  68282840  11264000  6860000.0      기타   강남점    19  3.894737  0.527027    17\n",
      "1   2136000   2136000   300000.0     스포츠   잠실점     2  1.500000  0.000000     1\n",
      "2   3197000   1639000        NaN  남성 캐주얼   관악점     2  2.000000  0.000000     1\n",
      "3  16077620   4935000        NaN      기타   광주점    18  2.444444  0.318182    16\n",
      "4  29050000  24000000        NaN      보석  본  점     2  1.500000  0.000000    85\n"
     ]
    }
   ],
   "source": [
    "x_train = x_train.drop(columns = ['cust_id'])\n",
    "y_train = y_train.drop(columns = ['cust_id'])\n",
    "x_test = x_test.drop(columns = ['cust_id'])\n",
    "print(x_train.head())"
   ]
  },
  {
   "cell_type": "code",
   "execution_count": 14,
   "id": "b3afc730",
   "metadata": {},
   "outputs": [
    {
     "name": "stdout",
     "output_type": "stream",
     "text": [
      "   gender\n",
      "0       0\n",
      "1       0\n",
      "2       1\n",
      "3       1\n",
      "4       0\n"
     ]
    }
   ],
   "source": [
    "print(y_train.head())"
   ]
  },
  {
   "cell_type": "markdown",
   "id": "53d61b26",
   "metadata": {},
   "source": [
    "### 결측치 처리하기"
   ]
  },
  {
   "cell_type": "code",
   "execution_count": 15,
   "id": "d9d3ed09",
   "metadata": {},
   "outputs": [
    {
     "name": "stdout",
     "output_type": "stream",
     "text": [
      "총구매액          0\n",
      "최대구매액         0\n",
      "환불금액       2295\n",
      "주구매상품         0\n",
      "주구매지점         0\n",
      "내점일수          0\n",
      "내점당구매건수       0\n",
      "주말방문비율        0\n",
      "구매주기          0\n",
      "dtype: int64\n"
     ]
    }
   ],
   "source": [
    "print(x_train.isnull().sum())"
   ]
  },
  {
   "cell_type": "code",
   "execution_count": 16,
   "id": "24728b94",
   "metadata": {},
   "outputs": [
    {
     "name": "stdout",
     "output_type": "stream",
     "text": [
      "0\n",
      "0\n"
     ]
    }
   ],
   "source": [
    "x_train['환불금액'] = x_train['환불금액'].fillna(0)\n",
    "x_test['환불금액'] = x_test['환불금액'].fillna(0)\n",
    "print(x_train['환불금액'].isnull().sum())\n",
    "print(x_test['환불금액'].isnull().sum())"
   ]
  },
  {
   "cell_type": "markdown",
   "id": "0968b2d4",
   "metadata": {},
   "source": [
    "### 범주형 변수를 인코딩하기"
   ]
  },
  {
   "cell_type": "code",
   "execution_count": 17,
   "id": "46bb1886",
   "metadata": {},
   "outputs": [
    {
     "name": "stdout",
     "output_type": "stream",
     "text": [
      "['기타' '스포츠' '남성 캐주얼' '보석' '디자이너' '시티웨어' '명품' '농산물' '화장품' '골프' '구두' '가공식품'\n",
      " '수산품' '아동' '차/커피' '캐주얼' '섬유잡화' '육류' '축산가공' '젓갈/반찬' '액세서리' '피혁잡화' '일용잡화'\n",
      " '주방가전' '주방용품' '건강식품' '가구' '주류' '모피/피혁' '남성 트랜디' '셔츠' '남성정장' '생활잡화'\n",
      " '트래디셔널' '란제리/내의' '커리어' '침구/수예' '대형가전' '통신/컴퓨터' '식기' '소형가전' '악기']\n"
     ]
    }
   ],
   "source": [
    "print(x_train['주구매상품'].unique())"
   ]
  },
  {
   "cell_type": "code",
   "execution_count": 18,
   "id": "696fb958",
   "metadata": {},
   "outputs": [
    {
     "name": "stdout",
     "output_type": "stream",
     "text": [
      "42\n"
     ]
    }
   ],
   "source": [
    "print(x_train['주구매상품'].unique().size)"
   ]
  },
  {
   "cell_type": "code",
   "execution_count": 19,
   "id": "e513e4c3",
   "metadata": {},
   "outputs": [
    {
     "name": "stdout",
     "output_type": "stream",
     "text": [
      "['강남점' '잠실점' '관악점' '광주점' '본  점' '일산점' '대전점' '부산본점' '분당점' '영등포점' '미아점'\n",
      " '청량리점' '안양점' '부평점' '동래점' '포항점' '노원점' '창원점' '센텀시티점' '인천점' '대구점' '전주점'\n",
      " '울산점' '상인점']\n"
     ]
    }
   ],
   "source": [
    "print(x_train['주구매지점'].unique())"
   ]
  },
  {
   "cell_type": "code",
   "execution_count": 20,
   "id": "eca4e351",
   "metadata": {},
   "outputs": [
    {
     "name": "stdout",
     "output_type": "stream",
     "text": [
      "24\n"
     ]
    }
   ],
   "source": [
    "print(x_train['주구매지점'].unique().size)"
   ]
  },
  {
   "cell_type": "code",
   "execution_count": 21,
   "id": "5019c416",
   "metadata": {},
   "outputs": [
    {
     "name": "stdout",
     "output_type": "stream",
     "text": [
      "0     5\n",
      "1    21\n",
      "2     6\n",
      "3     5\n",
      "4    15\n",
      "5    11\n",
      "6    22\n",
      "7    13\n",
      "8     5\n",
      "9     9\n",
      "Name: 주구매상품, dtype: int32\n"
     ]
    }
   ],
   "source": [
    "from sklearn.preprocessing import LabelEncoder\n",
    "encoder = LabelEncoder()\n",
    "x_train['주구매상품'] = encoder.fit_transform(x_train['주구매상품'])\n",
    "print(x_train['주구매상품'].head(10))"
   ]
  },
  {
   "cell_type": "code",
   "execution_count": 22,
   "id": "74fced87",
   "metadata": {},
   "outputs": [
    {
     "name": "stdout",
     "output_type": "stream",
     "text": [
      "['가공식품' '가구' '건강식품' '골프' '구두' '기타' '남성 캐주얼' '남성 트랜디' '남성정장' '농산물' '대형가전'\n",
      " '디자이너' '란제리/내의' '명품' '모피/피혁' '보석' '생활잡화' '섬유잡화' '셔츠' '소형가전' '수산품' '스포츠'\n",
      " '시티웨어' '식기' '아동' '악기' '액세서리' '육류' '일용잡화' '젓갈/반찬' '주류' '주방가전' '주방용품'\n",
      " '차/커피' '축산가공' '침구/수예' '캐주얼' '커리어' '통신/컴퓨터' '트래디셔널' '피혁잡화' '화장품']\n"
     ]
    }
   ],
   "source": [
    "print(encoder.classes_)"
   ]
  },
  {
   "cell_type": "code",
   "execution_count": 38,
   "id": "db0130e2",
   "metadata": {},
   "outputs": [
    {
     "name": "stdout",
     "output_type": "stream",
     "text": [
      "0     3\n",
      "1     9\n",
      "2     0\n",
      "3    31\n",
      "4    19\n",
      "5    40\n",
      "6     5\n",
      "7    20\n",
      "8    40\n",
      "9     0\n",
      "Name: 주구매상품, dtype: int64\n"
     ]
    }
   ],
   "source": [
    "x_test['주구매상품'] = encoder.fit_transform(x_test['주구매상품'])\n",
    "print(x_test['주구매상품'].head(10))"
   ]
  },
  {
   "cell_type": "code",
   "execution_count": 24,
   "id": "f0d45d75",
   "metadata": {},
   "outputs": [
    {
     "name": "stdout",
     "output_type": "stream",
     "text": [
      "0     0\n",
      "1    19\n",
      "2     1\n",
      "3     2\n",
      "4     8\n",
      "5    18\n",
      "6     0\n",
      "7     8\n",
      "8     8\n",
      "9     5\n",
      "Name: 주구매지점, dtype: int32\n"
     ]
    }
   ],
   "source": [
    "x_train['주구매지점'] = encoder.fit_transform(x_train['주구매지점'])\n",
    "print(x_train['주구매지점'].head(10))"
   ]
  },
  {
   "cell_type": "code",
   "execution_count": 39,
   "id": "72016975",
   "metadata": {},
   "outputs": [
    {
     "name": "stdout",
     "output_type": "stream",
     "text": [
      "0     9\n",
      "1    19\n",
      "2     8\n",
      "3     9\n",
      "4    22\n",
      "5    19\n",
      "6     8\n",
      "7    11\n",
      "8    18\n",
      "9     5\n",
      "Name: 주구매지점, dtype: int32\n"
     ]
    }
   ],
   "source": [
    "x_test['주구매지점'] = encoder.fit_transform(x_test['주구매지점'])\n",
    "print(x_test['주구매지점'].head(10))"
   ]
  },
  {
   "cell_type": "markdown",
   "id": "3429fe8e",
   "metadata": {},
   "source": [
    "### 파생변수 만들기"
   ]
  },
  {
   "cell_type": "code",
   "execution_count": 25,
   "id": "177bb316",
   "metadata": {},
   "outputs": [
    {
     "name": "stdout",
     "output_type": "stream",
     "text": [
      "           환불금액  환불금액_new\n",
      "0     6860000.0       1.0\n",
      "1      300000.0       1.0\n",
      "2           0.0       0.0\n",
      "3           0.0       0.0\n",
      "4           0.0       0.0\n",
      "...         ...       ...\n",
      "3495        0.0       0.0\n",
      "3496  6049600.0       1.0\n",
      "3497        0.0       0.0\n",
      "3498        0.0       0.0\n",
      "3499  5973000.0       1.0\n",
      "\n",
      "[3500 rows x 2 columns]\n"
     ]
    }
   ],
   "source": [
    "condition = x_train['환불금액'] > 0\n",
    "x_train.loc[condition, '환불금액_new'] = 1\n",
    "x_train.loc[~condition, '환불금액_new'] = 0\n",
    "print(x_train[['환불금액', '환불금액_new']])"
   ]
  },
  {
   "cell_type": "code",
   "execution_count": 26,
   "id": "170548a6",
   "metadata": {},
   "outputs": [],
   "source": [
    "x_train = x_train.drop(columns = ['환불금액'])"
   ]
  },
  {
   "cell_type": "code",
   "execution_count": 27,
   "id": "3149ee5c",
   "metadata": {},
   "outputs": [
    {
     "data": {
      "text/html": [
       "<div>\n",
       "<style scoped>\n",
       "    .dataframe tbody tr th:only-of-type {\n",
       "        vertical-align: middle;\n",
       "    }\n",
       "\n",
       "    .dataframe tbody tr th {\n",
       "        vertical-align: top;\n",
       "    }\n",
       "\n",
       "    .dataframe thead th {\n",
       "        text-align: right;\n",
       "    }\n",
       "</style>\n",
       "<table border=\"1\" class=\"dataframe\">\n",
       "  <thead>\n",
       "    <tr style=\"text-align: right;\">\n",
       "      <th></th>\n",
       "      <th>총구매액</th>\n",
       "      <th>최대구매액</th>\n",
       "      <th>주구매상품</th>\n",
       "      <th>주구매지점</th>\n",
       "      <th>내점일수</th>\n",
       "      <th>내점당구매건수</th>\n",
       "      <th>주말방문비율</th>\n",
       "      <th>구매주기</th>\n",
       "      <th>환불금액_new</th>\n",
       "    </tr>\n",
       "  </thead>\n",
       "  <tbody>\n",
       "    <tr>\n",
       "      <th>0</th>\n",
       "      <td>70900400</td>\n",
       "      <td>22000000</td>\n",
       "      <td>3</td>\n",
       "      <td>부산본점</td>\n",
       "      <td>13</td>\n",
       "      <td>1.461538</td>\n",
       "      <td>0.789474</td>\n",
       "      <td>26</td>\n",
       "      <td>1.0</td>\n",
       "    </tr>\n",
       "    <tr>\n",
       "      <th>1</th>\n",
       "      <td>310533100</td>\n",
       "      <td>38558000</td>\n",
       "      <td>9</td>\n",
       "      <td>잠실점</td>\n",
       "      <td>90</td>\n",
       "      <td>2.433333</td>\n",
       "      <td>0.369863</td>\n",
       "      <td>3</td>\n",
       "      <td>1.0</td>\n",
       "    </tr>\n",
       "    <tr>\n",
       "      <th>2</th>\n",
       "      <td>305264140</td>\n",
       "      <td>14825000</td>\n",
       "      <td>0</td>\n",
       "      <td>본  점</td>\n",
       "      <td>101</td>\n",
       "      <td>14.623762</td>\n",
       "      <td>0.083277</td>\n",
       "      <td>3</td>\n",
       "      <td>0.0</td>\n",
       "    </tr>\n",
       "    <tr>\n",
       "      <th>3</th>\n",
       "      <td>7594080</td>\n",
       "      <td>5225000</td>\n",
       "      <td>31</td>\n",
       "      <td>부산본점</td>\n",
       "      <td>5</td>\n",
       "      <td>2.000000</td>\n",
       "      <td>0.000000</td>\n",
       "      <td>47</td>\n",
       "      <td>0.0</td>\n",
       "    </tr>\n",
       "    <tr>\n",
       "      <th>4</th>\n",
       "      <td>1795790</td>\n",
       "      <td>1411200</td>\n",
       "      <td>19</td>\n",
       "      <td>청량리점</td>\n",
       "      <td>3</td>\n",
       "      <td>2.666667</td>\n",
       "      <td>0.125000</td>\n",
       "      <td>8</td>\n",
       "      <td>0.0</td>\n",
       "    </tr>\n",
       "  </tbody>\n",
       "</table>\n",
       "</div>"
      ],
      "text/plain": [
       "        총구매액     최대구매액  주구매상품 주구매지점  내점일수    내점당구매건수    주말방문비율  구매주기  환불금액_new\n",
       "0   70900400  22000000      3  부산본점    13   1.461538  0.789474    26       1.0\n",
       "1  310533100  38558000      9   잠실점    90   2.433333  0.369863     3       1.0\n",
       "2  305264140  14825000      0  본  점   101  14.623762  0.083277     3       0.0\n",
       "3    7594080   5225000     31  부산본점     5   2.000000  0.000000    47       0.0\n",
       "4    1795790   1411200     19  청량리점     3   2.666667  0.125000     8       0.0"
      ]
     },
     "execution_count": 27,
     "metadata": {},
     "output_type": "execute_result"
    }
   ],
   "source": [
    "x_test.loc[condition, '환불금액_new'] = 1\n",
    "x_test.loc[~condition, '환불금액_new'] = 0\n",
    "\n",
    "x_test = x_test.drop(columns = ['환불금액'])\n",
    "x_test.head(5)"
   ]
  },
  {
   "cell_type": "markdown",
   "id": "031fd112",
   "metadata": {},
   "source": [
    "### 표준화 크기로 변환하기"
   ]
  },
  {
   "cell_type": "code",
   "execution_count": 35,
   "id": "df24a096",
   "metadata": {},
   "outputs": [
    {
     "name": "stdout",
     "output_type": "stream",
     "text": [
      "           count          mean       std       min       25%       50%  \\\n",
      "총구매액      3500.0 -1.008717e-17  1.000143 -0.882909 -0.533218 -0.389621   \n",
      "최대구매액     3500.0 -1.157804e-17  1.000143 -0.708278 -0.524864 -0.307219   \n",
      "주구매상품     3500.0  8.564578e-19  1.000143 -1.122438 -0.738357 -0.431093   \n",
      "주구매지점     3500.0 -9.167270e-18  1.000143 -1.904703 -0.485175 -0.307733   \n",
      "내점일수      3500.0  2.242968e-16  1.000143 -0.671807 -0.635003 -0.414180   \n",
      "내점당구매건수   3500.0  2.902440e-18  1.000143 -0.959661 -0.611003 -0.262346   \n",
      "주말방문비율    3500.0  2.413942e-17  1.000143 -1.060530 -0.966329 -0.175472   \n",
      "구매주기      3500.0 -1.183498e-16  1.000143 -0.846966 -0.685318 -0.321610   \n",
      "환불금액_new  3500.0  2.988086e-16  1.000143 -0.724606 -0.724606 -0.724606   \n",
      "\n",
      "               75%        max  \n",
      "총구매액      0.089237  13.648260  \n",
      "최대구매액     0.103110  21.475852  \n",
      "주구매상품     0.567518   2.027026  \n",
      "주구매지점     0.756913   2.176441  \n",
      "내점일수      0.211486   9.780490  \n",
      "내점당구매건수   0.282432  10.066639  \n",
      "주말방문비율    0.489224   2.391196  \n",
      "구매주기      0.284570   5.861421  \n",
      "환불금액_new  1.380060   1.380060  \n"
     ]
    }
   ],
   "source": [
    "print(x_train.describe().T)"
   ]
  },
  {
   "cell_type": "code",
   "execution_count": 40,
   "id": "5bc4e381",
   "metadata": {},
   "outputs": [],
   "source": [
    "from sklearn.preprocessing import StandardScaler\n",
    "scaler = StandardScaler()\n",
    "x_train = pd.DataFrame(scaler.fit_transform(x_train), columns = x_train.columns)\n",
    "x_test = pd.DataFrame(scaler.fit_transform(x_test), columns = x_test.columns)"
   ]
  },
  {
   "cell_type": "code",
   "execution_count": 41,
   "id": "a67073db",
   "metadata": {},
   "outputs": [
    {
     "name": "stdout",
     "output_type": "stream",
     "text": [
      "           count          mean       std       min       25%       50%  \\\n",
      "총구매액      3500.0 -1.008717e-17  1.000143 -0.882909 -0.533218 -0.389621   \n",
      "최대구매액     3500.0 -1.107051e-17  1.000143 -0.708278 -0.524864 -0.307219   \n",
      "주구매상품     3500.0  8.564578e-19  1.000143 -1.122438 -0.738357 -0.431093   \n",
      "주구매지점     3500.0 -8.659740e-18  1.000143 -1.904703 -0.485175 -0.307733   \n",
      "내점일수      3500.0  2.192215e-16  1.000143 -0.671807 -0.635003 -0.414180   \n",
      "내점당구매건수   3500.0  2.902440e-18  1.000143 -0.959661 -0.611003 -0.262346   \n",
      "주말방문비율    3500.0  1.398881e-17  1.000143 -1.060530 -0.966329 -0.175472   \n",
      "구매주기      3500.0 -1.005862e-16  1.000143 -0.846966 -0.685318 -0.321610   \n",
      "환불금액_new  3500.0  2.988086e-16  1.000143 -0.724606 -0.724606 -0.724606   \n",
      "\n",
      "               75%        max  \n",
      "총구매액      0.089237  13.648260  \n",
      "최대구매액     0.103110  21.475852  \n",
      "주구매상품     0.567518   2.027026  \n",
      "주구매지점     0.756913   2.176441  \n",
      "내점일수      0.211486   9.780490  \n",
      "내점당구매건수   0.282432  10.066639  \n",
      "주말방문비율    0.489224   2.391196  \n",
      "구매주기      0.284570   5.861421  \n",
      "환불금액_new  1.380060   1.380060  \n"
     ]
    }
   ],
   "source": [
    "print(x_train.describe().T)"
   ]
  },
  {
   "cell_type": "markdown",
   "id": "b5b707fb",
   "metadata": {},
   "source": [
    "### 상관관계 확인하기"
   ]
  },
  {
   "cell_type": "code",
   "execution_count": 42,
   "id": "f23364bf",
   "metadata": {},
   "outputs": [
    {
     "name": "stdout",
     "output_type": "stream",
     "text": [
      "              총구매액     최대구매액  환불금액_new\n",
      "총구매액      1.000000  0.700080  0.403357\n",
      "최대구매액     0.700080  1.000000  0.330687\n",
      "환불금액_new  0.403357  0.330687  1.000000\n"
     ]
    }
   ],
   "source": [
    "print(x_train[['총구매액', '최대구매액', '환불금액_new']].corr())"
   ]
  },
  {
   "cell_type": "code",
   "execution_count": 43,
   "id": "e89133fc",
   "metadata": {},
   "outputs": [],
   "source": [
    " x_train = x_train.drop(columns = ['최대구매액'])"
   ]
  },
  {
   "cell_type": "code",
   "execution_count": 44,
   "id": "17220f91",
   "metadata": {},
   "outputs": [],
   "source": [
    "x_test = x_test.drop(columns = ['최대구매액'])"
   ]
  },
  {
   "cell_type": "markdown",
   "id": "4e02eba8",
   "metadata": {},
   "source": [
    "# 3. 학습하고 평가하기"
   ]
  },
  {
   "cell_type": "markdown",
   "id": "99f50044",
   "metadata": {},
   "source": [
    "### 데이터 학습시키기"
   ]
  },
  {
   "cell_type": "code",
   "execution_count": 47,
   "id": "afd71ece",
   "metadata": {},
   "outputs": [
    {
     "name": "stdout",
     "output_type": "stream",
     "text": [
      "[1 0 1 ... 1 1 0]\n",
      "   0\n",
      "0  1\n",
      "1  0\n",
      "2  1\n"
     ]
    }
   ],
   "source": [
    "from sklearn.tree import DecisionTreeClassifier\n",
    "model = DecisionTreeClassifier()\n",
    "model.fit(x_train, y_train)\n",
    "y_test_predicted = model.predict(x_test)\n",
    "print(y_test_predicted)\n",
    "print(pd.DataFrame(y_test_predicted).head(3))"
   ]
  },
  {
   "cell_type": "markdown",
   "id": "c8263b6c",
   "metadata": {},
   "source": [
    "### Hyper Parameter Tuning 하기"
   ]
  },
  {
   "cell_type": "code",
   "execution_count": 49,
   "id": "dc395a1d",
   "metadata": {},
   "outputs": [
    {
     "name": "stdout",
     "output_type": "stream",
     "text": [
      "   0\n",
      "0  1\n",
      "1  0\n",
      "2  1\n"
     ]
    }
   ],
   "source": [
    "model = DecisionTreeClassifier(max_depth=10, criterion='entropy', random_state=10)\n",
    "model.fit(x_train, y_train)\n",
    "y_test_predicted = model.predict(x_test)\n",
    "print(pd.DataFrame(y_test_predicted).head(3))"
   ]
  },
  {
   "cell_type": "markdown",
   "id": "e9cf0cb0",
   "metadata": {},
   "source": [
    "### 결과 예측하기"
   ]
  },
  {
   "cell_type": "code",
   "execution_count": 50,
   "id": "908ab093",
   "metadata": {},
   "outputs": [
    {
     "name": "stdout",
     "output_type": "stream",
     "text": [
      "          0         1\n",
      "0  0.200000  0.800000\n",
      "1  1.000000  0.000000\n",
      "2  0.000000  1.000000\n",
      "3  0.548837  0.451163\n",
      "4  1.000000  0.000000\n"
     ]
    }
   ],
   "source": [
    "y_test_proba = model.predict_proba(x_test)\n",
    "print(pd.DataFrame(y_test_proba).head())"
   ]
  },
  {
   "cell_type": "code",
   "execution_count": 51,
   "id": "79ab48c4",
   "metadata": {},
   "outputs": [
    {
     "name": "stdout",
     "output_type": "stream",
     "text": [
      "0       0.800000\n",
      "1       0.000000\n",
      "2       1.000000\n",
      "3       0.451163\n",
      "4       0.000000\n",
      "          ...   \n",
      "2477    0.462312\n",
      "2478    0.000000\n",
      "2479    0.338028\n",
      "2480    1.000000\n",
      "2481    1.000000\n",
      "Name: 1, Length: 2482, dtype: float64\n"
     ]
    }
   ],
   "source": [
    "print(pd.DataFrame(y_test_proba)[1])"
   ]
  },
  {
   "cell_type": "code",
   "execution_count": 52,
   "id": "ef96305d",
   "metadata": {},
   "outputs": [],
   "source": [
    "result = pd.DataFrame(y_test_proba)[1]"
   ]
  },
  {
   "cell_type": "markdown",
   "id": "d5995ea3",
   "metadata": {},
   "source": [
    "### 모델 평가하기"
   ]
  },
  {
   "cell_type": "code",
   "execution_count": 57,
   "id": "f1632674",
   "metadata": {},
   "outputs": [
    {
     "name": "stdout",
     "output_type": "stream",
     "text": [
      "0.6896432468240978\n"
     ]
    }
   ],
   "source": [
    "y_train_predicted = model.predict(x_train)\n",
    "from sklearn.metrics import roc_auc_score\n",
    "print(roc_auc_score(y_train, y_train_predicted))"
   ]
  },
  {
   "cell_type": "markdown",
   "id": "ab1126db",
   "metadata": {},
   "source": [
    "# 4. 결과 제출하기"
   ]
  },
  {
   "cell_type": "code",
   "execution_count": 58,
   "id": "f4f5a076",
   "metadata": {},
   "outputs": [
    {
     "data": {
      "text/html": [
       "<div>\n",
       "<style scoped>\n",
       "    .dataframe tbody tr th:only-of-type {\n",
       "        vertical-align: middle;\n",
       "    }\n",
       "\n",
       "    .dataframe tbody tr th {\n",
       "        vertical-align: top;\n",
       "    }\n",
       "\n",
       "    .dataframe thead th {\n",
       "        text-align: right;\n",
       "    }\n",
       "</style>\n",
       "<table border=\"1\" class=\"dataframe\">\n",
       "  <thead>\n",
       "    <tr style=\"text-align: right;\">\n",
       "      <th></th>\n",
       "      <th>cust_id</th>\n",
       "      <th>1</th>\n",
       "    </tr>\n",
       "  </thead>\n",
       "  <tbody>\n",
       "    <tr>\n",
       "      <th>0</th>\n",
       "      <td>3500</td>\n",
       "      <td>0.800000</td>\n",
       "    </tr>\n",
       "    <tr>\n",
       "      <th>1</th>\n",
       "      <td>3501</td>\n",
       "      <td>0.000000</td>\n",
       "    </tr>\n",
       "    <tr>\n",
       "      <th>2</th>\n",
       "      <td>3502</td>\n",
       "      <td>1.000000</td>\n",
       "    </tr>\n",
       "    <tr>\n",
       "      <th>3</th>\n",
       "      <td>3503</td>\n",
       "      <td>0.451163</td>\n",
       "    </tr>\n",
       "    <tr>\n",
       "      <th>4</th>\n",
       "      <td>3504</td>\n",
       "      <td>0.000000</td>\n",
       "    </tr>\n",
       "    <tr>\n",
       "      <th>...</th>\n",
       "      <td>...</td>\n",
       "      <td>...</td>\n",
       "    </tr>\n",
       "    <tr>\n",
       "      <th>2477</th>\n",
       "      <td>5977</td>\n",
       "      <td>0.462312</td>\n",
       "    </tr>\n",
       "    <tr>\n",
       "      <th>2478</th>\n",
       "      <td>5978</td>\n",
       "      <td>0.000000</td>\n",
       "    </tr>\n",
       "    <tr>\n",
       "      <th>2479</th>\n",
       "      <td>5979</td>\n",
       "      <td>0.338028</td>\n",
       "    </tr>\n",
       "    <tr>\n",
       "      <th>2480</th>\n",
       "      <td>5980</td>\n",
       "      <td>1.000000</td>\n",
       "    </tr>\n",
       "    <tr>\n",
       "      <th>2481</th>\n",
       "      <td>5981</td>\n",
       "      <td>1.000000</td>\n",
       "    </tr>\n",
       "  </tbody>\n",
       "</table>\n",
       "<p>2482 rows × 2 columns</p>\n",
       "</div>"
      ],
      "text/plain": [
       "      cust_id         1\n",
       "0        3500  0.800000\n",
       "1        3501  0.000000\n",
       "2        3502  1.000000\n",
       "3        3503  0.451163\n",
       "4        3504  0.000000\n",
       "...       ...       ...\n",
       "2477     5977  0.462312\n",
       "2478     5978  0.000000\n",
       "2479     5979  0.338028\n",
       "2480     5980  1.000000\n",
       "2481     5981  1.000000\n",
       "\n",
       "[2482 rows x 2 columns]"
      ]
     },
     "execution_count": 58,
     "metadata": {},
     "output_type": "execute_result"
    }
   ],
   "source": [
    "pd.concat([x_test_cust_id, result], axis = 1)"
   ]
  },
  {
   "cell_type": "code",
   "execution_count": 59,
   "id": "c9d06375",
   "metadata": {},
   "outputs": [
    {
     "data": {
      "text/html": [
       "<div>\n",
       "<style scoped>\n",
       "    .dataframe tbody tr th:only-of-type {\n",
       "        vertical-align: middle;\n",
       "    }\n",
       "\n",
       "    .dataframe tbody tr th {\n",
       "        vertical-align: top;\n",
       "    }\n",
       "\n",
       "    .dataframe thead th {\n",
       "        text-align: right;\n",
       "    }\n",
       "</style>\n",
       "<table border=\"1\" class=\"dataframe\">\n",
       "  <thead>\n",
       "    <tr style=\"text-align: right;\">\n",
       "      <th></th>\n",
       "      <th>cust_id</th>\n",
       "      <th>gender</th>\n",
       "    </tr>\n",
       "  </thead>\n",
       "  <tbody>\n",
       "    <tr>\n",
       "      <th>0</th>\n",
       "      <td>3500</td>\n",
       "      <td>0.800000</td>\n",
       "    </tr>\n",
       "    <tr>\n",
       "      <th>1</th>\n",
       "      <td>3501</td>\n",
       "      <td>0.000000</td>\n",
       "    </tr>\n",
       "    <tr>\n",
       "      <th>2</th>\n",
       "      <td>3502</td>\n",
       "      <td>1.000000</td>\n",
       "    </tr>\n",
       "    <tr>\n",
       "      <th>3</th>\n",
       "      <td>3503</td>\n",
       "      <td>0.451163</td>\n",
       "    </tr>\n",
       "    <tr>\n",
       "      <th>4</th>\n",
       "      <td>3504</td>\n",
       "      <td>0.000000</td>\n",
       "    </tr>\n",
       "    <tr>\n",
       "      <th>...</th>\n",
       "      <td>...</td>\n",
       "      <td>...</td>\n",
       "    </tr>\n",
       "    <tr>\n",
       "      <th>2477</th>\n",
       "      <td>5977</td>\n",
       "      <td>0.462312</td>\n",
       "    </tr>\n",
       "    <tr>\n",
       "      <th>2478</th>\n",
       "      <td>5978</td>\n",
       "      <td>0.000000</td>\n",
       "    </tr>\n",
       "    <tr>\n",
       "      <th>2479</th>\n",
       "      <td>5979</td>\n",
       "      <td>0.338028</td>\n",
       "    </tr>\n",
       "    <tr>\n",
       "      <th>2480</th>\n",
       "      <td>5980</td>\n",
       "      <td>1.000000</td>\n",
       "    </tr>\n",
       "    <tr>\n",
       "      <th>2481</th>\n",
       "      <td>5981</td>\n",
       "      <td>1.000000</td>\n",
       "    </tr>\n",
       "  </tbody>\n",
       "</table>\n",
       "<p>2482 rows × 2 columns</p>\n",
       "</div>"
      ],
      "text/plain": [
       "      cust_id    gender\n",
       "0        3500  0.800000\n",
       "1        3501  0.000000\n",
       "2        3502  1.000000\n",
       "3        3503  0.451163\n",
       "4        3504  0.000000\n",
       "...       ...       ...\n",
       "2477     5977  0.462312\n",
       "2478     5978  0.000000\n",
       "2479     5979  0.338028\n",
       "2480     5980  1.000000\n",
       "2481     5981  1.000000\n",
       "\n",
       "[2482 rows x 2 columns]"
      ]
     },
     "execution_count": 59,
     "metadata": {},
     "output_type": "execute_result"
    }
   ],
   "source": [
    "pd.concat([x_test_cust_id, result], axis=1).rename(columns={1:'gender'})"
   ]
  },
  {
   "cell_type": "code",
   "execution_count": 61,
   "id": "a24a691b",
   "metadata": {},
   "outputs": [],
   "source": [
    "final = pd.concat([x_test_cust_id, result], axis=1).rename(columns={1:'gender'})\n",
    "final.to_csv('12345.csv', index=False)"
   ]
  },
  {
   "cell_type": "markdown",
   "id": "c5fd067e",
   "metadata": {},
   "source": [
    "### 제출된 파일의 정상 여부를 확인하기"
   ]
  },
  {
   "cell_type": "code",
   "execution_count": 62,
   "id": "946fa374",
   "metadata": {},
   "outputs": [
    {
     "name": "stdout",
     "output_type": "stream",
     "text": [
      "      cust_id    gender\n",
      "0        3500  0.800000\n",
      "1        3501  0.000000\n",
      "2        3502  1.000000\n",
      "3        3503  0.451163\n",
      "4        3504  0.000000\n",
      "...       ...       ...\n",
      "2477     5977  0.462312\n",
      "2478     5978  0.000000\n",
      "2479     5979  0.338028\n",
      "2480     5980  1.000000\n",
      "2481     5981  1.000000\n",
      "\n",
      "[2482 rows x 2 columns]\n"
     ]
    }
   ],
   "source": [
    "final = pd.read_csv('12345.csv')\n",
    "print(final)"
   ]
  },
  {
   "cell_type": "markdown",
   "id": "489a42b7",
   "metadata": {},
   "source": [
    "### 최종 코드"
   ]
  },
  {
   "cell_type": "code",
   "execution_count": 65,
   "id": "8c9cfa9c",
   "metadata": {},
   "outputs": [],
   "source": [
    "import pandas as pd\n",
    "x_train = pd.read_csv('x_train.csv', encoding='cp949')\n",
    "x_test = pd.read_csv('x_test.csv', encoding='cp949')\n",
    "y_train = pd.read_csv('y_train.csv', encoding='cp949')\n",
    "\n",
    "# 테스트 데이터의 cust_id 저장하기\n",
    "x_test_cust_id = x_test['cust_id']\n",
    "\n",
    "# cust_id 컬럼 삭제하기\n",
    "x_train = x_train.drop(columns=['cust_id'])\n",
    "x_test = x_test.drop(columns=['cust_id'])\n",
    "y_train = y_train.drop(columns=['cust_id'])\n",
    "\n",
    "# 결측치 처리하기\n",
    "x_train['환불금액'] = x_train['환불금액'].fillna(0)\n",
    "x_test['환불금액'] = x_test['환불금액'].fillna(0)\n",
    "\n",
    "# 라벨 인코딩 수행하기\n",
    "from sklearn.preprocessing import LabelEncoder\n",
    "encoder = LabelEncoder()\n",
    "x_train['주구매상품'] = encoder.fit_transform(x_train['주구매상품'])\n",
    "x_test['주구매상품'] = encoder.fit_transform(x_test['주구매상품'])\n",
    "x_train['주구매지점'] = encoder.fit_transform(x_train['주구매지점'])\n",
    "x_test['주구매지점'] = encoder.fit_transform(x_test['주구매지점'])\n",
    "\n",
    "# 파생변수 만들기\n",
    "condition = x_train['환불금액'] > 0\n",
    "x_train.loc[condition, '환불금액_new'] = 1\n",
    "x_train.loc[~condition, '환불금액_new'] = 0\n",
    "x_train = x_train.drop(columns = ['환불금액'])\n",
    "x_test.loc[condition, '환불금액_new'] = 1\n",
    "x_test.loc[~condition, '환불금액_new'] = 0\n",
    "x_test = x_test.drop(columns = ['환불금액'])\n",
    "\n",
    "# 데이터 스케일링 : 표준화 크기로 변환하기\n",
    "from sklearn.preprocessing import StandardScaler\n",
    "scaler = StandardScaler()\n",
    "x_train = pd.DataFrame(scaler.fit_transform(x_train), columns = x_train.columns)\n",
    "x_test = pd.DataFrame(scaler.fit_transform(x_test), columns = x_test.columns)\n",
    "\n",
    "# 불필요한 칼럼 삭제하기\n",
    "x_train = x_train.drop(columns=['최대구매액'])\n",
    "x_test = x_test.drop(columns=['최대구매액'])\n",
    "\n",
    "# 학습용/검증용 데이터로 분리하기\n",
    "from sklearn.model_selection import train_test_split\n",
    "X_TRAIN, X_TEST, Y_TRAIN, Y_TEST = train_test_split(x_train, y_train, test_size=0.2,\n",
    "                                                   random_state=10)\n",
    "\n",
    "# 모델 학습 및 평가하기\n",
    "from sklearn.tree import DecisionTreeClassifier\n",
    "model = DecisionTreeClassifier(max_depth=10, criterion='entropy', random_state=10)\n",
    "model.fit(X_TRAIN, Y_TRAIN)\n",
    "y_test_proba = model.predict_proba(X_TEST)\n",
    "\n",
    "# 결과 제출하기\n",
    "result = pd.DataFrame(y_test_proba)[1]\n",
    "final = pd.concat([x_test_cust_id, result], axis=1).rename(columns={1:'gender'})\n",
    "final.to_csv('final.csv', index=False)"
   ]
  }
 ],
 "metadata": {
  "kernelspec": {
   "display_name": "Python 3",
   "language": "python",
   "name": "python3"
  },
  "language_info": {
   "codemirror_mode": {
    "name": "ipython",
    "version": 3
   },
   "file_extension": ".py",
   "mimetype": "text/x-python",
   "name": "python",
   "nbconvert_exporter": "python",
   "pygments_lexer": "ipython3",
   "version": "3.8.8"
  }
 },
 "nbformat": 4,
 "nbformat_minor": 5
}
