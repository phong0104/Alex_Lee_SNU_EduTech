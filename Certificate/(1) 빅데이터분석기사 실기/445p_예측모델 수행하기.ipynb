{
 "cells": [
  {
   "cell_type": "markdown",
   "id": "11577fad",
   "metadata": {},
   "source": [
    "# 1. 데이터 탐색하기"
   ]
  },
  {
   "cell_type": "code",
   "execution_count": 1,
   "id": "c5208674",
   "metadata": {},
   "outputs": [
    {
     "name": "stdout",
     "output_type": "stream",
     "text": [
      "          datetime  계절  공휴일  근무일  날씨    온도    체감온도  습도   풍속\n",
      "0  2011-01-01 0:00   1    0    0   1  9.84  14.395  81  0.0\n",
      "1  2011-01-01 1:00   1    0    0   1  9.02  13.635  80  0.0\n",
      "2  2011-01-01 2:00   1    0    0   1  9.02  13.635  80  0.0\n",
      "3  2011-01-01 3:00   1    0    0   1  9.84  14.395  75  0.0\n",
      "4  2011-01-01 4:00   1    0    0   1  9.84  14.395  75  0.0\n"
     ]
    }
   ],
   "source": [
    "import pandas as pd\n",
    "x_train = pd.read_csv('bike_x_train.csv', encoding='cp949')\n",
    "x_test = pd.read_csv('bike_x_test.csv', encoding='cp949')\n",
    "y_train = pd.read_csv('bike_y_train.csv', encoding='cp949')\n",
    "print(x_train.head())"
   ]
  },
  {
   "cell_type": "code",
   "execution_count": 2,
   "id": "88c4a228",
   "metadata": {},
   "outputs": [
    {
     "name": "stdout",
     "output_type": "stream",
     "text": [
      "          datetime  계절  공휴일  근무일  날씨     온도    체감온도  습도       풍속\n",
      "0  2011-01-20 0:00   1    0    1   1  10.66  11.365  56  26.0027\n",
      "1  2011-01-20 1:00   1    0    1   1  10.66  13.635  56   0.0000\n",
      "2  2011-01-20 2:00   1    0    1   1  10.66  13.635  56   0.0000\n",
      "3  2011-01-20 3:00   1    0    1   1  10.66  12.880  56  11.0014\n",
      "4  2011-01-20 4:00   1    0    1   1  10.66  12.880  56  11.0014\n"
     ]
    }
   ],
   "source": [
    "print(x_test.head())"
   ]
  },
  {
   "cell_type": "code",
   "execution_count": 3,
   "id": "2ed33576",
   "metadata": {},
   "outputs": [
    {
     "name": "stdout",
     "output_type": "stream",
     "text": [
      "         癤풼atetime  count\n",
      "0  2011-01-01 0:00     16\n",
      "1  2011-01-01 1:00     40\n",
      "2  2011-01-01 2:00     32\n",
      "3  2011-01-01 3:00     13\n",
      "4  2011-01-01 4:00      1\n"
     ]
    }
   ],
   "source": [
    "print(y_train.head())"
   ]
  },
  {
   "cell_type": "code",
   "execution_count": 5,
   "id": "a79a64ca",
   "metadata": {},
   "outputs": [],
   "source": [
    "y_train.columns = ['datetime', 'count']"
   ]
  },
  {
   "cell_type": "code",
   "execution_count": 6,
   "id": "2cc22f5b",
   "metadata": {},
   "outputs": [
    {
     "name": "stdout",
     "output_type": "stream",
     "text": [
      "          datetime  count\n",
      "0  2011-01-01 0:00     16\n",
      "1  2011-01-01 1:00     40\n",
      "2  2011-01-01 2:00     32\n",
      "3  2011-01-01 3:00     13\n",
      "4  2011-01-01 4:00      1\n"
     ]
    }
   ],
   "source": [
    "print(y_train.head())"
   ]
  },
  {
   "cell_type": "markdown",
   "id": "9a007a54",
   "metadata": {},
   "source": [
    "### 행/열 확인하기"
   ]
  },
  {
   "cell_type": "code",
   "execution_count": 7,
   "id": "45701016",
   "metadata": {},
   "outputs": [
    {
     "name": "stdout",
     "output_type": "stream",
     "text": [
      "(10886, 9)\n"
     ]
    }
   ],
   "source": [
    "print(x_train.shape)"
   ]
  },
  {
   "cell_type": "code",
   "execution_count": 8,
   "id": "919a93d3",
   "metadata": {},
   "outputs": [
    {
     "name": "stdout",
     "output_type": "stream",
     "text": [
      "(6493, 9)\n"
     ]
    }
   ],
   "source": [
    "print(x_test.shape)"
   ]
  },
  {
   "cell_type": "code",
   "execution_count": 9,
   "id": "d1b4b1fc",
   "metadata": {},
   "outputs": [
    {
     "name": "stdout",
     "output_type": "stream",
     "text": [
      "(10886, 2)\n"
     ]
    }
   ],
   "source": [
    "print(y_train.shape)"
   ]
  },
  {
   "cell_type": "markdown",
   "id": "a81c47c4",
   "metadata": {},
   "source": [
    "### 요약정보 확인하기"
   ]
  },
  {
   "cell_type": "code",
   "execution_count": 10,
   "id": "18d3798c",
   "metadata": {},
   "outputs": [
    {
     "name": "stdout",
     "output_type": "stream",
     "text": [
      "<class 'pandas.core.frame.DataFrame'>\n",
      "RangeIndex: 10886 entries, 0 to 10885\n",
      "Data columns (total 9 columns):\n",
      " #   Column    Non-Null Count  Dtype  \n",
      "---  ------    --------------  -----  \n",
      " 0   datetime  10886 non-null  object \n",
      " 1   계절        10886 non-null  int64  \n",
      " 2   공휴일       10886 non-null  int64  \n",
      " 3   근무일       10886 non-null  int64  \n",
      " 4   날씨        10886 non-null  int64  \n",
      " 5   온도        10886 non-null  float64\n",
      " 6   체감온도      10886 non-null  float64\n",
      " 7   습도        10886 non-null  int64  \n",
      " 8   풍속        10886 non-null  float64\n",
      "dtypes: float64(3), int64(5), object(1)\n",
      "memory usage: 765.5+ KB\n",
      "None\n"
     ]
    }
   ],
   "source": [
    "print(x_train.info())"
   ]
  },
  {
   "cell_type": "code",
   "execution_count": 11,
   "id": "ad385d89",
   "metadata": {},
   "outputs": [
    {
     "name": "stdout",
     "output_type": "stream",
     "text": [
      "[1 2 3 4]\n"
     ]
    }
   ],
   "source": [
    "print(x_train['계절'].unique())"
   ]
  },
  {
   "cell_type": "code",
   "execution_count": 12,
   "id": "873709ab",
   "metadata": {},
   "outputs": [
    {
     "name": "stdout",
     "output_type": "stream",
     "text": [
      "[0 1]\n"
     ]
    }
   ],
   "source": [
    "print(x_train['공휴일'].unique())"
   ]
  },
  {
   "cell_type": "code",
   "execution_count": 13,
   "id": "64d3d489",
   "metadata": {},
   "outputs": [
    {
     "name": "stdout",
     "output_type": "stream",
     "text": [
      "[0 1]\n"
     ]
    }
   ],
   "source": [
    "print(x_train['근무일'].unique())"
   ]
  },
  {
   "cell_type": "code",
   "execution_count": 14,
   "id": "511f057c",
   "metadata": {},
   "outputs": [
    {
     "name": "stdout",
     "output_type": "stream",
     "text": [
      "[1 2 3 4]\n"
     ]
    }
   ],
   "source": [
    "print(x_train['날씨'].unique())"
   ]
  },
  {
   "cell_type": "markdown",
   "id": "14062563",
   "metadata": {},
   "source": [
    "### 기초 통계량 확인하기"
   ]
  },
  {
   "cell_type": "code",
   "execution_count": 16,
   "id": "dcfce018",
   "metadata": {},
   "outputs": [
    {
     "name": "stdout",
     "output_type": "stream",
     "text": [
      "        count       mean        std   min      25%     50%      75%       max\n",
      "계절    10886.0   2.506614   1.116174  1.00   2.0000   3.000   4.0000    4.0000\n",
      "공휴일   10886.0   0.028569   0.166599  0.00   0.0000   0.000   0.0000    1.0000\n",
      "근무일   10886.0   0.680875   0.466159  0.00   0.0000   1.000   1.0000    1.0000\n",
      "날씨    10886.0   1.418427   0.633839  1.00   1.0000   1.000   2.0000    4.0000\n",
      "온도    10886.0  20.230860   7.791590  0.82  13.9400  20.500  26.2400   41.0000\n",
      "체감온도  10886.0  23.655084   8.474601  0.76  16.6650  24.240  31.0600   45.4550\n",
      "습도    10886.0  61.886460  19.245033  0.00  47.0000  62.000  77.0000  100.0000\n",
      "풍속    10886.0  12.799395   8.164537  0.00   7.0015  12.998  16.9979   56.9969\n"
     ]
    }
   ],
   "source": [
    "print(x_train.describe().T)"
   ]
  },
  {
   "cell_type": "markdown",
   "id": "5b7ce3de",
   "metadata": {},
   "source": [
    "### 독립변수와 종속변수의 관계 확인하기"
   ]
  },
  {
   "cell_type": "code",
   "execution_count": 17,
   "id": "fbf9417e",
   "metadata": {},
   "outputs": [
    {
     "name": "stdout",
     "output_type": "stream",
     "text": [
      "계절\n",
      "1    312498\n",
      "2    588282\n",
      "3    640662\n",
      "4    544034\n",
      "Name: count, dtype: int64\n"
     ]
    }
   ],
   "source": [
    "data = pd.concat([x_train, y_train], axis=1)\n",
    "print(data.groupby(['계절'])['count'].sum())"
   ]
  },
  {
   "cell_type": "code",
   "execution_count": 18,
   "id": "d5c364a6",
   "metadata": {},
   "outputs": [
    {
     "name": "stdout",
     "output_type": "stream",
     "text": [
      "공휴일\n",
      "0    2027668\n",
      "1      57808\n",
      "Name: count, dtype: int64\n"
     ]
    }
   ],
   "source": [
    "print(data.groupby(['공휴일'])['count'].sum())"
   ]
  },
  {
   "cell_type": "code",
   "execution_count": 19,
   "id": "56cf28f1",
   "metadata": {},
   "outputs": [
    {
     "name": "stdout",
     "output_type": "stream",
     "text": [
      "근무일\n",
      "0     654872\n",
      "1    1430604\n",
      "Name: count, dtype: int64\n"
     ]
    }
   ],
   "source": [
    "print(data.groupby(['근무일'])['count'].sum())"
   ]
  },
  {
   "cell_type": "code",
   "execution_count": 20,
   "id": "ef00c3ac",
   "metadata": {},
   "outputs": [
    {
     "name": "stdout",
     "output_type": "stream",
     "text": [
      "날씨\n",
      "1    1476063\n",
      "2     507160\n",
      "3     102089\n",
      "4        164\n",
      "Name: count, dtype: int64\n"
     ]
    }
   ],
   "source": [
    "print(data.groupby(['날씨'])['count'].sum())"
   ]
  },
  {
   "cell_type": "markdown",
   "id": "cfcf2dcd",
   "metadata": {},
   "source": [
    "# 2. 전처리하기"
   ]
  },
  {
   "cell_type": "markdown",
   "id": "22d7b9d0",
   "metadata": {},
   "source": [
    "### 파생변수 만들기"
   ]
  },
  {
   "cell_type": "code",
   "execution_count": 21,
   "id": "89a0bc2f",
   "metadata": {},
   "outputs": [
    {
     "name": "stdout",
     "output_type": "stream",
     "text": [
      "[2011 2012]\n"
     ]
    }
   ],
   "source": [
    "x_train['datetime'] = pd.to_datetime(x_train['datetime'])\n",
    "x_train['year'] = x_train['datetime'].dt.year\n",
    "print(x_train['year'].unique())"
   ]
  },
  {
   "cell_type": "code",
   "execution_count": 22,
   "id": "7172a157",
   "metadata": {},
   "outputs": [
    {
     "name": "stdout",
     "output_type": "stream",
     "text": [
      "[ 1  2  3  4  5  6  7  8  9 10 11 12]\n"
     ]
    }
   ],
   "source": [
    "x_train['month'] = x_train['datetime'].dt.month\n",
    "print(x_train['month'].unique())"
   ]
  },
  {
   "cell_type": "code",
   "execution_count": 23,
   "id": "a41c326b",
   "metadata": {},
   "outputs": [
    {
     "name": "stdout",
     "output_type": "stream",
     "text": [
      "[ 1  2  3  4  5  6  7  8  9 10 11 12 13 14 15 16 17 18 19]\n"
     ]
    }
   ],
   "source": [
    "x_train['day'] = x_train['datetime'].dt.day\n",
    "print(x_train['day'].unique())"
   ]
  },
  {
   "cell_type": "code",
   "execution_count": 26,
   "id": "488ff433",
   "metadata": {},
   "outputs": [
    {
     "name": "stdout",
     "output_type": "stream",
     "text": [
      "[ 0  1  2  3  4  5  6  7  8  9 10 11 12 13 14 15 16 17 18 19 20 21 22 23]\n"
     ]
    }
   ],
   "source": [
    "x_train['hour'] = x_train['datetime'].dt.hour\n",
    "print(x_train['hour'].unique())"
   ]
  },
  {
   "cell_type": "code",
   "execution_count": 28,
   "id": "eb4a6401",
   "metadata": {},
   "outputs": [
    {
     "name": "stdout",
     "output_type": "stream",
     "text": [
      "[5 6 0 1 2 3 4]\n"
     ]
    }
   ],
   "source": [
    "x_train['dayofweek'] = x_train['datetime'].dt.dayofweek\n",
    "print(x_train['dayofweek'].unique())\n",
    "# 0(월) 1(화) ~ 6(일)"
   ]
  },
  {
   "cell_type": "code",
   "execution_count": 29,
   "id": "8d4d8a09",
   "metadata": {},
   "outputs": [],
   "source": [
    "data2 = pd.concat([x_train, y_train], axis=1)"
   ]
  },
  {
   "cell_type": "code",
   "execution_count": 30,
   "id": "d2605f22",
   "metadata": {},
   "outputs": [
    {
     "name": "stdout",
     "output_type": "stream",
     "text": [
      "year\n",
      "2011     781979\n",
      "2012    1303497\n",
      "Name: count, dtype: int64\n"
     ]
    }
   ],
   "source": [
    "print(data2.groupby(['year'])['count'].sum())"
   ]
  },
  {
   "cell_type": "code",
   "execution_count": 31,
   "id": "725f028d",
   "metadata": {},
   "outputs": [
    {
     "name": "stdout",
     "output_type": "stream",
     "text": [
      "month\n",
      "1      79884\n",
      "2      99113\n",
      "3     133501\n",
      "4     167402\n",
      "5     200147\n",
      "6     220733\n",
      "7     214617\n",
      "8     213516\n",
      "9     212529\n",
      "10    207434\n",
      "11    176440\n",
      "12    160160\n",
      "Name: count, dtype: int64\n"
     ]
    }
   ],
   "source": [
    "print(data2.groupby(['month'])['count'].sum())"
   ]
  },
  {
   "cell_type": "code",
   "execution_count": 33,
   "id": "068d5134",
   "metadata": {},
   "outputs": [],
   "source": [
    "x_train = x_train.drop(columns = ['month'])"
   ]
  },
  {
   "cell_type": "code",
   "execution_count": 34,
   "id": "445350cb",
   "metadata": {},
   "outputs": [
    {
     "name": "stdout",
     "output_type": "stream",
     "text": [
      "day\n",
      "1     103692\n",
      "2     105381\n",
      "3     111561\n",
      "4     112335\n",
      "5     109115\n",
      "6     108600\n",
      "7     105486\n",
      "8     102770\n",
      "9     108041\n",
      "10    111645\n",
      "11    111146\n",
      "12    109257\n",
      "13    111448\n",
      "14    112406\n",
      "15    115677\n",
      "16    109837\n",
      "17    118255\n",
      "18    108437\n",
      "19    110387\n",
      "Name: count, dtype: int64\n"
     ]
    }
   ],
   "source": [
    "print(data2.groupby(['day'])['count'].sum())"
   ]
  },
  {
   "cell_type": "code",
   "execution_count": 35,
   "id": "faddc241",
   "metadata": {},
   "outputs": [],
   "source": [
    "x_train = x_train.drop(columns = ['day'])"
   ]
  },
  {
   "cell_type": "code",
   "execution_count": 36,
   "id": "b326930f",
   "metadata": {},
   "outputs": [
    {
     "name": "stdout",
     "output_type": "stream",
     "text": [
      "hour\n",
      "0      25088\n",
      "1      15372\n",
      "2      10259\n",
      "3       5091\n",
      "4       2832\n",
      "5       8935\n",
      "6      34698\n",
      "7      96968\n",
      "8     165060\n",
      "9     100910\n",
      "10     79667\n",
      "11     95857\n",
      "12    116968\n",
      "13    117551\n",
      "14    111010\n",
      "15    115960\n",
      "16    144266\n",
      "17    213757\n",
      "18    196472\n",
      "19    143767\n",
      "20    104204\n",
      "21     79057\n",
      "22     60911\n",
      "23     40816\n",
      "Name: count, dtype: int64\n"
     ]
    }
   ],
   "source": [
    "print(data2.groupby(['hour'])['count'].sum())"
   ]
  },
  {
   "cell_type": "code",
   "execution_count": 37,
   "id": "ec839795",
   "metadata": {},
   "outputs": [
    {
     "name": "stdout",
     "output_type": "stream",
     "text": [
      "dayofweek\n",
      "0    295296\n",
      "1    291985\n",
      "2    292226\n",
      "3    306401\n",
      "4    302504\n",
      "5    311518\n",
      "6    285546\n",
      "Name: count, dtype: int64\n"
     ]
    }
   ],
   "source": [
    "print(data2.groupby(['dayofweek'])['count'].sum())"
   ]
  },
  {
   "cell_type": "code",
   "execution_count": 38,
   "id": "4ace984b",
   "metadata": {},
   "outputs": [],
   "source": [
    "x_train = x_train.drop(columns=['dayofweek'])"
   ]
  },
  {
   "cell_type": "code",
   "execution_count": 39,
   "id": "37d356bf",
   "metadata": {},
   "outputs": [],
   "source": [
    "x_test['datetime'] = pd.to_datetime(x_test['datetime'])\n",
    "x_test['year'] = x_test['datetime'].dt.year\n",
    "x_test['hour'] = x_test['datetime'].dt.hour"
   ]
  },
  {
   "cell_type": "markdown",
   "id": "9b6f8022",
   "metadata": {},
   "source": [
    "### 불필요한 칼럼 삭제하기"
   ]
  },
  {
   "cell_type": "code",
   "execution_count": 40,
   "id": "b599bf8d",
   "metadata": {},
   "outputs": [],
   "source": [
    "x_test_datetime = x_test['datetime']\n",
    "x_train = x_train.drop(columns = ['datetime'])\n",
    "x_test = x_test.drop(columns = ['datetime'])\n",
    "y_train = y_train.drop(columns = ['datetime'])"
   ]
  },
  {
   "cell_type": "markdown",
   "id": "234413a7",
   "metadata": {},
   "source": [
    "# 3. 학습하고 평가하기"
   ]
  },
  {
   "cell_type": "markdown",
   "id": "0faedf4c",
   "metadata": {},
   "source": [
    "### 데이터 분리하기"
   ]
  },
  {
   "cell_type": "code",
   "execution_count": 42,
   "id": "1d68dfdc",
   "metadata": {},
   "outputs": [
    {
     "name": "stdout",
     "output_type": "stream",
     "text": [
      "(8708, 10)\n"
     ]
    }
   ],
   "source": [
    "from sklearn.model_selection import train_test_split\n",
    "\n",
    "X_TRAIN, X_TEST, Y_TRAIN, Y_TEST = train_test_split(x_train, y_train, test_size = 0.2, random_state=10)\n",
    "print(X_TRAIN.shape)"
   ]
  },
  {
   "cell_type": "code",
   "execution_count": 43,
   "id": "8dea043e",
   "metadata": {},
   "outputs": [
    {
     "name": "stdout",
     "output_type": "stream",
     "text": [
      "(2178, 10)\n"
     ]
    }
   ],
   "source": [
    "print(X_TEST.shape)"
   ]
  },
  {
   "cell_type": "code",
   "execution_count": 44,
   "id": "881b91be",
   "metadata": {},
   "outputs": [
    {
     "name": "stdout",
     "output_type": "stream",
     "text": [
      "(8708, 1)\n"
     ]
    }
   ],
   "source": [
    "print(Y_TRAIN.shape)"
   ]
  },
  {
   "cell_type": "code",
   "execution_count": 45,
   "id": "d221c3d9",
   "metadata": {},
   "outputs": [
    {
     "name": "stdout",
     "output_type": "stream",
     "text": [
      "(2178, 1)\n"
     ]
    }
   ],
   "source": [
    "print(Y_TEST.shape)"
   ]
  },
  {
   "cell_type": "markdown",
   "id": "215ac677",
   "metadata": {},
   "source": [
    "### 데이터 학습 및 하이퍼 파라미터 튜닝하기"
   ]
  },
  {
   "cell_type": "code",
   "execution_count": 47,
   "id": "b9a72ef6",
   "metadata": {},
   "outputs": [
    {
     "name": "stdout",
     "output_type": "stream",
     "text": [
      "Collecting xgboostNote: you may need to restart the kernel to use updated packages.\n",
      "  Downloading xgboost-1.5.1-py3-none-win_amd64.whl (106.6 MB)\n",
      "Requirement already satisfied: scipy in c:\\users\\phong\\anaconda3\\lib\\site-packages (from xgboost) (1.6.2)\n",
      "Requirement already satisfied: numpy in c:\\users\\phong\\anaconda3\\lib\\site-packages (from xgboost) (1.20.1)\n",
      "Installing collected packages: xgboost\n",
      "\n",
      "Successfully installed xgboost-1.5.1\n"
     ]
    }
   ],
   "source": [
    "pip install xgboost"
   ]
  },
  {
   "cell_type": "code",
   "execution_count": 49,
   "id": "2e557314",
   "metadata": {},
   "outputs": [],
   "source": [
    "from xgboost import XGBRegressor"
   ]
  },
  {
   "cell_type": "markdown",
   "id": "3f8f75a2",
   "metadata": {},
   "source": [
    "- 1번째 모델"
   ]
  },
  {
   "cell_type": "code",
   "execution_count": 53,
   "id": "56a92dcb",
   "metadata": {},
   "outputs": [
    {
     "data": {
      "text/plain": [
       "XGBRegressor(base_score=0.5, booster='gbtree', colsample_bylevel=1,\n",
       "             colsample_bynode=1, colsample_bytree=1, enable_categorical=False,\n",
       "             gamma=0, gpu_id=-1, importance_type=None,\n",
       "             interaction_constraints='', learning_rate=0.300000012,\n",
       "             max_delta_step=0, max_depth=3, min_child_weight=1, missing=nan,\n",
       "             monotone_constraints='()', n_estimators=100, n_jobs=4,\n",
       "             num_parallel_tree=1, predictor='auto', random_state=10,\n",
       "             reg_alpha=0, reg_lambda=1, scale_pos_weight=1, subsample=1,\n",
       "             tree_method='exact', validate_parameters=1, verbosity=None)"
      ]
     },
     "execution_count": 53,
     "metadata": {},
     "output_type": "execute_result"
    }
   ],
   "source": [
    "model1 = XGBRegressor(n_estimators = 100, max_depth=3, random_state=10)\n",
    "model1.fit(X_TRAIN, Y_TRAIN)"
   ]
  },
  {
   "cell_type": "markdown",
   "id": "3b7c82e6",
   "metadata": {},
   "source": [
    "- 2번째 모델"
   ]
  },
  {
   "cell_type": "code",
   "execution_count": 52,
   "id": "b7b07641",
   "metadata": {},
   "outputs": [
    {
     "data": {
      "text/plain": [
       "XGBRegressor(base_score=0.5, booster='gbtree', colsample_bylevel=1,\n",
       "             colsample_bynode=1, colsample_bytree=1, enable_categorical=False,\n",
       "             gamma=0, gpu_id=-1, importance_type=None,\n",
       "             interaction_constraints='', learning_rate=0.300000012,\n",
       "             max_delta_step=0, max_depth=5, min_child_weight=1, missing=nan,\n",
       "             monotone_constraints='()', n_estimators=200, n_jobs=4,\n",
       "             num_parallel_tree=1, predictor='auto', random_state=10,\n",
       "             reg_alpha=0, reg_lambda=1, scale_pos_weight=1, subsample=1,\n",
       "             tree_method='exact', validate_parameters=1, verbosity=None)"
      ]
     },
     "execution_count": 52,
     "metadata": {},
     "output_type": "execute_result"
    }
   ],
   "source": [
    "model2 = XGBRegressor(n_estimators=200, max_depth=5, random_state=10)\n",
    "model2.fit(X_TRAIN, Y_TRAIN)"
   ]
  },
  {
   "cell_type": "markdown",
   "id": "5d826967",
   "metadata": {},
   "source": [
    "### 결과 예측하기"
   ]
  },
  {
   "cell_type": "code",
   "execution_count": 54,
   "id": "935b9d26",
   "metadata": {},
   "outputs": [
    {
     "name": "stdout",
     "output_type": "stream",
     "text": [
      "           count\n",
      "0       2.139193\n",
      "1       0.979986\n",
      "2      -8.262762\n",
      "3      -9.796791\n",
      "4      -9.796791\n",
      "...          ...\n",
      "6488  227.424484\n",
      "6489  146.583008\n",
      "6490  116.128029\n",
      "6491   95.260033\n",
      "6492   60.184326\n",
      "\n",
      "[6493 rows x 1 columns]\n"
     ]
    }
   ],
   "source": [
    "y_test_predicted = pd.DataFrame(model1.predict(x_test)).rename(columns={0:'count'})\n",
    "print(y_test_predicted)"
   ]
  },
  {
   "cell_type": "code",
   "execution_count": 55,
   "id": "104744e1",
   "metadata": {},
   "outputs": [
    {
     "name": "stdout",
     "output_type": "stream",
     "text": [
      "        count\n",
      "0    2.139193\n",
      "1    0.979986\n",
      "2    0.000000\n",
      "3    0.000000\n",
      "4    0.000000\n",
      "5    7.486256\n",
      "6   79.849319\n",
      "7  141.700363\n",
      "8  319.266785\n",
      "9   91.251663\n"
     ]
    }
   ],
   "source": [
    "y_test_predicted[y_test_predicted['count']<0] = 0\n",
    "print(pd.DataFrame(y_test_predicted).head(10))"
   ]
  },
  {
   "cell_type": "code",
   "execution_count": 56,
   "id": "95cbc091",
   "metadata": {},
   "outputs": [],
   "source": [
    "Y_TEST_PREDICTED = pd.DataFrame(model1.predict(X_TEST)).rename(columns={0:'count'})\n",
    "Y_TEST_PREDICTED[Y_TEST_PREDICTED['count']<0] = 0"
   ]
  },
  {
   "cell_type": "markdown",
   "id": "c4c061eb",
   "metadata": {},
   "source": [
    "### 모델 평가하기"
   ]
  },
  {
   "cell_type": "code",
   "execution_count": 57,
   "id": "e1b88242",
   "metadata": {},
   "outputs": [],
   "source": [
    "from sklearn.metrics import r2_score"
   ]
  },
  {
   "cell_type": "markdown",
   "id": "27f080c1",
   "metadata": {},
   "source": [
    "- 1번째 모델 평가지표 결과"
   ]
  },
  {
   "cell_type": "code",
   "execution_count": 58,
   "id": "029d8ead",
   "metadata": {},
   "outputs": [
    {
     "name": "stdout",
     "output_type": "stream",
     "text": [
      "0.9044130641900863\n"
     ]
    }
   ],
   "source": [
    "print(r2_score(Y_TEST, Y_TEST_PREDICTED))"
   ]
  },
  {
   "cell_type": "markdown",
   "id": "5c296841",
   "metadata": {},
   "source": [
    "- 2번째 모델 평가지표 결과"
   ]
  },
  {
   "cell_type": "code",
   "execution_count": 62,
   "id": "884cdd7c",
   "metadata": {},
   "outputs": [],
   "source": [
    "Y_TEST_PREDICTED2 = pd.DataFrame(model2.predict(X_TEST)).rename(columns={0:'count'})\n",
    "Y_TEST_PREDICTED2[Y_TEST_PREDICTED2['count'] < 0] = 0"
   ]
  },
  {
   "cell_type": "code",
   "execution_count": 63,
   "id": "03d2049c",
   "metadata": {},
   "outputs": [
    {
     "name": "stdout",
     "output_type": "stream",
     "text": [
      "0.9381182890431057\n"
     ]
    }
   ],
   "source": [
    "print(r2_score(Y_TEST, Y_TEST_PREDICTED2))"
   ]
  },
  {
   "cell_type": "markdown",
   "id": "fa771768",
   "metadata": {},
   "source": [
    "# 4. 결과 제출하기"
   ]
  },
  {
   "cell_type": "code",
   "execution_count": 64,
   "id": "b1b9af17",
   "metadata": {},
   "outputs": [
    {
     "name": "stdout",
     "output_type": "stream",
     "text": [
      "                datetime       count\n",
      "0    2011-01-20 00:00:00    2.139193\n",
      "1    2011-01-20 01:00:00    0.979986\n",
      "2    2011-01-20 02:00:00    0.000000\n",
      "3    2011-01-20 03:00:00    0.000000\n",
      "4    2011-01-20 04:00:00    0.000000\n",
      "...                  ...         ...\n",
      "6488 2012-12-31 19:00:00  227.424484\n",
      "6489 2012-12-31 20:00:00  146.583008\n",
      "6490 2012-12-31 21:00:00  116.128029\n",
      "6491 2012-12-31 22:00:00   95.260033\n",
      "6492 2012-12-31 23:00:00   60.184326\n",
      "\n",
      "[6493 rows x 2 columns]\n"
     ]
    }
   ],
   "source": [
    "print(pd.concat([x_test_datetime, y_test_predicted], axis=1))"
   ]
  },
  {
   "cell_type": "code",
   "execution_count": 65,
   "id": "39621d16",
   "metadata": {},
   "outputs": [],
   "source": [
    "final = pd.concat([x_test_datetime, y_test_predicted], axis=1)\n",
    "final.to_csv('20220113.csv', index=False)"
   ]
  },
  {
   "cell_type": "code",
   "execution_count": 68,
   "id": "1291d7c8",
   "metadata": {},
   "outputs": [
    {
     "data": {
      "text/html": [
       "<div>\n",
       "<style scoped>\n",
       "    .dataframe tbody tr th:only-of-type {\n",
       "        vertical-align: middle;\n",
       "    }\n",
       "\n",
       "    .dataframe tbody tr th {\n",
       "        vertical-align: top;\n",
       "    }\n",
       "\n",
       "    .dataframe thead th {\n",
       "        text-align: right;\n",
       "    }\n",
       "</style>\n",
       "<table border=\"1\" class=\"dataframe\">\n",
       "  <thead>\n",
       "    <tr style=\"text-align: right;\">\n",
       "      <th></th>\n",
       "      <th>datetime</th>\n",
       "      <th>count</th>\n",
       "    </tr>\n",
       "  </thead>\n",
       "  <tbody>\n",
       "    <tr>\n",
       "      <th>0</th>\n",
       "      <td>2011-01-01 0:00</td>\n",
       "      <td>16</td>\n",
       "    </tr>\n",
       "    <tr>\n",
       "      <th>1</th>\n",
       "      <td>2011-01-01 1:00</td>\n",
       "      <td>40</td>\n",
       "    </tr>\n",
       "    <tr>\n",
       "      <th>2</th>\n",
       "      <td>2011-01-01 2:00</td>\n",
       "      <td>32</td>\n",
       "    </tr>\n",
       "    <tr>\n",
       "      <th>3</th>\n",
       "      <td>2011-01-01 3:00</td>\n",
       "      <td>13</td>\n",
       "    </tr>\n",
       "    <tr>\n",
       "      <th>4</th>\n",
       "      <td>2011-01-01 4:00</td>\n",
       "      <td>1</td>\n",
       "    </tr>\n",
       "  </tbody>\n",
       "</table>\n",
       "</div>"
      ],
      "text/plain": [
       "          datetime  count\n",
       "0  2011-01-01 0:00     16\n",
       "1  2011-01-01 1:00     40\n",
       "2  2011-01-01 2:00     32\n",
       "3  2011-01-01 3:00     13\n",
       "4  2011-01-01 4:00      1"
      ]
     },
     "execution_count": 68,
     "metadata": {},
     "output_type": "execute_result"
    }
   ],
   "source": [
    "x_train = pd.read_csv('bike_x_train.csv', encoding='cp949')\n",
    "x_test = pd.read_csv('bike_x_test.csv', encoding='cp949')\n",
    "y_train = pd.read_csv('bike_y_train.csv', encoding='cp949')\n",
    "\n",
    "y_train.columns = ['datetime', 'count']"
   ]
  },
  {
   "cell_type": "code",
   "execution_count": 71,
   "id": "6b3fe4ad",
   "metadata": {},
   "outputs": [
    {
     "name": "stdout",
     "output_type": "stream",
     "text": [
      "0.9381182890431057\n"
     ]
    }
   ],
   "source": [
    "# 데이터 가져오기\n",
    "import pandas as pd\n",
    "x_train = pd.read_csv('bike_x_train.csv', encoding='cp949')\n",
    "x_test = pd.read_csv('bike_x_test.csv', encoding='cp949')\n",
    "y_train = pd.read_csv('bike_y_train.csv', encoding='cp949')\n",
    "y_train.columns = ['datetime', 'count']\n",
    "\n",
    "# 전처리하기\n",
    "x_train['datetime'] = pd.to_datetime(x_train['datetime'])\n",
    "x_train['year'] = x_train['datetime'].dt.year\n",
    "x_train['hour'] = x_train['datetime'].dt.hour\n",
    "x_test['datetime'] = pd.to_datetime(x_test['datetime'])\n",
    "x_test['year'] = x_test['datetime'].dt.year\n",
    "x_test['hour'] = x_test['datetime'].dt.hour\n",
    "x_test_datetime = x_test['datetime']\n",
    "x_train = x_train.drop(columns = ['datetime'])\n",
    "x_test = x_test.drop(columns = ['datetime'])\n",
    "y_train = y_train.drop(columns = ['datetime'])\n",
    "\n",
    "# 데이터 분리하기\n",
    "from sklearn.model_selection import train_test_split\n",
    "X_TRAIN, X_TEST, Y_TRAIN, Y_TEST = train_test_split(x_train, y_train, test_size=0.2, random_state=10)\n",
    "\n",
    "# 모델을 학습하고 테스트 데이터의 종속변수 값을 예측하기\n",
    "from xgboost import XGBRegressor\n",
    "model = XGBRegressor(n_estimators = 200, max_depth = 5, random_state = 10)\n",
    "model.fit(X_TRAIN, Y_TRAIN)\n",
    "y_test_predicted = pd.DataFrame(model.predict(x_test)).rename(columns={0:'count'})\n",
    "y_test_predicted[y_test_predicted['count']<0] = 0\n",
    "Y_TEST_PREDICTED = pd.DataFrame(model.predict(X_TEST)).rename(columns={0:'count'})\n",
    "Y_TEST_PREDICTED[Y_TEST_PREDICTED['count']<0] = 0\n",
    "\n",
    "# 모델 평가하기\n",
    "from sklearn.metrics import r2_score\n",
    "print(r2_score(Y_TEST, Y_TEST_PREDICTED))\n",
    "\n",
    "# 결과 제출하기\n",
    "final = pd.concat([x_test_datetime, y_test_predicted], axis=1)\n",
    "final.to_csv('20220113.csv', index=False)"
   ]
  },
  {
   "cell_type": "code",
   "execution_count": null,
   "id": "2b9eeee0",
   "metadata": {},
   "outputs": [],
   "source": []
  }
 ],
 "metadata": {
  "kernelspec": {
   "display_name": "Python 3",
   "language": "python",
   "name": "python3"
  },
  "language_info": {
   "codemirror_mode": {
    "name": "ipython",
    "version": 3
   },
   "file_extension": ".py",
   "mimetype": "text/x-python",
   "name": "python",
   "nbconvert_exporter": "python",
   "pygments_lexer": "ipython3",
   "version": "3.8.8"
  }
 },
 "nbformat": 4,
 "nbformat_minor": 5
}
