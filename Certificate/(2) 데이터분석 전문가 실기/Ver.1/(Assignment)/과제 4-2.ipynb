{
 "cells": [
  {
   "cell_type": "markdown",
   "id": "a561cce1",
   "metadata": {
    "toc": true
   },
   "source": [
    "<h1>Table of Contents<span class=\"tocSkip\"></span></h1>\n",
    "<div class=\"toc\"><ul class=\"toc-item\"></ul></div>"
   ]
  },
  {
   "cell_type": "code",
   "execution_count": 11,
   "id": "c95c30a4",
   "metadata": {},
   "outputs": [],
   "source": [
    "## 과제 4-2 \n",
    "\n",
    "\n",
    "import pandas as pd \n",
    "from sklearn.model_selection import train_test_split\n",
    "X = pd.read_csv('../data/빅분기_X_train.csv',encoding='cp949')\n",
    "y = pd.read_csv('../data/빅분기_y_train.csv',encoding='cp949')\n"
   ]
  },
  {
   "cell_type": "code",
   "execution_count": 13,
   "id": "b1490685",
   "metadata": {},
   "outputs": [],
   "source": [
    "# 빅분기 X_train, 빅분기 y_train 데이터의 cust_id를 인덱스로 설정하세요 \n"
   ]
  },
  {
   "cell_type": "code",
   "execution_count": 14,
   "id": "20de5680",
   "metadata": {},
   "outputs": [],
   "source": [
    "# X_train과 y_train데이터를 y값을 기준으로 층화추출하여 7:3으로 데이터를 나누세요 (X_train, X_val, y_train,y_val)\n"
   ]
  },
  {
   "cell_type": "code",
   "execution_count": 20,
   "id": "3e8ef7ba",
   "metadata": {},
   "outputs": [
    {
     "data": {
      "text/plain": [
       "array([[-0.49851399, -0.38059309,         nan, ...,  4.60885587,\n",
       "        -1.06663481, -0.84904613],\n",
       "       [ 2.74031955,  0.22752049, -0.36488149, ...,  0.86411734,\n",
       "        -0.06404343, -0.68758353],\n",
       "       [ 0.44953587,  0.22768062,         nan, ..., -0.37292375,\n",
       "        -0.48267262, -0.44538964],\n",
       "       ...,\n",
       "       [-0.5874525 , -0.61559459,         nan, ..., -0.9376599 ,\n",
       "         2.37225363, -0.84904613],\n",
       "       [-0.49675254, -0.23735173,         nan, ...,  0.07079751,\n",
       "        -0.30243738,  2.62239974],\n",
       "       [-0.51551183, -0.50122969,         nan, ...,  0.40694998,\n",
       "         1.43437496,  0.32155771]])"
      ]
     },
     "execution_count": 20,
     "metadata": {},
     "output_type": "execute_result"
    }
   ],
   "source": [
    "# X_train과 X_val의 수치형 변수들만 StandardScaler를 이용하여 표준화 시키세요. \n"
   ]
  },
  {
   "cell_type": "code",
   "execution_count": null,
   "id": "8a00c5de",
   "metadata": {},
   "outputs": [],
   "source": []
  }
 ],
 "metadata": {
  "kernelspec": {
   "display_name": "Python 3 (ipykernel)",
   "language": "python",
   "name": "python3"
  },
  "language_info": {
   "codemirror_mode": {
    "name": "ipython",
    "version": 3
   },
   "file_extension": ".py",
   "mimetype": "text/x-python",
   "name": "python",
   "nbconvert_exporter": "python",
   "pygments_lexer": "ipython3",
   "version": "3.7.10"
  },
  "toc": {
   "base_numbering": 1,
   "nav_menu": {},
   "number_sections": true,
   "sideBar": true,
   "skip_h1_title": false,
   "title_cell": "Table of Contents",
   "title_sidebar": "Contents",
   "toc_cell": true,
   "toc_position": {},
   "toc_section_display": true,
   "toc_window_display": true
  }
 },
 "nbformat": 4,
 "nbformat_minor": 5
}
