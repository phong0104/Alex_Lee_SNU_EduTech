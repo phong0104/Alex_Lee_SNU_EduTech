{
 "cells": [
  {
   "cell_type": "markdown",
   "id": "617dadda",
   "metadata": {},
   "source": [
    "# 빅데이터 분석기사 예제 "
   ]
  },
  {
   "cell_type": "markdown",
   "id": "857bf1f5",
   "metadata": {},
   "source": [
    "# 작업형 1유형 예시문제 \n",
    "\n",
    "* mtcars 데이터셋의 qsec 컬럼을 최소최대 척도(Min Max Scale)로 변환한 후 0.5 보다 큰 값을 가지는 레코드 수를 구하시오."
   ]
  },
  {
   "cell_type": "markdown",
   "id": "99023dbf",
   "metadata": {},
   "source": [
    "# 2. 작업형 제2유형 : 모형 구축 및 평가 영역\n",
    "- 고객 3,500명에 대한 학습용 데이터(y_train.csv, X_train.csv)를 이용하여 성별예측 모형을 만든 후, 이를 평가용 데이터(X_test.csv)에 적용하여 얻은 2,482명 고객의 성별 예측값(남자일 확률 = gender:1)을 다음과 같은 형식의 CSV 파일로 생성하시오.(제출한 모델의 성능은 ROC-AUC 평가지표에 따라 채점)\n",
    "\n"
   ]
  },
  {
   "cell_type": "code",
   "execution_count": 69,
   "id": "ffe1274f",
   "metadata": {},
   "outputs": [],
   "source": [
    "X_train = pd.read_csv('X_train.csv',encoding='cp949')\n",
    "y_train = pd.read_csv('y_train.csv',encoding='cp949')\n",
    "X_test = pd.read_csv('X_test.csv',encoding='cp949')\n"
   ]
  }
 ],
 "metadata": {
  "kernelspec": {
   "display_name": "Python 3 (ipykernel)",
   "language": "python",
   "name": "python3"
  },
  "language_info": {
   "codemirror_mode": {
    "name": "ipython",
    "version": 3
   },
   "file_extension": ".py",
   "mimetype": "text/x-python",
   "name": "python",
   "nbconvert_exporter": "python",
   "pygments_lexer": "ipython3",
   "version": "3.7.10"
  },
  "toc": {
   "base_numbering": 1,
   "nav_menu": {},
   "number_sections": true,
   "sideBar": true,
   "skip_h1_title": false,
   "title_cell": "Table of Contents",
   "title_sidebar": "Contents",
   "toc_cell": false,
   "toc_position": {},
   "toc_section_display": true,
   "toc_window_display": false
  }
 },
 "nbformat": 4,
 "nbformat_minor": 5
}
