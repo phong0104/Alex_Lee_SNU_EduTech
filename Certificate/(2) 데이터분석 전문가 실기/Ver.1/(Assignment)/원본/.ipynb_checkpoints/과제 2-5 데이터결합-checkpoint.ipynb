{
 "cells": [
  {
   "cell_type": "markdown",
   "id": "e069fa28",
   "metadata": {},
   "source": [
    "# 과제 2-5"
   ]
  },
  {
   "cell_type": "markdown",
   "id": "270c8bf9",
   "metadata": {},
   "source": [
    "##  players_19.csv와 players_20.csv 데이터를 행결합해서 master data를 만드세요 "
   ]
  },
  {
   "cell_type": "code",
   "execution_count": 1,
   "id": "002573ab",
   "metadata": {},
   "outputs": [],
   "source": [
    "import pandas as pd "
   ]
  },
  {
   "cell_type": "code",
   "execution_count": 2,
   "id": "3042fc4c",
   "metadata": {},
   "outputs": [],
   "source": [
    "fifa_df19 = pd.read_csv(\"../data/players_19.csv\")\n",
    "fifa_df20 = pd.read_csv(\"../data/players_20.csv\")"
   ]
  },
  {
   "cell_type": "markdown",
   "id": "ef5bf6d1",
   "metadata": {},
   "source": [
    "## fifa_df19 = players_19.csv에서 sofifa_id','short_name','overall' 컬럼만 추출\n",
    "## fifa_df20 = players_20.csv 에서 sofifa_id와 overall만을 추출 \n",
    "## sofifa_id를 key값으로  위의 두 테이블을 innerjoin 하세요 "
   ]
  },
  {
   "cell_type": "markdown",
   "id": "8375b482",
   "metadata": {},
   "source": [
    "## sofifa_id를 key값으로  위의 두 테이블을 outerjoin 하세요 "
   ]
  },
  {
   "cell_type": "markdown",
   "id": "3bdd9b35",
   "metadata": {},
   "source": [
    "## outerjoin을 한 테이블 중 inner join을 한 테이블과 중복되는 행을 삭제하세요 "
   ]
  }
 ],
 "metadata": {
  "kernelspec": {
   "display_name": "Python 3",
   "language": "python",
   "name": "python3"
  },
  "language_info": {
   "codemirror_mode": {
    "name": "ipython",
    "version": 3
   },
   "file_extension": ".py",
   "mimetype": "text/x-python",
   "name": "python",
   "nbconvert_exporter": "python",
   "pygments_lexer": "ipython3",
   "version": "3.8.8"
  },
  "toc": {
   "base_numbering": 1,
   "nav_menu": {},
   "number_sections": true,
   "sideBar": true,
   "skip_h1_title": false,
   "title_cell": "Table of Contents",
   "title_sidebar": "Contents",
   "toc_cell": false,
   "toc_position": {},
   "toc_section_display": true,
   "toc_window_display": false
  }
 },
 "nbformat": 4,
 "nbformat_minor": 5
}
