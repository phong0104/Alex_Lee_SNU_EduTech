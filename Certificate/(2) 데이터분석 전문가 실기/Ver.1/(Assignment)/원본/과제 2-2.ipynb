{
 "cells": [
  {
   "cell_type": "markdown",
   "metadata": {},
   "source": [
    "# 과제 2\n",
    "    데이터 : \"7.세종시_아파트(전월세)_실거래가.csv\"\n",
    "    1) 세종시 데이터에서 컬럼 확인 후, unnamed 컬럼 제거\n",
    "    2) 전월세구분 컬럼에서 unique값 확인  \n",
    "    3) index= 100~200, column = 전월세구분, 전용면적(㎡),보증금(만원)으로 이루어진 데이터프레임 추출 \n",
    "    4) 0~200 index를 가진 행 삭제 \n",
    "    5) 건축년도 컬럼 중복 제거 결과 출력  "
   ]
  },
  {
   "cell_type": "code",
   "execution_count": null,
   "metadata": {},
   "outputs": [],
   "source": []
  }
 ],
 "metadata": {
  "kernelspec": {
   "display_name": "Python 3 (ipykernel)",
   "language": "python",
   "name": "python3"
  },
  "language_info": {
   "codemirror_mode": {
    "name": "ipython",
    "version": 3
   },
   "file_extension": ".py",
   "mimetype": "text/x-python",
   "name": "python",
   "nbconvert_exporter": "python",
   "pygments_lexer": "ipython3",
   "version": "3.7.10"
  },
  "toc": {
   "base_numbering": 1,
   "nav_menu": {},
   "number_sections": true,
   "sideBar": true,
   "skip_h1_title": false,
   "title_cell": "Table of Contents",
   "title_sidebar": "Contents",
   "toc_cell": false,
   "toc_position": {},
   "toc_section_display": true,
   "toc_window_display": false
  }
 },
 "nbformat": 4,
 "nbformat_minor": 4
}
