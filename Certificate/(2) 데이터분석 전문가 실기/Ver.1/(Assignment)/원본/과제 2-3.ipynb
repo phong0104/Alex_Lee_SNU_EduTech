{
 "cells": [
  {
   "cell_type": "markdown",
   "id": "853d4cff",
   "metadata": {},
   "source": [
    "# 과제 3 \n",
    "    데이터 : \"7.세종시_아파트(전월세)_실거래가.csv\"\n",
    "    1) 단지명 중  '해밀마을 2단지'인 row 삭제 \n",
    "    2) new_시군구' 컬럼을 만들고 '세종특별자치시 고운동' => '세종특별자치시 해밀동' 으로 변경\n",
    "    3) 'Class'컬럼을 만든 뒤 전세면 True 아니면 False로 입력 (loc사용) \n",
    "    4) 전세이면서 보증금이 1억 이상인 데이터만을 추출 \n",
    "    5) -10~0층 : 지하 , 1~5층 : 저층 6~15층 : 중층, 16층 이상 : 고층으로 할당하는 새로운 컬럼 생성 "
   ]
  },
  {
   "cell_type": "code",
   "execution_count": null,
   "id": "d28c5b70",
   "metadata": {},
   "outputs": [],
   "source": []
  }
 ],
 "metadata": {
  "kernelspec": {
   "display_name": "Python 3 (ipykernel)",
   "language": "python",
   "name": "python3"
  },
  "language_info": {
   "codemirror_mode": {
    "name": "ipython",
    "version": 3
   },
   "file_extension": ".py",
   "mimetype": "text/x-python",
   "name": "python",
   "nbconvert_exporter": "python",
   "pygments_lexer": "ipython3",
   "version": "3.7.10"
  },
  "toc": {
   "base_numbering": 1,
   "nav_menu": {},
   "number_sections": true,
   "sideBar": true,
   "skip_h1_title": false,
   "title_cell": "Table of Contents",
   "title_sidebar": "Contents",
   "toc_cell": true,
   "toc_position": {
    "height": "calc(100% - 180px)",
    "left": "10px",
    "top": "150px",
    "width": "303.837px"
   },
   "toc_section_display": true,
   "toc_window_display": true
  }
 },
 "nbformat": 4,
 "nbformat_minor": 5
}
