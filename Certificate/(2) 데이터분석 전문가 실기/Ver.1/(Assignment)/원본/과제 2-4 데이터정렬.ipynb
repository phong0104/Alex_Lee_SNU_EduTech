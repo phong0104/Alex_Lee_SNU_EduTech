{
 "cells": [
  {
   "cell_type": "markdown",
   "id": "e069fa28",
   "metadata": {},
   "source": [
    "# 과제 2-4 "
   ]
  },
  {
   "cell_type": "markdown",
   "id": "270c8bf9",
   "metadata": {},
   "source": [
    "## players_20.csv데이터에서 height_cm, weight_kg 의 중위값(median)을 출력하세요."
   ]
  },
  {
   "cell_type": "code",
   "execution_count": 11,
   "id": "002573ab",
   "metadata": {},
   "outputs": [],
   "source": [
    "import pandas as pd "
   ]
  },
  {
   "cell_type": "code",
   "execution_count": 12,
   "id": "3042fc4c",
   "metadata": {},
   "outputs": [],
   "source": [
    "fifa_df = pd.read_csv(\"../data/players_20.csv\")"
   ]
  },
  {
   "cell_type": "markdown",
   "id": "ef5bf6d1",
   "metadata": {},
   "source": [
    "## 데이터셋의 height_cm, weight_kg 이 중위값(median)보다 큰 선수를 출력하세요 "
   ]
  },
  {
   "cell_type": "code",
   "execution_count": null,
   "id": "ca807a95",
   "metadata": {},
   "outputs": [],
   "source": []
  },
  {
   "cell_type": "markdown",
   "id": "950d0046",
   "metadata": {},
   "source": [
    "## height_cm 기준으로 내림차순 정렬하세요"
   ]
  },
  {
   "cell_type": "code",
   "execution_count": null,
   "id": "21303657",
   "metadata": {},
   "outputs": [],
   "source": []
  },
  {
   "cell_type": "markdown",
   "id": "34829c1c",
   "metadata": {},
   "source": [
    "## weight_kg 기준으로 내림차순 정렬하세요"
   ]
  },
  {
   "cell_type": "code",
   "execution_count": null,
   "id": "53d856a2",
   "metadata": {},
   "outputs": [],
   "source": []
  },
  {
   "cell_type": "markdown",
   "id": "a35e8a27",
   "metadata": {},
   "source": [
    "## height_cm 와 weight_kg 를 기준으로 오름차순 정렬하세요 "
   ]
  },
  {
   "cell_type": "code",
   "execution_count": null,
   "id": "d4e61517",
   "metadata": {},
   "outputs": [],
   "source": []
  }
 ],
 "metadata": {
  "kernelspec": {
   "display_name": "Python 3",
   "language": "python",
   "name": "python3"
  },
  "language_info": {
   "codemirror_mode": {
    "name": "ipython",
    "version": 3
   },
   "file_extension": ".py",
   "mimetype": "text/x-python",
   "name": "python",
   "nbconvert_exporter": "python",
   "pygments_lexer": "ipython3",
   "version": "3.8.8"
  },
  "toc": {
   "base_numbering": 1,
   "nav_menu": {},
   "number_sections": true,
   "sideBar": true,
   "skip_h1_title": false,
   "title_cell": "Table of Contents",
   "title_sidebar": "Contents",
   "toc_cell": false,
   "toc_position": {},
   "toc_section_display": true,
   "toc_window_display": false
  }
 },
 "nbformat": 4,
 "nbformat_minor": 5
}
