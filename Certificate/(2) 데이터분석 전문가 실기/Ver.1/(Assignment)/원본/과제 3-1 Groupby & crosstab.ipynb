{
 "cells": [
  {
   "cell_type": "markdown",
   "id": "d892a105",
   "metadata": {},
   "source": [
    "# 과제 3-1 Groupby & crosstab"
   ]
  },
  {
   "cell_type": "code",
   "execution_count": null,
   "id": "104c4775",
   "metadata": {},
   "outputs": [],
   "source": []
  },
  {
   "cell_type": "markdown",
   "id": "29dccfd3",
   "metadata": {},
   "source": [
    "## 데이터 : \"7.세종시_아파트(전월세)_실거래가.csv\"\n",
    "## 전세의 보증금 평균 값을 구하세요 groupby 사용 \n"
   ]
  },
  {
   "cell_type": "code",
   "execution_count": null,
   "id": "c671cedc",
   "metadata": {},
   "outputs": [],
   "source": []
  },
  {
   "cell_type": "markdown",
   "id": "c5b40aa6",
   "metadata": {},
   "source": [
    "## 세종시 월세 평균 가격을 구하세요 \n"
   ]
  },
  {
   "cell_type": "code",
   "execution_count": null,
   "id": "3d81185a",
   "metadata": {},
   "outputs": [],
   "source": []
  },
  {
   "cell_type": "markdown",
   "id": "6c7ba1ba",
   "metadata": {},
   "source": [
    "## 계약년도별, 시군구별 평균 보증금 가격를 구하세요  \n",
    "\n"
   ]
  },
  {
   "cell_type": "code",
   "execution_count": null,
   "id": "2c77783e",
   "metadata": {},
   "outputs": [],
   "source": []
  },
  {
   "cell_type": "markdown",
   "id": "b512fd5e",
   "metadata": {},
   "source": [
    "## 계약년도별 전세 건수를 구하세요 "
   ]
  },
  {
   "cell_type": "code",
   "execution_count": null,
   "id": "28c3c403",
   "metadata": {},
   "outputs": [],
   "source": []
  },
  {
   "cell_type": "markdown",
   "id": "166b38d1",
   "metadata": {},
   "source": [
    "## 인덱스에 시군구, 컬럼에는 전월세구분이 있는 도수분포표를 만드세요 "
   ]
  },
  {
   "cell_type": "code",
   "execution_count": null,
   "id": "37df190d",
   "metadata": {},
   "outputs": [],
   "source": []
  }
 ],
 "metadata": {
  "kernelspec": {
   "display_name": "Python 3 (ipykernel)",
   "language": "python",
   "name": "python3"
  },
  "language_info": {
   "codemirror_mode": {
    "name": "ipython",
    "version": 3
   },
   "file_extension": ".py",
   "mimetype": "text/x-python",
   "name": "python",
   "nbconvert_exporter": "python",
   "pygments_lexer": "ipython3",
   "version": "3.7.10"
  },
  "toc": {
   "base_numbering": 1,
   "nav_menu": {},
   "number_sections": true,
   "sideBar": true,
   "skip_h1_title": false,
   "title_cell": "Table of Contents",
   "title_sidebar": "Contents",
   "toc_cell": true,
   "toc_position": {},
   "toc_section_display": true,
   "toc_window_display": true
  }
 },
 "nbformat": 4,
 "nbformat_minor": 5
}
