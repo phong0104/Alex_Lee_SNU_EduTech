{
 "cells": [
  {
   "cell_type": "markdown",
   "id": "779e57e8",
   "metadata": {},
   "source": [
    "### 3.5.1 날짜 데이터 다루기\n",
    "날짜와 시간을 다루기 위해서는 datetime 모듈을 이용한다\n",
    "- 시간과 날짜를 표현하는 모듈\n",
    "    - datetime.today() : 현재 날짜와 시간 산출\n",
    "    - datetime.today().year/month/day/hour : 현재 연도/월/일/시각 산출\n",
    "    - datetime.strptime('날짜 문자열', '포맷') : 문자열 데이터를 날짜 형식으로 변환\n",
    "    - datetime객체.strftime('포맷') : 날짜 데이터를 원하는 형식으로 변환"
   ]
  },
  {
   "cell_type": "markdown",
   "id": "1b8313fb",
   "metadata": {},
   "source": [
    "- strftime() 메서드에 사용되는 서식\n",
    "    - %d : 0을 채운 10진수 표기로 날짜를 표시\n",
    "    - %m : 0을 채운 10진수 표기로 월을 표시\n",
    "    - %y : 0을 채운 10진수 표기로 2자리 년도\n",
    "    - %Y : 0을 채운 10진수 표기로 4자리 년도\n",
    "    - %H : 0을 채운 10진수 표기로 시간(24시간 표기)\n",
    "    - %I : 0을 채운 10진수 표기로 시간(12시간 표기)\n",
    "    - %M 0을 채운 10진수 표기로 분\n",
    "    - %S 0을 채운 10진수 표기로 초\n",
    "    - %f 0을 채운 10진수 표기로 마이크로 초(6자리)\n",
    "    - %A locale 요일\n",
    "    - %a locale 요일(단축 표기)\n",
    "    - %B locale 월\n",
    "    - %j 0을 채운 10진수 표기로 년 중에 몇 번째 일인지 표시\n",
    "    - %U 0을 채운 10진수 표기로 년 중에 몇 번째 주인지 표시(일요일 시작 기준)\n",
    "    - %W 0을 채운 10진수 표기로 년 중에 몇 번째 주인지 표시(월요일 시작 기준)"
   ]
  },
  {
   "cell_type": "markdown",
   "id": "5fa6bfe7",
   "metadata": {},
   "source": [
    "[예제] 현재 날짜와 시간 데이터를 생성하고, 각각 다른 변수에 저장하여 데이터 형식을 확인하라"
   ]
  },
  {
   "cell_type": "code",
   "execution_count": 1,
   "id": "b6fef11f",
   "metadata": {},
   "outputs": [
    {
     "name": "stdout",
     "output_type": "stream",
     "text": [
      "today: 2022-  dwd  01  -dwd 20\n",
      "today 변수 type: <class 'str'> \n",
      "\n",
      "todaytime: 2022-01-20 23:22:44\n",
      "todaytime 변수 type: <class 'str'>\n"
     ]
    }
   ],
   "source": [
    "from datetime import datetime\n",
    "from datetime import timedelta\n",
    "\n",
    "today = datetime.today().strftime(\"%Y-  dwd  %m  -dwd %d\")\n",
    "print('today:', today)\n",
    "print('today 변수 type:',type(today),'\\n')\n",
    "\n",
    "todaytime = datetime.today().strftime('%Y-%m-%d %H:%M:%S')\n",
    "print('todaytime:', todaytime)\n",
    "print('todaytime 변수 type:', type(todaytime))"
   ]
  },
  {
   "cell_type": "code",
   "execution_count": 2,
   "id": "254934a5",
   "metadata": {},
   "outputs": [
    {
     "data": {
      "text/plain": [
       "datetime.datetime(2022, 1, 20, 23, 23, 7, 813245)"
      ]
     },
     "execution_count": 2,
     "metadata": {},
     "output_type": "execute_result"
    }
   ],
   "source": [
    "datetime.today()"
   ]
  },
  {
   "cell_type": "code",
   "execution_count": 3,
   "id": "72b5d36a",
   "metadata": {},
   "outputs": [],
   "source": [
    "todaytime = todaytime.split(\" \")[0]"
   ]
  },
  {
   "cell_type": "code",
   "execution_count": 4,
   "id": "3ea30172",
   "metadata": {},
   "outputs": [
    {
     "data": {
      "text/plain": [
       "'2022-01-20'"
      ]
     },
     "execution_count": 4,
     "metadata": {},
     "output_type": "execute_result"
    }
   ],
   "source": [
    "todaytime"
   ]
  },
  {
   "cell_type": "markdown",
   "id": "eb80f85f",
   "metadata": {},
   "source": [
    "[예제] 문자열 데이터를 다시 날짜 형식으로 변환하자"
   ]
  },
  {
   "cell_type": "code",
   "execution_count": 5,
   "id": "c4ed827b",
   "metadata": {},
   "outputs": [
    {
     "data": {
      "text/plain": [
       "datetime.datetime(2022, 1, 20, 0, 0)"
      ]
     },
     "execution_count": 5,
     "metadata": {},
     "output_type": "execute_result"
    }
   ],
   "source": [
    "datetime.strptime(todaytime, '%Y-%m-%d')"
   ]
  },
  {
   "cell_type": "markdown",
   "id": "91fda6a0",
   "metadata": {},
   "source": [
    "[예제] \n",
    "- 현재 시간을 구하고 이를 time 변수에 저장하라\n",
    "- 현재 시간의 연/월/일/시간/요일을 구하라"
   ]
  },
  {
   "cell_type": "code",
   "execution_count": 7,
   "id": "7908f2f5",
   "metadata": {},
   "outputs": [
    {
     "name": "stdout",
     "output_type": "stream",
     "text": [
      "연도 : 2022 & 2022\n",
      "월 : 01 & 1\n",
      "일 : 20 & 20\n",
      "시간 : 23 & 23\n",
      "요일 : Thursday & 3\n"
     ]
    }
   ],
   "source": [
    "time = datetime.today()\n",
    "\n",
    "print('연도 :', time.strftime('%Y'), '&', time.year)\n",
    "print('월 :', time.strftime('%m'), '&', time.month)\n",
    "print('일 :', time.strftime('%d'), '&', time.day)\n",
    "print('시간 :', time.strftime('%H'), '&', time.hour)\n",
    "print('요일 :', time.strftime('%A'), '&', time.weekday())"
   ]
  },
  {
   "cell_type": "markdown",
   "id": "9ea7c67e",
   "metadata": {},
   "source": [
    "### 3.5.2 날짜 데이터의 연산\n",
    "- datetime.timedelta(days=0, seconds=0, microseconds=0, milliseconds=0, minutes=0, hours=0, weeks=0)\n",
    "- 두 날짜와 시간 사이의 차이를 계산할 때 사용함"
   ]
  },
  {
   "cell_type": "markdown",
   "id": "59833b9e",
   "metadata": {},
   "source": [
    "[예제] 현재 날짜로부터 100일 후의 날짜를 구하라"
   ]
  },
  {
   "cell_type": "code",
   "execution_count": 8,
   "id": "3b1723ae",
   "metadata": {},
   "outputs": [
    {
     "data": {
      "text/plain": [
       "datetime.timedelta(days=100)"
      ]
     },
     "execution_count": 8,
     "metadata": {},
     "output_type": "execute_result"
    }
   ],
   "source": [
    "timedelta(days=100)"
   ]
  },
  {
   "cell_type": "code",
   "execution_count": 12,
   "id": "5fadd27c",
   "metadata": {},
   "outputs": [
    {
     "name": "stdout",
     "output_type": "stream",
     "text": [
      "2022-04-30 23:32:41.365121\n",
      "2021-10-12 23:32:41\n"
     ]
    }
   ],
   "source": [
    "from datetime import timedelta\n",
    "\n",
    "time = datetime.today()\n",
    "print(time + timedelta(days=100)) # 날짜형\n",
    "print((time - timedelta(days=100)).strftime('%Y-%m-%d %H:%M:%S')) # 문자열"
   ]
  },
  {
   "cell_type": "code",
   "execution_count": 14,
   "id": "d048d126",
   "metadata": {},
   "outputs": [
    {
     "ename": "TypeError",
     "evalue": "unsupported operand type(s) for +: 'datetime.datetime' and 'int'",
     "output_type": "error",
     "traceback": [
      "\u001b[1;31m---------------------------------------------------------------------------\u001b[0m",
      "\u001b[1;31mTypeError\u001b[0m                                 Traceback (most recent call last)",
      "\u001b[1;32m<ipython-input-14-c94787d17e5a>\u001b[0m in \u001b[0;36m<module>\u001b[1;34m\u001b[0m\n\u001b[1;32m----> 1\u001b[1;33m \u001b[0mtime\u001b[0m\u001b[1;33m+\u001b[0m\u001b[1;36m100\u001b[0m \u001b[1;31m# int 값을 더할 수 없다\u001b[0m\u001b[1;33m\u001b[0m\u001b[1;33m\u001b[0m\u001b[0m\n\u001b[0m",
      "\u001b[1;31mTypeError\u001b[0m: unsupported operand type(s) for +: 'datetime.datetime' and 'int'"
     ]
    }
   ],
   "source": [
    "time+100 # int 값을 더할 수 없다"
   ]
  },
  {
   "cell_type": "markdown",
   "id": "3b67913b",
   "metadata": {},
   "source": [
    "### 3.5.3 데이터프레임 날짜 데이터 핸들링\n",
    "\n",
    "#### 3.5.3.1 문자열 => 날짜데이터로 변환\n",
    "    - pd.to_datetime(df['컬럼명'], format = '%Y%m%d')"
   ]
  },
  {
   "cell_type": "code",
   "execution_count": 15,
   "id": "48a39775",
   "metadata": {},
   "outputs": [],
   "source": [
    "import pandas as pd\n",
    "df = pd.read_csv('data/구매내역.csv')"
   ]
  },
  {
   "cell_type": "code",
   "execution_count": 16,
   "id": "a35082ae",
   "metadata": {},
   "outputs": [
    {
     "data": {
      "text/html": [
       "<div>\n",
       "<style scoped>\n",
       "    .dataframe tbody tr th:only-of-type {\n",
       "        vertical-align: middle;\n",
       "    }\n",
       "\n",
       "    .dataframe tbody tr th {\n",
       "        vertical-align: top;\n",
       "    }\n",
       "\n",
       "    .dataframe thead th {\n",
       "        text-align: right;\n",
       "    }\n",
       "</style>\n",
       "<table border=\"1\" class=\"dataframe\">\n",
       "  <thead>\n",
       "    <tr style=\"text-align: right;\">\n",
       "      <th></th>\n",
       "      <th>datetime</th>\n",
       "      <th>purchase</th>\n",
       "    </tr>\n",
       "  </thead>\n",
       "  <tbody>\n",
       "    <tr>\n",
       "      <th>0</th>\n",
       "      <td>20140627</td>\n",
       "      <td>30000</td>\n",
       "    </tr>\n",
       "    <tr>\n",
       "      <th>1</th>\n",
       "      <td>20140711</td>\n",
       "      <td>15000</td>\n",
       "    </tr>\n",
       "    <tr>\n",
       "      <th>2</th>\n",
       "      <td>20140707</td>\n",
       "      <td>20000</td>\n",
       "    </tr>\n",
       "    <tr>\n",
       "      <th>3</th>\n",
       "      <td>20140711</td>\n",
       "      <td>25000</td>\n",
       "    </tr>\n",
       "    <tr>\n",
       "      <th>4</th>\n",
       "      <td>20150120</td>\n",
       "      <td>30000</td>\n",
       "    </tr>\n",
       "    <tr>\n",
       "      <th>5</th>\n",
       "      <td>20140707</td>\n",
       "      <td>60000</td>\n",
       "    </tr>\n",
       "    <tr>\n",
       "      <th>6</th>\n",
       "      <td>20140708</td>\n",
       "      <td>150000</td>\n",
       "    </tr>\n",
       "    <tr>\n",
       "      <th>7</th>\n",
       "      <td>20160623</td>\n",
       "      <td>20000</td>\n",
       "    </tr>\n",
       "    <tr>\n",
       "      <th>8</th>\n",
       "      <td>20170515</td>\n",
       "      <td>265000</td>\n",
       "    </tr>\n",
       "    <tr>\n",
       "      <th>9</th>\n",
       "      <td>20140710</td>\n",
       "      <td>26800</td>\n",
       "    </tr>\n",
       "    <tr>\n",
       "      <th>10</th>\n",
       "      <td>20140704</td>\n",
       "      <td>1800</td>\n",
       "    </tr>\n",
       "    <tr>\n",
       "      <th>11</th>\n",
       "      <td>20140708</td>\n",
       "      <td>18600</td>\n",
       "    </tr>\n",
       "    <tr>\n",
       "      <th>12</th>\n",
       "      <td>20140709</td>\n",
       "      <td>15000</td>\n",
       "    </tr>\n",
       "    <tr>\n",
       "      <th>13</th>\n",
       "      <td>20140710</td>\n",
       "      <td>26050</td>\n",
       "    </tr>\n",
       "  </tbody>\n",
       "</table>\n",
       "</div>"
      ],
      "text/plain": [
       "    datetime  purchase\n",
       "0   20140627     30000\n",
       "1   20140711     15000\n",
       "2   20140707     20000\n",
       "3   20140711     25000\n",
       "4   20150120     30000\n",
       "5   20140707     60000\n",
       "6   20140708    150000\n",
       "7   20160623     20000\n",
       "8   20170515    265000\n",
       "9   20140710     26800\n",
       "10  20140704      1800\n",
       "11  20140708     18600\n",
       "12  20140709     15000\n",
       "13  20140710     26050"
      ]
     },
     "execution_count": 16,
     "metadata": {},
     "output_type": "execute_result"
    }
   ],
   "source": [
    "df_pur = df\n",
    "df_pur"
   ]
  },
  {
   "cell_type": "code",
   "execution_count": 17,
   "id": "45c9cd22",
   "metadata": {},
   "outputs": [
    {
     "name": "stdout",
     "output_type": "stream",
     "text": [
      "<class 'pandas.core.frame.DataFrame'>\n",
      "RangeIndex: 14 entries, 0 to 13\n",
      "Data columns (total 2 columns):\n",
      " #   Column    Non-Null Count  Dtype\n",
      "---  ------    --------------  -----\n",
      " 0   datetime  14 non-null     int64\n",
      " 1   purchase  14 non-null     int64\n",
      "dtypes: int64(2)\n",
      "memory usage: 352.0 bytes\n"
     ]
    }
   ],
   "source": [
    "df_pur.info()"
   ]
  },
  {
   "cell_type": "code",
   "execution_count": 18,
   "id": "fc7f9605",
   "metadata": {},
   "outputs": [],
   "source": [
    "# 먼저 int => str 형식으로 변환\n",
    "df_pur['datetime'] = df_pur['datetime'].astype(str)"
   ]
  },
  {
   "cell_type": "code",
   "execution_count": 19,
   "id": "20c0754a",
   "metadata": {},
   "outputs": [
    {
     "name": "stdout",
     "output_type": "stream",
     "text": [
      "<class 'pandas.core.frame.DataFrame'>\n",
      "RangeIndex: 14 entries, 0 to 13\n",
      "Data columns (total 2 columns):\n",
      " #   Column    Non-Null Count  Dtype \n",
      "---  ------    --------------  ----- \n",
      " 0   datetime  14 non-null     object\n",
      " 1   purchase  14 non-null     int64 \n",
      "dtypes: int64(1), object(1)\n",
      "memory usage: 352.0+ bytes\n"
     ]
    }
   ],
   "source": [
    "df_pur.info()"
   ]
  },
  {
   "cell_type": "code",
   "execution_count": 21,
   "id": "e22481c1",
   "metadata": {},
   "outputs": [
    {
     "data": {
      "text/html": [
       "<div>\n",
       "<style scoped>\n",
       "    .dataframe tbody tr th:only-of-type {\n",
       "        vertical-align: middle;\n",
       "    }\n",
       "\n",
       "    .dataframe tbody tr th {\n",
       "        vertical-align: top;\n",
       "    }\n",
       "\n",
       "    .dataframe thead th {\n",
       "        text-align: right;\n",
       "    }\n",
       "</style>\n",
       "<table border=\"1\" class=\"dataframe\">\n",
       "  <thead>\n",
       "    <tr style=\"text-align: right;\">\n",
       "      <th></th>\n",
       "      <th>datetime</th>\n",
       "      <th>purchase</th>\n",
       "    </tr>\n",
       "  </thead>\n",
       "  <tbody>\n",
       "    <tr>\n",
       "      <th>0</th>\n",
       "      <td>2014-06-27</td>\n",
       "      <td>30000</td>\n",
       "    </tr>\n",
       "    <tr>\n",
       "      <th>1</th>\n",
       "      <td>2014-07-11</td>\n",
       "      <td>15000</td>\n",
       "    </tr>\n",
       "    <tr>\n",
       "      <th>2</th>\n",
       "      <td>2014-07-07</td>\n",
       "      <td>20000</td>\n",
       "    </tr>\n",
       "    <tr>\n",
       "      <th>3</th>\n",
       "      <td>2014-07-11</td>\n",
       "      <td>25000</td>\n",
       "    </tr>\n",
       "    <tr>\n",
       "      <th>4</th>\n",
       "      <td>2015-01-20</td>\n",
       "      <td>30000</td>\n",
       "    </tr>\n",
       "    <tr>\n",
       "      <th>5</th>\n",
       "      <td>2014-07-07</td>\n",
       "      <td>60000</td>\n",
       "    </tr>\n",
       "    <tr>\n",
       "      <th>6</th>\n",
       "      <td>2014-07-08</td>\n",
       "      <td>150000</td>\n",
       "    </tr>\n",
       "    <tr>\n",
       "      <th>7</th>\n",
       "      <td>2016-06-23</td>\n",
       "      <td>20000</td>\n",
       "    </tr>\n",
       "    <tr>\n",
       "      <th>8</th>\n",
       "      <td>2017-05-15</td>\n",
       "      <td>265000</td>\n",
       "    </tr>\n",
       "    <tr>\n",
       "      <th>9</th>\n",
       "      <td>2014-07-10</td>\n",
       "      <td>26800</td>\n",
       "    </tr>\n",
       "    <tr>\n",
       "      <th>10</th>\n",
       "      <td>2014-07-04</td>\n",
       "      <td>1800</td>\n",
       "    </tr>\n",
       "    <tr>\n",
       "      <th>11</th>\n",
       "      <td>2014-07-08</td>\n",
       "      <td>18600</td>\n",
       "    </tr>\n",
       "    <tr>\n",
       "      <th>12</th>\n",
       "      <td>2014-07-09</td>\n",
       "      <td>15000</td>\n",
       "    </tr>\n",
       "    <tr>\n",
       "      <th>13</th>\n",
       "      <td>2014-07-10</td>\n",
       "      <td>26050</td>\n",
       "    </tr>\n",
       "  </tbody>\n",
       "</table>\n",
       "</div>"
      ],
      "text/plain": [
       "     datetime  purchase\n",
       "0  2014-06-27     30000\n",
       "1  2014-07-11     15000\n",
       "2  2014-07-07     20000\n",
       "3  2014-07-11     25000\n",
       "4  2015-01-20     30000\n",
       "5  2014-07-07     60000\n",
       "6  2014-07-08    150000\n",
       "7  2016-06-23     20000\n",
       "8  2017-05-15    265000\n",
       "9  2014-07-10     26800\n",
       "10 2014-07-04      1800\n",
       "11 2014-07-08     18600\n",
       "12 2014-07-09     15000\n",
       "13 2014-07-10     26050"
      ]
     },
     "execution_count": 21,
     "metadata": {},
     "output_type": "execute_result"
    }
   ],
   "source": [
    "df_pur"
   ]
  },
  {
   "cell_type": "code",
   "execution_count": 20,
   "id": "f369f1e5",
   "metadata": {},
   "outputs": [
    {
     "data": {
      "text/html": [
       "<div>\n",
       "<style scoped>\n",
       "    .dataframe tbody tr th:only-of-type {\n",
       "        vertical-align: middle;\n",
       "    }\n",
       "\n",
       "    .dataframe tbody tr th {\n",
       "        vertical-align: top;\n",
       "    }\n",
       "\n",
       "    .dataframe thead th {\n",
       "        text-align: right;\n",
       "    }\n",
       "</style>\n",
       "<table border=\"1\" class=\"dataframe\">\n",
       "  <thead>\n",
       "    <tr style=\"text-align: right;\">\n",
       "      <th></th>\n",
       "      <th>datetime</th>\n",
       "      <th>purchase</th>\n",
       "    </tr>\n",
       "  </thead>\n",
       "  <tbody>\n",
       "    <tr>\n",
       "      <th>0</th>\n",
       "      <td>2014-06-27</td>\n",
       "      <td>30000</td>\n",
       "    </tr>\n",
       "    <tr>\n",
       "      <th>1</th>\n",
       "      <td>2014-07-11</td>\n",
       "      <td>15000</td>\n",
       "    </tr>\n",
       "    <tr>\n",
       "      <th>2</th>\n",
       "      <td>2014-07-07</td>\n",
       "      <td>20000</td>\n",
       "    </tr>\n",
       "    <tr>\n",
       "      <th>3</th>\n",
       "      <td>2014-07-11</td>\n",
       "      <td>25000</td>\n",
       "    </tr>\n",
       "    <tr>\n",
       "      <th>4</th>\n",
       "      <td>2015-01-20</td>\n",
       "      <td>30000</td>\n",
       "    </tr>\n",
       "    <tr>\n",
       "      <th>5</th>\n",
       "      <td>2014-07-07</td>\n",
       "      <td>60000</td>\n",
       "    </tr>\n",
       "    <tr>\n",
       "      <th>6</th>\n",
       "      <td>2014-07-08</td>\n",
       "      <td>150000</td>\n",
       "    </tr>\n",
       "    <tr>\n",
       "      <th>7</th>\n",
       "      <td>2016-06-23</td>\n",
       "      <td>20000</td>\n",
       "    </tr>\n",
       "    <tr>\n",
       "      <th>8</th>\n",
       "      <td>2017-05-15</td>\n",
       "      <td>265000</td>\n",
       "    </tr>\n",
       "    <tr>\n",
       "      <th>9</th>\n",
       "      <td>2014-07-10</td>\n",
       "      <td>26800</td>\n",
       "    </tr>\n",
       "    <tr>\n",
       "      <th>10</th>\n",
       "      <td>2014-07-04</td>\n",
       "      <td>1800</td>\n",
       "    </tr>\n",
       "    <tr>\n",
       "      <th>11</th>\n",
       "      <td>2014-07-08</td>\n",
       "      <td>18600</td>\n",
       "    </tr>\n",
       "    <tr>\n",
       "      <th>12</th>\n",
       "      <td>2014-07-09</td>\n",
       "      <td>15000</td>\n",
       "    </tr>\n",
       "    <tr>\n",
       "      <th>13</th>\n",
       "      <td>2014-07-10</td>\n",
       "      <td>26050</td>\n",
       "    </tr>\n",
       "  </tbody>\n",
       "</table>\n",
       "</div>"
      ],
      "text/plain": [
       "     datetime  purchase\n",
       "0  2014-06-27     30000\n",
       "1  2014-07-11     15000\n",
       "2  2014-07-07     20000\n",
       "3  2014-07-11     25000\n",
       "4  2015-01-20     30000\n",
       "5  2014-07-07     60000\n",
       "6  2014-07-08    150000\n",
       "7  2016-06-23     20000\n",
       "8  2017-05-15    265000\n",
       "9  2014-07-10     26800\n",
       "10 2014-07-04      1800\n",
       "11 2014-07-08     18600\n",
       "12 2014-07-09     15000\n",
       "13 2014-07-10     26050"
      ]
     },
     "execution_count": 20,
     "metadata": {},
     "output_type": "execute_result"
    }
   ],
   "source": [
    "# datetime 형식으로 변환\n",
    "df_pur['datetime'] = pd.to_datetime(df_pur['datetime'], format = '%Y%m%d')\n",
    "df_pur"
   ]
  },
  {
   "cell_type": "code",
   "execution_count": 22,
   "id": "aaf65c88",
   "metadata": {},
   "outputs": [
    {
     "name": "stdout",
     "output_type": "stream",
     "text": [
      "<class 'pandas.core.frame.DataFrame'>\n",
      "RangeIndex: 14 entries, 0 to 13\n",
      "Data columns (total 2 columns):\n",
      " #   Column    Non-Null Count  Dtype         \n",
      "---  ------    --------------  -----         \n",
      " 0   datetime  14 non-null     datetime64[ns]\n",
      " 1   purchase  14 non-null     int64         \n",
      "dtypes: datetime64[ns](1), int64(1)\n",
      "memory usage: 352.0 bytes\n"
     ]
    }
   ],
   "source": [
    "df_pur.info()"
   ]
  },
  {
   "cell_type": "code",
   "execution_count": 24,
   "id": "55f45a15",
   "metadata": {},
   "outputs": [
    {
     "data": {
      "text/plain": [
       "0     6\n",
       "1     7\n",
       "2     7\n",
       "3     7\n",
       "4     1\n",
       "5     7\n",
       "6     7\n",
       "7     6\n",
       "8     5\n",
       "9     7\n",
       "10    7\n",
       "11    7\n",
       "12    7\n",
       "13    7\n",
       "Name: datetime, dtype: int64"
      ]
     },
     "execution_count": 24,
     "metadata": {},
     "output_type": "execute_result"
    }
   ],
   "source": [
    "# dt라는 것이 str과 비슷한 역할\n",
    "df_pur.datetime.dt.month"
   ]
  },
  {
   "cell_type": "code",
   "execution_count": 23,
   "id": "b586a1ff",
   "metadata": {},
   "outputs": [
    {
     "data": {
      "text/html": [
       "<div>\n",
       "<style scoped>\n",
       "    .dataframe tbody tr th:only-of-type {\n",
       "        vertical-align: middle;\n",
       "    }\n",
       "\n",
       "    .dataframe tbody tr th {\n",
       "        vertical-align: top;\n",
       "    }\n",
       "\n",
       "    .dataframe thead th {\n",
       "        text-align: right;\n",
       "    }\n",
       "</style>\n",
       "<table border=\"1\" class=\"dataframe\">\n",
       "  <thead>\n",
       "    <tr style=\"text-align: right;\">\n",
       "      <th></th>\n",
       "      <th>datetime</th>\n",
       "      <th>purchase</th>\n",
       "    </tr>\n",
       "  </thead>\n",
       "  <tbody>\n",
       "    <tr>\n",
       "      <th>0</th>\n",
       "      <td>2014-06-27</td>\n",
       "      <td>30000</td>\n",
       "    </tr>\n",
       "    <tr>\n",
       "      <th>1</th>\n",
       "      <td>2014-07-11</td>\n",
       "      <td>15000</td>\n",
       "    </tr>\n",
       "    <tr>\n",
       "      <th>2</th>\n",
       "      <td>2014-07-07</td>\n",
       "      <td>20000</td>\n",
       "    </tr>\n",
       "    <tr>\n",
       "      <th>3</th>\n",
       "      <td>2014-07-11</td>\n",
       "      <td>25000</td>\n",
       "    </tr>\n",
       "    <tr>\n",
       "      <th>5</th>\n",
       "      <td>2014-07-07</td>\n",
       "      <td>60000</td>\n",
       "    </tr>\n",
       "    <tr>\n",
       "      <th>6</th>\n",
       "      <td>2014-07-08</td>\n",
       "      <td>150000</td>\n",
       "    </tr>\n",
       "    <tr>\n",
       "      <th>7</th>\n",
       "      <td>2016-06-23</td>\n",
       "      <td>20000</td>\n",
       "    </tr>\n",
       "    <tr>\n",
       "      <th>9</th>\n",
       "      <td>2014-07-10</td>\n",
       "      <td>26800</td>\n",
       "    </tr>\n",
       "    <tr>\n",
       "      <th>10</th>\n",
       "      <td>2014-07-04</td>\n",
       "      <td>1800</td>\n",
       "    </tr>\n",
       "    <tr>\n",
       "      <th>11</th>\n",
       "      <td>2014-07-08</td>\n",
       "      <td>18600</td>\n",
       "    </tr>\n",
       "    <tr>\n",
       "      <th>12</th>\n",
       "      <td>2014-07-09</td>\n",
       "      <td>15000</td>\n",
       "    </tr>\n",
       "    <tr>\n",
       "      <th>13</th>\n",
       "      <td>2014-07-10</td>\n",
       "      <td>26050</td>\n",
       "    </tr>\n",
       "  </tbody>\n",
       "</table>\n",
       "</div>"
      ],
      "text/plain": [
       "     datetime  purchase\n",
       "0  2014-06-27     30000\n",
       "1  2014-07-11     15000\n",
       "2  2014-07-07     20000\n",
       "3  2014-07-11     25000\n",
       "5  2014-07-07     60000\n",
       "6  2014-07-08    150000\n",
       "7  2016-06-23     20000\n",
       "9  2014-07-10     26800\n",
       "10 2014-07-04      1800\n",
       "11 2014-07-08     18600\n",
       "12 2014-07-09     15000\n",
       "13 2014-07-10     26050"
      ]
     },
     "execution_count": 23,
     "metadata": {},
     "output_type": "execute_result"
    }
   ],
   "source": [
    "df_pur[df_pur.datetime.dt.month.isin([6,7,8])]"
   ]
  },
  {
   "cell_type": "markdown",
   "id": "73b3bf1c",
   "metadata": {},
   "source": [
    "#### 3.5.3.2 날짜데이터 => 문자열로 변환\n",
    "- timeSeries.dt.strftime('%Y-%m-%d')"
   ]
  },
  {
   "cell_type": "code",
   "execution_count": 25,
   "id": "5f645834",
   "metadata": {},
   "outputs": [
    {
     "name": "stdout",
     "output_type": "stream",
     "text": [
      "<class 'pandas.core.frame.DataFrame'>\n",
      "RangeIndex: 14 entries, 0 to 13\n",
      "Data columns (total 2 columns):\n",
      " #   Column    Non-Null Count  Dtype         \n",
      "---  ------    --------------  -----         \n",
      " 0   datetime  14 non-null     datetime64[ns]\n",
      " 1   purchase  14 non-null     int64         \n",
      "dtypes: datetime64[ns](1), int64(1)\n",
      "memory usage: 352.0 bytes\n"
     ]
    }
   ],
   "source": [
    "df.info()"
   ]
  },
  {
   "cell_type": "code",
   "execution_count": 26,
   "id": "6b344ac4",
   "metadata": {},
   "outputs": [
    {
     "data": {
      "text/plain": [
       "0     2014-06-27\n",
       "1     2014-07-11\n",
       "2     2014-07-07\n",
       "3     2014-07-11\n",
       "4     2015-01-20\n",
       "5     2014-07-07\n",
       "6     2014-07-08\n",
       "7     2016-06-23\n",
       "8     2017-05-15\n",
       "9     2014-07-10\n",
       "10    2014-07-04\n",
       "11    2014-07-08\n",
       "12    2014-07-09\n",
       "13    2014-07-10\n",
       "Name: datetime, dtype: object"
      ]
     },
     "execution_count": 26,
     "metadata": {},
     "output_type": "execute_result"
    }
   ],
   "source": [
    "df['datetime'].dt.strftime('%Y-%m-%d')"
   ]
  },
  {
   "cell_type": "code",
   "execution_count": 27,
   "id": "06fccfe9",
   "metadata": {},
   "outputs": [
    {
     "data": {
      "text/plain": [
       "0     06\n",
       "1     07\n",
       "2     07\n",
       "3     07\n",
       "4     01\n",
       "5     07\n",
       "6     07\n",
       "7     06\n",
       "8     05\n",
       "9     07\n",
       "10    07\n",
       "11    07\n",
       "12    07\n",
       "13    07\n",
       "Name: datetime, dtype: object"
      ]
     },
     "execution_count": 27,
     "metadata": {},
     "output_type": "execute_result"
    }
   ],
   "source": [
    "df['datetime'].dt.strftime('%m')"
   ]
  },
  {
   "cell_type": "markdown",
   "id": "8e4372b3",
   "metadata": {},
   "source": [
    "#### 3.5.3.3 Map(lambda) 사용"
   ]
  },
  {
   "cell_type": "code",
   "execution_count": 28,
   "id": "555ced46",
   "metadata": {},
   "outputs": [
    {
     "name": "stdout",
     "output_type": "stream",
     "text": [
      "<class 'pandas.core.frame.DataFrame'>\n",
      "RangeIndex: 14 entries, 0 to 13\n",
      "Data columns (total 2 columns):\n",
      " #   Column    Non-Null Count  Dtype         \n",
      "---  ------    --------------  -----         \n",
      " 0   datetime  14 non-null     datetime64[ns]\n",
      " 1   purchase  14 non-null     int64         \n",
      "dtypes: datetime64[ns](1), int64(1)\n",
      "memory usage: 352.0 bytes\n"
     ]
    }
   ],
   "source": [
    "df.info()"
   ]
  },
  {
   "cell_type": "code",
   "execution_count": 29,
   "id": "7ae65449",
   "metadata": {},
   "outputs": [
    {
     "data": {
      "text/plain": [
       "0     2014-06-27\n",
       "1     2014-07-11\n",
       "2     2014-07-07\n",
       "3     2014-07-11\n",
       "4     2015-01-20\n",
       "5     2014-07-07\n",
       "6     2014-07-08\n",
       "7     2016-06-23\n",
       "8     2017-05-15\n",
       "9     2014-07-10\n",
       "10    2014-07-04\n",
       "11    2014-07-08\n",
       "12    2014-07-09\n",
       "13    2014-07-10\n",
       "Name: datetime, dtype: object"
      ]
     },
     "execution_count": 29,
     "metadata": {},
     "output_type": "execute_result"
    }
   ],
   "source": [
    "df['datetime'] = df['datetime'].map(lambda x:x.strftime('%Y-%m-%d'))\n",
    "df['datetime']"
   ]
  },
  {
   "cell_type": "code",
   "execution_count": 30,
   "id": "22693979",
   "metadata": {},
   "outputs": [],
   "source": [
    "df['datetime'] = df['datetime'].map(lambda x:datetime.strptime(x, '%Y-%m-%d'))"
   ]
  },
  {
   "cell_type": "code",
   "execution_count": 31,
   "id": "8921265f",
   "metadata": {},
   "outputs": [
    {
     "data": {
      "text/plain": [
       "0    2014-06-27\n",
       "1    2014-07-11\n",
       "2    2014-07-07\n",
       "3    2014-07-11\n",
       "4    2015-01-20\n",
       "5    2014-07-07\n",
       "6    2014-07-08\n",
       "7    2016-06-23\n",
       "8    2017-05-15\n",
       "9    2014-07-10\n",
       "10   2014-07-04\n",
       "11   2014-07-08\n",
       "12   2014-07-09\n",
       "13   2014-07-10\n",
       "Name: datetime, dtype: datetime64[ns]"
      ]
     },
     "execution_count": 31,
     "metadata": {},
     "output_type": "execute_result"
    }
   ],
   "source": [
    "df['datetime']"
   ]
  },
  {
   "cell_type": "code",
   "execution_count": null,
   "id": "faa7181a",
   "metadata": {},
   "outputs": [],
   "source": []
  }
 ],
 "metadata": {
  "kernelspec": {
   "display_name": "Python 3",
   "language": "python",
   "name": "python3"
  },
  "language_info": {
   "codemirror_mode": {
    "name": "ipython",
    "version": 3
   },
   "file_extension": ".py",
   "mimetype": "text/x-python",
   "name": "python",
   "nbconvert_exporter": "python",
   "pygments_lexer": "ipython3",
   "version": "3.8.8"
  }
 },
 "nbformat": 4,
 "nbformat_minor": 5
}
