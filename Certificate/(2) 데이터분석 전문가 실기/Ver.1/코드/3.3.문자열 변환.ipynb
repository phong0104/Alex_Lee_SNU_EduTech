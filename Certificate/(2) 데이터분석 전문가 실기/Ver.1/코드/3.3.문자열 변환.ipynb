{
 "cells": [
  {
   "cell_type": "markdown",
   "metadata": {},
   "source": [
    "## 문자열 변환"
   ]
  },
  {
   "cell_type": "markdown",
   "metadata": {},
   "source": [
    "### 인덱싱\n",
    "    시리즈.str[:n] : 문자열 인덱스로 추출  "
   ]
  },
  {
   "cell_type": "code",
   "execution_count": 27,
   "metadata": {},
   "outputs": [],
   "source": [
    "import pandas as pd \n",
    "import numpy as np "
   ]
  },
  {
   "cell_type": "code",
   "execution_count": 28,
   "metadata": {},
   "outputs": [],
   "source": [
    "##데이터 출처 : https://compas.lh.or.kr/subj/competition/data?subjNo=SBJ_2102_001\n",
    "df_sejong = pd.read_csv('../../data/7.세종시_아파트(전월세)_실거래가.csv')"
   ]
  },
  {
   "cell_type": "code",
   "execution_count": 29,
   "metadata": {
    "scrolled": true
   },
   "outputs": [],
   "source": [
    "df_sejong.drop(columns='Unnamed: 0',inplace=True)"
   ]
  },
  {
   "cell_type": "code",
   "execution_count": 30,
   "metadata": {},
   "outputs": [
    {
     "data": {
      "text/html": [
       "<div>\n",
       "<style scoped>\n",
       "    .dataframe tbody tr th:only-of-type {\n",
       "        vertical-align: middle;\n",
       "    }\n",
       "\n",
       "    .dataframe tbody tr th {\n",
       "        vertical-align: top;\n",
       "    }\n",
       "\n",
       "    .dataframe thead th {\n",
       "        text-align: right;\n",
       "    }\n",
       "</style>\n",
       "<table border=\"1\" class=\"dataframe\">\n",
       "  <thead>\n",
       "    <tr style=\"text-align: right;\">\n",
       "      <th></th>\n",
       "      <th>계약년월</th>\n",
       "      <th>계약일</th>\n",
       "      <th>시군구</th>\n",
       "      <th>본번</th>\n",
       "      <th>부번</th>\n",
       "      <th>단지명</th>\n",
       "      <th>전월세구분</th>\n",
       "      <th>전용면적(㎡)</th>\n",
       "      <th>보증금(만원)</th>\n",
       "      <th>월세(만원)</th>\n",
       "      <th>층</th>\n",
       "      <th>건축년도</th>\n",
       "    </tr>\n",
       "  </thead>\n",
       "  <tbody>\n",
       "    <tr>\n",
       "      <th>0</th>\n",
       "      <td>201701</td>\n",
       "      <td>13</td>\n",
       "      <td>세종특별자치시 고운동</td>\n",
       "      <td>1396</td>\n",
       "      <td>0</td>\n",
       "      <td>가락마을 20단지(호반베르디움5차)</td>\n",
       "      <td>전세</td>\n",
       "      <td>84.9895</td>\n",
       "      <td>10000</td>\n",
       "      <td>0</td>\n",
       "      <td>13</td>\n",
       "      <td>2015</td>\n",
       "    </tr>\n",
       "    <tr>\n",
       "      <th>1</th>\n",
       "      <td>201701</td>\n",
       "      <td>14</td>\n",
       "      <td>세종특별자치시 고운동</td>\n",
       "      <td>1396</td>\n",
       "      <td>0</td>\n",
       "      <td>가락마을 20단지(호반베르디움5차)</td>\n",
       "      <td>전세</td>\n",
       "      <td>84.9895</td>\n",
       "      <td>18000</td>\n",
       "      <td>0</td>\n",
       "      <td>19</td>\n",
       "      <td>2015</td>\n",
       "    </tr>\n",
       "    <tr>\n",
       "      <th>2</th>\n",
       "      <td>201701</td>\n",
       "      <td>14</td>\n",
       "      <td>세종특별자치시 고운동</td>\n",
       "      <td>1396</td>\n",
       "      <td>0</td>\n",
       "      <td>가락마을 20단지(호반베르디움5차)</td>\n",
       "      <td>전세</td>\n",
       "      <td>59.8338</td>\n",
       "      <td>17000</td>\n",
       "      <td>0</td>\n",
       "      <td>10</td>\n",
       "      <td>2015</td>\n",
       "    </tr>\n",
       "    <tr>\n",
       "      <th>3</th>\n",
       "      <td>201701</td>\n",
       "      <td>15</td>\n",
       "      <td>세종특별자치시 고운동</td>\n",
       "      <td>1396</td>\n",
       "      <td>0</td>\n",
       "      <td>가락마을 20단지(호반베르디움5차)</td>\n",
       "      <td>전세</td>\n",
       "      <td>84.9895</td>\n",
       "      <td>17000</td>\n",
       "      <td>0</td>\n",
       "      <td>2</td>\n",
       "      <td>2015</td>\n",
       "    </tr>\n",
       "    <tr>\n",
       "      <th>4</th>\n",
       "      <td>201702</td>\n",
       "      <td>4</td>\n",
       "      <td>세종특별자치시 고운동</td>\n",
       "      <td>1396</td>\n",
       "      <td>0</td>\n",
       "      <td>가락마을 20단지(호반베르디움5차)</td>\n",
       "      <td>월세</td>\n",
       "      <td>84.9895</td>\n",
       "      <td>10000</td>\n",
       "      <td>30</td>\n",
       "      <td>13</td>\n",
       "      <td>2015</td>\n",
       "    </tr>\n",
       "    <tr>\n",
       "      <th>...</th>\n",
       "      <td>...</td>\n",
       "      <td>...</td>\n",
       "      <td>...</td>\n",
       "      <td>...</td>\n",
       "      <td>...</td>\n",
       "      <td>...</td>\n",
       "      <td>...</td>\n",
       "      <td>...</td>\n",
       "      <td>...</td>\n",
       "      <td>...</td>\n",
       "      <td>...</td>\n",
       "      <td>...</td>\n",
       "    </tr>\n",
       "    <tr>\n",
       "      <th>38890</th>\n",
       "      <td>202011</td>\n",
       "      <td>21</td>\n",
       "      <td>세종특별자치시 해밀동</td>\n",
       "      <td>6402</td>\n",
       "      <td>1</td>\n",
       "      <td>해밀마을 2단지</td>\n",
       "      <td>월세</td>\n",
       "      <td>102.8300</td>\n",
       "      <td>10000</td>\n",
       "      <td>100</td>\n",
       "      <td>5</td>\n",
       "      <td>2020</td>\n",
       "    </tr>\n",
       "    <tr>\n",
       "      <th>38891</th>\n",
       "      <td>202012</td>\n",
       "      <td>8</td>\n",
       "      <td>세종특별자치시 해밀동</td>\n",
       "      <td>6402</td>\n",
       "      <td>1</td>\n",
       "      <td>해밀마을 2단지</td>\n",
       "      <td>월세</td>\n",
       "      <td>102.5300</td>\n",
       "      <td>10000</td>\n",
       "      <td>95</td>\n",
       "      <td>14</td>\n",
       "      <td>2020</td>\n",
       "    </tr>\n",
       "    <tr>\n",
       "      <th>38892</th>\n",
       "      <td>202012</td>\n",
       "      <td>11</td>\n",
       "      <td>세종특별자치시 해밀동</td>\n",
       "      <td>6402</td>\n",
       "      <td>1</td>\n",
       "      <td>해밀마을 2단지</td>\n",
       "      <td>전세</td>\n",
       "      <td>84.9500</td>\n",
       "      <td>30000</td>\n",
       "      <td>0</td>\n",
       "      <td>18</td>\n",
       "      <td>2020</td>\n",
       "    </tr>\n",
       "    <tr>\n",
       "      <th>38893</th>\n",
       "      <td>202012</td>\n",
       "      <td>12</td>\n",
       "      <td>세종특별자치시 해밀동</td>\n",
       "      <td>6402</td>\n",
       "      <td>1</td>\n",
       "      <td>해밀마을 2단지</td>\n",
       "      <td>전세</td>\n",
       "      <td>84.9500</td>\n",
       "      <td>34000</td>\n",
       "      <td>0</td>\n",
       "      <td>18</td>\n",
       "      <td>2020</td>\n",
       "    </tr>\n",
       "    <tr>\n",
       "      <th>38894</th>\n",
       "      <td>202012</td>\n",
       "      <td>13</td>\n",
       "      <td>세종특별자치시 해밀동</td>\n",
       "      <td>6402</td>\n",
       "      <td>1</td>\n",
       "      <td>해밀마을 2단지</td>\n",
       "      <td>월세</td>\n",
       "      <td>84.9500</td>\n",
       "      <td>8000</td>\n",
       "      <td>85</td>\n",
       "      <td>16</td>\n",
       "      <td>2020</td>\n",
       "    </tr>\n",
       "  </tbody>\n",
       "</table>\n",
       "<p>38895 rows × 12 columns</p>\n",
       "</div>"
      ],
      "text/plain": [
       "         계약년월  계약일          시군구    본번  부번                  단지명 전월세구분  \\\n",
       "0      201701   13  세종특별자치시 고운동  1396   0  가락마을 20단지(호반베르디움5차)    전세   \n",
       "1      201701   14  세종특별자치시 고운동  1396   0  가락마을 20단지(호반베르디움5차)    전세   \n",
       "2      201701   14  세종특별자치시 고운동  1396   0  가락마을 20단지(호반베르디움5차)    전세   \n",
       "3      201701   15  세종특별자치시 고운동  1396   0  가락마을 20단지(호반베르디움5차)    전세   \n",
       "4      201702    4  세종특별자치시 고운동  1396   0  가락마을 20단지(호반베르디움5차)    월세   \n",
       "...       ...  ...          ...   ...  ..                  ...   ...   \n",
       "38890  202011   21  세종특별자치시 해밀동  6402   1             해밀마을 2단지    월세   \n",
       "38891  202012    8  세종특별자치시 해밀동  6402   1             해밀마을 2단지    월세   \n",
       "38892  202012   11  세종특별자치시 해밀동  6402   1             해밀마을 2단지    전세   \n",
       "38893  202012   12  세종특별자치시 해밀동  6402   1             해밀마을 2단지    전세   \n",
       "38894  202012   13  세종특별자치시 해밀동  6402   1             해밀마을 2단지    월세   \n",
       "\n",
       "        전용면적(㎡)  보증금(만원)  월세(만원)   층  건축년도  \n",
       "0       84.9895    10000       0  13  2015  \n",
       "1       84.9895    18000       0  19  2015  \n",
       "2       59.8338    17000       0  10  2015  \n",
       "3       84.9895    17000       0   2  2015  \n",
       "4       84.9895    10000      30  13  2015  \n",
       "...         ...      ...     ...  ..   ...  \n",
       "38890  102.8300    10000     100   5  2020  \n",
       "38891  102.5300    10000      95  14  2020  \n",
       "38892   84.9500    30000       0  18  2020  \n",
       "38893   84.9500    34000       0  18  2020  \n",
       "38894   84.9500     8000      85  16  2020  \n",
       "\n",
       "[38895 rows x 12 columns]"
      ]
     },
     "execution_count": 30,
     "metadata": {},
     "output_type": "execute_result"
    }
   ],
   "source": [
    "df_sejong"
   ]
  },
  {
   "cell_type": "code",
   "execution_count": 31,
   "metadata": {},
   "outputs": [
    {
     "data": {
      "text/plain": [
       "array(['세종특별자치시 고운동', '세종특별자치시 금남면 용포리', '세종특별자치시 나성동', '세종특별자치시 다정동',\n",
       "       '세종특별자치시 대평동', '세종특별자치시 도담동', '세종특별자치시 반곡동', '세종특별자치시 보람동',\n",
       "       '세종특별자치시 부강면 부강리', '세종특별자치시 새롬동', '세종특별자치시 소담동', '세종특별자치시 아름동',\n",
       "       '세종특별자치시 어진동', '세종특별자치시 연동면 명학리', '세종특별자치시 연서면 봉암리',\n",
       "       '세종특별자치시 장군면 금암리', '세종특별자치시 전동면 노장리', '세종특별자치시 전의면 동교리',\n",
       "       '세종특별자치시 전의면 유천리', '세종특별자치시 조치원읍 교리', '세종특별자치시 조치원읍 남리',\n",
       "       '세종특별자치시 조치원읍 번암리', '세종특별자치시 조치원읍 상리', '세종특별자치시 조치원읍 신안리',\n",
       "       '세종특별자치시 조치원읍 신흥리', '세종특별자치시 조치원읍 원리', '세종특별자치시 조치원읍 정리',\n",
       "       '세종특별자치시 조치원읍 죽림리', '세종특별자치시 조치원읍 침산리', '세종특별자치시 종촌동',\n",
       "       '세종특별자치시 한솔동', '세종특별자치시 소정면 운당리', '세종특별자치시 조치원읍 서창리',\n",
       "       '세종특별자치시 해밀동'], dtype=object)"
      ]
     },
     "execution_count": 31,
     "metadata": {},
     "output_type": "execute_result"
    }
   ],
   "source": [
    "df_sejong.시군구.unique()"
   ]
  },
  {
   "cell_type": "code",
   "execution_count": 37,
   "metadata": {},
   "outputs": [],
   "source": [
    "temp = \"세종특별자치시 한솔동\""
   ]
  },
  {
   "cell_type": "code",
   "execution_count": 36,
   "metadata": {},
   "outputs": [
    {
     "data": {
      "text/plain": [
       "0        세종특별자치시\n",
       "1        세종특별자치시\n",
       "2        세종특별자치시\n",
       "3        세종특별자치시\n",
       "4        세종특별자치시\n",
       "          ...   \n",
       "38890    세종특별자치시\n",
       "38891    세종특별자치시\n",
       "38892    세종특별자치시\n",
       "38893    세종특별자치시\n",
       "38894    세종특별자치시\n",
       "Name: 시군구, Length: 38895, dtype: object"
      ]
     },
     "execution_count": 36,
     "metadata": {},
     "output_type": "execute_result"
    }
   ],
   "source": [
    "df_sejong['시군구'].str[0:7]"
   ]
  },
  {
   "cell_type": "code",
   "execution_count": 40,
   "metadata": {},
   "outputs": [
    {
     "data": {
      "text/plain": [
       "0        세종특별자치시\n",
       "1        세종특별자치시\n",
       "2        세종특별자치시\n",
       "3        세종특별자치시\n",
       "4        세종특별자치시\n",
       "          ...   \n",
       "38890    세종특별자치시\n",
       "38891    세종특별자치시\n",
       "38892    세종특별자치시\n",
       "38893    세종특별자치시\n",
       "38894    세종특별자치시\n",
       "Name: 시, Length: 38895, dtype: object"
      ]
     },
     "execution_count": 40,
     "metadata": {},
     "output_type": "execute_result"
    }
   ],
   "source": [
    "## 앞자리만 추출 \n",
    "df_sejong['시'] = df_sejong['시군구'].str[0:7]\n",
    "df_sejong['시']"
   ]
  },
  {
   "cell_type": "markdown",
   "metadata": {},
   "source": [
    "### 분할 "
   ]
  },
  {
   "cell_type": "code",
   "execution_count": 46,
   "metadata": {},
   "outputs": [
    {
     "data": {
      "text/html": [
       "<div>\n",
       "<style scoped>\n",
       "    .dataframe tbody tr th:only-of-type {\n",
       "        vertical-align: middle;\n",
       "    }\n",
       "\n",
       "    .dataframe tbody tr th {\n",
       "        vertical-align: top;\n",
       "    }\n",
       "\n",
       "    .dataframe thead th {\n",
       "        text-align: right;\n",
       "    }\n",
       "</style>\n",
       "<table border=\"1\" class=\"dataframe\">\n",
       "  <thead>\n",
       "    <tr style=\"text-align: right;\">\n",
       "      <th></th>\n",
       "      <th>0</th>\n",
       "      <th>1</th>\n",
       "      <th>2</th>\n",
       "    </tr>\n",
       "  </thead>\n",
       "  <tbody>\n",
       "    <tr>\n",
       "      <th>0</th>\n",
       "      <td>세종특별자치시</td>\n",
       "      <td>고운동</td>\n",
       "      <td>None</td>\n",
       "    </tr>\n",
       "    <tr>\n",
       "      <th>1</th>\n",
       "      <td>세종특별자치시</td>\n",
       "      <td>고운동</td>\n",
       "      <td>None</td>\n",
       "    </tr>\n",
       "    <tr>\n",
       "      <th>2</th>\n",
       "      <td>세종특별자치시</td>\n",
       "      <td>고운동</td>\n",
       "      <td>None</td>\n",
       "    </tr>\n",
       "    <tr>\n",
       "      <th>3</th>\n",
       "      <td>세종특별자치시</td>\n",
       "      <td>고운동</td>\n",
       "      <td>None</td>\n",
       "    </tr>\n",
       "    <tr>\n",
       "      <th>4</th>\n",
       "      <td>세종특별자치시</td>\n",
       "      <td>고운동</td>\n",
       "      <td>None</td>\n",
       "    </tr>\n",
       "    <tr>\n",
       "      <th>...</th>\n",
       "      <td>...</td>\n",
       "      <td>...</td>\n",
       "      <td>...</td>\n",
       "    </tr>\n",
       "    <tr>\n",
       "      <th>38890</th>\n",
       "      <td>세종특별자치시</td>\n",
       "      <td>해밀동</td>\n",
       "      <td>None</td>\n",
       "    </tr>\n",
       "    <tr>\n",
       "      <th>38891</th>\n",
       "      <td>세종특별자치시</td>\n",
       "      <td>해밀동</td>\n",
       "      <td>None</td>\n",
       "    </tr>\n",
       "    <tr>\n",
       "      <th>38892</th>\n",
       "      <td>세종특별자치시</td>\n",
       "      <td>해밀동</td>\n",
       "      <td>None</td>\n",
       "    </tr>\n",
       "    <tr>\n",
       "      <th>38893</th>\n",
       "      <td>세종특별자치시</td>\n",
       "      <td>해밀동</td>\n",
       "      <td>None</td>\n",
       "    </tr>\n",
       "    <tr>\n",
       "      <th>38894</th>\n",
       "      <td>세종특별자치시</td>\n",
       "      <td>해밀동</td>\n",
       "      <td>None</td>\n",
       "    </tr>\n",
       "  </tbody>\n",
       "</table>\n",
       "<p>38895 rows × 3 columns</p>\n",
       "</div>"
      ],
      "text/plain": [
       "             0    1     2\n",
       "0      세종특별자치시  고운동  None\n",
       "1      세종특별자치시  고운동  None\n",
       "2      세종특별자치시  고운동  None\n",
       "3      세종특별자치시  고운동  None\n",
       "4      세종특별자치시  고운동  None\n",
       "...        ...  ...   ...\n",
       "38890  세종특별자치시  해밀동  None\n",
       "38891  세종특별자치시  해밀동  None\n",
       "38892  세종특별자치시  해밀동  None\n",
       "38893  세종특별자치시  해밀동  None\n",
       "38894  세종특별자치시  해밀동  None\n",
       "\n",
       "[38895 rows x 3 columns]"
      ]
     },
     "execution_count": 46,
     "metadata": {},
     "output_type": "execute_result"
    }
   ],
   "source": [
    "df_sejong['시군구'].str.split(\" \",expand=True)"
   ]
  },
  {
   "cell_type": "code",
   "execution_count": 48,
   "metadata": {},
   "outputs": [],
   "source": [
    "df_sejong_split = df_sejong['시군구'].str.split(\" \",expand=True)"
   ]
  },
  {
   "cell_type": "code",
   "execution_count": 49,
   "metadata": {},
   "outputs": [],
   "source": [
    "df_sejong_split.columns = ['시','군','구']"
   ]
  },
  {
   "cell_type": "code",
   "execution_count": 50,
   "metadata": {},
   "outputs": [
    {
     "data": {
      "text/html": [
       "<div>\n",
       "<style scoped>\n",
       "    .dataframe tbody tr th:only-of-type {\n",
       "        vertical-align: middle;\n",
       "    }\n",
       "\n",
       "    .dataframe tbody tr th {\n",
       "        vertical-align: top;\n",
       "    }\n",
       "\n",
       "    .dataframe thead th {\n",
       "        text-align: right;\n",
       "    }\n",
       "</style>\n",
       "<table border=\"1\" class=\"dataframe\">\n",
       "  <thead>\n",
       "    <tr style=\"text-align: right;\">\n",
       "      <th></th>\n",
       "      <th>시</th>\n",
       "      <th>군</th>\n",
       "      <th>구</th>\n",
       "    </tr>\n",
       "  </thead>\n",
       "  <tbody>\n",
       "    <tr>\n",
       "      <th>0</th>\n",
       "      <td>세종특별자치시</td>\n",
       "      <td>고운동</td>\n",
       "      <td>None</td>\n",
       "    </tr>\n",
       "    <tr>\n",
       "      <th>1</th>\n",
       "      <td>세종특별자치시</td>\n",
       "      <td>고운동</td>\n",
       "      <td>None</td>\n",
       "    </tr>\n",
       "    <tr>\n",
       "      <th>2</th>\n",
       "      <td>세종특별자치시</td>\n",
       "      <td>고운동</td>\n",
       "      <td>None</td>\n",
       "    </tr>\n",
       "    <tr>\n",
       "      <th>3</th>\n",
       "      <td>세종특별자치시</td>\n",
       "      <td>고운동</td>\n",
       "      <td>None</td>\n",
       "    </tr>\n",
       "    <tr>\n",
       "      <th>4</th>\n",
       "      <td>세종특별자치시</td>\n",
       "      <td>고운동</td>\n",
       "      <td>None</td>\n",
       "    </tr>\n",
       "    <tr>\n",
       "      <th>...</th>\n",
       "      <td>...</td>\n",
       "      <td>...</td>\n",
       "      <td>...</td>\n",
       "    </tr>\n",
       "    <tr>\n",
       "      <th>38890</th>\n",
       "      <td>세종특별자치시</td>\n",
       "      <td>해밀동</td>\n",
       "      <td>None</td>\n",
       "    </tr>\n",
       "    <tr>\n",
       "      <th>38891</th>\n",
       "      <td>세종특별자치시</td>\n",
       "      <td>해밀동</td>\n",
       "      <td>None</td>\n",
       "    </tr>\n",
       "    <tr>\n",
       "      <th>38892</th>\n",
       "      <td>세종특별자치시</td>\n",
       "      <td>해밀동</td>\n",
       "      <td>None</td>\n",
       "    </tr>\n",
       "    <tr>\n",
       "      <th>38893</th>\n",
       "      <td>세종특별자치시</td>\n",
       "      <td>해밀동</td>\n",
       "      <td>None</td>\n",
       "    </tr>\n",
       "    <tr>\n",
       "      <th>38894</th>\n",
       "      <td>세종특별자치시</td>\n",
       "      <td>해밀동</td>\n",
       "      <td>None</td>\n",
       "    </tr>\n",
       "  </tbody>\n",
       "</table>\n",
       "<p>38895 rows × 3 columns</p>\n",
       "</div>"
      ],
      "text/plain": [
       "             시    군     구\n",
       "0      세종특별자치시  고운동  None\n",
       "1      세종특별자치시  고운동  None\n",
       "2      세종특별자치시  고운동  None\n",
       "3      세종특별자치시  고운동  None\n",
       "4      세종특별자치시  고운동  None\n",
       "...        ...  ...   ...\n",
       "38890  세종특별자치시  해밀동  None\n",
       "38891  세종특별자치시  해밀동  None\n",
       "38892  세종특별자치시  해밀동  None\n",
       "38893  세종특별자치시  해밀동  None\n",
       "38894  세종특별자치시  해밀동  None\n",
       "\n",
       "[38895 rows x 3 columns]"
      ]
     },
     "execution_count": 50,
     "metadata": {},
     "output_type": "execute_result"
    }
   ],
   "source": [
    "df_sejong_split"
   ]
  },
  {
   "cell_type": "code",
   "execution_count": 51,
   "metadata": {},
   "outputs": [
    {
     "data": {
      "text/plain": [
       "0        False\n",
       "1        False\n",
       "2        False\n",
       "3        False\n",
       "4        False\n",
       "         ...  \n",
       "38890    False\n",
       "38891    False\n",
       "38892    False\n",
       "38893    False\n",
       "38894    False\n",
       "Name: 구, Length: 38895, dtype: bool"
      ]
     },
     "execution_count": 51,
     "metadata": {},
     "output_type": "execute_result"
    }
   ],
   "source": [
    "df_sejong_split['구']==df_sejong_split['구']"
   ]
  },
  {
   "cell_type": "code",
   "execution_count": 52,
   "metadata": {
    "scrolled": true
   },
   "outputs": [
    {
     "data": {
      "text/html": [
       "<div>\n",
       "<style scoped>\n",
       "    .dataframe tbody tr th:only-of-type {\n",
       "        vertical-align: middle;\n",
       "    }\n",
       "\n",
       "    .dataframe tbody tr th {\n",
       "        vertical-align: top;\n",
       "    }\n",
       "\n",
       "    .dataframe thead th {\n",
       "        text-align: right;\n",
       "    }\n",
       "</style>\n",
       "<table border=\"1\" class=\"dataframe\">\n",
       "  <thead>\n",
       "    <tr style=\"text-align: right;\">\n",
       "      <th></th>\n",
       "      <th>시</th>\n",
       "      <th>군</th>\n",
       "      <th>구</th>\n",
       "    </tr>\n",
       "  </thead>\n",
       "  <tbody>\n",
       "    <tr>\n",
       "      <th>1898</th>\n",
       "      <td>세종특별자치시</td>\n",
       "      <td>금남면</td>\n",
       "      <td>용포리</td>\n",
       "    </tr>\n",
       "    <tr>\n",
       "      <th>1899</th>\n",
       "      <td>세종특별자치시</td>\n",
       "      <td>금남면</td>\n",
       "      <td>용포리</td>\n",
       "    </tr>\n",
       "    <tr>\n",
       "      <th>1900</th>\n",
       "      <td>세종특별자치시</td>\n",
       "      <td>금남면</td>\n",
       "      <td>용포리</td>\n",
       "    </tr>\n",
       "    <tr>\n",
       "      <th>1901</th>\n",
       "      <td>세종특별자치시</td>\n",
       "      <td>금남면</td>\n",
       "      <td>용포리</td>\n",
       "    </tr>\n",
       "    <tr>\n",
       "      <th>1902</th>\n",
       "      <td>세종특별자치시</td>\n",
       "      <td>금남면</td>\n",
       "      <td>용포리</td>\n",
       "    </tr>\n",
       "    <tr>\n",
       "      <th>...</th>\n",
       "      <td>...</td>\n",
       "      <td>...</td>\n",
       "      <td>...</td>\n",
       "    </tr>\n",
       "    <tr>\n",
       "      <th>36637</th>\n",
       "      <td>세종특별자치시</td>\n",
       "      <td>조치원읍</td>\n",
       "      <td>침산리</td>\n",
       "    </tr>\n",
       "    <tr>\n",
       "      <th>36638</th>\n",
       "      <td>세종특별자치시</td>\n",
       "      <td>조치원읍</td>\n",
       "      <td>침산리</td>\n",
       "    </tr>\n",
       "    <tr>\n",
       "      <th>36639</th>\n",
       "      <td>세종특별자치시</td>\n",
       "      <td>조치원읍</td>\n",
       "      <td>침산리</td>\n",
       "    </tr>\n",
       "    <tr>\n",
       "      <th>36640</th>\n",
       "      <td>세종특별자치시</td>\n",
       "      <td>조치원읍</td>\n",
       "      <td>침산리</td>\n",
       "    </tr>\n",
       "    <tr>\n",
       "      <th>36641</th>\n",
       "      <td>세종특별자치시</td>\n",
       "      <td>조치원읍</td>\n",
       "      <td>침산리</td>\n",
       "    </tr>\n",
       "  </tbody>\n",
       "</table>\n",
       "<p>3594 rows × 3 columns</p>\n",
       "</div>"
      ],
      "text/plain": [
       "             시     군    구\n",
       "1898   세종특별자치시   금남면  용포리\n",
       "1899   세종특별자치시   금남면  용포리\n",
       "1900   세종특별자치시   금남면  용포리\n",
       "1901   세종특별자치시   금남면  용포리\n",
       "1902   세종특별자치시   금남면  용포리\n",
       "...        ...   ...  ...\n",
       "36637  세종특별자치시  조치원읍  침산리\n",
       "36638  세종특별자치시  조치원읍  침산리\n",
       "36639  세종특별자치시  조치원읍  침산리\n",
       "36640  세종특별자치시  조치원읍  침산리\n",
       "36641  세종특별자치시  조치원읍  침산리\n",
       "\n",
       "[3594 rows x 3 columns]"
      ]
     },
     "execution_count": 52,
     "metadata": {},
     "output_type": "execute_result"
    }
   ],
   "source": [
    "df_sejong_split[ df_sejong_split['구']==df_sejong_split['구']]"
   ]
  },
  {
   "cell_type": "code",
   "execution_count": 60,
   "metadata": {
    "scrolled": true
   },
   "outputs": [
    {
     "data": {
      "text/plain": [
       "0         True\n",
       "1         True\n",
       "2         True\n",
       "3         True\n",
       "4         True\n",
       "         ...  \n",
       "38890    False\n",
       "38891    False\n",
       "38892    False\n",
       "38893    False\n",
       "38894    False\n",
       "Name: 단지명, Length: 38895, dtype: bool"
      ]
     },
     "execution_count": 60,
     "metadata": {},
     "output_type": "execute_result"
    }
   ],
   "source": [
    "df_sejong['단지명'].str.contains('가락마을')"
   ]
  },
  {
   "cell_type": "code",
   "execution_count": 61,
   "metadata": {},
   "outputs": [
    {
     "name": "stdout",
     "output_type": "stream",
     "text": [
      "startswith :  5010\n",
      "contains : 5501\n"
     ]
    }
   ],
   "source": [
    "\n",
    "print(\"startswith : \",len(df_sejong[df_sejong['단지명'].str.startswith('가락마을')]))\n",
    "\n",
    "print(\"contains :\", len(df_sejong[df_sejong['단지명'].str.contains('가락마을')]))"
   ]
  },
  {
   "cell_type": "code",
   "execution_count": 62,
   "metadata": {
    "scrolled": true
   },
   "outputs": [
    {
     "data": {
      "text/plain": [
       "array(['가락마을 20단지(호반베르디움5차)', '가락마을11단지(중흥에듀카운티)', '가락마을13단지(대광로제비앙)',\n",
       "       '가락마을15단지(중흥파크뷰)', '가락마을16단지(에듀그린)', '가락마을17단지(골드클래스)',\n",
       "       '가락마을21단지(에듀포레)', '가락마을22단지(에듀힐스)', '가락마을3단지(호반베르디움)',\n",
       "       '가락마을5단지(유승한내들)', '가락마을6단지(중흥S클래스프라디움)', '가락마을7단지(중흥S-클래스프라디움)',\n",
       "       '가락마을8단지(고운뜰아파트)', '가락마을9단지(신동아 파밀리에)', '이지더원(가락마을10단지)',\n",
       "       '이지더원(가락마을4단지)', '가락마을 19단지', '가락마을 2단지', '가락마을18단지',\n",
       "       '가락마을1단지(힐데스하임)', '가락마을14단지(우남퍼스트빌)'], dtype=object)"
      ]
     },
     "execution_count": 62,
     "metadata": {},
     "output_type": "execute_result"
    }
   ],
   "source": [
    "df_sejong[df_sejong['단지명'].str.contains('가락마을')]['단지명'].unique()"
   ]
  },
  {
   "cell_type": "code",
   "execution_count": 66,
   "metadata": {},
   "outputs": [],
   "source": [
    "df_sejong.loc[df_sejong['단지명']=='이지더원(가락마을10단지)','단지명'] ='가락마을10단지(이지더원)'"
   ]
  },
  {
   "cell_type": "code",
   "execution_count": 68,
   "metadata": {},
   "outputs": [
    {
     "data": {
      "text/plain": [
       "1788     가락마을10단지(이지더원)\n",
       "1789     가락마을10단지(이지더원)\n",
       "1790     가락마을10단지(이지더원)\n",
       "1791     가락마을10단지(이지더원)\n",
       "1792     가락마을10단지(이지더원)\n",
       "              ...      \n",
       "29015    가락마을10단지(이지더원)\n",
       "29016    가락마을10단지(이지더원)\n",
       "29017    가락마을10단지(이지더원)\n",
       "29018    가락마을10단지(이지더원)\n",
       "29019    가락마을10단지(이지더원)\n",
       "Name: 단지명, Length: 329, dtype: object"
      ]
     },
     "execution_count": 68,
     "metadata": {},
     "output_type": "execute_result"
    }
   ],
   "source": [
    "df_sejong.loc[df_sejong['단지명']=='가락마을10단지(이지더원)','단지명']"
   ]
  },
  {
   "cell_type": "code",
   "execution_count": 69,
   "metadata": {},
   "outputs": [],
   "source": [
    "## 전처리가 필요한 단지명 확인 후 값 변환 \n",
    "df_sejong.loc[df_sejong['단지명']=='이지더원(가락마을4단지)','단지명'] = '가락마을4단지(이지더원)'"
   ]
  },
  {
   "cell_type": "code",
   "execution_count": 70,
   "metadata": {},
   "outputs": [
    {
     "data": {
      "text/plain": [
       "array(['가락마을 20단지(호반베르디움5차)', '가락마을11단지(중흥에듀카운티)', '가락마을13단지(대광로제비앙)',\n",
       "       '가락마을15단지(중흥파크뷰)', '가락마을16단지(에듀그린)', '가락마을17단지(골드클래스)',\n",
       "       '가락마을21단지(에듀포레)', '가락마을22단지(에듀힐스)', '가락마을3단지(호반베르디움)',\n",
       "       '가락마을5단지(유승한내들)', '가락마을6단지(중흥S클래스프라디움)', '가락마을7단지(중흥S-클래스프라디움)',\n",
       "       '가락마을8단지(고운뜰아파트)', '가락마을9단지(신동아 파밀리에)', '가락마을10단지(이지더원)',\n",
       "       '가락마을4단지(이지더원)', '가락마을 19단지', '가락마을 2단지', '가락마을18단지',\n",
       "       '가락마을1단지(힐데스하임)', '가락마을14단지(우남퍼스트빌)'], dtype=object)"
      ]
     },
     "execution_count": 70,
     "metadata": {},
     "output_type": "execute_result"
    }
   ],
   "source": [
    "df_sejong[df_sejong['단지명'].str.contains('가락마을')]['단지명'].unique()"
   ]
  },
  {
   "cell_type": "markdown",
   "metadata": {},
   "source": [
    "### 시작,끝,포함 글자 인식\n",
    "    df.str.startswith(\"시작글자\")\n",
    "    df.str.endswith(\"끝글자\")\n",
    "    df.str.contains(\"포함글자\")"
   ]
  },
  {
   "cell_type": "code",
   "execution_count": 71,
   "metadata": {},
   "outputs": [
    {
     "data": {
      "text/plain": [
       "array(['가락마을 20단지(호반베르디움5차)', '가락마을11단지(중흥에듀카운티)', '가락마을13단지(대광로제비앙)',\n",
       "       '가락마을15단지(중흥파크뷰)', '가락마을16단지(에듀그린)', '가락마을17단지(골드클래스)',\n",
       "       '가락마을21단지(에듀포레)', '가락마을22단지(에듀힐스)', '가락마을3단지(호반베르디움)',\n",
       "       '가락마을5단지(유승한내들)'], dtype=object)"
      ]
     },
     "execution_count": 71,
     "metadata": {},
     "output_type": "execute_result"
    }
   ],
   "source": [
    "df_sejong['단지명'].unique()[:10]"
   ]
  },
  {
   "cell_type": "code",
   "execution_count": 72,
   "metadata": {},
   "outputs": [
    {
     "data": {
      "text/plain": [
       "0         True\n",
       "1         True\n",
       "2         True\n",
       "3         True\n",
       "4         True\n",
       "         ...  \n",
       "38890    False\n",
       "38891    False\n",
       "38892    False\n",
       "38893    False\n",
       "38894    False\n",
       "Name: 단지명, Length: 38895, dtype: bool"
      ]
     },
     "execution_count": 72,
     "metadata": {},
     "output_type": "execute_result"
    }
   ],
   "source": [
    "df_sejong['단지명'].str.startswith('가락마을')"
   ]
  },
  {
   "cell_type": "code",
   "execution_count": 73,
   "metadata": {},
   "outputs": [
    {
     "data": {
      "text/html": [
       "<div>\n",
       "<style scoped>\n",
       "    .dataframe tbody tr th:only-of-type {\n",
       "        vertical-align: middle;\n",
       "    }\n",
       "\n",
       "    .dataframe tbody tr th {\n",
       "        vertical-align: top;\n",
       "    }\n",
       "\n",
       "    .dataframe thead th {\n",
       "        text-align: right;\n",
       "    }\n",
       "</style>\n",
       "<table border=\"1\" class=\"dataframe\">\n",
       "  <thead>\n",
       "    <tr style=\"text-align: right;\">\n",
       "      <th></th>\n",
       "      <th>계약년월</th>\n",
       "      <th>계약일</th>\n",
       "      <th>시군구</th>\n",
       "      <th>본번</th>\n",
       "      <th>부번</th>\n",
       "      <th>단지명</th>\n",
       "      <th>전월세구분</th>\n",
       "      <th>전용면적(㎡)</th>\n",
       "      <th>보증금(만원)</th>\n",
       "      <th>월세(만원)</th>\n",
       "      <th>층</th>\n",
       "      <th>건축년도</th>\n",
       "      <th>시</th>\n",
       "    </tr>\n",
       "  </thead>\n",
       "  <tbody>\n",
       "    <tr>\n",
       "      <th>296</th>\n",
       "      <td>201701</td>\n",
       "      <td>7</td>\n",
       "      <td>세종특별자치시 고운동</td>\n",
       "      <td>1386</td>\n",
       "      <td>0</td>\n",
       "      <td>가락마을17단지(골드클래스)</td>\n",
       "      <td>월세</td>\n",
       "      <td>59.9159</td>\n",
       "      <td>10000</td>\n",
       "      <td>20</td>\n",
       "      <td>10</td>\n",
       "      <td>2015</td>\n",
       "      <td>세종특별자치시</td>\n",
       "    </tr>\n",
       "    <tr>\n",
       "      <th>297</th>\n",
       "      <td>201701</td>\n",
       "      <td>9</td>\n",
       "      <td>세종특별자치시 고운동</td>\n",
       "      <td>1386</td>\n",
       "      <td>0</td>\n",
       "      <td>가락마을17단지(골드클래스)</td>\n",
       "      <td>월세</td>\n",
       "      <td>59.9159</td>\n",
       "      <td>3000</td>\n",
       "      <td>45</td>\n",
       "      <td>13</td>\n",
       "      <td>2015</td>\n",
       "      <td>세종특별자치시</td>\n",
       "    </tr>\n",
       "    <tr>\n",
       "      <th>298</th>\n",
       "      <td>201701</td>\n",
       "      <td>10</td>\n",
       "      <td>세종특별자치시 고운동</td>\n",
       "      <td>1386</td>\n",
       "      <td>0</td>\n",
       "      <td>가락마을17단지(골드클래스)</td>\n",
       "      <td>월세</td>\n",
       "      <td>59.9159</td>\n",
       "      <td>5000</td>\n",
       "      <td>30</td>\n",
       "      <td>10</td>\n",
       "      <td>2015</td>\n",
       "      <td>세종특별자치시</td>\n",
       "    </tr>\n",
       "    <tr>\n",
       "      <th>299</th>\n",
       "      <td>201701</td>\n",
       "      <td>14</td>\n",
       "      <td>세종특별자치시 고운동</td>\n",
       "      <td>1386</td>\n",
       "      <td>0</td>\n",
       "      <td>가락마을17단지(골드클래스)</td>\n",
       "      <td>전세</td>\n",
       "      <td>59.9809</td>\n",
       "      <td>17000</td>\n",
       "      <td>0</td>\n",
       "      <td>6</td>\n",
       "      <td>2015</td>\n",
       "      <td>세종특별자치시</td>\n",
       "    </tr>\n",
       "    <tr>\n",
       "      <th>300</th>\n",
       "      <td>201701</td>\n",
       "      <td>15</td>\n",
       "      <td>세종특별자치시 고운동</td>\n",
       "      <td>1386</td>\n",
       "      <td>0</td>\n",
       "      <td>가락마을17단지(골드클래스)</td>\n",
       "      <td>월세</td>\n",
       "      <td>59.9159</td>\n",
       "      <td>4500</td>\n",
       "      <td>40</td>\n",
       "      <td>5</td>\n",
       "      <td>2015</td>\n",
       "      <td>세종특별자치시</td>\n",
       "    </tr>\n",
       "  </tbody>\n",
       "</table>\n",
       "</div>"
      ],
      "text/plain": [
       "       계약년월  계약일          시군구    본번  부번              단지명 전월세구분  전용면적(㎡)  \\\n",
       "296  201701    7  세종특별자치시 고운동  1386   0  가락마을17단지(골드클래스)    월세  59.9159   \n",
       "297  201701    9  세종특별자치시 고운동  1386   0  가락마을17단지(골드클래스)    월세  59.9159   \n",
       "298  201701   10  세종특별자치시 고운동  1386   0  가락마을17단지(골드클래스)    월세  59.9159   \n",
       "299  201701   14  세종특별자치시 고운동  1386   0  가락마을17단지(골드클래스)    전세  59.9809   \n",
       "300  201701   15  세종특별자치시 고운동  1386   0  가락마을17단지(골드클래스)    월세  59.9159   \n",
       "\n",
       "     보증금(만원)  월세(만원)   층  건축년도        시  \n",
       "296    10000      20  10  2015  세종특별자치시  \n",
       "297     3000      45  13  2015  세종특별자치시  \n",
       "298     5000      30  10  2015  세종특별자치시  \n",
       "299    17000       0   6  2015  세종특별자치시  \n",
       "300     4500      40   5  2015  세종특별자치시  "
      ]
     },
     "execution_count": 73,
     "metadata": {},
     "output_type": "execute_result"
    }
   ],
   "source": [
    "df_sejong[df_sejong['단지명'].str.endswith('(골드클래스)')].head()"
   ]
  },
  {
   "cell_type": "code",
   "execution_count": 74,
   "metadata": {},
   "outputs": [
    {
     "name": "stderr",
     "output_type": "stream",
     "text": [
      "C:\\Users\\jjang\\anaconda3\\envs\\ADP_Class\\lib\\site-packages\\pandas\\core\\strings\\accessor.py:101: UserWarning: This pattern has match groups. To actually get the groups, use str.extract.\n",
      "  return func(self, *args, **kwargs)\n"
     ]
    },
    {
     "data": {
      "text/html": [
       "<div>\n",
       "<style scoped>\n",
       "    .dataframe tbody tr th:only-of-type {\n",
       "        vertical-align: middle;\n",
       "    }\n",
       "\n",
       "    .dataframe tbody tr th {\n",
       "        vertical-align: top;\n",
       "    }\n",
       "\n",
       "    .dataframe thead th {\n",
       "        text-align: right;\n",
       "    }\n",
       "</style>\n",
       "<table border=\"1\" class=\"dataframe\">\n",
       "  <thead>\n",
       "    <tr style=\"text-align: right;\">\n",
       "      <th></th>\n",
       "      <th>계약년월</th>\n",
       "      <th>계약일</th>\n",
       "      <th>시군구</th>\n",
       "      <th>본번</th>\n",
       "      <th>부번</th>\n",
       "      <th>단지명</th>\n",
       "      <th>전월세구분</th>\n",
       "      <th>전용면적(㎡)</th>\n",
       "      <th>보증금(만원)</th>\n",
       "      <th>월세(만원)</th>\n",
       "      <th>층</th>\n",
       "      <th>건축년도</th>\n",
       "      <th>시</th>\n",
       "    </tr>\n",
       "  </thead>\n",
       "  <tbody>\n",
       "    <tr>\n",
       "      <th>0</th>\n",
       "      <td>201701</td>\n",
       "      <td>13</td>\n",
       "      <td>세종특별자치시 고운동</td>\n",
       "      <td>1396</td>\n",
       "      <td>0</td>\n",
       "      <td>가락마을 20단지(호반베르디움5차)</td>\n",
       "      <td>전세</td>\n",
       "      <td>84.9895</td>\n",
       "      <td>10000</td>\n",
       "      <td>0</td>\n",
       "      <td>13</td>\n",
       "      <td>2015</td>\n",
       "      <td>세종특별자치시</td>\n",
       "    </tr>\n",
       "    <tr>\n",
       "      <th>1</th>\n",
       "      <td>201701</td>\n",
       "      <td>14</td>\n",
       "      <td>세종특별자치시 고운동</td>\n",
       "      <td>1396</td>\n",
       "      <td>0</td>\n",
       "      <td>가락마을 20단지(호반베르디움5차)</td>\n",
       "      <td>전세</td>\n",
       "      <td>84.9895</td>\n",
       "      <td>18000</td>\n",
       "      <td>0</td>\n",
       "      <td>19</td>\n",
       "      <td>2015</td>\n",
       "      <td>세종특별자치시</td>\n",
       "    </tr>\n",
       "    <tr>\n",
       "      <th>2</th>\n",
       "      <td>201701</td>\n",
       "      <td>14</td>\n",
       "      <td>세종특별자치시 고운동</td>\n",
       "      <td>1396</td>\n",
       "      <td>0</td>\n",
       "      <td>가락마을 20단지(호반베르디움5차)</td>\n",
       "      <td>전세</td>\n",
       "      <td>59.8338</td>\n",
       "      <td>17000</td>\n",
       "      <td>0</td>\n",
       "      <td>10</td>\n",
       "      <td>2015</td>\n",
       "      <td>세종특별자치시</td>\n",
       "    </tr>\n",
       "    <tr>\n",
       "      <th>3</th>\n",
       "      <td>201701</td>\n",
       "      <td>15</td>\n",
       "      <td>세종특별자치시 고운동</td>\n",
       "      <td>1396</td>\n",
       "      <td>0</td>\n",
       "      <td>가락마을 20단지(호반베르디움5차)</td>\n",
       "      <td>전세</td>\n",
       "      <td>84.9895</td>\n",
       "      <td>17000</td>\n",
       "      <td>0</td>\n",
       "      <td>2</td>\n",
       "      <td>2015</td>\n",
       "      <td>세종특별자치시</td>\n",
       "    </tr>\n",
       "    <tr>\n",
       "      <th>4</th>\n",
       "      <td>201702</td>\n",
       "      <td>4</td>\n",
       "      <td>세종특별자치시 고운동</td>\n",
       "      <td>1396</td>\n",
       "      <td>0</td>\n",
       "      <td>가락마을 20단지(호반베르디움5차)</td>\n",
       "      <td>월세</td>\n",
       "      <td>84.9895</td>\n",
       "      <td>10000</td>\n",
       "      <td>30</td>\n",
       "      <td>13</td>\n",
       "      <td>2015</td>\n",
       "      <td>세종특별자치시</td>\n",
       "    </tr>\n",
       "  </tbody>\n",
       "</table>\n",
       "</div>"
      ],
      "text/plain": [
       "     계약년월  계약일          시군구    본번  부번                  단지명 전월세구분  전용면적(㎡)  \\\n",
       "0  201701   13  세종특별자치시 고운동  1396   0  가락마을 20단지(호반베르디움5차)    전세  84.9895   \n",
       "1  201701   14  세종특별자치시 고운동  1396   0  가락마을 20단지(호반베르디움5차)    전세  84.9895   \n",
       "2  201701   14  세종특별자치시 고운동  1396   0  가락마을 20단지(호반베르디움5차)    전세  59.8338   \n",
       "3  201701   15  세종특별자치시 고운동  1396   0  가락마을 20단지(호반베르디움5차)    전세  84.9895   \n",
       "4  201702    4  세종특별자치시 고운동  1396   0  가락마을 20단지(호반베르디움5차)    월세  84.9895   \n",
       "\n",
       "   보증금(만원)  월세(만원)   층  건축년도        시  \n",
       "0    10000       0  13  2015  세종특별자치시  \n",
       "1    18000       0  19  2015  세종특별자치시  \n",
       "2    17000       0  10  2015  세종특별자치시  \n",
       "3    17000       0   2  2015  세종특별자치시  \n",
       "4    10000      30  13  2015  세종특별자치시  "
      ]
     },
     "execution_count": 74,
     "metadata": {},
     "output_type": "execute_result"
    }
   ],
   "source": [
    "df_sejong[df_sejong['시군구'].str.contains('(고운동)')].head()"
   ]
  },
  {
   "cell_type": "code",
   "execution_count": null,
   "metadata": {},
   "outputs": [],
   "source": []
  }
 ],
 "metadata": {
  "kernelspec": {
   "display_name": "Python 3",
   "language": "python",
   "name": "python3"
  },
  "language_info": {
   "codemirror_mode": {
    "name": "ipython",
    "version": 3
   },
   "file_extension": ".py",
   "mimetype": "text/x-python",
   "name": "python",
   "nbconvert_exporter": "python",
   "pygments_lexer": "ipython3",
   "version": "3.8.8"
  },
  "toc": {
   "base_numbering": "3.3",
   "nav_menu": {},
   "number_sections": true,
   "sideBar": true,
   "skip_h1_title": false,
   "title_cell": "Table of Contents",
   "title_sidebar": "Contents",
   "toc_cell": false,
   "toc_position": {
    "height": "calc(100% - 180px)",
    "left": "10px",
    "top": "150px",
    "width": "165px"
   },
   "toc_section_display": true,
   "toc_window_display": false
  }
 },
 "nbformat": 4,
 "nbformat_minor": 4
}
