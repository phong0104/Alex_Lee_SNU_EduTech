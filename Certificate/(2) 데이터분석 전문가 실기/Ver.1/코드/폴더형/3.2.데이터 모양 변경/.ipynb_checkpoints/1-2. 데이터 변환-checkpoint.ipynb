{
 "cells": [
  {
   "cell_type": "markdown",
   "metadata": {},
   "source": [
    "# PART 1\n",
    "\n",
    "-----------------\n",
    "\n",
    "<p style='color:#726a77; text-align:right'>홍준호</p>\n",
    "\n",
    "##행/열 선택, 추가, 삭제 \n",
    "### 조건에 따른 행/열 선택 \n",
    "#### 1. []: pd.DataFrame에서의 변수추가\n",
    "\n",
    "* [] 기호를 이용하면 데이터프레임에서 원하는 이름으로 새로운 변수를 즉시 생성할 수 있으며 사용법은 아래와 같다. \n"
   ]
  },
  {
   "cell_type": "code",
   "execution_count": 13,
   "metadata": {
    "scrolled": true
   },
   "outputs": [
    {
     "data": {
      "text/html": [
       "<div>\n",
       "<style scoped>\n",
       "    .dataframe tbody tr th:only-of-type {\n",
       "        vertical-align: middle;\n",
       "    }\n",
       "\n",
       "    .dataframe tbody tr th {\n",
       "        vertical-align: top;\n",
       "    }\n",
       "\n",
       "    .dataframe thead th {\n",
       "        text-align: right;\n",
       "    }\n",
       "</style>\n",
       "<table border=\"1\" class=\"dataframe\">\n",
       "  <thead>\n",
       "    <tr style=\"text-align: right;\">\n",
       "      <th></th>\n",
       "      <th>sepal length</th>\n",
       "      <th>sepal width</th>\n",
       "      <th>petal length</th>\n",
       "      <th>petal width</th>\n",
       "      <th>target</th>\n",
       "    </tr>\n",
       "  </thead>\n",
       "  <tbody>\n",
       "    <tr>\n",
       "      <th>0</th>\n",
       "      <td>5.1</td>\n",
       "      <td>3.5</td>\n",
       "      <td>1.4</td>\n",
       "      <td>0.2</td>\n",
       "      <td>Iris-setosa</td>\n",
       "    </tr>\n",
       "    <tr>\n",
       "      <th>1</th>\n",
       "      <td>4.9</td>\n",
       "      <td>3.0</td>\n",
       "      <td>1.4</td>\n",
       "      <td>0.2</td>\n",
       "      <td>Iris-setosa</td>\n",
       "    </tr>\n",
       "    <tr>\n",
       "      <th>2</th>\n",
       "      <td>4.7</td>\n",
       "      <td>3.2</td>\n",
       "      <td>1.3</td>\n",
       "      <td>0.2</td>\n",
       "      <td>Iris-setosa</td>\n",
       "    </tr>\n",
       "    <tr>\n",
       "      <th>3</th>\n",
       "      <td>4.6</td>\n",
       "      <td>3.1</td>\n",
       "      <td>1.5</td>\n",
       "      <td>0.2</td>\n",
       "      <td>Iris-setosa</td>\n",
       "    </tr>\n",
       "    <tr>\n",
       "      <th>4</th>\n",
       "      <td>5.0</td>\n",
       "      <td>3.6</td>\n",
       "      <td>1.4</td>\n",
       "      <td>0.2</td>\n",
       "      <td>Iris-setosa</td>\n",
       "    </tr>\n",
       "  </tbody>\n",
       "</table>\n",
       "</div>"
      ],
      "text/plain": [
       "   sepal length  sepal width  petal length  petal width       target\n",
       "0           5.1          3.5           1.4          0.2  Iris-setosa\n",
       "1           4.9          3.0           1.4          0.2  Iris-setosa\n",
       "2           4.7          3.2           1.3          0.2  Iris-setosa\n",
       "3           4.6          3.1           1.5          0.2  Iris-setosa\n",
       "4           5.0          3.6           1.4          0.2  Iris-setosa"
      ]
     },
     "execution_count": 13,
     "metadata": {},
     "output_type": "execute_result"
    }
   ],
   "source": [
    "from sklearn.datasets import load_iris\n",
    "import pandas as pd \n",
    "import numpy as np \n",
    "\n",
    "url = \"https://archive.ics.uci.edu/ml/machine-learning-databases/iris/iris.data\"\n",
    "Iris_data = pd.read_csv(url, names=['sepal length','sepal width','petal length','petal width','target'])\n",
    "Iris_data.head()\n",
    "\n",
    "## 내장 데이터 iris에 행 번호를 담고 있는 'ID'를 추가 생성 \n"
   ]
  },
  {
   "cell_type": "markdown",
   "metadata": {},
   "source": [
    "#### 2. np.where()\n",
    "* 데이터 프레임 or 리스트 내 필드에 접근하고 수정하는 방법 . \n",
    "* np.where(condition, x, y)는 조건이 충족되면x를, 그렇지 않으면y를 반환합니다."
   ]
  },
  {
   "cell_type": "markdown",
   "metadata": {},
   "source": [
    "* 함수 사용 예제 "
   ]
  },
  {
   "cell_type": "code",
   "execution_count": 50,
   "metadata": {},
   "outputs": [
    {
     "data": {
      "text/html": [
       "<div>\n",
       "<style scoped>\n",
       "    .dataframe tbody tr th:only-of-type {\n",
       "        vertical-align: middle;\n",
       "    }\n",
       "\n",
       "    .dataframe tbody tr th {\n",
       "        vertical-align: top;\n",
       "    }\n",
       "\n",
       "    .dataframe thead th {\n",
       "        text-align: right;\n",
       "    }\n",
       "</style>\n",
       "<table border=\"1\" class=\"dataframe\">\n",
       "  <thead>\n",
       "    <tr style=\"text-align: right;\">\n",
       "      <th></th>\n",
       "      <th>sepal length</th>\n",
       "      <th>sepal width</th>\n",
       "      <th>petal length</th>\n",
       "      <th>petal width</th>\n",
       "      <th>target</th>\n",
       "      <th>temp</th>\n",
       "      <th>Status</th>\n",
       "    </tr>\n",
       "  </thead>\n",
       "  <tbody>\n",
       "    <tr>\n",
       "      <th>0</th>\n",
       "      <td>5.1</td>\n",
       "      <td>3.5</td>\n",
       "      <td>1.4</td>\n",
       "      <td>0.2</td>\n",
       "      <td>Iris-setosa</td>\n",
       "      <td>6.1</td>\n",
       "      <td>Good</td>\n",
       "    </tr>\n",
       "    <tr>\n",
       "      <th>1</th>\n",
       "      <td>4.9</td>\n",
       "      <td>3.0</td>\n",
       "      <td>1.4</td>\n",
       "      <td>0.2</td>\n",
       "      <td>Iris-setosa</td>\n",
       "      <td>5.9</td>\n",
       "      <td>Bad</td>\n",
       "    </tr>\n",
       "    <tr>\n",
       "      <th>2</th>\n",
       "      <td>4.7</td>\n",
       "      <td>3.2</td>\n",
       "      <td>1.3</td>\n",
       "      <td>0.2</td>\n",
       "      <td>Iris-setosa</td>\n",
       "      <td>5.7</td>\n",
       "      <td>Bad</td>\n",
       "    </tr>\n",
       "    <tr>\n",
       "      <th>3</th>\n",
       "      <td>4.6</td>\n",
       "      <td>3.1</td>\n",
       "      <td>1.5</td>\n",
       "      <td>0.2</td>\n",
       "      <td>Iris-setosa</td>\n",
       "      <td>5.6</td>\n",
       "      <td>Bad</td>\n",
       "    </tr>\n",
       "    <tr>\n",
       "      <th>4</th>\n",
       "      <td>5.0</td>\n",
       "      <td>3.6</td>\n",
       "      <td>1.4</td>\n",
       "      <td>0.2</td>\n",
       "      <td>Iris-setosa</td>\n",
       "      <td>6.0</td>\n",
       "      <td>Good</td>\n",
       "    </tr>\n",
       "    <tr>\n",
       "      <th>5</th>\n",
       "      <td>5.4</td>\n",
       "      <td>3.9</td>\n",
       "      <td>1.7</td>\n",
       "      <td>0.4</td>\n",
       "      <td>Iris-setosa</td>\n",
       "      <td>6.4</td>\n",
       "      <td>Good</td>\n",
       "    </tr>\n",
       "    <tr>\n",
       "      <th>6</th>\n",
       "      <td>4.6</td>\n",
       "      <td>3.4</td>\n",
       "      <td>1.4</td>\n",
       "      <td>0.3</td>\n",
       "      <td>Iris-setosa</td>\n",
       "      <td>5.6</td>\n",
       "      <td>Bad</td>\n",
       "    </tr>\n",
       "    <tr>\n",
       "      <th>7</th>\n",
       "      <td>5.0</td>\n",
       "      <td>3.4</td>\n",
       "      <td>1.5</td>\n",
       "      <td>0.2</td>\n",
       "      <td>Iris-setosa</td>\n",
       "      <td>6.0</td>\n",
       "      <td>Good</td>\n",
       "    </tr>\n",
       "    <tr>\n",
       "      <th>8</th>\n",
       "      <td>4.4</td>\n",
       "      <td>2.9</td>\n",
       "      <td>1.4</td>\n",
       "      <td>0.2</td>\n",
       "      <td>Iris-setosa</td>\n",
       "      <td>5.4</td>\n",
       "      <td>Bad</td>\n",
       "    </tr>\n",
       "    <tr>\n",
       "      <th>9</th>\n",
       "      <td>4.9</td>\n",
       "      <td>3.1</td>\n",
       "      <td>1.5</td>\n",
       "      <td>0.1</td>\n",
       "      <td>Iris-setosa</td>\n",
       "      <td>5.9</td>\n",
       "      <td>Bad</td>\n",
       "    </tr>\n",
       "  </tbody>\n",
       "</table>\n",
       "</div>"
      ],
      "text/plain": [
       "   sepal length  sepal width  petal length  petal width       target  temp  \\\n",
       "0           5.1          3.5           1.4          0.2  Iris-setosa   6.1   \n",
       "1           4.9          3.0           1.4          0.2  Iris-setosa   5.9   \n",
       "2           4.7          3.2           1.3          0.2  Iris-setosa   5.7   \n",
       "3           4.6          3.1           1.5          0.2  Iris-setosa   5.6   \n",
       "4           5.0          3.6           1.4          0.2  Iris-setosa   6.0   \n",
       "5           5.4          3.9           1.7          0.4  Iris-setosa   6.4   \n",
       "6           4.6          3.4           1.4          0.3  Iris-setosa   5.6   \n",
       "7           5.0          3.4           1.5          0.2  Iris-setosa   6.0   \n",
       "8           4.4          2.9           1.4          0.2  Iris-setosa   5.4   \n",
       "9           4.9          3.1           1.5          0.1  Iris-setosa   5.9   \n",
       "\n",
       "  Status  \n",
       "0   Good  \n",
       "1    Bad  \n",
       "2    Bad  \n",
       "3    Bad  \n",
       "4   Good  \n",
       "5   Good  \n",
       "6    Bad  \n",
       "7   Good  \n",
       "8    Bad  \n",
       "9    Bad  "
      ]
     },
     "execution_count": 50,
     "metadata": {},
     "output_type": "execute_result"
    }
   ],
   "source": [
    "Iris_data['Status'] = np.where(Iris_data['sepal length']>=5, 'Good', 'Bad')\n",
    "Iris_data.head(10)\n"
   ]
  },
  {
   "cell_type": "markdown",
   "metadata": {},
   "source": [
    "#### 3. np.select()\n",
    "* 데이터 프레임 or 리스트 내 필드에 접근하고 수정하는 방법 . \n",
    "* 조건 목록과 선택 목록을 입력으로 받아서 조건에 따라 선택 목록의 요소로 구성된 배열을 반환합니다. \n",
    "* 이 방법을 사용하면 두 개 이상의 조건이있을 때 Pandas의 주어진 조건을 기반으로 DataFrame 열을 만들 수 있습니다.\n"
   ]
  },
  {
   "cell_type": "code",
   "execution_count": 60,
   "metadata": {
    "scrolled": false
   },
   "outputs": [
    {
     "data": {
      "text/html": [
       "<div>\n",
       "<style scoped>\n",
       "    .dataframe tbody tr th:only-of-type {\n",
       "        vertical-align: middle;\n",
       "    }\n",
       "\n",
       "    .dataframe tbody tr th {\n",
       "        vertical-align: top;\n",
       "    }\n",
       "\n",
       "    .dataframe thead th {\n",
       "        text-align: right;\n",
       "    }\n",
       "</style>\n",
       "<table border=\"1\" class=\"dataframe\">\n",
       "  <thead>\n",
       "    <tr style=\"text-align: right;\">\n",
       "      <th></th>\n",
       "      <th>sepal length</th>\n",
       "      <th>sepal width</th>\n",
       "      <th>petal length</th>\n",
       "      <th>petal width</th>\n",
       "      <th>target</th>\n",
       "      <th>temp</th>\n",
       "      <th>Status</th>\n",
       "      <th>status3</th>\n",
       "      <th>status4</th>\n",
       "      <th>status5</th>\n",
       "      <th>status2</th>\n",
       "    </tr>\n",
       "  </thead>\n",
       "  <tbody>\n",
       "    <tr>\n",
       "      <th>0</th>\n",
       "      <td>5.1</td>\n",
       "      <td>3.5</td>\n",
       "      <td>1.4</td>\n",
       "      <td>0.2</td>\n",
       "      <td>Iris-setosa</td>\n",
       "      <td>6.1</td>\n",
       "      <td>Good</td>\n",
       "      <td>High</td>\n",
       "      <td>F</td>\n",
       "      <td>F</td>\n",
       "      <td>High</td>\n",
       "    </tr>\n",
       "    <tr>\n",
       "      <th>1</th>\n",
       "      <td>4.9</td>\n",
       "      <td>3.0</td>\n",
       "      <td>1.4</td>\n",
       "      <td>0.2</td>\n",
       "      <td>Iris-setosa</td>\n",
       "      <td>5.9</td>\n",
       "      <td>Bad</td>\n",
       "      <td>F</td>\n",
       "      <td>Mid</td>\n",
       "      <td>Low</td>\n",
       "      <td>Mid</td>\n",
       "    </tr>\n",
       "    <tr>\n",
       "      <th>2</th>\n",
       "      <td>4.7</td>\n",
       "      <td>3.2</td>\n",
       "      <td>1.3</td>\n",
       "      <td>0.2</td>\n",
       "      <td>Iris-setosa</td>\n",
       "      <td>5.7</td>\n",
       "      <td>Bad</td>\n",
       "      <td>F</td>\n",
       "      <td>Mid</td>\n",
       "      <td>Low</td>\n",
       "      <td>Mid</td>\n",
       "    </tr>\n",
       "    <tr>\n",
       "      <th>3</th>\n",
       "      <td>4.6</td>\n",
       "      <td>3.1</td>\n",
       "      <td>1.5</td>\n",
       "      <td>0.2</td>\n",
       "      <td>Iris-setosa</td>\n",
       "      <td>5.6</td>\n",
       "      <td>Bad</td>\n",
       "      <td>F</td>\n",
       "      <td>Mid</td>\n",
       "      <td>Low</td>\n",
       "      <td>Mid</td>\n",
       "    </tr>\n",
       "    <tr>\n",
       "      <th>4</th>\n",
       "      <td>5.0</td>\n",
       "      <td>3.6</td>\n",
       "      <td>1.4</td>\n",
       "      <td>0.2</td>\n",
       "      <td>Iris-setosa</td>\n",
       "      <td>6.0</td>\n",
       "      <td>Good</td>\n",
       "      <td>F</td>\n",
       "      <td>F</td>\n",
       "      <td>F</td>\n",
       "      <td>High</td>\n",
       "    </tr>\n",
       "    <tr>\n",
       "      <th>5</th>\n",
       "      <td>5.4</td>\n",
       "      <td>3.9</td>\n",
       "      <td>1.7</td>\n",
       "      <td>0.4</td>\n",
       "      <td>Iris-setosa</td>\n",
       "      <td>6.4</td>\n",
       "      <td>Good</td>\n",
       "      <td>High</td>\n",
       "      <td>F</td>\n",
       "      <td>F</td>\n",
       "      <td>High</td>\n",
       "    </tr>\n",
       "    <tr>\n",
       "      <th>6</th>\n",
       "      <td>4.6</td>\n",
       "      <td>3.4</td>\n",
       "      <td>1.4</td>\n",
       "      <td>0.3</td>\n",
       "      <td>Iris-setosa</td>\n",
       "      <td>5.6</td>\n",
       "      <td>Bad</td>\n",
       "      <td>F</td>\n",
       "      <td>Mid</td>\n",
       "      <td>Low</td>\n",
       "      <td>Mid</td>\n",
       "    </tr>\n",
       "    <tr>\n",
       "      <th>7</th>\n",
       "      <td>5.0</td>\n",
       "      <td>3.4</td>\n",
       "      <td>1.5</td>\n",
       "      <td>0.2</td>\n",
       "      <td>Iris-setosa</td>\n",
       "      <td>6.0</td>\n",
       "      <td>Good</td>\n",
       "      <td>F</td>\n",
       "      <td>F</td>\n",
       "      <td>F</td>\n",
       "      <td>High</td>\n",
       "    </tr>\n",
       "    <tr>\n",
       "      <th>8</th>\n",
       "      <td>4.4</td>\n",
       "      <td>2.9</td>\n",
       "      <td>1.4</td>\n",
       "      <td>0.2</td>\n",
       "      <td>Iris-setosa</td>\n",
       "      <td>5.4</td>\n",
       "      <td>Bad</td>\n",
       "      <td>F</td>\n",
       "      <td>F</td>\n",
       "      <td>Low</td>\n",
       "      <td>Low</td>\n",
       "    </tr>\n",
       "    <tr>\n",
       "      <th>9</th>\n",
       "      <td>4.9</td>\n",
       "      <td>3.1</td>\n",
       "      <td>1.5</td>\n",
       "      <td>0.1</td>\n",
       "      <td>Iris-setosa</td>\n",
       "      <td>5.9</td>\n",
       "      <td>Bad</td>\n",
       "      <td>F</td>\n",
       "      <td>Mid</td>\n",
       "      <td>Low</td>\n",
       "      <td>Mid</td>\n",
       "    </tr>\n",
       "  </tbody>\n",
       "</table>\n",
       "</div>"
      ],
      "text/plain": [
       "   sepal length  sepal width  petal length  petal width       target  temp  \\\n",
       "0           5.1          3.5           1.4          0.2  Iris-setosa   6.1   \n",
       "1           4.9          3.0           1.4          0.2  Iris-setosa   5.9   \n",
       "2           4.7          3.2           1.3          0.2  Iris-setosa   5.7   \n",
       "3           4.6          3.1           1.5          0.2  Iris-setosa   5.6   \n",
       "4           5.0          3.6           1.4          0.2  Iris-setosa   6.0   \n",
       "5           5.4          3.9           1.7          0.4  Iris-setosa   6.4   \n",
       "6           4.6          3.4           1.4          0.3  Iris-setosa   5.6   \n",
       "7           5.0          3.4           1.5          0.2  Iris-setosa   6.0   \n",
       "8           4.4          2.9           1.4          0.2  Iris-setosa   5.4   \n",
       "9           4.9          3.1           1.5          0.1  Iris-setosa   5.9   \n",
       "\n",
       "  Status status3 status4 status5 status2  \n",
       "0   Good    High       F       F    High  \n",
       "1    Bad       F     Mid     Low     Mid  \n",
       "2    Bad       F     Mid     Low     Mid  \n",
       "3    Bad       F     Mid     Low     Mid  \n",
       "4   Good       F       F       F    High  \n",
       "5   Good    High       F       F    High  \n",
       "6    Bad       F     Mid     Low     Mid  \n",
       "7   Good       F       F       F    High  \n",
       "8    Bad       F       F     Low     Low  \n",
       "9    Bad       F     Mid     Low     Mid  "
      ]
     },
     "execution_count": 60,
     "metadata": {},
     "output_type": "execute_result"
    }
   ],
   "source": [
    "conditionlist = [\n",
    "    (Iris_data['sepal length'] >= 5) ,\n",
    "    (Iris_data['sepal length'] >= 4.5) & (Iris_data['sepal length'] <5),\n",
    "    Iris_data['sepal length'] < 4.5]\n",
    "choicelist = ['High', 'Mid', 'Low']\n",
    "\n",
    "Iris_data['status2'] = np.select(conditionlist, choicelist, default='Not Specified')\n",
    "\n",
    "Iris_data.head(10)"
   ]
  },
  {
   "cell_type": "code",
   "execution_count": 90,
   "metadata": {},
   "outputs": [
    {
     "data": {
      "text/html": [
       "<div>\n",
       "<style scoped>\n",
       "    .dataframe tbody tr th:only-of-type {\n",
       "        vertical-align: middle;\n",
       "    }\n",
       "\n",
       "    .dataframe tbody tr th {\n",
       "        vertical-align: top;\n",
       "    }\n",
       "\n",
       "    .dataframe thead th {\n",
       "        text-align: right;\n",
       "    }\n",
       "</style>\n",
       "<table border=\"1\" class=\"dataframe\">\n",
       "  <thead>\n",
       "    <tr style=\"text-align: right;\">\n",
       "      <th></th>\n",
       "      <th>0</th>\n",
       "      <th>1</th>\n",
       "    </tr>\n",
       "  </thead>\n",
       "  <tbody>\n",
       "    <tr>\n",
       "      <th>0</th>\n",
       "      <td>Iris</td>\n",
       "      <td>setosa</td>\n",
       "    </tr>\n",
       "    <tr>\n",
       "      <th>1</th>\n",
       "      <td>Iris</td>\n",
       "      <td>setosa</td>\n",
       "    </tr>\n",
       "    <tr>\n",
       "      <th>2</th>\n",
       "      <td>Iris</td>\n",
       "      <td>setosa</td>\n",
       "    </tr>\n",
       "    <tr>\n",
       "      <th>3</th>\n",
       "      <td>Iris</td>\n",
       "      <td>setosa</td>\n",
       "    </tr>\n",
       "    <tr>\n",
       "      <th>4</th>\n",
       "      <td>Iris</td>\n",
       "      <td>setosa</td>\n",
       "    </tr>\n",
       "    <tr>\n",
       "      <th>...</th>\n",
       "      <td>...</td>\n",
       "      <td>...</td>\n",
       "    </tr>\n",
       "    <tr>\n",
       "      <th>145</th>\n",
       "      <td>Iris</td>\n",
       "      <td>virginica</td>\n",
       "    </tr>\n",
       "    <tr>\n",
       "      <th>146</th>\n",
       "      <td>Iris</td>\n",
       "      <td>virginica</td>\n",
       "    </tr>\n",
       "    <tr>\n",
       "      <th>147</th>\n",
       "      <td>Iris</td>\n",
       "      <td>virginica</td>\n",
       "    </tr>\n",
       "    <tr>\n",
       "      <th>148</th>\n",
       "      <td>Iris</td>\n",
       "      <td>virginica</td>\n",
       "    </tr>\n",
       "    <tr>\n",
       "      <th>149</th>\n",
       "      <td>Iris</td>\n",
       "      <td>virginica</td>\n",
       "    </tr>\n",
       "  </tbody>\n",
       "</table>\n",
       "<p>150 rows × 2 columns</p>\n",
       "</div>"
      ],
      "text/plain": [
       "        0          1\n",
       "0    Iris     setosa\n",
       "1    Iris     setosa\n",
       "2    Iris     setosa\n",
       "3    Iris     setosa\n",
       "4    Iris     setosa\n",
       "..    ...        ...\n",
       "145  Iris  virginica\n",
       "146  Iris  virginica\n",
       "147  Iris  virginica\n",
       "148  Iris  virginica\n",
       "149  Iris  virginica\n",
       "\n",
       "[150 rows x 2 columns]"
      ]
     },
     "execution_count": 90,
     "metadata": {},
     "output_type": "execute_result"
    }
   ],
   "source": [
    "Iris_data.target.str.split('-',expand=True)"
   ]
  },
  {
   "cell_type": "markdown",
   "metadata": {},
   "source": [
    "\n",
    "* 여기에서conditionlist의 첫 번째 조건이 행에 대해 충족되면 \n",
    "  해당 특정 행에 대한sepal length (cm) 열의 값이choicelist의 첫 번째 요소로 설정됩니다. \n",
    "  conditionlist의 다른 조건은 비슷합니다. conditionlist의 조건이 충족되지 않으면 \n",
    "  해당 행의sepal length (cm) 열 값은np.where()메소드의default 매개 변수 값으로 설정됩니다 (예 :Not Specified).\n"
   ]
  },
  {
   "cell_type": "markdown",
   "metadata": {},
   "source": [
    "### 2절. 변수 축소 \n",
    "#### 1. 주성분분석\n",
    "\n",
    "<b>가.</b> 주성분분석의 개념\n",
    "* 주성분분석이란 데이터에 여러 변수들이 있을 때, 서로 상관성이 높은 변수들의 선형결합으로 이루어진 \"주성분\"이라는 \n",
    "  새로운 변수를 만들어 변수들을 요약하고 추소하는 기법 "
   ]
  },
  {
   "cell_type": "markdown",
   "metadata": {},
   "source": [
    "<b>나.</b>  파이썬을 이용한 주성분 분석\n",
    "* 변수간의 스케일이 차이가 나면 스케일 큰 변수가 주성분에 영향을 많이 주기 때문에 주성분 분석 전에 변수를 표준화나 \n",
    "  정규화시켜주는 것이 좋다. 데이터 정규화에 사용하는 함수는 StandardScaler()이다. \n",
    "* 파이썬에서 주성분분석을 수행할 수 있는 기본적인 함수는 sklearn의 PCA함수이다. \n",
    "* pca.explained_variance_ratio_를 통해서 또는 Scree Plot으로 주성분의 설명력을 확인 할 수 있다. \n",
    "* PCA함수는 공분산행렬의 고유벡터를 구하는 방법을 사용한다. \n",
    "\n",
    "\n",
    "* 함수 사용예제 "
   ]
  },
  {
   "cell_type": "code",
   "execution_count": 91,
   "metadata": {},
   "outputs": [],
   "source": [
    "#수치형 데이터만 추출\n",
    "features = ['sepal length', 'sepal width', 'petal length', 'petal width']\n",
    "x = Iris_data.loc[:, features].values\n",
    "\n",
    "#수치형 변수 정규화\n",
    "from sklearn.preprocessing import StandardScaler\n",
    "x = StandardScaler().fit_transform(x)"
   ]
  },
  {
   "cell_type": "code",
   "execution_count": 93,
   "metadata": {},
   "outputs": [],
   "source": [
    "from sklearn.decomposition import PCA\n",
    "## Scree Plot 으로 주성분 개수 정하는 방법 \n",
    "pca = PCA(n_components=len(features))\n",
    "pca_fit = pca.fit(x)"
   ]
  },
  {
   "cell_type": "code",
   "execution_count": 94,
   "metadata": {},
   "outputs": [
    {
     "name": "stdout",
     "output_type": "stream",
     "text": [
      "\n",
      " ==================== PCA Result Summary ===================\n",
      "\n",
      "고유 값 : \n",
      " [20.89551896 11.75513248  4.7013819   1.75816839]\n",
      "\n",
      "분산 설명력: \n",
      " [0.72770452 0.23030523 0.03683832 0.00515193]\n"
     ]
    }
   ],
   "source": [
    "print(\"\\n ==================== PCA Result Summary ===================\")\n",
    "print(\"\\n고유 값 : \\n\",pca.singular_values_)\n",
    "print(\"\\n분산 설명력: \\n\", pca.explained_variance_ratio_)"
   ]
  },
  {
   "cell_type": "code",
   "execution_count": 17,
   "metadata": {},
   "outputs": [
    {
     "data": {
      "text/plain": [
       "[<matplotlib.lines.Line2D at 0x214451a4160>]"
      ]
     },
     "execution_count": 17,
     "metadata": {},
     "output_type": "execute_result"
    },
    {
     "data": {
      "image/png": "[encoded data removed]",
      "text/plain": [
       "<Figure size 432x288 with 1 Axes>"
      ]
     },
     "metadata": {
      "needs_background": "light"
     },
     "output_type": "display_data"
    }
   ],
   "source": [
    "# Scree Plot \n",
    "import matplotlib.pyplot as plt\n",
    "plt.title('Scree Plot')\n",
    "plt.xlabel('Number of Components')\n",
    "plt.ylabel('Cumulative Explained Variance')\n",
    "plt.plot(pca.explained_variance_ratio_,'o-')"
   ]
  },
  {
   "cell_type": "code",
   "execution_count": 18,
   "metadata": {},
   "outputs": [
    {
     "data": {
      "text/plain": [
       "array([0.72770452, 0.23030523])"
      ]
     },
     "execution_count": 18,
     "metadata": {},
     "output_type": "execute_result"
    }
   ],
   "source": [
    "pca = PCA(n_components=2) #PCA 객체 생성 (주성분 갯수 2개 생성)\n",
    "principalComponents = pca.fit_transform(x) ## 주성분 2개 객체에 할당 \n",
    "principalDf = pd.DataFrame(data = principalComponents, columns = ['principal component1', 'principal component2']) \n",
    "pca.explained_variance_ratio_"
   ]
  },
  {
   "cell_type": "code",
   "execution_count": 20,
   "metadata": {},
   "outputs": [
    {
     "data": {
      "text/html": [
       "<div>\n",
       "<style scoped>\n",
       "    .dataframe tbody tr th:only-of-type {\n",
       "        vertical-align: middle;\n",
       "    }\n",
       "\n",
       "    .dataframe tbody tr th {\n",
       "        vertical-align: top;\n",
       "    }\n",
       "\n",
       "    .dataframe thead th {\n",
       "        text-align: right;\n",
       "    }\n",
       "</style>\n",
       "<table border=\"1\" class=\"dataframe\">\n",
       "  <thead>\n",
       "    <tr style=\"text-align: right;\">\n",
       "      <th></th>\n",
       "      <th>principal component1</th>\n",
       "      <th>principal component2</th>\n",
       "    </tr>\n",
       "  </thead>\n",
       "  <tbody>\n",
       "    <tr>\n",
       "      <th>0</th>\n",
       "      <td>-2.264542</td>\n",
       "      <td>0.505704</td>\n",
       "    </tr>\n",
       "    <tr>\n",
       "      <th>1</th>\n",
       "      <td>-2.086426</td>\n",
       "      <td>-0.655405</td>\n",
       "    </tr>\n",
       "    <tr>\n",
       "      <th>2</th>\n",
       "      <td>-2.367950</td>\n",
       "      <td>-0.318477</td>\n",
       "    </tr>\n",
       "    <tr>\n",
       "      <th>3</th>\n",
       "      <td>-2.304197</td>\n",
       "      <td>-0.575368</td>\n",
       "    </tr>\n",
       "    <tr>\n",
       "      <th>4</th>\n",
       "      <td>-2.388777</td>\n",
       "      <td>0.674767</td>\n",
       "    </tr>\n",
       "    <tr>\n",
       "      <th>...</th>\n",
       "      <td>...</td>\n",
       "      <td>...</td>\n",
       "    </tr>\n",
       "    <tr>\n",
       "      <th>145</th>\n",
       "      <td>1.870522</td>\n",
       "      <td>0.382822</td>\n",
       "    </tr>\n",
       "    <tr>\n",
       "      <th>146</th>\n",
       "      <td>1.558492</td>\n",
       "      <td>-0.905314</td>\n",
       "    </tr>\n",
       "    <tr>\n",
       "      <th>147</th>\n",
       "      <td>1.520845</td>\n",
       "      <td>0.266795</td>\n",
       "    </tr>\n",
       "    <tr>\n",
       "      <th>148</th>\n",
       "      <td>1.376391</td>\n",
       "      <td>1.016362</td>\n",
       "    </tr>\n",
       "    <tr>\n",
       "      <th>149</th>\n",
       "      <td>0.959299</td>\n",
       "      <td>-0.022284</td>\n",
       "    </tr>\n",
       "  </tbody>\n",
       "</table>\n",
       "<p>150 rows × 2 columns</p>\n",
       "</div>"
      ],
      "text/plain": [
       "     principal component1  principal component2\n",
       "0               -2.264542              0.505704\n",
       "1               -2.086426             -0.655405\n",
       "2               -2.367950             -0.318477\n",
       "3               -2.304197             -0.575368\n",
       "4               -2.388777              0.674767\n",
       "..                    ...                   ...\n",
       "145              1.870522              0.382822\n",
       "146              1.558492             -0.905314\n",
       "147              1.520845              0.266795\n",
       "148              1.376391              1.016362\n",
       "149              0.959299             -0.022284\n",
       "\n",
       "[150 rows x 2 columns]"
      ]
     },
     "execution_count": 20,
     "metadata": {},
     "output_type": "execute_result"
    }
   ],
   "source": [
    "## 주성분 점수 확인 \n",
    "\n",
    "principalDf"
   ]
  },
  {
   "cell_type": "code",
   "execution_count": 21,
   "metadata": {},
   "outputs": [
    {
     "data": {
      "image/png": "[encoded data removed]",
      "text/plain": [
       "<Figure size 576x576 with 1 Axes>"
      ]
     },
     "metadata": {
      "needs_background": "light"
     },
     "output_type": "display_data"
    }
   ],
   "source": [
    "import matplotlib.pyplot as plt\n",
    "\n",
    "fig = plt.figure(figsize = (8, 8))\n",
    "ax = fig.add_subplot(1, 1, 1)\n",
    "ax.set_xlabel('Principal Component 1', fontsize = 15)\n",
    "ax.set_ylabel('Principal Component 2', fontsize = 15)\n",
    "ax.set_title('2 component PCA', fontsize=20)\n",
    "\n",
    "targets = ['Iris-setosa', 'Iris-versicolor', 'Iris-virginica']\n",
    "colors = ['r', 'g', 'b']\n",
    "for target, color in zip(targets,colors):\n",
    "    indicesToKeep = Iris_data['target'] == target\n",
    "    ax.scatter(principalDf.loc[indicesToKeep, 'principal component1']\n",
    "               , principalDf.loc[indicesToKeep, 'principal component2']\n",
    "               , c = color\n",
    "               , s = 50)\n",
    "ax.legend(targets)\n",
    "ax.grid()"
   ]
  },
  {
   "cell_type": "code",
   "execution_count": 23,
   "metadata": {},
   "outputs": [
    {
     "name": "stdout",
     "output_type": "stream",
     "text": [
      "Requirement already satisfied: pca in c:\\users\\hong\\.conda\\envs\\hakerton\\lib\\site-packages (1.5.2)\n",
      "Requirement already satisfied: scipy in c:\\users\\hong\\.conda\\envs\\hakerton\\lib\\site-packages (from pca) (1.5.4)\n",
      "Requirement already satisfied: numpy in c:\\users\\hong\\.conda\\envs\\hakerton\\lib\\site-packages (from pca) (1.19.5)\n",
      "Requirement already satisfied: matplotlib in c:\\users\\hong\\.conda\\envs\\hakerton\\lib\\site-packages (from pca) (3.3.4)\n",
      "Requirement already satisfied: pandas in c:\\users\\hong\\.conda\\envs\\hakerton\\lib\\site-packages (from pca) (1.1.5)\n",
      "Requirement already satisfied: wget in c:\\users\\hong\\.conda\\envs\\hakerton\\lib\\site-packages (from pca) (3.2)\n",
      "Requirement already satisfied: colourmap in c:\\users\\hong\\.conda\\envs\\hakerton\\lib\\site-packages (from pca) (0.1.1)\n",
      "Requirement already satisfied: tqdm in c:\\users\\hong\\.conda\\envs\\hakerton\\lib\\site-packages (from pca) (4.61.1)\n",
      "Requirement already satisfied: sklearn in c:\\users\\hong\\.conda\\envs\\hakerton\\lib\\site-packages (from pca) (0.0)\n",
      "Requirement already satisfied: python-dateutil>=2.1 in c:\\users\\hong\\appdata\\roaming\\python\\python36\\site-packages (from matplotlib->pca) (2.8.1)\n",
      "Requirement already satisfied: kiwisolver>=1.0.1 in c:\\users\\hong\\.conda\\envs\\hakerton\\lib\\site-packages (from matplotlib->pca) (1.3.1)\n",
      "Requirement already satisfied: pillow>=6.2.0 in c:\\users\\hong\\.conda\\envs\\hakerton\\lib\\site-packages (from matplotlib->pca) (8.2.0)\n",
      "Requirement already satisfied: cycler>=0.10 in c:\\users\\hong\\.conda\\envs\\hakerton\\lib\\site-packages (from matplotlib->pca) (0.10.0)\n",
      "Requirement already satisfied: pyparsing!=2.0.4,!=2.1.2,!=2.1.6,>=2.0.3 in c:\\users\\hong\\appdata\\roaming\\python\\python36\\site-packages (from matplotlib->pca) (2.4.7)\n",
      "Requirement already satisfied: six in c:\\users\\hong\\appdata\\roaming\\python\\python36\\site-packages (from cycler>=0.10->matplotlib->pca) (1.15.0)\n",
      "Requirement already satisfied: pytz>=2017.2 in c:\\users\\hong\\.conda\\envs\\hakerton\\lib\\site-packages (from pandas->pca) (2021.1)\n",
      "Requirement already satisfied: scikit-learn in c:\\users\\hong\\.conda\\envs\\hakerton\\lib\\site-packages (from sklearn->pca) (0.23.2)\n",
      "Requirement already satisfied: joblib>=0.11 in c:\\users\\hong\\.conda\\envs\\hakerton\\lib\\site-packages (from scikit-learn->sklearn->pca) (1.0.1)\n",
      "Requirement already satisfied: threadpoolctl>=2.0.0 in c:\\users\\hong\\.conda\\envs\\hakerton\\lib\\site-packages (from scikit-learn->sklearn->pca) (2.1.0)\n",
      "[pca] >Column labels are auto-completed.\n",
      "[pca] >Row labels are auto-completed.\n",
      "[pca] >The PCA reduction is performed on the [4] columns of the input dataframe.\n",
      "[pca] >Fitting using PCA..\n",
      "[pca] >Computing loadings and PCs..\n",
      "[pca] >Computing explained variance..\n",
      "[pca] >Outlier detection using Hotelling T2 test with alpha=[0.05] and n_components=[2]\n",
      "[pca] >Outlier detection using SPE/DmodX with n_std=[2]\n"
     ]
    },
    {
     "data": {
      "image/png": "[encoded data removed]",
      "text/plain": [
       "<Figure size 720x576 with 1 Axes>"
      ]
     },
     "metadata": {
      "needs_background": "light"
     },
     "output_type": "display_data"
    },
    {
     "data": {
      "text/plain": [
       "<Figure size 432x288 with 0 Axes>"
      ]
     },
     "metadata": {},
     "output_type": "display_data"
    }
   ],
   "source": [
    "!pip3 install pca\n",
    "\n",
    "## pca 모듈을 사용하는 방법 == 간단함 \n",
    "\n",
    "\n",
    "from pca import pca\n",
    "\n",
    "# Initialize to reduce the data up to the number of componentes that explains 95% of the variance.\n",
    "model = pca(n_components=0.95)\n",
    "\n",
    "# Or reduce the data towards 2 PCs\n",
    "model = pca(n_components=2)\n",
    "\n",
    "# Fit transform\n",
    "results = model.fit_transform(x)\n",
    "\n",
    "# Plot explained variance\n",
    "fig, ax = model.plot()\n",
    "\n"
   ]
  },
  {
   "cell_type": "code",
   "execution_count": 24,
   "metadata": {},
   "outputs": [
    {
     "data": {
      "image/png": "[encoded data removed]",
      "text/plain": [
       "<Figure size 720x576 with 1 Axes>"
      ]
     },
     "metadata": {
      "needs_background": "light"
     },
     "output_type": "display_data"
    }
   ],
   "source": [
    "# Scatter first 2 PCs\n",
    "fig, ax = model.scatter()\n"
   ]
  },
  {
   "cell_type": "code",
   "execution_count": 25,
   "metadata": {},
   "outputs": [
    {
     "data": {
      "image/png": "[encoded data removed]",
      "text/plain": [
       "<Figure size 720x576 with 1 Axes>"
      ]
     },
     "metadata": {
      "needs_background": "light"
     },
     "output_type": "display_data"
    }
   ],
   "source": [
    "## biplot 은 제 1주성분과 2주성분으로 이루어진 좌표평면상에 원 데이터 행들의 주성분 점수를 산점도 형태로 나타내고\n",
    "## 각 변수에 대한 주성분 계수를 화살표로 시각화하여 그래프로 표현해 준다. \n",
    "# Make biplot with the number of features\n",
    "fig, ax = model.biplot(n_feat=4)"
   ]
  }
 ],
 "metadata": {
  "kernelspec": {
   "display_name": "Python 3",
   "language": "python",
   "name": "python3"
  },
  "language_info": {
   "codemirror_mode": {
    "name": "ipython",
    "version": 3
   },
   "file_extension": ".py",
   "mimetype": "text/x-python",
   "name": "python",
   "nbconvert_exporter": "python",
   "pygments_lexer": "ipython3",
   "version": "3.6.13"
  },
  "toc": {
   "base_numbering": 1,
   "nav_menu": {},
   "number_sections": true,
   "sideBar": true,
   "skip_h1_title": false,
   "title_cell": "Table of Contents",
   "title_sidebar": "Contents",
   "toc_cell": false,
   "toc_position": {
    "height": "587.2px",
    "left": "30px",
    "top": "92px",
    "width": "340.511px"
   },
   "toc_section_display": true,
   "toc_window_display": true
  }
 },
 "nbformat": 4,
 "nbformat_minor": 4
}
