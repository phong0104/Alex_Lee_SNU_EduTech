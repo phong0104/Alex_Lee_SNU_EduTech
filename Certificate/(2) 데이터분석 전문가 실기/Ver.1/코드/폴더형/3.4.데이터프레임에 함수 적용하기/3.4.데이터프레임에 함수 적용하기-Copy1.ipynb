{
 "cells": [
  {
   "cell_type": "markdown",
   "metadata": {},
   "source": [
    "## 데이터프레임에 함수 적용하기 \n"
   ]
  },
  {
   "cell_type": "markdown",
   "metadata": {},
   "source": [
    "### 데이터 핸들링 실전 연습 "
   ]
  },
  {
   "cell_type": "code",
   "execution_count": 1,
   "metadata": {},
   "outputs": [],
   "source": [
    "import pandas as pd\n",
    "import numpy as np"
   ]
  },
  {
   "cell_type": "code",
   "execution_count": 2,
   "metadata": {},
   "outputs": [],
   "source": [
    "df_off = pd.read_csv('../../data/6.세종시_오피스텔(매매)_실거래가.csv')\n",
    "df_apt= pd.read_csv('../../data/7.세종시_아파트(전월세)_실거래가.csv')"
   ]
  },
  {
   "cell_type": "code",
   "execution_count": 3,
   "metadata": {},
   "outputs": [
    {
     "data": {
      "text/html": [
       "<div>\n",
       "<style scoped>\n",
       "    .dataframe tbody tr th:only-of-type {\n",
       "        vertical-align: middle;\n",
       "    }\n",
       "\n",
       "    .dataframe tbody tr th {\n",
       "        vertical-align: top;\n",
       "    }\n",
       "\n",
       "    .dataframe thead th {\n",
       "        text-align: right;\n",
       "    }\n",
       "</style>\n",
       "<table border=\"1\" class=\"dataframe\">\n",
       "  <thead>\n",
       "    <tr style=\"text-align: right;\">\n",
       "      <th></th>\n",
       "      <th>계약년월</th>\n",
       "      <th>계약일</th>\n",
       "      <th>시군구</th>\n",
       "      <th>본번</th>\n",
       "      <th>부번</th>\n",
       "      <th>단지명</th>\n",
       "      <th>전용면적(㎡)</th>\n",
       "      <th>거래금액(만원)</th>\n",
       "      <th>층</th>\n",
       "      <th>건축년도</th>\n",
       "      <th>해제사유발생일</th>\n",
       "    </tr>\n",
       "  </thead>\n",
       "  <tbody>\n",
       "    <tr>\n",
       "      <th>0</th>\n",
       "      <td>201701</td>\n",
       "      <td>4</td>\n",
       "      <td>세종특별자치시 어진동</td>\n",
       "      <td>0</td>\n",
       "      <td>0</td>\n",
       "      <td>푸르지오시티</td>\n",
       "      <td>23.74</td>\n",
       "      <td>9,000</td>\n",
       "      <td>14</td>\n",
       "      <td>2014</td>\n",
       "      <td>NaN</td>\n",
       "    </tr>\n",
       "    <tr>\n",
       "      <th>1</th>\n",
       "      <td>201701</td>\n",
       "      <td>6</td>\n",
       "      <td>세종특별자치시 어진동</td>\n",
       "      <td>0</td>\n",
       "      <td>0</td>\n",
       "      <td>푸르지오시티</td>\n",
       "      <td>23.74</td>\n",
       "      <td>9,500</td>\n",
       "      <td>11</td>\n",
       "      <td>2014</td>\n",
       "      <td>NaN</td>\n",
       "    </tr>\n",
       "    <tr>\n",
       "      <th>2</th>\n",
       "      <td>201702</td>\n",
       "      <td>5</td>\n",
       "      <td>세종특별자치시 나성동</td>\n",
       "      <td>713</td>\n",
       "      <td>0</td>\n",
       "      <td>세진이너스빌</td>\n",
       "      <td>34.15</td>\n",
       "      <td>13,000</td>\n",
       "      <td>8</td>\n",
       "      <td>2013</td>\n",
       "      <td>NaN</td>\n",
       "    </tr>\n",
       "    <tr>\n",
       "      <th>3</th>\n",
       "      <td>201702</td>\n",
       "      <td>7</td>\n",
       "      <td>세종특별자치시 어진동</td>\n",
       "      <td>0</td>\n",
       "      <td>0</td>\n",
       "      <td>푸르지오시티</td>\n",
       "      <td>23.74</td>\n",
       "      <td>9,500</td>\n",
       "      <td>4</td>\n",
       "      <td>2014</td>\n",
       "      <td>NaN</td>\n",
       "    </tr>\n",
       "    <tr>\n",
       "      <th>4</th>\n",
       "      <td>201702</td>\n",
       "      <td>7</td>\n",
       "      <td>세종특별자치시 어진동</td>\n",
       "      <td>0</td>\n",
       "      <td>0</td>\n",
       "      <td>푸르지오시티</td>\n",
       "      <td>23.74</td>\n",
       "      <td>9,000</td>\n",
       "      <td>4</td>\n",
       "      <td>2014</td>\n",
       "      <td>NaN</td>\n",
       "    </tr>\n",
       "  </tbody>\n",
       "</table>\n",
       "</div>"
      ],
      "text/plain": [
       "     계약년월  계약일          시군구   본번  부번     단지명  전용면적(㎡) 거래금액(만원)   층  건축년도  \\\n",
       "0  201701    4  세종특별자치시 어진동    0   0  푸르지오시티    23.74    9,000  14  2014   \n",
       "1  201701    6  세종특별자치시 어진동    0   0  푸르지오시티    23.74    9,500  11  2014   \n",
       "2  201702    5  세종특별자치시 나성동  713   0  세진이너스빌    34.15   13,000   8  2013   \n",
       "3  201702    7  세종특별자치시 어진동    0   0  푸르지오시티    23.74    9,500   4  2014   \n",
       "4  201702    7  세종특별자치시 어진동    0   0  푸르지오시티    23.74    9,000   4  2014   \n",
       "\n",
       "   해제사유발생일  \n",
       "0      NaN  \n",
       "1      NaN  \n",
       "2      NaN  \n",
       "3      NaN  \n",
       "4      NaN  "
      ]
     },
     "execution_count": 3,
     "metadata": {},
     "output_type": "execute_result"
    }
   ],
   "source": [
    "df_off.head()"
   ]
  },
  {
   "cell_type": "code",
   "execution_count": 4,
   "metadata": {},
   "outputs": [
    {
     "data": {
      "text/html": [
       "<div>\n",
       "<style scoped>\n",
       "    .dataframe tbody tr th:only-of-type {\n",
       "        vertical-align: middle;\n",
       "    }\n",
       "\n",
       "    .dataframe tbody tr th {\n",
       "        vertical-align: top;\n",
       "    }\n",
       "\n",
       "    .dataframe thead th {\n",
       "        text-align: right;\n",
       "    }\n",
       "</style>\n",
       "<table border=\"1\" class=\"dataframe\">\n",
       "  <thead>\n",
       "    <tr style=\"text-align: right;\">\n",
       "      <th></th>\n",
       "      <th>Unnamed: 0</th>\n",
       "      <th>계약년월</th>\n",
       "      <th>계약일</th>\n",
       "      <th>시군구</th>\n",
       "      <th>본번</th>\n",
       "      <th>부번</th>\n",
       "      <th>단지명</th>\n",
       "      <th>전월세구분</th>\n",
       "      <th>전용면적(㎡)</th>\n",
       "      <th>보증금(만원)</th>\n",
       "      <th>월세(만원)</th>\n",
       "      <th>층</th>\n",
       "      <th>건축년도</th>\n",
       "    </tr>\n",
       "  </thead>\n",
       "  <tbody>\n",
       "    <tr>\n",
       "      <th>0</th>\n",
       "      <td>0</td>\n",
       "      <td>201701</td>\n",
       "      <td>13</td>\n",
       "      <td>세종특별자치시 고운동</td>\n",
       "      <td>1396</td>\n",
       "      <td>0</td>\n",
       "      <td>가락마을 20단지(호반베르디움5차)</td>\n",
       "      <td>전세</td>\n",
       "      <td>84.9895</td>\n",
       "      <td>10000</td>\n",
       "      <td>0</td>\n",
       "      <td>13</td>\n",
       "      <td>2015</td>\n",
       "    </tr>\n",
       "    <tr>\n",
       "      <th>1</th>\n",
       "      <td>1</td>\n",
       "      <td>201701</td>\n",
       "      <td>14</td>\n",
       "      <td>세종특별자치시 고운동</td>\n",
       "      <td>1396</td>\n",
       "      <td>0</td>\n",
       "      <td>가락마을 20단지(호반베르디움5차)</td>\n",
       "      <td>전세</td>\n",
       "      <td>84.9895</td>\n",
       "      <td>18000</td>\n",
       "      <td>0</td>\n",
       "      <td>19</td>\n",
       "      <td>2015</td>\n",
       "    </tr>\n",
       "    <tr>\n",
       "      <th>2</th>\n",
       "      <td>2</td>\n",
       "      <td>201701</td>\n",
       "      <td>14</td>\n",
       "      <td>세종특별자치시 고운동</td>\n",
       "      <td>1396</td>\n",
       "      <td>0</td>\n",
       "      <td>가락마을 20단지(호반베르디움5차)</td>\n",
       "      <td>전세</td>\n",
       "      <td>59.8338</td>\n",
       "      <td>17000</td>\n",
       "      <td>0</td>\n",
       "      <td>10</td>\n",
       "      <td>2015</td>\n",
       "    </tr>\n",
       "    <tr>\n",
       "      <th>3</th>\n",
       "      <td>3</td>\n",
       "      <td>201701</td>\n",
       "      <td>15</td>\n",
       "      <td>세종특별자치시 고운동</td>\n",
       "      <td>1396</td>\n",
       "      <td>0</td>\n",
       "      <td>가락마을 20단지(호반베르디움5차)</td>\n",
       "      <td>전세</td>\n",
       "      <td>84.9895</td>\n",
       "      <td>17000</td>\n",
       "      <td>0</td>\n",
       "      <td>2</td>\n",
       "      <td>2015</td>\n",
       "    </tr>\n",
       "    <tr>\n",
       "      <th>4</th>\n",
       "      <td>4</td>\n",
       "      <td>201702</td>\n",
       "      <td>4</td>\n",
       "      <td>세종특별자치시 고운동</td>\n",
       "      <td>1396</td>\n",
       "      <td>0</td>\n",
       "      <td>가락마을 20단지(호반베르디움5차)</td>\n",
       "      <td>월세</td>\n",
       "      <td>84.9895</td>\n",
       "      <td>10000</td>\n",
       "      <td>30</td>\n",
       "      <td>13</td>\n",
       "      <td>2015</td>\n",
       "    </tr>\n",
       "  </tbody>\n",
       "</table>\n",
       "</div>"
      ],
      "text/plain": [
       "   Unnamed: 0    계약년월  계약일          시군구    본번  부번                  단지명 전월세구분  \\\n",
       "0           0  201701   13  세종특별자치시 고운동  1396   0  가락마을 20단지(호반베르디움5차)    전세   \n",
       "1           1  201701   14  세종특별자치시 고운동  1396   0  가락마을 20단지(호반베르디움5차)    전세   \n",
       "2           2  201701   14  세종특별자치시 고운동  1396   0  가락마을 20단지(호반베르디움5차)    전세   \n",
       "3           3  201701   15  세종특별자치시 고운동  1396   0  가락마을 20단지(호반베르디움5차)    전세   \n",
       "4           4  201702    4  세종특별자치시 고운동  1396   0  가락마을 20단지(호반베르디움5차)    월세   \n",
       "\n",
       "   전용면적(㎡)  보증금(만원)  월세(만원)   층  건축년도  \n",
       "0  84.9895    10000       0  13  2015  \n",
       "1  84.9895    18000       0  19  2015  \n",
       "2  59.8338    17000       0  10  2015  \n",
       "3  84.9895    17000       0   2  2015  \n",
       "4  84.9895    10000      30  13  2015  "
      ]
     },
     "execution_count": 4,
     "metadata": {},
     "output_type": "execute_result"
    }
   ],
   "source": [
    "df_apt.head()"
   ]
  },
  {
   "cell_type": "code",
   "execution_count": 5,
   "metadata": {
    "scrolled": true
   },
   "outputs": [
    {
     "data": {
      "text/plain": [
       "0     False\n",
       "1      True\n",
       "2     False\n",
       "3     False\n",
       "4     False\n",
       "5      True\n",
       "6     False\n",
       "7     False\n",
       "8     False\n",
       "9     False\n",
       "10    False\n",
       "11    False\n",
       "12     True\n",
       "13    False\n",
       "14    False\n",
       "15    False\n",
       "16    False\n",
       "17    False\n",
       "18    False\n",
       "19    False\n",
       "20    False\n",
       "21    False\n",
       "22    False\n",
       "23    False\n",
       "24    False\n",
       "25    False\n",
       "26    False\n",
       "27    False\n",
       "28    False\n",
       "29    False\n",
       "30    False\n",
       "31    False\n",
       "32    False\n",
       "33    False\n",
       "34    False\n",
       "35    False\n",
       "36    False\n",
       "37    False\n",
       "38    False\n",
       "39    False\n",
       "40    False\n",
       "41    False\n",
       "42     True\n",
       "43    False\n",
       "dtype: bool"
      ]
     },
     "execution_count": 5,
     "metadata": {},
     "output_type": "execute_result"
    }
   ],
   "source": [
    "pd.Series(df_off['전용면적(㎡)'].unique()).isin(pd.Series((df_apt['전용면적(㎡)'].unique())))"
   ]
  },
  {
   "cell_type": "code",
   "execution_count": 6,
   "metadata": {
    "scrolled": true
   },
   "outputs": [
    {
     "data": {
      "text/html": [
       "<div>\n",
       "<style scoped>\n",
       "    .dataframe tbody tr th:only-of-type {\n",
       "        vertical-align: middle;\n",
       "    }\n",
       "\n",
       "    .dataframe tbody tr th {\n",
       "        vertical-align: top;\n",
       "    }\n",
       "\n",
       "    .dataframe thead th {\n",
       "        text-align: right;\n",
       "    }\n",
       "</style>\n",
       "<table border=\"1\" class=\"dataframe\">\n",
       "  <thead>\n",
       "    <tr style=\"text-align: right;\">\n",
       "      <th></th>\n",
       "      <th>계약년월</th>\n",
       "      <th>전용면적(㎡)</th>\n",
       "      <th>거래금액(만원)</th>\n",
       "    </tr>\n",
       "  </thead>\n",
       "  <tbody>\n",
       "    <tr>\n",
       "      <th>0</th>\n",
       "      <td>201701</td>\n",
       "      <td>23.74</td>\n",
       "      <td>9,000</td>\n",
       "    </tr>\n",
       "    <tr>\n",
       "      <th>1</th>\n",
       "      <td>201701</td>\n",
       "      <td>23.74</td>\n",
       "      <td>9,500</td>\n",
       "    </tr>\n",
       "    <tr>\n",
       "      <th>2</th>\n",
       "      <td>201702</td>\n",
       "      <td>34.15</td>\n",
       "      <td>13,000</td>\n",
       "    </tr>\n",
       "    <tr>\n",
       "      <th>3</th>\n",
       "      <td>201702</td>\n",
       "      <td>23.74</td>\n",
       "      <td>9,500</td>\n",
       "    </tr>\n",
       "    <tr>\n",
       "      <th>4</th>\n",
       "      <td>201702</td>\n",
       "      <td>23.74</td>\n",
       "      <td>9,000</td>\n",
       "    </tr>\n",
       "    <tr>\n",
       "      <th>...</th>\n",
       "      <td>...</td>\n",
       "      <td>...</td>\n",
       "      <td>...</td>\n",
       "    </tr>\n",
       "    <tr>\n",
       "      <th>340</th>\n",
       "      <td>202012</td>\n",
       "      <td>26.18</td>\n",
       "      <td>16,410</td>\n",
       "    </tr>\n",
       "    <tr>\n",
       "      <th>341</th>\n",
       "      <td>202012</td>\n",
       "      <td>24.22</td>\n",
       "      <td>8,600</td>\n",
       "    </tr>\n",
       "    <tr>\n",
       "      <th>342</th>\n",
       "      <td>202012</td>\n",
       "      <td>26.18</td>\n",
       "      <td>15,340</td>\n",
       "    </tr>\n",
       "    <tr>\n",
       "      <th>343</th>\n",
       "      <td>202012</td>\n",
       "      <td>30.48</td>\n",
       "      <td>11,500</td>\n",
       "    </tr>\n",
       "    <tr>\n",
       "      <th>344</th>\n",
       "      <td>202012</td>\n",
       "      <td>44.84</td>\n",
       "      <td>15,600</td>\n",
       "    </tr>\n",
       "  </tbody>\n",
       "</table>\n",
       "<p>345 rows × 3 columns</p>\n",
       "</div>"
      ],
      "text/plain": [
       "       계약년월  전용면적(㎡) 거래금액(만원)\n",
       "0    201701    23.74    9,000\n",
       "1    201701    23.74    9,500\n",
       "2    201702    34.15   13,000\n",
       "3    201702    23.74    9,500\n",
       "4    201702    23.74    9,000\n",
       "..      ...      ...      ...\n",
       "340  202012    26.18   16,410\n",
       "341  202012    24.22    8,600\n",
       "342  202012    26.18   15,340\n",
       "343  202012    30.48   11,500\n",
       "344  202012    44.84   15,600\n",
       "\n",
       "[345 rows x 3 columns]"
      ]
     },
     "execution_count": 6,
     "metadata": {},
     "output_type": "execute_result"
    }
   ],
   "source": [
    "df_off = df_off[[\"계약년월\",\"전용면적(㎡)\",\"거래금액(만원)\"]]\n",
    "df_off"
   ]
  },
  {
   "cell_type": "code",
   "execution_count": 7,
   "metadata": {},
   "outputs": [
    {
     "name": "stdout",
     "output_type": "stream",
     "text": [
      "<class 'pandas.core.frame.DataFrame'>\n",
      "RangeIndex: 345 entries, 0 to 344\n",
      "Data columns (total 3 columns):\n",
      " #   Column    Non-Null Count  Dtype  \n",
      "---  ------    --------------  -----  \n",
      " 0   계약년월      345 non-null    int64  \n",
      " 1   전용면적(㎡)   345 non-null    float64\n",
      " 2   거래금액(만원)  345 non-null    object \n",
      "dtypes: float64(1), int64(1), object(1)\n",
      "memory usage: 8.2+ KB\n"
     ]
    }
   ],
   "source": [
    "df_off.info()"
   ]
  },
  {
   "cell_type": "code",
   "execution_count": 8,
   "metadata": {},
   "outputs": [],
   "source": [
    "df_off['거래금액(만원)'] = df_off['거래금액(만원)'].str.replace(\",\",\"\")"
   ]
  },
  {
   "cell_type": "code",
   "execution_count": 9,
   "metadata": {},
   "outputs": [],
   "source": [
    "df_off['거래금액(만원)'] = df_off['거래금액(만원)'].astype(int)"
   ]
  },
  {
   "cell_type": "code",
   "execution_count": 10,
   "metadata": {},
   "outputs": [],
   "source": [
    "df_off = df_off.groupby(['계약년월','전용면적(㎡)']).mean().reset_index()"
   ]
  },
  {
   "cell_type": "code",
   "execution_count": 11,
   "metadata": {},
   "outputs": [],
   "source": [
    "df_apt = df_apt[df_apt['전월세구분']=='전세']"
   ]
  },
  {
   "cell_type": "code",
   "execution_count": 12,
   "metadata": {},
   "outputs": [
    {
     "data": {
      "text/html": [
       "<div>\n",
       "<style scoped>\n",
       "    .dataframe tbody tr th:only-of-type {\n",
       "        vertical-align: middle;\n",
       "    }\n",
       "\n",
       "    .dataframe tbody tr th {\n",
       "        vertical-align: top;\n",
       "    }\n",
       "\n",
       "    .dataframe thead th {\n",
       "        text-align: right;\n",
       "    }\n",
       "</style>\n",
       "<table border=\"1\" class=\"dataframe\">\n",
       "  <thead>\n",
       "    <tr style=\"text-align: right;\">\n",
       "      <th></th>\n",
       "      <th>계약년월</th>\n",
       "      <th>전용면적(㎡)</th>\n",
       "      <th>보증금(만원)</th>\n",
       "    </tr>\n",
       "  </thead>\n",
       "  <tbody>\n",
       "    <tr>\n",
       "      <th>0</th>\n",
       "      <td>201701</td>\n",
       "      <td>84.9895</td>\n",
       "      <td>10000</td>\n",
       "    </tr>\n",
       "    <tr>\n",
       "      <th>1</th>\n",
       "      <td>201701</td>\n",
       "      <td>84.9895</td>\n",
       "      <td>18000</td>\n",
       "    </tr>\n",
       "    <tr>\n",
       "      <th>2</th>\n",
       "      <td>201701</td>\n",
       "      <td>59.8338</td>\n",
       "      <td>17000</td>\n",
       "    </tr>\n",
       "    <tr>\n",
       "      <th>3</th>\n",
       "      <td>201701</td>\n",
       "      <td>84.9895</td>\n",
       "      <td>17000</td>\n",
       "    </tr>\n",
       "    <tr>\n",
       "      <th>5</th>\n",
       "      <td>201702</td>\n",
       "      <td>84.9895</td>\n",
       "      <td>19000</td>\n",
       "    </tr>\n",
       "    <tr>\n",
       "      <th>...</th>\n",
       "      <td>...</td>\n",
       "      <td>...</td>\n",
       "      <td>...</td>\n",
       "    </tr>\n",
       "    <tr>\n",
       "      <th>38887</th>\n",
       "      <td>202011</td>\n",
       "      <td>102.8300</td>\n",
       "      <td>35000</td>\n",
       "    </tr>\n",
       "    <tr>\n",
       "      <th>38888</th>\n",
       "      <td>202011</td>\n",
       "      <td>84.9500</td>\n",
       "      <td>30000</td>\n",
       "    </tr>\n",
       "    <tr>\n",
       "      <th>38889</th>\n",
       "      <td>202011</td>\n",
       "      <td>84.9500</td>\n",
       "      <td>34000</td>\n",
       "    </tr>\n",
       "    <tr>\n",
       "      <th>38892</th>\n",
       "      <td>202012</td>\n",
       "      <td>84.9500</td>\n",
       "      <td>30000</td>\n",
       "    </tr>\n",
       "    <tr>\n",
       "      <th>38893</th>\n",
       "      <td>202012</td>\n",
       "      <td>84.9500</td>\n",
       "      <td>34000</td>\n",
       "    </tr>\n",
       "  </tbody>\n",
       "</table>\n",
       "<p>26935 rows × 3 columns</p>\n",
       "</div>"
      ],
      "text/plain": [
       "         계약년월   전용면적(㎡)  보증금(만원)\n",
       "0      201701   84.9895    10000\n",
       "1      201701   84.9895    18000\n",
       "2      201701   59.8338    17000\n",
       "3      201701   84.9895    17000\n",
       "5      201702   84.9895    19000\n",
       "...       ...       ...      ...\n",
       "38887  202011  102.8300    35000\n",
       "38888  202011   84.9500    30000\n",
       "38889  202011   84.9500    34000\n",
       "38892  202012   84.9500    30000\n",
       "38893  202012   84.9500    34000\n",
       "\n",
       "[26935 rows x 3 columns]"
      ]
     },
     "execution_count": 12,
     "metadata": {},
     "output_type": "execute_result"
    }
   ],
   "source": [
    "df_apt = df_apt[[\"계약년월\",\"전용면적(㎡)\",\"보증금(만원)\"]]\n",
    "df_apt"
   ]
  },
  {
   "cell_type": "code",
   "execution_count": 13,
   "metadata": {},
   "outputs": [
    {
     "name": "stdout",
     "output_type": "stream",
     "text": [
      "<class 'pandas.core.frame.DataFrame'>\n",
      "Int64Index: 26935 entries, 0 to 38893\n",
      "Data columns (total 3 columns):\n",
      " #   Column   Non-Null Count  Dtype  \n",
      "---  ------   --------------  -----  \n",
      " 0   계약년월     26935 non-null  int64  \n",
      " 1   전용면적(㎡)  26935 non-null  float64\n",
      " 2   보증금(만원)  26935 non-null  int64  \n",
      "dtypes: float64(1), int64(2)\n",
      "memory usage: 841.7 KB\n"
     ]
    }
   ],
   "source": [
    "df_apt.groupby"
   ]
  },
  {
   "cell_type": "code",
   "execution_count": 9,
   "metadata": {
    "scrolled": true
   },
   "outputs": [
    {
     "data": {
      "text/html": [
       "<div>\n",
       "<style scoped>\n",
       "    .dataframe tbody tr th:only-of-type {\n",
       "        vertical-align: middle;\n",
       "    }\n",
       "\n",
       "    .dataframe tbody tr th {\n",
       "        vertical-align: top;\n",
       "    }\n",
       "\n",
       "    .dataframe thead th {\n",
       "        text-align: right;\n",
       "    }\n",
       "</style>\n",
       "<table border=\"1\" class=\"dataframe\">\n",
       "  <thead>\n",
       "    <tr style=\"text-align: right;\">\n",
       "      <th></th>\n",
       "      <th>계약년월</th>\n",
       "      <th>전용면적(㎡)</th>\n",
       "      <th>거래금액(만원)</th>\n",
       "      <th>보증금(만원)</th>\n",
       "    </tr>\n",
       "  </thead>\n",
       "  <tbody>\n",
       "    <tr>\n",
       "      <th>0</th>\n",
       "      <td>202011</td>\n",
       "      <td>24.12</td>\n",
       "      <td>8,200</td>\n",
       "      <td>8925</td>\n",
       "    </tr>\n",
       "    <tr>\n",
       "      <th>1</th>\n",
       "      <td>202011</td>\n",
       "      <td>24.12</td>\n",
       "      <td>8,200</td>\n",
       "      <td>10500</td>\n",
       "    </tr>\n",
       "    <tr>\n",
       "      <th>2</th>\n",
       "      <td>202011</td>\n",
       "      <td>24.12</td>\n",
       "      <td>8,200</td>\n",
       "      <td>10000</td>\n",
       "    </tr>\n",
       "  </tbody>\n",
       "</table>\n",
       "</div>"
      ],
      "text/plain": [
       "     계약년월  전용면적(㎡) 거래금액(만원)  보증금(만원)\n",
       "0  202011    24.12    8,200     8925\n",
       "1  202011    24.12    8,200    10500\n",
       "2  202011    24.12    8,200    10000"
      ]
     },
     "execution_count": 9,
     "metadata": {},
     "output_type": "execute_result"
    }
   ],
   "source": [
    "pd.merge(df_off,df_apt,how=\"inner\",on=[\"계약년월\",\"전용면적(㎡)\"])"
   ]
  },
  {
   "cell_type": "code",
   "execution_count": 10,
   "metadata": {
    "scrolled": true
   },
   "outputs": [
    {
     "ename": "NameError",
     "evalue": "name 'df_sejong' is not defined",
     "output_type": "error",
     "traceback": [
      "\u001b[1;31m---------------------------------------------------------------------------\u001b[0m",
      "\u001b[1;31mNameError\u001b[0m                                 Traceback (most recent call last)",
      "\u001b[1;32m~\\AppData\\Local\\Temp/ipykernel_15632/2781370848.py\u001b[0m in \u001b[0;36m<module>\u001b[1;34m\u001b[0m\n\u001b[1;32m----> 1\u001b[1;33m \u001b[0mdf_sejong\u001b[0m\u001b[1;33m[\u001b[0m\u001b[1;33m[\u001b[0m\u001b[1;34m'전용면적(㎡)'\u001b[0m\u001b[1;33m,\u001b[0m\u001b[1;34m'보증금(만원)'\u001b[0m\u001b[1;33m]\u001b[0m\u001b[1;33m]\u001b[0m\u001b[1;33m\u001b[0m\u001b[1;33m\u001b[0m\u001b[0m\n\u001b[0m",
      "\u001b[1;31mNameError\u001b[0m: name 'df_sejong' is not defined"
     ]
    }
   ],
   "source": [
    "df_sejong[['전용면적(㎡)','보증금(만원)']]"
   ]
  },
  {
   "cell_type": "markdown",
   "metadata": {},
   "source": [
    "### 행 또는 열 방향으로 주어진 함수를 한 번에 적용 : apply \n"
   ]
  },
  {
   "cell_type": "code",
   "execution_count": null,
   "metadata": {},
   "outputs": [],
   "source": [
    "df_sejong.loc[0,'전용면적(㎡)'] = 11000"
   ]
  },
  {
   "cell_type": "code",
   "execution_count": null,
   "metadata": {},
   "outputs": [],
   "source": [
    "df_sejong[['전용면적(㎡)','보증금(만원)']]"
   ]
  },
  {
   "cell_type": "code",
   "execution_count": null,
   "metadata": {},
   "outputs": [],
   "source": [
    "df_sejong['new_col'] = df_sejong[df_sejong['전용면적(㎡)'] < df_sejong['보증금(만원)']]['보증금(만원)']"
   ]
  },
  {
   "cell_type": "code",
   "execution_count": null,
   "metadata": {},
   "outputs": [],
   "source": [
    "non_index = df_sejong[df_sejong['전용면적(㎡)'] >= df_sejong['보증금(만원)']]['보증금(만원)'].index"
   ]
  },
  {
   "cell_type": "code",
   "execution_count": null,
   "metadata": {},
   "outputs": [],
   "source": [
    "df_sejong.loc[non_index,'new_col'] = df_sejong[df_sejong['전용면적(㎡)'] >= df_sejong['보증금(만원)']]['전용면적(㎡)']"
   ]
  },
  {
   "cell_type": "code",
   "execution_count": null,
   "metadata": {},
   "outputs": [],
   "source": [
    "df_sejong"
   ]
  },
  {
   "cell_type": "code",
   "execution_count": null,
   "metadata": {},
   "outputs": [],
   "source": [
    "## 열 방향일때는 그냥 집계함수를 쓰면 되지만 행방향 비교일 때는 apply가 훨씬 편하다 \n",
    "df_sejong[['전용면적(㎡)','보증금(만원)']].apply(np.max,axis= 1)"
   ]
  },
  {
   "cell_type": "markdown",
   "metadata": {},
   "source": [
    "### 데이터 내부 각 요소를 처리하는 함수 만들기 \n",
    "    data['col_name'] = data['col_name'].map(lambda x:x.func(), na_action = 'ignore') \n",
    "    \n",
    "    세부 설명 \n",
    "    1) lambda는 간단한 함수 개념 \n",
    "    2) map(lambda)를 사용할 때에는 시리즈 형식이어야 함 . \n",
    "    3) map은 원소 접근이어햐 함 (시리즈)  1:1 매핑  대체 원소 -> 원소.func()  \n",
    "   "
   ]
  },
  {
   "cell_type": "code",
   "execution_count": null,
   "metadata": {},
   "outputs": [],
   "source": [
    "## lambda는 간단한 함수 개념\n",
    "temp_list = [1,2,3,4,5]\n",
    "list(map(lambda x : x*10 , temp_list))"
   ]
  },
  {
   "cell_type": "code",
   "execution_count": null,
   "metadata": {
    "scrolled": true
   },
   "outputs": [],
   "source": [
    "df_sejong['시군구'].str.split(\" \",expand=True)[1]"
   ]
  },
  {
   "cell_type": "code",
   "execution_count": null,
   "metadata": {},
   "outputs": [],
   "source": [
    "df_sejong['시군구'].str.split(' ',expand =True)[1]"
   ]
  },
  {
   "cell_type": "code",
   "execution_count": null,
   "metadata": {},
   "outputs": [],
   "source": [
    "df_sejong['시군구'].map(lambda x : x.split(' ')[1] )"
   ]
  },
  {
   "cell_type": "code",
   "execution_count": null,
   "metadata": {},
   "outputs": [],
   "source": [
    "df_sejong['시군구'].map(lambda x : x.split(\" \")[1])"
   ]
  },
  {
   "cell_type": "code",
   "execution_count": null,
   "metadata": {},
   "outputs": [],
   "source": [
    "## map(lambda)는 원소 접근이므로 str.split이 아닌, split을 써야함 \n",
    "## 판다스 접근과는 다르게 문자열 자체에 대한 접근임을 잊으면 안됨!! \n",
    "a = \"세종특별자치시 고운동\"\n",
    "a.split(\" \")"
   ]
  },
  {
   "cell_type": "code",
   "execution_count": null,
   "metadata": {
    "scrolled": true
   },
   "outputs": [],
   "source": [
    "df_sejong['계약년월']"
   ]
  },
  {
   "cell_type": "code",
   "execution_count": null,
   "metadata": {},
   "outputs": [],
   "source": [
    "df_sejong['계약년월'].astype(str).str[0:4]"
   ]
  },
  {
   "cell_type": "code",
   "execution_count": null,
   "metadata": {
    "scrolled": true
   },
   "outputs": [],
   "source": [
    "df_sejong['계약년월'].map(lambda x : str(x)[0:4]) "
   ]
  },
  {
   "cell_type": "code",
   "execution_count": null,
   "metadata": {},
   "outputs": [],
   "source": []
  }
 ],
 "metadata": {
  "kernelspec": {
   "display_name": "Python 3 (ipykernel)",
   "language": "python",
   "name": "python3"
  },
  "language_info": {
   "codemirror_mode": {
    "name": "ipython",
    "version": 3
   },
   "file_extension": ".py",
   "mimetype": "text/x-python",
   "name": "python",
   "nbconvert_exporter": "python",
   "pygments_lexer": "ipython3",
   "version": "3.7.10"
  },
  "toc": {
   "base_numbering": "3.4",
   "nav_menu": {},
   "number_sections": true,
   "sideBar": true,
   "skip_h1_title": false,
   "title_cell": "Table of Contents",
   "title_sidebar": "Contents",
   "toc_cell": false,
   "toc_position": {
    "height": "calc(100% - 180px)",
    "left": "10px",
    "top": "150px",
    "width": "165px"
   },
   "toc_section_display": true,
   "toc_window_display": false
  }
 },
 "nbformat": 4,
 "nbformat_minor": 4
}
