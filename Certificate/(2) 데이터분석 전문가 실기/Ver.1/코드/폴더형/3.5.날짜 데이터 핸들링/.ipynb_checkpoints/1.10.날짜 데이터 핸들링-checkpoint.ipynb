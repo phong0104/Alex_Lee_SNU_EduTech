{
 "cells": [
  {
   "cell_type": "markdown",
   "metadata": {},
   "source": [
    "-----------\n",
    "\n",
    "# 날짜 데이터 핸들링\n",
    "\n",
    "## 날짜 데이터 다루기\n",
    "\n",
    "날짜와 시간을 다루기 위해서는 <b>datetime</b> 모듈을 이용한다.\n",
    "\n",
    "<b>datetime 모듈</b>\n",
    "- 시간과 날짜를 표현하는 모듈\n",
    "\n",
    "\n",
    "<div style=\"font-weight: bold; font-size: 120%; margin-left:30px\"> \n",
    "    <table align=\"left\" margin:50 font-size: 120%>\n",
    "        <tr>\n",
    "            <td style=\"text-align: left;\">datetime.today()</td>\n",
    "            <td style=\"text-align: left;\">현재 날짜와 시간 산출</td>\n",
    "        </tr>\n",
    "        <tr>\n",
    "            <td style=\"text-align: left;\">datetime.today().year/month/day/hour</td>\n",
    "            <td style=\"text-align: left;\">현재 연도/월/일/시각 산출</td>\n",
    "        </tr>\n",
    "        <tr>\n",
    "            <td style=\"text-align: left;\">datetime.strptime('날짜 문자열', '포맷')</td>\n",
    "            <td style=\"text-align: left;\">문자열 데이터를 날짜 형식으로 변환</td>\n",
    "        </tr>\n",
    "        <tr>\n",
    "            <td style=\"text-align: left;\">datetime객체.strftime('포맷')</td>\n",
    "            <td style=\"text-align: left;\">날짜 데이터를 원하는 형식으로 변환</td>\n",
    "        </tr>\n",
    "    </table>\n",
    "</div>"
   ]
  },
  {
   "cell_type": "markdown",
   "metadata": {},
   "source": [
    "- strftime() 메서드에 사용되는 서식\n",
    "\n",
    "<div style=\"font-weight: bold; font-size: 120%; margin-left:30px\"> \n",
    "    <table align=\"left\" margin:50 font-size: 120%>\n",
    "        <tr>\n",
    "            <td>%d</td><td style=\"text-align: left;\">0을 채운 10진수 표기로 날짜를 표시</td>\n",
    "        </tr>\n",
    "        <tr>\n",
    "            <td>%m</td><td style=\"text-align: left;\">0을 채운 10진수 표기로 월을 표시</td>\n",
    "        </tr>\n",
    "        <tr>\n",
    "            <td>%y</td><td style=\"text-align: left;\">0을 채운 10진수 표기로 2자리 년도</td>\n",
    "        </tr>\n",
    "        <tr>\n",
    "            <td>%Y</td><td style=\"text-align: left;\">0을 채운 10진수 표기로 4자리 년도</td>\n",
    "        </tr>\n",
    "        <tr>\n",
    "            <td>%H</td><td style=\"text-align: left;\">0을 채운 10진수 표기로 시간 (24시간 표기)</td>\n",
    "        </tr>\n",
    "        <tr>\n",
    "            <td>%I</td><td style=\"text-align: left;\">0을 채운 10진수 표기로 시간 (12시간 표기)</td>\n",
    "        </tr>\n",
    "        <tr>\n",
    "            <td>%M</td><td style=\"text-align: left;\">0을 채운 10진수 표기로 분</td>\n",
    "        </tr>\n",
    "        <tr>\n",
    "            <td>%S</td><td style=\"text-align: left;\">0을 채운 10진수 표기로 초</td>\n",
    "        </tr>\n",
    "        <tr>\n",
    "            <td>%f</td><td style=\"text-align: left;\">0을 채운 10진수 표기로 마이크로 초 (6자리)</td>\n",
    "        </tr>\n",
    "        <tr>\n",
    "            <td>%A</td><td style=\"text-align: left;\">locale 요일</td>\n",
    "        </tr>\n",
    "        <tr>\n",
    "            <td>%a</td><td style=\"text-align: left;\">locale 요일 (단축 표기)</td>\n",
    "        </tr>\n",
    "        <tr>\n",
    "            <td>%B</td><td style=\"text-align: left;\">locale 월</td>\n",
    "        </tr>\n",
    "        <tr>\n",
    "            <td>%b</td><td style=\"text-align: left;\">locale 월 (단축 표기)</td>\n",
    "        </tr>\n",
    "        <tr>\n",
    "            <td>%j</td><td style=\"text-align: left;\">0을 채운 10진수 표기로 년 중 몇 번째 일인지 표시 </td>\n",
    "        </tr>\n",
    "        <tr>\n",
    "            <td>%U</td><td style=\"text-align: left;\">0을 채운 10진수 표기로 년중 몇 번째 주인지 표시 (일요일 시작 기준)</td>\n",
    "        </tr>\n",
    "        <tr>\n",
    "            <td>%W</td><td style=\"text-align: left;\">0을 채운 10진수 표기로 년중 몇 번째 주인지 표시 (월요일 시작 기준)</td>\n",
    "        </tr>\n",
    "    </table>\n",
    "</div>"
   ]
  },
  {
   "cell_type": "markdown",
   "metadata": {},
   "source": [
    "<b>[예제]</b>\n",
    "\n",
    "현재 날짜와 시간 데이터를 생성하고, 각각 다른 변수에 저장하여 데이터 형식을 확인하라"
   ]
  },
  {
   "cell_type": "code",
   "execution_count": 14,
   "metadata": {},
   "outputs": [
    {
     "data": {
      "text/plain": [
       "9"
      ]
     },
     "execution_count": 14,
     "metadata": {},
     "output_type": "execute_result"
    }
   ],
   "source": [
    "datetime.today().second"
   ]
  },
  {
   "cell_type": "code",
   "execution_count": 29,
   "metadata": {
    "scrolled": true
   },
   "outputs": [
    {
     "name": "stdout",
     "output_type": "stream",
     "text": [
      "today : 2021-  dwd   10  -dwd 05\n",
      "today 변수 type : <class 'str'> \n",
      "\n",
      "todaytime : 2021-10-05 20:46:18\n",
      "todaytime 변수 type : <class 'str'>\n"
     ]
    }
   ],
   "source": [
    "from datetime import datetime\n",
    "from datetime import timedelta\n",
    "\n",
    "today = datetime.today().strftime('%Y-  dwd   %m  -dwd %d')\n",
    "print(\"today :\", today)\n",
    "print(\"today 변수 type :\", type(today),'\\n')\n",
    "\n",
    "todaytime = datetime.today().strftime('%Y-%m-%d %H:%M:%S')\n",
    "print(\"todaytime :\", todaytime)\n",
    "print(\"todaytime 변수 type :\", type(todaytime))"
   ]
  },
  {
   "cell_type": "code",
   "execution_count": 34,
   "metadata": {},
   "outputs": [],
   "source": [
    "todaytime = todaytime.split(\" \")[0]"
   ]
  },
  {
   "cell_type": "markdown",
   "metadata": {},
   "source": [
    "<b>[예제]</b>\n",
    "\n",
    "문자열 데이터를 다시 날짜 형식으로 변환하자"
   ]
  },
  {
   "cell_type": "code",
   "execution_count": 35,
   "metadata": {},
   "outputs": [
    {
     "data": {
      "text/plain": [
       "datetime.datetime(2021, 10, 5, 0, 0)"
      ]
     },
     "execution_count": 35,
     "metadata": {},
     "output_type": "execute_result"
    }
   ],
   "source": [
    "datetime.strptime(todaytime, '%Y-%m-%d')"
   ]
  },
  {
   "cell_type": "markdown",
   "metadata": {},
   "source": [
    "<b>[예제]</b>\n",
    "\n",
    "현재 시간을 구하고 이를 time 변수에 저장하라\n",
    "\n",
    "현재 시간의 연/월/일/시간/요일을 구하라"
   ]
  },
  {
   "cell_type": "code",
   "execution_count": 36,
   "metadata": {},
   "outputs": [
    {
     "name": "stdout",
     "output_type": "stream",
     "text": [
      "연도 : 2021 & 2021\n",
      "월 : 10 & 10\n",
      "일 : 05 & 5\n",
      "시간 : 20 & 20\n",
      "요일 : Tuesday & 1\n"
     ]
    }
   ],
   "source": [
    "time = datetime.today()\n",
    "\n",
    "print(\"연도 :\", time.strftime('%Y'), \"&\", time.year)\n",
    "print(\"월 :\", time.strftime('%m'), \"&\", time.month)\n",
    "print(\"일 :\", time.strftime('%d'), \"&\", time.day)\n",
    "print(\"시간 :\", time.strftime('%H'), \"&\", time.hour)\n",
    "print(\"요일 :\", time.strftime('%A'), \"&\", time.weekday())"
   ]
  },
  {
   "cell_type": "markdown",
   "metadata": {},
   "source": [
    "## 날짜 데이터의 연산\n",
    "\n",
    "> datetime.timedelta(days=0, seconds=0, microseconds=0, milliseconds=0, minutes=0, hours=0, weeks=0)\n",
    "\n",
    "- 두 날짜와 시간 사이의 차이를 계산할 때 사용함\n",
    "\n",
    "<br>\n",
    "\n",
    "<b>[예제]</b>\n",
    "\n",
    "현재 날짜로부터 100일 후의 날짜를 구하라"
   ]
  },
  {
   "cell_type": "code",
   "execution_count": 39,
   "metadata": {},
   "outputs": [
    {
     "data": {
      "text/plain": [
       "datetime.timedelta(100)"
      ]
     },
     "execution_count": 39,
     "metadata": {},
     "output_type": "execute_result"
    }
   ],
   "source": [
    "timedelta(days=100)"
   ]
  },
  {
   "cell_type": "code",
   "execution_count": 40,
   "metadata": {},
   "outputs": [
    {
     "name": "stdout",
     "output_type": "stream",
     "text": [
      "2022-01-13 20:50:15.186612\n",
      "2021-06-27 20:50:15\n"
     ]
    }
   ],
   "source": [
    "from datetime import timedelta\n",
    "\n",
    "time = datetime.today()\n",
    "print(time + timedelta(days=100)) # 날짜형\n",
    "print((time - timedelta(days=100)).strftime('%Y-%m-%d %H:%M:%S')) # 문자열"
   ]
  },
  {
   "cell_type": "markdown",
   "metadata": {},
   "source": [
    "## 데이터프레임 날짜 데이터 핸들링 "
   ]
  },
  {
   "cell_type": "markdown",
   "metadata": {},
   "source": [
    "### 문자열 => 날짜데이터로 변환\n",
    "    \n",
    "      pd.to_datetime(df['컬럼명'], format = \"%Y%m%d\")"
   ]
  },
  {
   "cell_type": "code",
   "execution_count": 41,
   "metadata": {},
   "outputs": [],
   "source": [
    "import pandas as pd \n",
    "\n",
    "df = pd.read_csv(\"../data/구매내역.csv\")"
   ]
  },
  {
   "cell_type": "code",
   "execution_count": 42,
   "metadata": {},
   "outputs": [
    {
     "data": {
      "text/html": [
       "<div>\n",
       "<style scoped>\n",
       "    .dataframe tbody tr th:only-of-type {\n",
       "        vertical-align: middle;\n",
       "    }\n",
       "\n",
       "    .dataframe tbody tr th {\n",
       "        vertical-align: top;\n",
       "    }\n",
       "\n",
       "    .dataframe thead th {\n",
       "        text-align: right;\n",
       "    }\n",
       "</style>\n",
       "<table border=\"1\" class=\"dataframe\">\n",
       "  <thead>\n",
       "    <tr style=\"text-align: right;\">\n",
       "      <th></th>\n",
       "      <th>datetime</th>\n",
       "      <th>purchase</th>\n",
       "    </tr>\n",
       "  </thead>\n",
       "  <tbody>\n",
       "    <tr>\n",
       "      <th>0</th>\n",
       "      <td>20140627</td>\n",
       "      <td>30000</td>\n",
       "    </tr>\n",
       "    <tr>\n",
       "      <th>1</th>\n",
       "      <td>20140711</td>\n",
       "      <td>15000</td>\n",
       "    </tr>\n",
       "    <tr>\n",
       "      <th>2</th>\n",
       "      <td>20140707</td>\n",
       "      <td>20000</td>\n",
       "    </tr>\n",
       "    <tr>\n",
       "      <th>3</th>\n",
       "      <td>20140711</td>\n",
       "      <td>25000</td>\n",
       "    </tr>\n",
       "    <tr>\n",
       "      <th>4</th>\n",
       "      <td>20150120</td>\n",
       "      <td>30000</td>\n",
       "    </tr>\n",
       "    <tr>\n",
       "      <th>5</th>\n",
       "      <td>20140707</td>\n",
       "      <td>60000</td>\n",
       "    </tr>\n",
       "    <tr>\n",
       "      <th>6</th>\n",
       "      <td>20140708</td>\n",
       "      <td>150000</td>\n",
       "    </tr>\n",
       "    <tr>\n",
       "      <th>7</th>\n",
       "      <td>20160623</td>\n",
       "      <td>20000</td>\n",
       "    </tr>\n",
       "    <tr>\n",
       "      <th>8</th>\n",
       "      <td>20170515</td>\n",
       "      <td>265000</td>\n",
       "    </tr>\n",
       "    <tr>\n",
       "      <th>9</th>\n",
       "      <td>20140710</td>\n",
       "      <td>26800</td>\n",
       "    </tr>\n",
       "    <tr>\n",
       "      <th>10</th>\n",
       "      <td>20140704</td>\n",
       "      <td>1800</td>\n",
       "    </tr>\n",
       "    <tr>\n",
       "      <th>11</th>\n",
       "      <td>20140708</td>\n",
       "      <td>18600</td>\n",
       "    </tr>\n",
       "    <tr>\n",
       "      <th>12</th>\n",
       "      <td>20140709</td>\n",
       "      <td>15000</td>\n",
       "    </tr>\n",
       "    <tr>\n",
       "      <th>13</th>\n",
       "      <td>20140710</td>\n",
       "      <td>26050</td>\n",
       "    </tr>\n",
       "  </tbody>\n",
       "</table>\n",
       "</div>"
      ],
      "text/plain": [
       "    datetime  purchase\n",
       "0   20140627     30000\n",
       "1   20140711     15000\n",
       "2   20140707     20000\n",
       "3   20140711     25000\n",
       "4   20150120     30000\n",
       "5   20140707     60000\n",
       "6   20140708    150000\n",
       "7   20160623     20000\n",
       "8   20170515    265000\n",
       "9   20140710     26800\n",
       "10  20140704      1800\n",
       "11  20140708     18600\n",
       "12  20140709     15000\n",
       "13  20140710     26050"
      ]
     },
     "execution_count": 42,
     "metadata": {},
     "output_type": "execute_result"
    }
   ],
   "source": [
    "df_pur = df\n",
    "df_pur"
   ]
  },
  {
   "cell_type": "code",
   "execution_count": 43,
   "metadata": {},
   "outputs": [
    {
     "name": "stdout",
     "output_type": "stream",
     "text": [
      "<class 'pandas.core.frame.DataFrame'>\n",
      "RangeIndex: 14 entries, 0 to 13\n",
      "Data columns (total 2 columns):\n",
      " #   Column    Non-Null Count  Dtype\n",
      "---  ------    --------------  -----\n",
      " 0   datetime  14 non-null     int64\n",
      " 1   purchase  14 non-null     int64\n",
      "dtypes: int64(2)\n",
      "memory usage: 352.0 bytes\n"
     ]
    }
   ],
   "source": [
    "df_pur.info()"
   ]
  },
  {
   "cell_type": "code",
   "execution_count": 56,
   "metadata": {},
   "outputs": [],
   "source": [
    "## int => str 형식으로 변환 \n",
    "df_pur['datetime'] = df_pur['datetime'].astype(str)"
   ]
  },
  {
   "cell_type": "code",
   "execution_count": 58,
   "metadata": {},
   "outputs": [],
   "source": [
    "## datetime으로 형변환 \n",
    "df_pur['datetime'] = pd.to_datetime(df_pur['datetime'], format = \"%Y%m%d\")"
   ]
  },
  {
   "cell_type": "code",
   "execution_count": 24,
   "metadata": {},
   "outputs": [
    {
     "name": "stdout",
     "output_type": "stream",
     "text": [
      "<class 'pandas.core.frame.DataFrame'>\n",
      "RangeIndex: 14 entries, 0 to 13\n",
      "Data columns (total 2 columns):\n",
      " #   Column    Non-Null Count  Dtype         \n",
      "---  ------    --------------  -----         \n",
      " 0   datetime  14 non-null     datetime64[ns]\n",
      " 1   purchase  14 non-null     int64         \n",
      "dtypes: datetime64[ns](1), int64(1)\n",
      "memory usage: 352.0 bytes\n"
     ]
    }
   ],
   "source": [
    "df_pur.info()"
   ]
  },
  {
   "cell_type": "markdown",
   "metadata": {},
   "source": [
    "### 날짜데이터 => 문자열로 변환\n",
    "    timeSeries.dt.strftime(\"%Y-%m-%d\")"
   ]
  },
  {
   "cell_type": "code",
   "execution_count": 26,
   "metadata": {},
   "outputs": [
    {
     "name": "stdout",
     "output_type": "stream",
     "text": [
      "<class 'pandas.core.frame.DataFrame'>\n",
      "RangeIndex: 14 entries, 0 to 13\n",
      "Data columns (total 2 columns):\n",
      " #   Column    Non-Null Count  Dtype         \n",
      "---  ------    --------------  -----         \n",
      " 0   datetime  14 non-null     datetime64[ns]\n",
      " 1   purchase  14 non-null     int64         \n",
      "dtypes: datetime64[ns](1), int64(1)\n",
      "memory usage: 352.0 bytes\n"
     ]
    }
   ],
   "source": [
    "df.info()"
   ]
  },
  {
   "cell_type": "code",
   "execution_count": 27,
   "metadata": {},
   "outputs": [
    {
     "data": {
      "text/plain": [
       "0     2014-06-27\n",
       "1     2014-07-11\n",
       "2     2014-07-07\n",
       "3     2014-07-11\n",
       "4     2015-01-20\n",
       "5     2014-07-07\n",
       "6     2014-07-08\n",
       "7     2016-06-23\n",
       "8     2017-05-15\n",
       "9     2014-07-10\n",
       "10    2014-07-04\n",
       "11    2014-07-08\n",
       "12    2014-07-09\n",
       "13    2014-07-10\n",
       "Name: datetime, dtype: object"
      ]
     },
     "execution_count": 27,
     "metadata": {},
     "output_type": "execute_result"
    }
   ],
   "source": [
    "df['datetime'].dt.strftime(\"%Y-%m-%d\")"
   ]
  },
  {
   "cell_type": "code",
   "execution_count": 28,
   "metadata": {
    "scrolled": true
   },
   "outputs": [
    {
     "data": {
      "text/plain": [
       "0     06-27\n",
       "1     07-11\n",
       "2     07-07\n",
       "3     07-11\n",
       "4     01-20\n",
       "5     07-07\n",
       "6     07-08\n",
       "7     06-23\n",
       "8     05-15\n",
       "9     07-10\n",
       "10    07-04\n",
       "11    07-08\n",
       "12    07-09\n",
       "13    07-10\n",
       "Name: datetime, dtype: object"
      ]
     },
     "execution_count": 28,
     "metadata": {},
     "output_type": "execute_result"
    }
   ],
   "source": [
    "df['datetime'].dt.strftime(\"%m-%d\")"
   ]
  },
  {
   "cell_type": "markdown",
   "metadata": {},
   "source": [
    "### Map(lambda) 사용 "
   ]
  },
  {
   "cell_type": "code",
   "execution_count": 61,
   "metadata": {},
   "outputs": [
    {
     "name": "stdout",
     "output_type": "stream",
     "text": [
      "<class 'pandas.core.frame.DataFrame'>\n",
      "RangeIndex: 14 entries, 0 to 13\n",
      "Data columns (total 2 columns):\n",
      " #   Column    Non-Null Count  Dtype         \n",
      "---  ------    --------------  -----         \n",
      " 0   datetime  14 non-null     datetime64[ns]\n",
      " 1   purchase  14 non-null     int64         \n",
      "dtypes: datetime64[ns](1), int64(1)\n",
      "memory usage: 352.0 bytes\n"
     ]
    }
   ],
   "source": [
    "df.info()"
   ]
  },
  {
   "cell_type": "code",
   "execution_count": 73,
   "metadata": {},
   "outputs": [
    {
     "data": {
      "text/plain": [
       "0     2014\n",
       "1     2014\n",
       "2     2014\n",
       "3     2014\n",
       "4     2015\n",
       "5     2014\n",
       "6     2014\n",
       "7     2016\n",
       "8     2017\n",
       "9     2014\n",
       "10    2014\n",
       "11    2014\n",
       "12    2014\n",
       "13    2014\n",
       "Name: datetime, dtype: object"
      ]
     },
     "execution_count": 73,
     "metadata": {},
     "output_type": "execute_result"
    }
   ],
   "source": [
    "df['datetime'].map(lambda x :x.strftime(\"%Y\"))"
   ]
  },
  {
   "cell_type": "code",
   "execution_count": null,
   "metadata": {},
   "outputs": [],
   "source": []
  }
 ],
 "metadata": {
  "kernelspec": {
   "display_name": "Python 3",
   "language": "python",
   "name": "python3"
  },
  "language_info": {
   "codemirror_mode": {
    "name": "ipython",
    "version": 3
   },
   "file_extension": ".py",
   "mimetype": "text/x-python",
   "name": "python",
   "nbconvert_exporter": "python",
   "pygments_lexer": "ipython3",
   "version": "3.6.13"
  },
  "toc": {
   "base_numbering": "1.10",
   "nav_menu": {},
   "number_sections": true,
   "sideBar": true,
   "skip_h1_title": false,
   "title_cell": "Table of Contents",
   "title_sidebar": "Contents",
   "toc_cell": false,
   "toc_position": {
    "height": "calc(100% - 180px)",
    "left": "10px",
    "top": "150px",
    "width": "254px"
   },
   "toc_section_display": true,
   "toc_window_display": true
  }
 },
 "nbformat": 4,
 "nbformat_minor": 4
}
