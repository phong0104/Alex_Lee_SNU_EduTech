{
 "cells": [
  {
   "cell_type": "markdown",
   "metadata": {},
   "source": [
    "# Part 02. 데이터 전처리\n",
    "\n",
    "R에서 데이터 전처리에 사용하는 패키지인 plyr, dplyr, reshape2, data.table에 대해 학습하는 장입니다.\n",
    "\n",
    "파이썬에서 유사한 기능을 구현하기 위해 다른 패키지들을 사용합니다.\n",
    "\n",
    "<br>"
   ]
  },
  {
   "cell_type": "markdown",
   "metadata": {},
   "source": [
    "-----------\n",
    "\n",
    "## 6장. 날짜 데이터 전처리\n",
    "\n",
    "<p style='color:#726a77; text-align:right'>양여진 작성</p>\n",
    "\n",
    "### 1절. 날짜 데이터 다루기\n",
    "\n",
    "날짜와 시간을 다루기 위해서는 <b>datetime</b> 모듈을 이용한다.\n",
    "\n",
    "##### datetime 모듈\n",
    "- 시간과 날짜를 표현하는 모듈\n",
    "\n",
    "\n",
    "<div style=\"font-weight: bold; font-size: 120%; margin-left:30px\"> \n",
    "    <table align=\"left\" margin:50 font-size: 120%>\n",
    "        <tr>\n",
    "            <td style=\"text-align: left;\">datetime.today()</td>\n",
    "            <td style=\"text-align: left;\">현재 날짜와 시간 산출</td>\n",
    "        </tr>\n",
    "        <tr>\n",
    "            <td style=\"text-align: left;\">datetime.today().year/month/day/hour</td>\n",
    "            <td style=\"text-align: left;\">현재 연도/월/일/시각 산출</td>\n",
    "        </tr>\n",
    "        <tr>\n",
    "            <td style=\"text-align: left;\">datetime.strptime('날짜 문자열', '포맷')</td>\n",
    "            <td style=\"text-align: left;\">문자열 데이터를 날짜 형식으로 변환</td>\n",
    "        </tr>\n",
    "        <tr>\n",
    "            <td style=\"text-align: left;\">datetime객체.strftime('포맷')</td>\n",
    "            <td style=\"text-align: left;\">날짜 데이터를 원하는 형식으로 변환</td>\n",
    "        </tr>\n",
    "    </table>\n",
    "</div>"
   ]
  },
  {
   "cell_type": "markdown",
   "metadata": {},
   "source": [
    "- strftime() 메서드에 사용되는 서식\n",
    "\n",
    "<div style=\"font-weight: bold; font-size: 120%; margin-left:30px\"> \n",
    "    <table align=\"left\" margin:50 font-size: 120%>\n",
    "        <tr>\n",
    "            <td>%d</td><td style=\"text-align: left;\">0을 채운 10진수 표기로 날짜를 표시</td>\n",
    "        </tr>\n",
    "        <tr>\n",
    "            <td>%m</td><td style=\"text-align: left;\">0을 채운 10진수 표기로 월을 표시</td>\n",
    "        </tr>\n",
    "        <tr>\n",
    "            <td>%y</td><td style=\"text-align: left;\">0을 채운 10진수 표기로 2자리 년도</td>\n",
    "        </tr>\n",
    "        <tr>\n",
    "            <td>%Y</td><td style=\"text-align: left;\">0을 채운 10진수 표기로 4자리 년도</td>\n",
    "        </tr>\n",
    "        <tr>\n",
    "            <td>%H</td><td style=\"text-align: left;\">0을 채운 10진수 표기로 시간 (24시간 표기)</td>\n",
    "        </tr>\n",
    "        <tr>\n",
    "            <td>%I</td><td style=\"text-align: left;\">0을 채운 10진수 표기로 시간 (12시간 표기)</td>\n",
    "        </tr>\n",
    "        <tr>\n",
    "            <td>%M</td><td style=\"text-align: left;\">0을 채운 10진수 표기로 분</td>\n",
    "        </tr>\n",
    "        <tr>\n",
    "            <td>%S</td><td style=\"text-align: left;\">0을 채운 10진수 표기로 초</td>\n",
    "        </tr>\n",
    "        <tr>\n",
    "            <td>%f</td><td style=\"text-align: left;\">0을 채운 10진수 표기로 마이크로 초 (6자리)</td>\n",
    "        </tr>\n",
    "        <tr>\n",
    "            <td>%A</td><td style=\"text-align: left;\">locale 요일</td>\n",
    "        </tr>\n",
    "        <tr>\n",
    "            <td>%a</td><td style=\"text-align: left;\">locale 요일 (단축 표기)</td>\n",
    "        </tr>\n",
    "        <tr>\n",
    "            <td>%B</td><td style=\"text-align: left;\">locale 월</td>\n",
    "        </tr>\n",
    "        <tr>\n",
    "            <td>%b</td><td style=\"text-align: left;\">locale 월 (단축 표기)</td>\n",
    "        </tr>\n",
    "        <tr>\n",
    "            <td>%j</td><td style=\"text-align: left;\">0을 채운 10진수 표기로 년 중 몇 번째 일인지 표시 </td>\n",
    "        </tr>\n",
    "        <tr>\n",
    "            <td>%U</td><td style=\"text-align: left;\">0을 채운 10진수 표기로 년중 몇 번째 주인지 표시 (일요일 시작 기준)</td>\n",
    "        </tr>\n",
    "        <tr>\n",
    "            <td>%W</td><td style=\"text-align: left;\">0을 채운 10진수 표기로 년중 몇 번째 주인지 표시 (월요일 시작 기준)</td>\n",
    "        </tr>\n",
    "    </table>\n",
    "</div>"
   ]
  },
  {
   "cell_type": "markdown",
   "metadata": {},
   "source": [
    "<b>[예제]</b>\n",
    "\n",
    "현재 날짜와 시간 데이터를 생성하고, 각각 다른 변수에 저장하여 데이터 형식을 확인하라"
   ]
  },
  {
   "cell_type": "code",
   "execution_count": 1,
   "metadata": {},
   "outputs": [
    {
     "name": "stdout",
     "output_type": "stream",
     "text": [
      "today : 2021-01-25\n",
      "today 변수 type : <class 'str'> \n",
      "\n",
      "todaytime : 2021-01-25 20:25:41\n",
      "todaytime 변수 type : <class 'str'>\n"
     ]
    }
   ],
   "source": [
    "from datetime import datetime\n",
    "\n",
    "today = datetime.today().strftime('%Y-%m-%d')\n",
    "print(\"today :\", today)\n",
    "print(\"today 변수 type :\", type(today),'\\n')\n",
    "\n",
    "todaytime = datetime.today().strftime('%Y-%m-%d %H:%M:%S')\n",
    "print(\"todaytime :\", todaytime)\n",
    "print(\"todaytime 변수 type :\", type(todaytime))"
   ]
  },
  {
   "cell_type": "markdown",
   "metadata": {},
   "source": [
    "<b>[예제]</b>\n",
    "\n",
    "문자열 데이터를 다시 날짜 형식으로 변환하자"
   ]
  },
  {
   "cell_type": "code",
   "execution_count": 2,
   "metadata": {},
   "outputs": [
    {
     "data": {
      "text/plain": [
       "datetime.datetime(2021, 1, 25, 20, 25, 41)"
      ]
     },
     "execution_count": 2,
     "metadata": {},
     "output_type": "execute_result"
    }
   ],
   "source": [
    "datetime.strptime(todaytime, '%Y-%m-%d %H:%M:%S')"
   ]
  },
  {
   "cell_type": "markdown",
   "metadata": {},
   "source": [
    "<b>[예제]</b>\n",
    "\n",
    "현재 시간을 구하고 이를 time 변수에 저장하라\n",
    "\n",
    "현재 시간의 연/월/일/시간/요일을 구하라"
   ]
  },
  {
   "cell_type": "code",
   "execution_count": 3,
   "metadata": {},
   "outputs": [
    {
     "name": "stdout",
     "output_type": "stream",
     "text": [
      "연도 : 2021 & 2021\n",
      "월 : 01 & 1\n",
      "일 : 25 & 25\n",
      "시간 : 20 & 20\n",
      "요일 : Monday & 0\n"
     ]
    }
   ],
   "source": [
    "time = datetime.today()\n",
    "\n",
    "print(\"연도 :\", time.strftime('%Y'), \"&\", time.year)\n",
    "print(\"월 :\", time.strftime('%m'), \"&\", time.month)\n",
    "print(\"일 :\", time.strftime('%d'), \"&\", time.day)\n",
    "print(\"시간 :\", time.strftime('%H'), \"&\", time.hour)\n",
    "print(\"요일 :\", time.strftime('%A'), \"&\", time.weekday())"
   ]
  },
  {
   "cell_type": "markdown",
   "metadata": {},
   "source": [
    "#### 날짜 데이터의 연산\n",
    "\n",
    "> datetime.timedelta(days=0, seconds=0, microseconds=0, milliseconds=0, minutes=0, hours=0, weeks=0)\n",
    "\n",
    "- 두 날짜와 시간 사이의 차이를 계산할 때 사용함\n",
    "\n",
    "<br>\n",
    "\n",
    "<b>[예제]</b>\n",
    "\n",
    "현재 날짜로부터 100일 후의 날짜를 구하라"
   ]
  },
  {
   "cell_type": "code",
   "execution_count": 5,
   "metadata": {},
   "outputs": [
    {
     "name": "stdout",
     "output_type": "stream",
     "text": [
      "2021-05-05 20:25:50.283565\n",
      "2020-10-17 20:25:50\n"
     ]
    }
   ],
   "source": [
    "from datetime import timedelta\n",
    "\n",
    "time = datetime.today()\n",
    "print(time + timedelta(days=100)) # 날짜형\n",
    "print((time - timedelta(days=100)).strftime('%Y-%m-%d %H:%M:%S')) # 문자열"
   ]
  },
  {
   "cell_type": "code",
   "execution_count": null,
   "metadata": {},
   "outputs": [],
   "source": [
    "## 필요하면 판다스 데이터프레임 추가 "
   ]
  }
 ],
 "metadata": {
  "kernelspec": {
   "display_name": "Python 3",
   "language": "python",
   "name": "python3"
  },
  "language_info": {
   "codemirror_mode": {
    "name": "ipython",
    "version": 3
   },
   "file_extension": ".py",
   "mimetype": "text/x-python",
   "name": "python",
   "nbconvert_exporter": "python",
   "pygments_lexer": "ipython3",
   "version": "3.8.3"
  }
 },
 "nbformat": 4,
 "nbformat_minor": 4
}
