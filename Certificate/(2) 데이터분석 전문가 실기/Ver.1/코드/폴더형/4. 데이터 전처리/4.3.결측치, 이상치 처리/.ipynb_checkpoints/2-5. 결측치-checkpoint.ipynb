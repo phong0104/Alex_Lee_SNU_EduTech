{
 "cells": [
  {
   "cell_type": "markdown",
   "metadata": {},
   "source": [
    "# Part 02. 데이터 전처리\n",
    "\n",
    "<br>\n",
    "\n",
    "-----------------\n",
    "\n",
    "## 5장. 결측치\n",
    "\n",
    "<p style='color:#726a77; text-align:right'>홍준호</p>\n",
    "\n",
    "### 1절. 결측치 인식\n",
    "#### 1. dataframe.isna()\n",
    "데이터의 요소가 결측치일 경우 TRUE 반환하고, 그렇지 않을 경우 FALSE 반환     \n",
    ".isna() = .isnull()\n",
    "* 변수별로 데이터의 각 행에 결측치가 있는지 확인 후 반환\n",
    "* 합을 구해 결측치의 개수를 쉽게 파악 가능\n",
    "      \n",
    "      \n",
    "#### 2. 결측치가 있는/없는 행 확인\n",
    "* na가 있는 행들 저장 : df_row_with_na = df[df.isna().any(axis=1)]\n",
    "* na가 없는 행들 저장: df_row_withou_na = df.dropna()"
   ]
  },
  {
   "cell_type": "markdown",
   "metadata": {},
   "source": [
    "__[예제 1]__    \n",
    "    \n",
    "airquality 데이터의 Ozone 변수에 대한 결측치 여부를 파악하고, 만약 결측치가 있다면 그 개수를 확인해라      \n",
    "     \n",
    "(교재에는 Ozone변수에 na가 37개 있다는데,, 파이썬에서 불러온 데이터에는 Ozone 변수에 na 없음)  \n",
    "(그래서 r에서 불러온 airquality 데이터 사용)"
   ]
  },
  {
   "cell_type": "code",
   "execution_count": 2,
   "metadata": {},
   "outputs": [
    {
     "name": "stdout",
     "output_type": "stream",
     "text": [
      "Requirement already satisfied: rpy2 in c:\\users\\administrator\\anaconda3\\envs\\adp_study\\lib\\site-packages (3.4.2)\n",
      "Requirement already satisfied: cffi>=1.10.0 in c:\\users\\administrator\\anaconda3\\envs\\adp_study\\lib\\site-packages (from rpy2) (1.14.4)\n",
      "Requirement already satisfied: jinja2 in c:\\users\\administrator\\anaconda3\\envs\\adp_study\\lib\\site-packages (from rpy2) (2.11.2)\n",
      "Requirement already satisfied: pytz in c:\\users\\administrator\\anaconda3\\envs\\adp_study\\lib\\site-packages (from rpy2) (2020.5)\n",
      "Requirement already satisfied: tzlocal in c:\\users\\administrator\\anaconda3\\envs\\adp_study\\lib\\site-packages (from rpy2) (2.1)\n",
      "Requirement already satisfied: pycparser in c:\\users\\administrator\\anaconda3\\envs\\adp_study\\lib\\site-packages (from cffi>=1.10.0->rpy2) (2.20)\n",
      "Requirement already satisfied: MarkupSafe>=0.23 in c:\\users\\administrator\\anaconda3\\envs\\adp_study\\lib\\site-packages (from jinja2->rpy2) (1.1.1)\n"
     ]
    }
   ],
   "source": [
    "##!pip install rpy2"
   ]
  },
  {
   "cell_type": "code",
   "execution_count": 3,
   "metadata": {},
   "outputs": [],
   "source": [
    "\"\"\"\n",
    "from rpy2.robjects import r, pandas2ri\n",
    "pandas2ri.activate()  \n",
    "r.data('airquality')        # r의 샘플데이터를 불러옴\n",
    "air = r['airquality']\n",
    "\"\"\""
   ]
  },
  {
   "cell_type": "code",
   "execution_count": 107,
   "metadata": {},
   "outputs": [
    {
     "name": "stdout",
     "output_type": "stream",
     "text": [
      "   Ozone  Solar.R  Wind  Temp  Month  Day\n",
      "0   41.0    190.0   7.4    67      5    1\n",
      "1   36.0    118.0   8.0    72      5    2\n",
      "2   12.0    149.0  12.6    74      5    3\n",
      "3   18.0    313.0  11.5    62      5    4\n",
      "4    NaN      NaN  14.3    56      5    5\n"
     ]
    }
   ],
   "source": [
    "air = pd.read_csv('airquality.csv')\n",
    "print(air.head())"
   ]
  },
  {
   "cell_type": "code",
   "execution_count": 47,
   "metadata": {},
   "outputs": [
    {
     "name": "stdout",
     "output_type": "stream",
     "text": [
      "0      False\n",
      "1      False\n",
      "2      False\n",
      "3      False\n",
      "4       True\n",
      "       ...  \n",
      "148    False\n",
      "149     True\n",
      "150    False\n",
      "151    False\n",
      "152    False\n",
      "Name: Ozone, Length: 153, dtype: bool\n"
     ]
    }
   ],
   "source": [
    "print(air['Ozone'].isna())  #isna()사용"
   ]
  },
  {
   "cell_type": "code",
   "execution_count": 48,
   "metadata": {},
   "outputs": [
    {
     "data": {
      "text/plain": [
       "37"
      ]
     },
     "execution_count": 48,
     "metadata": {},
     "output_type": "execute_result"
    }
   ],
   "source": [
    "# Ozone 변수에 존재하는 na의 개수 산출\n",
    "air['Ozone'].isna().sum()"
   ]
  },
  {
   "cell_type": "code",
   "execution_count": 49,
   "metadata": {},
   "outputs": [
    {
     "data": {
      "text/plain": [
       "False    116\n",
       "True      37\n",
       "Name: Ozone, dtype: int64"
      ]
     },
     "execution_count": 49,
     "metadata": {},
     "output_type": "execute_result"
    }
   ],
   "source": [
    "# Ozone 변수에서 na가 아닌 값과 na 값의 개수 비교\n",
    "import pandas as pd\n",
    "tb = pd.Series(air['Ozone'].isna()).value_counts()\n",
    "tb"
   ]
  },
  {
   "cell_type": "markdown",
   "metadata": {},
   "source": [
    "__[예제 2]__    \n",
    "    \n",
    "airquality 데이터의 모든 변수에 대해 각각 결측치가 몇 개 씩 존재하는지 확인하기"
   ]
  },
  {
   "cell_type": "code",
   "execution_count": 50,
   "metadata": {},
   "outputs": [
    {
     "data": {
      "text/plain": [
       "Ozone      37\n",
       "Solar.R     7\n",
       "Wind        0\n",
       "Temp        0\n",
       "Month       0\n",
       "Day         0\n",
       "dtype: int64"
      ]
     },
     "execution_count": 50,
     "metadata": {},
     "output_type": "execute_result"
    }
   ],
   "source": [
    "air.isna().sum()"
   ]
  },
  {
   "cell_type": "code",
   "execution_count": 51,
   "metadata": {},
   "outputs": [
    {
     "name": "stdout",
     "output_type": "stream",
     "text": [
      "0      0\n",
      "1      0\n",
      "2      0\n",
      "3      0\n",
      "4      2\n",
      "      ..\n",
      "148    0\n",
      "149    1\n",
      "150    0\n",
      "151    0\n",
      "152    0\n",
      "Length: 153, dtype: int64\n",
      "0      6\n",
      "1      6\n",
      "2      6\n",
      "3      6\n",
      "4      4\n",
      "      ..\n",
      "148    6\n",
      "149    5\n",
      "150    6\n",
      "151    6\n",
      "152    6\n",
      "Length: 153, dtype: int64\n"
     ]
    }
   ],
   "source": [
    "## 참고 ##\n",
    "# 행 단위로 결측값 개수 구하기: df.isna().sum(1) 또는 df.isnull().sum(1)\n",
    "# 행 단위로 실측값 개수 구하기: df.notna().sum(1) 또는 df.notnull().sum(1)\n",
    "print(air.isna().sum(1))\n",
    "print(air.notna().sum(1))"
   ]
  },
  {
   "cell_type": "markdown",
   "metadata": {},
   "source": [
    "__[예제 3]__    \n",
    "    \n",
    "airquality 데이터에서 결측치가 하나라도 존재하는 행들을 air_na 변수에 저장하고   \n",
    "결측치를 하나도 가지지 않는 행들을 air_com 변수에 저장하기"
   ]
  },
  {
   "cell_type": "code",
   "execution_count": 53,
   "metadata": {},
   "outputs": [
    {
     "data": {
      "text/html": [
       "<div>\n",
       "<style scoped>\n",
       "    .dataframe tbody tr th:only-of-type {\n",
       "        vertical-align: middle;\n",
       "    }\n",
       "\n",
       "    .dataframe tbody tr th {\n",
       "        vertical-align: top;\n",
       "    }\n",
       "\n",
       "    .dataframe thead th {\n",
       "        text-align: right;\n",
       "    }\n",
       "</style>\n",
       "<table border=\"1\" class=\"dataframe\">\n",
       "  <thead>\n",
       "    <tr style=\"text-align: right;\">\n",
       "      <th></th>\n",
       "      <th>Ozone</th>\n",
       "      <th>Solar.R</th>\n",
       "      <th>Wind</th>\n",
       "      <th>Temp</th>\n",
       "      <th>Month</th>\n",
       "      <th>Day</th>\n",
       "    </tr>\n",
       "  </thead>\n",
       "  <tbody>\n",
       "    <tr>\n",
       "      <th>4</th>\n",
       "      <td>NaN</td>\n",
       "      <td>NaN</td>\n",
       "      <td>14.3</td>\n",
       "      <td>56</td>\n",
       "      <td>5</td>\n",
       "      <td>5</td>\n",
       "    </tr>\n",
       "    <tr>\n",
       "      <th>5</th>\n",
       "      <td>28.0</td>\n",
       "      <td>NaN</td>\n",
       "      <td>14.9</td>\n",
       "      <td>66</td>\n",
       "      <td>5</td>\n",
       "      <td>6</td>\n",
       "    </tr>\n",
       "    <tr>\n",
       "      <th>9</th>\n",
       "      <td>NaN</td>\n",
       "      <td>194.0</td>\n",
       "      <td>8.6</td>\n",
       "      <td>69</td>\n",
       "      <td>5</td>\n",
       "      <td>10</td>\n",
       "    </tr>\n",
       "    <tr>\n",
       "      <th>10</th>\n",
       "      <td>7.0</td>\n",
       "      <td>NaN</td>\n",
       "      <td>6.9</td>\n",
       "      <td>74</td>\n",
       "      <td>5</td>\n",
       "      <td>11</td>\n",
       "    </tr>\n",
       "    <tr>\n",
       "      <th>24</th>\n",
       "      <td>NaN</td>\n",
       "      <td>66.0</td>\n",
       "      <td>16.6</td>\n",
       "      <td>57</td>\n",
       "      <td>5</td>\n",
       "      <td>25</td>\n",
       "    </tr>\n",
       "  </tbody>\n",
       "</table>\n",
       "</div>"
      ],
      "text/plain": [
       "    Ozone  Solar.R  Wind  Temp  Month  Day\n",
       "4     NaN      NaN  14.3    56      5    5\n",
       "5    28.0      NaN  14.9    66      5    6\n",
       "9     NaN    194.0   8.6    69      5   10\n",
       "10    7.0      NaN   6.9    74      5   11\n",
       "24    NaN     66.0  16.6    57      5   25"
      ]
     },
     "execution_count": 53,
     "metadata": {},
     "output_type": "execute_result"
    }
   ],
   "source": [
    "air_na = air[air.isna().any(axis=1)]\n",
    "air_na.head()"
   ]
  },
  {
   "cell_type": "code",
   "execution_count": 54,
   "metadata": {},
   "outputs": [
    {
     "data": {
      "text/html": [
       "<div>\n",
       "<style scoped>\n",
       "    .dataframe tbody tr th:only-of-type {\n",
       "        vertical-align: middle;\n",
       "    }\n",
       "\n",
       "    .dataframe tbody tr th {\n",
       "        vertical-align: top;\n",
       "    }\n",
       "\n",
       "    .dataframe thead th {\n",
       "        text-align: right;\n",
       "    }\n",
       "</style>\n",
       "<table border=\"1\" class=\"dataframe\">\n",
       "  <thead>\n",
       "    <tr style=\"text-align: right;\">\n",
       "      <th></th>\n",
       "      <th>Ozone</th>\n",
       "      <th>Solar.R</th>\n",
       "      <th>Wind</th>\n",
       "      <th>Temp</th>\n",
       "      <th>Month</th>\n",
       "      <th>Day</th>\n",
       "    </tr>\n",
       "  </thead>\n",
       "  <tbody>\n",
       "    <tr>\n",
       "      <th>0</th>\n",
       "      <td>41.0</td>\n",
       "      <td>190.0</td>\n",
       "      <td>7.4</td>\n",
       "      <td>67</td>\n",
       "      <td>5</td>\n",
       "      <td>1</td>\n",
       "    </tr>\n",
       "    <tr>\n",
       "      <th>1</th>\n",
       "      <td>36.0</td>\n",
       "      <td>118.0</td>\n",
       "      <td>8.0</td>\n",
       "      <td>72</td>\n",
       "      <td>5</td>\n",
       "      <td>2</td>\n",
       "    </tr>\n",
       "    <tr>\n",
       "      <th>2</th>\n",
       "      <td>12.0</td>\n",
       "      <td>149.0</td>\n",
       "      <td>12.6</td>\n",
       "      <td>74</td>\n",
       "      <td>5</td>\n",
       "      <td>3</td>\n",
       "    </tr>\n",
       "    <tr>\n",
       "      <th>3</th>\n",
       "      <td>18.0</td>\n",
       "      <td>313.0</td>\n",
       "      <td>11.5</td>\n",
       "      <td>62</td>\n",
       "      <td>5</td>\n",
       "      <td>4</td>\n",
       "    </tr>\n",
       "    <tr>\n",
       "      <th>6</th>\n",
       "      <td>23.0</td>\n",
       "      <td>299.0</td>\n",
       "      <td>8.6</td>\n",
       "      <td>65</td>\n",
       "      <td>5</td>\n",
       "      <td>7</td>\n",
       "    </tr>\n",
       "  </tbody>\n",
       "</table>\n",
       "</div>"
      ],
      "text/plain": [
       "   Ozone  Solar.R  Wind  Temp  Month  Day\n",
       "0   41.0    190.0   7.4    67      5    1\n",
       "1   36.0    118.0   8.0    72      5    2\n",
       "2   12.0    149.0  12.6    74      5    3\n",
       "3   18.0    313.0  11.5    62      5    4\n",
       "6   23.0    299.0   8.6    65      5    7"
      ]
     },
     "execution_count": 54,
     "metadata": {},
     "output_type": "execute_result"
    }
   ],
   "source": [
    "air_com = air.dropna()\n",
    "air_com.head()"
   ]
  },
  {
   "cell_type": "markdown",
   "metadata": {},
   "source": [
    "### 2절. 결측치 처리\n",
    "#### 1. 결측치 대치법\n",
    "<b>가.</b> 단순 대치법\n",
    "* complete analysis : 결측값이 존재하는 행 삭제\n",
    "* 평균 대치법 : 관측 또는 실험을 통해 얻어진 데이터의 평균으로 결측치 대치\n",
    "* 단순확률 대치법 : Hot-deck 방법, nearest neighbor 방법 등\n",
    "    \n",
    "<b>나.</b> 다중 대치법\n",
    "* 단순 대치법을 m번 수행해 m개의 가상적 완전 자료를 만듦\n",
    "* [대치] - [분석] - [결합] 단계"
   ]
  },
  {
   "cell_type": "markdown",
   "metadata": {},
   "source": [
    "#### 2. 결측치 제거\n",
    "* 결측치가 존재하는 행/열 제거\n",
    "   \n",
    "<div style=\"font-weight: bold; font-size: 120%; margin-left:30px\"> \n",
    "    <table align=\"left\" margin:50 font-size: 120%>\n",
    "        <tr>\n",
    "            <td style=\"text-align: left;\">데이터명.dropna()</td>\n",
    "            <td style=\"text-align: left;\">행 기준으로 결측치가 있는 행은 모두 삭제</td>\n",
    "        </tr>\n",
    "        <tr>\n",
    "            <td style=\"text-align: left;\">데이터명.dropna(axis=1)</td>\n",
    "            <td style=\"text-align: left;\">열 기준으로 결측치가 있는 열은 모두 삭제</td>\n",
    "        </tr>\n",
    "        <tr>\n",
    "            <td style=\"text-align: left;\">데이터명.dropna(how='all')</td>\n",
    "            <td style=\"text-align: left;\">행 전체가 결측값인 행만 삭제</td>\n",
    "        </tr>\n",
    "        <tr>\n",
    "            <td style=\"text-align: left;\">데이터명.dropna(thresh=2)</td>\n",
    "            <td style=\"text-align: left;\">결측치의 갯수 수치를 지정해서 임계치를 넘어가면 삭제</td>\n",
    "        </tr>\n",
    "        <tr>\n",
    "            <td style=\"text-align: left;\">데이터명.dropna(subset=['컬럼명1', '컬럼명2'])</td>\n",
    "            <td style=\"text-align: left;\">특정 컬럼 내의 결측치만 삭제</td>\n",
    "        </tr>\n",
    "        <tr>\n",
    "            <td style=\"text-align: left;\">데이터명.dropna(inplace=True)</td>\n",
    "            <td style=\"text-align: left;\">결측치 제거한 상태를 바로 적용</td>\n",
    "        </tr>\n",
    "    </table>\n",
    "</div>"
   ]
  },
  {
   "cell_type": "markdown",
   "metadata": {},
   "source": [
    "#### 3. 결측치 대치법\n",
    "* 해당 변수 값들을 특정 값으로 대치함\n",
    "<div style=\"font-weight: bold; font-size: 120%; margin-left:30px\"> \n",
    "    <table align=\"left\" margin:50 font-size: 120%>\n",
    "        <tr>\n",
    "            <td style=\"text-align: left;\">데이터명.fillna(0)</td>\n",
    "            <td style=\"text-align: left;\">결측값을 0으로 대체</td>\n",
    "        </tr>\n",
    "        <tr>\n",
    "            <td style=\"text-align: left;\">데이터명.fillna(method='ffill 또는 'pad')</td>\n",
    "            <td style=\"text-align: left;\">결측값을 앞방향으로 채워나감</td>\n",
    "        </tr>\n",
    "        <tr>\n",
    "            <td style=\"text-align: left;\">데이터명.fillna(method='bfill' 또는 'backfill')</td>\n",
    "            <td style=\"text-align: left;\">결측값을 뒷 방향으로 채워나감</td>\n",
    "        </tr>\n",
    "        <tr>\n",
    "            <td style=\"text-align: left;\">데이터명.fillna(method='ffill', limit=1)</td>\n",
    "            <td style=\"text-align: left;\">앞/뒤 방향으로 결측값을 채우는 횟수를 1번으로 제한</td>\n",
    "        </tr>\n",
    "        <tr>\n",
    "            <td style=\"text-align: left;\">데이터명.fillna(데이터명.mean())</td>\n",
    "            <td style=\"text-align: left;\">결측값을 변수별 평균으로 대체</td>\n",
    "        </tr>\n",
    "        <tr>\n",
    "            <td style=\"text-align: left;\">데이터명.dropna(inplace=True)</td>\n",
    "            <td style=\"text-align: left;\">결측치 제거한 상태를 바로 적용</td>\n",
    "        </tr>\n",
    "        <tr>\n",
    "            <td style=\"text-align: left;\">데이터명.fillna(데이터명.transform('median'))</td>\n",
    "            <td style=\"text-align: left;\">결측치를 중앙값으로 대체</td>\n",
    "        </tr>\n",
    "        <tr>\n",
    "            <td style=\"text-align: left;\">데이터명['컬럼명'].describe()['top']</td>\n",
    "            <td style=\"text-align: left;\">범주형 변수 열의 최빈값으로 결측치를 대체</td>\n",
    "        </tr>\n",
    "        <tr>\n",
    "            <td style=\"text-align: left;\">데이터명.dropna(inplace=True)</td>\n",
    "            <td style=\"text-align: left;\">결측치 제거한 상태를 바로 적용</td>\n",
    "        </tr>\n",
    "    </table>\n",
    "</div>"
   ]
  },
  {
   "cell_type": "markdown",
   "metadata": {},
   "source": [
    "__[예제]__    \n",
    "    \n",
    "airquality의 Ozone 변수값이 존재하지 않는 경우, Ozone 변수 값들의 평균으로 대치하기"
   ]
  },
  {
   "cell_type": "code",
   "execution_count": 56,
   "metadata": {},
   "outputs": [],
   "source": [
    "if air['Ozone'].isna().sum() != 0:\n",
    "    air['Ozone'] = air['Ozone'].fillna(air['Ozone'].mean())"
   ]
  },
  {
   "cell_type": "code",
   "execution_count": 58,
   "metadata": {},
   "outputs": [
    {
     "data": {
      "text/plain": [
       "153"
      ]
     },
     "execution_count": 58,
     "metadata": {},
     "output_type": "execute_result"
    }
   ],
   "source": [
    "air['Ozone'].notna().sum()"
   ]
  },
  {
   "cell_type": "markdown",
   "metadata": {},
   "source": [
    "#### 4. 사이킷런을 활용한 결측치 대치 - KNN"
   ]
  },
  {
   "cell_type": "code",
   "execution_count": 60,
   "metadata": {},
   "outputs": [
    {
     "name": "stdout",
     "output_type": "stream",
     "text": [
      "Collecting sklearn\n",
      "  Downloading sklearn-0.0.tar.gz (1.1 kB)\n",
      "Collecting scikit-learn\n",
      "  Downloading scikit_learn-0.24.1-cp38-cp38-win_amd64.whl (6.9 MB)\n",
      "Requirement already satisfied: numpy>=1.13.3 in c:\\users\\administrator\\anaconda3\\envs\\adp_study\\lib\\site-packages (from scikit-learn->sklearn) (1.19.5)\n",
      "Collecting joblib>=0.11\n",
      "  Downloading joblib-1.0.0-py3-none-any.whl (302 kB)\n",
      "Collecting scipy>=0.19.1\n",
      "  Downloading scipy-1.6.0-cp38-cp38-win_amd64.whl (32.7 MB)\n",
      "Collecting threadpoolctl>=2.0.0\n",
      "  Downloading threadpoolctl-2.1.0-py3-none-any.whl (12 kB)\n",
      "Building wheels for collected packages: sklearn\n",
      "  Building wheel for sklearn (setup.py): started\n",
      "  Building wheel for sklearn (setup.py): finished with status 'done'\n",
      "  Created wheel for sklearn: filename=sklearn-0.0-py2.py3-none-any.whl size=1316 sha256=61eb95245c439e9bc3f4eff5291862edf1c686e4802bc07a5139dd57e650123c\n",
      "  Stored in directory: c:\\users\\administrator\\appdata\\local\\pip\\cache\\wheels\\22\\0b\\40\\fd3f795caaa1fb4c6cb738bc1f56100be1e57da95849bfc897\n",
      "Successfully built sklearn\n",
      "Installing collected packages: threadpoolctl, scipy, joblib, scikit-learn, sklearn\n",
      "Successfully installed joblib-1.0.0 scikit-learn-0.24.1 scipy-1.6.0 sklearn-0.0 threadpoolctl-2.1.0\n"
     ]
    }
   ],
   "source": [
    "!pip install sklearn"
   ]
  },
  {
   "cell_type": "code",
   "execution_count": 61,
   "metadata": {},
   "outputs": [],
   "source": [
    "from sklearn.impute import KNNImputer"
   ]
  },
  {
   "cell_type": "code",
   "execution_count": 62,
   "metadata": {},
   "outputs": [],
   "source": [
    "import numpy as np\n",
    "import pandas as pd"
   ]
  },
  {
   "cell_type": "code",
   "execution_count": 65,
   "metadata": {},
   "outputs": [
    {
     "data": {
      "text/html": [
       "<div>\n",
       "<style scoped>\n",
       "    .dataframe tbody tr th:only-of-type {\n",
       "        vertical-align: middle;\n",
       "    }\n",
       "\n",
       "    .dataframe tbody tr th {\n",
       "        vertical-align: top;\n",
       "    }\n",
       "\n",
       "    .dataframe thead th {\n",
       "        text-align: right;\n",
       "    }\n",
       "</style>\n",
       "<table border=\"1\" class=\"dataframe\">\n",
       "  <thead>\n",
       "    <tr style=\"text-align: right;\">\n",
       "      <th></th>\n",
       "      <th>0</th>\n",
       "      <th>1</th>\n",
       "      <th>2</th>\n",
       "      <th>3</th>\n",
       "      <th>4</th>\n",
       "      <th>5</th>\n",
       "    </tr>\n",
       "  </thead>\n",
       "  <tbody>\n",
       "    <tr>\n",
       "      <th>0</th>\n",
       "      <td>41.0</td>\n",
       "      <td>190.0</td>\n",
       "      <td>7.4</td>\n",
       "      <td>67.0</td>\n",
       "      <td>5.0</td>\n",
       "      <td>1.0</td>\n",
       "    </tr>\n",
       "    <tr>\n",
       "      <th>1</th>\n",
       "      <td>36.0</td>\n",
       "      <td>118.0</td>\n",
       "      <td>8.0</td>\n",
       "      <td>72.0</td>\n",
       "      <td>5.0</td>\n",
       "      <td>2.0</td>\n",
       "    </tr>\n",
       "    <tr>\n",
       "      <th>2</th>\n",
       "      <td>12.0</td>\n",
       "      <td>149.0</td>\n",
       "      <td>12.6</td>\n",
       "      <td>74.0</td>\n",
       "      <td>5.0</td>\n",
       "      <td>3.0</td>\n",
       "    </tr>\n",
       "    <tr>\n",
       "      <th>3</th>\n",
       "      <td>18.0</td>\n",
       "      <td>313.0</td>\n",
       "      <td>11.5</td>\n",
       "      <td>62.0</td>\n",
       "      <td>5.0</td>\n",
       "      <td>4.0</td>\n",
       "    </tr>\n",
       "    <tr>\n",
       "      <th>4</th>\n",
       "      <td>18.5</td>\n",
       "      <td>206.0</td>\n",
       "      <td>14.3</td>\n",
       "      <td>56.0</td>\n",
       "      <td>5.0</td>\n",
       "      <td>5.0</td>\n",
       "    </tr>\n",
       "  </tbody>\n",
       "</table>\n",
       "</div>"
      ],
      "text/plain": [
       "      0      1     2     3    4    5\n",
       "0  41.0  190.0   7.4  67.0  5.0  1.0\n",
       "1  36.0  118.0   8.0  72.0  5.0  2.0\n",
       "2  12.0  149.0  12.6  74.0  5.0  3.0\n",
       "3  18.0  313.0  11.5  62.0  5.0  4.0\n",
       "4  18.5  206.0  14.3  56.0  5.0  5.0"
      ]
     },
     "execution_count": 65,
     "metadata": {},
     "output_type": "execute_result"
    }
   ],
   "source": [
    "air = pd.read_csv('airquality.csv')\n",
    "imputer = KNNImputer(n_neighbors=2)\n",
    "air_filled = imputer.fit_transform(air)\n",
    "air_filled = pd.DataFrame(air_filled)\n",
    "air_filled.head()"
   ]
  },
  {
   "cell_type": "markdown",
   "metadata": {},
   "source": [
    "### 3절. 이상치 인식\n",
    "#### 1. 사분위수\n",
    "* 데이터명.describe()\n",
    "    * 결측치가 아닌 데이터행의 개수\n",
    "    * 평균/표준편차\n",
    "    * 최소/최댓값\n",
    "    * Q1, Q2, Q3 나타내줌\n",
    "* IQR을 이용한 이상치 탐색 : 함수 생성\n",
    "![python image2](https://blog.kakaocdn.net/dn/cAqc6V/btqyQLiddUd/iXQVu1nYTo2rx3Q8xZBqy0/img.png)"
   ]
  },
  {
   "cell_type": "code",
   "execution_count": 115,
   "metadata": {},
   "outputs": [
    {
     "data": {
      "image/png": "[encoded data removed]",
      "text/plain": [
       "<Figure size 432x288 with 1 Axes>"
      ]
     },
     "metadata": {
      "needs_background": "light"
     },
     "output_type": "display_data"
    }
   ],
   "source": [
    "# Ozone 변수에서 이상치를 박스플롯으로 확인\n",
    "import seaborn as sns\n",
    "import matplotlib.pyplot as plt\n",
    "\n",
    "sns.boxplot(x='Ozone', data=air)\n",
    "plt.show()"
   ]
  },
  {
   "cell_type": "code",
   "execution_count": 119,
   "metadata": {},
   "outputs": [],
   "source": [
    "# IQR 을 이용한 이상치 탐색 함수\n",
    "\n",
    "def detect_outliers(df=None, column=None, weight=1.5):\n",
    "    Q1 = df[column].quantile(0.25)\n",
    "    Q3 = df[column].quantile(0.75)\n",
    "    \n",
    "    IQR = Q3 - Q1\n",
    "    IQR_weight = IQR*weight\n",
    "    \n",
    "    outlier_idx = df[(df[column] < Q1 - IQR_weight) | (df[column] > Q3 + IQR_weight)].index\n",
    "    \n",
    "    return outlier_idx"
   ]
  },
  {
   "cell_type": "code",
   "execution_count": 120,
   "metadata": {},
   "outputs": [],
   "source": [
    "Outliers_to_drop = detect_outliers(df=air, column='Ozone', weight=1.5)"
   ]
  },
  {
   "cell_type": "code",
   "execution_count": 123,
   "metadata": {},
   "outputs": [
    {
     "data": {
      "text/plain": [
       "Int64Index([61, 116], dtype='int64')"
      ]
     },
     "execution_count": 123,
     "metadata": {},
     "output_type": "execute_result"
    }
   ],
   "source": [
    "# IQR로 이상치를 찾아 인덱스 저장\n",
    "Outliers_to_drop"
   ]
  },
  {
   "cell_type": "code",
   "execution_count": 121,
   "metadata": {},
   "outputs": [
    {
     "data": {
      "text/html": [
       "<div>\n",
       "<style scoped>\n",
       "    .dataframe tbody tr th:only-of-type {\n",
       "        vertical-align: middle;\n",
       "    }\n",
       "\n",
       "    .dataframe tbody tr th {\n",
       "        vertical-align: top;\n",
       "    }\n",
       "\n",
       "    .dataframe thead th {\n",
       "        text-align: right;\n",
       "    }\n",
       "</style>\n",
       "<table border=\"1\" class=\"dataframe\">\n",
       "  <thead>\n",
       "    <tr style=\"text-align: right;\">\n",
       "      <th></th>\n",
       "      <th>Ozone</th>\n",
       "      <th>Solar.R</th>\n",
       "      <th>Wind</th>\n",
       "      <th>Temp</th>\n",
       "      <th>Month</th>\n",
       "      <th>Day</th>\n",
       "    </tr>\n",
       "  </thead>\n",
       "  <tbody>\n",
       "    <tr>\n",
       "      <th>61</th>\n",
       "      <td>135.0</td>\n",
       "      <td>269.0</td>\n",
       "      <td>4.1</td>\n",
       "      <td>84</td>\n",
       "      <td>7</td>\n",
       "      <td>1</td>\n",
       "    </tr>\n",
       "    <tr>\n",
       "      <th>116</th>\n",
       "      <td>168.0</td>\n",
       "      <td>238.0</td>\n",
       "      <td>3.4</td>\n",
       "      <td>81</td>\n",
       "      <td>8</td>\n",
       "      <td>25</td>\n",
       "    </tr>\n",
       "  </tbody>\n",
       "</table>\n",
       "</div>"
      ],
      "text/plain": [
       "     Ozone  Solar.R  Wind  Temp  Month  Day\n",
       "61   135.0    269.0   4.1    84      7    1\n",
       "116  168.0    238.0   3.4    81      8   25"
      ]
     },
     "execution_count": 121,
     "metadata": {},
     "output_type": "execute_result"
    }
   ],
   "source": [
    "# Ozone 변수에서 outliers 가 있었던 데이터 확인\n",
    "air.loc[Outliers_to_drop]"
   ]
  },
  {
   "cell_type": "code",
   "execution_count": 122,
   "metadata": {},
   "outputs": [],
   "source": [
    "# outlier 제거한 데이터\n",
    "air_2 = air.drop(Outliers_to_drop, axis=0).reset_index(drop=True)"
   ]
  }
 ],
 "metadata": {
  "kernelspec": {
   "display_name": "Python 3",
   "language": "python",
   "name": "python3"
  },
  "language_info": {
   "codemirror_mode": {
    "name": "ipython",
    "version": 3
   },
   "file_extension": ".py",
   "mimetype": "text/x-python",
   "name": "python",
   "nbconvert_exporter": "python",
   "pygments_lexer": "ipython3",
   "version": "3.6.13"
  },
  "toc": {
   "base_numbering": 1,
   "nav_menu": {},
   "number_sections": true,
   "sideBar": true,
   "skip_h1_title": false,
   "title_cell": "Table of Contents",
   "title_sidebar": "Contents",
   "toc_cell": false,
   "toc_position": {},
   "toc_section_display": true,
   "toc_window_display": false
  }
 },
 "nbformat": 4,
 "nbformat_minor": 4
}
