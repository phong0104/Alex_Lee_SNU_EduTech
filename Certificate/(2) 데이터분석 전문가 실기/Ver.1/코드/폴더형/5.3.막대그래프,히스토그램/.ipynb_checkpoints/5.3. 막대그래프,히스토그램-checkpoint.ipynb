{
 "cells": [
  {
   "cell_type": "markdown",
   "metadata": {},
   "source": [
    "### 3절. 막대 그래프\n",
    "\n",
    "pyplot의 bar() 함수를 사용하여 막대그래프를 그릴 수 있음\n",
    "\n",
    "> plt.bar(x, height, width=0.8, bottom=None, align='center', data=None, color='black', edgecolor='black')\n",
    "\n",
    "수평으로 표현된 막대 그래프는 barh() 함수로 그린다\n",
    "\n",
    "> plt.barh(x, height, width=0.8, bottom=None, align='center', data=None, color='black', edgecolor='black')\n",
    "\n",
    "<br>\n",
    "\n",
    "<b>[예제]</b> \n",
    "\n",
    "fifa20 데이터의 overall 변수는 선수의 능력치를 나타낸다. <br>\n",
    "preferred_foot 변수는 선호하는 발을 의미하며, 총 2개의 범주로 이루어져 있다<br>\n",
    "두 범주형 변수의 각 레벨에 속하는 데이터의 개수를 막대그래프로 나타내어라"
   ]
  },
  {
   "cell_type": "code",
   "execution_count": null,
   "metadata": {},
   "outputs": [],
   "source": [
    "import pandas as pd \n",
    "import matplotlib.pyplot as plt \n",
    "\n",
    "fifa20 = pd.read_csv('../../data/players_20.csv')\n",
    "fifa20 = fifa20.head(1000)"
   ]
  },
  {
   "cell_type": "code",
   "execution_count": null,
   "metadata": {},
   "outputs": [],
   "source": [
    "overall_cnt =fifa20['overall'].value_counts()\n",
    "preferred_foot_cnt = fifa20['preferred_foot'].value_counts().sort_index()"
   ]
  },
  {
   "cell_type": "code",
   "execution_count": null,
   "metadata": {},
   "outputs": [],
   "source": [
    "# 두개의 플롯을 그려야 하므로 두 개의 서브플롯을 선언\n",
    "# fig는 플롯이 나타날 전체 figure, axs[n]은 n번째 서브플롯을 나타냄\n",
    "fig, axs = plt.subplots(1, 2,figsize=(14,5))\n",
    "fig.suptitle('Bar plot')\n",
    "\n",
    "axs[0].bar(overall_cnt.index, overall_cnt.values)\n",
    "axs[0].set_title('overall Count')\n",
    "axs[0].set_ylabel('Count')\n",
    "axs[1].bar(preferred_foot_cnt.index, preferred_foot_cnt.values)\n",
    "axs[1].set_title('preferred_foot Count')\n",
    "axs[1].set_ylabel('Count')\n",
    "\n",
    "plt.show()"
   ]
  },
  {
   "cell_type": "markdown",
   "metadata": {},
   "source": [
    "<b>[예제]</b> 여러 개의 범주형 변수를 막대그래프에 표현하기\n",
    "\n",
    "Cars93 데이터의 Origin과 Cylinders 변수의 범주별 데이터 개수를 막대그래프로 한 번에 표현하고 범례를 함께 나타내기"
   ]
  },
  {
   "cell_type": "code",
   "execution_count": null,
   "metadata": {
    "scrolled": true
   },
   "outputs": [],
   "source": [
    "import numpy as np\n",
    "\n",
    "table = pd.crosstab(fifa20['overall'], fifa20['preferred_foot'])\n",
    "table"
   ]
  },
  {
   "cell_type": "code",
   "execution_count": null,
   "metadata": {
    "scrolled": false
   },
   "outputs": [],
   "source": [
    "fig, axs = plt.subplots(1,2,figsize=(20,6))\n",
    "width = 0.4\n",
    "\n",
    "# 두 개의 플롯을 선언하고 그 중 하나에서 bottom 인수를 사용하여 다른 값 아래에 위치하게 함\n",
    "\n",
    "axs[0].bar(table['Left'].index, table['Left'].values, label='Left')\n",
    "axs[0].bar(table['Right'].index, table['Right'].values,bottom=table['Left'].values, label='Right')\n",
    "\n",
    "axs[0].set_ylabel('Counts')\n",
    "axs[0].set_title('Stack 2 variables on 1 bar plot')\n",
    "axs[0].legend()\n",
    "\n",
    "# 범주의 개수(ind)를 세어 플롯의 x 인자에 임시 할당하고 x인자에서 두께를 감산\n",
    "# 각 bar plot에 두께를 지정\n",
    "\n",
    "idx = list(table['Right'].index)\n",
    "ind = np.arange(1, len(idx)+1)\n",
    "\n",
    "axs[1].bar(ind - width/2, table['Left'].values, width, label='Left')\n",
    "axs[1].bar(ind + width/2, table['Right'].values, width, label='Right')\n",
    "axs[1].set_xticks(ind) # set_xticklabels 호출 이전에 선행해서 호출되어야 함 (눈금 고정)\n",
    "axs[1].set_xticklabels(idx) # bar 플롯 x축의 범주를 문자열 값으로 변경\n",
    "axs[1].set_ylabel('count')\n",
    "axs[1].set_title('Separate bar with each variable')\n",
    "axs[1].legend()\n",
    "\n",
    "plt.show()"
   ]
  },
  {
   "cell_type": "markdown",
   "metadata": {},
   "source": [
    "### 4절. 히스토그램\n",
    "\n",
    "도수별 분포를 나타내는 도수분포표를 그래프로 그린 것\n",
    "\n",
    "<div style=\"font-weight: bold; font-size: 120%; margin-left:30px\"> \n",
    "    <table align=\"left\" margin:50 font-size: 120%>\n",
    "        <tr>\n",
    "            <td style=\"text-align: left;\" rowspan=\"2\">막대그래프</td>\n",
    "            <td style=\"text-align: left;\"><span style='color: #DC143C'>범주형</span>으로 구분된 변수의 범주별 데이터 수를 구한 것</td>\n",
    "        </tr>\n",
    "        <tr>\n",
    "            <td style=\"text-align: left;\">범주의 순서를 의도에 따라 변경 가능<td>\n",
    "        </tr>\n",
    "        <tr>\n",
    "            <td style=\"text-align: left;\" rowspan=\"2\">히스토그램</td>\n",
    "            <td style=\"text-align: left;\"><span style='color: #DC143C'>연속된 수</span>를 일정한 구간으로 나눈 후 구간별 데이터의분포를 그래프로 표현한 것</td>\n",
    "        </tr>\n",
    "        <tr>\n",
    "            <td style=\"text-align: left;\">임의로 범주의 순서를 바꿀 수 없음<td>\n",
    "        </tr>\n",
    "    </table>\n",
    "</div>"
   ]
  },
  {
   "cell_type": "markdown",
   "metadata": {},
   "source": [
    "> plt.hist(x, bins=None, range=None, density=False, color=None, data=None)\n",
    "\n",
    "bins : 히스토그램의 구간의 개수 정의<br>\n",
    "range : bin의 상한값과 하한값 (x.min(), x.max()) 형태로 선언<br>\n",
    "density : True이면 확률밀도함수를 그리고 반환\n",
    "\n",
    "<br>\n",
    "\n",
    "<b>[예제]</b>\n",
    "\n",
    "fifa20 데이터의 wage_eur 변수에 대해 막대 구간의 개수를 지정하지 않은 히스토그램과 구간의 개수를 5로 지정한 히스토그램 그리기"
   ]
  },
  {
   "cell_type": "code",
   "execution_count": null,
   "metadata": {},
   "outputs": [],
   "source": [
    "fig, axs = plt.subplots(1,2,figsize=(18,5))\n",
    "\n",
    "axs[0].hist('wage_eur',data=fifa20)\n",
    "axs[1].hist('wage_eur', bins=5, data=fifa20)\n",
    "\n",
    "plt.show()"
   ]
  },
  {
   "cell_type": "code",
   "execution_count": null,
   "metadata": {},
   "outputs": [],
   "source": [
    "from pandas.plotting import scatter_matrix\n",
    "\n",
    "scatter_matrix(fifa20, alpha=0.5, figsize=(8, 8), diagonal='hist')\n",
    "plt.show()"
   ]
  },
  {
   "cell_type": "markdown",
   "metadata": {},
   "source": [
    "#### 비고. matplotlib에서 축과 제목에 한글 사용하기\n",
    ">from matplotlib import font_manager, rc<br>\n",
    ">font_name = font_manager.FontProperties(fname=\"c:/Windows/Fonts/malgun.ttf\").get_name()<br>\n",
    "    &emsp;<span style=\"color:green\"># 시스템에서 기본 한글폰트를 가져와 폰트 이름 지정</span><br>\n",
    ">rc('font', family=font_name)<br>\n",
    "    &emsp;<span style=\"color:green\"># rc() 함수에 한글폰트 설정</span>\n",
    "\n",
    "malgun : 맑은고딕<br>\n",
    "REFSAN : 산세리프 (한글 폰트로 변환 후 에러가 발생할 때 다시 바꿔줌)"
   ]
  },
  {
   "cell_type": "code",
   "execution_count": null,
   "metadata": {},
   "outputs": [],
   "source": [
    "from matplotlib import font_manager, rc\n",
    "font_name = font_manager.FontProperties(fname=\"c:/Windows/Fonts/malgun.ttf\").get_name()\n",
    "rc('font', family=font_name)"
   ]
  },
  {
   "cell_type": "code",
   "execution_count": null,
   "metadata": {},
   "outputs": [],
   "source": []
  }
 ],
 "metadata": {
  "kernelspec": {
   "display_name": "Python 3 (ipykernel)",
   "language": "python",
   "name": "python3"
  },
  "language_info": {
   "codemirror_mode": {
    "name": "ipython",
    "version": 3
   },
   "file_extension": ".py",
   "mimetype": "text/x-python",
   "name": "python",
   "nbconvert_exporter": "python",
   "pygments_lexer": "ipython3",
   "version": "3.7.10"
  },
  "toc": {
   "base_numbering": 1,
   "nav_menu": {},
   "number_sections": true,
   "sideBar": true,
   "skip_h1_title": false,
   "title_cell": "Table of Contents",
   "title_sidebar": "Contents",
   "toc_cell": false,
   "toc_position": {},
   "toc_section_display": true,
   "toc_window_display": false
  }
 },
 "nbformat": 4,
 "nbformat_minor": 4
}
