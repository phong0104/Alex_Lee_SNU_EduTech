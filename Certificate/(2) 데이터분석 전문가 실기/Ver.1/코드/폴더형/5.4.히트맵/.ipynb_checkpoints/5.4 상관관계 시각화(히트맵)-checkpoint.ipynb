{
 "cells": [
  {
   "cell_type": "markdown",
   "metadata": {},
   "source": [
    "# 상관관계 시각화(히트맵)\n",
    "\n",
    "\n",
    "\n",
    "* 두 변수 간의 관계의 정도     \n",
    "\n",
    "* 두 확률변수가 함께 변화하는지의 정도를 측정하는 값\n",
    "    * 단점: 측정 단위 크기를 반영하지 못해 절대적인 상관성의 정도를 파악하기 어려움\n",
    "    * 단점 극복: 공분산을 두 변수의 표준편차 곱으로 나누어 표준화시킴 (= 상관계수)\n",
    "\n"
   ]
  },
  {
   "cell_type": "markdown",
   "metadata": {},
   "source": [
    "## 상관분석의 유형\n",
    "__가.__ 피어슨 상관계수\n",
    "* 두 연속형 자료가 모두 정규성을 따른다는 가정\n",
    "* 선형적 상관관계를 측정\n",
    "* -1부터 1사이의 값    \n",
    "\n",
    "<div style=\"font-weight: bold; font-size: 120%; margin-left:30px\"> \n",
    "    <table align=\"left\" margin:50 font-size: 120%>\n",
    "        <tr>\n",
    "            <td style=\"text-align: left;\">판다스 사용 시</td>\n",
    "            <td style=\"text-align: left;\">corr(method='pearson')</td>\n",
    "        </tr>\n",
    "        <tr>\n",
    "            <td style=\"text-align: left;\">싸이파이 사용 시</td>\n",
    "            <td style=\"text-align: left;\">stats.pearsonr(df1, df2)</td>\n",
    "        </tr>\n",
    "    </table>\n",
    "</div>   "
   ]
  },
  {
   "cell_type": "markdown",
   "metadata": {},
   "source": [
    "__나.__ 스피어만 상관계수\n",
    "* 두 변수가 정규성을 만족하지 않거나, 변수가 순위 및 순서 형태로 주어지는 경우\n",
    "* 비모수적 방법 (데이터에 순위를 매긴 후 그 순위에 대한 상관계수를 산출함. 실제값 이용 X)\n",
    "* -1부터 1사이의 값\n",
    "* 비선형관계의 연관성 파악 가능\n",
    "* 연속형, 이산형, 순서형 자료에 적용 가능\n",
    "\n",
    "<div style=\"font-weight: bold; font-size: 120%; margin-left:30px\"> \n",
    "    <table align=\"left\" margin:50 font-size: 120%>\n",
    "        <tr>\n",
    "            <td style=\"text-align: left;\">판다스 사용 시</td>\n",
    "            <td style=\"text-align: left;\">corr(method='spearman')</td>\n",
    "        </tr>\n",
    "        <tr>\n",
    "            <td style=\"text-align: left;\">싸이파이 사용 시</td>\n",
    "            <td style=\"text-align: left;\">stats.spearmanr(df1, df2) </td>\n",
    "        </tr>\n",
    "    </table>\n",
    "</div>        \n"
   ]
  },
  {
   "cell_type": "markdown",
   "metadata": {},
   "source": [
    "__다.__ 켄달의 순위상관계수\n",
    "* 데이터가 순서쌍(Xi, Yi)로 주어졌을 때\n",
    "    * Xi가 커짐에 따라 Yi도 커질 경우: 부합\n",
    "    * Xi가 커짐에 따라 Yi가 작아질 경우: 비부함\n",
    "* 전체 데이터에서 비부합상에 대한 부합쌍의 비율로 상관계수를 산출함\n",
    "* -1부터 1사이의 값\n",
    "    * 순위상관계수가 1일 경우: 부합쌍의 비율이 100%\n",
    "    * 순위상관계수가 -1일 경우: 비부합쌍의 비율이 100%\n",
    "    * 순위상관계수가 0일 경우: 두 변수 X와 Y는 상관성이 없음\n",
    "\n",
    "<div style=\"font-weight: bold; font-size: 120%; margin-left:30px\"> \n",
    "    <table align=\"left\" margin:50 font-size: 120%>\n",
    "        <tr>\n",
    "            <td style=\"text-align: left;\">판다스 사용 시</td>\n",
    "            <td style=\"text-align: left;\">corr(method='kendall')</td>\n",
    "        </tr>\n",
    "        <tr>\n",
    "            <td style=\"text-align: left;\">싸이파이 사용 시</td>\n",
    "            <td style=\"text-align: left;\">stats.kendalltau(df1, df2) </td>\n",
    "        </tr>\n",
    "    </table>\n",
    "</div>   "
   ]
  },
  {
   "cell_type": "markdown",
   "metadata": {},
   "source": []
  },
  {
   "cell_type": "code",
   "execution_count": null,
   "metadata": {},
   "outputs": [],
   "source": []
  },
  {
   "cell_type": "markdown",
   "metadata": {},
   "source": [
    "__[예제 1]__   \n",
    "air 데이터 내의 네 가지 변수 조합별 피어슨 상관계수 그래프 그리기"
   ]
  },
  {
   "cell_type": "code",
   "execution_count": 23,
   "metadata": {},
   "outputs": [],
   "source": [
    "import pandas as pd\n",
    "import matplotlib.pyplot as plt\n",
    "import seaborn as sns"
   ]
  },
  {
   "cell_type": "markdown",
   "metadata": {},
   "source": [
    "## 히트맵\n",
    "\n",
    "    sns.heatmap(df,\n",
    "               xticklabels = df.columns,\n",
    "               yticklabels = df.columns,\n",
    "               cmap='RdBu_r',\n",
    "               annot=True,  # True: 상관계수 텍스트로 보이게 해줌\n",
    "               linewidth=0.5)"
   ]
  },
  {
   "cell_type": "code",
   "execution_count": 24,
   "metadata": {
    "scrolled": true
   },
   "outputs": [
    {
     "data": {
      "text/html": [
       "<style  type=\"text/css\" >\n",
       "#T_3c125636_330d_11ec_86fc_98af65b141b1row0_col0,#T_3c125636_330d_11ec_86fc_98af65b141b1row1_col1,#T_3c125636_330d_11ec_86fc_98af65b141b1row2_col2,#T_3c125636_330d_11ec_86fc_98af65b141b1row3_col3{\n",
       "            background-color:  #b40426;\n",
       "            color:  #f1f1f1;\n",
       "        }#T_3c125636_330d_11ec_86fc_98af65b141b1row0_col1{\n",
       "            background-color:  #bbd1f8;\n",
       "            color:  #000000;\n",
       "        }#T_3c125636_330d_11ec_86fc_98af65b141b1row0_col2,#T_3c125636_330d_11ec_86fc_98af65b141b1row2_col0,#T_3c125636_330d_11ec_86fc_98af65b141b1row2_col1,#T_3c125636_330d_11ec_86fc_98af65b141b1row2_col3{\n",
       "            background-color:  #3b4cc0;\n",
       "            color:  #f1f1f1;\n",
       "        }#T_3c125636_330d_11ec_86fc_98af65b141b1row0_col3{\n",
       "            background-color:  #ee8669;\n",
       "            color:  #000000;\n",
       "        }#T_3c125636_330d_11ec_86fc_98af65b141b1row1_col0{\n",
       "            background-color:  #f1cdba;\n",
       "            color:  #000000;\n",
       "        }#T_3c125636_330d_11ec_86fc_98af65b141b1row1_col2{\n",
       "            background-color:  #adc9fd;\n",
       "            color:  #000000;\n",
       "        }#T_3c125636_330d_11ec_86fc_98af65b141b1row1_col3{\n",
       "            background-color:  #dddcdc;\n",
       "            color:  #000000;\n",
       "        }#T_3c125636_330d_11ec_86fc_98af65b141b1row3_col0{\n",
       "            background-color:  #ec7f63;\n",
       "            color:  #000000;\n",
       "        }#T_3c125636_330d_11ec_86fc_98af65b141b1row3_col1{\n",
       "            background-color:  #a3c2fe;\n",
       "            color:  #000000;\n",
       "        }#T_3c125636_330d_11ec_86fc_98af65b141b1row3_col2{\n",
       "            background-color:  #5572df;\n",
       "            color:  #000000;\n",
       "        }</style><table id=\"T_3c125636_330d_11ec_86fc_98af65b141b1\" ><thead>    <tr>        <th class=\"blank level0\" ></th>        <th class=\"col_heading level0 col0\" >Ozone</th>        <th class=\"col_heading level0 col1\" >Solar.R</th>        <th class=\"col_heading level0 col2\" >Wind</th>        <th class=\"col_heading level0 col3\" >Temp</th>    </tr></thead><tbody>\n",
       "                <tr>\n",
       "                        <th id=\"T_3c125636_330d_11ec_86fc_98af65b141b1level0_row0\" class=\"row_heading level0 row0\" >Ozone</th>\n",
       "                        <td id=\"T_3c125636_330d_11ec_86fc_98af65b141b1row0_col0\" class=\"data row0 col0\" >1.000000</td>\n",
       "                        <td id=\"T_3c125636_330d_11ec_86fc_98af65b141b1row0_col1\" class=\"data row0 col1\" >0.348342</td>\n",
       "                        <td id=\"T_3c125636_330d_11ec_86fc_98af65b141b1row0_col2\" class=\"data row0 col2\" >-0.601547</td>\n",
       "                        <td id=\"T_3c125636_330d_11ec_86fc_98af65b141b1row0_col3\" class=\"data row0 col3\" >0.698360</td>\n",
       "            </tr>\n",
       "            <tr>\n",
       "                        <th id=\"T_3c125636_330d_11ec_86fc_98af65b141b1level0_row1\" class=\"row_heading level0 row1\" >Solar.R</th>\n",
       "                        <td id=\"T_3c125636_330d_11ec_86fc_98af65b141b1row1_col0\" class=\"data row1 col0\" >0.348342</td>\n",
       "                        <td id=\"T_3c125636_330d_11ec_86fc_98af65b141b1row1_col1\" class=\"data row1 col1\" >1.000000</td>\n",
       "                        <td id=\"T_3c125636_330d_11ec_86fc_98af65b141b1row1_col2\" class=\"data row1 col2\" >-0.056792</td>\n",
       "                        <td id=\"T_3c125636_330d_11ec_86fc_98af65b141b1row1_col3\" class=\"data row1 col3\" >0.275840</td>\n",
       "            </tr>\n",
       "            <tr>\n",
       "                        <th id=\"T_3c125636_330d_11ec_86fc_98af65b141b1level0_row2\" class=\"row_heading level0 row2\" >Wind</th>\n",
       "                        <td id=\"T_3c125636_330d_11ec_86fc_98af65b141b1row2_col0\" class=\"data row2 col0\" >-0.601547</td>\n",
       "                        <td id=\"T_3c125636_330d_11ec_86fc_98af65b141b1row2_col1\" class=\"data row2 col1\" >-0.056792</td>\n",
       "                        <td id=\"T_3c125636_330d_11ec_86fc_98af65b141b1row2_col2\" class=\"data row2 col2\" >1.000000</td>\n",
       "                        <td id=\"T_3c125636_330d_11ec_86fc_98af65b141b1row2_col3\" class=\"data row2 col3\" >-0.457988</td>\n",
       "            </tr>\n",
       "            <tr>\n",
       "                        <th id=\"T_3c125636_330d_11ec_86fc_98af65b141b1level0_row3\" class=\"row_heading level0 row3\" >Temp</th>\n",
       "                        <td id=\"T_3c125636_330d_11ec_86fc_98af65b141b1row3_col0\" class=\"data row3 col0\" >0.698360</td>\n",
       "                        <td id=\"T_3c125636_330d_11ec_86fc_98af65b141b1row3_col1\" class=\"data row3 col1\" >0.275840</td>\n",
       "                        <td id=\"T_3c125636_330d_11ec_86fc_98af65b141b1row3_col2\" class=\"data row3 col2\" >-0.457988</td>\n",
       "                        <td id=\"T_3c125636_330d_11ec_86fc_98af65b141b1row3_col3\" class=\"data row3 col3\" >1.000000</td>\n",
       "            </tr>\n",
       "    </tbody></table>"
      ],
      "text/plain": [
       "<pandas.io.formats.style.Styler at 0x1f7f52f4e10>"
      ]
     },
     "execution_count": 24,
     "metadata": {},
     "output_type": "execute_result"
    }
   ],
   "source": [
    "air_cor.style.background_gradient(cmap='coolwarm')"
   ]
  },
  {
   "cell_type": "code",
   "execution_count": 25,
   "metadata": {},
   "outputs": [
    {
     "data": {
      "text/html": [
       "<div>\n",
       "<style scoped>\n",
       "    .dataframe tbody tr th:only-of-type {\n",
       "        vertical-align: middle;\n",
       "    }\n",
       "\n",
       "    .dataframe tbody tr th {\n",
       "        vertical-align: top;\n",
       "    }\n",
       "\n",
       "    .dataframe thead th {\n",
       "        text-align: right;\n",
       "    }\n",
       "</style>\n",
       "<table border=\"1\" class=\"dataframe\">\n",
       "  <thead>\n",
       "    <tr style=\"text-align: right;\">\n",
       "      <th></th>\n",
       "      <th>Ozone</th>\n",
       "      <th>Solar.R</th>\n",
       "      <th>Wind</th>\n",
       "      <th>Temp</th>\n",
       "    </tr>\n",
       "  </thead>\n",
       "  <tbody>\n",
       "    <tr>\n",
       "      <th>Ozone</th>\n",
       "      <td>1.000000</td>\n",
       "      <td>0.348342</td>\n",
       "      <td>-0.601547</td>\n",
       "      <td>0.698360</td>\n",
       "    </tr>\n",
       "    <tr>\n",
       "      <th>Solar.R</th>\n",
       "      <td>0.348342</td>\n",
       "      <td>1.000000</td>\n",
       "      <td>-0.056792</td>\n",
       "      <td>0.275840</td>\n",
       "    </tr>\n",
       "    <tr>\n",
       "      <th>Wind</th>\n",
       "      <td>-0.601547</td>\n",
       "      <td>-0.056792</td>\n",
       "      <td>1.000000</td>\n",
       "      <td>-0.457988</td>\n",
       "    </tr>\n",
       "    <tr>\n",
       "      <th>Temp</th>\n",
       "      <td>0.698360</td>\n",
       "      <td>0.275840</td>\n",
       "      <td>-0.457988</td>\n",
       "      <td>1.000000</td>\n",
       "    </tr>\n",
       "  </tbody>\n",
       "</table>\n",
       "</div>"
      ],
      "text/plain": [
       "            Ozone   Solar.R      Wind      Temp\n",
       "Ozone    1.000000  0.348342 -0.601547  0.698360\n",
       "Solar.R  0.348342  1.000000 -0.056792  0.275840\n",
       "Wind    -0.601547 -0.056792  1.000000 -0.457988\n",
       "Temp     0.698360  0.275840 -0.457988  1.000000"
      ]
     },
     "execution_count": 25,
     "metadata": {},
     "output_type": "execute_result"
    }
   ],
   "source": [
    "air_cor"
   ]
  },
  {
   "cell_type": "code",
   "execution_count": 33,
   "metadata": {},
   "outputs": [
    {
     "data": {
      "text/plain": [
       "<matplotlib.axes._subplots.AxesSubplot at 0x1f7f8e11d68>"
      ]
     },
     "execution_count": 33,
     "metadata": {},
     "output_type": "execute_result"
    },
    {
     "data": {
      "image/png": "[encoded data removed]",
      "text/plain": [
       "<Figure size 432x288 with 2 Axes>"
      ]
     },
     "metadata": {
      "needs_background": "light"
     },
     "output_type": "display_data"
    }
   ],
   "source": [
    "sns.heatmap(air_cor,\n",
    "           xticklabels = air_cor.columns,\n",
    "           yticklabels = air_cor.columns,\n",
    "           cmap='RdBu_r',\n",
    "           annot=True, \n",
    "           linewidth=3)"
   ]
  },
  {
   "cell_type": "markdown",
   "metadata": {},
   "source": [
    "### 산점도 행렬\n",
    "\n",
    "두 개 이상의 변수가 있는 데이터에서 변수들 간의 산점도를 그린 그래프\n",
    "\n",
    "여러 변수들 간의 산점도를 한 번에 볼 수 있도록 표현하여 변수들 간의 상관관계를 비교할 수 있음\n",
    "\n",
    "\n",
    "<seaborn의 pairplot>  \n",
    "> seaborn.pairplot(data, hue=None, kind='scatter', diag_kind='auto', markers=None, dropna=False, corner=True)\n",
    "> - data : pandas.DataFrame\n",
    "> - hue : 데이터의 범주형 변수. 집단을 색으로 구분해서 플롯을 그려줌\n",
    "> - kind : 'scatter'(산점도), 'kde'(밀도그래프), 'hist'(히스토그램), 'reg'(회귀선)로 구성.\n",
    "> - diag_kind : 'auto', 'hist', 'kde', None으로 구성\n",
    "> - markers : 마커 코드\n",
    "> - corner : True로 할 경우 세모 모양 상관계수 그래프 (디폴트는 False)"
   ]
  },
  {
   "cell_type": "code",
   "execution_count": 1,
   "metadata": {},
   "outputs": [
    {
     "ename": "NameError",
     "evalue": "name 'sns' is not defined",
     "output_type": "error",
     "traceback": [
      "\u001b[1;31m---------------------------------------------------------------------------\u001b[0m",
      "\u001b[1;31mNameError\u001b[0m                                 Traceback (most recent call last)",
      "\u001b[1;32m~\\AppData\\Local\\Temp/ipykernel_19772/2853714725.py\u001b[0m in \u001b[0;36m<module>\u001b[1;34m\u001b[0m\n\u001b[0;32m      1\u001b[0m \u001b[1;31m# 범주형 변수의 범주에 따라 다른 색상으로 나타낼 수도 있음\u001b[0m\u001b[1;33m\u001b[0m\u001b[1;33m\u001b[0m\u001b[1;33m\u001b[0m\u001b[0m\n\u001b[0;32m      2\u001b[0m \u001b[1;33m\u001b[0m\u001b[0m\n\u001b[1;32m----> 3\u001b[1;33m \u001b[0msns\u001b[0m\u001b[1;33m.\u001b[0m\u001b[0mpairplot\u001b[0m\u001b[1;33m(\u001b[0m\u001b[0miris\u001b[0m\u001b[1;33m,\u001b[0m \u001b[0mdiag_kind\u001b[0m\u001b[1;33m=\u001b[0m\u001b[1;34m'auto'\u001b[0m\u001b[1;33m,\u001b[0m \u001b[0mhue\u001b[0m\u001b[1;33m=\u001b[0m\u001b[1;34m\"target\"\u001b[0m\u001b[1;33m)\u001b[0m \u001b[1;31m# pastel, bright, deep, muted, colorblind, dark\u001b[0m\u001b[1;33m\u001b[0m\u001b[1;33m\u001b[0m\u001b[0m\n\u001b[0m\u001b[0;32m      4\u001b[0m \u001b[1;33m\u001b[0m\u001b[0m\n\u001b[0;32m      5\u001b[0m \u001b[1;31m#    kind : {'scatter', 'kde', 'hist', 'reg'}\u001b[0m\u001b[1;33m\u001b[0m\u001b[1;33m\u001b[0m\u001b[1;33m\u001b[0m\u001b[0m\n",
      "\u001b[1;31mNameError\u001b[0m: name 'sns' is not defined"
     ]
    }
   ],
   "source": [
    "# 범주형 변수의 범주에 따라 다른 색상으로 나타낼 수도 있음\n",
    "\n",
    "sns.pairplot(iris, diag_kind='auto', hue=\"target\") # pastel, bright, deep, muted, colorblind, dark\n",
    "\n",
    "#    kind : {'scatter', 'kde', 'hist', 'reg'}\n",
    "#    diag_kind : {'auto', 'hist', 'kde', None}\n",
    "\n",
    "plt.show()"
   ]
  },
  {
   "cell_type": "code",
   "execution_count": null,
   "metadata": {},
   "outputs": [],
   "source": []
  }
 ],
 "metadata": {
  "kernelspec": {
   "display_name": "Python 3 (ipykernel)",
   "language": "python",
   "name": "python3"
  },
  "language_info": {
   "codemirror_mode": {
    "name": "ipython",
    "version": 3
   },
   "file_extension": ".py",
   "mimetype": "text/x-python",
   "name": "python",
   "nbconvert_exporter": "python",
   "pygments_lexer": "ipython3",
   "version": "3.7.10"
  },
  "toc": {
   "base_numbering": "5.4",
   "nav_menu": {},
   "number_sections": true,
   "sideBar": true,
   "skip_h1_title": false,
   "title_cell": "Table of Contents",
   "title_sidebar": "Contents",
   "toc_cell": false,
   "toc_position": {
    "height": "calc(100% - 180px)",
    "left": "10px",
    "top": "150px",
    "width": "245.76px"
   },
   "toc_section_display": true,
   "toc_window_display": true
  }
 },
 "nbformat": 4,
 "nbformat_minor": 4
}
