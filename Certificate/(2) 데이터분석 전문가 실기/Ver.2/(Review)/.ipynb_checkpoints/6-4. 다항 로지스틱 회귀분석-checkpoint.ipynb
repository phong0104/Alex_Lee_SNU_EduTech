{
 "cells": [
  {
   "cell_type": "code",
   "execution_count": 1,
   "id": "193f71b6",
   "metadata": {},
   "outputs": [],
   "source": [
    "import pandas as pd\n",
    "iris = pd.read_csv('../data/iris.csv')\n",
    "\n",
    "X = iris.drop(['target'], axis=1)\n",
    "y = iris.target"
   ]
  },
  {
   "cell_type": "code",
   "execution_count": 2,
   "id": "c2d7d9cd",
   "metadata": {},
   "outputs": [
    {
     "data": {
      "text/plain": [
       "Iris-virginica     50\n",
       "Iris-setosa        50\n",
       "Iris-versicolor    50\n",
       "Name: target, dtype: int64"
      ]
     },
     "execution_count": 2,
     "metadata": {},
     "output_type": "execute_result"
    }
   ],
   "source": [
    "y.value_counts()"
   ]
  },
  {
   "cell_type": "code",
   "execution_count": 3,
   "id": "f447c4df",
   "metadata": {},
   "outputs": [
    {
     "name": "stdout",
     "output_type": "stream",
     "text": [
      "(105, 4) (45, 4) (105,) (45,)\n"
     ]
    }
   ],
   "source": [
    "from sklearn.model_selection import train_test_split\n",
    "X_train, X_test, y_train, y_test = train_test_split(X, y, stratify = y, train_size = 0.7,\n",
    "                                                    test_size = 0.3, random_state = 123)\n",
    "print(X_train.shape, X_test.shape, y_train.shape, y_test.shape)"
   ]
  },
  {
   "cell_type": "code",
   "execution_count": 4,
   "id": "223067b0",
   "metadata": {},
   "outputs": [
    {
     "data": {
      "text/plain": [
       "Iris-virginica     15\n",
       "Iris-setosa        15\n",
       "Iris-versicolor    15\n",
       "Name: target, dtype: int64"
      ]
     },
     "execution_count": 4,
     "metadata": {},
     "output_type": "execute_result"
    }
   ],
   "source": [
    "y_test.value_counts()"
   ]
  },
  {
   "cell_type": "code",
   "execution_count": 5,
   "id": "d2647b9c",
   "metadata": {},
   "outputs": [
    {
     "data": {
      "text/plain": [
       "Iris-virginica     35\n",
       "Iris-setosa        35\n",
       "Iris-versicolor    35\n",
       "Name: target, dtype: int64"
      ]
     },
     "execution_count": 5,
     "metadata": {},
     "output_type": "execute_result"
    }
   ],
   "source": [
    "y_train.value_counts()"
   ]
  },
  {
   "cell_type": "code",
   "execution_count": 6,
   "id": "0758623e",
   "metadata": {},
   "outputs": [
    {
     "name": "stdout",
     "output_type": "stream",
     "text": [
      "LogisticRegression()\n"
     ]
    }
   ],
   "source": [
    "from sklearn.linear_model import LogisticRegression\n",
    "\n",
    "model = LogisticRegression()\n",
    "model.fit(X_train, y_train)\n",
    "print(model)"
   ]
  },
  {
   "cell_type": "code",
   "execution_count": 7,
   "id": "e4c0b59c",
   "metadata": {},
   "outputs": [
    {
     "data": {
      "text/html": [
       "<div>\n",
       "<style scoped>\n",
       "    .dataframe tbody tr th:only-of-type {\n",
       "        vertical-align: middle;\n",
       "    }\n",
       "\n",
       "    .dataframe tbody tr th {\n",
       "        vertical-align: top;\n",
       "    }\n",
       "\n",
       "    .dataframe thead th {\n",
       "        text-align: right;\n",
       "    }\n",
       "</style>\n",
       "<table border=\"1\" class=\"dataframe\">\n",
       "  <thead>\n",
       "    <tr style=\"text-align: right;\">\n",
       "      <th></th>\n",
       "      <th>predicted_setosa</th>\n",
       "      <th>predicted_versicolor</th>\n",
       "      <th>predicted_virginica</th>\n",
       "    </tr>\n",
       "  </thead>\n",
       "  <tbody>\n",
       "    <tr>\n",
       "      <th>setosa</th>\n",
       "      <td>15</td>\n",
       "      <td>0</td>\n",
       "      <td>0</td>\n",
       "    </tr>\n",
       "    <tr>\n",
       "      <th>versicolor</th>\n",
       "      <td>0</td>\n",
       "      <td>14</td>\n",
       "      <td>1</td>\n",
       "    </tr>\n",
       "    <tr>\n",
       "      <th>virginica</th>\n",
       "      <td>0</td>\n",
       "      <td>0</td>\n",
       "      <td>15</td>\n",
       "    </tr>\n",
       "  </tbody>\n",
       "</table>\n",
       "</div>"
      ],
      "text/plain": [
       "            predicted_setosa  predicted_versicolor  predicted_virginica\n",
       "setosa                    15                     0                    0\n",
       "versicolor                 0                    14                    1\n",
       "virginica                  0                     0                   15"
      ]
     },
     "execution_count": 7,
     "metadata": {},
     "output_type": "execute_result"
    }
   ],
   "source": [
    "from sklearn.metrics import classification_report, confusion_matrix, accuracy_score, roc_auc_score\n",
    "\n",
    "predicted = model.predict(X_test)\n",
    "\n",
    "cm = confusion_matrix(y_test, predicted)\n",
    "cmtb = pd.DataFrame(cm, columns = ['predicted_setosa', 'predicted_versicolor', 'predicted_virginica'],\n",
    "                    index = ['setosa', 'versicolor', 'virginica'])\n",
    "cmtb"
   ]
  },
  {
   "cell_type": "code",
   "execution_count": 8,
   "id": "9b3d1e73",
   "metadata": {},
   "outputs": [
    {
     "data": {
      "text/plain": [
       "array([[15,  0,  0],\n",
       "       [ 0, 14,  1],\n",
       "       [ 0,  0, 15]], dtype=int64)"
      ]
     },
     "execution_count": 8,
     "metadata": {},
     "output_type": "execute_result"
    }
   ],
   "source": [
    "cm"
   ]
  },
  {
   "cell_type": "code",
   "execution_count": 9,
   "id": "13211f1f",
   "metadata": {},
   "outputs": [
    {
     "data": {
      "text/plain": [
       "array(['Iris-versicolor', 'Iris-virginica', 'Iris-versicolor',\n",
       "       'Iris-versicolor', 'Iris-virginica', 'Iris-setosa', 'Iris-setosa',\n",
       "       'Iris-versicolor', 'Iris-setosa', 'Iris-setosa', 'Iris-virginica',\n",
       "       'Iris-setosa', 'Iris-virginica', 'Iris-setosa', 'Iris-versicolor',\n",
       "       'Iris-setosa', 'Iris-virginica', 'Iris-virginica', 'Iris-setosa',\n",
       "       'Iris-setosa', 'Iris-setosa', 'Iris-setosa', 'Iris-setosa',\n",
       "       'Iris-versicolor', 'Iris-setosa', 'Iris-versicolor',\n",
       "       'Iris-virginica', 'Iris-setosa', 'Iris-versicolor',\n",
       "       'Iris-virginica', 'Iris-virginica', 'Iris-virginica',\n",
       "       'Iris-virginica', 'Iris-versicolor', 'Iris-versicolor',\n",
       "       'Iris-versicolor', 'Iris-virginica', 'Iris-virginica',\n",
       "       'Iris-virginica', 'Iris-setosa', 'Iris-virginica',\n",
       "       'Iris-versicolor', 'Iris-versicolor', 'Iris-virginica',\n",
       "       'Iris-versicolor'], dtype=object)"
      ]
     },
     "execution_count": 9,
     "metadata": {},
     "output_type": "execute_result"
    }
   ],
   "source": [
    "model.predict(X_test)"
   ]
  },
  {
   "cell_type": "code",
   "execution_count": 10,
   "id": "65969a44",
   "metadata": {},
   "outputs": [
    {
     "data": {
      "text/plain": [
       "array([[1.19428521e-03, 5.20355761e-01, 4.78449954e-01],\n",
       "       [1.00882843e-05, 4.96972622e-02, 9.50292650e-01],\n",
       "       [4.31641319e-02, 9.33403591e-01, 2.34322773e-02],\n",
       "       [3.50768604e-03, 7.32081065e-01, 2.64411249e-01],\n",
       "       [2.47257801e-07, 4.75204086e-03, 9.95247712e-01],\n",
       "       [9.76994721e-01, 2.30051833e-02, 9.53043602e-08],\n",
       "       [9.84979643e-01, 1.50203266e-02, 3.08227323e-08],\n",
       "       [3.08264488e-03, 7.21555472e-01, 2.75361883e-01],\n",
       "       [9.81966082e-01, 1.80338598e-02, 5.83304056e-08],\n",
       "       [9.72866408e-01, 2.71335022e-02, 8.95164800e-08],\n",
       "       [8.95440205e-08, 4.79957133e-03, 9.95200339e-01],\n",
       "       [9.79252886e-01, 2.07470171e-02, 9.67583640e-08],\n",
       "       [1.08298656e-04, 1.26063161e-01, 8.73828540e-01],\n",
       "       [9.94240696e-01, 5.75929656e-03, 7.17413452e-09],\n",
       "       [7.01638054e-03, 7.80942135e-01, 2.12041485e-01],\n",
       "       [9.64959750e-01, 3.50401015e-02, 1.48432756e-07],\n",
       "       [4.04729419e-04, 2.37485626e-01, 7.62109644e-01],\n",
       "       [4.78721495e-04, 1.85373416e-01, 8.14147862e-01],\n",
       "       [9.82602809e-01, 1.73971228e-02, 6.76961822e-08],\n",
       "       [9.69179759e-01, 3.08201044e-02, 1.36272426e-07],\n",
       "       [9.64959750e-01, 3.50401015e-02, 1.48432756e-07],\n",
       "       [9.85899457e-01, 1.41004927e-02, 4.98133851e-08],\n",
       "       [9.47359459e-01, 5.26401627e-02, 3.78458102e-07],\n",
       "       [8.18673509e-03, 8.79226386e-01, 1.12586878e-01],\n",
       "       [9.84214846e-01, 1.57851160e-02, 3.77599847e-08],\n",
       "       [5.47811246e-03, 6.75632940e-01, 3.18888947e-01],\n",
       "       [1.13204846e-04, 7.07490197e-02, 9.29137775e-01],\n",
       "       [9.64959750e-01, 3.50401015e-02, 1.48432756e-07],\n",
       "       [1.86351717e-03, 7.06745023e-01, 2.91391460e-01],\n",
       "       [5.48258805e-06, 1.73249601e-02, 9.82669557e-01],\n",
       "       [1.02857513e-05, 1.82424056e-02, 9.81747309e-01],\n",
       "       [3.07580460e-06, 7.43942480e-03, 9.92557499e-01],\n",
       "       [2.57088399e-03, 4.39385344e-01, 5.58043772e-01],\n",
       "       [1.84446137e-01, 8.10472921e-01, 5.08094235e-03],\n",
       "       [1.57533260e-01, 8.37118490e-01, 5.34824997e-03],\n",
       "       [2.12681398e-02, 8.67305720e-01, 1.11426140e-01],\n",
       "       [1.66472510e-03, 3.83244945e-01, 6.15090330e-01],\n",
       "       [9.15631352e-04, 4.21874280e-01, 5.77210089e-01],\n",
       "       [5.23671267e-04, 2.17612257e-01, 7.81864072e-01],\n",
       "       [9.69680738e-01, 3.03190874e-02, 1.74681177e-07],\n",
       "       [9.56247099e-07, 1.21639351e-02, 9.87835109e-01],\n",
       "       [9.49712950e-02, 8.88579804e-01, 1.64489010e-02],\n",
       "       [1.24779086e-02, 7.54250972e-01, 2.33271119e-01],\n",
       "       [1.59001655e-07, 5.21825728e-03, 9.94781584e-01],\n",
       "       [4.73066574e-03, 7.26023767e-01, 2.69245567e-01]])"
      ]
     },
     "execution_count": 10,
     "metadata": {},
     "output_type": "execute_result"
    }
   ],
   "source": [
    "model.predict_proba(X_test)"
   ]
  },
  {
   "cell_type": "code",
   "execution_count": 12,
   "id": "22fbbe1c",
   "metadata": {},
   "outputs": [
    {
     "name": "stdout",
     "output_type": "stream",
     "text": [
      "Accuracy Score : 0.9777777777777777\n",
      "                 precision    recall  f1-score   support\n",
      "\n",
      "    Iris-setosa       1.00      1.00      1.00        15\n",
      "Iris-versicolor       1.00      0.93      0.97        15\n",
      " Iris-virginica       0.94      1.00      0.97        15\n",
      "\n",
      "       accuracy                           0.98        45\n",
      "      macro avg       0.98      0.98      0.98        45\n",
      "   weighted avg       0.98      0.98      0.98        45\n",
      "\n"
     ]
    }
   ],
   "source": [
    "print('Accuracy Score :', accuracy_score(y_test, predicted))\n",
    "class_report = classification_report(y_test, predicted)\n",
    "print(class_report)"
   ]
  },
  {
   "cell_type": "code",
   "execution_count": 13,
   "id": "a658cef9",
   "metadata": {},
   "outputs": [
    {
     "data": {
      "text/plain": [
       "0.9985185185185186"
      ]
     },
     "execution_count": 13,
     "metadata": {},
     "output_type": "execute_result"
    }
   ],
   "source": [
    "roc_auc_score(y_test, model.predict_proba(X_test), multi_class = 'ovr')"
   ]
  },
  {
   "cell_type": "code",
   "execution_count": 14,
   "id": "695c82c4",
   "metadata": {},
   "outputs": [
    {
     "name": "stdout",
     "output_type": "stream",
     "text": [
      "[  9.43048325   2.10041055 -11.5308938 ]\n",
      "[[-0.45764038  0.87256659 -2.30838912 -0.96065436]\n",
      " [ 0.37582283 -0.19465588 -0.16297912 -0.75280996]\n",
      " [ 0.08181755 -0.67791071  2.47136824  1.71346432]]\n"
     ]
    }
   ],
   "source": [
    "print(model.intercept_)\n",
    "print(model.coef_)"
   ]
  },
  {
   "cell_type": "code",
   "execution_count": 15,
   "id": "15a25b90",
   "metadata": {},
   "outputs": [
    {
     "data": {
      "text/plain": [
       "array([[ 0.63277499,  2.39304495,  0.09942128,  0.38264242],\n",
       "       [ 1.45618911,  0.82311786,  0.84960892,  0.47104108],\n",
       "       [ 1.08525779,  0.50767657, 11.83863389,  5.54814881]])"
      ]
     },
     "execution_count": 15,
     "metadata": {},
     "output_type": "execute_result"
    }
   ],
   "source": [
    "import numpy as np\n",
    "np.exp(model.coef_)"
   ]
  },
  {
   "cell_type": "code",
   "execution_count": 16,
   "id": "723f1db9",
   "metadata": {},
   "outputs": [
    {
     "data": {
      "text/html": [
       "<div>\n",
       "<style scoped>\n",
       "    .dataframe tbody tr th:only-of-type {\n",
       "        vertical-align: middle;\n",
       "    }\n",
       "\n",
       "    .dataframe tbody tr th {\n",
       "        vertical-align: top;\n",
       "    }\n",
       "\n",
       "    .dataframe thead th {\n",
       "        text-align: right;\n",
       "    }\n",
       "</style>\n",
       "<table border=\"1\" class=\"dataframe\">\n",
       "  <thead>\n",
       "    <tr style=\"text-align: right;\">\n",
       "      <th></th>\n",
       "      <th>sepal length</th>\n",
       "      <th>sepal width</th>\n",
       "      <th>petal length</th>\n",
       "      <th>petal width</th>\n",
       "    </tr>\n",
       "  </thead>\n",
       "  <tbody>\n",
       "    <tr>\n",
       "      <th>Iris-setosa</th>\n",
       "      <td>0.632775</td>\n",
       "      <td>2.393045</td>\n",
       "      <td>0.099421</td>\n",
       "      <td>0.382642</td>\n",
       "    </tr>\n",
       "    <tr>\n",
       "      <th>Iris-versicolor</th>\n",
       "      <td>1.456189</td>\n",
       "      <td>0.823118</td>\n",
       "      <td>0.849609</td>\n",
       "      <td>0.471041</td>\n",
       "    </tr>\n",
       "    <tr>\n",
       "      <th>Iris-virginica</th>\n",
       "      <td>1.085258</td>\n",
       "      <td>0.507677</td>\n",
       "      <td>11.838634</td>\n",
       "      <td>5.548149</td>\n",
       "    </tr>\n",
       "  </tbody>\n",
       "</table>\n",
       "</div>"
      ],
      "text/plain": [
       "                 sepal length  sepal width  petal length  petal width\n",
       "Iris-setosa          0.632775     2.393045      0.099421     0.382642\n",
       "Iris-versicolor      1.456189     0.823118      0.849609     0.471041\n",
       "Iris-virginica       1.085258     0.507677     11.838634     5.548149"
      ]
     },
     "execution_count": 16,
     "metadata": {},
     "output_type": "execute_result"
    }
   ],
   "source": [
    "pd.DataFrame(np.exp(model.coef_), columns = X_train.columns, index = model.classes_)"
   ]
  },
  {
   "cell_type": "code",
   "execution_count": null,
   "id": "077c510f",
   "metadata": {},
   "outputs": [],
   "source": []
  }
 ],
 "metadata": {
  "kernelspec": {
   "display_name": "Python 3",
   "language": "python",
   "name": "python3"
  },
  "language_info": {
   "codemirror_mode": {
    "name": "ipython",
    "version": 3
   },
   "file_extension": ".py",
   "mimetype": "text/x-python",
   "name": "python",
   "nbconvert_exporter": "python",
   "pygments_lexer": "ipython3",
   "version": "3.8.8"
  }
 },
 "nbformat": 4,
 "nbformat_minor": 5
}
