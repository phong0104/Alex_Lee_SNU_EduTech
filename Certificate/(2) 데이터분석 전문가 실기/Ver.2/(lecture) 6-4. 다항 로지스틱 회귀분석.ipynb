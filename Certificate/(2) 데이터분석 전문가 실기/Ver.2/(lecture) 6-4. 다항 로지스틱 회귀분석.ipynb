{
 "cells": [
  {
   "cell_type": "code",
   "execution_count": 1,
   "id": "1a2e95fb",
   "metadata": {},
   "outputs": [],
   "source": [
    "import pandas as pd\n",
    "iris = pd.read_csv('data/iris.csv')\n",
    "\n",
    "X = iris.drop(['target'], axis=1)\n",
    "y = iris.target"
   ]
  },
  {
   "cell_type": "code",
   "execution_count": 2,
   "id": "deae61f6",
   "metadata": {},
   "outputs": [
    {
     "data": {
      "text/plain": [
       "Iris-setosa        50\n",
       "Iris-versicolor    50\n",
       "Iris-virginica     50\n",
       "Name: target, dtype: int64"
      ]
     },
     "execution_count": 2,
     "metadata": {},
     "output_type": "execute_result"
    }
   ],
   "source": [
    "y.value_counts()"
   ]
  },
  {
   "cell_type": "code",
   "execution_count": 6,
   "id": "efe8f7a5",
   "metadata": {},
   "outputs": [
    {
     "data": {
      "text/html": [
       "<div>\n",
       "<style scoped>\n",
       "    .dataframe tbody tr th:only-of-type {\n",
       "        vertical-align: middle;\n",
       "    }\n",
       "\n",
       "    .dataframe tbody tr th {\n",
       "        vertical-align: top;\n",
       "    }\n",
       "\n",
       "    .dataframe thead th {\n",
       "        text-align: right;\n",
       "    }\n",
       "</style>\n",
       "<table border=\"1\" class=\"dataframe\">\n",
       "  <thead>\n",
       "    <tr style=\"text-align: right;\">\n",
       "      <th></th>\n",
       "      <th>sepal length</th>\n",
       "      <th>sepal width</th>\n",
       "      <th>petal length</th>\n",
       "      <th>petal width</th>\n",
       "    </tr>\n",
       "  </thead>\n",
       "  <tbody>\n",
       "    <tr>\n",
       "      <th>0</th>\n",
       "      <td>5.1</td>\n",
       "      <td>3.5</td>\n",
       "      <td>1.4</td>\n",
       "      <td>0.2</td>\n",
       "    </tr>\n",
       "    <tr>\n",
       "      <th>1</th>\n",
       "      <td>4.9</td>\n",
       "      <td>3.0</td>\n",
       "      <td>1.4</td>\n",
       "      <td>0.2</td>\n",
       "    </tr>\n",
       "    <tr>\n",
       "      <th>2</th>\n",
       "      <td>4.7</td>\n",
       "      <td>3.2</td>\n",
       "      <td>1.3</td>\n",
       "      <td>0.2</td>\n",
       "    </tr>\n",
       "    <tr>\n",
       "      <th>3</th>\n",
       "      <td>4.6</td>\n",
       "      <td>3.1</td>\n",
       "      <td>1.5</td>\n",
       "      <td>0.2</td>\n",
       "    </tr>\n",
       "    <tr>\n",
       "      <th>4</th>\n",
       "      <td>5.0</td>\n",
       "      <td>3.6</td>\n",
       "      <td>1.4</td>\n",
       "      <td>0.2</td>\n",
       "    </tr>\n",
       "  </tbody>\n",
       "</table>\n",
       "</div>"
      ],
      "text/plain": [
       "   sepal length  sepal width  petal length  petal width\n",
       "0           5.1          3.5           1.4          0.2\n",
       "1           4.9          3.0           1.4          0.2\n",
       "2           4.7          3.2           1.3          0.2\n",
       "3           4.6          3.1           1.5          0.2\n",
       "4           5.0          3.6           1.4          0.2"
      ]
     },
     "execution_count": 6,
     "metadata": {},
     "output_type": "execute_result"
    }
   ],
   "source": [
    "X.head()"
   ]
  },
  {
   "cell_type": "code",
   "execution_count": 7,
   "id": "d54cbcc0",
   "metadata": {},
   "outputs": [
    {
     "data": {
      "text/plain": [
       "0    Iris-setosa\n",
       "1    Iris-setosa\n",
       "2    Iris-setosa\n",
       "3    Iris-setosa\n",
       "4    Iris-setosa\n",
       "Name: target, dtype: object"
      ]
     },
     "execution_count": 7,
     "metadata": {},
     "output_type": "execute_result"
    }
   ],
   "source": [
    "y.head()"
   ]
  },
  {
   "cell_type": "code",
   "execution_count": 3,
   "id": "dbb893aa",
   "metadata": {},
   "outputs": [
    {
     "name": "stdout",
     "output_type": "stream",
     "text": [
      "(105, 4) (45, 4) (105,) (45,)\n"
     ]
    }
   ],
   "source": [
    "from sklearn.model_selection import train_test_split\n",
    "X_train, X_test, y_train, y_test = train_test_split(X, y, stratify=y, train_size=0.7,\n",
    "                                                   test_size = 0.3, random_state = 123)\n",
    "print(X_train.shape, X_test.shape, y_train.shape, y_test.shape)"
   ]
  },
  {
   "cell_type": "code",
   "execution_count": 4,
   "id": "c2884361",
   "metadata": {},
   "outputs": [
    {
     "data": {
      "text/plain": [
       "Iris-versicolor    15\n",
       "Iris-virginica     15\n",
       "Iris-setosa        15\n",
       "Name: target, dtype: int64"
      ]
     },
     "execution_count": 4,
     "metadata": {},
     "output_type": "execute_result"
    }
   ],
   "source": [
    "y_test.value_counts()"
   ]
  },
  {
   "cell_type": "code",
   "execution_count": 5,
   "id": "c4fb1018",
   "metadata": {},
   "outputs": [
    {
     "name": "stdout",
     "output_type": "stream",
     "text": [
      "LogisticRegression()\n"
     ]
    }
   ],
   "source": [
    "from sklearn.linear_model import LogisticRegression\n",
    "\n",
    "model = LogisticRegression()\n",
    "model.fit(X_train, y_train)\n",
    "print(model)"
   ]
  },
  {
   "cell_type": "code",
   "execution_count": 8,
   "id": "f9759d29",
   "metadata": {},
   "outputs": [
    {
     "data": {
      "text/html": [
       "<div>\n",
       "<style scoped>\n",
       "    .dataframe tbody tr th:only-of-type {\n",
       "        vertical-align: middle;\n",
       "    }\n",
       "\n",
       "    .dataframe tbody tr th {\n",
       "        vertical-align: top;\n",
       "    }\n",
       "\n",
       "    .dataframe thead th {\n",
       "        text-align: right;\n",
       "    }\n",
       "</style>\n",
       "<table border=\"1\" class=\"dataframe\">\n",
       "  <thead>\n",
       "    <tr style=\"text-align: right;\">\n",
       "      <th></th>\n",
       "      <th>predicted_setosa</th>\n",
       "      <th>predicted_versicolor</th>\n",
       "      <th>predicted_virgivina</th>\n",
       "    </tr>\n",
       "  </thead>\n",
       "  <tbody>\n",
       "    <tr>\n",
       "      <th>setosa</th>\n",
       "      <td>15</td>\n",
       "      <td>0</td>\n",
       "      <td>0</td>\n",
       "    </tr>\n",
       "    <tr>\n",
       "      <th>versicolor</th>\n",
       "      <td>0</td>\n",
       "      <td>14</td>\n",
       "      <td>1</td>\n",
       "    </tr>\n",
       "    <tr>\n",
       "      <th>virginica</th>\n",
       "      <td>0</td>\n",
       "      <td>0</td>\n",
       "      <td>15</td>\n",
       "    </tr>\n",
       "  </tbody>\n",
       "</table>\n",
       "</div>"
      ],
      "text/plain": [
       "            predicted_setosa  predicted_versicolor  predicted_virgivina\n",
       "setosa                    15                     0                    0\n",
       "versicolor                 0                    14                    1\n",
       "virginica                  0                     0                   15"
      ]
     },
     "execution_count": 8,
     "metadata": {},
     "output_type": "execute_result"
    }
   ],
   "source": [
    "from sklearn.metrics import classification_report, confusion_matrix, accuracy_score, roc_auc_score\n",
    "predicted = model.predict(X_test)\n",
    "cm = confusion_matrix(y_test, predicted)\n",
    "cmtb = pd.DataFrame(cm, columns = ['predicted_setosa', 'predicted_versicolor', 'predicted_virgivina'],\n",
    "                    index = ['setosa', 'versicolor', 'virginica'])\n",
    "cmtb"
   ]
  },
  {
   "cell_type": "code",
   "execution_count": 9,
   "id": "b41431a4",
   "metadata": {},
   "outputs": [
    {
     "data": {
      "text/plain": [
       "array(['Iris-versicolor', 'Iris-virginica', 'Iris-versicolor',\n",
       "       'Iris-versicolor', 'Iris-virginica', 'Iris-setosa', 'Iris-setosa',\n",
       "       'Iris-versicolor', 'Iris-setosa', 'Iris-setosa', 'Iris-virginica',\n",
       "       'Iris-setosa', 'Iris-virginica', 'Iris-setosa', 'Iris-versicolor',\n",
       "       'Iris-setosa', 'Iris-virginica', 'Iris-virginica', 'Iris-setosa',\n",
       "       'Iris-setosa', 'Iris-setosa', 'Iris-setosa', 'Iris-setosa',\n",
       "       'Iris-versicolor', 'Iris-setosa', 'Iris-versicolor',\n",
       "       'Iris-virginica', 'Iris-setosa', 'Iris-versicolor',\n",
       "       'Iris-virginica', 'Iris-virginica', 'Iris-virginica',\n",
       "       'Iris-virginica', 'Iris-versicolor', 'Iris-versicolor',\n",
       "       'Iris-versicolor', 'Iris-virginica', 'Iris-virginica',\n",
       "       'Iris-virginica', 'Iris-setosa', 'Iris-virginica',\n",
       "       'Iris-versicolor', 'Iris-versicolor', 'Iris-virginica',\n",
       "       'Iris-versicolor'], dtype=object)"
      ]
     },
     "execution_count": 9,
     "metadata": {},
     "output_type": "execute_result"
    }
   ],
   "source": [
    "model.predict(X_test)"
   ]
  },
  {
   "cell_type": "code",
   "execution_count": 10,
   "id": "89428a6a",
   "metadata": {},
   "outputs": [
    {
     "data": {
      "text/plain": [
       "array(['Iris-versicolor', 'Iris-virginica', 'Iris-versicolor',\n",
       "       'Iris-versicolor', 'Iris-virginica', 'Iris-setosa', 'Iris-setosa',\n",
       "       'Iris-versicolor', 'Iris-setosa', 'Iris-setosa', 'Iris-virginica',\n",
       "       'Iris-setosa', 'Iris-virginica', 'Iris-setosa', 'Iris-versicolor',\n",
       "       'Iris-setosa', 'Iris-virginica', 'Iris-virginica', 'Iris-setosa',\n",
       "       'Iris-setosa', 'Iris-setosa', 'Iris-setosa', 'Iris-setosa',\n",
       "       'Iris-versicolor', 'Iris-setosa', 'Iris-versicolor',\n",
       "       'Iris-virginica', 'Iris-setosa', 'Iris-versicolor',\n",
       "       'Iris-virginica', 'Iris-virginica', 'Iris-virginica',\n",
       "       'Iris-virginica', 'Iris-versicolor', 'Iris-versicolor',\n",
       "       'Iris-versicolor', 'Iris-virginica', 'Iris-virginica',\n",
       "       'Iris-virginica', 'Iris-setosa', 'Iris-virginica',\n",
       "       'Iris-versicolor', 'Iris-versicolor', 'Iris-virginica',\n",
       "       'Iris-versicolor'], dtype=object)"
      ]
     },
     "execution_count": 10,
     "metadata": {},
     "output_type": "execute_result"
    }
   ],
   "source": [
    "model.predict(X_test)"
   ]
  },
  {
   "cell_type": "code",
   "execution_count": 11,
   "id": "fcb098ed",
   "metadata": {},
   "outputs": [
    {
     "name": "stdout",
     "output_type": "stream",
     "text": [
      "Accuracy Score:  0.9777777777777777\n",
      "\n",
      "\n",
      "                 precision    recall  f1-score   support\n",
      "\n",
      "    Iris-setosa       1.00      1.00      1.00        15\n",
      "Iris-versicolor       1.00      0.93      0.97        15\n",
      " Iris-virginica       0.94      1.00      0.97        15\n",
      "\n",
      "       accuracy                           0.98        45\n",
      "      macro avg       0.98      0.98      0.98        45\n",
      "   weighted avg       0.98      0.98      0.98        45\n",
      "\n"
     ]
    }
   ],
   "source": [
    "print('Accuracy Score: ', accuracy_score(y_test, predicted))\n",
    "print('\\n')\n",
    "class_report = classification_report(y_test, predicted)\n",
    "print(class_report)"
   ]
  },
  {
   "cell_type": "code",
   "execution_count": 12,
   "id": "71344db0",
   "metadata": {},
   "outputs": [
    {
     "data": {
      "text/plain": [
       "0.9985185185185186"
      ]
     },
     "execution_count": 12,
     "metadata": {},
     "output_type": "execute_result"
    }
   ],
   "source": [
    "roc_auc_score(y_test, model.predict_proba(X_test), multi_class='ovr')"
   ]
  },
  {
   "cell_type": "code",
   "execution_count": 13,
   "id": "1236a903",
   "metadata": {},
   "outputs": [
    {
     "name": "stdout",
     "output_type": "stream",
     "text": [
      "Help on function roc_auc_score in module sklearn.metrics._ranking:\n",
      "\n",
      "roc_auc_score(y_true, y_score, *, average='macro', sample_weight=None, max_fpr=None, multi_class='raise', labels=None)\n",
      "    Compute Area Under the Receiver Operating Characteristic Curve (ROC AUC)\n",
      "    from prediction scores.\n",
      "    \n",
      "    Note: this implementation can be used with binary, multiclass and\n",
      "    multilabel classification, but some restrictions apply (see Parameters).\n",
      "    \n",
      "    Read more in the :ref:`User Guide <roc_metrics>`.\n",
      "    \n",
      "    Parameters\n",
      "    ----------\n",
      "    y_true : array-like of shape (n_samples,) or (n_samples, n_classes)\n",
      "        True labels or binary label indicators. The binary and multiclass cases\n",
      "        expect labels with shape (n_samples,) while the multilabel case expects\n",
      "        binary label indicators with shape (n_samples, n_classes).\n",
      "    \n",
      "    y_score : array-like of shape (n_samples,) or (n_samples, n_classes)\n",
      "        Target scores.\n",
      "    \n",
      "        * In the binary case, it corresponds to an array of shape\n",
      "          `(n_samples,)`. Both probability estimates and non-thresholded\n",
      "          decision values can be provided. The probability estimates correspond\n",
      "          to the **probability of the class with the greater label**,\n",
      "          i.e. `estimator.classes_[1]` and thus\n",
      "          `estimator.predict_proba(X, y)[:, 1]`. The decision values\n",
      "          corresponds to the output of `estimator.decision_function(X, y)`.\n",
      "          See more information in the :ref:`User guide <roc_auc_binary>`;\n",
      "        * In the multiclass case, it corresponds to an array of shape\n",
      "          `(n_samples, n_classes)` of probability estimates provided by the\n",
      "          `predict_proba` method. The probability estimates **must**\n",
      "          sum to 1 across the possible classes. In addition, the order of the\n",
      "          class scores must correspond to the order of ``labels``,\n",
      "          if provided, or else to the numerical or lexicographical order of\n",
      "          the labels in ``y_true``. See more information in the\n",
      "          :ref:`User guide <roc_auc_multiclass>`;\n",
      "        * In the multilabel case, it corresponds to an array of shape\n",
      "          `(n_samples, n_classes)`. Probability estimates are provided by the\n",
      "          `predict_proba` method and the non-thresholded decision values by\n",
      "          the `decision_function` method. The probability estimates correspond\n",
      "          to the **probability of the class with the greater label for each\n",
      "          output** of the classifier. See more information in the\n",
      "          :ref:`User guide <roc_auc_multilabel>`.\n",
      "    \n",
      "    average : {'micro', 'macro', 'samples', 'weighted'} or None,             default='macro'\n",
      "        If ``None``, the scores for each class are returned. Otherwise,\n",
      "        this determines the type of averaging performed on the data:\n",
      "        Note: multiclass ROC AUC currently only handles the 'macro' and\n",
      "        'weighted' averages.\n",
      "    \n",
      "        ``'micro'``:\n",
      "            Calculate metrics globally by considering each element of the label\n",
      "            indicator matrix as a label.\n",
      "        ``'macro'``:\n",
      "            Calculate metrics for each label, and find their unweighted\n",
      "            mean.  This does not take label imbalance into account.\n",
      "        ``'weighted'``:\n",
      "            Calculate metrics for each label, and find their average, weighted\n",
      "            by support (the number of true instances for each label).\n",
      "        ``'samples'``:\n",
      "            Calculate metrics for each instance, and find their average.\n",
      "    \n",
      "        Will be ignored when ``y_true`` is binary.\n",
      "    \n",
      "    sample_weight : array-like of shape (n_samples,), default=None\n",
      "        Sample weights.\n",
      "    \n",
      "    max_fpr : float > 0 and <= 1, default=None\n",
      "        If not ``None``, the standardized partial AUC [2]_ over the range\n",
      "        [0, max_fpr] is returned. For the multiclass case, ``max_fpr``,\n",
      "        should be either equal to ``None`` or ``1.0`` as AUC ROC partial\n",
      "        computation currently is not supported for multiclass.\n",
      "    \n",
      "    multi_class : {'raise', 'ovr', 'ovo'}, default='raise'\n",
      "        Only used for multiclass targets. Determines the type of configuration\n",
      "        to use. The default value raises an error, so either\n",
      "        ``'ovr'`` or ``'ovo'`` must be passed explicitly.\n",
      "    \n",
      "        ``'ovr'``:\n",
      "            Stands for One-vs-rest. Computes the AUC of each class\n",
      "            against the rest [3]_ [4]_. This\n",
      "            treats the multiclass case in the same way as the multilabel case.\n",
      "            Sensitive to class imbalance even when ``average == 'macro'``,\n",
      "            because class imbalance affects the composition of each of the\n",
      "            'rest' groupings.\n",
      "        ``'ovo'``:\n",
      "            Stands for One-vs-one. Computes the average AUC of all\n",
      "            possible pairwise combinations of classes [5]_.\n",
      "            Insensitive to class imbalance when\n",
      "            ``average == 'macro'``.\n",
      "    \n",
      "    labels : array-like of shape (n_classes,), default=None\n",
      "        Only used for multiclass targets. List of labels that index the\n",
      "        classes in ``y_score``. If ``None``, the numerical or lexicographical\n",
      "        order of the labels in ``y_true`` is used.\n",
      "    \n",
      "    Returns\n",
      "    -------\n",
      "    auc : float\n",
      "    \n",
      "    References\n",
      "    ----------\n",
      "    .. [1] `Wikipedia entry for the Receiver operating characteristic\n",
      "            <https://en.wikipedia.org/wiki/Receiver_operating_characteristic>`_\n",
      "    \n",
      "    .. [2] `Analyzing a portion of the ROC curve. McClish, 1989\n",
      "            <https://www.ncbi.nlm.nih.gov/pubmed/2668680>`_\n",
      "    \n",
      "    .. [3] Provost, F., Domingos, P. (2000). Well-trained PETs: Improving\n",
      "           probability estimation trees (Section 6.2), CeDER Working Paper\n",
      "           #IS-00-04, Stern School of Business, New York University.\n",
      "    \n",
      "    .. [4] `Fawcett, T. (2006). An introduction to ROC analysis. Pattern\n",
      "            Recognition Letters, 27(8), 861-874.\n",
      "            <https://www.sciencedirect.com/science/article/pii/S016786550500303X>`_\n",
      "    \n",
      "    .. [5] `Hand, D.J., Till, R.J. (2001). A Simple Generalisation of the Area\n",
      "            Under the ROC Curve for Multiple Class Classification Problems.\n",
      "            Machine Learning, 45(2), 171-186.\n",
      "            <http://link.springer.com/article/10.1023/A:1010920819831>`_\n",
      "    \n",
      "    See Also\n",
      "    --------\n",
      "    average_precision_score : Area under the precision-recall curve.\n",
      "    roc_curve : Compute Receiver operating characteristic (ROC) curve.\n",
      "    plot_roc_curve : Plot Receiver operating characteristic (ROC) curve.\n",
      "    \n",
      "    Examples\n",
      "    --------\n",
      "    Binary case:\n",
      "    \n",
      "    >>> from sklearn.datasets import load_breast_cancer\n",
      "    >>> from sklearn.linear_model import LogisticRegression\n",
      "    >>> from sklearn.metrics import roc_auc_score\n",
      "    >>> X, y = load_breast_cancer(return_X_y=True)\n",
      "    >>> clf = LogisticRegression(solver=\"liblinear\", random_state=0).fit(X, y)\n",
      "    >>> roc_auc_score(y, clf.predict_proba(X)[:, 1])\n",
      "    0.99...\n",
      "    >>> roc_auc_score(y, clf.decision_function(X))\n",
      "    0.99...\n",
      "    \n",
      "    Multiclass case:\n",
      "    \n",
      "    >>> from sklearn.datasets import load_iris\n",
      "    >>> X, y = load_iris(return_X_y=True)\n",
      "    >>> clf = LogisticRegression(solver=\"liblinear\").fit(X, y)\n",
      "    >>> roc_auc_score(y, clf.predict_proba(X), multi_class='ovr')\n",
      "    0.99...\n",
      "    \n",
      "    Multilabel case:\n",
      "    \n",
      "    >>> from sklearn.datasets import make_multilabel_classification\n",
      "    >>> from sklearn.multioutput import MultiOutputClassifier\n",
      "    >>> X, y = make_multilabel_classification(random_state=0)\n",
      "    >>> clf = MultiOutputClassifier(clf).fit(X, y)\n",
      "    >>> # get a list of n_output containing probability arrays of shape\n",
      "    >>> # (n_samples, n_classes)\n",
      "    >>> y_pred = clf.predict_proba(X)\n",
      "    >>> # extract the positive columns for each output\n",
      "    >>> y_pred = np.transpose([pred[:, 1] for pred in y_pred])\n",
      "    >>> roc_auc_score(y, y_pred, average=None)\n",
      "    array([0.82..., 0.86..., 0.94..., 0.85... , 0.94...])\n",
      "    >>> from sklearn.linear_model import RidgeClassifierCV\n",
      "    >>> clf = RidgeClassifierCV().fit(X, y)\n",
      "    >>> roc_auc_score(y, clf.decision_function(X), average=None)\n",
      "    array([0.81..., 0.84... , 0.93..., 0.87..., 0.94...])\n",
      "\n"
     ]
    }
   ],
   "source": [
    "help(roc_auc_score)"
   ]
  },
  {
   "cell_type": "code",
   "execution_count": 14,
   "id": "874e6313",
   "metadata": {},
   "outputs": [
    {
     "name": "stdout",
     "output_type": "stream",
     "text": [
      "Intercept: \n",
      " [  9.43048325   2.10041055 -11.5308938 ]\n",
      "Coefficient: \n",
      " [[-0.45764038  0.87256659 -2.30838912 -0.96065436]\n",
      " [ 0.37582283 -0.19465588 -0.16297912 -0.75280996]\n",
      " [ 0.08181755 -0.67791071  2.47136824  1.71346432]]\n"
     ]
    }
   ],
   "source": [
    "print('Intercept: \\n', model.intercept_)\n",
    "print('Coefficient: \\n', model.coef_)"
   ]
  },
  {
   "cell_type": "code",
   "execution_count": 15,
   "id": "2e1d7d2b",
   "metadata": {},
   "outputs": [
    {
     "data": {
      "text/plain": [
       "array([[ 0.63277499,  2.39304495,  0.09942128,  0.38264242],\n",
       "       [ 1.45618911,  0.82311786,  0.84960892,  0.47104108],\n",
       "       [ 1.08525779,  0.50767657, 11.83863389,  5.54814881]])"
      ]
     },
     "execution_count": 15,
     "metadata": {},
     "output_type": "execute_result"
    }
   ],
   "source": [
    "import numpy as np\n",
    "np.exp(model.coef_)"
   ]
  },
  {
   "cell_type": "code",
   "execution_count": 16,
   "id": "2bd8e028",
   "metadata": {},
   "outputs": [
    {
     "data": {
      "text/html": [
       "<div>\n",
       "<style scoped>\n",
       "    .dataframe tbody tr th:only-of-type {\n",
       "        vertical-align: middle;\n",
       "    }\n",
       "\n",
       "    .dataframe tbody tr th {\n",
       "        vertical-align: top;\n",
       "    }\n",
       "\n",
       "    .dataframe thead th {\n",
       "        text-align: right;\n",
       "    }\n",
       "</style>\n",
       "<table border=\"1\" class=\"dataframe\">\n",
       "  <thead>\n",
       "    <tr style=\"text-align: right;\">\n",
       "      <th></th>\n",
       "      <th>sepal length</th>\n",
       "      <th>sepal width</th>\n",
       "      <th>petal length</th>\n",
       "      <th>petal width</th>\n",
       "    </tr>\n",
       "  </thead>\n",
       "  <tbody>\n",
       "    <tr>\n",
       "      <th>Iris-setosa</th>\n",
       "      <td>0.632775</td>\n",
       "      <td>2.393045</td>\n",
       "      <td>0.099421</td>\n",
       "      <td>0.382642</td>\n",
       "    </tr>\n",
       "    <tr>\n",
       "      <th>Iris-versicolor</th>\n",
       "      <td>1.456189</td>\n",
       "      <td>0.823118</td>\n",
       "      <td>0.849609</td>\n",
       "      <td>0.471041</td>\n",
       "    </tr>\n",
       "    <tr>\n",
       "      <th>Iris-virginica</th>\n",
       "      <td>1.085258</td>\n",
       "      <td>0.507677</td>\n",
       "      <td>11.838634</td>\n",
       "      <td>5.548149</td>\n",
       "    </tr>\n",
       "  </tbody>\n",
       "</table>\n",
       "</div>"
      ],
      "text/plain": [
       "                 sepal length  sepal width  petal length  petal width\n",
       "Iris-setosa          0.632775     2.393045      0.099421     0.382642\n",
       "Iris-versicolor      1.456189     0.823118      0.849609     0.471041\n",
       "Iris-virginica       1.085258     0.507677     11.838634     5.548149"
      ]
     },
     "execution_count": 16,
     "metadata": {},
     "output_type": "execute_result"
    }
   ],
   "source": [
    "pd.DataFrame(np.exp(model.coef_), columns = X_train.columns, index = model.classes_)"
   ]
  },
  {
   "cell_type": "code",
   "execution_count": null,
   "id": "e0932a28",
   "metadata": {},
   "outputs": [],
   "source": []
  }
 ],
 "metadata": {
  "kernelspec": {
   "display_name": "Python 3",
   "language": "python",
   "name": "python3"
  },
  "language_info": {
   "codemirror_mode": {
    "name": "ipython",
    "version": 3
   },
   "file_extension": ".py",
   "mimetype": "text/x-python",
   "name": "python",
   "nbconvert_exporter": "python",
   "pygments_lexer": "ipython3",
   "version": "3.8.8"
  }
 },
 "nbformat": 4,
 "nbformat_minor": 5
}
