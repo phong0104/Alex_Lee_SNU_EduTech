{
 "cells": [
  {
   "cell_type": "markdown",
   "metadata": {},
   "source": [
    "# 분산분석 (ANOVA) \n",
    "\n",
    "\n",
    "##  일원배치 분산분석 (One-way ANOVA)\n",
    "\n",
    "- T-검정이 두 집단 간의 평균 차이를 비교하는 통계분석 방법이라면 분산분석은 두 개 이상의 다수 집단 간 평균을 비교하는 통계분석 방법이다. \n",
    "- 분산분석은 개수에 따라 일원배치, 이원배치, 다원배치 분산분석으로 나누어진다. \n",
    "\n",
    "### 분산분석의 개념 \n",
    "\n",
    "\n",
    "- 분산분석은 <b>두 개 이상의 집단</b>에서 그룹 평균 간 차이를 그룹 내 변동에 비교하여 살펴보는 통계 분석 방법이다. \n",
    "- 즉, 두 개 이상 집단들의 평균 간 차이에 대한 통계적 유의성을 검증하는 방법이다. \n",
    "- 분산분석의 분류는 아래와 같다. \n",
    "\n",
    "|분석 구분|분석 명칭|독립변수 개수|종속변수 개수|\n",
    "|:------:|:---:|:---:|:-----:|\n",
    "|단일변량 분산분석|일원배치 분산분석| 1개  | 1개 |\n",
    "||이원배치 분산분석|2개||\n",
    "||다원배치 분산분석|3개 이상||\n",
    "|다변량 분산분석|MANOVA|1개 이상|2개 이상|\n",
    "\n",
    "\n",
    "\n",
    "<br>\n",
    "<br>\n",
    "\n",
    "###  일원배치 분산분석의 개념 \n",
    "- 분산분석에서 반응값에 대한 하나의 범주형 변수의 영향을 알아보기 위해 사용되는 검증 방법이다. \n",
    "- 모집단의 수에는 제한이 없으며, 각 표본의 수는 같지 않아도 된다. \n",
    "- F 검정 통계량을 이용한다. \n",
    "\n",
    "\n",
    "###  일원배치 분산분석의 가정 \n",
    "- 각 집단의 측정치는 서로 독립적이며, 정규분포를 따른다. \n",
    "- 각 집단 측정치의 분산은 같다. (등분산 가정) "
   ]
  },
  {
   "cell_type": "markdown",
   "metadata": {},
   "source": [
    "\n",
    "### 분산분석 표 \n",
    "\n",
    "![python image2](./일원배치분산분석_표.png)\n",
    "\n",
    "- SSB == SST 라고도 하며 between treatment Sum of square를 의미한다. \n",
    "- SSW == SSE 라고도 하며 error or residual sum of square를 의미한다. \n",
    "\n",
    "### 가설 검정 \n",
    "- 귀무가설(H0) : k개의 집단 간 모평균에는 차이가 없다. 즉, 같다고 할 수 있다.  \n",
    "- 대립가설(H1) : k개의 집단 간 모평균이 모두 같다고 할 수 없다. \n",
    "\n",
    "### 사후 검정 \n",
    "- 사후검정이란 분산분석의 결과 귀무가설이 기각되어 적어도 한 집단에서 평균의 차이가 있음이 통계적으로 증명되었을 경우(<p-value), 어떤 집단들에 대해서 평균의 차이가 존재하는지를 알아보기 위해 실시하는 분석이다. \n",
    "- 사후분석의 종류로는 던칸의 MRT, 피셔의 LSD, 튜키의 HSD방법 등이 있다. \n",
    "\n",
    "### Python을 활용한 일원배치 분산분석 \n",
    "* 함수 사용법\n",
    "\n",
    "![image.png](./일원배치분산분석.png)\n"
   ]
  },
  {
   "cell_type": "code",
   "execution_count": null,
   "metadata": {},
   "outputs": [],
   "source": []
  }
 ],
 "metadata": {
  "kernelspec": {
   "display_name": "Python 3",
   "language": "python",
   "name": "python3"
  },
  "language_info": {
   "codemirror_mode": {
    "name": "ipython",
    "version": 3
   },
   "file_extension": ".py",
   "mimetype": "text/x-python",
   "name": "python",
   "nbconvert_exporter": "python",
   "pygments_lexer": "ipython3",
   "version": "3.8.8"
  },
  "toc": {
   "base_numbering": "3",
   "nav_menu": {},
   "number_sections": true,
   "sideBar": true,
   "skip_h1_title": false,
   "title_cell": "Table of Contents",
   "title_sidebar": "Contents",
   "toc_cell": false,
   "toc_position": {},
   "toc_section_display": true,
   "toc_window_display": false
  }
 },
 "nbformat": 4,
 "nbformat_minor": 4
}
