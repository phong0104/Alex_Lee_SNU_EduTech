{
 "cells": [
  {
   "cell_type": "markdown",
   "metadata": {},
   "source": [
    "## 이원배치 분산분석 (Two-way ANOVA)\n",
    "\n",
    "\n",
    "### 이원배치 분산분석의 개념 \n",
    "\n",
    "- 분산분석에서 반응값에 대해 두 개의 범주형 변수 A,B의 영향을 알아보기 위해 사용되는 검증 방법이다. \n",
    "- 예를 들어 성별과 학년에 따른 시험점수의 차이에 대해 통계적으로 검정하기 위해 이원배치 분산분석을 사용할 수 있다. \n",
    "- 두 독립변수 A,B사이에 상관관계가 있는지를 살펴보는 교호작용(두 독립변수의 범주들의 조합으로 인해 반응변수에 미치는 특별한 영향)에 대한 검증이 반드시 진행되어야 한다. \n",
    "\n",
    "\n",
    "### 이원배치 분산분석의 가정 \n",
    "- 각 집단 측정치의 분포는 정규분포이어야 한다. (정규성) \n",
    "- 집단 간 측정치의 분산은 같다. (등분산성) \n",
    "\n",
    "\n",
    "\n",
    "### 주효과와 교호작용효과 \n",
    "- 이원배치 분산분석에서는 두 개의 독립변수값에 따르는 데이터의 주효과와 상호작용효과에 대한 검정을 수행한다. \n",
    "- 주효과란 각각의 독립변수가 종속변수에 미치는 효과를 의미하며, 이를 검정하는 것을 주효과 검정이라 한다. \n",
    "- 교호작용효과는 여러 독립변수들의 조합이 종속변수에 주는 영향을 의미한다. 즉 교호작용효과 검정은 한 독립변수가 종속변수에 미치는 영향이 다른 독립변수의 수준에 따라서 달라지는 지를 분석하는 것이다. \n",
    "- 두 독립변수 A,B 사이에 상관관계가 존재할 경우, 교호작용이 있다는 의미이다. \n",
    "- 교호작용이 없을 경우, 주효과 검정을 진행한다. 반면 교호작용이 있을 경우에는 검정이 무의미하다. \n",
    "\n",
    "\n",
    "### 분산분석표 \n",
    "![python image2](https://mblogthumb-phinf.pstatic.net/20140817_281/hyear1004_1408277411396w8n9X_GIF/%C0%CC%BF%F8%BA%D0%BB%EA.GIF?type=w2)\n",
    "\n",
    "- SST (Sum of Sqares Total) : 총 제곱합 \n",
    "- SSA : 요인A 수준 평균값들 사이의 제곱합 \n",
    "- SSB : 요인 B 수준 평균값들 사이의 제곱합 \n",
    "- SSE(Sum of Squares Error): 오차 제곱합 or  SSW== (Sum of square within factor) : 집단 내 변화량 \n",
    "- I : 요인A의 수준의 수 \n",
    "- J : 요인B의 수준의 수 \n",
    "\n",
    "### 가설 검정 \n",
    "- 귀무가설(H0) : 3개 <br>\n",
    "1) a와 b변수의 상호작용 효과 (교호작용, interaction)가 없다.  <br>\n",
    "2) a변수에 따른 종속변수의 값에는 차이가 없다. <br>\n",
    "3) b변수에 따른 종속변수의 값에는 차이가 없다. <br>\n",
    "\n",
    "<br><br>\n",
    "- 대립가설(H1) : 3개 <br>\n",
    "1) a와 b변수의 상호작용 효과 (교호작용, interaction)가 있다. . <br>\n",
    "2) a변수에 따른 종속변수의 값에는 차이가 있다. <br>\n",
    "3) b변수에 따른 종속변수의 값에는 차이가 있다. <br>\n",
    "\n"
   ]
  },
  {
   "cell_type": "code",
   "execution_count": null,
   "metadata": {},
   "outputs": [],
   "source": []
  }
 ],
 "metadata": {
  "kernelspec": {
   "display_name": "Python 3",
   "language": "python",
   "name": "python3"
  },
  "language_info": {
   "codemirror_mode": {
    "name": "ipython",
    "version": 3
   },
   "file_extension": ".py",
   "mimetype": "text/x-python",
   "name": "python",
   "nbconvert_exporter": "python",
   "pygments_lexer": "ipython3",
   "version": "3.8.8"
  },
  "toc": {
   "base_numbering": "4.3",
   "nav_menu": {},
   "number_sections": true,
   "sideBar": true,
   "skip_h1_title": false,
   "title_cell": "Table of Contents",
   "title_sidebar": "Contents",
   "toc_cell": false,
   "toc_position": {},
   "toc_section_display": true,
   "toc_window_display": false
  }
 },
 "nbformat": 4,
 "nbformat_minor": 4
}
