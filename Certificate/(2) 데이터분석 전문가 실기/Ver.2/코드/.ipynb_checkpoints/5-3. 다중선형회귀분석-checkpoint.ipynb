{
 "cells": [
  {
   "cell_type": "markdown",
   "metadata": {},
   "source": [
    "\n",
    "# 다중선형회귀분석\n",
    "\n",
    "\n",
    "## 다중선형회귀분석(다변량 회귀분석) \n",
    "\n",
    "- 다중선형회귀분석은 두 개 이상의 독립변수가 종속변수에 미치는 영향을 추정하는 통계기법 \n",
    "- 회귀식은 일반적인 1차항으로 구성된 다항식 \n",
    "\n",
    "\n",
    "\n",
    "## 다중선형회귀분석 시 검토사항 .\n",
    "\n",
    "\n",
    "\n",
    "<b>가. 데이터가 전제하는 가정을 만족시키는가?</b>\n",
    "- 독립변수와 종속변수간 선형성, 오차의 독립성 / 등분산성/ 정규성 등을 만족하고 있는지 확인해야함 \n",
    "\n",
    "\n",
    "<b>나. 회귀모형은 통계적으로 유의한가? </b>\n",
    "\n",
    "- H0 : 회귀모형은 유의하지 않다 (𝛽1 = 𝛽2 = 𝛽3 = ... = 𝛽k = 0)  \n",
    "- H1 : 회귀모형은 유의하다 (적어도 하나의 𝛽i는 0이 아니다) \n",
    "- 회귀분석의 결과로 산출되는 F-통계량의 p-value값이 0.05보다 작으면 해당 회귀식은 통계적으로 유의하다고 볼 수 있다. \n",
    "\n",
    "<b>다. 모형은 데이터를 얼마나 설명할 수 있는가?</b>\n",
    "- 수정된 결정계수(adjusted R^2)를 확인한다.\n",
    "\n",
    "<b>라. 모형 내의 회귀계수가 유의한가? </b>\n",
    "- 단변량 회귀분석에서 회귀계수의 유의성 검토와 마찬가지로 회귀계수에 대한 t통계량의 p-value값이 0.05보다 작으면 해당 회귀 계수가 통계적으로 유의하다고 볼 수 있다. <br>단, 다중회귀분석을 할 때는 모든 회귀계수가 유의한지를 검정한 후 해당 회귀식을 해석해야 함 <br>\n",
    "\n",
    "\n",
    "<b>마. 모형이 데이터를 잘 적합하고 있는가?</b>\n",
    "- 모형의 잔차와 종속변수에 대한 산점도를 그리고, 회귀진단을 수행하여 판단한다. \n",
    "\n",
    "\n",
    "\n",
    "\n"
   ]
  },
  {
   "cell_type": "markdown",
   "metadata": {},
   "source": [
    "\n",
    "\n",
    "\n",
    "### 더미변수화 \n",
    "\n",
    "<b>가. 범주형 변수 변환</b>\n",
    "- 회귀분석은 연속형 변수를 다루는 기법이므로 범주형 데이터의 경우 형태를 변환해주어야 회귀분석을 수행할 수 있다. \n",
    " \n",
    "- 더미변수란 0 or 1값만 가지며 어떤 특징에 해당 하는지의 여부를 표현하는 변수이다.  \n",
    "\n"
   ]
  },
  {
   "cell_type": "code",
   "execution_count": null,
   "metadata": {},
   "outputs": [],
   "source": []
  }
 ],
 "metadata": {
  "kernelspec": {
   "display_name": "Python 3",
   "language": "python",
   "name": "python3"
  },
  "language_info": {
   "codemirror_mode": {
    "name": "ipython",
    "version": 3
   },
   "file_extension": ".py",
   "mimetype": "text/x-python",
   "name": "python",
   "nbconvert_exporter": "python",
   "pygments_lexer": "ipython3",
   "version": "3.8.8"
  },
  "toc": {
   "base_numbering": "5.3",
   "nav_menu": {},
   "number_sections": true,
   "sideBar": true,
   "skip_h1_title": false,
   "title_cell": "Table of Contents",
   "title_sidebar": "Contents",
   "toc_cell": false,
   "toc_position": {
    "height": "calc(100% - 180px)",
    "left": "10px",
    "top": "150px",
    "width": "243px"
   },
   "toc_section_display": true,
   "toc_window_display": false
  }
 },
 "nbformat": 4,
 "nbformat_minor": 4
}
