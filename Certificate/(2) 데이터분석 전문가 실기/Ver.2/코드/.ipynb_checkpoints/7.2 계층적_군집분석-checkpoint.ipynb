{
 "cells": [
  {
   "cell_type": "markdown",
   "metadata": {},
   "source": [
    "## 계층적 군집분석\n",
    "n개의 군집으로 시작해 점차 군집의 개수를 줄여나가는 방법   \n",
    "__가.__ 종류  \n",
    "* 최단연결법\n",
    "    - nXn 거리행렬에서 거리가 가장 가까운 데이터를 묶어서 군집을 형성함\n",
    "* 최장연결법\n",
    "    - 데이터와의 거리를 계산할 때 최장거리를 거리로 계산함\n",
    "* 평균연결법\n",
    "    - 데이터와의 거리를 계산할 때 평균을 거리로 계산함\n",
    " * 와드연결법\n",
    "     - 군집 내 편차들의 제곱합을 고려한 방법\n",
    "     - 군집 간 정보의 손실을 최소화하기 위해 군집화를 진행함\n",
    "   \n",
    "   \n",
    "__나.__ 군집화\n",
    "* 거리행렬을 통해 가장 가까운 거리의 객체들 관계를 규명함\n",
    "* 덴드로그램 그리기\n",
    "* 덴드로그램의 최상단부터 세로축의 개수에 따라 가로선을 그어 군집 개수를 선택함\n",
    "* 각 객체들의 구성을 고려해 적절한 군집수 생성함"
   ]
  },
  {
   "cell_type": "markdown",
   "metadata": {},
   "source": [
    "함수1. linkage 함수"
   ]
  },
  {
   "cell_type": "markdown",
   "metadata": {},
   "source": [
    "linkage(y, method='single', metric='euclidean')   \n",
    "* y: 거리행렬(데이터를 넣으면 됨)\n",
    "    - 모든 요소가 유한해야함(NaNs, infs가 없어야함)\n",
    "* method: \n",
    "    - single : 최단연결법\n",
    "    - complete : 최장연결법\n",
    "    - average : 평균연결법\n",
    "    - centroid : 중심연결법\n",
    "    - ward : 와드연결법\n",
    "* metric:\n",
    "    - euclidean :유클리디언 거리\n",
    "    - seuclidean : 표준화거리\n",
    "    - mahalanobis : 마할라노비스 거리\n",
    "    - chebyshev : 체비셰프 거리\n",
    "    - cityblock : 맨하탄거리\n",
    "    - canberra : 캔버라 거리\n",
    "    - minkowski : 민코우스키 거리\n",
    "    - jaccard : 자카드 거리\n",
    "    - cosine : 코사인 유사도"
   ]
  },
  {
   "cell_type": "markdown",
   "metadata": {},
   "source": [
    "함수2. dendrogram 함수"
   ]
  },
  {
   "cell_type": "markdown",
   "metadata": {},
   "source": [
    "dendrogram(Z, orientation='top', labels=None, color_threshold=None, get_leaves=True, ,    \n",
    "* Z : linkage matrix. linkage 함수로 생성함\n",
    "* orientation\n",
    "    - top: 플롯이 위에서 아래방향으로 그려짐\n",
    "    - bottom: 플롯이 아래에서 위방향으로 그려짐\n",
    "    - left: 플롯이 오른쪽에서 왼쪽방향으로 그려짐\n",
    "    - right: 플롯이 왼쪽에서 오른쪽방향으로 그려짐\n",
    "\n",
    "\n",
    "scipy.cluster.hierarchy.dendrogram(Z, p=30, truncate_mode=None, color_threshold=None, get_leaves=True, orientation='top', labels=None, count_sort=False, distance_sort=False, show_leaf_counts=True, no_plot=False, no_labels=False, leaf_font_size=None, leaf_rotation=None, leaf_label_func=None, show_contracted=False, link_color_func=None, ax=None, above_threshold_color='C0')"
   ]
  },
  {
   "cell_type": "markdown",
   "metadata": {},
   "source": [
    "__[예제]__    \n",
    "USArrests 데이터의 정보로 거리를 구하고 최단, 최장, 평균연결법을 실시해보아라\n",
    "\n",
    "이 데이터 세트에는 1973년에 미국 50개 주 각각에서 폭행, 살인 및 강간으로 체포된 인구 100,000명당 통계가 포함되어 있습니다. 또한 도시 지역에 거주하는 인구 비율도 제공됩니다.\n",
    "\n",
    "4개의 변수에 대한 50개의 관측값이 있는 데이터 프레임.\n",
    "\n",
    "* Murder: 살인 체포(100,000명당)\n",
    "* Assault: 폭행 체포(100,000명당)\n",
    "* UrbanPop : 도시 인구 비율\n",
    "* Rape:  강간 체포(100,000명당)"
   ]
  },
  {
   "cell_type": "code",
   "execution_count": 15,
   "metadata": {},
   "outputs": [],
   "source": [
    "import pandas as pd\n",
    "import numpy as np\n",
    "from scipy.cluster.hierarchy import dendrogram, linkage, fcluster\n",
    "from matplotlib import pyplot as plt"
   ]
  },
  {
   "cell_type": "code",
   "execution_count": 16,
   "metadata": {},
   "outputs": [
    {
     "data": {
      "text/html": [
       "<div>\n",
       "<style scoped>\n",
       "    .dataframe tbody tr th:only-of-type {\n",
       "        vertical-align: middle;\n",
       "    }\n",
       "\n",
       "    .dataframe tbody tr th {\n",
       "        vertical-align: top;\n",
       "    }\n",
       "\n",
       "    .dataframe thead th {\n",
       "        text-align: right;\n",
       "    }\n",
       "</style>\n",
       "<table border=\"1\" class=\"dataframe\">\n",
       "  <thead>\n",
       "    <tr style=\"text-align: right;\">\n",
       "      <th></th>\n",
       "      <th>Unnamed: 0</th>\n",
       "      <th>Murder</th>\n",
       "      <th>Assault</th>\n",
       "      <th>UrbanPop</th>\n",
       "      <th>Rape</th>\n",
       "    </tr>\n",
       "  </thead>\n",
       "  <tbody>\n",
       "    <tr>\n",
       "      <th>0</th>\n",
       "      <td>Alabama</td>\n",
       "      <td>13.2</td>\n",
       "      <td>236</td>\n",
       "      <td>58</td>\n",
       "      <td>21.2</td>\n",
       "    </tr>\n",
       "    <tr>\n",
       "      <th>1</th>\n",
       "      <td>Alaska</td>\n",
       "      <td>10.0</td>\n",
       "      <td>263</td>\n",
       "      <td>48</td>\n",
       "      <td>44.5</td>\n",
       "    </tr>\n",
       "    <tr>\n",
       "      <th>2</th>\n",
       "      <td>Arizona</td>\n",
       "      <td>8.1</td>\n",
       "      <td>294</td>\n",
       "      <td>80</td>\n",
       "      <td>31.0</td>\n",
       "    </tr>\n",
       "    <tr>\n",
       "      <th>3</th>\n",
       "      <td>Arkansas</td>\n",
       "      <td>8.8</td>\n",
       "      <td>190</td>\n",
       "      <td>50</td>\n",
       "      <td>19.5</td>\n",
       "    </tr>\n",
       "    <tr>\n",
       "      <th>4</th>\n",
       "      <td>California</td>\n",
       "      <td>9.0</td>\n",
       "      <td>276</td>\n",
       "      <td>91</td>\n",
       "      <td>40.6</td>\n",
       "    </tr>\n",
       "  </tbody>\n",
       "</table>\n",
       "</div>"
      ],
      "text/plain": [
       "   Unnamed: 0  Murder  Assault  UrbanPop  Rape\n",
       "0     Alabama    13.2      236        58  21.2\n",
       "1      Alaska    10.0      263        48  44.5\n",
       "2     Arizona     8.1      294        80  31.0\n",
       "3    Arkansas     8.8      190        50  19.5\n",
       "4  California     9.0      276        91  40.6"
      ]
     },
     "execution_count": 16,
     "metadata": {},
     "output_type": "execute_result"
    }
   ],
   "source": [
    "US = pd.read_csv('USArrests.csv')\n",
    "US.head()"
   ]
  },
  {
   "cell_type": "code",
   "execution_count": 17,
   "metadata": {
    "scrolled": true
   },
   "outputs": [
    {
     "data": {
      "text/html": [
       "<div>\n",
       "<style scoped>\n",
       "    .dataframe tbody tr th:only-of-type {\n",
       "        vertical-align: middle;\n",
       "    }\n",
       "\n",
       "    .dataframe tbody tr th {\n",
       "        vertical-align: top;\n",
       "    }\n",
       "\n",
       "    .dataframe thead th {\n",
       "        text-align: right;\n",
       "    }\n",
       "</style>\n",
       "<table border=\"1\" class=\"dataframe\">\n",
       "  <thead>\n",
       "    <tr style=\"text-align: right;\">\n",
       "      <th></th>\n",
       "      <th>State</th>\n",
       "      <th>Murder</th>\n",
       "      <th>Assault</th>\n",
       "      <th>UrbanPop</th>\n",
       "      <th>Rape</th>\n",
       "    </tr>\n",
       "  </thead>\n",
       "  <tbody>\n",
       "    <tr>\n",
       "      <th>0</th>\n",
       "      <td>Alabama</td>\n",
       "      <td>13.2</td>\n",
       "      <td>236</td>\n",
       "      <td>58</td>\n",
       "      <td>21.2</td>\n",
       "    </tr>\n",
       "    <tr>\n",
       "      <th>1</th>\n",
       "      <td>Alaska</td>\n",
       "      <td>10.0</td>\n",
       "      <td>263</td>\n",
       "      <td>48</td>\n",
       "      <td>44.5</td>\n",
       "    </tr>\n",
       "    <tr>\n",
       "      <th>2</th>\n",
       "      <td>Arizona</td>\n",
       "      <td>8.1</td>\n",
       "      <td>294</td>\n",
       "      <td>80</td>\n",
       "      <td>31.0</td>\n",
       "    </tr>\n",
       "    <tr>\n",
       "      <th>3</th>\n",
       "      <td>Arkansas</td>\n",
       "      <td>8.8</td>\n",
       "      <td>190</td>\n",
       "      <td>50</td>\n",
       "      <td>19.5</td>\n",
       "    </tr>\n",
       "    <tr>\n",
       "      <th>4</th>\n",
       "      <td>California</td>\n",
       "      <td>9.0</td>\n",
       "      <td>276</td>\n",
       "      <td>91</td>\n",
       "      <td>40.6</td>\n",
       "    </tr>\n",
       "  </tbody>\n",
       "</table>\n",
       "</div>"
      ],
      "text/plain": [
       "        State  Murder  Assault  UrbanPop  Rape\n",
       "0     Alabama    13.2      236        58  21.2\n",
       "1      Alaska    10.0      263        48  44.5\n",
       "2     Arizona     8.1      294        80  31.0\n",
       "3    Arkansas     8.8      190        50  19.5\n",
       "4  California     9.0      276        91  40.6"
      ]
     },
     "execution_count": 17,
     "metadata": {},
     "output_type": "execute_result"
    }
   ],
   "source": [
    "US.columns = ['State', 'Murder', 'Assault', 'UrbanPop', 'Rape']\n",
    "labelList=US.State.tolist()\n",
    "US.head()"
   ]
  },
  {
   "cell_type": "code",
   "execution_count": 18,
   "metadata": {},
   "outputs": [
    {
     "data": {
      "image/png": "[encoded data removed]",
      "text/plain": [
       "<Figure size 720x504 with 1 Axes>"
      ]
     },
     "metadata": {
      "needs_background": "light"
     },
     "output_type": "display_data"
    }
   ],
   "source": [
    "# 최단연결법\n",
    "single = linkage(US.iloc[:, 1::], metric = 'euclidean', method='single')\n",
    "\n",
    "# 덴드로그램 그리기\n",
    "plt.figure(figsize=(10, 7))\n",
    "dendrogram(single,\n",
    "            orientation='top',\n",
    "            labels=labelList,\n",
    "            distance_sort='descending',\n",
    "            color_threshold=25,   #군집의 수를 설정하는 Height 값 설정\n",
    "            show_leaf_counts=True)\n",
    "plt.axhline(y=25, color='r', linewidth=1)  #Height 값에 따라 선을 그어 적절한 군집 수 설정\n",
    "plt.show()"
   ]
  },
  {
   "cell_type": "code",
   "execution_count": 5,
   "metadata": {
    "scrolled": true
   },
   "outputs": [
    {
     "data": {
      "text/plain": [
       "array([[14.        , 28.        ,  2.29128785,  2.        ],\n",
       "       [16.        , 25.        ,  3.8340579 ,  2.        ],\n",
       "       [13.        , 15.        ,  3.92937654,  2.        ],\n",
       "       [12.        , 31.        ,  6.23698645,  2.        ],\n",
       "       [34.        , 43.        ,  6.63777071,  2.        ],\n",
       "       [35.        , 45.        ,  7.35527022,  2.        ],\n",
       "       [49.        , 55.        ,  7.93095202,  3.        ],\n",
       "       [ 6.        , 37.        ,  8.0274529 ,  2.        ],\n",
       "       [18.        , 40.        ,  8.53756406,  2.        ],\n",
       "       [47.        , 58.        ,  8.76698352,  3.        ],\n",
       "       [48.        , 50.        ,  9.50841732,  3.        ],\n",
       "       [46.        , 56.        , 10.30533842,  4.        ],\n",
       "       [36.        , 61.        , 10.57922492,  5.        ],\n",
       "       [52.        , 54.        , 10.92016483,  4.        ],\n",
       "       [26.        , 57.        , 11.070682  ,  3.        ],\n",
       "       [63.        , 64.        , 11.25610945,  7.        ],\n",
       "       [20.        , 29.        , 11.45643924,  2.        ],\n",
       "       [51.        , 65.        , 11.52822623,  9.        ],\n",
       "       [11.        , 67.        , 11.76435294, 10.        ],\n",
       "       [ 3.        , 41.        , 12.61427762,  2.        ],\n",
       "       [33.        , 44.        , 13.04492238,  2.        ],\n",
       "       [21.        , 27.        , 13.29736816,  2.        ],\n",
       "       [ 2.        , 30.        , 13.8960426 ,  2.        ],\n",
       "       [ 5.        , 42.        , 14.50103445,  2.        ],\n",
       "       [19.        , 72.        , 15.01599148,  3.        ],\n",
       "       [53.        , 71.        , 15.06651917,  4.        ],\n",
       "       [ 0.        , 17.        , 15.4544492 ,  2.        ],\n",
       "       [24.        , 69.        , 15.50258043,  3.        ],\n",
       "       [62.        , 66.        , 16.0676694 ,  7.        ],\n",
       "       [75.        , 76.        , 16.65232716,  6.        ],\n",
       "       [ 7.        , 79.        , 16.80624884,  7.        ],\n",
       "       [60.        , 70.        , 17.16187635,  5.        ],\n",
       "       [22.        , 81.        , 18.71389858,  6.        ],\n",
       "       [38.        , 78.        , 18.84807682,  8.        ],\n",
       "       [77.        , 83.        , 19.69822327, 11.        ],\n",
       "       [59.        , 82.        , 19.91908632,  9.        ],\n",
       "       [10.        , 85.        , 20.82426469, 10.        ],\n",
       "       [23.        , 39.        , 21.16719159,  2.        ],\n",
       "       [ 9.        , 73.        , 22.85125817,  3.        ],\n",
       "       [ 4.        , 74.        , 23.1941803 ,  4.        ],\n",
       "       [84.        , 88.        , 23.42754789, 14.        ],\n",
       "       [68.        , 86.        , 23.64191194, 20.        ],\n",
       "       [80.        , 87.        , 24.7082982 ,  9.        ],\n",
       "       [89.        , 92.        , 24.92308167, 13.        ],\n",
       "       [90.        , 91.        , 25.74742706, 34.        ],\n",
       "       [93.        , 94.        , 25.84182656, 47.        ],\n",
       "       [ 1.        , 95.        , 27.55648744, 48.        ],\n",
       "       [ 8.        , 96.        , 37.78385899, 49.        ],\n",
       "       [32.        , 97.        , 38.52791196, 50.        ]])"
      ]
     },
     "execution_count": 5,
     "metadata": {},
     "output_type": "execute_result"
    }
   ],
   "source": [
    "single"
   ]
  },
  {
   "cell_type": "markdown",
   "metadata": {},
   "source": [
    "fcluster(Z, t, criterion='distance')    \n",
    "* Z: linkage 함수로 반환되는 matrix로 구성된 계층군집\n",
    "* t: 상수. flat clusters 형성할 때 적용하는 임계값. 덴드로그램의 color_threshold랑 일치하게 설정하면 그 값에 따른 군집결과 확인 가능\n",
    "* criterion: flat cluster 형성하는 기준\n",
    "    - distance: 각 군집의 원래 관측치가 t보다 큰 동위원소 거리를 갖지 않도록 군집을 형성"
   ]
  },
  {
   "cell_type": "code",
   "execution_count": 19,
   "metadata": {},
   "outputs": [
    {
     "data": {
      "text/plain": [
       "array([1, 4, 1, 2, 1, 2, 3, 1, 5, 2, 3, 3, 1, 3, 3, 3, 3, 1, 3, 1, 2, 1,\n",
       "       3, 1, 2, 3, 3, 1, 3, 2, 1, 1, 6, 3, 3, 2, 2, 3, 2, 1, 3, 2, 2, 3,\n",
       "       3, 2, 2, 3, 3, 2], dtype=int32)"
      ]
     },
     "execution_count": 19,
     "metadata": {},
     "output_type": "execute_result"
    }
   ],
   "source": [
    "# state마다 어떤 군집에 설정되었는지 확인\n",
    "assignments = fcluster(single, 25, 'distance')\n",
    "assignments"
   ]
  },
  {
   "cell_type": "code",
   "execution_count": 20,
   "metadata": {},
   "outputs": [],
   "source": [
    "US['cluster'] = assignments"
   ]
  },
  {
   "cell_type": "code",
   "execution_count": 21,
   "metadata": {},
   "outputs": [
    {
     "data": {
      "text/html": [
       "<div>\n",
       "<style scoped>\n",
       "    .dataframe tbody tr th:only-of-type {\n",
       "        vertical-align: middle;\n",
       "    }\n",
       "\n",
       "    .dataframe tbody tr th {\n",
       "        vertical-align: top;\n",
       "    }\n",
       "\n",
       "    .dataframe thead th {\n",
       "        text-align: right;\n",
       "    }\n",
       "</style>\n",
       "<table border=\"1\" class=\"dataframe\">\n",
       "  <thead>\n",
       "    <tr style=\"text-align: right;\">\n",
       "      <th></th>\n",
       "      <th>State</th>\n",
       "      <th>Murder</th>\n",
       "      <th>Assault</th>\n",
       "      <th>UrbanPop</th>\n",
       "      <th>Rape</th>\n",
       "      <th>cluster</th>\n",
       "    </tr>\n",
       "  </thead>\n",
       "  <tbody>\n",
       "    <tr>\n",
       "      <th>0</th>\n",
       "      <td>Alabama</td>\n",
       "      <td>13.2</td>\n",
       "      <td>236</td>\n",
       "      <td>58</td>\n",
       "      <td>21.2</td>\n",
       "      <td>1</td>\n",
       "    </tr>\n",
       "    <tr>\n",
       "      <th>1</th>\n",
       "      <td>Alaska</td>\n",
       "      <td>10.0</td>\n",
       "      <td>263</td>\n",
       "      <td>48</td>\n",
       "      <td>44.5</td>\n",
       "      <td>4</td>\n",
       "    </tr>\n",
       "    <tr>\n",
       "      <th>2</th>\n",
       "      <td>Arizona</td>\n",
       "      <td>8.1</td>\n",
       "      <td>294</td>\n",
       "      <td>80</td>\n",
       "      <td>31.0</td>\n",
       "      <td>1</td>\n",
       "    </tr>\n",
       "    <tr>\n",
       "      <th>3</th>\n",
       "      <td>Arkansas</td>\n",
       "      <td>8.8</td>\n",
       "      <td>190</td>\n",
       "      <td>50</td>\n",
       "      <td>19.5</td>\n",
       "      <td>2</td>\n",
       "    </tr>\n",
       "    <tr>\n",
       "      <th>4</th>\n",
       "      <td>California</td>\n",
       "      <td>9.0</td>\n",
       "      <td>276</td>\n",
       "      <td>91</td>\n",
       "      <td>40.6</td>\n",
       "      <td>1</td>\n",
       "    </tr>\n",
       "  </tbody>\n",
       "</table>\n",
       "</div>"
      ],
      "text/plain": [
       "        State  Murder  Assault  UrbanPop  Rape  cluster\n",
       "0     Alabama    13.2      236        58  21.2        1\n",
       "1      Alaska    10.0      263        48  44.5        4\n",
       "2     Arizona     8.1      294        80  31.0        1\n",
       "3    Arkansas     8.8      190        50  19.5        2\n",
       "4  California     9.0      276        91  40.6        1"
      ]
     },
     "execution_count": 21,
     "metadata": {},
     "output_type": "execute_result"
    }
   ],
   "source": [
    "US.head()"
   ]
  },
  {
   "cell_type": "code",
   "execution_count": 22,
   "metadata": {},
   "outputs": [
    {
     "data": {
      "image/png": "[encoded data removed]",
      "text/plain": [
       "<Figure size 720x504 with 1 Axes>"
      ]
     },
     "metadata": {
      "needs_background": "light"
     },
     "output_type": "display_data"
    }
   ],
   "source": [
    "# 최장연결법\n",
    "complete = linkage(US.iloc[:, 1::], metric = 'euclidean', method='complete')\n",
    "\n",
    "# 덴드로그램 그리기\n",
    "plt.figure(figsize=(10, 7))\n",
    "dendrogram(complete,\n",
    "            orientation='top',\n",
    "            labels=labelList,\n",
    "            distance_sort='descending',\n",
    "            color_threshold=100, \n",
    "            show_leaf_counts=True)\n",
    "plt.axhline(y=100, color='r', linewidth=1)  #Height 값에 따라 선을 그어 적절한 군집 수 설정\n",
    "plt.show()"
   ]
  },
  {
   "cell_type": "code",
   "execution_count": 24,
   "metadata": {},
   "outputs": [
    {
     "data": {
      "image/png": "[encoded data removed]",
      "text/plain": [
       "<Figure size 720x504 with 1 Axes>"
      ]
     },
     "metadata": {
      "needs_background": "light"
     },
     "output_type": "display_data"
    }
   ],
   "source": [
    "# 평균연결법\n",
    "average = linkage(US.iloc[:, 1::], metric = 'euclidean', method='average')\n",
    "\n",
    "# 덴드로그램 그리기\n",
    "plt.figure(figsize=(10, 7))\n",
    "dendrogram(average,\n",
    "            orientation='top',\n",
    "            labels=labelList,\n",
    "            distance_sort='descending',\n",
    "            color_threshold=70,\n",
    "            show_leaf_counts=True)\n",
    "plt.axhline(y=70, color='r', linewidth=1)  #Height 값에 따라 선을 그어 적절한 군집 수 설정\n",
    "plt.show()"
   ]
  },
  {
   "cell_type": "code",
   "execution_count": 28,
   "metadata": {},
   "outputs": [
    {
     "data": {
      "image/png": "[encoded data removed]",
      "text/plain": [
       "<Figure size 720x504 with 1 Axes>"
      ]
     },
     "metadata": {
      "needs_background": "light"
     },
     "output_type": "display_data"
    }
   ],
   "source": [
    "# 와드연결법\n",
    "ward = linkage(US.iloc[:, 1::], metric = 'euclidean', method='ward')\n",
    "\n",
    "# 덴드로그램 그리기\n",
    "plt.figure(figsize=(10, 7))\n",
    "dendrogram(average,\n",
    "            orientation='top',\n",
    "            labels=labelList,\n",
    "            distance_sort='descending',\n",
    "            color_threshold=250,\n",
    "            show_leaf_counts=True)\n",
    "plt.axhline(y=250, color='r', linewidth=1)  #Height 값에 따라 선을 그어 적절한 군집 수 설정\n",
    "plt.show()"
   ]
  },
  {
   "cell_type": "code",
   "execution_count": 29,
   "metadata": {},
   "outputs": [
    {
     "data": {
      "text/plain": [
       "array([1, 1, 1, 2, 1, 2, 3, 1, 1, 2, 3, 3, 1, 3, 3, 3, 3, 1, 3, 1, 2, 1,\n",
       "       3, 1, 2, 3, 3, 1, 3, 2, 1, 1, 1, 3, 3, 2, 2, 3, 2, 1, 3, 2, 2, 3,\n",
       "       3, 2, 2, 3, 3, 2], dtype=int32)"
      ]
     },
     "execution_count": 29,
     "metadata": {},
     "output_type": "execute_result"
    }
   ],
   "source": [
    "# state마다 어떤 군집에 설정되었는지 확인\n",
    "assignments = fcluster(ward, 250, 'distance')\n",
    "assignments"
   ]
  },
  {
   "cell_type": "code",
   "execution_count": 31,
   "metadata": {},
   "outputs": [],
   "source": [
    "US['cluster'] = assignments"
   ]
  },
  {
   "cell_type": "code",
   "execution_count": 36,
   "metadata": {},
   "outputs": [
    {
     "data": {
      "text/html": [
       "<div>\n",
       "<style scoped>\n",
       "    .dataframe tbody tr th:only-of-type {\n",
       "        vertical-align: middle;\n",
       "    }\n",
       "\n",
       "    .dataframe tbody tr th {\n",
       "        vertical-align: top;\n",
       "    }\n",
       "\n",
       "    .dataframe thead th {\n",
       "        text-align: right;\n",
       "    }\n",
       "</style>\n",
       "<table border=\"1\" class=\"dataframe\">\n",
       "  <thead>\n",
       "    <tr style=\"text-align: right;\">\n",
       "      <th></th>\n",
       "      <th>Murder</th>\n",
       "      <th>Assault</th>\n",
       "      <th>UrbanPop</th>\n",
       "      <th>Rape</th>\n",
       "    </tr>\n",
       "    <tr>\n",
       "      <th>cluster</th>\n",
       "      <th></th>\n",
       "      <th></th>\n",
       "      <th></th>\n",
       "      <th></th>\n",
       "    </tr>\n",
       "  </thead>\n",
       "  <tbody>\n",
       "    <tr>\n",
       "      <th>1</th>\n",
       "      <td>11.812500</td>\n",
       "      <td>272.562500</td>\n",
       "      <td>68.312500</td>\n",
       "      <td>28.375000</td>\n",
       "    </tr>\n",
       "    <tr>\n",
       "      <th>2</th>\n",
       "      <td>8.214286</td>\n",
       "      <td>173.285714</td>\n",
       "      <td>70.642857</td>\n",
       "      <td>22.842857</td>\n",
       "    </tr>\n",
       "    <tr>\n",
       "      <th>3</th>\n",
       "      <td>4.270000</td>\n",
       "      <td>87.550000</td>\n",
       "      <td>59.750000</td>\n",
       "      <td>14.390000</td>\n",
       "    </tr>\n",
       "  </tbody>\n",
       "</table>\n",
       "</div>"
      ],
      "text/plain": [
       "            Murder     Assault   UrbanPop       Rape\n",
       "cluster                                             \n",
       "1        11.812500  272.562500  68.312500  28.375000\n",
       "2         8.214286  173.285714  70.642857  22.842857\n",
       "3         4.270000   87.550000  59.750000  14.390000"
      ]
     },
     "execution_count": 36,
     "metadata": {},
     "output_type": "execute_result"
    }
   ],
   "source": [
    "US.groupby('cluster').mean()"
   ]
  },
  {
   "cell_type": "code",
   "execution_count": null,
   "metadata": {},
   "outputs": [],
   "source": []
  }
 ],
 "metadata": {
  "kernelspec": {
   "display_name": "Python 3",
   "language": "python",
   "name": "python3"
  },
  "language_info": {
   "codemirror_mode": {
    "name": "ipython",
    "version": 3
   },
   "file_extension": ".py",
   "mimetype": "text/x-python",
   "name": "python",
   "nbconvert_exporter": "python",
   "pygments_lexer": "ipython3",
   "version": "3.8.8"
  },
  "toc": {
   "base_numbering": "7.2",
   "nav_menu": {},
   "number_sections": true,
   "sideBar": true,
   "skip_h1_title": false,
   "title_cell": "Table of Contents",
   "title_sidebar": "Contents",
   "toc_cell": false,
   "toc_position": {},
   "toc_section_display": true,
   "toc_window_display": false
  }
 },
 "nbformat": 4,
 "nbformat_minor": 4
}
