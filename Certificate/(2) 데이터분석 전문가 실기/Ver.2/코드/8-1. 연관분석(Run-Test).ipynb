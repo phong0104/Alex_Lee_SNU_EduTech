{
 "cells": [
  {
   "cell_type": "markdown",
   "metadata": {},
   "source": [
    "# 연관분석\n",
    "\n",
    "## Run-Test \n",
    "\n",
    "- 연속적인 관측값들이 임의적으로 나타난 것인지를 검정하는 방법 <br>\n",
    "- run-test의 귀무가설 : 연속적인 관측값이 임의적이다. \n",
    "- run-test의 대립가설 : 연속적인 관측값이 임의적이 아니다 (즉, 연관이 있다) <br><br><br>\n",
    "<b><  22회 기출 ></b>\n",
    "- 상품 a와 b가 있을 때 다음과 같은 구매 패턴이 있다고 한다. <br>\n",
    " ['b','b','b','b','b','b','a','a','a','a','a','b','b','a','a','a','a','b','b','b']\n",
    " <br>두 상품의 구매패턴이 연관성이 있는지 검정해라 "
   ]
  },
  {
   "cell_type": "code",
   "execution_count": 1,
   "metadata": {},
   "outputs": [],
   "source": [
    "import pandas as pd \n",
    "\n",
    "data = ['a','a','b','b','a','a','a','a','b','b','b','b','b','a','a','b','b','a','b','b']"
   ]
  },
  {
   "cell_type": "code",
   "execution_count": 2,
   "metadata": {},
   "outputs": [
    {
     "data": {
      "text/html": [
       "<div>\n",
       "<style scoped>\n",
       "    .dataframe tbody tr th:only-of-type {\n",
       "        vertical-align: middle;\n",
       "    }\n",
       "\n",
       "    .dataframe tbody tr th {\n",
       "        vertical-align: top;\n",
       "    }\n",
       "\n",
       "    .dataframe thead th {\n",
       "        text-align: right;\n",
       "    }\n",
       "</style>\n",
       "<table border=\"1\" class=\"dataframe\">\n",
       "  <thead>\n",
       "    <tr style=\"text-align: right;\">\n",
       "      <th></th>\n",
       "      <th>product</th>\n",
       "    </tr>\n",
       "  </thead>\n",
       "  <tbody>\n",
       "    <tr>\n",
       "      <th>0</th>\n",
       "      <td>a</td>\n",
       "    </tr>\n",
       "    <tr>\n",
       "      <th>1</th>\n",
       "      <td>a</td>\n",
       "    </tr>\n",
       "    <tr>\n",
       "      <th>2</th>\n",
       "      <td>b</td>\n",
       "    </tr>\n",
       "    <tr>\n",
       "      <th>3</th>\n",
       "      <td>b</td>\n",
       "    </tr>\n",
       "    <tr>\n",
       "      <th>4</th>\n",
       "      <td>a</td>\n",
       "    </tr>\n",
       "    <tr>\n",
       "      <th>5</th>\n",
       "      <td>a</td>\n",
       "    </tr>\n",
       "    <tr>\n",
       "      <th>6</th>\n",
       "      <td>a</td>\n",
       "    </tr>\n",
       "    <tr>\n",
       "      <th>7</th>\n",
       "      <td>a</td>\n",
       "    </tr>\n",
       "    <tr>\n",
       "      <th>8</th>\n",
       "      <td>b</td>\n",
       "    </tr>\n",
       "    <tr>\n",
       "      <th>9</th>\n",
       "      <td>b</td>\n",
       "    </tr>\n",
       "    <tr>\n",
       "      <th>10</th>\n",
       "      <td>b</td>\n",
       "    </tr>\n",
       "    <tr>\n",
       "      <th>11</th>\n",
       "      <td>b</td>\n",
       "    </tr>\n",
       "    <tr>\n",
       "      <th>12</th>\n",
       "      <td>b</td>\n",
       "    </tr>\n",
       "    <tr>\n",
       "      <th>13</th>\n",
       "      <td>a</td>\n",
       "    </tr>\n",
       "    <tr>\n",
       "      <th>14</th>\n",
       "      <td>a</td>\n",
       "    </tr>\n",
       "    <tr>\n",
       "      <th>15</th>\n",
       "      <td>b</td>\n",
       "    </tr>\n",
       "    <tr>\n",
       "      <th>16</th>\n",
       "      <td>b</td>\n",
       "    </tr>\n",
       "    <tr>\n",
       "      <th>17</th>\n",
       "      <td>a</td>\n",
       "    </tr>\n",
       "    <tr>\n",
       "      <th>18</th>\n",
       "      <td>b</td>\n",
       "    </tr>\n",
       "    <tr>\n",
       "      <th>19</th>\n",
       "      <td>b</td>\n",
       "    </tr>\n",
       "  </tbody>\n",
       "</table>\n",
       "</div>"
      ],
      "text/plain": [
       "   product\n",
       "0        a\n",
       "1        a\n",
       "2        b\n",
       "3        b\n",
       "4        a\n",
       "5        a\n",
       "6        a\n",
       "7        a\n",
       "8        b\n",
       "9        b\n",
       "10       b\n",
       "11       b\n",
       "12       b\n",
       "13       a\n",
       "14       a\n",
       "15       b\n",
       "16       b\n",
       "17       a\n",
       "18       b\n",
       "19       b"
      ]
     },
     "execution_count": 2,
     "metadata": {},
     "output_type": "execute_result"
    }
   ],
   "source": [
    "test_df = pd.DataFrame(data,columns=[\"product\"])\n",
    "test_df"
   ]
  },
  {
   "cell_type": "code",
   "execution_count": 3,
   "metadata": {},
   "outputs": [],
   "source": [
    "test_df.loc[test_df['product']=='a','product'] = 1\n",
    "test_df.loc[test_df['product']=='b','product'] = 0"
   ]
  },
  {
   "cell_type": "code",
   "execution_count": 4,
   "metadata": {
    "scrolled": false
   },
   "outputs": [
    {
     "data": {
      "text/plain": [
       "0     1\n",
       "1     1\n",
       "2     0\n",
       "3     0\n",
       "4     1\n",
       "5     1\n",
       "6     1\n",
       "7     1\n",
       "8     0\n",
       "9     0\n",
       "10    0\n",
       "11    0\n",
       "12    0\n",
       "13    1\n",
       "14    1\n",
       "15    0\n",
       "16    0\n",
       "17    1\n",
       "18    0\n",
       "19    0\n",
       "Name: product, dtype: object"
      ]
     },
     "execution_count": 4,
     "metadata": {},
     "output_type": "execute_result"
    }
   ],
   "source": [
    "test_df['product']"
   ]
  },
  {
   "cell_type": "code",
   "execution_count": 8,
   "metadata": {},
   "outputs": [
    {
     "name": "stdout",
     "output_type": "stream",
     "text": [
      "Help on function runstest_1samp in module statsmodels.sandbox.stats.runs:\n",
      "\n",
      "runstest_1samp(x, cutoff='mean', correction=True)\n",
      "    use runs test on binary discretized data above/below cutoff\n",
      "    \n",
      "    Parameters\n",
      "    ----------\n",
      "    x : array_like\n",
      "        data, numeric\n",
      "    cutoff : {'mean', 'median'} or number\n",
      "        This specifies the cutoff to split the data into large and small\n",
      "        values.\n",
      "    correction : bool\n",
      "        Following the SAS manual, for samplesize below 50, the test\n",
      "        statistic is corrected by 0.5. This can be turned off with\n",
      "        correction=False, and was included to match R, tseries, which\n",
      "        does not use any correction.\n",
      "    \n",
      "    Returns\n",
      "    -------\n",
      "    z_stat : float\n",
      "        test statistic, asymptotically normally distributed\n",
      "    p-value : float\n",
      "        p-value, reject the null hypothesis if it is below an type 1 error\n",
      "        level, alpha .\n",
      "\n"
     ]
    }
   ],
   "source": [
    "from statsmodels.sandbox.stats.runs import runstest_1samp\n",
    "help(runstest_1samp)"
   ]
  },
  {
   "cell_type": "code",
   "execution_count": 9,
   "metadata": {},
   "outputs": [
    {
     "data": {
      "text/plain": [
       "(-1.1144881152070183, 0.26506984027306035)"
      ]
     },
     "execution_count": 9,
     "metadata": {},
     "output_type": "execute_result"
    }
   ],
   "source": [
    "from statsmodels.sandbox.stats.runs import runstest_1samp\n",
    "\n",
    "#Perform Runs test\n",
    "# - run-test의 귀무가설 : 연속적인 관측값이 임의적이다. \n",
    "# - run-test의 대립가설 : 연속적인 관측값이 임의적이 아니다\n",
    "\n",
    "runstest_1samp(test_df['product'])\n"
   ]
  },
  {
   "cell_type": "markdown",
   "metadata": {},
   "source": [
    "* 분석결과 : 유의수준 5% 하에서 p-value값이 0.05보다 크므로, 상품 a와 b의 구매에는 연관이 없다. "
   ]
  },
  {
   "cell_type": "code",
   "execution_count": null,
   "metadata": {},
   "outputs": [],
   "source": []
  }
 ],
 "metadata": {
  "kernelspec": {
   "display_name": "Python 3",
   "language": "python",
   "name": "python3"
  },
  "language_info": {
   "codemirror_mode": {
    "name": "ipython",
    "version": 3
   },
   "file_extension": ".py",
   "mimetype": "text/x-python",
   "name": "python",
   "nbconvert_exporter": "python",
   "pygments_lexer": "ipython3",
   "version": "3.8.8"
  },
  "toc": {
   "base_numbering": "8",
   "nav_menu": {},
   "number_sections": true,
   "sideBar": true,
   "skip_h1_title": false,
   "title_cell": "Table of Contents",
   "title_sidebar": "Contents",
   "toc_cell": false,
   "toc_position": {},
   "toc_section_display": true,
   "toc_window_display": false
  }
 },
 "nbformat": 4,
 "nbformat_minor": 4
}
