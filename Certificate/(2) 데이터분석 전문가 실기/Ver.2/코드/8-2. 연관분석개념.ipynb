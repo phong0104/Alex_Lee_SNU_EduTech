{
 "cells": [
  {
   "cell_type": "markdown",
   "metadata": {},
   "source": [
    "# 연관분석\n",
    "\n",
    "## 연관 분석(Association analysis)이란?\n",
    "<br>\n",
    "효율적인 상품 진열, 패키지 상품 개발, 교차판매 전략, 기획상품의 결정 등에 사용되고 있음\n",
    "\n",
    "\n"
   ]
  },
  {
   "cell_type": "markdown",
   "metadata": {},
   "source": [
    "\n",
    "\n",
    "## 연관규칙분석\n",
    "- 기업의 데이터베이스에서 상품 구매, 서비스 등 일련의 거래 또는 사건들 간의 규칙을 발견하기 위해 적용됨\n",
    "- 서로 다른 두 아이템 집합이 얼마나 빈번하게 발생하는지를 알 수 있게 함\n",
    "- 조건과 반응 형태(IF_THEN)로 이루어져 있음\n",
    "- 장바구니 분석, 서열분석이 있음\n",
    "    - 장바구니 분석 : 장바구니에 무엇이 같이 들어있는지에 대한 분석\n",
    "    - 서열 분석 : A를 산 다음에 B를 산다\n",
    "\n",
    "<br>\n",
    "\n",
    "### 연관규칙 분석에 사용되는 척도\n",
    "- 지지도 : 전체 거래 중 항목 A와 항목 B를 동시에 포함하는 거래의 비율로 정의<br>\n",
    "&emsp; &emsp; &emsp; <span style='color: #CD5C5C'>support = A와 B가 동시에 포함된 거래수 / 전체 거래수</span>\n",
    "- 신뢰도 : 항목 A를 포함한 거래 중에서 항목 A와 항목 B가 같이 포함될 확률로 연관성의 정도 파악 가능<br>\n",
    "&emsp; &emsp; &emsp; <span style='color: #CD5C5C'>confident = A,B가 동시에 포함된 거래수 / A를 포함하는 거래수</span>\n",
    "- 향상도 : A가 구매되지 않았을 때 품목 B의 구매확률에 비해 A가 구매되었을 때 품목 B의 구매확률의 증가비<br>\n",
    "&emsp; &emsp; &emsp; 연관규칙 A→B는 품목 A와 품목 B의 구매가 서로 관련이 없는 경우에는 향상도가 1이 됨<br>\n",
    "&emsp; &emsp; &emsp; <span style='color: #CD5C5C'>Lift = A와 B가 동시에 포함된 거래수 / A를 포함하는 거래수 * B를 포함하는 거래수</span>\n",
    "\n",
    "\n",
    "\n",
    "<br>\n",
    "\n",
    "## Apriori 알고리즘\n",
    "\n",
    "가능한 모든 경우의 수를 탐색하여 지지도, 신뢰도, 향상도가 높은 규칙들을 찾아내는 방식이 가장 이상적이지만 아이템 수가 증가할수록 계산에 소요되는 시간이 기하급수적으로 증가하는 문제가 있음<br>\n",
    "<span style='color: #868e96'>아이템이 n개일 때 탐색해야할 모든 경우의 수 : n∗(n−1)</span><br>\n",
    "이 때문에 빈발 집합(frequent item sets)만을 고려해서 연관 규칙을 생성하는 Apriori algorithm이 제안됨\n",
    "\n",
    "\n",
    "<br>\n",
    "\n",
    "- 최소지지도보다 큰 지지도 값을 갖는 품목의 집합을 빈발항목집단(frequent item set)이라고 함\n",
    "- Apriori 알소리즘은 모든 품목집합에 대한 지지도를 전부 계산하는 것이 아니라, 최소 지지도 이상의 빈발항목집합을 찾은 후 그것들에 대해서만 연관규칙을 계산하는 것임\n",
    "- 장점 : 1세대 알고리즘으로 구현과 이해가 쉬움\n",
    "- 단점 : 지지도가 낮은 후보 집합을 생성 시 아이템의 개수가 많아지면 계산 복잡도가 증가함\n",
    "\n",
    "<br>\n",
    "\n",
    "{A,B}는 {A}, {B}의 초월집합(superset)이라고 함<br>\n",
    "만일 아이템 집합 {A,B}의 지지도가 사용자가 정한 최소 지지도 요건을 충족시키지 못했을 경우 <br>{A,B}는 물론 {A,B}의 초월집합인 {A,B,C}, {A,B,D} 등 8가지 경우의 수를 계산에서 제외하여 계산효율성을 달성\n",
    "\n",
    "<br><br>\n",
    "\n"
   ]
  },
  {
   "cell_type": "code",
   "execution_count": null,
   "metadata": {},
   "outputs": [],
   "source": []
  }
 ],
 "metadata": {
  "kernelspec": {
   "display_name": "Python 3",
   "language": "python",
   "name": "python3"
  },
  "language_info": {
   "codemirror_mode": {
    "name": "ipython",
    "version": 3
   },
   "file_extension": ".py",
   "mimetype": "text/x-python",
   "name": "python",
   "nbconvert_exporter": "python",
   "pygments_lexer": "ipython3",
   "version": "3.8.8"
  },
  "toc": {
   "base_numbering": "8.2",
   "nav_menu": {},
   "number_sections": true,
   "sideBar": true,
   "skip_h1_title": false,
   "title_cell": "Table of Contents",
   "title_sidebar": "Contents",
   "toc_cell": false,
   "toc_position": {},
   "toc_section_display": true,
   "toc_window_display": false
  }
 },
 "nbformat": 4,
 "nbformat_minor": 4
}
