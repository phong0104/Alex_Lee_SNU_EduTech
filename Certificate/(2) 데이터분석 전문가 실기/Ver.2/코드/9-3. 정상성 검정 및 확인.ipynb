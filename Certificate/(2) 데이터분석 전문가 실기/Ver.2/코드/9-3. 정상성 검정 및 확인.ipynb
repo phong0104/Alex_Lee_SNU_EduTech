{
 "cells": [
  {
   "cell_type": "markdown",
   "metadata": {},
   "source": [
    "## 정상성 검정 및 확인"
   ]
  },
  {
   "cell_type": "markdown",
   "metadata": {},
   "source": [
    "### 정상성이란? \n",
    "\n",
    "- 정상성은 추세와 계절성을 갖지 않는 진동하는 데이터이다. \n",
    "- 주기성 행동을 가지고 있지만 주기가 특정 패턴을 갖지 않고 시계열을 관측하는 어떠한 시점에서도 똑같은 모양일 것이다..\n",
    "- 그러므로 추세나 계절성이 없는 데이터 == > ARIMA 모형을 적용하기 위한 조건 \n",
    "- 정상성을 띄지 않는다면 정상성(stationary)을 갖춘 형태로 변경해줘야 한다. \n",
    "\n",
    "### 정상성 검정\n",
    "\n",
    "Augmented Dickey-Fuller Test\n",
    "\n",
    "- 정상성을 알아보기 위한 단위근 검정 방법\n",
    "- 귀무가설 : 데이터가 정상성(stationary)을 갖지 않는다.(중요) (변동이 있다.)\n",
    "- 대립가설 : 데이터가 정상성(stationary)을 갖는다 \n",
    "\n",
    "\n",
    "> adfuller(x, maxlag, regression, autolag)\n",
    "\n",
    "* x: 시계열 자료<br>\n",
    "* regression: 검정에 사용할 모형 <br> &emsp; &emsp; &emsp; &emsp; {'nc': 추세 없음, 'c':상수항만 사용, 'ct':상수항&1차 추세, 'ctt':상수항&2차 추세}\n",
    "\n",
    "* autolag: 검정 AR 모형의 차수를 자동 결정하는 알고리즘  <br> &emsp; &emsp; &emsp; &emsp; {'AIC', 'BIC', 't-stat', None}\n",
    "\n",
    "<br>\n",
    "\n",
    "return 값 : <br>\n",
    "-         0. 검정통계량\n",
    "        1. p-value\n",
    "        2. 사용된 시차의 수\n",
    "        3. 분석에 사용한 자료 수\n",
    "        4. 1%, 5%, 10% 수준에 해당되는 검정통계량 값"
   ]
  },
  {
   "cell_type": "code",
   "execution_count": 1,
   "metadata": {},
   "outputs": [
    {
     "data": {
      "text/html": [
       "<div>\n",
       "<style scoped>\n",
       "    .dataframe tbody tr th:only-of-type {\n",
       "        vertical-align: middle;\n",
       "    }\n",
       "\n",
       "    .dataframe tbody tr th {\n",
       "        vertical-align: top;\n",
       "    }\n",
       "\n",
       "    .dataframe thead th {\n",
       "        text-align: right;\n",
       "    }\n",
       "</style>\n",
       "<table border=\"1\" class=\"dataframe\">\n",
       "  <thead>\n",
       "    <tr style=\"text-align: right;\">\n",
       "      <th></th>\n",
       "      <th>day</th>\n",
       "      <th>price</th>\n",
       "    </tr>\n",
       "  </thead>\n",
       "  <tbody>\n",
       "    <tr>\n",
       "      <th>0</th>\n",
       "      <td>2013-01-01</td>\n",
       "      <td>3794</td>\n",
       "    </tr>\n",
       "    <tr>\n",
       "      <th>1</th>\n",
       "      <td>2013-02-01</td>\n",
       "      <td>3863</td>\n",
       "    </tr>\n",
       "    <tr>\n",
       "      <th>2</th>\n",
       "      <td>2013-03-01</td>\n",
       "      <td>5190</td>\n",
       "    </tr>\n",
       "  </tbody>\n",
       "</table>\n",
       "</div>"
      ],
      "text/plain": [
       "          day  price\n",
       "0  2013-01-01   3794\n",
       "1  2013-02-01   3863\n",
       "2  2013-03-01   5190"
      ]
     },
     "execution_count": 1,
     "metadata": {},
     "output_type": "execute_result"
    }
   ],
   "source": [
    "import pandas as pd\n",
    "\n",
    "data = pd.read_csv('../data/arima_data.csv', names = ['day', 'price'])\n",
    "data.head(3)"
   ]
  },
  {
   "cell_type": "code",
   "execution_count": 2,
   "metadata": {},
   "outputs": [
    {
     "name": "stdout",
     "output_type": "stream",
     "text": [
      "<class 'pandas.core.frame.DataFrame'>\n",
      "RangeIndex: 60 entries, 0 to 59\n",
      "Data columns (total 2 columns):\n",
      " #   Column  Non-Null Count  Dtype \n",
      "---  ------  --------------  ----- \n",
      " 0   day     60 non-null     object\n",
      " 1   price   60 non-null     int64 \n",
      "dtypes: int64(1), object(1)\n",
      "memory usage: 1.1+ KB\n"
     ]
    }
   ],
   "source": [
    "data.info()"
   ]
  },
  {
   "cell_type": "code",
   "execution_count": 3,
   "metadata": {
    "scrolled": true
   },
   "outputs": [
    {
     "data": {
      "text/html": [
       "<div>\n",
       "<style scoped>\n",
       "    .dataframe tbody tr th:only-of-type {\n",
       "        vertical-align: middle;\n",
       "    }\n",
       "\n",
       "    .dataframe tbody tr th {\n",
       "        vertical-align: top;\n",
       "    }\n",
       "\n",
       "    .dataframe thead th {\n",
       "        text-align: right;\n",
       "    }\n",
       "</style>\n",
       "<table border=\"1\" class=\"dataframe\">\n",
       "  <thead>\n",
       "    <tr style=\"text-align: right;\">\n",
       "      <th></th>\n",
       "      <th>price</th>\n",
       "    </tr>\n",
       "    <tr>\n",
       "      <th>day</th>\n",
       "      <th></th>\n",
       "    </tr>\n",
       "  </thead>\n",
       "  <tbody>\n",
       "    <tr>\n",
       "      <th>2013-01-01</th>\n",
       "      <td>3794</td>\n",
       "    </tr>\n",
       "    <tr>\n",
       "      <th>2013-02-01</th>\n",
       "      <td>3863</td>\n",
       "    </tr>\n",
       "    <tr>\n",
       "      <th>2013-03-01</th>\n",
       "      <td>5190</td>\n",
       "    </tr>\n",
       "  </tbody>\n",
       "</table>\n",
       "</div>"
      ],
      "text/plain": [
       "            price\n",
       "day              \n",
       "2013-01-01   3794\n",
       "2013-02-01   3863\n",
       "2013-03-01   5190"
      ]
     },
     "execution_count": 3,
     "metadata": {},
     "output_type": "execute_result"
    }
   ],
   "source": [
    "data['day'] = pd.to_datetime(data['day'],format=\"%Y-%m-%d\")\n",
    "data.set_index('day', inplace=True)\n",
    "data.head(3)"
   ]
  },
  {
   "cell_type": "code",
   "execution_count": 4,
   "metadata": {},
   "outputs": [],
   "source": [
    "train_len = int(len(data) * 0.8)\n",
    "training = data[:train_len]\n",
    "test = data.drop(training.index)"
   ]
  },
  {
   "cell_type": "code",
   "execution_count": 5,
   "metadata": {
    "scrolled": true
   },
   "outputs": [
    {
     "name": "stdout",
     "output_type": "stream",
     "text": [
      "ADF Statistic: -1.9997199341327796\n",
      "p-value : 0.6015863303794179\n"
     ]
    }
   ],
   "source": [
    "## 귀무가설 : 데이터가 정상성(stationary)을 갖지 않는다. (변동이 있다.)\n",
    "## 대립가설 : 데이터가 정상성(stationary)을 갖는다 \n",
    "\n",
    "from statsmodels.tsa.stattools import adfuller\n",
    "\n",
    "adf = adfuller(training, regression='ct')\n",
    "\n",
    "print('ADF Statistic: {}'.format(adf[0]))\n",
    "print('p-value : {}'.format(adf[1]))"
   ]
  },
  {
   "cell_type": "markdown",
   "metadata": {},
   "source": [
    "단위근 검정에서 p-value가 0.05보다 크므로 정상성을 갖지 않는 것으로 판단됨 \n",
    "\n",
    "<b>차분 후 단위근 검정 재실시</b>\n",
    "\n",
    "차분 : 비정상성을 정상성으로 만들기 위해, 관측값들의 차이를 계산하는 것"
   ]
  },
  {
   "cell_type": "markdown",
   "metadata": {},
   "source": [
    "<br>\n",
    "\n",
    "### 시계열 데이터 정상성 만족시키기\n",
    "\n",
    "데이터 프레임을 n차 차분하고 acf, pacf를 다시 구함\n",
    "\n",
    "> DF.diff(periods=차분횟수).iloc[1:]\n",
    "\n",
    "alpha : 신뢰구간 (파란색 구간의 폭으로 나타남)<br>\n",
    "lags : 그래프의 X축 범위"
   ]
  },
  {
   "cell_type": "code",
   "execution_count": 6,
   "metadata": {
    "scrolled": false
   },
   "outputs": [
    {
     "data": {
      "text/plain": [
       "<AxesSubplot:xlabel='day'>"
      ]
     },
     "execution_count": 6,
     "metadata": {},
     "output_type": "execute_result"
    },
    {
     "data": {
      "image/png": "[encoded data removed]",
      "text/plain": [
       "<Figure size 432x288 with 1 Axes>"
      ]
     },
     "metadata": {
      "needs_background": "light"
     },
     "output_type": "display_data"
    }
   ],
   "source": [
    "from statsmodels.graphics.tsaplots import plot_acf, plot_pacf\n",
    "\n",
    "diff_data = training.diff(1)\n",
    "diff_data = diff_data.dropna()\n",
    "\n",
    "diff_data.plot()\n"
   ]
  },
  {
   "cell_type": "code",
   "execution_count": 7,
   "metadata": {},
   "outputs": [
    {
     "name": "stdout",
     "output_type": "stream",
     "text": [
      "ADF Statistic: -12.094547576926441\n",
      "p-value : 2.085160639960858e-22\n"
     ]
    }
   ],
   "source": [
    "from statsmodels.tsa.stattools import adfuller\n",
    "\n",
    "adf = adfuller(diff_data)\n",
    "\n",
    "print('ADF Statistic: {}'.format(adf[0]))\n",
    "print('p-value : {}'.format(adf[1]))"
   ]
  },
  {
   "cell_type": "markdown",
   "metadata": {},
   "source": [
    "<br>\n",
    "\n",
    "### [Plot] ARIMA(p,d,q)의 파라미터 정하기\n",
    "\n",
    "ACF plot와 PACF plot을 통해 AR 및 MA의 모수를 추정함\n",
    "- ACF: Lag에 따른 관측치들 사이의 관련성을 측정하는 함수\n",
    "- PACF: k 이외의 모든 다른 시점 관측치의 영향력을 배제한 후의 두 관측치의 관련성을 측정하는 함수\n",
    "\n",
    "<br>\n",
    "\n",
    "\n",
    "|요약 : AR/MA 모형과 ACF/PCAF 관계 ||  |\n",
    "|------|---|---|\n",
    "||  AR(p)  |  MA(q) |\n",
    "|ACF |점차적으로 감소| 시차q 이후에 0   |\n",
    "|PACF |시차 p 이후에 0 | 점차적으로 감소 |\n",
    "\n",
    "      "
   ]
  },
  {
   "cell_type": "code",
   "execution_count": 8,
   "metadata": {
    "scrolled": true
   },
   "outputs": [
    {
     "name": "stderr",
     "output_type": "stream",
     "text": [
      "C:\\Users\\jjang\\anaconda3\\envs\\ADP_Class\\lib\\site-packages\\statsmodels\\regression\\linear_model.py:1406: RuntimeWarning: invalid value encountered in sqrt\n",
      "  return rho, np.sqrt(sigmasq)\n"
     ]
    },
    {
     "data": {
      "image/png": "[encoded data removed]",
      "text/plain": [
       "<Figure size 432x288 with 1 Axes>"
      ]
     },
     "metadata": {
      "needs_background": "light"
     },
     "output_type": "display_data"
    },
    {
     "data": {
      "image/png": "[encoded data removed]",
      "text/plain": [
       "<Figure size 432x288 with 1 Axes>"
      ]
     },
     "metadata": {
      "needs_background": "light"
     },
     "output_type": "display_data"
    }
   ],
   "source": [
    "from statsmodels.graphics.tsaplots import plot_acf, plot_pacf\n",
    "import numpy as np \n",
    "import matplotlib.pyplot as plt\n",
    "\n",
    "plot_pacf(diff_data) #AR(p)의 값 확인 가능 ==2 \n",
    "\n",
    "plot_acf(diff_data) #MA(q)의 값 확인 가능 == 2\n",
    "\n",
    "plt.show()"
   ]
  },
  {
   "cell_type": "markdown",
   "metadata": {},
   "source": [
    "acf 와  pacf 모두 2에서 절단점을 가짐"
   ]
  }
 ],
 "metadata": {
  "kernelspec": {
   "display_name": "Python 3",
   "language": "python",
   "name": "python3"
  },
  "language_info": {
   "codemirror_mode": {
    "name": "ipython",
    "version": 3
   },
   "file_extension": ".py",
   "mimetype": "text/x-python",
   "name": "python",
   "nbconvert_exporter": "python",
   "pygments_lexer": "ipython3",
   "version": "3.8.8"
  },
  "toc": {
   "base_numbering": "9.3",
   "nav_menu": {},
   "number_sections": true,
   "sideBar": true,
   "skip_h1_title": false,
   "title_cell": "Table of Contents",
   "title_sidebar": "Contents",
   "toc_cell": false,
   "toc_position": {
    "height": "calc(100% - 180px)",
    "left": "10px",
    "top": "150px",
    "width": "204.8px"
   },
   "toc_section_display": true,
   "toc_window_display": false
  }
 },
 "nbformat": 4,
 "nbformat_minor": 4
}
