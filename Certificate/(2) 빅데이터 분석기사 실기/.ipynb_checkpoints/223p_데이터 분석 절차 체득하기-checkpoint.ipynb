{
 "cells": [
  {
   "cell_type": "markdown",
   "id": "90470230",
   "metadata": {},
   "source": [
    "## 2.1 데이터 준비하기 : 데이터 로드(load)"
   ]
  },
  {
   "cell_type": "markdown",
   "id": "4a563a10",
   "metadata": {},
   "source": [
    "분석할 데이터 가져오기"
   ]
  },
  {
   "cell_type": "code",
   "execution_count": 1,
   "id": "e2a5b768",
   "metadata": {},
   "outputs": [
    {
     "name": "stdout",
     "output_type": "stream",
     "text": [
      "          Unnamed: 0   mpg  cyl   disp   hp  drat     wt   qsec  vs      am  \\\n",
      "0          Mazda RX4  21.0  6.0  160.0  110  3.90  2.620  16.46   0  manual   \n",
      "1      Mazda RX4 Wag  21.0  6.0  160.0  110  3.90  2.875  17.02   0  manual   \n",
      "2         Datsun 710  22.8  4.0  108.0   93  3.85  2.320  18.61   1  manual   \n",
      "3     Hornet 4 Drive  21.4  6.0  258.0  110  3.08  3.215   0.10   1    auto   \n",
      "4  Hornet Sportabout  18.7  8.0  360.0  175  3.15  3.440  17.02   0    auto   \n",
      "\n",
      "  gear  carb  \n",
      "0    4     4  \n",
      "1    4     4  \n",
      "2    4     1  \n",
      "3    3     1  \n",
      "4    3     2  \n"
     ]
    }
   ],
   "source": [
    "import pandas as pd\n",
    "data = pd.read_csv('mtcars.csv')\n",
    "print(data.head())"
   ]
  },
  {
   "cell_type": "markdown",
   "id": "0bc0ee19",
   "metadata": {},
   "source": [
    "데이터 둘러보기"
   ]
  },
  {
   "cell_type": "code",
   "execution_count": 2,
   "id": "c93dd4cd",
   "metadata": {},
   "outputs": [
    {
     "name": "stdout",
     "output_type": "stream",
     "text": [
      "(32, 12)\n"
     ]
    }
   ],
   "source": [
    "print(data.shape)"
   ]
  },
  {
   "cell_type": "code",
   "execution_count": 3,
   "id": "731180b5",
   "metadata": {},
   "outputs": [
    {
     "name": "stdout",
     "output_type": "stream",
     "text": [
      "<class 'pandas.core.frame.DataFrame'>\n"
     ]
    }
   ],
   "source": [
    "print(type(data))"
   ]
  },
  {
   "cell_type": "code",
   "execution_count": 4,
   "id": "a9fae951",
   "metadata": {},
   "outputs": [
    {
     "name": "stdout",
     "output_type": "stream",
     "text": [
      "Index(['Unnamed: 0', 'mpg', 'cyl', 'disp', 'hp', 'drat', 'wt', 'qsec', 'vs',\n",
      "       'am', 'gear', 'carb'],\n",
      "      dtype='object')\n"
     ]
    }
   ],
   "source": [
    "print(data.columns)"
   ]
  },
  {
   "cell_type": "code",
   "execution_count": 5,
   "id": "1c614807",
   "metadata": {},
   "outputs": [
    {
     "name": "stdout",
     "output_type": "stream",
     "text": [
      "             mpg        cyl        disp          hp       drat         wt  \\\n",
      "count  32.000000  30.000000   32.000000   32.000000  32.000000  32.000000   \n",
      "mean   20.090625   7.600000  230.721875  146.687500   3.596563   3.217250   \n",
      "std     6.026948   8.194195  123.938694   68.562868   0.534679   0.978457   \n",
      "min    10.400000   4.000000   71.100000   52.000000   2.760000   1.513000   \n",
      "25%    15.425000   4.000000  120.825000   96.500000   3.080000   2.581250   \n",
      "50%    19.200000   6.000000  196.300000  123.000000   3.695000   3.325000   \n",
      "75%    22.800000   8.000000  326.000000  180.000000   3.920000   3.610000   \n",
      "max    33.900000  50.000000  472.000000  335.000000   4.930000   5.424000   \n",
      "\n",
      "             qsec         vs     carb  \n",
      "count   31.000000  32.000000  32.0000  \n",
      "mean    19.866774   0.437500   2.8125  \n",
      "std     15.310469   0.504016   1.6152  \n",
      "min      0.100000   0.000000   1.0000  \n",
      "25%     16.785000   0.000000   2.0000  \n",
      "50%     17.600000   0.000000   2.0000  \n",
      "75%     18.755000   1.000000   4.0000  \n",
      "max    100.000000   1.000000   8.0000  \n"
     ]
    }
   ],
   "source": [
    "print(data.describe())"
   ]
  },
  {
   "cell_type": "code",
   "execution_count": 6,
   "id": "14bd5901",
   "metadata": {},
   "outputs": [
    {
     "name": "stdout",
     "output_type": "stream",
     "text": [
      "count     32.000000\n",
      "mean     146.687500\n",
      "std       68.562868\n",
      "min       52.000000\n",
      "25%       96.500000\n",
      "50%      123.000000\n",
      "75%      180.000000\n",
      "max      335.000000\n",
      "Name: hp, dtype: float64\n"
     ]
    }
   ],
   "source": [
    "print(data['hp'].describe())"
   ]
  },
  {
   "cell_type": "code",
   "execution_count": 7,
   "id": "1159e794",
   "metadata": {},
   "outputs": [
    {
     "name": "stdout",
     "output_type": "stream",
     "text": [
      "['manual' 'auto']\n"
     ]
    }
   ],
   "source": [
    "print(data['am'].unique())"
   ]
  },
  {
   "cell_type": "code",
   "execution_count": 8,
   "id": "f5d78785",
   "metadata": {},
   "outputs": [
    {
     "name": "stdout",
     "output_type": "stream",
     "text": [
      "['4' '3' '*3' '5' '*5']\n"
     ]
    }
   ],
   "source": [
    "print(data['gear'].unique())"
   ]
  },
  {
   "cell_type": "code",
   "execution_count": 9,
   "id": "1e12a09c",
   "metadata": {},
   "outputs": [
    {
     "name": "stdout",
     "output_type": "stream",
     "text": [
      "[0 1]\n"
     ]
    }
   ],
   "source": [
    "print(data['vs'].unique())"
   ]
  },
  {
   "cell_type": "code",
   "execution_count": 10,
   "id": "1e1a82fc",
   "metadata": {},
   "outputs": [
    {
     "name": "stdout",
     "output_type": "stream",
     "text": [
      "<class 'pandas.core.frame.DataFrame'>\n",
      "RangeIndex: 32 entries, 0 to 31\n",
      "Data columns (total 12 columns):\n",
      " #   Column      Non-Null Count  Dtype  \n",
      "---  ------      --------------  -----  \n",
      " 0   Unnamed: 0  32 non-null     object \n",
      " 1   mpg         32 non-null     float64\n",
      " 2   cyl         30 non-null     float64\n",
      " 3   disp        32 non-null     float64\n",
      " 4   hp          32 non-null     int64  \n",
      " 5   drat        32 non-null     float64\n",
      " 6   wt          32 non-null     float64\n",
      " 7   qsec        31 non-null     float64\n",
      " 8   vs          32 non-null     int64  \n",
      " 9   am          32 non-null     object \n",
      " 10  gear        32 non-null     object \n",
      " 11  carb        32 non-null     int64  \n",
      "dtypes: float64(6), int64(3), object(3)\n",
      "memory usage: 3.1+ KB\n",
      "None\n"
     ]
    }
   ],
   "source": [
    "print(data.info())"
   ]
  },
  {
   "cell_type": "code",
   "execution_count": 11,
   "id": "61587772",
   "metadata": {},
   "outputs": [
    {
     "name": "stdout",
     "output_type": "stream",
     "text": [
      "           mpg       cyl      disp        hp      drat        wt      qsec  \\\n",
      "mpg   1.000000 -0.460227 -0.847551 -0.776168  0.681172 -0.867659  0.013668   \n",
      "cyl  -0.460227  1.000000  0.544876  0.323293 -0.372671  0.533690 -0.012755   \n",
      "disp -0.847551  0.544876  1.000000  0.790949 -0.710214  0.887980  0.181810   \n",
      "hp   -0.776168  0.323293  0.790949  1.000000 -0.448759  0.658748  0.010807   \n",
      "drat  0.681172 -0.372671 -0.710214 -0.448759  1.000000 -0.712441 -0.120283   \n",
      "wt   -0.867659  0.533690  0.887980  0.658748 -0.712441  1.000000  0.093900   \n",
      "qsec  0.013668 -0.012755  0.181810  0.010807 -0.120283  0.093900  1.000000   \n",
      "vs    0.664039 -0.323960 -0.710416 -0.723097  0.440278 -0.554916 -0.112146   \n",
      "carb -0.550925  0.239980  0.394977  0.749812 -0.090790  0.427606 -0.120312   \n",
      "\n",
      "            vs      carb  \n",
      "mpg   0.664039 -0.550925  \n",
      "cyl  -0.323960  0.239980  \n",
      "disp -0.710416  0.394977  \n",
      "hp   -0.723097  0.749812  \n",
      "drat  0.440278 -0.090790  \n",
      "wt   -0.554916  0.427606  \n",
      "qsec -0.112146 -0.120312  \n",
      "vs    1.000000 -0.569607  \n",
      "carb -0.569607  1.000000  \n"
     ]
    }
   ],
   "source": [
    "print(data.corr())"
   ]
  },
  {
   "cell_type": "markdown",
   "id": "bc4dd4a1",
   "metadata": {},
   "source": [
    "종속변수와 독립변수 분리하기"
   ]
  },
  {
   "cell_type": "code",
   "execution_count": 12,
   "id": "397106b6",
   "metadata": {},
   "outputs": [],
   "source": [
    "X = data.drop(columns = 'mpg')\n",
    "Y = data['mpg']"
   ]
  },
  {
   "cell_type": "code",
   "execution_count": 13,
   "id": "670bfd63",
   "metadata": {},
   "outputs": [
    {
     "name": "stdout",
     "output_type": "stream",
     "text": [
      "          Unnamed: 0  cyl   disp   hp  drat     wt   qsec  vs      am gear  \\\n",
      "0          Mazda RX4  6.0  160.0  110  3.90  2.620  16.46   0  manual    4   \n",
      "1      Mazda RX4 Wag  6.0  160.0  110  3.90  2.875  17.02   0  manual    4   \n",
      "2         Datsun 710  4.0  108.0   93  3.85  2.320  18.61   1  manual    4   \n",
      "3     Hornet 4 Drive  6.0  258.0  110  3.08  3.215   0.10   1    auto    3   \n",
      "4  Hornet Sportabout  8.0  360.0  175  3.15  3.440  17.02   0    auto    3   \n",
      "\n",
      "   carb  \n",
      "0     4  \n",
      "1     4  \n",
      "2     1  \n",
      "3     1  \n",
      "4     2  \n"
     ]
    }
   ],
   "source": [
    "print(X.head())"
   ]
  },
  {
   "cell_type": "code",
   "execution_count": 14,
   "id": "326b5619",
   "metadata": {},
   "outputs": [
    {
     "name": "stdout",
     "output_type": "stream",
     "text": [
      "Index(['Unnamed: 0', 'cyl', 'disp', 'hp', 'drat', 'wt', 'qsec', 'vs', 'am',\n",
      "       'gear', 'carb'],\n",
      "      dtype='object')\n"
     ]
    }
   ],
   "source": [
    "print(X.columns)"
   ]
  },
  {
   "cell_type": "code",
   "execution_count": 15,
   "id": "72bd37b2",
   "metadata": {},
   "outputs": [
    {
     "name": "stdout",
     "output_type": "stream",
     "text": [
      "0    21.0\n",
      "1    21.0\n",
      "2    22.8\n",
      "3    21.4\n",
      "4    18.7\n",
      "Name: mpg, dtype: float64\n"
     ]
    }
   ],
   "source": [
    "print(Y.head())"
   ]
  },
  {
   "cell_type": "markdown",
   "id": "118a5e3f",
   "metadata": {},
   "source": [
    "## 2.2 데이터를 관찰하고 가공하기 : 전처리"
   ]
  },
  {
   "cell_type": "code",
   "execution_count": 16,
   "id": "d1100a2b",
   "metadata": {},
   "outputs": [
    {
     "name": "stdout",
     "output_type": "stream",
     "text": [
      "          Unnamed: 0  cyl   disp   hp  drat     wt   qsec  vs      am gear  \\\n",
      "0          Mazda RX4  6.0  160.0  110  3.90  2.620  16.46   0  manual    4   \n",
      "1      Mazda RX4 Wag  6.0  160.0  110  3.90  2.875  17.02   0  manual    4   \n",
      "2         Datsun 710  4.0  108.0   93  3.85  2.320  18.61   1  manual    4   \n",
      "3     Hornet 4 Drive  6.0  258.0  110  3.08  3.215   0.10   1    auto    3   \n",
      "4  Hornet Sportabout  8.0  360.0  175  3.15  3.440  17.02   0    auto    3   \n",
      "\n",
      "   carb  \n",
      "0     4  \n",
      "1     4  \n",
      "2     1  \n",
      "3     1  \n",
      "4     2  \n"
     ]
    }
   ],
   "source": [
    "print(X.head())"
   ]
  },
  {
   "cell_type": "markdown",
   "id": "11bef944",
   "metadata": {},
   "source": [
    "불필요한 열 삭제하기"
   ]
  },
  {
   "cell_type": "code",
   "execution_count": 17,
   "id": "733e9288",
   "metadata": {},
   "outputs": [
    {
     "name": "stdout",
     "output_type": "stream",
     "text": [
      "   cyl   disp   hp  drat     wt   qsec  vs      am gear  carb\n",
      "0  6.0  160.0  110  3.90  2.620  16.46   0  manual    4     4\n",
      "1  6.0  160.0  110  3.90  2.875  17.02   0  manual    4     4\n",
      "2  4.0  108.0   93  3.85  2.320  18.61   1  manual    4     1\n",
      "3  6.0  258.0  110  3.08  3.215   0.10   1    auto    3     1\n",
      "4  8.0  360.0  175  3.15  3.440  17.02   0    auto    3     2\n"
     ]
    }
   ],
   "source": [
    "X = X.iloc[:, 1:]\n",
    "print(X.head())"
   ]
  },
  {
   "cell_type": "markdown",
   "id": "3489cedd",
   "metadata": {},
   "source": [
    "결측값 처리하기"
   ]
  },
  {
   "cell_type": "code",
   "execution_count": 18,
   "id": "d058470c",
   "metadata": {},
   "outputs": [
    {
     "data": {
      "text/html": [
       "<div>\n",
       "<style scoped>\n",
       "    .dataframe tbody tr th:only-of-type {\n",
       "        vertical-align: middle;\n",
       "    }\n",
       "\n",
       "    .dataframe tbody tr th {\n",
       "        vertical-align: top;\n",
       "    }\n",
       "\n",
       "    .dataframe thead th {\n",
       "        text-align: right;\n",
       "    }\n",
       "</style>\n",
       "<table border=\"1\" class=\"dataframe\">\n",
       "  <thead>\n",
       "    <tr style=\"text-align: right;\">\n",
       "      <th></th>\n",
       "      <th>cyl</th>\n",
       "      <th>disp</th>\n",
       "      <th>hp</th>\n",
       "      <th>drat</th>\n",
       "      <th>wt</th>\n",
       "      <th>qsec</th>\n",
       "      <th>vs</th>\n",
       "      <th>am</th>\n",
       "      <th>gear</th>\n",
       "      <th>carb</th>\n",
       "    </tr>\n",
       "  </thead>\n",
       "  <tbody>\n",
       "    <tr>\n",
       "      <th>0</th>\n",
       "      <td>False</td>\n",
       "      <td>False</td>\n",
       "      <td>False</td>\n",
       "      <td>False</td>\n",
       "      <td>False</td>\n",
       "      <td>False</td>\n",
       "      <td>False</td>\n",
       "      <td>False</td>\n",
       "      <td>False</td>\n",
       "      <td>False</td>\n",
       "    </tr>\n",
       "    <tr>\n",
       "      <th>1</th>\n",
       "      <td>False</td>\n",
       "      <td>False</td>\n",
       "      <td>False</td>\n",
       "      <td>False</td>\n",
       "      <td>False</td>\n",
       "      <td>False</td>\n",
       "      <td>False</td>\n",
       "      <td>False</td>\n",
       "      <td>False</td>\n",
       "      <td>False</td>\n",
       "    </tr>\n",
       "    <tr>\n",
       "      <th>2</th>\n",
       "      <td>False</td>\n",
       "      <td>False</td>\n",
       "      <td>False</td>\n",
       "      <td>False</td>\n",
       "      <td>False</td>\n",
       "      <td>False</td>\n",
       "      <td>False</td>\n",
       "      <td>False</td>\n",
       "      <td>False</td>\n",
       "      <td>False</td>\n",
       "    </tr>\n",
       "  </tbody>\n",
       "</table>\n",
       "</div>"
      ],
      "text/plain": [
       "     cyl   disp     hp   drat     wt   qsec     vs     am   gear   carb\n",
       "0  False  False  False  False  False  False  False  False  False  False\n",
       "1  False  False  False  False  False  False  False  False  False  False\n",
       "2  False  False  False  False  False  False  False  False  False  False"
      ]
     },
     "execution_count": 18,
     "metadata": {},
     "output_type": "execute_result"
    }
   ],
   "source": [
    "X.isnull().head(3)"
   ]
  },
  {
   "cell_type": "code",
   "execution_count": 19,
   "id": "3426f7cc",
   "metadata": {},
   "outputs": [
    {
     "name": "stdout",
     "output_type": "stream",
     "text": [
      "cyl     2\n",
      "disp    0\n",
      "hp      0\n",
      "drat    0\n",
      "wt      0\n",
      "qsec    1\n",
      "vs      0\n",
      "am      0\n",
      "gear    0\n",
      "carb    0\n",
      "dtype: int64\n"
     ]
    }
   ],
   "source": [
    "print(X.isnull().sum())"
   ]
  },
  {
   "cell_type": "code",
   "execution_count": 20,
   "id": "06e48334",
   "metadata": {},
   "outputs": [
    {
     "name": "stdout",
     "output_type": "stream",
     "text": [
      "7.6\n"
     ]
    }
   ],
   "source": [
    "X_cyl_mean = X['cyl'].mean()\n",
    "print(X_cyl_mean)"
   ]
  },
  {
   "cell_type": "code",
   "execution_count": 21,
   "id": "1e87958a",
   "metadata": {},
   "outputs": [
    {
     "name": "stdout",
     "output_type": "stream",
     "text": [
      "cyl     0\n",
      "disp    0\n",
      "hp      0\n",
      "drat    0\n",
      "wt      0\n",
      "qsec    1\n",
      "vs      0\n",
      "am      0\n",
      "gear    0\n",
      "carb    0\n",
      "dtype: int64\n"
     ]
    }
   ],
   "source": [
    "# 평균값으로 대치하기\n",
    "X['cyl'] = X['cyl'].fillna(X_cyl_mean)\n",
    "print(X.isnull().sum())"
   ]
  },
  {
   "cell_type": "code",
   "execution_count": 22,
   "id": "61ece216",
   "metadata": {},
   "outputs": [
    {
     "name": "stdout",
     "output_type": "stream",
     "text": [
      "17.6\n"
     ]
    }
   ],
   "source": [
    "# 중위값으로 대치하기\n",
    "X_qsec_median = X['qsec'].median()\n",
    "\n",
    "print(X_qsec_median)"
   ]
  },
  {
   "cell_type": "code",
   "execution_count": 23,
   "id": "10a4931b",
   "metadata": {},
   "outputs": [
    {
     "name": "stdout",
     "output_type": "stream",
     "text": [
      "cyl     0\n",
      "disp    0\n",
      "hp      0\n",
      "drat    0\n",
      "wt      0\n",
      "qsec    0\n",
      "vs      0\n",
      "am      0\n",
      "gear    0\n",
      "carb    0\n",
      "dtype: int64\n"
     ]
    }
   ],
   "source": [
    "X['qsec'] = X['qsec'].fillna(X_qsec_median)\n",
    "print(X.isnull().sum())"
   ]
  },
  {
   "cell_type": "markdown",
   "id": "ebf0e42a",
   "metadata": {},
   "source": [
    "잘못된 값을 올바르게 바꾸기"
   ]
  },
  {
   "cell_type": "code",
   "execution_count": 24,
   "id": "0a248334",
   "metadata": {},
   "outputs": [
    {
     "name": "stdout",
     "output_type": "stream",
     "text": [
      "['4' '3' '*3' '5' '*5']\n"
     ]
    }
   ],
   "source": [
    "print(X['gear'].unique())"
   ]
  },
  {
   "cell_type": "code",
   "execution_count": 25,
   "id": "656b2b16",
   "metadata": {},
   "outputs": [
    {
     "name": "stdout",
     "output_type": "stream",
     "text": [
      "0     4\n",
      "1     4\n",
      "2     4\n",
      "3     3\n",
      "4     3\n",
      "5     3\n",
      "6     3\n",
      "7     4\n",
      "8     4\n",
      "9     4\n",
      "10    4\n",
      "11    3\n",
      "12    3\n",
      "13    3\n",
      "14    3\n",
      "15    3\n",
      "16    3\n",
      "17    4\n",
      "18    4\n",
      "19    4\n",
      "20    3\n",
      "21    3\n",
      "22    3\n",
      "23    3\n",
      "24    3\n",
      "25    4\n",
      "26    5\n",
      "27    5\n",
      "28    5\n",
      "29    5\n",
      "30    5\n",
      "31    4\n",
      "Name: gear, dtype: object\n"
     ]
    }
   ],
   "source": [
    "print(X['gear'].replace('*3','3').replace('*5','5'))"
   ]
  },
  {
   "cell_type": "code",
   "execution_count": 26,
   "id": "46733dab",
   "metadata": {},
   "outputs": [
    {
     "name": "stdout",
     "output_type": "stream",
     "text": [
      "0      4\n",
      "1      4\n",
      "2      4\n",
      "3      3\n",
      "4      3\n",
      "5      3\n",
      "6      3\n",
      "7      4\n",
      "8      4\n",
      "9      4\n",
      "10     4\n",
      "11     3\n",
      "12    *3\n",
      "13     3\n",
      "14     3\n",
      "15     3\n",
      "16     3\n",
      "17     4\n",
      "18     4\n",
      "19     4\n",
      "20     3\n",
      "21     3\n",
      "22     3\n",
      "23     3\n",
      "24     3\n",
      "25     4\n",
      "26     5\n",
      "27     5\n",
      "28    *5\n",
      "29     5\n",
      "30     5\n",
      "31     4\n",
      "Name: gear, dtype: object\n"
     ]
    }
   ],
   "source": [
    "print(X['gear'])"
   ]
  },
  {
   "cell_type": "code",
   "execution_count": 27,
   "id": "8fda5a04",
   "metadata": {},
   "outputs": [
    {
     "name": "stdout",
     "output_type": "stream",
     "text": [
      "['4' '3' '5']\n"
     ]
    }
   ],
   "source": [
    "X['gear'] = X['gear'].replace('*3', '3').replace('*5', '5')\n",
    "print(X['gear'].unique())"
   ]
  },
  {
   "cell_type": "markdown",
   "id": "976d6e9b",
   "metadata": {},
   "source": [
    "이상값(outlier) 처리하기"
   ]
  },
  {
   "cell_type": "code",
   "execution_count": 28,
   "id": "c78a1451",
   "metadata": {},
   "outputs": [
    {
     "name": "stdout",
     "output_type": "stream",
     "text": [
      "             cyl        disp          hp       drat         wt        qsec  \\\n",
      "count  32.000000   32.000000   32.000000  32.000000  32.000000   32.000000   \n",
      "mean    7.600000  230.721875  146.687500   3.596563   3.217250   19.795938   \n",
      "std     7.925459  123.938694   68.562868   0.534679   0.978457   15.066831   \n",
      "min     4.000000   71.100000   52.000000   2.760000   1.513000    0.100000   \n",
      "25%     4.000000  120.825000   96.500000   3.080000   2.581250   16.827500   \n",
      "50%     6.000000  196.300000  123.000000   3.695000   3.325000   17.600000   \n",
      "75%     8.000000  326.000000  180.000000   3.920000   3.610000   18.682500   \n",
      "max    50.000000  472.000000  335.000000   4.930000   5.424000  100.000000   \n",
      "\n",
      "              vs     carb  \n",
      "count  32.000000  32.0000  \n",
      "mean    0.437500   2.8125  \n",
      "std     0.504016   1.6152  \n",
      "min     0.000000   1.0000  \n",
      "25%     0.000000   2.0000  \n",
      "50%     0.000000   2.0000  \n",
      "75%     1.000000   4.0000  \n",
      "max     1.000000   8.0000  \n"
     ]
    }
   ],
   "source": [
    "X_describe = X.describe()\n",
    "print(X_describe)"
   ]
  },
  {
   "cell_type": "code",
   "execution_count": 29,
   "id": "4068e501",
   "metadata": {},
   "outputs": [
    {
     "name": "stdout",
     "output_type": "stream",
     "text": [
      "cyl       8.0000\n",
      "disp    326.0000\n",
      "hp      180.0000\n",
      "drat      3.9200\n",
      "wt        3.6100\n",
      "qsec     18.6825\n",
      "vs        1.0000\n",
      "carb      4.0000\n",
      "Name: 75%, dtype: float64 cyl       4.00000\n",
      "disp    120.82500\n",
      "hp       96.50000\n",
      "drat      3.08000\n",
      "wt        2.58125\n",
      "qsec     16.82750\n",
      "vs        0.00000\n",
      "carb      2.00000\n",
      "Name: 25%, dtype: float64\n"
     ]
    }
   ],
   "source": [
    "print(X_describe.loc['75%'], X_describe.loc['25%'])"
   ]
  },
  {
   "cell_type": "code",
   "execution_count": 30,
   "id": "cb7c829a",
   "metadata": {},
   "outputs": [
    {
     "name": "stdout",
     "output_type": "stream",
     "text": [
      "cyl       4.00000\n",
      "disp    205.17500\n",
      "hp       83.50000\n",
      "drat      0.84000\n",
      "wt        1.02875\n",
      "qsec      1.85500\n",
      "vs        1.00000\n",
      "carb      2.00000\n",
      "dtype: float64\n"
     ]
    }
   ],
   "source": [
    "X_iqr = X_describe.loc['75%'] - X_describe.loc['25%']\n",
    "print(X_iqr)"
   ]
  },
  {
   "cell_type": "code",
   "execution_count": 31,
   "id": "7519e8f4",
   "metadata": {},
   "outputs": [
    {
     "name": "stdout",
     "output_type": "stream",
     "text": [
      "cyl      14.000000\n",
      "disp    633.762500\n",
      "hp      305.250000\n",
      "drat      5.180000\n",
      "wt        5.153125\n",
      "qsec     21.465000\n",
      "vs        2.500000\n",
      "carb      7.000000\n",
      "dtype: float64\n"
     ]
    }
   ],
   "source": [
    "print(X_describe.loc['75%'] + (1.5 * X_iqr))"
   ]
  },
  {
   "cell_type": "code",
   "execution_count": 32,
   "id": "78fb97da",
   "metadata": {},
   "outputs": [
    {
     "name": "stdout",
     "output_type": "stream",
     "text": [
      "cyl      50.000\n",
      "disp    472.000\n",
      "hp      335.000\n",
      "drat      4.930\n",
      "wt        5.424\n",
      "qsec    100.000\n",
      "vs        1.000\n",
      "carb      8.000\n",
      "Name: max, dtype: float64\n"
     ]
    }
   ],
   "source": [
    "print(X_describe.loc['max'])"
   ]
  },
  {
   "cell_type": "code",
   "execution_count": 33,
   "id": "dd322d00",
   "metadata": {
    "scrolled": true
   },
   "outputs": [
    {
     "name": "stdout",
     "output_type": "stream",
     "text": [
      "     cyl   disp   hp  drat    wt   qsec  vs    am gear  carb\n",
      "14  50.0  472.0  205  2.93  5.25  17.98   0  auto    3     4\n"
     ]
    }
   ],
   "source": [
    "print(X.loc[X['cyl'] > 14])"
   ]
  },
  {
   "cell_type": "code",
   "execution_count": 34,
   "id": "70d36ffb",
   "metadata": {},
   "outputs": [
    {
     "data": {
      "text/plain": [
       "14.0"
      ]
     },
     "execution_count": 34,
     "metadata": {},
     "output_type": "execute_result"
    }
   ],
   "source": [
    "X.loc[14, 'cyl'] = 14\n",
    "X.loc[14, 'cyl']"
   ]
  },
  {
   "cell_type": "code",
   "execution_count": 35,
   "id": "0598275f",
   "metadata": {},
   "outputs": [
    {
     "name": "stdout",
     "output_type": "stream",
     "text": [
      "    cyl   disp   hp  drat    wt  qsec  vs      am gear  carb\n",
      "30  8.0  301.0  335  3.54  3.57  14.6   0  manual    5     8\n"
     ]
    }
   ],
   "source": [
    "print(X.loc[X['hp'] > 305.25])"
   ]
  },
  {
   "cell_type": "code",
   "execution_count": 36,
   "id": "f28bf7eb",
   "metadata": {},
   "outputs": [
    {
     "data": {
      "text/plain": [
       "305.25"
      ]
     },
     "execution_count": 36,
     "metadata": {},
     "output_type": "execute_result"
    }
   ],
   "source": [
    "X.loc[30, 'hp'] = 305.25\n",
    "X.loc[30, 'hp']"
   ]
  },
  {
   "cell_type": "code",
   "execution_count": 37,
   "id": "e291c9a1",
   "metadata": {},
   "outputs": [
    {
     "name": "stdout",
     "output_type": "stream",
     "text": [
      "    cyl   disp     hp  drat     wt   qsec  vs    am gear  carb\n",
      "8   4.0  140.8   95.0  3.92  3.150   22.9   1  auto    4     2\n",
      "24  7.6  400.0  175.0  3.08  3.845  100.0   0  auto    3     2\n"
     ]
    }
   ],
   "source": [
    "print(X.loc[X['qsec'] > 21.465])"
   ]
  },
  {
   "cell_type": "code",
   "execution_count": 38,
   "id": "595a5d5e",
   "metadata": {},
   "outputs": [],
   "source": [
    "X.loc[[8,24], 'qsec'] = 21.465"
   ]
  },
  {
   "cell_type": "code",
   "execution_count": 39,
   "id": "67b6c3ca",
   "metadata": {},
   "outputs": [
    {
     "data": {
      "text/plain": [
       "8     21.465\n",
       "24    21.465\n",
       "Name: qsec, dtype: float64"
      ]
     },
     "execution_count": 39,
     "metadata": {},
     "output_type": "execute_result"
    }
   ],
   "source": [
    "X.loc[[8,24], 'qsec']"
   ]
  },
  {
   "cell_type": "code",
   "execution_count": 40,
   "id": "b1a10369",
   "metadata": {},
   "outputs": [
    {
     "name": "stdout",
     "output_type": "stream",
     "text": [
      "    cyl   disp      hp  drat    wt  qsec  vs      am gear  carb\n",
      "30  8.0  301.0  305.25  3.54  3.57  14.6   0  manual    5     8\n"
     ]
    }
   ],
   "source": [
    "print(X.loc[X['carb'] > 7])"
   ]
  },
  {
   "cell_type": "code",
   "execution_count": 41,
   "id": "02a1b01a",
   "metadata": {},
   "outputs": [
    {
     "name": "stdout",
     "output_type": "stream",
     "text": [
      "cyl        8.0\n",
      "disp     301.0\n",
      "hp      305.25\n",
      "drat      3.54\n",
      "wt        3.57\n",
      "qsec      14.6\n",
      "vs           0\n",
      "am      manual\n",
      "gear         5\n",
      "carb         7\n",
      "Name: 30, dtype: object\n"
     ]
    }
   ],
   "source": [
    "X.loc[30, 'carb'] = 7\n",
    "print(X.loc[30,:])"
   ]
  },
  {
   "cell_type": "code",
   "execution_count": 42,
   "id": "dfee5640",
   "metadata": {},
   "outputs": [
    {
     "name": "stdout",
     "output_type": "stream",
     "text": [
      "cyl      -2.000000\n",
      "disp   -186.937500\n",
      "hp      -28.750000\n",
      "drat      1.820000\n",
      "wt        1.038125\n",
      "qsec     14.045000\n",
      "vs       -1.500000\n",
      "carb     -1.000000\n",
      "dtype: float64\n"
     ]
    }
   ],
   "source": [
    "print(X_describe.loc['25%'] - (1.5 * X_iqr))"
   ]
  },
  {
   "cell_type": "code",
   "execution_count": 43,
   "id": "0418a76b",
   "metadata": {},
   "outputs": [
    {
     "name": "stdout",
     "output_type": "stream",
     "text": [
      "cyl      4.000\n",
      "disp    71.100\n",
      "hp      52.000\n",
      "drat     2.760\n",
      "wt       1.513\n",
      "qsec     0.100\n",
      "vs       0.000\n",
      "carb     1.000\n",
      "Name: min, dtype: float64\n"
     ]
    }
   ],
   "source": [
    "print(X_describe.loc['min'])"
   ]
  },
  {
   "cell_type": "code",
   "execution_count": 44,
   "id": "631604dc",
   "metadata": {},
   "outputs": [
    {
     "name": "stdout",
     "output_type": "stream",
     "text": [
      "   cyl   disp     hp  drat     wt  qsec  vs    am gear  carb\n",
      "3  6.0  258.0  110.0  3.08  3.215   0.1   1  auto    3     1\n"
     ]
    }
   ],
   "source": [
    "print(X.loc[X['qsec'] < 14.045])"
   ]
  },
  {
   "cell_type": "code",
   "execution_count": 45,
   "id": "708ec9f0",
   "metadata": {},
   "outputs": [
    {
     "name": "stdout",
     "output_type": "stream",
     "text": [
      "Empty DataFrame\n",
      "Columns: [cyl, disp, hp, drat, wt, qsec, vs, am, gear, carb]\n",
      "Index: []\n"
     ]
    }
   ],
   "source": [
    "X.loc[3, 'qsec'] = 14.045\n",
    "print(X.loc[X['qsec'] < 14.045])"
   ]
  },
  {
   "cell_type": "code",
   "execution_count": 46,
   "id": "3661de9f",
   "metadata": {},
   "outputs": [],
   "source": [
    "def outlier(data, column):\n",
    "    mean = data[column].mean()\n",
    "    std = data[column].std()\n",
    "    lowest = mean - (std * 1.5)\n",
    "    highest = mean + (std * 1.5)\n",
    "    print('최소 경계값 :', lowest, ' 최대 경계값 : ', highest)\n",
    "    outlier_index = data[column][ (data[column] < lowest) | (data[column] > highest) ].index\n",
    "    return outlier_index"
   ]
  },
  {
   "cell_type": "code",
   "execution_count": 47,
   "id": "d091805c",
   "metadata": {},
   "outputs": [
    {
     "name": "stdout",
     "output_type": "stream",
     "text": [
      "최소 경계값 : 14.914135929311307  최대 경계값 :  20.55117657068869\n",
      "Int64Index([3, 8, 24, 28, 30], dtype='int64')\n"
     ]
    }
   ],
   "source": [
    "print(outlier(X, 'qsec'))"
   ]
  },
  {
   "cell_type": "code",
   "execution_count": 48,
   "id": "5d356240",
   "metadata": {},
   "outputs": [
    {
     "name": "stdout",
     "output_type": "stream",
     "text": [
      "21.465\n"
     ]
    }
   ],
   "source": [
    "print(X.loc[24, 'qsec'])"
   ]
  },
  {
   "cell_type": "code",
   "execution_count": 49,
   "id": "2bd406e8",
   "metadata": {},
   "outputs": [
    {
     "name": "stdout",
     "output_type": "stream",
     "text": [
      "20.551\n"
     ]
    }
   ],
   "source": [
    "X.loc[24, 'qsec'] = 20.551\n",
    "print(X.loc[24, 'qsec'])"
   ]
  },
  {
   "cell_type": "code",
   "execution_count": 50,
   "id": "7e295f0b",
   "metadata": {},
   "outputs": [
    {
     "name": "stdout",
     "output_type": "stream",
     "text": [
      "최소 경계값 : 0.5036969306136974  최대 경계값 :  5.058803069386302\n",
      "Int64Index([29, 30], dtype='int64')\n"
     ]
    }
   ],
   "source": [
    "print(outlier(X, 'carb'))"
   ]
  },
  {
   "cell_type": "code",
   "execution_count": 51,
   "id": "74bf1ebb",
   "metadata": {},
   "outputs": [
    {
     "name": "stdout",
     "output_type": "stream",
     "text": [
      "29    6\n",
      "30    7\n",
      "Name: carb, dtype: int64\n"
     ]
    }
   ],
   "source": [
    "print(X.loc[[29,30], 'carb'])"
   ]
  },
  {
   "cell_type": "code",
   "execution_count": 52,
   "id": "17c0a3f0",
   "metadata": {},
   "outputs": [
    {
     "data": {
      "text/plain": [
       "29    5.058\n",
       "30    5.058\n",
       "Name: carb, dtype: float64"
      ]
     },
     "execution_count": 52,
     "metadata": {},
     "output_type": "execute_result"
    }
   ],
   "source": [
    "X.loc[29, 'carb'] = 5.058\n",
    "X.loc[30, 'carb'] = 5.058\n",
    "\n",
    "X.loc[[29,30], 'carb']"
   ]
  },
  {
   "cell_type": "markdown",
   "id": "3938be28",
   "metadata": {},
   "source": [
    "데이터를 동일한 범위로 맞추기 : 데이터 스케일링"
   ]
  },
  {
   "cell_type": "code",
   "execution_count": 53,
   "id": "17ee3495",
   "metadata": {},
   "outputs": [],
   "source": [
    "# 표준 크기 변환 : Standard Scaler\n",
    "from sklearn.preprocessing import StandardScaler\n",
    "\n",
    "temp = X[['qsec']]"
   ]
  },
  {
   "cell_type": "code",
   "execution_count": 54,
   "id": "8492550a",
   "metadata": {},
   "outputs": [
    {
     "name": "stdout",
     "output_type": "stream",
     "text": [
      "[[-0.69197118]\n",
      " [-0.38049637]\n",
      " [ 0.5038696 ]\n",
      " [-2.0352063 ]\n",
      " [-0.38049637]\n",
      " [ 1.39935968]\n",
      " [-1.03681829]\n",
      " [ 1.27699457]\n",
      " [ 2.09183492]\n",
      " [ 0.33144605]\n",
      " [-0.05789747]\n",
      " [-0.16913847]\n",
      " [-0.05789747]\n",
      " [ 0.16458454]\n",
      " [ 0.15346044]\n",
      " [ 0.06446764]\n",
      " [-0.15801437]\n",
      " [ 0.98220591]\n",
      " [ 0.45381115]\n",
      " [ 1.22137407]\n",
      " [ 1.28255662]\n",
      " [-0.46392713]\n",
      " [-0.22475897]\n",
      " [-1.27598645]\n",
      " [ 1.58346354]\n",
      " [ 0.66516905]\n",
      " [-0.55848198]\n",
      " [-0.44724098]\n",
      " [-1.78213301]\n",
      " [-1.225928  ]\n",
      " [-1.72651251]\n",
      " [ 0.49830755]]\n"
     ]
    }
   ],
   "source": [
    "scaler = StandardScaler()\n",
    "\n",
    "print(scaler.fit_transform(temp))"
   ]
  },
  {
   "cell_type": "code",
   "execution_count": 55,
   "id": "a7b4c7b4",
   "metadata": {},
   "outputs": [
    {
     "name": "stdout",
     "output_type": "stream",
     "text": [
      "                  0\n",
      "count  3.200000e+01\n",
      "mean  -1.127570e-15\n",
      "std    1.016001e+00\n",
      "min   -2.035206e+00\n",
      "25%   -4.875658e-01\n",
      "50%   -5.789747e-02\n",
      "75%    5.441945e-01\n",
      "max    2.091835e+00\n"
     ]
    }
   ],
   "source": [
    "qsec_s_scaler = pd.DataFrame(scaler.fit_transform(temp))\n",
    "\n",
    "print(qsec_s_scaler.describe())"
   ]
  },
  {
   "cell_type": "markdown",
   "id": "7a11954e",
   "metadata": {},
   "source": [
    "최소-최대 크기변환 : MinMaxScaler"
   ]
  },
  {
   "cell_type": "code",
   "execution_count": 56,
   "id": "32bf6b39",
   "metadata": {},
   "outputs": [],
   "source": [
    "from sklearn.preprocessing import MinMaxScaler\n",
    "\n",
    "temp = X[['qsec']]"
   ]
  },
  {
   "cell_type": "code",
   "execution_count": 57,
   "id": "7fad72d1",
   "metadata": {},
   "outputs": [
    {
     "name": "stdout",
     "output_type": "stream",
     "text": [
      "           0\n",
      "0   0.325472\n",
      "1   0.400943\n",
      "2   0.615229\n",
      "3   0.000000\n",
      "4   0.400943\n",
      "5   0.832210\n",
      "6   0.241914\n",
      "7   0.802561\n",
      "8   1.000000\n",
      "9   0.573450\n",
      "10  0.479111\n",
      "11  0.452156\n",
      "12  0.479111\n",
      "13  0.533019\n",
      "14  0.530323\n",
      "15  0.508760\n",
      "16  0.454852\n",
      "17  0.731132\n",
      "18  0.603100\n",
      "19  0.789084\n",
      "20  0.803908\n",
      "21  0.380728\n",
      "22  0.438679\n",
      "23  0.183962\n",
      "24  0.876819\n",
      "25  0.654313\n",
      "26  0.357817\n",
      "27  0.384771\n",
      "28  0.061321\n",
      "29  0.196092\n",
      "30  0.074798\n",
      "31  0.613881\n"
     ]
    }
   ],
   "source": [
    "scaler = MinMaxScaler()\n",
    "\n",
    "qsec_m_scaler = pd.DataFrame(scaler.fit_transform(temp))\n",
    "\n",
    "print(qsec_m_scaler)"
   ]
  },
  {
   "cell_type": "code",
   "execution_count": 58,
   "id": "dc2fc74d",
   "metadata": {},
   "outputs": [
    {
     "name": "stdout",
     "output_type": "stream",
     "text": [
      "               0\n",
      "count  32.000000\n",
      "mean    0.493139\n",
      "std     0.246181\n",
      "min     0.000000\n",
      "25%     0.375000\n",
      "50%     0.479111\n",
      "75%     0.625000\n",
      "max     1.000000\n"
     ]
    }
   ],
   "source": [
    "print(qsec_m_scaler.describe())"
   ]
  },
  {
   "cell_type": "markdown",
   "id": "921fecc7",
   "metadata": {},
   "source": [
    "로버스트 크기변환 : RobustScaler"
   ]
  },
  {
   "cell_type": "code",
   "execution_count": 59,
   "id": "6f76ca6f",
   "metadata": {},
   "outputs": [],
   "source": [
    "from sklearn.preprocessing import RobustScaler\n",
    "\n",
    "temp = X[['qsec']]"
   ]
  },
  {
   "cell_type": "code",
   "execution_count": 60,
   "id": "1171f233",
   "metadata": {},
   "outputs": [
    {
     "name": "stdout",
     "output_type": "stream",
     "text": [
      "           0\n",
      "0  -0.614555\n",
      "1  -0.312668\n",
      "2   0.544474\n",
      "3  -1.916442\n",
      "4  -0.312668\n",
      "5   1.412399\n",
      "6  -0.948787\n",
      "7   1.293801\n",
      "8   2.083558\n",
      "9   0.377358\n",
      "10  0.000000\n",
      "11 -0.107817\n",
      "12  0.000000\n",
      "13  0.215633\n",
      "14  0.204852\n",
      "15  0.118598\n",
      "16 -0.097035\n",
      "17  1.008086\n",
      "18  0.495957\n",
      "19  1.239892\n",
      "20  1.299191\n",
      "21 -0.393531\n",
      "22 -0.161725\n",
      "23 -1.180593\n",
      "24  1.590836\n",
      "25  0.700809\n",
      "26 -0.485175\n",
      "27 -0.377358\n",
      "28 -1.671159\n",
      "29 -1.132075\n",
      "30 -1.617251\n",
      "31  0.539084\n"
     ]
    }
   ],
   "source": [
    "scaler = RobustScaler()\n",
    "\n",
    "qsec_r_scaler = pd.DataFrame(scaler.fit_transform(temp))\n",
    "\n",
    "print(qsec_r_scaler)"
   ]
  },
  {
   "cell_type": "markdown",
   "id": "9a8f0062",
   "metadata": {},
   "source": [
    "### 데이터 타입 변경하기"
   ]
  },
  {
   "cell_type": "code",
   "execution_count": 61,
   "id": "a7a2e2ba",
   "metadata": {},
   "outputs": [
    {
     "name": "stdout",
     "output_type": "stream",
     "text": [
      "<class 'pandas.core.frame.DataFrame'>\n",
      "RangeIndex: 32 entries, 0 to 31\n",
      "Data columns (total 10 columns):\n",
      " #   Column  Non-Null Count  Dtype  \n",
      "---  ------  --------------  -----  \n",
      " 0   cyl     32 non-null     float64\n",
      " 1   disp    32 non-null     float64\n",
      " 2   hp      32 non-null     float64\n",
      " 3   drat    32 non-null     float64\n",
      " 4   wt      32 non-null     float64\n",
      " 5   qsec    32 non-null     float64\n",
      " 6   vs      32 non-null     int64  \n",
      " 7   am      32 non-null     object \n",
      " 8   gear    32 non-null     object \n",
      " 9   carb    32 non-null     float64\n",
      "dtypes: float64(7), int64(1), object(2)\n",
      "memory usage: 2.6+ KB\n",
      "None\n"
     ]
    }
   ],
   "source": [
    "print(X.info())"
   ]
  },
  {
   "cell_type": "code",
   "execution_count": 62,
   "id": "2e87bdf3",
   "metadata": {},
   "outputs": [
    {
     "data": {
      "text/plain": [
       "dtype('int64')"
      ]
     },
     "execution_count": 62,
     "metadata": {},
     "output_type": "execute_result"
    }
   ],
   "source": [
    "X['gear'] = X['gear'].astype('int64')\n",
    "\n",
    "X['gear'].dtype"
   ]
  },
  {
   "cell_type": "markdown",
   "id": "e84b553a",
   "metadata": {},
   "source": [
    "### 범주형을 수치형으로 변경하기 : 인코딩(encoding)"
   ]
  },
  {
   "cell_type": "markdown",
   "id": "7210da1d",
   "metadata": {},
   "source": [
    "원핫 인코딩 : One-Hot Encoding"
   ]
  },
  {
   "cell_type": "code",
   "execution_count": 63,
   "id": "db54a541",
   "metadata": {},
   "outputs": [
    {
     "name": "stdout",
     "output_type": "stream",
     "text": [
      "   cyl   disp     hp  drat     wt    qsec  vs      am  gear  carb\n",
      "0  6.0  160.0  110.0  3.90  2.620  16.460   0  manual     4   4.0\n",
      "1  6.0  160.0  110.0  3.90  2.875  17.020   0  manual     4   4.0\n",
      "2  4.0  108.0   93.0  3.85  2.320  18.610   1  manual     4   1.0\n",
      "3  6.0  258.0  110.0  3.08  3.215  14.045   1    auto     3   1.0\n",
      "4  8.0  360.0  175.0  3.15  3.440  17.020   0    auto     3   2.0\n"
     ]
    }
   ],
   "source": [
    "print(X.head())"
   ]
  },
  {
   "cell_type": "code",
   "execution_count": 64,
   "id": "7c07c3a3",
   "metadata": {},
   "outputs": [
    {
     "name": "stdout",
     "output_type": "stream",
     "text": [
      "['manual' 'auto']\n"
     ]
    }
   ],
   "source": [
    "print(X['am'].unique())"
   ]
  },
  {
   "cell_type": "code",
   "execution_count": 65,
   "id": "4f982bd4",
   "metadata": {},
   "outputs": [
    {
     "name": "stdout",
     "output_type": "stream",
     "text": [
      "    auto  manual\n",
      "0      0       1\n",
      "1      0       1\n",
      "2      0       1\n",
      "3      1       0\n",
      "4      1       0\n",
      "5      1       0\n",
      "6      1       0\n",
      "7      1       0\n",
      "8      1       0\n",
      "9      1       0\n",
      "10     1       0\n",
      "11     1       0\n",
      "12     1       0\n",
      "13     1       0\n",
      "14     1       0\n",
      "15     1       0\n",
      "16     1       0\n",
      "17     0       1\n",
      "18     0       1\n",
      "19     0       1\n",
      "20     1       0\n",
      "21     1       0\n",
      "22     1       0\n",
      "23     1       0\n",
      "24     1       0\n",
      "25     0       1\n",
      "26     0       1\n",
      "27     0       1\n",
      "28     0       1\n",
      "29     0       1\n",
      "30     0       1\n",
      "31     0       1\n"
     ]
    }
   ],
   "source": [
    "print(pd.get_dummies(X['am']))"
   ]
  },
  {
   "cell_type": "code",
   "execution_count": 66,
   "id": "643cf20e",
   "metadata": {},
   "outputs": [
    {
     "name": "stdout",
     "output_type": "stream",
     "text": [
      "    manual\n",
      "0        1\n",
      "1        1\n",
      "2        1\n",
      "3        0\n",
      "4        0\n",
      "5        0\n",
      "6        0\n",
      "7        0\n",
      "8        0\n",
      "9        0\n",
      "10       0\n",
      "11       0\n",
      "12       0\n",
      "13       0\n",
      "14       0\n",
      "15       0\n",
      "16       0\n",
      "17       1\n",
      "18       1\n",
      "19       1\n",
      "20       0\n",
      "21       0\n",
      "22       0\n",
      "23       0\n",
      "24       0\n",
      "25       1\n",
      "26       1\n",
      "27       1\n",
      "28       1\n",
      "29       1\n",
      "30       1\n",
      "31       1\n"
     ]
    }
   ],
   "source": [
    "print(pd.get_dummies(X['am'], drop_first = True))"
   ]
  },
  {
   "cell_type": "code",
   "execution_count": 67,
   "id": "84cc63b1",
   "metadata": {},
   "outputs": [
    {
     "name": "stdout",
     "output_type": "stream",
     "text": [
      "<class 'pandas.core.frame.DataFrame'>\n",
      "RangeIndex: 32 entries, 0 to 31\n",
      "Data columns (total 10 columns):\n",
      " #   Column  Non-Null Count  Dtype  \n",
      "---  ------  --------------  -----  \n",
      " 0   cyl     32 non-null     float64\n",
      " 1   disp    32 non-null     float64\n",
      " 2   hp      32 non-null     float64\n",
      " 3   drat    32 non-null     float64\n",
      " 4   wt      32 non-null     float64\n",
      " 5   qsec    32 non-null     float64\n",
      " 6   vs      32 non-null     int64  \n",
      " 7   am      32 non-null     object \n",
      " 8   gear    32 non-null     int64  \n",
      " 9   carb    32 non-null     float64\n",
      "dtypes: float64(7), int64(2), object(1)\n",
      "memory usage: 2.6+ KB\n",
      "None\n"
     ]
    }
   ],
   "source": [
    "print(X.info())"
   ]
  },
  {
   "cell_type": "code",
   "execution_count": 68,
   "id": "231f0553",
   "metadata": {},
   "outputs": [
    {
     "name": "stdout",
     "output_type": "stream",
     "text": [
      "     cyl   disp      hp  drat     wt    qsec  vs  gear   carb  am_manual\n",
      "0    6.0  160.0  110.00  3.90  2.620  16.460   0     4  4.000          1\n",
      "1    6.0  160.0  110.00  3.90  2.875  17.020   0     4  4.000          1\n",
      "2    4.0  108.0   93.00  3.85  2.320  18.610   1     4  1.000          1\n",
      "3    6.0  258.0  110.00  3.08  3.215  14.045   1     3  1.000          0\n",
      "4    8.0  360.0  175.00  3.15  3.440  17.020   0     3  2.000          0\n",
      "5    6.0  225.0  105.00  2.76  3.460  20.220   1     3  1.000          0\n",
      "6    8.0  360.0  245.00  3.21  3.570  15.840   0     3  4.000          0\n",
      "7    7.6  146.7   62.00  3.69  3.190  20.000   1     4  2.000          0\n",
      "8    4.0  140.8   95.00  3.92  3.150  21.465   1     4  2.000          0\n",
      "9    6.0  167.6  123.00  3.92  3.440  18.300   1     4  4.000          0\n",
      "10   6.0  167.6  123.00  3.92  3.440  17.600   1     4  4.000          0\n",
      "11   8.0  275.8  180.00  3.07  4.070  17.400   0     3  3.000          0\n",
      "12   8.0  275.8  180.00  3.07  3.730  17.600   0     3  3.000          0\n",
      "13   8.0  275.8  180.00  3.07  3.780  18.000   0     3  3.000          0\n",
      "14  14.0  472.0  205.00  2.93  5.250  17.980   0     3  4.000          0\n",
      "15   8.0  460.0  215.00  3.00  5.424  17.820   0     3  4.000          0\n",
      "16   8.0  440.0  230.00  3.23  5.345  17.420   0     3  4.000          0\n",
      "17   4.0   78.7   66.00  4.08  2.200  19.470   1     4  1.000          1\n",
      "18   4.0   75.7   52.00  4.93  1.615  18.520   1     4  2.000          1\n",
      "19   4.0   71.1   65.00  4.22  1.835  19.900   1     4  1.000          1\n",
      "20   4.0  120.1   97.00  3.70  2.465  20.010   1     3  1.000          0\n",
      "21   8.0  318.0  150.00  2.76  3.520  16.870   0     3  2.000          0\n",
      "22   8.0  304.0  150.00  3.15  3.435  17.300   0     3  2.000          0\n",
      "23   8.0  350.0  245.00  3.73  3.840  15.410   0     3  4.000          0\n",
      "24   7.6  400.0  175.00  3.08  3.845  20.551   0     3  2.000          0\n",
      "25   4.0   79.0   66.00  4.08  1.935  18.900   1     4  1.000          1\n",
      "26   4.0  120.3   91.00  4.43  2.140  16.700   0     5  2.000          1\n",
      "27   4.0   95.1  113.00  3.77  1.513  16.900   1     5  2.000          1\n",
      "28   8.0  351.0  264.00  4.22  3.170  14.500   0     5  4.000          1\n",
      "29   6.0  145.0  175.00  3.62  2.770  15.500   0     5  5.058          1\n",
      "30   8.0  301.0  305.25  3.54  3.570  14.600   0     5  5.058          1\n",
      "31   4.0  121.0  109.00  4.11  2.780  18.600   1     4  2.000          1\n"
     ]
    }
   ],
   "source": [
    "print(pd.get_dummies(X, drop_first = True))"
   ]
  },
  {
   "cell_type": "markdown",
   "id": "3b457813",
   "metadata": {},
   "source": [
    "라벨 인코딩 : Label Encoding"
   ]
  },
  {
   "cell_type": "code",
   "execution_count": 69,
   "id": "1ec7c39c",
   "metadata": {},
   "outputs": [
    {
     "name": "stdout",
     "output_type": "stream",
     "text": [
      "0    manual\n",
      "1    manual\n",
      "2    manual\n",
      "3      auto\n",
      "4      auto\n",
      "Name: am, dtype: object\n"
     ]
    }
   ],
   "source": [
    "print(X['am'].head())"
   ]
  },
  {
   "cell_type": "code",
   "execution_count": 70,
   "id": "48dcf7b5",
   "metadata": {},
   "outputs": [],
   "source": [
    "from sklearn.preprocessing import LabelEncoder\n",
    "\n",
    "encoder = LabelEncoder()"
   ]
  },
  {
   "cell_type": "code",
   "execution_count": 71,
   "id": "61fd4af2",
   "metadata": {},
   "outputs": [
    {
     "name": "stdout",
     "output_type": "stream",
     "text": [
      "[1 1 1 0 0 0 0 0 0 0 0 0 0 0 0 0 0 1 1 1 0 0 0 0 0 1 1 1 1 1 1 1]\n"
     ]
    }
   ],
   "source": [
    "print(encoder.fit_transform(X['am']))"
   ]
  },
  {
   "cell_type": "code",
   "execution_count": 72,
   "id": "702efd43",
   "metadata": {},
   "outputs": [
    {
     "name": "stdout",
     "output_type": "stream",
     "text": [
      "['apple', 'banana', 'grape'] [0 1 2]\n"
     ]
    }
   ],
   "source": [
    "fruit = ['apple', 'banana', 'grape']\n",
    "\n",
    "encoder = LabelEncoder()\n",
    "\n",
    "fruit_new = encoder.fit_transform(fruit)\n",
    "\n",
    "print(fruit, fruit_new)"
   ]
  },
  {
   "cell_type": "markdown",
   "id": "800b41a5",
   "metadata": {},
   "source": [
    "수동 인코딩 : Replace"
   ]
  },
  {
   "cell_type": "code",
   "execution_count": 73,
   "id": "c9795272",
   "metadata": {},
   "outputs": [
    {
     "name": "stdout",
     "output_type": "stream",
     "text": [
      "   cyl   disp     hp  drat     wt    qsec  vs      am  gear  carb  am_new\n",
      "0  6.0  160.0  110.0  3.90  2.620  16.460   0  manual     4   4.0       0\n",
      "1  6.0  160.0  110.0  3.90  2.875  17.020   0  manual     4   4.0       0\n",
      "2  4.0  108.0   93.0  3.85  2.320  18.610   1  manual     4   1.0       0\n",
      "3  6.0  258.0  110.0  3.08  3.215  14.045   1    auto     3   1.0       1\n",
      "4  8.0  360.0  175.0  3.15  3.440  17.020   0    auto     3   2.0       1\n"
     ]
    }
   ],
   "source": [
    "X['am_new'] = X['am'].replace('manual', 0).replace('auto', 1)\n",
    "print(X.head())"
   ]
  },
  {
   "cell_type": "code",
   "execution_count": 74,
   "id": "186aa48a",
   "metadata": {},
   "outputs": [
    {
     "name": "stdout",
     "output_type": "stream",
     "text": [
      "   cyl   disp     hp  drat     wt    qsec  vs  gear  carb  am_new\n",
      "0  6.0  160.0  110.0  3.90  2.620  16.460   0     4   4.0       0\n",
      "1  6.0  160.0  110.0  3.90  2.875  17.020   0     4   4.0       0\n",
      "2  4.0  108.0   93.0  3.85  2.320  18.610   1     4   1.0       0\n",
      "3  6.0  258.0  110.0  3.08  3.215  14.045   1     3   1.0       1\n",
      "4  8.0  360.0  175.0  3.15  3.440  17.020   0     3   2.0       1\n"
     ]
    }
   ],
   "source": [
    "X = X.drop(columns = ['am'])\n",
    "print(X.head())"
   ]
  },
  {
   "cell_type": "markdown",
   "id": "59a3f965",
   "metadata": {},
   "source": [
    "### 파생변수 만들기\n",
    "- 특정한 조건이나 함수에 의해서 새롭게 의미를 부여해서 만드는 변수"
   ]
  },
  {
   "cell_type": "code",
   "execution_count": 75,
   "id": "d6d312a6",
   "metadata": {},
   "outputs": [
    {
     "name": "stdout",
     "output_type": "stream",
     "text": [
      "0      True\n",
      "1      True\n",
      "2      True\n",
      "3      True\n",
      "4     False\n",
      "5     False\n",
      "6     False\n",
      "7      True\n",
      "8      True\n",
      "9     False\n",
      "10    False\n",
      "11    False\n",
      "12    False\n",
      "13    False\n",
      "14    False\n",
      "15    False\n",
      "16    False\n",
      "17     True\n",
      "18     True\n",
      "19     True\n",
      "20     True\n",
      "21    False\n",
      "22    False\n",
      "23    False\n",
      "24    False\n",
      "25     True\n",
      "26     True\n",
      "27     True\n",
      "28     True\n",
      "29     True\n",
      "30    False\n",
      "31     True\n",
      "Name: wt, dtype: bool\n"
     ]
    }
   ],
   "source": [
    "print(X['wt'] < 3.3)"
   ]
  },
  {
   "cell_type": "code",
   "execution_count": 76,
   "id": "aeb68057",
   "metadata": {},
   "outputs": [],
   "source": [
    "condition = X['wt'] < 3.3\n",
    "\n",
    "X.loc[condition, 'wt_class'] = 0\n",
    "X.loc[~condition, 'wt_class'] = 1"
   ]
  },
  {
   "cell_type": "code",
   "execution_count": 77,
   "id": "59d93f09",
   "metadata": {},
   "outputs": [
    {
     "name": "stdout",
     "output_type": "stream",
     "text": [
      "       wt  wt_class\n",
      "0   2.620       0.0\n",
      "1   2.875       0.0\n",
      "2   2.320       0.0\n",
      "3   3.215       0.0\n",
      "4   3.440       1.0\n",
      "5   3.460       1.0\n",
      "6   3.570       1.0\n",
      "7   3.190       0.0\n",
      "8   3.150       0.0\n",
      "9   3.440       1.0\n",
      "10  3.440       1.0\n",
      "11  4.070       1.0\n",
      "12  3.730       1.0\n",
      "13  3.780       1.0\n",
      "14  5.250       1.0\n",
      "15  5.424       1.0\n",
      "16  5.345       1.0\n",
      "17  2.200       0.0\n",
      "18  1.615       0.0\n",
      "19  1.835       0.0\n",
      "20  2.465       0.0\n",
      "21  3.520       1.0\n",
      "22  3.435       1.0\n",
      "23  3.840       1.0\n",
      "24  3.845       1.0\n",
      "25  1.935       0.0\n",
      "26  2.140       0.0\n",
      "27  1.513       0.0\n",
      "28  3.170       0.0\n",
      "29  2.770       0.0\n",
      "30  3.570       1.0\n",
      "31  2.780       0.0\n"
     ]
    }
   ],
   "source": [
    "print(X[['wt', 'wt_class']])"
   ]
  },
  {
   "cell_type": "code",
   "execution_count": 78,
   "id": "74b86361",
   "metadata": {},
   "outputs": [
    {
     "name": "stdout",
     "output_type": "stream",
     "text": [
      "   cyl   disp     hp  drat    qsec  vs  gear  carb  am_new  wt_class\n",
      "0  6.0  160.0  110.0  3.90  16.460   0     4   4.0       0       0.0\n",
      "1  6.0  160.0  110.0  3.90  17.020   0     4   4.0       0       0.0\n",
      "2  4.0  108.0   93.0  3.85  18.610   1     4   1.0       0       0.0\n",
      "3  6.0  258.0  110.0  3.08  14.045   1     3   1.0       1       0.0\n",
      "4  8.0  360.0  175.0  3.15  17.020   0     3   2.0       1       1.0\n"
     ]
    }
   ],
   "source": [
    "X = X.drop(columns = ['wt'])\n",
    "print(X.head())"
   ]
  },
  {
   "cell_type": "code",
   "execution_count": 79,
   "id": "e5cd1e30",
   "metadata": {},
   "outputs": [
    {
     "name": "stdout",
     "output_type": "stream",
     "text": [
      "      qsec  qsec_4\n",
      "0   16.460  65.840\n",
      "1   17.020  68.080\n",
      "2   18.610  74.440\n",
      "3   14.045  56.180\n",
      "4   17.020  68.080\n",
      "5   20.220  80.880\n",
      "6   15.840  63.360\n",
      "7   20.000  80.000\n",
      "8   21.465  85.860\n",
      "9   18.300  73.200\n",
      "10  17.600  70.400\n",
      "11  17.400  69.600\n",
      "12  17.600  70.400\n",
      "13  18.000  72.000\n",
      "14  17.980  71.920\n",
      "15  17.820  71.280\n",
      "16  17.420  69.680\n",
      "17  19.470  77.880\n",
      "18  18.520  74.080\n",
      "19  19.900  79.600\n",
      "20  20.010  80.040\n",
      "21  16.870  67.480\n",
      "22  17.300  69.200\n",
      "23  15.410  61.640\n",
      "24  20.551  82.204\n",
      "25  18.900  75.600\n",
      "26  16.700  66.800\n",
      "27  16.900  67.600\n",
      "28  14.500  58.000\n",
      "29  15.500  62.000\n",
      "30  14.600  58.400\n",
      "31  18.600  74.400\n"
     ]
    }
   ],
   "source": [
    "X['qsec_4'] = X['qsec'] * 4\n",
    "print(X[['qsec', 'qsec_4']])"
   ]
  },
  {
   "cell_type": "code",
   "execution_count": 80,
   "id": "f3a13eb0",
   "metadata": {},
   "outputs": [
    {
     "name": "stdout",
     "output_type": "stream",
     "text": [
      "   cyl   disp     hp  drat  vs  gear  carb  am_new  wt_class  qsec_4\n",
      "0  6.0  160.0  110.0  3.90   0     4   4.0       0       0.0   65.84\n",
      "1  6.0  160.0  110.0  3.90   0     4   4.0       0       0.0   68.08\n",
      "2  4.0  108.0   93.0  3.85   1     4   1.0       0       0.0   74.44\n",
      "3  6.0  258.0  110.0  3.08   1     3   1.0       1       0.0   56.18\n",
      "4  8.0  360.0  175.0  3.15   0     3   2.0       1       1.0   68.08\n"
     ]
    }
   ],
   "source": [
    "X = X.drop(columns = ['qsec'])\n",
    "print(X.head())"
   ]
  },
  {
   "cell_type": "markdown",
   "id": "c7cccd50",
   "metadata": {},
   "source": [
    "## 2.3 학습 데이터로 공부하기 : 모델 생성과 모델 검증"
   ]
  },
  {
   "cell_type": "markdown",
   "id": "d3a0debf",
   "metadata": {},
   "source": [
    "### 학습 데이터와 테스트 데이터를 분리하기"
   ]
  },
  {
   "cell_type": "code",
   "execution_count": 81,
   "id": "ace23e6f",
   "metadata": {},
   "outputs": [
    {
     "name": "stdout",
     "output_type": "stream",
     "text": [
      "     cyl   disp     hp  drat  vs  gear  carb  am_new  wt_class  qsec_4\n",
      "19   4.0   71.1   65.0  4.22   1     4   1.0       0       0.0   79.60\n",
      "14  14.0  472.0  205.0  2.93   0     3   4.0       1       1.0   71.92\n",
      "18   4.0   75.7   52.0  4.93   1     4   2.0       0       0.0   74.08\n",
      "6    8.0  360.0  245.0  3.21   0     3   4.0       1       1.0   63.36\n",
      "11   8.0  275.8  180.0  3.07   0     3   3.0       1       1.0   69.60\n"
     ]
    }
   ],
   "source": [
    "from sklearn.model_selection import train_test_split\n",
    "\n",
    "x_train, x_test, y_train, y_test = train_test_split(X, Y, test_size = 0.3, random_state = 10)\n",
    "\n",
    "print(x_train.head())"
   ]
  },
  {
   "cell_type": "code",
   "execution_count": 82,
   "id": "c3efade6",
   "metadata": {},
   "outputs": [
    {
     "name": "stdout",
     "output_type": "stream",
     "text": [
      "19    33.9\n",
      "14    10.4\n",
      "18    30.4\n",
      "6     14.3\n",
      "11    16.4\n",
      "Name: mpg, dtype: float64\n"
     ]
    }
   ],
   "source": [
    "print(y_train.head())"
   ]
  },
  {
   "cell_type": "code",
   "execution_count": 83,
   "id": "8d386268",
   "metadata": {},
   "outputs": [
    {
     "name": "stdout",
     "output_type": "stream",
     "text": [
      "    cyl   disp     hp  drat  vs  gear  carb  am_new  wt_class  qsec_4\n",
      "20  4.0  120.1   97.0  3.70   1     3   1.0       1       0.0   80.04\n",
      "7   7.6  146.7   62.0  3.69   1     4   2.0       1       0.0   80.00\n",
      "5   6.0  225.0  105.0  2.76   1     3   1.0       1       1.0   80.88\n",
      "2   4.0  108.0   93.0  3.85   1     4   1.0       0       0.0   74.44\n",
      "3   6.0  258.0  110.0  3.08   1     3   1.0       1       0.0   56.18\n"
     ]
    }
   ],
   "source": [
    "print(x_test.head())"
   ]
  },
  {
   "cell_type": "code",
   "execution_count": 84,
   "id": "da6b8832",
   "metadata": {},
   "outputs": [
    {
     "name": "stdout",
     "output_type": "stream",
     "text": [
      "20    21.5\n",
      "7     24.4\n",
      "5     18.1\n",
      "2     22.8\n",
      "3     21.4\n",
      "Name: mpg, dtype: float64\n"
     ]
    }
   ],
   "source": [
    "print(y_test.head())"
   ]
  },
  {
   "cell_type": "markdown",
   "id": "f3d69d31",
   "metadata": {},
   "source": [
    "### 공부하고 평가하기 : 모델링(modeling)"
   ]
  },
  {
   "cell_type": "markdown",
   "id": "cc4b1d89",
   "metadata": {},
   "source": [
    "예측 모델링 수행 - 선형회귀"
   ]
  },
  {
   "cell_type": "code",
   "execution_count": 85,
   "id": "f225b58f",
   "metadata": {},
   "outputs": [],
   "source": [
    "from sklearn.linear_model import LinearRegression\n",
    "\n",
    "model = LinearRegression()\n",
    "\n",
    "model.fit(x_train, y_train)\n",
    "\n",
    "y_train_predicted = model.predict(x_train)\n",
    "\n",
    "y_test_predicted = model.predict(x_test)"
   ]
  },
  {
   "cell_type": "code",
   "execution_count": 86,
   "id": "13462791",
   "metadata": {},
   "outputs": [
    {
     "name": "stdout",
     "output_type": "stream",
     "text": [
      "21.517574416544587\n"
     ]
    }
   ],
   "source": [
    "print(model.intercept_)"
   ]
  },
  {
   "cell_type": "code",
   "execution_count": 87,
   "id": "e3df0f0d",
   "metadata": {},
   "outputs": [
    {
     "name": "stdout",
     "output_type": "stream",
     "text": [
      "[-0.22921777 -0.0103403  -0.00620722  0.92949937  0.70233672  0.77832813\n",
      " -2.01531326 -3.80318906  0.5594188   0.06715608]\n"
     ]
    }
   ],
   "source": [
    "print(model.coef_)"
   ]
  },
  {
   "cell_type": "code",
   "execution_count": 88,
   "id": "a264aa17",
   "metadata": {},
   "outputs": [
    {
     "name": "stdout",
     "output_type": "stream",
     "text": [
      "0.9034973077370813\n"
     ]
    }
   ],
   "source": [
    "print(model.score(x_train, y_train))"
   ]
  },
  {
   "cell_type": "code",
   "execution_count": 89,
   "id": "7b23c8ab",
   "metadata": {},
   "outputs": [
    {
     "name": "stdout",
     "output_type": "stream",
     "text": [
      "0.07384379222122472\n"
     ]
    }
   ],
   "source": [
    "print(model.score(x_test, y_test))"
   ]
  },
  {
   "cell_type": "code",
   "execution_count": 90,
   "id": "015b29d7",
   "metadata": {},
   "outputs": [],
   "source": [
    "from sklearn.metrics import r2_score\n",
    "from sklearn.metrics import mean_absolute_error\n",
    "from sklearn.metrics import mean_squared_error\n",
    "import numpy as np"
   ]
  },
  {
   "cell_type": "code",
   "execution_count": 91,
   "id": "516a8fe6",
   "metadata": {},
   "outputs": [
    {
     "name": "stdout",
     "output_type": "stream",
     "text": [
      "0.9034973077370813\n"
     ]
    }
   ],
   "source": [
    "print(r2_score(y_train, y_train_predicted))"
   ]
  },
  {
   "cell_type": "code",
   "execution_count": 92,
   "id": "894716b0",
   "metadata": {},
   "outputs": [
    {
     "name": "stdout",
     "output_type": "stream",
     "text": [
      "0.07384379222122472\n"
     ]
    }
   ],
   "source": [
    "print(r2_score(y_test, y_test_predicted))"
   ]
  },
  {
   "cell_type": "code",
   "execution_count": 93,
   "id": "c5650a53",
   "metadata": {},
   "outputs": [
    {
     "name": "stdout",
     "output_type": "stream",
     "text": [
      "9.200435768074353\n"
     ]
    }
   ],
   "source": [
    "print(mean_squared_error(y_test, y_test_predicted))"
   ]
  },
  {
   "cell_type": "code",
   "execution_count": 94,
   "id": "2866d536",
   "metadata": {},
   "outputs": [
    {
     "name": "stdout",
     "output_type": "stream",
     "text": [
      "3.033222011009803\n"
     ]
    }
   ],
   "source": [
    "print(np.sqrt(mean_squared_error(y_test, y_test_predicted)))"
   ]
  },
  {
   "cell_type": "code",
   "execution_count": 95,
   "id": "9bf7f509",
   "metadata": {},
   "outputs": [
    {
     "name": "stdout",
     "output_type": "stream",
     "text": [
      "2.3757042225175953\n"
     ]
    }
   ],
   "source": [
    "print(mean_absolute_error(y_test, y_test_predicted))"
   ]
  },
  {
   "cell_type": "code",
   "execution_count": 96,
   "id": "ca7fd0b2",
   "metadata": {},
   "outputs": [],
   "source": [
    "from sklearn.ensemble import RandomForestRegressor\n",
    "\n",
    "model = RandomForestRegressor(random_state = 10)\n",
    "model.fit(x_train, y_train)\n",
    "y_train_predicted = model.predict(x_train)\n",
    "y_test_predicted = model.predict(x_test)"
   ]
  },
  {
   "cell_type": "code",
   "execution_count": 97,
   "id": "b71d69c5",
   "metadata": {},
   "outputs": [
    {
     "name": "stdout",
     "output_type": "stream",
     "text": [
      "0.9799408302747112\n"
     ]
    }
   ],
   "source": [
    "from sklearn.metrics import r2_score, mean_squared_error, mean_absolute_error\n",
    "\n",
    "print(r2_score(y_train, y_train_predicted))"
   ]
  },
  {
   "cell_type": "code",
   "execution_count": 98,
   "id": "425eabca",
   "metadata": {},
   "outputs": [
    {
     "name": "stdout",
     "output_type": "stream",
     "text": [
      "6.202435400000078\n"
     ]
    }
   ],
   "source": [
    "print(mean_squared_error(y_test, y_test_predicted))"
   ]
  },
  {
   "cell_type": "code",
   "execution_count": 99,
   "id": "58ecb2c3",
   "metadata": {},
   "outputs": [
    {
     "name": "stdout",
     "output_type": "stream",
     "text": [
      "1.8312000000000115\n"
     ]
    }
   ],
   "source": [
    "print(mean_absolute_error(y_test, y_test_predicted))"
   ]
  },
  {
   "cell_type": "code",
   "execution_count": 100,
   "id": "876adbb4",
   "metadata": {},
   "outputs": [],
   "source": [
    "model = RandomForestRegressor(n_estimators = 1000, criterion = 'mae', random_state = 10)\n",
    "model.fit(x_train, y_train)\n",
    "y_train_predicted = model.predict(x_train)\n",
    "y_test_predicted = model.predict(x_test)"
   ]
  },
  {
   "cell_type": "code",
   "execution_count": 101,
   "id": "c6b9a374",
   "metadata": {},
   "outputs": [
    {
     "name": "stdout",
     "output_type": "stream",
     "text": [
      "0.9805160835409316\n"
     ]
    }
   ],
   "source": [
    "print(r2_score(y_train, y_train_predicted))"
   ]
  },
  {
   "cell_type": "code",
   "execution_count": 102,
   "id": "c440103b",
   "metadata": {},
   "outputs": [
    {
     "name": "stdout",
     "output_type": "stream",
     "text": [
      "0.44212896348398556\n"
     ]
    }
   ],
   "source": [
    "print(r2_score(y_test, y_test_predicted))"
   ]
  },
  {
   "cell_type": "code",
   "execution_count": 103,
   "id": "58018024",
   "metadata": {},
   "outputs": [
    {
     "name": "stdout",
     "output_type": "stream",
     "text": [
      "5.541890876750086\n"
     ]
    }
   ],
   "source": [
    "print(mean_squared_error(y_test, y_test_predicted))"
   ]
  },
  {
   "cell_type": "code",
   "execution_count": 104,
   "id": "704d2d6f",
   "metadata": {},
   "outputs": [
    {
     "name": "stdout",
     "output_type": "stream",
     "text": [
      "1.7524450000000324\n"
     ]
    }
   ],
   "source": [
    "print(mean_absolute_error(y_test, y_test_predicted))"
   ]
  },
  {
   "cell_type": "code",
   "execution_count": 105,
   "id": "23e0c992",
   "metadata": {},
   "outputs": [],
   "source": [
    "from sklearn.ensemble import GradientBoostingRegressor\n",
    "model = GradientBoostingRegressor(random_state = 10)\n",
    "model.fit(x_train, y_train)\n",
    "y_train_predicted = model.predict(x_train)\n",
    "y_test_predicted = model.predict(x_test)"
   ]
  },
  {
   "cell_type": "code",
   "execution_count": 106,
   "id": "f26a8793",
   "metadata": {},
   "outputs": [
    {
     "name": "stdout",
     "output_type": "stream",
     "text": [
      "0.9999905457682303\n",
      "0.14523008958089312\n",
      "8.491284290103406\n",
      "2.1947322542784597\n"
     ]
    }
   ],
   "source": [
    "from sklearn.metrics import r2_score, mean_squared_error, mean_absolute_error\n",
    "print(r2_score(y_train, y_train_predicted))\n",
    "print(r2_score(y_test, y_test_predicted))\n",
    "print(mean_squared_error(y_test, y_test_predicted))\n",
    "print(mean_absolute_error(y_test, y_test_predicted))"
   ]
  },
  {
   "cell_type": "code",
   "execution_count": 107,
   "id": "4c0e0592",
   "metadata": {},
   "outputs": [],
   "source": [
    "from xgboost import XGBRegressor\n",
    "\n",
    "model = XGBRegressor(random_state = 10)\n",
    "model.fit(x_train, y_train)\n",
    "y_train_predicted = model.predict(x_train)\n",
    "y_test_predicted = model.predict(x_test)"
   ]
  },
  {
   "cell_type": "code",
   "execution_count": 108,
   "id": "ba338111",
   "metadata": {},
   "outputs": [
    {
     "name": "stdout",
     "output_type": "stream",
     "text": [
      "0.9999999828236228\n",
      "0.2999261490547347\n",
      "6.954533635290265\n",
      "2.110727195739746\n"
     ]
    }
   ],
   "source": [
    "from sklearn.metrics import r2_score, mean_squared_error, mean_absolute_error\n",
    "print(r2_score(y_train, y_train_predicted))\n",
    "print(r2_score(y_test, y_test_predicted))\n",
    "print(mean_squared_error(y_test, y_test_predicted))\n",
    "print(mean_absolute_error(y_test, y_test_predicted))"
   ]
  },
  {
   "cell_type": "code",
   "execution_count": 109,
   "id": "c911975d",
   "metadata": {},
   "outputs": [
    {
     "name": "stdout",
     "output_type": "stream",
     "text": [
      "     cyl   disp     hp  drat  vs  gear  carb  wt_class  qsec_4\n",
      "19   4.0   71.1   65.0  4.22   1     4   1.0       0.0   79.60\n",
      "14  14.0  472.0  205.0  2.93   0     3   4.0       1.0   71.92\n",
      "18   4.0   75.7   52.0  4.93   1     4   2.0       0.0   74.08\n",
      "6    8.0  360.0  245.0  3.21   0     3   4.0       1.0   63.36\n",
      "11   8.0  275.8  180.0  3.07   0     3   3.0       1.0   69.60\n"
     ]
    }
   ],
   "source": [
    "x_train2 = x_train.drop(columns = 'am_new')\n",
    "y_train2 = x_train['am_new']\n",
    "x_test2 = x_test.drop(columns = 'am_new')\n",
    "y_test2 = x_test['am_new']\n",
    "print(x_train2.head())"
   ]
  },
  {
   "cell_type": "code",
   "execution_count": 110,
   "id": "7784a237",
   "metadata": {},
   "outputs": [
    {
     "name": "stdout",
     "output_type": "stream",
     "text": [
      "    cyl   disp     hp  drat  vs  gear  carb  wt_class  qsec_4\n",
      "20  4.0  120.1   97.0  3.70   1     3   1.0       0.0   80.04\n",
      "7   7.6  146.7   62.0  3.69   1     4   2.0       0.0   80.00\n",
      "5   6.0  225.0  105.0  2.76   1     3   1.0       1.0   80.88\n",
      "2   4.0  108.0   93.0  3.85   1     4   1.0       0.0   74.44\n",
      "3   6.0  258.0  110.0  3.08   1     3   1.0       0.0   56.18\n"
     ]
    }
   ],
   "source": [
    "print(x_test2.head())"
   ]
  },
  {
   "cell_type": "code",
   "execution_count": 111,
   "id": "5a9d998c",
   "metadata": {},
   "outputs": [
    {
     "name": "stdout",
     "output_type": "stream",
     "text": [
      "19    0\n",
      "14    1\n",
      "18    0\n",
      "6     1\n",
      "11    1\n",
      "Name: am_new, dtype: int64\n"
     ]
    }
   ],
   "source": [
    "print(y_train2.head())"
   ]
  },
  {
   "cell_type": "code",
   "execution_count": 112,
   "id": "00596386",
   "metadata": {},
   "outputs": [
    {
     "name": "stdout",
     "output_type": "stream",
     "text": [
      "20    1\n",
      "7     1\n",
      "5     1\n",
      "2     0\n",
      "3     1\n",
      "Name: am_new, dtype: int64\n"
     ]
    }
   ],
   "source": [
    "print(y_test2.head())"
   ]
  },
  {
   "cell_type": "markdown",
   "id": "1e967b1b",
   "metadata": {},
   "source": [
    "의사결정나무 분류(DecisionTreeClassifier)"
   ]
  },
  {
   "cell_type": "code",
   "execution_count": 113,
   "id": "ff05b8f0",
   "metadata": {},
   "outputs": [],
   "source": [
    "from sklearn.tree import DecisionTreeClassifier\n",
    "model = DecisionTreeClassifier()\n",
    "model.fit(x_train2, y_train2)\n",
    "y_test2_predicted = model.predict(x_test2)"
   ]
  },
  {
   "cell_type": "code",
   "execution_count": 114,
   "id": "6f750390",
   "metadata": {},
   "outputs": [
    {
     "name": "stdout",
     "output_type": "stream",
     "text": [
      "0.6904761904761906\n"
     ]
    }
   ],
   "source": [
    "from sklearn.metrics import roc_auc_score\n",
    "from sklearn.metrics import accuracy_score, precision_score, recall_score\n",
    "print(roc_auc_score(y_test2, y_test2_predicted))"
   ]
  },
  {
   "cell_type": "code",
   "execution_count": 115,
   "id": "34a98098",
   "metadata": {},
   "outputs": [
    {
     "name": "stdout",
     "output_type": "stream",
     "text": [
      "0.7\n"
     ]
    }
   ],
   "source": [
    "print(accuracy_score(y_test2, y_test2_predicted))"
   ]
  },
  {
   "cell_type": "code",
   "execution_count": 116,
   "id": "b725b186",
   "metadata": {},
   "outputs": [
    {
     "name": "stdout",
     "output_type": "stream",
     "text": [
      "0.8333333333333334\n"
     ]
    }
   ],
   "source": [
    "print(precision_score(y_test2, y_test2_predicted))"
   ]
  },
  {
   "cell_type": "code",
   "execution_count": 117,
   "id": "cf7e50a2",
   "metadata": {},
   "outputs": [
    {
     "name": "stdout",
     "output_type": "stream",
     "text": [
      "0.7142857142857143\n"
     ]
    }
   ],
   "source": [
    "print(recall_score(y_test2, y_test2_predicted))"
   ]
  },
  {
   "cell_type": "markdown",
   "id": "b970738c",
   "metadata": {},
   "source": [
    "랜덤 포레스트 분류(RandomForestClassifier)"
   ]
  },
  {
   "cell_type": "code",
   "execution_count": 118,
   "id": "aa891d59",
   "metadata": {},
   "outputs": [],
   "source": [
    "from sklearn.ensemble import RandomForestClassifier\n",
    "model = RandomForestClassifier()\n",
    "model.fit(x_train2, y_train2)\n",
    "y_test2_predicted = model.predict(x_test2)"
   ]
  },
  {
   "cell_type": "code",
   "execution_count": 119,
   "id": "139bb19d",
   "metadata": {},
   "outputs": [
    {
     "name": "stdout",
     "output_type": "stream",
     "text": [
      "0.8571428571428572\n"
     ]
    }
   ],
   "source": [
    "from sklearn.metrics import roc_auc_score\n",
    "print(roc_auc_score(y_test2, y_test2_predicted))"
   ]
  },
  {
   "cell_type": "markdown",
   "id": "aa4feff5",
   "metadata": {},
   "source": [
    "로지스틱 회귀(LogisticRegression)"
   ]
  },
  {
   "cell_type": "code",
   "execution_count": 120,
   "id": "47c2d4f9",
   "metadata": {},
   "outputs": [],
   "source": [
    "from sklearn.linear_model import LogisticRegression\n",
    "model = LogisticRegression(solver='lbfgs', max_iter=1000)\n",
    "model.fit(x_train2, y_train2)\n",
    "\n",
    "y_test2_predicted = model.predict(x_test2)"
   ]
  },
  {
   "cell_type": "code",
   "execution_count": 121,
   "id": "786bfc0f",
   "metadata": {},
   "outputs": [
    {
     "name": "stdout",
     "output_type": "stream",
     "text": [
      "0.8333333333333334\n"
     ]
    }
   ],
   "source": [
    "from sklearn.metrics import roc_auc_score\n",
    "\n",
    "print(roc_auc_score(y_test2, y_test2_predicted))"
   ]
  },
  {
   "cell_type": "markdown",
   "id": "cd0e2256",
   "metadata": {},
   "source": [
    "익스트림 그레디언트 부스팅 분류(XGBClassifier)"
   ]
  },
  {
   "cell_type": "code",
   "execution_count": 122,
   "id": "0d2265b2",
   "metadata": {},
   "outputs": [
    {
     "name": "stdout",
     "output_type": "stream",
     "text": [
      "[21:00:50] WARNING: C:/Users/Administrator/workspace/xgboost-win64_release_1.5.1/src/learner.cc:1115: Starting in XGBoost 1.3.0, the default evaluation metric used with the objective 'binary:logistic' was changed from 'error' to 'logloss'. Explicitly set eval_metric if you'd like to restore the old behavior.\n"
     ]
    },
    {
     "name": "stderr",
     "output_type": "stream",
     "text": [
      "C:\\Users\\phong\\Anaconda3\\lib\\site-packages\\xgboost\\sklearn.py:1224: UserWarning: The use of label encoder in XGBClassifier is deprecated and will be removed in a future release. To remove this warning, do the following: 1) Pass option use_label_encoder=False when constructing XGBClassifier object; and 2) Encode your labels (y) as integers starting with 0, i.e. 0, 1, 2, ..., [num_class - 1].\n",
      "  warnings.warn(label_encoder_deprecation_msg, UserWarning)\n"
     ]
    }
   ],
   "source": [
    "from xgboost import XGBClassifier\n",
    "model = XGBClassifier()\n",
    "model.fit(x_train2, y_train2)\n",
    "y_test2_predicted = model.predict(x_test2)"
   ]
  },
  {
   "cell_type": "code",
   "execution_count": 123,
   "id": "4b2a5405",
   "metadata": {},
   "outputs": [
    {
     "name": "stdout",
     "output_type": "stream",
     "text": [
      "[0 0 1 0 1 1 1 1 1 0]\n"
     ]
    }
   ],
   "source": [
    "print(y_test2_predicted)"
   ]
  },
  {
   "cell_type": "code",
   "execution_count": 124,
   "id": "90e082d2",
   "metadata": {},
   "outputs": [
    {
     "name": "stdout",
     "output_type": "stream",
     "text": [
      "[[0.5252248  0.47477522]\n",
      " [0.67885995 0.32114008]\n",
      " [0.03991383 0.96008617]\n",
      " [0.8779035  0.1220965 ]\n",
      " [0.10923749 0.8907625 ]\n",
      " [0.10923749 0.8907625 ]\n",
      " [0.03991383 0.96008617]\n",
      " [0.38030726 0.61969274]\n",
      " [0.03991383 0.96008617]\n",
      " [0.8811508  0.1188492 ]]\n"
     ]
    }
   ],
   "source": [
    "y_test2_proba = model.predict_proba(x_test2)\n",
    "print(y_test2_proba)"
   ]
  },
  {
   "cell_type": "code",
   "execution_count": 125,
   "id": "4889b31d",
   "metadata": {},
   "outputs": [
    {
     "name": "stdout",
     "output_type": "stream",
     "text": [
      "0.6904761904761906\n"
     ]
    }
   ],
   "source": [
    "from sklearn.metrics import roc_auc_score\n",
    "print(roc_auc_score(y_test2, y_test2_predicted))"
   ]
  },
  {
   "cell_type": "markdown",
   "id": "901a14d6",
   "metadata": {},
   "source": [
    "### 분류 모델로 사용할 수 있는 기타 알고리즘"
   ]
  },
  {
   "cell_type": "markdown",
   "id": "a7198995",
   "metadata": {},
   "source": [
    "서포트 벡터 분류(Support Vector Classification)"
   ]
  },
  {
   "cell_type": "code",
   "execution_count": 126,
   "id": "f0072dab",
   "metadata": {},
   "outputs": [],
   "source": [
    "from sklearn.svm import SVC\n",
    "model = SVC()\n",
    "model.fit(x_train2, y_train2)\n",
    "y_test2_predicted = model.predict(x_test2)"
   ]
  },
  {
   "cell_type": "code",
   "execution_count": 127,
   "id": "78d9db82",
   "metadata": {},
   "outputs": [
    {
     "name": "stdout",
     "output_type": "stream",
     "text": [
      "0.6904761904761906\n"
     ]
    }
   ],
   "source": [
    "from sklearn.metrics import roc_auc_score\n",
    "print(roc_auc_score(y_test2, y_test2_predicted))"
   ]
  },
  {
   "cell_type": "markdown",
   "id": "7867cd01",
   "metadata": {},
   "source": [
    "배깅 분류(Bagging Classifier)"
   ]
  },
  {
   "cell_type": "code",
   "execution_count": 128,
   "id": "1c1e1684",
   "metadata": {},
   "outputs": [],
   "source": [
    "from sklearn.ensemble import BaggingClassifier\n",
    "model = BaggingClassifier()\n",
    "model.fit(x_train2, y_train2)\n",
    "y_test2_predicted = model.predict(x_test2)"
   ]
  },
  {
   "cell_type": "code",
   "execution_count": 129,
   "id": "d74aebe1",
   "metadata": {},
   "outputs": [
    {
     "name": "stdout",
     "output_type": "stream",
     "text": [
      "0.8571428571428572\n"
     ]
    }
   ],
   "source": [
    "from sklearn.metrics import roc_auc_score\n",
    "print(roc_auc_score(y_test2, y_test2_predicted))"
   ]
  },
  {
   "cell_type": "markdown",
   "id": "17946e4d",
   "metadata": {},
   "source": [
    "K-최근접 이웃(K-Nearest Neighbor) 분류"
   ]
  },
  {
   "cell_type": "code",
   "execution_count": 130,
   "id": "e7b59bd6",
   "metadata": {},
   "outputs": [],
   "source": [
    "from sklearn.neighbors import KNeighborsClassifier\n",
    "model = KNeighborsClassifier()\n",
    "model.fit(x_train2, y_train2)\n",
    "y_test2_predicted = model.predict(x_test2)"
   ]
  },
  {
   "cell_type": "code",
   "execution_count": 131,
   "id": "c670972e",
   "metadata": {},
   "outputs": [
    {
     "name": "stdout",
     "output_type": "stream",
     "text": [
      "0.5238095238095238\n"
     ]
    }
   ],
   "source": [
    "from sklearn.metrics import roc_auc_score\n",
    "print(roc_auc_score(y_test2, y_test2_predicted))"
   ]
  },
  {
   "cell_type": "markdown",
   "id": "d6b54a49",
   "metadata": {},
   "source": [
    "다층 퍼셉트론 분류(Multi-Layer Perceptron Classifier)"
   ]
  },
  {
   "cell_type": "code",
   "execution_count": 132,
   "id": "aa0147e1",
   "metadata": {},
   "outputs": [],
   "source": [
    "from sklearn.neural_network import MLPClassifier\n",
    "model = MLPClassifier()\n",
    "model.fit(x_train2, y_train2)\n",
    "y_test2_predicted = model.predict(x_test2)"
   ]
  },
  {
   "cell_type": "code",
   "execution_count": 133,
   "id": "1e4c82d2",
   "metadata": {},
   "outputs": [
    {
     "name": "stdout",
     "output_type": "stream",
     "text": [
      "0.5\n"
     ]
    }
   ],
   "source": [
    "from sklearn.metrics import roc_auc_score\n",
    "print(roc_auc_score(y_test2, y_test2_predicted))"
   ]
  },
  {
   "cell_type": "markdown",
   "id": "50ed2219",
   "metadata": {},
   "source": [
    "## 2.4 최종 결과 공유하기"
   ]
  },
  {
   "cell_type": "markdown",
   "id": "a079900a",
   "metadata": {},
   "source": [
    "결과 출력하기 : 제1유형"
   ]
  },
  {
   "cell_type": "code",
   "execution_count": 134,
   "id": "7732ee56",
   "metadata": {},
   "outputs": [
    {
     "name": "stdout",
     "output_type": "stream",
     "text": [
      "0.5\n"
     ]
    }
   ],
   "source": [
    "print(roc_auc_score(y_test2, y_test2_predicted))"
   ]
  },
  {
   "cell_type": "markdown",
   "id": "6d42b973",
   "metadata": {},
   "source": [
    "결과를 파일에 저장하기 : 제2유형"
   ]
  },
  {
   "cell_type": "code",
   "execution_count": 135,
   "id": "7b767805",
   "metadata": {},
   "outputs": [
    {
     "name": "stdout",
     "output_type": "stream",
     "text": [
      "<class 'numpy.ndarray'>\n"
     ]
    }
   ],
   "source": [
    "print(type(y_test2_predicted))"
   ]
  },
  {
   "cell_type": "code",
   "execution_count": 136,
   "id": "111ddda0",
   "metadata": {},
   "outputs": [
    {
     "name": "stdout",
     "output_type": "stream",
     "text": [
      "[1 1 1 1 1 1 1 1 1 1]\n"
     ]
    }
   ],
   "source": [
    "print(y_test2_predicted)"
   ]
  },
  {
   "cell_type": "code",
   "execution_count": 137,
   "id": "79acddeb",
   "metadata": {},
   "outputs": [],
   "source": [
    "pd.DataFrame(y_test2_predicted).to_csv('this is test0224.csv', index=False)"
   ]
  },
  {
   "cell_type": "code",
   "execution_count": 138,
   "id": "ff0093fc",
   "metadata": {},
   "outputs": [
    {
     "data": {
      "text/html": [
       "<div>\n",
       "<style scoped>\n",
       "    .dataframe tbody tr th:only-of-type {\n",
       "        vertical-align: middle;\n",
       "    }\n",
       "\n",
       "    .dataframe tbody tr th {\n",
       "        vertical-align: top;\n",
       "    }\n",
       "\n",
       "    .dataframe thead th {\n",
       "        text-align: right;\n",
       "    }\n",
       "</style>\n",
       "<table border=\"1\" class=\"dataframe\">\n",
       "  <thead>\n",
       "    <tr style=\"text-align: right;\">\n",
       "      <th></th>\n",
       "      <th>0</th>\n",
       "    </tr>\n",
       "  </thead>\n",
       "  <tbody>\n",
       "    <tr>\n",
       "      <th>0</th>\n",
       "      <td>1</td>\n",
       "    </tr>\n",
       "    <tr>\n",
       "      <th>1</th>\n",
       "      <td>1</td>\n",
       "    </tr>\n",
       "    <tr>\n",
       "      <th>2</th>\n",
       "      <td>1</td>\n",
       "    </tr>\n",
       "    <tr>\n",
       "      <th>3</th>\n",
       "      <td>1</td>\n",
       "    </tr>\n",
       "    <tr>\n",
       "      <th>4</th>\n",
       "      <td>1</td>\n",
       "    </tr>\n",
       "    <tr>\n",
       "      <th>5</th>\n",
       "      <td>1</td>\n",
       "    </tr>\n",
       "    <tr>\n",
       "      <th>6</th>\n",
       "      <td>1</td>\n",
       "    </tr>\n",
       "    <tr>\n",
       "      <th>7</th>\n",
       "      <td>1</td>\n",
       "    </tr>\n",
       "    <tr>\n",
       "      <th>8</th>\n",
       "      <td>1</td>\n",
       "    </tr>\n",
       "    <tr>\n",
       "      <th>9</th>\n",
       "      <td>1</td>\n",
       "    </tr>\n",
       "  </tbody>\n",
       "</table>\n",
       "</div>"
      ],
      "text/plain": [
       "   0\n",
       "0  1\n",
       "1  1\n",
       "2  1\n",
       "3  1\n",
       "4  1\n",
       "5  1\n",
       "6  1\n",
       "7  1\n",
       "8  1\n",
       "9  1"
      ]
     },
     "execution_count": 138,
     "metadata": {},
     "output_type": "execute_result"
    }
   ],
   "source": [
    "confirm = pd.read_csv('this is test0224.csv')\n",
    "confirm"
   ]
  },
  {
   "cell_type": "code",
   "execution_count": null,
   "id": "7dcff48f",
   "metadata": {},
   "outputs": [],
   "source": []
  }
 ],
 "metadata": {
  "kernelspec": {
   "display_name": "Python 3",
   "language": "python",
   "name": "python3"
  },
  "language_info": {
   "codemirror_mode": {
    "name": "ipython",
    "version": 3
   },
   "file_extension": ".py",
   "mimetype": "text/x-python",
   "name": "python",
   "nbconvert_exporter": "python",
   "pygments_lexer": "ipython3",
   "version": "3.8.8"
  }
 },
 "nbformat": 4,
 "nbformat_minor": 5
}
