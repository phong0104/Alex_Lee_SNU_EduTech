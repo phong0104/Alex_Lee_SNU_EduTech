{
 "cells": [
  {
   "cell_type": "markdown",
   "id": "3c96c1f7",
   "metadata": {},
   "source": [
    "## 3.1 데이터 탐색하기"
   ]
  },
  {
   "cell_type": "markdown",
   "id": "dd694367",
   "metadata": {},
   "source": [
    "데이터 가져오기"
   ]
  },
  {
   "cell_type": "code",
   "execution_count": 1,
   "id": "491ae042",
   "metadata": {},
   "outputs": [],
   "source": [
    "import pandas as pd\n",
    "\n",
    "x_train = pd.read_csv('bike_x_train.csv', encoding = 'cp949')\n",
    "x_test = pd.read_csv('bike_x_test.csv', encoding = 'cp949')\n",
    "y_train = pd.read_csv('bike_y_train.csv', encoding = 'cp949')"
   ]
  },
  {
   "cell_type": "code",
   "execution_count": 2,
   "id": "4733282a",
   "metadata": {},
   "outputs": [
    {
     "name": "stdout",
     "output_type": "stream",
     "text": [
      "          datetime  계절  공휴일  근무일  날씨    온도    체감온도  습도   풍속\n",
      "0  2011-01-01 0:00   1    0    0   1  9.84  14.395  81  0.0\n",
      "1  2011-01-01 1:00   1    0    0   1  9.02  13.635  80  0.0\n",
      "2  2011-01-01 2:00   1    0    0   1  9.02  13.635  80  0.0\n"
     ]
    }
   ],
   "source": [
    "print(x_train.head(3))"
   ]
  },
  {
   "cell_type": "code",
   "execution_count": 3,
   "id": "1fa9e1f8",
   "metadata": {},
   "outputs": [
    {
     "name": "stdout",
     "output_type": "stream",
     "text": [
      "          datetime  계절  공휴일  근무일  날씨     온도    체감온도  습도       풍속\n",
      "0  2011-01-20 0:00   1    0    1   1  10.66  11.365  56  26.0027\n",
      "1  2011-01-20 1:00   1    0    1   1  10.66  13.635  56   0.0000\n",
      "2  2011-01-20 2:00   1    0    1   1  10.66  13.635  56   0.0000\n"
     ]
    }
   ],
   "source": [
    "print(x_test.head(3))"
   ]
  },
  {
   "cell_type": "code",
   "execution_count": 4,
   "id": "bba05334",
   "metadata": {},
   "outputs": [
    {
     "name": "stdout",
     "output_type": "stream",
     "text": [
      "         癤풼atetime  count\n",
      "0  2011-01-01 0:00     16\n",
      "1  2011-01-01 1:00     40\n",
      "2  2011-01-01 2:00     32\n"
     ]
    }
   ],
   "source": [
    "print(y_train.head(3))"
   ]
  },
  {
   "cell_type": "code",
   "execution_count": 5,
   "id": "7e1bdfb8",
   "metadata": {},
   "outputs": [
    {
     "name": "stdout",
     "output_type": "stream",
     "text": [
      "          datetime  count\n",
      "0  2011-01-01 0:00     16\n",
      "1  2011-01-01 1:00     40\n",
      "2  2011-01-01 2:00     32\n"
     ]
    }
   ],
   "source": [
    "y_train.columns = ['datetime', 'count']\n",
    "print(y_train.head(3))"
   ]
  },
  {
   "cell_type": "markdown",
   "id": "eeccab37",
   "metadata": {},
   "source": [
    "행/열 확인하기"
   ]
  },
  {
   "cell_type": "code",
   "execution_count": 6,
   "id": "bee9a789",
   "metadata": {},
   "outputs": [
    {
     "name": "stdout",
     "output_type": "stream",
     "text": [
      "(10886, 9)\n"
     ]
    }
   ],
   "source": [
    "print(x_train.shape)"
   ]
  },
  {
   "cell_type": "code",
   "execution_count": 7,
   "id": "38980fbd",
   "metadata": {},
   "outputs": [
    {
     "name": "stdout",
     "output_type": "stream",
     "text": [
      "(6493, 9)\n"
     ]
    }
   ],
   "source": [
    "print(x_test.shape)"
   ]
  },
  {
   "cell_type": "code",
   "execution_count": 8,
   "id": "fae06495",
   "metadata": {},
   "outputs": [
    {
     "name": "stdout",
     "output_type": "stream",
     "text": [
      "(10886, 2)\n"
     ]
    }
   ],
   "source": [
    "print(y_train.shape)"
   ]
  },
  {
   "cell_type": "markdown",
   "id": "67083c3c",
   "metadata": {},
   "source": [
    "요약정보 확인하기"
   ]
  },
  {
   "cell_type": "code",
   "execution_count": 9,
   "id": "2090fbdd",
   "metadata": {},
   "outputs": [
    {
     "name": "stdout",
     "output_type": "stream",
     "text": [
      "<class 'pandas.core.frame.DataFrame'>\n",
      "RangeIndex: 10886 entries, 0 to 10885\n",
      "Data columns (total 9 columns):\n",
      " #   Column    Non-Null Count  Dtype  \n",
      "---  ------    --------------  -----  \n",
      " 0   datetime  10886 non-null  object \n",
      " 1   계절        10886 non-null  int64  \n",
      " 2   공휴일       10886 non-null  int64  \n",
      " 3   근무일       10886 non-null  int64  \n",
      " 4   날씨        10886 non-null  int64  \n",
      " 5   온도        10886 non-null  float64\n",
      " 6   체감온도      10886 non-null  float64\n",
      " 7   습도        10886 non-null  int64  \n",
      " 8   풍속        10886 non-null  float64\n",
      "dtypes: float64(3), int64(5), object(1)\n",
      "memory usage: 765.5+ KB\n",
      "None\n"
     ]
    }
   ],
   "source": [
    "print(x_train.info())"
   ]
  },
  {
   "cell_type": "code",
   "execution_count": 10,
   "id": "c96eef57",
   "metadata": {},
   "outputs": [
    {
     "name": "stdout",
     "output_type": "stream",
     "text": [
      "[1 2 3 4]\n"
     ]
    }
   ],
   "source": [
    "print(x_train['계절'].unique())"
   ]
  },
  {
   "cell_type": "code",
   "execution_count": 11,
   "id": "b9391db4",
   "metadata": {},
   "outputs": [
    {
     "name": "stdout",
     "output_type": "stream",
     "text": [
      "[0 1]\n"
     ]
    }
   ],
   "source": [
    "print(x_train['공휴일'].unique())"
   ]
  },
  {
   "cell_type": "code",
   "execution_count": 12,
   "id": "ac9edd5f",
   "metadata": {},
   "outputs": [
    {
     "name": "stdout",
     "output_type": "stream",
     "text": [
      "[0 1]\n"
     ]
    }
   ],
   "source": [
    "print(x_train['근무일'].unique())"
   ]
  },
  {
   "cell_type": "code",
   "execution_count": 13,
   "id": "7868094f",
   "metadata": {},
   "outputs": [
    {
     "name": "stdout",
     "output_type": "stream",
     "text": [
      "[1 2 3 4]\n"
     ]
    }
   ],
   "source": [
    "print(x_train['날씨'].unique())"
   ]
  },
  {
   "cell_type": "markdown",
   "id": "6826676a",
   "metadata": {},
   "source": [
    "기초 통계량 확인하기"
   ]
  },
  {
   "cell_type": "code",
   "execution_count": 14,
   "id": "e460feed",
   "metadata": {},
   "outputs": [
    {
     "name": "stdout",
     "output_type": "stream",
     "text": [
      "                 계절           공휴일           근무일            날씨           온도  \\\n",
      "count  10886.000000  10886.000000  10886.000000  10886.000000  10886.00000   \n",
      "mean       2.506614      0.028569      0.680875      1.418427     20.23086   \n",
      "std        1.116174      0.166599      0.466159      0.633839      7.79159   \n",
      "min        1.000000      0.000000      0.000000      1.000000      0.82000   \n",
      "25%        2.000000      0.000000      0.000000      1.000000     13.94000   \n",
      "50%        3.000000      0.000000      1.000000      1.000000     20.50000   \n",
      "75%        4.000000      0.000000      1.000000      2.000000     26.24000   \n",
      "max        4.000000      1.000000      1.000000      4.000000     41.00000   \n",
      "\n",
      "               체감온도            습도            풍속  \n",
      "count  10886.000000  10886.000000  10886.000000  \n",
      "mean      23.655084     61.886460     12.799395  \n",
      "std        8.474601     19.245033      8.164537  \n",
      "min        0.760000      0.000000      0.000000  \n",
      "25%       16.665000     47.000000      7.001500  \n",
      "50%       24.240000     62.000000     12.998000  \n",
      "75%       31.060000     77.000000     16.997900  \n",
      "max       45.455000    100.000000     56.996900  \n"
     ]
    }
   ],
   "source": [
    "print(x_train.describe())"
   ]
  },
  {
   "cell_type": "code",
   "execution_count": 15,
   "id": "2035c2b7",
   "metadata": {},
   "outputs": [
    {
     "name": "stdout",
     "output_type": "stream",
     "text": [
      "        count       mean        std   min      25%     50%      75%       max\n",
      "계절    10886.0   2.506614   1.116174  1.00   2.0000   3.000   4.0000    4.0000\n",
      "공휴일   10886.0   0.028569   0.166599  0.00   0.0000   0.000   0.0000    1.0000\n",
      "근무일   10886.0   0.680875   0.466159  0.00   0.0000   1.000   1.0000    1.0000\n",
      "날씨    10886.0   1.418427   0.633839  1.00   1.0000   1.000   2.0000    4.0000\n",
      "온도    10886.0  20.230860   7.791590  0.82  13.9400  20.500  26.2400   41.0000\n",
      "체감온도  10886.0  23.655084   8.474601  0.76  16.6650  24.240  31.0600   45.4550\n",
      "습도    10886.0  61.886460  19.245033  0.00  47.0000  62.000  77.0000  100.0000\n",
      "풍속    10886.0  12.799395   8.164537  0.00   7.0015  12.998  16.9979   56.9969\n"
     ]
    }
   ],
   "source": [
    "print(x_train.describe().T)"
   ]
  },
  {
   "cell_type": "markdown",
   "id": "806b317e",
   "metadata": {},
   "source": [
    "독립변수와 종속변수의 관계 확인하기"
   ]
  },
  {
   "cell_type": "code",
   "execution_count": 16,
   "id": "e2bfb8cf",
   "metadata": {},
   "outputs": [],
   "source": [
    "data = pd.concat([x_train, y_train], axis=1)"
   ]
  },
  {
   "cell_type": "code",
   "execution_count": 17,
   "id": "055581d2",
   "metadata": {},
   "outputs": [
    {
     "data": {
      "text/html": [
       "<div>\n",
       "<style scoped>\n",
       "    .dataframe tbody tr th:only-of-type {\n",
       "        vertical-align: middle;\n",
       "    }\n",
       "\n",
       "    .dataframe tbody tr th {\n",
       "        vertical-align: top;\n",
       "    }\n",
       "\n",
       "    .dataframe thead th {\n",
       "        text-align: right;\n",
       "    }\n",
       "</style>\n",
       "<table border=\"1\" class=\"dataframe\">\n",
       "  <thead>\n",
       "    <tr style=\"text-align: right;\">\n",
       "      <th></th>\n",
       "      <th>datetime</th>\n",
       "      <th>계절</th>\n",
       "      <th>공휴일</th>\n",
       "      <th>근무일</th>\n",
       "      <th>날씨</th>\n",
       "      <th>온도</th>\n",
       "      <th>체감온도</th>\n",
       "      <th>습도</th>\n",
       "      <th>풍속</th>\n",
       "      <th>datetime</th>\n",
       "      <th>count</th>\n",
       "    </tr>\n",
       "  </thead>\n",
       "  <tbody>\n",
       "    <tr>\n",
       "      <th>0</th>\n",
       "      <td>2011-01-01 0:00</td>\n",
       "      <td>1</td>\n",
       "      <td>0</td>\n",
       "      <td>0</td>\n",
       "      <td>1</td>\n",
       "      <td>9.84</td>\n",
       "      <td>14.395</td>\n",
       "      <td>81</td>\n",
       "      <td>0.0</td>\n",
       "      <td>2011-01-01 0:00</td>\n",
       "      <td>16</td>\n",
       "    </tr>\n",
       "    <tr>\n",
       "      <th>1</th>\n",
       "      <td>2011-01-01 1:00</td>\n",
       "      <td>1</td>\n",
       "      <td>0</td>\n",
       "      <td>0</td>\n",
       "      <td>1</td>\n",
       "      <td>9.02</td>\n",
       "      <td>13.635</td>\n",
       "      <td>80</td>\n",
       "      <td>0.0</td>\n",
       "      <td>2011-01-01 1:00</td>\n",
       "      <td>40</td>\n",
       "    </tr>\n",
       "    <tr>\n",
       "      <th>2</th>\n",
       "      <td>2011-01-01 2:00</td>\n",
       "      <td>1</td>\n",
       "      <td>0</td>\n",
       "      <td>0</td>\n",
       "      <td>1</td>\n",
       "      <td>9.02</td>\n",
       "      <td>13.635</td>\n",
       "      <td>80</td>\n",
       "      <td>0.0</td>\n",
       "      <td>2011-01-01 2:00</td>\n",
       "      <td>32</td>\n",
       "    </tr>\n",
       "    <tr>\n",
       "      <th>3</th>\n",
       "      <td>2011-01-01 3:00</td>\n",
       "      <td>1</td>\n",
       "      <td>0</td>\n",
       "      <td>0</td>\n",
       "      <td>1</td>\n",
       "      <td>9.84</td>\n",
       "      <td>14.395</td>\n",
       "      <td>75</td>\n",
       "      <td>0.0</td>\n",
       "      <td>2011-01-01 3:00</td>\n",
       "      <td>13</td>\n",
       "    </tr>\n",
       "    <tr>\n",
       "      <th>4</th>\n",
       "      <td>2011-01-01 4:00</td>\n",
       "      <td>1</td>\n",
       "      <td>0</td>\n",
       "      <td>0</td>\n",
       "      <td>1</td>\n",
       "      <td>9.84</td>\n",
       "      <td>14.395</td>\n",
       "      <td>75</td>\n",
       "      <td>0.0</td>\n",
       "      <td>2011-01-01 4:00</td>\n",
       "      <td>1</td>\n",
       "    </tr>\n",
       "  </tbody>\n",
       "</table>\n",
       "</div>"
      ],
      "text/plain": [
       "          datetime  계절  공휴일  근무일  날씨    온도    체감온도  습도   풍속         datetime  \\\n",
       "0  2011-01-01 0:00   1    0    0   1  9.84  14.395  81  0.0  2011-01-01 0:00   \n",
       "1  2011-01-01 1:00   1    0    0   1  9.02  13.635  80  0.0  2011-01-01 1:00   \n",
       "2  2011-01-01 2:00   1    0    0   1  9.02  13.635  80  0.0  2011-01-01 2:00   \n",
       "3  2011-01-01 3:00   1    0    0   1  9.84  14.395  75  0.0  2011-01-01 3:00   \n",
       "4  2011-01-01 4:00   1    0    0   1  9.84  14.395  75  0.0  2011-01-01 4:00   \n",
       "\n",
       "   count  \n",
       "0     16  \n",
       "1     40  \n",
       "2     32  \n",
       "3     13  \n",
       "4      1  "
      ]
     },
     "execution_count": 17,
     "metadata": {},
     "output_type": "execute_result"
    }
   ],
   "source": [
    "data.head()"
   ]
  },
  {
   "cell_type": "code",
   "execution_count": 18,
   "id": "7b031563",
   "metadata": {},
   "outputs": [
    {
     "name": "stdout",
     "output_type": "stream",
     "text": [
      "계절\n",
      "1    312498\n",
      "2    588282\n",
      "3    640662\n",
      "4    544034\n",
      "Name: count, dtype: int64\n"
     ]
    }
   ],
   "source": [
    "print(data.groupby(['계절'])['count'].sum())"
   ]
  },
  {
   "cell_type": "code",
   "execution_count": 19,
   "id": "91593941",
   "metadata": {},
   "outputs": [
    {
     "name": "stdout",
     "output_type": "stream",
     "text": [
      "공휴일\n",
      "0    2027668\n",
      "1      57808\n",
      "Name: count, dtype: int64\n"
     ]
    }
   ],
   "source": [
    "print(data.groupby(['공휴일'])['count'].sum())"
   ]
  },
  {
   "cell_type": "code",
   "execution_count": 20,
   "id": "e4dbc866",
   "metadata": {},
   "outputs": [
    {
     "name": "stdout",
     "output_type": "stream",
     "text": [
      "근무일\n",
      "0     654872\n",
      "1    1430604\n",
      "Name: count, dtype: int64\n"
     ]
    }
   ],
   "source": [
    "print(data.groupby(['근무일'])['count'].sum())"
   ]
  },
  {
   "cell_type": "code",
   "execution_count": 21,
   "id": "84f96b49",
   "metadata": {},
   "outputs": [
    {
     "name": "stdout",
     "output_type": "stream",
     "text": [
      "날씨\n",
      "1    1476063\n",
      "2     507160\n",
      "3     102089\n",
      "4        164\n",
      "Name: count, dtype: int64\n"
     ]
    }
   ],
   "source": [
    "print(data.groupby(['날씨'])['count'].sum())"
   ]
  },
  {
   "cell_type": "markdown",
   "id": "ba65ccc3",
   "metadata": {},
   "source": [
    "## 3.2 전처리하기"
   ]
  },
  {
   "cell_type": "markdown",
   "id": "a53ae83a",
   "metadata": {},
   "source": [
    "파생변수 만들기"
   ]
  },
  {
   "cell_type": "code",
   "execution_count": 22,
   "id": "3dd592ab",
   "metadata": {},
   "outputs": [],
   "source": [
    "x_train['datetime'] = pd.to_datetime(x_train['datetime'])"
   ]
  },
  {
   "cell_type": "code",
   "execution_count": 23,
   "id": "5279f826",
   "metadata": {},
   "outputs": [
    {
     "data": {
      "text/html": [
       "<div>\n",
       "<style scoped>\n",
       "    .dataframe tbody tr th:only-of-type {\n",
       "        vertical-align: middle;\n",
       "    }\n",
       "\n",
       "    .dataframe tbody tr th {\n",
       "        vertical-align: top;\n",
       "    }\n",
       "\n",
       "    .dataframe thead th {\n",
       "        text-align: right;\n",
       "    }\n",
       "</style>\n",
       "<table border=\"1\" class=\"dataframe\">\n",
       "  <thead>\n",
       "    <tr style=\"text-align: right;\">\n",
       "      <th></th>\n",
       "      <th>datetime</th>\n",
       "      <th>계절</th>\n",
       "      <th>공휴일</th>\n",
       "      <th>근무일</th>\n",
       "      <th>날씨</th>\n",
       "      <th>온도</th>\n",
       "      <th>체감온도</th>\n",
       "      <th>습도</th>\n",
       "      <th>풍속</th>\n",
       "    </tr>\n",
       "  </thead>\n",
       "  <tbody>\n",
       "    <tr>\n",
       "      <th>0</th>\n",
       "      <td>2011-01-01 00:00:00</td>\n",
       "      <td>1</td>\n",
       "      <td>0</td>\n",
       "      <td>0</td>\n",
       "      <td>1</td>\n",
       "      <td>9.84</td>\n",
       "      <td>14.395</td>\n",
       "      <td>81</td>\n",
       "      <td>0.0</td>\n",
       "    </tr>\n",
       "    <tr>\n",
       "      <th>1</th>\n",
       "      <td>2011-01-01 01:00:00</td>\n",
       "      <td>1</td>\n",
       "      <td>0</td>\n",
       "      <td>0</td>\n",
       "      <td>1</td>\n",
       "      <td>9.02</td>\n",
       "      <td>13.635</td>\n",
       "      <td>80</td>\n",
       "      <td>0.0</td>\n",
       "    </tr>\n",
       "    <tr>\n",
       "      <th>2</th>\n",
       "      <td>2011-01-01 02:00:00</td>\n",
       "      <td>1</td>\n",
       "      <td>0</td>\n",
       "      <td>0</td>\n",
       "      <td>1</td>\n",
       "      <td>9.02</td>\n",
       "      <td>13.635</td>\n",
       "      <td>80</td>\n",
       "      <td>0.0</td>\n",
       "    </tr>\n",
       "    <tr>\n",
       "      <th>3</th>\n",
       "      <td>2011-01-01 03:00:00</td>\n",
       "      <td>1</td>\n",
       "      <td>0</td>\n",
       "      <td>0</td>\n",
       "      <td>1</td>\n",
       "      <td>9.84</td>\n",
       "      <td>14.395</td>\n",
       "      <td>75</td>\n",
       "      <td>0.0</td>\n",
       "    </tr>\n",
       "    <tr>\n",
       "      <th>4</th>\n",
       "      <td>2011-01-01 04:00:00</td>\n",
       "      <td>1</td>\n",
       "      <td>0</td>\n",
       "      <td>0</td>\n",
       "      <td>1</td>\n",
       "      <td>9.84</td>\n",
       "      <td>14.395</td>\n",
       "      <td>75</td>\n",
       "      <td>0.0</td>\n",
       "    </tr>\n",
       "  </tbody>\n",
       "</table>\n",
       "</div>"
      ],
      "text/plain": [
       "             datetime  계절  공휴일  근무일  날씨    온도    체감온도  습도   풍속\n",
       "0 2011-01-01 00:00:00   1    0    0   1  9.84  14.395  81  0.0\n",
       "1 2011-01-01 01:00:00   1    0    0   1  9.02  13.635  80  0.0\n",
       "2 2011-01-01 02:00:00   1    0    0   1  9.02  13.635  80  0.0\n",
       "3 2011-01-01 03:00:00   1    0    0   1  9.84  14.395  75  0.0\n",
       "4 2011-01-01 04:00:00   1    0    0   1  9.84  14.395  75  0.0"
      ]
     },
     "execution_count": 23,
     "metadata": {},
     "output_type": "execute_result"
    }
   ],
   "source": [
    "x_train.head()"
   ]
  },
  {
   "cell_type": "code",
   "execution_count": 24,
   "id": "b7dce983",
   "metadata": {},
   "outputs": [
    {
     "name": "stdout",
     "output_type": "stream",
     "text": [
      "<class 'pandas.core.frame.DataFrame'>\n",
      "RangeIndex: 10886 entries, 0 to 10885\n",
      "Data columns (total 9 columns):\n",
      " #   Column    Non-Null Count  Dtype         \n",
      "---  ------    --------------  -----         \n",
      " 0   datetime  10886 non-null  datetime64[ns]\n",
      " 1   계절        10886 non-null  int64         \n",
      " 2   공휴일       10886 non-null  int64         \n",
      " 3   근무일       10886 non-null  int64         \n",
      " 4   날씨        10886 non-null  int64         \n",
      " 5   온도        10886 non-null  float64       \n",
      " 6   체감온도      10886 non-null  float64       \n",
      " 7   습도        10886 non-null  int64         \n",
      " 8   풍속        10886 non-null  float64       \n",
      "dtypes: datetime64[ns](1), float64(3), int64(5)\n",
      "memory usage: 765.5 KB\n"
     ]
    }
   ],
   "source": [
    "x_train.info()"
   ]
  },
  {
   "cell_type": "code",
   "execution_count": 25,
   "id": "19da8f4a",
   "metadata": {},
   "outputs": [
    {
     "name": "stdout",
     "output_type": "stream",
     "text": [
      "[2011 2012]\n"
     ]
    }
   ],
   "source": [
    "x_train['year'] = x_train['datetime'].dt.year\n",
    "print(x_train['year'].unique())"
   ]
  },
  {
   "cell_type": "code",
   "execution_count": 26,
   "id": "1b7f869a",
   "metadata": {},
   "outputs": [
    {
     "name": "stdout",
     "output_type": "stream",
     "text": [
      "[ 1  2  3  4  5  6  7  8  9 10 11 12]\n"
     ]
    }
   ],
   "source": [
    "x_train['month'] = x_train['datetime'].dt.month\n",
    "print(x_train['month'].unique())"
   ]
  },
  {
   "cell_type": "code",
   "execution_count": 27,
   "id": "37c18edb",
   "metadata": {},
   "outputs": [
    {
     "name": "stdout",
     "output_type": "stream",
     "text": [
      "[ 1  2  3  4  5  6  7  8  9 10 11 12 13 14 15 16 17 18 19]\n"
     ]
    }
   ],
   "source": [
    "x_train['day'] = x_train['datetime'].dt.day\n",
    "print(x_train['day'].unique())"
   ]
  },
  {
   "cell_type": "code",
   "execution_count": 28,
   "id": "c5c9473b",
   "metadata": {},
   "outputs": [
    {
     "name": "stdout",
     "output_type": "stream",
     "text": [
      "[ 0  1  2  3  4  5  6  7  8  9 10 11 12 13 14 15 16 17 18 19 20 21 22 23]\n"
     ]
    }
   ],
   "source": [
    "x_train['hour'] = x_train['datetime'].dt.hour\n",
    "print(x_train['hour'].unique())"
   ]
  },
  {
   "cell_type": "code",
   "execution_count": 29,
   "id": "b7aab8cf",
   "metadata": {},
   "outputs": [
    {
     "name": "stdout",
     "output_type": "stream",
     "text": [
      "[5 6 0 1 2 3 4]\n"
     ]
    }
   ],
   "source": [
    "x_train['dayofweek'] = x_train['datetime'].dt.dayofweek\n",
    "print(x_train['dayofweek'].unique())"
   ]
  },
  {
   "cell_type": "code",
   "execution_count": 30,
   "id": "947753d8",
   "metadata": {},
   "outputs": [
    {
     "data": {
      "text/html": [
       "<div>\n",
       "<style scoped>\n",
       "    .dataframe tbody tr th:only-of-type {\n",
       "        vertical-align: middle;\n",
       "    }\n",
       "\n",
       "    .dataframe tbody tr th {\n",
       "        vertical-align: top;\n",
       "    }\n",
       "\n",
       "    .dataframe thead th {\n",
       "        text-align: right;\n",
       "    }\n",
       "</style>\n",
       "<table border=\"1\" class=\"dataframe\">\n",
       "  <thead>\n",
       "    <tr style=\"text-align: right;\">\n",
       "      <th></th>\n",
       "      <th>datetime</th>\n",
       "      <th>계절</th>\n",
       "      <th>공휴일</th>\n",
       "      <th>근무일</th>\n",
       "      <th>날씨</th>\n",
       "      <th>온도</th>\n",
       "      <th>체감온도</th>\n",
       "      <th>습도</th>\n",
       "      <th>풍속</th>\n",
       "      <th>year</th>\n",
       "      <th>month</th>\n",
       "      <th>day</th>\n",
       "      <th>hour</th>\n",
       "      <th>dayofweek</th>\n",
       "    </tr>\n",
       "  </thead>\n",
       "  <tbody>\n",
       "    <tr>\n",
       "      <th>0</th>\n",
       "      <td>2011-01-01 00:00:00</td>\n",
       "      <td>1</td>\n",
       "      <td>0</td>\n",
       "      <td>0</td>\n",
       "      <td>1</td>\n",
       "      <td>9.84</td>\n",
       "      <td>14.395</td>\n",
       "      <td>81</td>\n",
       "      <td>0.0</td>\n",
       "      <td>2011</td>\n",
       "      <td>1</td>\n",
       "      <td>1</td>\n",
       "      <td>0</td>\n",
       "      <td>5</td>\n",
       "    </tr>\n",
       "    <tr>\n",
       "      <th>1</th>\n",
       "      <td>2011-01-01 01:00:00</td>\n",
       "      <td>1</td>\n",
       "      <td>0</td>\n",
       "      <td>0</td>\n",
       "      <td>1</td>\n",
       "      <td>9.02</td>\n",
       "      <td>13.635</td>\n",
       "      <td>80</td>\n",
       "      <td>0.0</td>\n",
       "      <td>2011</td>\n",
       "      <td>1</td>\n",
       "      <td>1</td>\n",
       "      <td>1</td>\n",
       "      <td>5</td>\n",
       "    </tr>\n",
       "    <tr>\n",
       "      <th>2</th>\n",
       "      <td>2011-01-01 02:00:00</td>\n",
       "      <td>1</td>\n",
       "      <td>0</td>\n",
       "      <td>0</td>\n",
       "      <td>1</td>\n",
       "      <td>9.02</td>\n",
       "      <td>13.635</td>\n",
       "      <td>80</td>\n",
       "      <td>0.0</td>\n",
       "      <td>2011</td>\n",
       "      <td>1</td>\n",
       "      <td>1</td>\n",
       "      <td>2</td>\n",
       "      <td>5</td>\n",
       "    </tr>\n",
       "    <tr>\n",
       "      <th>3</th>\n",
       "      <td>2011-01-01 03:00:00</td>\n",
       "      <td>1</td>\n",
       "      <td>0</td>\n",
       "      <td>0</td>\n",
       "      <td>1</td>\n",
       "      <td>9.84</td>\n",
       "      <td>14.395</td>\n",
       "      <td>75</td>\n",
       "      <td>0.0</td>\n",
       "      <td>2011</td>\n",
       "      <td>1</td>\n",
       "      <td>1</td>\n",
       "      <td>3</td>\n",
       "      <td>5</td>\n",
       "    </tr>\n",
       "    <tr>\n",
       "      <th>4</th>\n",
       "      <td>2011-01-01 04:00:00</td>\n",
       "      <td>1</td>\n",
       "      <td>0</td>\n",
       "      <td>0</td>\n",
       "      <td>1</td>\n",
       "      <td>9.84</td>\n",
       "      <td>14.395</td>\n",
       "      <td>75</td>\n",
       "      <td>0.0</td>\n",
       "      <td>2011</td>\n",
       "      <td>1</td>\n",
       "      <td>1</td>\n",
       "      <td>4</td>\n",
       "      <td>5</td>\n",
       "    </tr>\n",
       "  </tbody>\n",
       "</table>\n",
       "</div>"
      ],
      "text/plain": [
       "             datetime  계절  공휴일  근무일  날씨    온도    체감온도  습도   풍속  year  month  \\\n",
       "0 2011-01-01 00:00:00   1    0    0   1  9.84  14.395  81  0.0  2011      1   \n",
       "1 2011-01-01 01:00:00   1    0    0   1  9.02  13.635  80  0.0  2011      1   \n",
       "2 2011-01-01 02:00:00   1    0    0   1  9.02  13.635  80  0.0  2011      1   \n",
       "3 2011-01-01 03:00:00   1    0    0   1  9.84  14.395  75  0.0  2011      1   \n",
       "4 2011-01-01 04:00:00   1    0    0   1  9.84  14.395  75  0.0  2011      1   \n",
       "\n",
       "   day  hour  dayofweek  \n",
       "0    1     0          5  \n",
       "1    1     1          5  \n",
       "2    1     2          5  \n",
       "3    1     3          5  \n",
       "4    1     4          5  "
      ]
     },
     "execution_count": 30,
     "metadata": {},
     "output_type": "execute_result"
    }
   ],
   "source": [
    "x_train.head()"
   ]
  },
  {
   "cell_type": "code",
   "execution_count": 31,
   "id": "8c0abdba",
   "metadata": {},
   "outputs": [
    {
     "data": {
      "text/html": [
       "<div>\n",
       "<style scoped>\n",
       "    .dataframe tbody tr th:only-of-type {\n",
       "        vertical-align: middle;\n",
       "    }\n",
       "\n",
       "    .dataframe tbody tr th {\n",
       "        vertical-align: top;\n",
       "    }\n",
       "\n",
       "    .dataframe thead th {\n",
       "        text-align: right;\n",
       "    }\n",
       "</style>\n",
       "<table border=\"1\" class=\"dataframe\">\n",
       "  <thead>\n",
       "    <tr style=\"text-align: right;\">\n",
       "      <th></th>\n",
       "      <th>datetime</th>\n",
       "      <th>계절</th>\n",
       "      <th>공휴일</th>\n",
       "      <th>근무일</th>\n",
       "      <th>날씨</th>\n",
       "      <th>온도</th>\n",
       "      <th>체감온도</th>\n",
       "      <th>습도</th>\n",
       "      <th>풍속</th>\n",
       "      <th>year</th>\n",
       "      <th>month</th>\n",
       "      <th>day</th>\n",
       "      <th>hour</th>\n",
       "      <th>dayofweek</th>\n",
       "      <th>datetime</th>\n",
       "      <th>count</th>\n",
       "    </tr>\n",
       "  </thead>\n",
       "  <tbody>\n",
       "    <tr>\n",
       "      <th>0</th>\n",
       "      <td>2011-01-01 00:00:00</td>\n",
       "      <td>1</td>\n",
       "      <td>0</td>\n",
       "      <td>0</td>\n",
       "      <td>1</td>\n",
       "      <td>9.84</td>\n",
       "      <td>14.395</td>\n",
       "      <td>81</td>\n",
       "      <td>0.0</td>\n",
       "      <td>2011</td>\n",
       "      <td>1</td>\n",
       "      <td>1</td>\n",
       "      <td>0</td>\n",
       "      <td>5</td>\n",
       "      <td>2011-01-01 0:00</td>\n",
       "      <td>16</td>\n",
       "    </tr>\n",
       "    <tr>\n",
       "      <th>1</th>\n",
       "      <td>2011-01-01 01:00:00</td>\n",
       "      <td>1</td>\n",
       "      <td>0</td>\n",
       "      <td>0</td>\n",
       "      <td>1</td>\n",
       "      <td>9.02</td>\n",
       "      <td>13.635</td>\n",
       "      <td>80</td>\n",
       "      <td>0.0</td>\n",
       "      <td>2011</td>\n",
       "      <td>1</td>\n",
       "      <td>1</td>\n",
       "      <td>1</td>\n",
       "      <td>5</td>\n",
       "      <td>2011-01-01 1:00</td>\n",
       "      <td>40</td>\n",
       "    </tr>\n",
       "    <tr>\n",
       "      <th>2</th>\n",
       "      <td>2011-01-01 02:00:00</td>\n",
       "      <td>1</td>\n",
       "      <td>0</td>\n",
       "      <td>0</td>\n",
       "      <td>1</td>\n",
       "      <td>9.02</td>\n",
       "      <td>13.635</td>\n",
       "      <td>80</td>\n",
       "      <td>0.0</td>\n",
       "      <td>2011</td>\n",
       "      <td>1</td>\n",
       "      <td>1</td>\n",
       "      <td>2</td>\n",
       "      <td>5</td>\n",
       "      <td>2011-01-01 2:00</td>\n",
       "      <td>32</td>\n",
       "    </tr>\n",
       "    <tr>\n",
       "      <th>3</th>\n",
       "      <td>2011-01-01 03:00:00</td>\n",
       "      <td>1</td>\n",
       "      <td>0</td>\n",
       "      <td>0</td>\n",
       "      <td>1</td>\n",
       "      <td>9.84</td>\n",
       "      <td>14.395</td>\n",
       "      <td>75</td>\n",
       "      <td>0.0</td>\n",
       "      <td>2011</td>\n",
       "      <td>1</td>\n",
       "      <td>1</td>\n",
       "      <td>3</td>\n",
       "      <td>5</td>\n",
       "      <td>2011-01-01 3:00</td>\n",
       "      <td>13</td>\n",
       "    </tr>\n",
       "    <tr>\n",
       "      <th>4</th>\n",
       "      <td>2011-01-01 04:00:00</td>\n",
       "      <td>1</td>\n",
       "      <td>0</td>\n",
       "      <td>0</td>\n",
       "      <td>1</td>\n",
       "      <td>9.84</td>\n",
       "      <td>14.395</td>\n",
       "      <td>75</td>\n",
       "      <td>0.0</td>\n",
       "      <td>2011</td>\n",
       "      <td>1</td>\n",
       "      <td>1</td>\n",
       "      <td>4</td>\n",
       "      <td>5</td>\n",
       "      <td>2011-01-01 4:00</td>\n",
       "      <td>1</td>\n",
       "    </tr>\n",
       "  </tbody>\n",
       "</table>\n",
       "</div>"
      ],
      "text/plain": [
       "             datetime  계절  공휴일  근무일  날씨    온도    체감온도  습도   풍속  year  month  \\\n",
       "0 2011-01-01 00:00:00   1    0    0   1  9.84  14.395  81  0.0  2011      1   \n",
       "1 2011-01-01 01:00:00   1    0    0   1  9.02  13.635  80  0.0  2011      1   \n",
       "2 2011-01-01 02:00:00   1    0    0   1  9.02  13.635  80  0.0  2011      1   \n",
       "3 2011-01-01 03:00:00   1    0    0   1  9.84  14.395  75  0.0  2011      1   \n",
       "4 2011-01-01 04:00:00   1    0    0   1  9.84  14.395  75  0.0  2011      1   \n",
       "\n",
       "   day  hour  dayofweek         datetime  count  \n",
       "0    1     0          5  2011-01-01 0:00     16  \n",
       "1    1     1          5  2011-01-01 1:00     40  \n",
       "2    1     2          5  2011-01-01 2:00     32  \n",
       "3    1     3          5  2011-01-01 3:00     13  \n",
       "4    1     4          5  2011-01-01 4:00      1  "
      ]
     },
     "execution_count": 31,
     "metadata": {},
     "output_type": "execute_result"
    }
   ],
   "source": [
    "data2 = pd.concat([x_train, y_train], axis=1)\n",
    "data2.head()"
   ]
  },
  {
   "cell_type": "code",
   "execution_count": 32,
   "id": "1cd55ac4",
   "metadata": {},
   "outputs": [
    {
     "name": "stdout",
     "output_type": "stream",
     "text": [
      "year\n",
      "2011     781979\n",
      "2012    1303497\n",
      "Name: count, dtype: int64\n"
     ]
    }
   ],
   "source": [
    "print(data2.groupby(['year'])['count'].sum())"
   ]
  },
  {
   "cell_type": "code",
   "execution_count": 33,
   "id": "c3912e00",
   "metadata": {},
   "outputs": [
    {
     "name": "stdout",
     "output_type": "stream",
     "text": [
      "month\n",
      "1      79884\n",
      "2      99113\n",
      "3     133501\n",
      "4     167402\n",
      "5     200147\n",
      "6     220733\n",
      "7     214617\n",
      "8     213516\n",
      "9     212529\n",
      "10    207434\n",
      "11    176440\n",
      "12    160160\n",
      "Name: count, dtype: int64\n"
     ]
    }
   ],
   "source": [
    "print(data2.groupby(['month'])['count'].sum())"
   ]
  },
  {
   "cell_type": "code",
   "execution_count": 34,
   "id": "aa40bb88",
   "metadata": {},
   "outputs": [
    {
     "name": "stdout",
     "output_type": "stream",
     "text": [
      "day\n",
      "1     103692\n",
      "2     105381\n",
      "3     111561\n",
      "4     112335\n",
      "5     109115\n",
      "6     108600\n",
      "7     105486\n",
      "8     102770\n",
      "9     108041\n",
      "10    111645\n",
      "11    111146\n",
      "12    109257\n",
      "13    111448\n",
      "14    112406\n",
      "15    115677\n",
      "16    109837\n",
      "17    118255\n",
      "18    108437\n",
      "19    110387\n",
      "Name: count, dtype: int64\n"
     ]
    }
   ],
   "source": [
    "print(data2.groupby(['day'])['count'].sum())"
   ]
  },
  {
   "cell_type": "code",
   "execution_count": 35,
   "id": "3b44e7e9",
   "metadata": {},
   "outputs": [
    {
     "name": "stdout",
     "output_type": "stream",
     "text": [
      "hour\n",
      "0      25088\n",
      "1      15372\n",
      "2      10259\n",
      "3       5091\n",
      "4       2832\n",
      "5       8935\n",
      "6      34698\n",
      "7      96968\n",
      "8     165060\n",
      "9     100910\n",
      "10     79667\n",
      "11     95857\n",
      "12    116968\n",
      "13    117551\n",
      "14    111010\n",
      "15    115960\n",
      "16    144266\n",
      "17    213757\n",
      "18    196472\n",
      "19    143767\n",
      "20    104204\n",
      "21     79057\n",
      "22     60911\n",
      "23     40816\n",
      "Name: count, dtype: int64\n"
     ]
    }
   ],
   "source": [
    "print(data2.groupby(['hour'])['count'].sum())"
   ]
  },
  {
   "cell_type": "code",
   "execution_count": 36,
   "id": "930c88f6",
   "metadata": {},
   "outputs": [
    {
     "name": "stdout",
     "output_type": "stream",
     "text": [
      "dayofweek\n",
      "0    295296\n",
      "1    291985\n",
      "2    292226\n",
      "3    306401\n",
      "4    302504\n",
      "5    311518\n",
      "6    285546\n",
      "Name: count, dtype: int64\n"
     ]
    }
   ],
   "source": [
    "print(data2.groupby(['dayofweek'])['count'].sum())"
   ]
  },
  {
   "cell_type": "code",
   "execution_count": 37,
   "id": "7c539485",
   "metadata": {},
   "outputs": [
    {
     "data": {
      "text/html": [
       "<div>\n",
       "<style scoped>\n",
       "    .dataframe tbody tr th:only-of-type {\n",
       "        vertical-align: middle;\n",
       "    }\n",
       "\n",
       "    .dataframe tbody tr th {\n",
       "        vertical-align: top;\n",
       "    }\n",
       "\n",
       "    .dataframe thead th {\n",
       "        text-align: right;\n",
       "    }\n",
       "</style>\n",
       "<table border=\"1\" class=\"dataframe\">\n",
       "  <thead>\n",
       "    <tr style=\"text-align: right;\">\n",
       "      <th></th>\n",
       "      <th>datetime</th>\n",
       "      <th>계절</th>\n",
       "      <th>공휴일</th>\n",
       "      <th>근무일</th>\n",
       "      <th>날씨</th>\n",
       "      <th>온도</th>\n",
       "      <th>체감온도</th>\n",
       "      <th>습도</th>\n",
       "      <th>풍속</th>\n",
       "    </tr>\n",
       "  </thead>\n",
       "  <tbody>\n",
       "    <tr>\n",
       "      <th>0</th>\n",
       "      <td>2011-01-20 0:00</td>\n",
       "      <td>1</td>\n",
       "      <td>0</td>\n",
       "      <td>1</td>\n",
       "      <td>1</td>\n",
       "      <td>10.66</td>\n",
       "      <td>11.365</td>\n",
       "      <td>56</td>\n",
       "      <td>26.0027</td>\n",
       "    </tr>\n",
       "    <tr>\n",
       "      <th>1</th>\n",
       "      <td>2011-01-20 1:00</td>\n",
       "      <td>1</td>\n",
       "      <td>0</td>\n",
       "      <td>1</td>\n",
       "      <td>1</td>\n",
       "      <td>10.66</td>\n",
       "      <td>13.635</td>\n",
       "      <td>56</td>\n",
       "      <td>0.0000</td>\n",
       "    </tr>\n",
       "    <tr>\n",
       "      <th>2</th>\n",
       "      <td>2011-01-20 2:00</td>\n",
       "      <td>1</td>\n",
       "      <td>0</td>\n",
       "      <td>1</td>\n",
       "      <td>1</td>\n",
       "      <td>10.66</td>\n",
       "      <td>13.635</td>\n",
       "      <td>56</td>\n",
       "      <td>0.0000</td>\n",
       "    </tr>\n",
       "    <tr>\n",
       "      <th>3</th>\n",
       "      <td>2011-01-20 3:00</td>\n",
       "      <td>1</td>\n",
       "      <td>0</td>\n",
       "      <td>1</td>\n",
       "      <td>1</td>\n",
       "      <td>10.66</td>\n",
       "      <td>12.880</td>\n",
       "      <td>56</td>\n",
       "      <td>11.0014</td>\n",
       "    </tr>\n",
       "    <tr>\n",
       "      <th>4</th>\n",
       "      <td>2011-01-20 4:00</td>\n",
       "      <td>1</td>\n",
       "      <td>0</td>\n",
       "      <td>1</td>\n",
       "      <td>1</td>\n",
       "      <td>10.66</td>\n",
       "      <td>12.880</td>\n",
       "      <td>56</td>\n",
       "      <td>11.0014</td>\n",
       "    </tr>\n",
       "  </tbody>\n",
       "</table>\n",
       "</div>"
      ],
      "text/plain": [
       "          datetime  계절  공휴일  근무일  날씨     온도    체감온도  습도       풍속\n",
       "0  2011-01-20 0:00   1    0    1   1  10.66  11.365  56  26.0027\n",
       "1  2011-01-20 1:00   1    0    1   1  10.66  13.635  56   0.0000\n",
       "2  2011-01-20 2:00   1    0    1   1  10.66  13.635  56   0.0000\n",
       "3  2011-01-20 3:00   1    0    1   1  10.66  12.880  56  11.0014\n",
       "4  2011-01-20 4:00   1    0    1   1  10.66  12.880  56  11.0014"
      ]
     },
     "execution_count": 37,
     "metadata": {},
     "output_type": "execute_result"
    }
   ],
   "source": [
    "x_test.head()"
   ]
  },
  {
   "cell_type": "code",
   "execution_count": 39,
   "id": "68c1498f",
   "metadata": {},
   "outputs": [],
   "source": [
    "x_test['datetime'] = pd.to_datetime(x_test['datetime'])\n",
    "x_test['year'] = x_test['datetime'].dt.year\n",
    "x_test['month'] = x_test['datetime'].dt.month\n",
    "x_test['day'] = x_test['datetime'].dt.day\n",
    "x_test['hour'] = x_test['datetime'].dt.hour\n",
    "x_test['dayofweek'] = x_test['datetime'].dt.dayofweek"
   ]
  },
  {
   "cell_type": "code",
   "execution_count": 40,
   "id": "ed1da84d",
   "metadata": {},
   "outputs": [
    {
     "data": {
      "text/html": [
       "<div>\n",
       "<style scoped>\n",
       "    .dataframe tbody tr th:only-of-type {\n",
       "        vertical-align: middle;\n",
       "    }\n",
       "\n",
       "    .dataframe tbody tr th {\n",
       "        vertical-align: top;\n",
       "    }\n",
       "\n",
       "    .dataframe thead th {\n",
       "        text-align: right;\n",
       "    }\n",
       "</style>\n",
       "<table border=\"1\" class=\"dataframe\">\n",
       "  <thead>\n",
       "    <tr style=\"text-align: right;\">\n",
       "      <th></th>\n",
       "      <th>datetime</th>\n",
       "      <th>계절</th>\n",
       "      <th>공휴일</th>\n",
       "      <th>근무일</th>\n",
       "      <th>날씨</th>\n",
       "      <th>온도</th>\n",
       "      <th>체감온도</th>\n",
       "      <th>습도</th>\n",
       "      <th>풍속</th>\n",
       "      <th>year</th>\n",
       "      <th>month</th>\n",
       "      <th>day</th>\n",
       "      <th>hour</th>\n",
       "      <th>dayofweek</th>\n",
       "    </tr>\n",
       "  </thead>\n",
       "  <tbody>\n",
       "    <tr>\n",
       "      <th>0</th>\n",
       "      <td>2011-01-20 00:00:00</td>\n",
       "      <td>1</td>\n",
       "      <td>0</td>\n",
       "      <td>1</td>\n",
       "      <td>1</td>\n",
       "      <td>10.66</td>\n",
       "      <td>11.365</td>\n",
       "      <td>56</td>\n",
       "      <td>26.0027</td>\n",
       "      <td>2011</td>\n",
       "      <td>1</td>\n",
       "      <td>20</td>\n",
       "      <td>0</td>\n",
       "      <td>3</td>\n",
       "    </tr>\n",
       "    <tr>\n",
       "      <th>1</th>\n",
       "      <td>2011-01-20 01:00:00</td>\n",
       "      <td>1</td>\n",
       "      <td>0</td>\n",
       "      <td>1</td>\n",
       "      <td>1</td>\n",
       "      <td>10.66</td>\n",
       "      <td>13.635</td>\n",
       "      <td>56</td>\n",
       "      <td>0.0000</td>\n",
       "      <td>2011</td>\n",
       "      <td>1</td>\n",
       "      <td>20</td>\n",
       "      <td>1</td>\n",
       "      <td>3</td>\n",
       "    </tr>\n",
       "    <tr>\n",
       "      <th>2</th>\n",
       "      <td>2011-01-20 02:00:00</td>\n",
       "      <td>1</td>\n",
       "      <td>0</td>\n",
       "      <td>1</td>\n",
       "      <td>1</td>\n",
       "      <td>10.66</td>\n",
       "      <td>13.635</td>\n",
       "      <td>56</td>\n",
       "      <td>0.0000</td>\n",
       "      <td>2011</td>\n",
       "      <td>1</td>\n",
       "      <td>20</td>\n",
       "      <td>2</td>\n",
       "      <td>3</td>\n",
       "    </tr>\n",
       "    <tr>\n",
       "      <th>3</th>\n",
       "      <td>2011-01-20 03:00:00</td>\n",
       "      <td>1</td>\n",
       "      <td>0</td>\n",
       "      <td>1</td>\n",
       "      <td>1</td>\n",
       "      <td>10.66</td>\n",
       "      <td>12.880</td>\n",
       "      <td>56</td>\n",
       "      <td>11.0014</td>\n",
       "      <td>2011</td>\n",
       "      <td>1</td>\n",
       "      <td>20</td>\n",
       "      <td>3</td>\n",
       "      <td>3</td>\n",
       "    </tr>\n",
       "    <tr>\n",
       "      <th>4</th>\n",
       "      <td>2011-01-20 04:00:00</td>\n",
       "      <td>1</td>\n",
       "      <td>0</td>\n",
       "      <td>1</td>\n",
       "      <td>1</td>\n",
       "      <td>10.66</td>\n",
       "      <td>12.880</td>\n",
       "      <td>56</td>\n",
       "      <td>11.0014</td>\n",
       "      <td>2011</td>\n",
       "      <td>1</td>\n",
       "      <td>20</td>\n",
       "      <td>4</td>\n",
       "      <td>3</td>\n",
       "    </tr>\n",
       "  </tbody>\n",
       "</table>\n",
       "</div>"
      ],
      "text/plain": [
       "             datetime  계절  공휴일  근무일  날씨     온도    체감온도  습도       풍속  year  \\\n",
       "0 2011-01-20 00:00:00   1    0    1   1  10.66  11.365  56  26.0027  2011   \n",
       "1 2011-01-20 01:00:00   1    0    1   1  10.66  13.635  56   0.0000  2011   \n",
       "2 2011-01-20 02:00:00   1    0    1   1  10.66  13.635  56   0.0000  2011   \n",
       "3 2011-01-20 03:00:00   1    0    1   1  10.66  12.880  56  11.0014  2011   \n",
       "4 2011-01-20 04:00:00   1    0    1   1  10.66  12.880  56  11.0014  2011   \n",
       "\n",
       "   month  day  hour  dayofweek  \n",
       "0      1   20     0          3  \n",
       "1      1   20     1          3  \n",
       "2      1   20     2          3  \n",
       "3      1   20     3          3  \n",
       "4      1   20     4          3  "
      ]
     },
     "execution_count": 40,
     "metadata": {},
     "output_type": "execute_result"
    }
   ],
   "source": [
    "x_test.head()"
   ]
  },
  {
   "cell_type": "markdown",
   "id": "cb2b27db",
   "metadata": {},
   "source": [
    "불필요한 칼럼 삭제하기"
   ]
  },
  {
   "cell_type": "code",
   "execution_count": 44,
   "id": "312e1daf",
   "metadata": {},
   "outputs": [],
   "source": [
    "x_test_datetime = x_test['datetime']"
   ]
  },
  {
   "cell_type": "code",
   "execution_count": 45,
   "id": "a21f0ece",
   "metadata": {},
   "outputs": [
    {
     "data": {
      "text/html": [
       "<div>\n",
       "<style scoped>\n",
       "    .dataframe tbody tr th:only-of-type {\n",
       "        vertical-align: middle;\n",
       "    }\n",
       "\n",
       "    .dataframe tbody tr th {\n",
       "        vertical-align: top;\n",
       "    }\n",
       "\n",
       "    .dataframe thead th {\n",
       "        text-align: right;\n",
       "    }\n",
       "</style>\n",
       "<table border=\"1\" class=\"dataframe\">\n",
       "  <thead>\n",
       "    <tr style=\"text-align: right;\">\n",
       "      <th></th>\n",
       "      <th>datetime</th>\n",
       "      <th>계절</th>\n",
       "      <th>공휴일</th>\n",
       "      <th>근무일</th>\n",
       "      <th>날씨</th>\n",
       "      <th>온도</th>\n",
       "      <th>체감온도</th>\n",
       "      <th>습도</th>\n",
       "      <th>풍속</th>\n",
       "      <th>year</th>\n",
       "      <th>month</th>\n",
       "      <th>day</th>\n",
       "      <th>hour</th>\n",
       "      <th>dayofweek</th>\n",
       "    </tr>\n",
       "  </thead>\n",
       "  <tbody>\n",
       "    <tr>\n",
       "      <th>0</th>\n",
       "      <td>2011-01-20 00:00:00</td>\n",
       "      <td>1</td>\n",
       "      <td>0</td>\n",
       "      <td>1</td>\n",
       "      <td>1</td>\n",
       "      <td>10.66</td>\n",
       "      <td>11.365</td>\n",
       "      <td>56</td>\n",
       "      <td>26.0027</td>\n",
       "      <td>2011</td>\n",
       "      <td>1</td>\n",
       "      <td>20</td>\n",
       "      <td>0</td>\n",
       "      <td>3</td>\n",
       "    </tr>\n",
       "    <tr>\n",
       "      <th>1</th>\n",
       "      <td>2011-01-20 01:00:00</td>\n",
       "      <td>1</td>\n",
       "      <td>0</td>\n",
       "      <td>1</td>\n",
       "      <td>1</td>\n",
       "      <td>10.66</td>\n",
       "      <td>13.635</td>\n",
       "      <td>56</td>\n",
       "      <td>0.0000</td>\n",
       "      <td>2011</td>\n",
       "      <td>1</td>\n",
       "      <td>20</td>\n",
       "      <td>1</td>\n",
       "      <td>3</td>\n",
       "    </tr>\n",
       "    <tr>\n",
       "      <th>2</th>\n",
       "      <td>2011-01-20 02:00:00</td>\n",
       "      <td>1</td>\n",
       "      <td>0</td>\n",
       "      <td>1</td>\n",
       "      <td>1</td>\n",
       "      <td>10.66</td>\n",
       "      <td>13.635</td>\n",
       "      <td>56</td>\n",
       "      <td>0.0000</td>\n",
       "      <td>2011</td>\n",
       "      <td>1</td>\n",
       "      <td>20</td>\n",
       "      <td>2</td>\n",
       "      <td>3</td>\n",
       "    </tr>\n",
       "    <tr>\n",
       "      <th>3</th>\n",
       "      <td>2011-01-20 03:00:00</td>\n",
       "      <td>1</td>\n",
       "      <td>0</td>\n",
       "      <td>1</td>\n",
       "      <td>1</td>\n",
       "      <td>10.66</td>\n",
       "      <td>12.880</td>\n",
       "      <td>56</td>\n",
       "      <td>11.0014</td>\n",
       "      <td>2011</td>\n",
       "      <td>1</td>\n",
       "      <td>20</td>\n",
       "      <td>3</td>\n",
       "      <td>3</td>\n",
       "    </tr>\n",
       "    <tr>\n",
       "      <th>4</th>\n",
       "      <td>2011-01-20 04:00:00</td>\n",
       "      <td>1</td>\n",
       "      <td>0</td>\n",
       "      <td>1</td>\n",
       "      <td>1</td>\n",
       "      <td>10.66</td>\n",
       "      <td>12.880</td>\n",
       "      <td>56</td>\n",
       "      <td>11.0014</td>\n",
       "      <td>2011</td>\n",
       "      <td>1</td>\n",
       "      <td>20</td>\n",
       "      <td>4</td>\n",
       "      <td>3</td>\n",
       "    </tr>\n",
       "  </tbody>\n",
       "</table>\n",
       "</div>"
      ],
      "text/plain": [
       "             datetime  계절  공휴일  근무일  날씨     온도    체감온도  습도       풍속  year  \\\n",
       "0 2011-01-20 00:00:00   1    0    1   1  10.66  11.365  56  26.0027  2011   \n",
       "1 2011-01-20 01:00:00   1    0    1   1  10.66  13.635  56   0.0000  2011   \n",
       "2 2011-01-20 02:00:00   1    0    1   1  10.66  13.635  56   0.0000  2011   \n",
       "3 2011-01-20 03:00:00   1    0    1   1  10.66  12.880  56  11.0014  2011   \n",
       "4 2011-01-20 04:00:00   1    0    1   1  10.66  12.880  56  11.0014  2011   \n",
       "\n",
       "   month  day  hour  dayofweek  \n",
       "0      1   20     0          3  \n",
       "1      1   20     1          3  \n",
       "2      1   20     2          3  \n",
       "3      1   20     3          3  \n",
       "4      1   20     4          3  "
      ]
     },
     "execution_count": 45,
     "metadata": {},
     "output_type": "execute_result"
    }
   ],
   "source": [
    "x_test.head()"
   ]
  },
  {
   "cell_type": "code",
   "execution_count": 46,
   "id": "c4eceef3",
   "metadata": {},
   "outputs": [],
   "source": [
    "x_train = x_train.drop(columns = ['datetime'])\n",
    "x_test = x_test.drop(columns = ['datetime'])\n",
    "y_train = y_train.drop(columns = ['datetime'])"
   ]
  },
  {
   "cell_type": "markdown",
   "id": "d8e76d6d",
   "metadata": {},
   "source": [
    "## 3.3 학습하고 평가하기"
   ]
  },
  {
   "cell_type": "markdown",
   "id": "09f971eb",
   "metadata": {},
   "source": [
    "데이터 분리하기"
   ]
  },
  {
   "cell_type": "code",
   "execution_count": 47,
   "id": "29989b51",
   "metadata": {},
   "outputs": [
    {
     "name": "stdout",
     "output_type": "stream",
     "text": [
      "(8708, 13)\n"
     ]
    }
   ],
   "source": [
    "from sklearn.model_selection import train_test_split\n",
    "\n",
    "X_TRAIN, X_TEST, Y_TRAIN, Y_TEST = train_test_split(x_train, y_train, test_size = 0.2, random_state = 10)\n",
    "\n",
    "print(X_TRAIN.shape)"
   ]
  },
  {
   "cell_type": "code",
   "execution_count": 48,
   "id": "ab761e4b",
   "metadata": {},
   "outputs": [
    {
     "name": "stdout",
     "output_type": "stream",
     "text": [
      "(2178, 13)\n"
     ]
    }
   ],
   "source": [
    "print(X_TEST.shape)"
   ]
  },
  {
   "cell_type": "code",
   "execution_count": 49,
   "id": "57575e48",
   "metadata": {},
   "outputs": [
    {
     "name": "stdout",
     "output_type": "stream",
     "text": [
      "(8708, 1)\n"
     ]
    }
   ],
   "source": [
    "print(Y_TRAIN.shape)"
   ]
  },
  {
   "cell_type": "code",
   "execution_count": 50,
   "id": "f5b0e554",
   "metadata": {},
   "outputs": [
    {
     "name": "stdout",
     "output_type": "stream",
     "text": [
      "(2178, 1)\n"
     ]
    }
   ],
   "source": [
    "print(Y_TEST.shape)"
   ]
  },
  {
   "cell_type": "markdown",
   "id": "ab76282d",
   "metadata": {},
   "source": [
    "데이터 학습 및 하이퍼 파라미터 튜닝하기"
   ]
  },
  {
   "cell_type": "code",
   "execution_count": 51,
   "id": "8cf479cc",
   "metadata": {},
   "outputs": [
    {
     "data": {
      "text/plain": [
       "XGBRegressor(base_score=0.5, booster='gbtree', colsample_bylevel=1,\n",
       "             colsample_bynode=1, colsample_bytree=1, enable_categorical=False,\n",
       "             gamma=0, gpu_id=-1, importance_type=None,\n",
       "             interaction_constraints='', learning_rate=0.300000012,\n",
       "             max_delta_step=0, max_depth=3, min_child_weight=1, missing=nan,\n",
       "             monotone_constraints='()', n_estimators=100, n_jobs=8,\n",
       "             num_parallel_tree=1, predictor='auto', random_state=10,\n",
       "             reg_alpha=0, reg_lambda=1, scale_pos_weight=1, subsample=1,\n",
       "             tree_method='exact', validate_parameters=1, verbosity=None)"
      ]
     },
     "execution_count": 51,
     "metadata": {},
     "output_type": "execute_result"
    }
   ],
   "source": [
    "from xgboost import XGBRegressor\n",
    "model = XGBRegressor(n_estimators = 100, max_depth = 3, random_state = 10)\n",
    "model.fit(X_TRAIN, Y_TRAIN)"
   ]
  },
  {
   "cell_type": "code",
   "execution_count": 52,
   "id": "546a7b28",
   "metadata": {},
   "outputs": [
    {
     "data": {
      "text/plain": [
       "XGBRegressor(base_score=0.5, booster='gbtree', colsample_bylevel=1,\n",
       "             colsample_bynode=1, colsample_bytree=1, enable_categorical=False,\n",
       "             gamma=0, gpu_id=-1, importance_type=None,\n",
       "             interaction_constraints='', learning_rate=0.300000012,\n",
       "             max_delta_step=0, max_depth=5, min_child_weight=1, missing=nan,\n",
       "             monotone_constraints='()', n_estimators=200, n_jobs=8,\n",
       "             num_parallel_tree=1, predictor='auto', random_state=10,\n",
       "             reg_alpha=0, reg_lambda=1, scale_pos_weight=1, subsample=1,\n",
       "             tree_method='exact', validate_parameters=1, verbosity=None)"
      ]
     },
     "execution_count": 52,
     "metadata": {},
     "output_type": "execute_result"
    }
   ],
   "source": [
    "model2 = XGBRegressor(n_estimators = 200, max_depth = 5, random_state = 10)\n",
    "model2.fit(X_TRAIN, Y_TRAIN)"
   ]
  },
  {
   "cell_type": "markdown",
   "id": "b8717d92",
   "metadata": {},
   "source": [
    "결과 예측하기"
   ]
  },
  {
   "cell_type": "code",
   "execution_count": 57,
   "id": "b55de400",
   "metadata": {},
   "outputs": [
    {
     "data": {
      "text/html": [
       "<div>\n",
       "<style scoped>\n",
       "    .dataframe tbody tr th:only-of-type {\n",
       "        vertical-align: middle;\n",
       "    }\n",
       "\n",
       "    .dataframe tbody tr th {\n",
       "        vertical-align: top;\n",
       "    }\n",
       "\n",
       "    .dataframe thead th {\n",
       "        text-align: right;\n",
       "    }\n",
       "</style>\n",
       "<table border=\"1\" class=\"dataframe\">\n",
       "  <thead>\n",
       "    <tr style=\"text-align: right;\">\n",
       "      <th></th>\n",
       "      <th>count</th>\n",
       "    </tr>\n",
       "  </thead>\n",
       "  <tbody>\n",
       "    <tr>\n",
       "      <th>0</th>\n",
       "      <td>-1.630995</td>\n",
       "    </tr>\n",
       "    <tr>\n",
       "      <th>1</th>\n",
       "      <td>-1.559024</td>\n",
       "    </tr>\n",
       "    <tr>\n",
       "      <th>2</th>\n",
       "      <td>-6.558486</td>\n",
       "    </tr>\n",
       "    <tr>\n",
       "      <th>3</th>\n",
       "      <td>-9.993016</td>\n",
       "    </tr>\n",
       "    <tr>\n",
       "      <th>4</th>\n",
       "      <td>-9.993016</td>\n",
       "    </tr>\n",
       "    <tr>\n",
       "      <th>...</th>\n",
       "      <td>...</td>\n",
       "    </tr>\n",
       "    <tr>\n",
       "      <th>6488</th>\n",
       "      <td>287.787628</td>\n",
       "    </tr>\n",
       "    <tr>\n",
       "      <th>6489</th>\n",
       "      <td>190.071304</td>\n",
       "    </tr>\n",
       "    <tr>\n",
       "      <th>6490</th>\n",
       "      <td>142.587555</td>\n",
       "    </tr>\n",
       "    <tr>\n",
       "      <th>6491</th>\n",
       "      <td>103.404312</td>\n",
       "    </tr>\n",
       "    <tr>\n",
       "      <th>6492</th>\n",
       "      <td>75.858627</td>\n",
       "    </tr>\n",
       "  </tbody>\n",
       "</table>\n",
       "<p>6493 rows × 1 columns</p>\n",
       "</div>"
      ],
      "text/plain": [
       "           count\n",
       "0      -1.630995\n",
       "1      -1.559024\n",
       "2      -6.558486\n",
       "3      -9.993016\n",
       "4      -9.993016\n",
       "...          ...\n",
       "6488  287.787628\n",
       "6489  190.071304\n",
       "6490  142.587555\n",
       "6491  103.404312\n",
       "6492   75.858627\n",
       "\n",
       "[6493 rows x 1 columns]"
      ]
     },
     "execution_count": 57,
     "metadata": {},
     "output_type": "execute_result"
    }
   ],
   "source": [
    "y_test_predicted = pd.DataFrame(model.predict(x_test)).rename(columns = {0:'count'})\n",
    "y_test_predicted"
   ]
  },
  {
   "cell_type": "code",
   "execution_count": 58,
   "id": "6a62aebc",
   "metadata": {},
   "outputs": [
    {
     "data": {
      "text/html": [
       "<div>\n",
       "<style scoped>\n",
       "    .dataframe tbody tr th:only-of-type {\n",
       "        vertical-align: middle;\n",
       "    }\n",
       "\n",
       "    .dataframe tbody tr th {\n",
       "        vertical-align: top;\n",
       "    }\n",
       "\n",
       "    .dataframe thead th {\n",
       "        text-align: right;\n",
       "    }\n",
       "</style>\n",
       "<table border=\"1\" class=\"dataframe\">\n",
       "  <thead>\n",
       "    <tr style=\"text-align: right;\">\n",
       "      <th></th>\n",
       "      <th>count</th>\n",
       "    </tr>\n",
       "  </thead>\n",
       "  <tbody>\n",
       "    <tr>\n",
       "      <th>0</th>\n",
       "      <td>0.000000</td>\n",
       "    </tr>\n",
       "    <tr>\n",
       "      <th>1</th>\n",
       "      <td>0.000000</td>\n",
       "    </tr>\n",
       "    <tr>\n",
       "      <th>2</th>\n",
       "      <td>0.000000</td>\n",
       "    </tr>\n",
       "    <tr>\n",
       "      <th>3</th>\n",
       "      <td>0.000000</td>\n",
       "    </tr>\n",
       "    <tr>\n",
       "      <th>4</th>\n",
       "      <td>0.000000</td>\n",
       "    </tr>\n",
       "    <tr>\n",
       "      <th>5</th>\n",
       "      <td>3.797052</td>\n",
       "    </tr>\n",
       "    <tr>\n",
       "      <th>6</th>\n",
       "      <td>60.113888</td>\n",
       "    </tr>\n",
       "    <tr>\n",
       "      <th>7</th>\n",
       "      <td>150.273941</td>\n",
       "    </tr>\n",
       "    <tr>\n",
       "      <th>8</th>\n",
       "      <td>326.687195</td>\n",
       "    </tr>\n",
       "    <tr>\n",
       "      <th>9</th>\n",
       "      <td>111.733780</td>\n",
       "    </tr>\n",
       "  </tbody>\n",
       "</table>\n",
       "</div>"
      ],
      "text/plain": [
       "        count\n",
       "0    0.000000\n",
       "1    0.000000\n",
       "2    0.000000\n",
       "3    0.000000\n",
       "4    0.000000\n",
       "5    3.797052\n",
       "6   60.113888\n",
       "7  150.273941\n",
       "8  326.687195\n",
       "9  111.733780"
      ]
     },
     "execution_count": 58,
     "metadata": {},
     "output_type": "execute_result"
    }
   ],
   "source": [
    "y_test_predicted[y_test_predicted['count'] < 0] = 0\n",
    "y_test_predicted.head(10)"
   ]
  },
  {
   "cell_type": "code",
   "execution_count": 60,
   "id": "04337e31",
   "metadata": {},
   "outputs": [
    {
     "data": {
      "text/html": [
       "<div>\n",
       "<style scoped>\n",
       "    .dataframe tbody tr th:only-of-type {\n",
       "        vertical-align: middle;\n",
       "    }\n",
       "\n",
       "    .dataframe tbody tr th {\n",
       "        vertical-align: top;\n",
       "    }\n",
       "\n",
       "    .dataframe thead th {\n",
       "        text-align: right;\n",
       "    }\n",
       "</style>\n",
       "<table border=\"1\" class=\"dataframe\">\n",
       "  <thead>\n",
       "    <tr style=\"text-align: right;\">\n",
       "      <th></th>\n",
       "      <th>count</th>\n",
       "    </tr>\n",
       "  </thead>\n",
       "  <tbody>\n",
       "    <tr>\n",
       "      <th>0</th>\n",
       "      <td>297.274414</td>\n",
       "    </tr>\n",
       "    <tr>\n",
       "      <th>1</th>\n",
       "      <td>336.525452</td>\n",
       "    </tr>\n",
       "    <tr>\n",
       "      <th>2</th>\n",
       "      <td>250.292557</td>\n",
       "    </tr>\n",
       "    <tr>\n",
       "      <th>3</th>\n",
       "      <td>185.365784</td>\n",
       "    </tr>\n",
       "    <tr>\n",
       "      <th>4</th>\n",
       "      <td>137.304901</td>\n",
       "    </tr>\n",
       "  </tbody>\n",
       "</table>\n",
       "</div>"
      ],
      "text/plain": [
       "        count\n",
       "0  297.274414\n",
       "1  336.525452\n",
       "2  250.292557\n",
       "3  185.365784\n",
       "4  137.304901"
      ]
     },
     "execution_count": 60,
     "metadata": {},
     "output_type": "execute_result"
    }
   ],
   "source": [
    "Y_TEST_PREDICTED = pd.DataFrame(model.predict(X_TEST)).rename(columns = {0:'count'})\n",
    "Y_TEST_PREDICTED.head()"
   ]
  },
  {
   "cell_type": "code",
   "execution_count": 62,
   "id": "a9242735",
   "metadata": {},
   "outputs": [
    {
     "data": {
      "text/html": [
       "<div>\n",
       "<style scoped>\n",
       "    .dataframe tbody tr th:only-of-type {\n",
       "        vertical-align: middle;\n",
       "    }\n",
       "\n",
       "    .dataframe tbody tr th {\n",
       "        vertical-align: top;\n",
       "    }\n",
       "\n",
       "    .dataframe thead th {\n",
       "        text-align: right;\n",
       "    }\n",
       "</style>\n",
       "<table border=\"1\" class=\"dataframe\">\n",
       "  <thead>\n",
       "    <tr style=\"text-align: right;\">\n",
       "      <th></th>\n",
       "      <th>count</th>\n",
       "    </tr>\n",
       "  </thead>\n",
       "  <tbody>\n",
       "    <tr>\n",
       "      <th>0</th>\n",
       "      <td>297.274414</td>\n",
       "    </tr>\n",
       "    <tr>\n",
       "      <th>1</th>\n",
       "      <td>336.525452</td>\n",
       "    </tr>\n",
       "    <tr>\n",
       "      <th>2</th>\n",
       "      <td>250.292557</td>\n",
       "    </tr>\n",
       "    <tr>\n",
       "      <th>3</th>\n",
       "      <td>185.365784</td>\n",
       "    </tr>\n",
       "    <tr>\n",
       "      <th>4</th>\n",
       "      <td>137.304901</td>\n",
       "    </tr>\n",
       "  </tbody>\n",
       "</table>\n",
       "</div>"
      ],
      "text/plain": [
       "        count\n",
       "0  297.274414\n",
       "1  336.525452\n",
       "2  250.292557\n",
       "3  185.365784\n",
       "4  137.304901"
      ]
     },
     "execution_count": 62,
     "metadata": {},
     "output_type": "execute_result"
    }
   ],
   "source": [
    "Y_TEST_PREDICTED[Y_TEST_PREDICTED['count'] < 0] = 0\n",
    "Y_TEST_PREDICTED.head()"
   ]
  },
  {
   "cell_type": "markdown",
   "id": "0ade56fd",
   "metadata": {},
   "source": [
    "모델 평가하기"
   ]
  },
  {
   "cell_type": "code",
   "execution_count": 63,
   "id": "5b6047a0",
   "metadata": {},
   "outputs": [],
   "source": [
    "from sklearn.metrics import r2_score"
   ]
  },
  {
   "cell_type": "code",
   "execution_count": 64,
   "id": "a1ba4c01",
   "metadata": {},
   "outputs": [
    {
     "name": "stdout",
     "output_type": "stream",
     "text": [
      "0.9060919397792939\n"
     ]
    }
   ],
   "source": [
    "print(r2_score(Y_TEST, Y_TEST_PREDICTED))"
   ]
  },
  {
   "cell_type": "code",
   "execution_count": 65,
   "id": "6de1e0d1",
   "metadata": {},
   "outputs": [
    {
     "data": {
      "text/html": [
       "<div>\n",
       "<style scoped>\n",
       "    .dataframe tbody tr th:only-of-type {\n",
       "        vertical-align: middle;\n",
       "    }\n",
       "\n",
       "    .dataframe tbody tr th {\n",
       "        vertical-align: top;\n",
       "    }\n",
       "\n",
       "    .dataframe thead th {\n",
       "        text-align: right;\n",
       "    }\n",
       "</style>\n",
       "<table border=\"1\" class=\"dataframe\">\n",
       "  <thead>\n",
       "    <tr style=\"text-align: right;\">\n",
       "      <th></th>\n",
       "      <th>count</th>\n",
       "    </tr>\n",
       "  </thead>\n",
       "  <tbody>\n",
       "    <tr>\n",
       "      <th>0</th>\n",
       "      <td>130.135010</td>\n",
       "    </tr>\n",
       "    <tr>\n",
       "      <th>1</th>\n",
       "      <td>315.013062</td>\n",
       "    </tr>\n",
       "    <tr>\n",
       "      <th>2</th>\n",
       "      <td>252.175507</td>\n",
       "    </tr>\n",
       "    <tr>\n",
       "      <th>3</th>\n",
       "      <td>189.099167</td>\n",
       "    </tr>\n",
       "    <tr>\n",
       "      <th>4</th>\n",
       "      <td>75.009369</td>\n",
       "    </tr>\n",
       "  </tbody>\n",
       "</table>\n",
       "</div>"
      ],
      "text/plain": [
       "        count\n",
       "0  130.135010\n",
       "1  315.013062\n",
       "2  252.175507\n",
       "3  189.099167\n",
       "4   75.009369"
      ]
     },
     "execution_count": 65,
     "metadata": {},
     "output_type": "execute_result"
    }
   ],
   "source": [
    "Y_TEST_PREDICTED2 = pd.DataFrame(model2.predict(X_TEST)).rename(columns = {0:'count'})\n",
    "Y_TEST_PREDICTED2.head()"
   ]
  },
  {
   "cell_type": "code",
   "execution_count": 66,
   "id": "f32ef778",
   "metadata": {},
   "outputs": [
    {
     "name": "stdout",
     "output_type": "stream",
     "text": [
      "0.9540864454379272\n"
     ]
    }
   ],
   "source": [
    "print(r2_score(Y_TEST, Y_TEST_PREDICTED2))"
   ]
  },
  {
   "cell_type": "markdown",
   "id": "35b521e5",
   "metadata": {},
   "source": [
    "## 3.4 결과 제출하기"
   ]
  },
  {
   "cell_type": "code",
   "execution_count": 67,
   "id": "0f05d380",
   "metadata": {},
   "outputs": [
    {
     "name": "stdout",
     "output_type": "stream",
     "text": [
      "                datetime       count\n",
      "0    2011-01-20 00:00:00    0.000000\n",
      "1    2011-01-20 01:00:00    0.000000\n",
      "2    2011-01-20 02:00:00    0.000000\n",
      "3    2011-01-20 03:00:00    0.000000\n",
      "4    2011-01-20 04:00:00    0.000000\n",
      "...                  ...         ...\n",
      "6488 2012-12-31 19:00:00  287.787628\n",
      "6489 2012-12-31 20:00:00  190.071304\n",
      "6490 2012-12-31 21:00:00  142.587555\n",
      "6491 2012-12-31 22:00:00  103.404312\n",
      "6492 2012-12-31 23:00:00   75.858627\n",
      "\n",
      "[6493 rows x 2 columns]\n"
     ]
    }
   ],
   "source": [
    "print(pd.concat([x_test_datetime, y_test_predicted], axis=1))"
   ]
  },
  {
   "cell_type": "code",
   "execution_count": 68,
   "id": "bb818997",
   "metadata": {},
   "outputs": [],
   "source": [
    "final = pd.concat([x_test_datetime, y_test_predicted], axis=1)\n",
    "final.to_csv('2022.03.03.test', index=False)"
   ]
  },
  {
   "cell_type": "code",
   "execution_count": 70,
   "id": "8fee7812",
   "metadata": {},
   "outputs": [
    {
     "data": {
      "text/html": [
       "<div>\n",
       "<style scoped>\n",
       "    .dataframe tbody tr th:only-of-type {\n",
       "        vertical-align: middle;\n",
       "    }\n",
       "\n",
       "    .dataframe tbody tr th {\n",
       "        vertical-align: top;\n",
       "    }\n",
       "\n",
       "    .dataframe thead th {\n",
       "        text-align: right;\n",
       "    }\n",
       "</style>\n",
       "<table border=\"1\" class=\"dataframe\">\n",
       "  <thead>\n",
       "    <tr style=\"text-align: right;\">\n",
       "      <th></th>\n",
       "      <th>datetime</th>\n",
       "      <th>count</th>\n",
       "    </tr>\n",
       "  </thead>\n",
       "  <tbody>\n",
       "    <tr>\n",
       "      <th>0</th>\n",
       "      <td>2011-01-20 00:00:00</td>\n",
       "      <td>0.0</td>\n",
       "    </tr>\n",
       "    <tr>\n",
       "      <th>1</th>\n",
       "      <td>2011-01-20 01:00:00</td>\n",
       "      <td>0.0</td>\n",
       "    </tr>\n",
       "    <tr>\n",
       "      <th>2</th>\n",
       "      <td>2011-01-20 02:00:00</td>\n",
       "      <td>0.0</td>\n",
       "    </tr>\n",
       "    <tr>\n",
       "      <th>3</th>\n",
       "      <td>2011-01-20 03:00:00</td>\n",
       "      <td>0.0</td>\n",
       "    </tr>\n",
       "    <tr>\n",
       "      <th>4</th>\n",
       "      <td>2011-01-20 04:00:00</td>\n",
       "      <td>0.0</td>\n",
       "    </tr>\n",
       "  </tbody>\n",
       "</table>\n",
       "</div>"
      ],
      "text/plain": [
       "              datetime  count\n",
       "0  2011-01-20 00:00:00    0.0\n",
       "1  2011-01-20 01:00:00    0.0\n",
       "2  2011-01-20 02:00:00    0.0\n",
       "3  2011-01-20 03:00:00    0.0\n",
       "4  2011-01-20 04:00:00    0.0"
      ]
     },
     "execution_count": 70,
     "metadata": {},
     "output_type": "execute_result"
    }
   ],
   "source": [
    "test = pd.read_csv('2022.03.03.test', encoding = 'cp949')\n",
    "test.head()"
   ]
  },
  {
   "cell_type": "markdown",
   "id": "25940d10",
   "metadata": {},
   "source": [
    "최종제출코드"
   ]
  },
  {
   "cell_type": "code",
   "execution_count": 74,
   "id": "7a4cbc71",
   "metadata": {},
   "outputs": [
    {
     "name": "stdout",
     "output_type": "stream",
     "text": [
      "0.9381182890431057\n"
     ]
    }
   ],
   "source": [
    "# 데이터 가져오기\n",
    "import pandas as pd\n",
    "x_train = pd.read_csv('bike_x_train.csv', encoding = 'cp949')\n",
    "x_test = pd.read_csv('bike_x_test.csv', encoding = 'cp949')\n",
    "y_train = pd.read_csv('bike_y_train.csv', encoding = 'cp949')\n",
    "y_train.columns = ['datetime', 'count']\n",
    "\n",
    "# 전처리하기\n",
    "x_train['datetime'] = pd.to_datetime(x_train['datetime'])\n",
    "x_train['year'] = x_train['datetime'].dt.year\n",
    "x_train['hour'] = x_train['datetime'].dt.hour\n",
    "\n",
    "x_test['datetime'] = pd.to_datetime(x_test['datetime'])\n",
    "x_test['year'] = x_test['datetime'].dt.year\n",
    "x_test['hour'] = x_test['datetime'].dt.hour\n",
    "\n",
    "x_test_datetime = x_test['datetime']\n",
    "x_train = x_train.drop(columns = ['datetime'])\n",
    "x_test = x_test.drop(columns = ['datetime'])\n",
    "y_train = y_train.drop(columns = ['datetime'])\n",
    "\n",
    "# 데이터 분리하기\n",
    "from sklearn.model_selection import train_test_split\n",
    "X_TRAIN, X_TEST, Y_TRIAN, Y_TEST = train_test_split(x_train, y_train, test_size = 0.2, random_state = 10)\n",
    "\n",
    "# 모델을 학습하고 테스트 데이터의 종속변수 값을 예측하기\n",
    "from xgboost import XGBRegressor\n",
    "model = XGBRegressor(n_estimators = 200, max_depth = 5, random_state = 10)\n",
    "\n",
    "model.fit(X_TRAIN, Y_TRAIN)\n",
    "y_test_predicted = pd.DataFrame(model.predict(x_test)).rename(columns = {0:'count'})\n",
    "y_test_predicted[y_test_predicted['count'] < 0] = 0\n",
    "\n",
    "Y_TEST_PREDICTED = pd.DataFrame(model.predict(X_TEST)).rename(columns = {0:'count'})\n",
    "Y_TEST_PREDICTED[Y_TEST_PREDICTED['count'] < 0] = 0\n",
    "\n",
    "# 모델 평가하기\n",
    "from sklearn.metrics import r2_score\n",
    "print(r2_score(Y_TEST, Y_TEST_PREDICTED))\n",
    "\n",
    "# 결과 제출하기\n",
    "final = pd.concat([x_test_datetime, y_test_predicted], axis = 1)\n",
    "final.to_csv('2022.03.03.test', index=False)"
   ]
  },
  {
   "cell_type": "code",
   "execution_count": 75,
   "id": "c1dcf631",
   "metadata": {},
   "outputs": [
    {
     "data": {
      "text/html": [
       "<div>\n",
       "<style scoped>\n",
       "    .dataframe tbody tr th:only-of-type {\n",
       "        vertical-align: middle;\n",
       "    }\n",
       "\n",
       "    .dataframe tbody tr th {\n",
       "        vertical-align: top;\n",
       "    }\n",
       "\n",
       "    .dataframe thead th {\n",
       "        text-align: right;\n",
       "    }\n",
       "</style>\n",
       "<table border=\"1\" class=\"dataframe\">\n",
       "  <thead>\n",
       "    <tr style=\"text-align: right;\">\n",
       "      <th></th>\n",
       "      <th>count</th>\n",
       "    </tr>\n",
       "  </thead>\n",
       "  <tbody>\n",
       "    <tr>\n",
       "      <th>0</th>\n",
       "      <td>16</td>\n",
       "    </tr>\n",
       "    <tr>\n",
       "      <th>1</th>\n",
       "      <td>40</td>\n",
       "    </tr>\n",
       "    <tr>\n",
       "      <th>2</th>\n",
       "      <td>32</td>\n",
       "    </tr>\n",
       "    <tr>\n",
       "      <th>3</th>\n",
       "      <td>13</td>\n",
       "    </tr>\n",
       "    <tr>\n",
       "      <th>4</th>\n",
       "      <td>1</td>\n",
       "    </tr>\n",
       "  </tbody>\n",
       "</table>\n",
       "</div>"
      ],
      "text/plain": [
       "   count\n",
       "0     16\n",
       "1     40\n",
       "2     32\n",
       "3     13\n",
       "4      1"
      ]
     },
     "execution_count": 75,
     "metadata": {},
     "output_type": "execute_result"
    }
   ],
   "source": [
    "y_train.head()"
   ]
  },
  {
   "cell_type": "code",
   "execution_count": null,
   "id": "cffd2148",
   "metadata": {},
   "outputs": [],
   "source": []
  }
 ],
 "metadata": {
  "kernelspec": {
   "display_name": "Python 3",
   "language": "python",
   "name": "python3"
  },
  "language_info": {
   "codemirror_mode": {
    "name": "ipython",
    "version": 3
   },
   "file_extension": ".py",
   "mimetype": "text/x-python",
   "name": "python",
   "nbconvert_exporter": "python",
   "pygments_lexer": "ipython3",
   "version": "3.8.8"
  }
 },
 "nbformat": 4,
 "nbformat_minor": 5
}
