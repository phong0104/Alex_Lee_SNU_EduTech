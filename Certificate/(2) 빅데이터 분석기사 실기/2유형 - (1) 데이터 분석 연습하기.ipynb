{
 "cells": [
  {
   "cell_type": "markdown",
   "id": "b712bc14",
   "metadata": {},
   "source": [
    "## 1.1 데이터 탐색하기"
   ]
  },
  {
   "cell_type": "markdown",
   "id": "c8ffa451",
   "metadata": {},
   "source": [
    "데이터 가져오기"
   ]
  },
  {
   "cell_type": "code",
   "execution_count": 1,
   "id": "09164879",
   "metadata": {},
   "outputs": [],
   "source": [
    "import pandas as pd\n",
    "x_train = pd.read_csv('x_train.csv', encoding = 'cp949')\n",
    "x_test = pd.read_csv('x_test.csv', encoding = 'cp949')\n",
    "y_train = pd.read_csv('y_train.csv', encoding = 'cp949')"
   ]
  },
  {
   "cell_type": "code",
   "execution_count": 2,
   "id": "a7161c72",
   "metadata": {},
   "outputs": [
    {
     "name": "stdout",
     "output_type": "stream",
     "text": [
      "   cust_id      총구매액     최대구매액       환불금액   주구매상품 주구매지점  내점일수   내점당구매건수  \\\n",
      "0        0  68282840  11264000  6860000.0      기타   강남점    19  3.894737   \n",
      "1        1   2136000   2136000   300000.0     스포츠   잠실점     2  1.500000   \n",
      "2        2   3197000   1639000        NaN  남성 캐주얼   관악점     2  2.000000   \n",
      "3        3  16077620   4935000        NaN      기타   광주점    18  2.444444   \n",
      "4        4  29050000  24000000        NaN      보석  본  점     2  1.500000   \n",
      "\n",
      "     주말방문비율  구매주기  \n",
      "0  0.527027    17  \n",
      "1  0.000000     1  \n",
      "2  0.000000     1  \n",
      "3  0.318182    16  \n",
      "4  0.000000    85  \n"
     ]
    }
   ],
   "source": [
    "print(x_train.head())"
   ]
  },
  {
   "cell_type": "code",
   "execution_count": 3,
   "id": "b304cdff",
   "metadata": {},
   "outputs": [
    {
     "name": "stdout",
     "output_type": "stream",
     "text": [
      "   cust_id       총구매액     최대구매액        환불금액 주구매상품 주구매지점  내점일수    내점당구매건수  \\\n",
      "0     3500   70900400  22000000   4050000.0    골프  부산본점    13   1.461538   \n",
      "1     3501  310533100  38558000  48034700.0   농산물   잠실점    90   2.433333   \n",
      "2     3502  305264140  14825000  30521000.0  가공식품  본  점   101  14.623762   \n",
      "3     3503    7594080   5225000         NaN  주방용품  부산본점     5   2.000000   \n",
      "4     3504    1795790   1411200         NaN   수산품  청량리점     3   2.666667   \n",
      "\n",
      "     주말방문비율  구매주기  \n",
      "0  0.789474    26  \n",
      "1  0.369863     3  \n",
      "2  0.083277     3  \n",
      "3  0.000000    47  \n",
      "4  0.125000     8  \n"
     ]
    }
   ],
   "source": [
    "print(x_test.head())"
   ]
  },
  {
   "cell_type": "code",
   "execution_count": 4,
   "id": "b7d62dcd",
   "metadata": {},
   "outputs": [
    {
     "name": "stdout",
     "output_type": "stream",
     "text": [
      "   cust_id  gender\n",
      "0        0       0\n",
      "1        1       0\n",
      "2        2       1\n",
      "3        3       1\n",
      "4        4       0\n"
     ]
    }
   ],
   "source": [
    "print(y_train.head())"
   ]
  },
  {
   "cell_type": "markdown",
   "id": "3d3d1ea9",
   "metadata": {},
   "source": [
    "(1) T, transpose() 함수를 통해 데이터의 방향을 행에서 열 방향으로 바꾸기"
   ]
  },
  {
   "cell_type": "code",
   "execution_count": 5,
   "id": "105c6df6",
   "metadata": {},
   "outputs": [
    {
     "name": "stdout",
     "output_type": "stream",
     "text": [
      "                 0         1        2         3         4\n",
      "cust_id          0         1        2         3         4\n",
      "총구매액      68282840   2136000  3197000  16077620  29050000\n",
      "최대구매액     11264000   2136000  1639000   4935000  24000000\n",
      "환불금액     6860000.0  300000.0      NaN       NaN       NaN\n",
      "주구매상품           기타       스포츠   남성 캐주얼        기타        보석\n",
      "주구매지점          강남점       잠실점      관악점       광주점      본  점\n",
      "내점일수            19         2        2        18         2\n",
      "내점당구매건수   3.894737       1.5      2.0  2.444444       1.5\n",
      "주말방문비율    0.527027       0.0      0.0  0.318182       0.0\n",
      "구매주기            17         1        1        16        85\n"
     ]
    }
   ],
   "source": [
    "print(x_train.head().T)"
   ]
  },
  {
   "cell_type": "code",
   "execution_count": 6,
   "id": "8c50b7f2",
   "metadata": {},
   "outputs": [
    {
     "name": "stdout",
     "output_type": "stream",
     "text": [
      "                 0         1        2         3         4\n",
      "cust_id          0         1        2         3         4\n",
      "총구매액      68282840   2136000  3197000  16077620  29050000\n",
      "최대구매액     11264000   2136000  1639000   4935000  24000000\n",
      "환불금액     6860000.0  300000.0      NaN       NaN       NaN\n",
      "주구매상품           기타       스포츠   남성 캐주얼        기타        보석\n",
      "주구매지점          강남점       잠실점      관악점       광주점      본  점\n",
      "내점일수            19         2        2        18         2\n",
      "내점당구매건수   3.894737       1.5      2.0  2.444444       1.5\n",
      "주말방문비율    0.527027       0.0      0.0  0.318182       0.0\n",
      "구매주기            17         1        1        16        85\n"
     ]
    }
   ],
   "source": [
    "print(x_train.head().transpose())"
   ]
  },
  {
   "cell_type": "markdown",
   "id": "05259fa7",
   "metadata": {},
   "source": [
    "(2) 전체 칼럼을 출력하는 옵션 설정하기"
   ]
  },
  {
   "cell_type": "code",
   "execution_count": 7,
   "id": "1e689799",
   "metadata": {},
   "outputs": [
    {
     "name": "stdout",
     "output_type": "stream",
     "text": [
      "   cust_id      총구매액  ...    주말방문비율  구매주기\n",
      "0        0  68282840  ...  0.527027    17\n",
      "1        1   2136000  ...  0.000000     1\n",
      "2        2   3197000  ...  0.000000     1\n",
      "3        3  16077620  ...  0.318182    16\n",
      "4        4  29050000  ...  0.000000    85\n",
      "\n",
      "[5 rows x 10 columns]\n"
     ]
    }
   ],
   "source": [
    "pd.options.display.max_columns = 5\n",
    "print(x_train.head())"
   ]
  },
  {
   "cell_type": "code",
   "execution_count": 8,
   "id": "d0687377",
   "metadata": {},
   "outputs": [
    {
     "name": "stdout",
     "output_type": "stream",
     "text": [
      "   cust_id      총구매액     최대구매액       환불금액   주구매상품 주구매지점  내점일수   내점당구매건수  \\\n",
      "0        0  68282840  11264000  6860000.0      기타   강남점    19  3.894737   \n",
      "1        1   2136000   2136000   300000.0     스포츠   잠실점     2  1.500000   \n",
      "2        2   3197000   1639000        NaN  남성 캐주얼   관악점     2  2.000000   \n",
      "3        3  16077620   4935000        NaN      기타   광주점    18  2.444444   \n",
      "4        4  29050000  24000000        NaN      보석  본  점     2  1.500000   \n",
      "\n",
      "     주말방문비율  구매주기  \n",
      "0  0.527027    17  \n",
      "1  0.000000     1  \n",
      "2  0.000000     1  \n",
      "3  0.318182    16  \n",
      "4  0.000000    85  \n"
     ]
    }
   ],
   "source": [
    "pd.options.display.max_columns = None\n",
    "print(x_train.head())"
   ]
  },
  {
   "cell_type": "markdown",
   "id": "656652e1",
   "metadata": {},
   "source": [
    "행/열 확인하기"
   ]
  },
  {
   "cell_type": "code",
   "execution_count": 9,
   "id": "06bc1486",
   "metadata": {},
   "outputs": [
    {
     "name": "stdout",
     "output_type": "stream",
     "text": [
      "(3500, 10)\n"
     ]
    }
   ],
   "source": [
    "print(x_train.shape)"
   ]
  },
  {
   "cell_type": "code",
   "execution_count": 10,
   "id": "0ee5700c",
   "metadata": {},
   "outputs": [
    {
     "name": "stdout",
     "output_type": "stream",
     "text": [
      "(2482, 10)\n"
     ]
    }
   ],
   "source": [
    "print(x_test.shape)"
   ]
  },
  {
   "cell_type": "code",
   "execution_count": 11,
   "id": "ab79b48a",
   "metadata": {},
   "outputs": [
    {
     "name": "stdout",
     "output_type": "stream",
     "text": [
      "(3500, 2)\n"
     ]
    }
   ],
   "source": [
    "print(y_train.shape)"
   ]
  },
  {
   "cell_type": "markdown",
   "id": "324aee7b",
   "metadata": {},
   "source": [
    "요약정보 확인하기"
   ]
  },
  {
   "cell_type": "code",
   "execution_count": 12,
   "id": "98ebba3a",
   "metadata": {},
   "outputs": [
    {
     "name": "stdout",
     "output_type": "stream",
     "text": [
      "<class 'pandas.core.frame.DataFrame'>\n",
      "RangeIndex: 3500 entries, 0 to 3499\n",
      "Data columns (total 10 columns):\n",
      " #   Column   Non-Null Count  Dtype  \n",
      "---  ------   --------------  -----  \n",
      " 0   cust_id  3500 non-null   int64  \n",
      " 1   총구매액     3500 non-null   int64  \n",
      " 2   최대구매액    3500 non-null   int64  \n",
      " 3   환불금액     1205 non-null   float64\n",
      " 4   주구매상품    3500 non-null   object \n",
      " 5   주구매지점    3500 non-null   object \n",
      " 6   내점일수     3500 non-null   int64  \n",
      " 7   내점당구매건수  3500 non-null   float64\n",
      " 8   주말방문비율   3500 non-null   float64\n",
      " 9   구매주기     3500 non-null   int64  \n",
      "dtypes: float64(3), int64(5), object(2)\n",
      "memory usage: 273.6+ KB\n",
      "None\n"
     ]
    }
   ],
   "source": [
    "print(x_train.info())"
   ]
  },
  {
   "cell_type": "code",
   "execution_count": 13,
   "id": "38829e04",
   "metadata": {},
   "outputs": [
    {
     "name": "stdout",
     "output_type": "stream",
     "text": [
      "<class 'pandas.core.frame.DataFrame'>\n",
      "RangeIndex: 2482 entries, 0 to 2481\n",
      "Data columns (total 10 columns):\n",
      " #   Column   Non-Null Count  Dtype  \n",
      "---  ------   --------------  -----  \n",
      " 0   cust_id  2482 non-null   int64  \n",
      " 1   총구매액     2482 non-null   int64  \n",
      " 2   최대구매액    2482 non-null   int64  \n",
      " 3   환불금액     871 non-null    float64\n",
      " 4   주구매상품    2482 non-null   object \n",
      " 5   주구매지점    2482 non-null   object \n",
      " 6   내점일수     2482 non-null   int64  \n",
      " 7   내점당구매건수  2482 non-null   float64\n",
      " 8   주말방문비율   2482 non-null   float64\n",
      " 9   구매주기     2482 non-null   int64  \n",
      "dtypes: float64(3), int64(5), object(2)\n",
      "memory usage: 194.0+ KB\n",
      "None\n"
     ]
    }
   ],
   "source": [
    "print(x_test.info())"
   ]
  },
  {
   "cell_type": "markdown",
   "id": "10cb9330",
   "metadata": {},
   "source": [
    "기초 통계량 확인하기"
   ]
  },
  {
   "cell_type": "code",
   "execution_count": 14,
   "id": "1f540737",
   "metadata": {},
   "outputs": [
    {
     "data": {
      "text/html": [
       "<div>\n",
       "<style scoped>\n",
       "    .dataframe tbody tr th:only-of-type {\n",
       "        vertical-align: middle;\n",
       "    }\n",
       "\n",
       "    .dataframe tbody tr th {\n",
       "        vertical-align: top;\n",
       "    }\n",
       "\n",
       "    .dataframe thead th {\n",
       "        text-align: right;\n",
       "    }\n",
       "</style>\n",
       "<table border=\"1\" class=\"dataframe\">\n",
       "  <thead>\n",
       "    <tr style=\"text-align: right;\">\n",
       "      <th></th>\n",
       "      <th>count</th>\n",
       "      <th>mean</th>\n",
       "      <th>std</th>\n",
       "      <th>min</th>\n",
       "      <th>25%</th>\n",
       "      <th>50%</th>\n",
       "      <th>75%</th>\n",
       "      <th>max</th>\n",
       "    </tr>\n",
       "  </thead>\n",
       "  <tbody>\n",
       "    <tr>\n",
       "      <th>cust_id</th>\n",
       "      <td>3500.0</td>\n",
       "      <td>1.749500e+03</td>\n",
       "      <td>1.010507e+03</td>\n",
       "      <td>0.0</td>\n",
       "      <td>8.747500e+02</td>\n",
       "      <td>1.749500e+03</td>\n",
       "      <td>2.624250e+03</td>\n",
       "      <td>3.499000e+03</td>\n",
       "    </tr>\n",
       "    <tr>\n",
       "      <th>총구매액</th>\n",
       "      <td>3500.0</td>\n",
       "      <td>9.191925e+07</td>\n",
       "      <td>1.635065e+08</td>\n",
       "      <td>-52421520.0</td>\n",
       "      <td>4.747050e+06</td>\n",
       "      <td>2.822270e+07</td>\n",
       "      <td>1.065079e+08</td>\n",
       "      <td>2.323180e+09</td>\n",
       "    </tr>\n",
       "    <tr>\n",
       "      <th>최대구매액</th>\n",
       "      <td>3500.0</td>\n",
       "      <td>1.966424e+07</td>\n",
       "      <td>3.199235e+07</td>\n",
       "      <td>-2992000.0</td>\n",
       "      <td>2.875000e+06</td>\n",
       "      <td>9.837000e+06</td>\n",
       "      <td>2.296250e+07</td>\n",
       "      <td>7.066290e+08</td>\n",
       "    </tr>\n",
       "    <tr>\n",
       "      <th>환불금액</th>\n",
       "      <td>1205.0</td>\n",
       "      <td>2.407822e+07</td>\n",
       "      <td>4.746453e+07</td>\n",
       "      <td>5600.0</td>\n",
       "      <td>2.259000e+06</td>\n",
       "      <td>7.392000e+06</td>\n",
       "      <td>2.412000e+07</td>\n",
       "      <td>5.637530e+08</td>\n",
       "    </tr>\n",
       "    <tr>\n",
       "      <th>내점일수</th>\n",
       "      <td>3500.0</td>\n",
       "      <td>1.925371e+01</td>\n",
       "      <td>2.717494e+01</td>\n",
       "      <td>1.0</td>\n",
       "      <td>2.000000e+00</td>\n",
       "      <td>8.000000e+00</td>\n",
       "      <td>2.500000e+01</td>\n",
       "      <td>2.850000e+02</td>\n",
       "    </tr>\n",
       "    <tr>\n",
       "      <th>내점당구매건수</th>\n",
       "      <td>3500.0</td>\n",
       "      <td>2.834963e+00</td>\n",
       "      <td>1.912368e+00</td>\n",
       "      <td>1.0</td>\n",
       "      <td>1.666667e+00</td>\n",
       "      <td>2.333333e+00</td>\n",
       "      <td>3.375000e+00</td>\n",
       "      <td>2.208333e+01</td>\n",
       "    </tr>\n",
       "    <tr>\n",
       "      <th>주말방문비율</th>\n",
       "      <td>3500.0</td>\n",
       "      <td>3.072463e-01</td>\n",
       "      <td>2.897516e-01</td>\n",
       "      <td>0.0</td>\n",
       "      <td>2.729090e-02</td>\n",
       "      <td>2.564103e-01</td>\n",
       "      <td>4.489796e-01</td>\n",
       "      <td>1.000000e+00</td>\n",
       "    </tr>\n",
       "    <tr>\n",
       "      <th>구매주기</th>\n",
       "      <td>3500.0</td>\n",
       "      <td>2.095829e+01</td>\n",
       "      <td>2.474868e+01</td>\n",
       "      <td>0.0</td>\n",
       "      <td>4.000000e+00</td>\n",
       "      <td>1.300000e+01</td>\n",
       "      <td>2.800000e+01</td>\n",
       "      <td>1.660000e+02</td>\n",
       "    </tr>\n",
       "  </tbody>\n",
       "</table>\n",
       "</div>"
      ],
      "text/plain": [
       "          count          mean           std         min           25%  \\\n",
       "cust_id  3500.0  1.749500e+03  1.010507e+03         0.0  8.747500e+02   \n",
       "총구매액     3500.0  9.191925e+07  1.635065e+08 -52421520.0  4.747050e+06   \n",
       "최대구매액    3500.0  1.966424e+07  3.199235e+07  -2992000.0  2.875000e+06   \n",
       "환불금액     1205.0  2.407822e+07  4.746453e+07      5600.0  2.259000e+06   \n",
       "내점일수     3500.0  1.925371e+01  2.717494e+01         1.0  2.000000e+00   \n",
       "내점당구매건수  3500.0  2.834963e+00  1.912368e+00         1.0  1.666667e+00   \n",
       "주말방문비율   3500.0  3.072463e-01  2.897516e-01         0.0  2.729090e-02   \n",
       "구매주기     3500.0  2.095829e+01  2.474868e+01         0.0  4.000000e+00   \n",
       "\n",
       "                  50%           75%           max  \n",
       "cust_id  1.749500e+03  2.624250e+03  3.499000e+03  \n",
       "총구매액     2.822270e+07  1.065079e+08  2.323180e+09  \n",
       "최대구매액    9.837000e+06  2.296250e+07  7.066290e+08  \n",
       "환불금액     7.392000e+06  2.412000e+07  5.637530e+08  \n",
       "내점일수     8.000000e+00  2.500000e+01  2.850000e+02  \n",
       "내점당구매건수  2.333333e+00  3.375000e+00  2.208333e+01  \n",
       "주말방문비율   2.564103e-01  4.489796e-01  1.000000e+00  \n",
       "구매주기     1.300000e+01  2.800000e+01  1.660000e+02  "
      ]
     },
     "execution_count": 14,
     "metadata": {},
     "output_type": "execute_result"
    }
   ],
   "source": [
    "x_train.describe().T"
   ]
  },
  {
   "cell_type": "markdown",
   "id": "31b41cd1",
   "metadata": {},
   "source": [
    "## 1.2 전처리하기"
   ]
  },
  {
   "cell_type": "markdown",
   "id": "47fd3455",
   "metadata": {},
   "source": [
    "불필요한 칼럼 삭제하기"
   ]
  },
  {
   "cell_type": "code",
   "execution_count": 15,
   "id": "f0bfd660",
   "metadata": {
    "scrolled": true
   },
   "outputs": [],
   "source": [
    "x_test_cust_id = x_test['cust_id']\n",
    "x_train = x_train.drop(columns = ['cust_id'])\n",
    "y_train = y_train.drop(columns = ['cust_id'])\n",
    "x_test = x_test.drop(columns = ['cust_id'])"
   ]
  },
  {
   "cell_type": "code",
   "execution_count": 16,
   "id": "d765697a",
   "metadata": {},
   "outputs": [
    {
     "data": {
      "text/html": [
       "<div>\n",
       "<style scoped>\n",
       "    .dataframe tbody tr th:only-of-type {\n",
       "        vertical-align: middle;\n",
       "    }\n",
       "\n",
       "    .dataframe tbody tr th {\n",
       "        vertical-align: top;\n",
       "    }\n",
       "\n",
       "    .dataframe thead th {\n",
       "        text-align: right;\n",
       "    }\n",
       "</style>\n",
       "<table border=\"1\" class=\"dataframe\">\n",
       "  <thead>\n",
       "    <tr style=\"text-align: right;\">\n",
       "      <th></th>\n",
       "      <th>총구매액</th>\n",
       "      <th>최대구매액</th>\n",
       "      <th>환불금액</th>\n",
       "      <th>주구매상품</th>\n",
       "      <th>주구매지점</th>\n",
       "      <th>내점일수</th>\n",
       "      <th>내점당구매건수</th>\n",
       "      <th>주말방문비율</th>\n",
       "      <th>구매주기</th>\n",
       "    </tr>\n",
       "  </thead>\n",
       "  <tbody>\n",
       "    <tr>\n",
       "      <th>0</th>\n",
       "      <td>68282840</td>\n",
       "      <td>11264000</td>\n",
       "      <td>6860000.0</td>\n",
       "      <td>기타</td>\n",
       "      <td>강남점</td>\n",
       "      <td>19</td>\n",
       "      <td>3.894737</td>\n",
       "      <td>0.527027</td>\n",
       "      <td>17</td>\n",
       "    </tr>\n",
       "    <tr>\n",
       "      <th>1</th>\n",
       "      <td>2136000</td>\n",
       "      <td>2136000</td>\n",
       "      <td>300000.0</td>\n",
       "      <td>스포츠</td>\n",
       "      <td>잠실점</td>\n",
       "      <td>2</td>\n",
       "      <td>1.500000</td>\n",
       "      <td>0.000000</td>\n",
       "      <td>1</td>\n",
       "    </tr>\n",
       "    <tr>\n",
       "      <th>2</th>\n",
       "      <td>3197000</td>\n",
       "      <td>1639000</td>\n",
       "      <td>NaN</td>\n",
       "      <td>남성 캐주얼</td>\n",
       "      <td>관악점</td>\n",
       "      <td>2</td>\n",
       "      <td>2.000000</td>\n",
       "      <td>0.000000</td>\n",
       "      <td>1</td>\n",
       "    </tr>\n",
       "    <tr>\n",
       "      <th>3</th>\n",
       "      <td>16077620</td>\n",
       "      <td>4935000</td>\n",
       "      <td>NaN</td>\n",
       "      <td>기타</td>\n",
       "      <td>광주점</td>\n",
       "      <td>18</td>\n",
       "      <td>2.444444</td>\n",
       "      <td>0.318182</td>\n",
       "      <td>16</td>\n",
       "    </tr>\n",
       "    <tr>\n",
       "      <th>4</th>\n",
       "      <td>29050000</td>\n",
       "      <td>24000000</td>\n",
       "      <td>NaN</td>\n",
       "      <td>보석</td>\n",
       "      <td>본  점</td>\n",
       "      <td>2</td>\n",
       "      <td>1.500000</td>\n",
       "      <td>0.000000</td>\n",
       "      <td>85</td>\n",
       "    </tr>\n",
       "  </tbody>\n",
       "</table>\n",
       "</div>"
      ],
      "text/plain": [
       "       총구매액     최대구매액       환불금액   주구매상품 주구매지점  내점일수   내점당구매건수    주말방문비율  구매주기\n",
       "0  68282840  11264000  6860000.0      기타   강남점    19  3.894737  0.527027    17\n",
       "1   2136000   2136000   300000.0     스포츠   잠실점     2  1.500000  0.000000     1\n",
       "2   3197000   1639000        NaN  남성 캐주얼   관악점     2  2.000000  0.000000     1\n",
       "3  16077620   4935000        NaN      기타   광주점    18  2.444444  0.318182    16\n",
       "4  29050000  24000000        NaN      보석  본  점     2  1.500000  0.000000    85"
      ]
     },
     "execution_count": 16,
     "metadata": {},
     "output_type": "execute_result"
    }
   ],
   "source": [
    "x_train.head()"
   ]
  },
  {
   "cell_type": "code",
   "execution_count": 17,
   "id": "5175fd58",
   "metadata": {},
   "outputs": [
    {
     "data": {
      "text/html": [
       "<div>\n",
       "<style scoped>\n",
       "    .dataframe tbody tr th:only-of-type {\n",
       "        vertical-align: middle;\n",
       "    }\n",
       "\n",
       "    .dataframe tbody tr th {\n",
       "        vertical-align: top;\n",
       "    }\n",
       "\n",
       "    .dataframe thead th {\n",
       "        text-align: right;\n",
       "    }\n",
       "</style>\n",
       "<table border=\"1\" class=\"dataframe\">\n",
       "  <thead>\n",
       "    <tr style=\"text-align: right;\">\n",
       "      <th></th>\n",
       "      <th>gender</th>\n",
       "    </tr>\n",
       "  </thead>\n",
       "  <tbody>\n",
       "    <tr>\n",
       "      <th>0</th>\n",
       "      <td>0</td>\n",
       "    </tr>\n",
       "    <tr>\n",
       "      <th>1</th>\n",
       "      <td>0</td>\n",
       "    </tr>\n",
       "    <tr>\n",
       "      <th>2</th>\n",
       "      <td>1</td>\n",
       "    </tr>\n",
       "    <tr>\n",
       "      <th>3</th>\n",
       "      <td>1</td>\n",
       "    </tr>\n",
       "    <tr>\n",
       "      <th>4</th>\n",
       "      <td>0</td>\n",
       "    </tr>\n",
       "  </tbody>\n",
       "</table>\n",
       "</div>"
      ],
      "text/plain": [
       "   gender\n",
       "0       0\n",
       "1       0\n",
       "2       1\n",
       "3       1\n",
       "4       0"
      ]
     },
     "execution_count": 17,
     "metadata": {},
     "output_type": "execute_result"
    }
   ],
   "source": [
    "y_train.head()"
   ]
  },
  {
   "cell_type": "markdown",
   "id": "a274a324",
   "metadata": {},
   "source": [
    "결측치 처리하기"
   ]
  },
  {
   "cell_type": "code",
   "execution_count": 18,
   "id": "674a7368",
   "metadata": {},
   "outputs": [
    {
     "name": "stdout",
     "output_type": "stream",
     "text": [
      "총구매액          0\n",
      "최대구매액         0\n",
      "환불금액       2295\n",
      "주구매상품         0\n",
      "주구매지점         0\n",
      "내점일수          0\n",
      "내점당구매건수       0\n",
      "주말방문비율        0\n",
      "구매주기          0\n",
      "dtype: int64\n"
     ]
    }
   ],
   "source": [
    "print(x_train.isna().sum())"
   ]
  },
  {
   "cell_type": "code",
   "execution_count": 19,
   "id": "c6a0f239",
   "metadata": {},
   "outputs": [
    {
     "name": "stdout",
     "output_type": "stream",
     "text": [
      "총구매액       0\n",
      "최대구매액      0\n",
      "환불금액       0\n",
      "주구매상품      0\n",
      "주구매지점      0\n",
      "내점일수       0\n",
      "내점당구매건수    0\n",
      "주말방문비율     0\n",
      "구매주기       0\n",
      "dtype: int64\n",
      "총구매액       0\n",
      "최대구매액      0\n",
      "환불금액       0\n",
      "주구매상품      0\n",
      "주구매지점      0\n",
      "내점일수       0\n",
      "내점당구매건수    0\n",
      "주말방문비율     0\n",
      "구매주기       0\n",
      "dtype: int64\n"
     ]
    }
   ],
   "source": [
    "# '환불금액' 칼럼의 결측치는 0으로 대치하기\n",
    "x_train['환불금액'] = x_train['환불금액'].fillna(0)\n",
    "x_test['환불금액'] = x_test['환불금액'].fillna(0)\n",
    "\n",
    "# 결측치가 조치되었는지 '환불금액' 칼럼의 결측치 개수를 확인하기\n",
    "print(x_train.isna().sum())\n",
    "print(x_test.isna().sum())"
   ]
  },
  {
   "cell_type": "markdown",
   "id": "b9294a7c",
   "metadata": {},
   "source": [
    "범주형 변수를 인코딩하기"
   ]
  },
  {
   "cell_type": "code",
   "execution_count": 20,
   "id": "cb0f814a",
   "metadata": {},
   "outputs": [
    {
     "data": {
      "text/html": [
       "<div>\n",
       "<style scoped>\n",
       "    .dataframe tbody tr th:only-of-type {\n",
       "        vertical-align: middle;\n",
       "    }\n",
       "\n",
       "    .dataframe tbody tr th {\n",
       "        vertical-align: top;\n",
       "    }\n",
       "\n",
       "    .dataframe thead th {\n",
       "        text-align: right;\n",
       "    }\n",
       "</style>\n",
       "<table border=\"1\" class=\"dataframe\">\n",
       "  <thead>\n",
       "    <tr style=\"text-align: right;\">\n",
       "      <th></th>\n",
       "      <th>총구매액</th>\n",
       "      <th>최대구매액</th>\n",
       "      <th>환불금액</th>\n",
       "      <th>주구매상품</th>\n",
       "      <th>주구매지점</th>\n",
       "      <th>내점일수</th>\n",
       "      <th>내점당구매건수</th>\n",
       "      <th>주말방문비율</th>\n",
       "      <th>구매주기</th>\n",
       "    </tr>\n",
       "  </thead>\n",
       "  <tbody>\n",
       "    <tr>\n",
       "      <th>0</th>\n",
       "      <td>68282840</td>\n",
       "      <td>11264000</td>\n",
       "      <td>6860000.0</td>\n",
       "      <td>기타</td>\n",
       "      <td>강남점</td>\n",
       "      <td>19</td>\n",
       "      <td>3.894737</td>\n",
       "      <td>0.527027</td>\n",
       "      <td>17</td>\n",
       "    </tr>\n",
       "    <tr>\n",
       "      <th>1</th>\n",
       "      <td>2136000</td>\n",
       "      <td>2136000</td>\n",
       "      <td>300000.0</td>\n",
       "      <td>스포츠</td>\n",
       "      <td>잠실점</td>\n",
       "      <td>2</td>\n",
       "      <td>1.500000</td>\n",
       "      <td>0.000000</td>\n",
       "      <td>1</td>\n",
       "    </tr>\n",
       "    <tr>\n",
       "      <th>2</th>\n",
       "      <td>3197000</td>\n",
       "      <td>1639000</td>\n",
       "      <td>0.0</td>\n",
       "      <td>남성 캐주얼</td>\n",
       "      <td>관악점</td>\n",
       "      <td>2</td>\n",
       "      <td>2.000000</td>\n",
       "      <td>0.000000</td>\n",
       "      <td>1</td>\n",
       "    </tr>\n",
       "    <tr>\n",
       "      <th>3</th>\n",
       "      <td>16077620</td>\n",
       "      <td>4935000</td>\n",
       "      <td>0.0</td>\n",
       "      <td>기타</td>\n",
       "      <td>광주점</td>\n",
       "      <td>18</td>\n",
       "      <td>2.444444</td>\n",
       "      <td>0.318182</td>\n",
       "      <td>16</td>\n",
       "    </tr>\n",
       "    <tr>\n",
       "      <th>4</th>\n",
       "      <td>29050000</td>\n",
       "      <td>24000000</td>\n",
       "      <td>0.0</td>\n",
       "      <td>보석</td>\n",
       "      <td>본  점</td>\n",
       "      <td>2</td>\n",
       "      <td>1.500000</td>\n",
       "      <td>0.000000</td>\n",
       "      <td>85</td>\n",
       "    </tr>\n",
       "  </tbody>\n",
       "</table>\n",
       "</div>"
      ],
      "text/plain": [
       "       총구매액     최대구매액       환불금액   주구매상품 주구매지점  내점일수   내점당구매건수    주말방문비율  구매주기\n",
       "0  68282840  11264000  6860000.0      기타   강남점    19  3.894737  0.527027    17\n",
       "1   2136000   2136000   300000.0     스포츠   잠실점     2  1.500000  0.000000     1\n",
       "2   3197000   1639000        0.0  남성 캐주얼   관악점     2  2.000000  0.000000     1\n",
       "3  16077620   4935000        0.0      기타   광주점    18  2.444444  0.318182    16\n",
       "4  29050000  24000000        0.0      보석  본  점     2  1.500000  0.000000    85"
      ]
     },
     "execution_count": 20,
     "metadata": {},
     "output_type": "execute_result"
    }
   ],
   "source": [
    "x_train.head()"
   ]
  },
  {
   "cell_type": "code",
   "execution_count": 21,
   "id": "d489b199",
   "metadata": {},
   "outputs": [
    {
     "name": "stdout",
     "output_type": "stream",
     "text": [
      "['기타' '스포츠' '남성 캐주얼' '보석' '디자이너' '시티웨어' '명품' '농산물' '화장품' '골프' '구두' '가공식품'\n",
      " '수산품' '아동' '차/커피' '캐주얼' '섬유잡화' '육류' '축산가공' '젓갈/반찬' '액세서리' '피혁잡화' '일용잡화'\n",
      " '주방가전' '주방용품' '건강식품' '가구' '주류' '모피/피혁' '남성 트랜디' '셔츠' '남성정장' '생활잡화'\n",
      " '트래디셔널' '란제리/내의' '커리어' '침구/수예' '대형가전' '통신/컴퓨터' '식기' '소형가전' '악기']\n"
     ]
    }
   ],
   "source": [
    "print(x_train['주구매상품'].unique())"
   ]
  },
  {
   "cell_type": "code",
   "execution_count": 22,
   "id": "6baf20f4",
   "metadata": {},
   "outputs": [
    {
     "name": "stdout",
     "output_type": "stream",
     "text": [
      "42\n"
     ]
    }
   ],
   "source": [
    "print(x_train['주구매상품'].unique().size)"
   ]
  },
  {
   "cell_type": "code",
   "execution_count": 23,
   "id": "4090373b",
   "metadata": {},
   "outputs": [
    {
     "name": "stdout",
     "output_type": "stream",
     "text": [
      "['강남점' '잠실점' '관악점' '광주점' '본  점' '일산점' '대전점' '부산본점' '분당점' '영등포점' '미아점'\n",
      " '청량리점' '안양점' '부평점' '동래점' '포항점' '노원점' '창원점' '센텀시티점' '인천점' '대구점' '전주점'\n",
      " '울산점' '상인점']\n"
     ]
    }
   ],
   "source": [
    "print(x_train['주구매지점'].unique())"
   ]
  },
  {
   "cell_type": "code",
   "execution_count": 24,
   "id": "2bb1c68d",
   "metadata": {},
   "outputs": [
    {
     "name": "stdout",
     "output_type": "stream",
     "text": [
      "24\n"
     ]
    }
   ],
   "source": [
    "print(x_train['주구매지점'].unique().size)"
   ]
  },
  {
   "cell_type": "code",
   "execution_count": 25,
   "id": "eb3f1ad8",
   "metadata": {},
   "outputs": [],
   "source": [
    "# sklearn 패키지의 preprocessing 모듈에서 LabelEncoder 함수를 가져오기\n",
    "from sklearn.preprocessing import LabelEncoder\n",
    "\n",
    "encoder = LabelEncoder()"
   ]
  },
  {
   "cell_type": "code",
   "execution_count": 26,
   "id": "97c09509",
   "metadata": {},
   "outputs": [
    {
     "name": "stdout",
     "output_type": "stream",
     "text": [
      "0     5\n",
      "1    21\n",
      "2     6\n",
      "3     5\n",
      "4    15\n",
      "5    11\n",
      "6    22\n",
      "7    13\n",
      "8     5\n",
      "9     9\n",
      "Name: 주구매상품, dtype: int32\n"
     ]
    }
   ],
   "source": [
    "x_train['주구매상품'] = encoder.fit_transform(x_train['주구매상품'])\n",
    "print(x_train['주구매상품'].head(10))"
   ]
  },
  {
   "cell_type": "code",
   "execution_count": 27,
   "id": "98883bdb",
   "metadata": {},
   "outputs": [
    {
     "name": "stdout",
     "output_type": "stream",
     "text": [
      "['가공식품' '가구' '건강식품' '골프' '구두' '기타' '남성 캐주얼' '남성 트랜디' '남성정장' '농산물' '대형가전'\n",
      " '디자이너' '란제리/내의' '명품' '모피/피혁' '보석' '생활잡화' '섬유잡화' '셔츠' '소형가전' '수산품' '스포츠'\n",
      " '시티웨어' '식기' '아동' '악기' '액세서리' '육류' '일용잡화' '젓갈/반찬' '주류' '주방가전' '주방용품'\n",
      " '차/커피' '축산가공' '침구/수예' '캐주얼' '커리어' '통신/컴퓨터' '트래디셔널' '피혁잡화' '화장품']\n"
     ]
    }
   ],
   "source": [
    "print(encoder.classes_)"
   ]
  },
  {
   "cell_type": "code",
   "execution_count": 28,
   "id": "31359711",
   "metadata": {},
   "outputs": [],
   "source": [
    "x_test['주구매상품'] = encoder.fit_transform(x_test['주구매상품'])"
   ]
  },
  {
   "cell_type": "code",
   "execution_count": 29,
   "id": "1da2f0c1",
   "metadata": {},
   "outputs": [
    {
     "name": "stdout",
     "output_type": "stream",
     "text": [
      "0     0\n",
      "1    19\n",
      "2     1\n",
      "3     2\n",
      "4     8\n",
      "5    18\n",
      "6     0\n",
      "7     8\n",
      "8     8\n",
      "9     5\n",
      "Name: 주구매지점, dtype: int32\n"
     ]
    }
   ],
   "source": [
    "x_train['주구매지점'] = encoder.fit_transform(x_train['주구매지점'])\n",
    "print(x_train['주구매지점'].head(10))"
   ]
  },
  {
   "cell_type": "code",
   "execution_count": 30,
   "id": "d567e123",
   "metadata": {},
   "outputs": [
    {
     "name": "stdout",
     "output_type": "stream",
     "text": [
      "['강남점' '관악점' '광주점' '노원점' '대구점' '대전점' '동래점' '미아점' '본  점' '부산본점' '부평점' '분당점'\n",
      " '상인점' '센텀시티점' '안양점' '영등포점' '울산점' '인천점' '일산점' '잠실점' '전주점' '창원점' '청량리점'\n",
      " '포항점']\n"
     ]
    }
   ],
   "source": [
    "print(encoder.classes_)"
   ]
  },
  {
   "cell_type": "code",
   "execution_count": 31,
   "id": "bdbdb2a8",
   "metadata": {},
   "outputs": [],
   "source": [
    "x_test['주구매지점'] = encoder.fit_transform(x_test['주구매지점'])"
   ]
  },
  {
   "cell_type": "markdown",
   "id": "b4f66dec",
   "metadata": {},
   "source": [
    "파생변수 만들기"
   ]
  },
  {
   "cell_type": "code",
   "execution_count": 32,
   "id": "105dedf7",
   "metadata": {},
   "outputs": [
    {
     "data": {
      "text/plain": [
       "0        True\n",
       "1        True\n",
       "2       False\n",
       "3       False\n",
       "4       False\n",
       "        ...  \n",
       "3495    False\n",
       "3496     True\n",
       "3497    False\n",
       "3498    False\n",
       "3499     True\n",
       "Name: 환불금액, Length: 3500, dtype: bool"
      ]
     },
     "execution_count": 32,
     "metadata": {},
     "output_type": "execute_result"
    }
   ],
   "source": [
    "condition = x_train['환불금액'] > 0\n",
    "condition"
   ]
  },
  {
   "cell_type": "code",
   "execution_count": 33,
   "id": "204e8654",
   "metadata": {},
   "outputs": [
    {
     "name": "stdout",
     "output_type": "stream",
     "text": [
      "           환불금액  환불금액_new\n",
      "0     6860000.0       1.0\n",
      "1      300000.0       1.0\n",
      "2           0.0       0.0\n",
      "3           0.0       0.0\n",
      "4           0.0       0.0\n",
      "...         ...       ...\n",
      "3495        0.0       0.0\n",
      "3496  6049600.0       1.0\n",
      "3497        0.0       0.0\n",
      "3498        0.0       0.0\n",
      "3499  5973000.0       1.0\n",
      "\n",
      "[3500 rows x 2 columns]\n"
     ]
    }
   ],
   "source": [
    "x_train.loc[condition, '환불금액_new'] = 1\n",
    "x_train.loc[~condition, '환불금액_new'] = 0\n",
    "print(x_train[['환불금액', '환불금액_new']])"
   ]
  },
  {
   "cell_type": "code",
   "execution_count": 34,
   "id": "53cd8e63",
   "metadata": {},
   "outputs": [],
   "source": [
    "x_train = x_train.drop(columns = ['환불금액'])"
   ]
  },
  {
   "cell_type": "code",
   "execution_count": 35,
   "id": "ae82a3a2",
   "metadata": {},
   "outputs": [
    {
     "data": {
      "text/html": [
       "<div>\n",
       "<style scoped>\n",
       "    .dataframe tbody tr th:only-of-type {\n",
       "        vertical-align: middle;\n",
       "    }\n",
       "\n",
       "    .dataframe tbody tr th {\n",
       "        vertical-align: top;\n",
       "    }\n",
       "\n",
       "    .dataframe thead th {\n",
       "        text-align: right;\n",
       "    }\n",
       "</style>\n",
       "<table border=\"1\" class=\"dataframe\">\n",
       "  <thead>\n",
       "    <tr style=\"text-align: right;\">\n",
       "      <th></th>\n",
       "      <th>총구매액</th>\n",
       "      <th>최대구매액</th>\n",
       "      <th>주구매상품</th>\n",
       "      <th>주구매지점</th>\n",
       "      <th>내점일수</th>\n",
       "      <th>내점당구매건수</th>\n",
       "      <th>주말방문비율</th>\n",
       "      <th>구매주기</th>\n",
       "      <th>환불금액_new</th>\n",
       "    </tr>\n",
       "  </thead>\n",
       "  <tbody>\n",
       "    <tr>\n",
       "      <th>0</th>\n",
       "      <td>68282840</td>\n",
       "      <td>11264000</td>\n",
       "      <td>5</td>\n",
       "      <td>0</td>\n",
       "      <td>19</td>\n",
       "      <td>3.894737</td>\n",
       "      <td>0.527027</td>\n",
       "      <td>17</td>\n",
       "      <td>1.0</td>\n",
       "    </tr>\n",
       "    <tr>\n",
       "      <th>1</th>\n",
       "      <td>2136000</td>\n",
       "      <td>2136000</td>\n",
       "      <td>21</td>\n",
       "      <td>19</td>\n",
       "      <td>2</td>\n",
       "      <td>1.500000</td>\n",
       "      <td>0.000000</td>\n",
       "      <td>1</td>\n",
       "      <td>1.0</td>\n",
       "    </tr>\n",
       "    <tr>\n",
       "      <th>2</th>\n",
       "      <td>3197000</td>\n",
       "      <td>1639000</td>\n",
       "      <td>6</td>\n",
       "      <td>1</td>\n",
       "      <td>2</td>\n",
       "      <td>2.000000</td>\n",
       "      <td>0.000000</td>\n",
       "      <td>1</td>\n",
       "      <td>0.0</td>\n",
       "    </tr>\n",
       "    <tr>\n",
       "      <th>3</th>\n",
       "      <td>16077620</td>\n",
       "      <td>4935000</td>\n",
       "      <td>5</td>\n",
       "      <td>2</td>\n",
       "      <td>18</td>\n",
       "      <td>2.444444</td>\n",
       "      <td>0.318182</td>\n",
       "      <td>16</td>\n",
       "      <td>0.0</td>\n",
       "    </tr>\n",
       "    <tr>\n",
       "      <th>4</th>\n",
       "      <td>29050000</td>\n",
       "      <td>24000000</td>\n",
       "      <td>15</td>\n",
       "      <td>8</td>\n",
       "      <td>2</td>\n",
       "      <td>1.500000</td>\n",
       "      <td>0.000000</td>\n",
       "      <td>85</td>\n",
       "      <td>0.0</td>\n",
       "    </tr>\n",
       "  </tbody>\n",
       "</table>\n",
       "</div>"
      ],
      "text/plain": [
       "       총구매액     최대구매액  주구매상품  주구매지점  내점일수   내점당구매건수    주말방문비율  구매주기  환불금액_new\n",
       "0  68282840  11264000      5      0    19  3.894737  0.527027    17       1.0\n",
       "1   2136000   2136000     21     19     2  1.500000  0.000000     1       1.0\n",
       "2   3197000   1639000      6      1     2  2.000000  0.000000     1       0.0\n",
       "3  16077620   4935000      5      2    18  2.444444  0.318182    16       0.0\n",
       "4  29050000  24000000     15      8     2  1.500000  0.000000    85       0.0"
      ]
     },
     "execution_count": 35,
     "metadata": {},
     "output_type": "execute_result"
    }
   ],
   "source": [
    "x_train.head()"
   ]
  },
  {
   "cell_type": "code",
   "execution_count": 36,
   "id": "08bc5c19",
   "metadata": {},
   "outputs": [
    {
     "data": {
      "text/plain": [
       "0        True\n",
       "1        True\n",
       "2        True\n",
       "3       False\n",
       "4       False\n",
       "        ...  \n",
       "2477    False\n",
       "2478    False\n",
       "2479    False\n",
       "2480    False\n",
       "2481    False\n",
       "Name: 환불금액, Length: 2482, dtype: bool"
      ]
     },
     "execution_count": 36,
     "metadata": {},
     "output_type": "execute_result"
    }
   ],
   "source": [
    "condition_test = x_test['환불금액'] > 0\n",
    "condition_test"
   ]
  },
  {
   "cell_type": "code",
   "execution_count": 37,
   "id": "f053b676",
   "metadata": {},
   "outputs": [
    {
     "data": {
      "text/html": [
       "<div>\n",
       "<style scoped>\n",
       "    .dataframe tbody tr th:only-of-type {\n",
       "        vertical-align: middle;\n",
       "    }\n",
       "\n",
       "    .dataframe tbody tr th {\n",
       "        vertical-align: top;\n",
       "    }\n",
       "\n",
       "    .dataframe thead th {\n",
       "        text-align: right;\n",
       "    }\n",
       "</style>\n",
       "<table border=\"1\" class=\"dataframe\">\n",
       "  <thead>\n",
       "    <tr style=\"text-align: right;\">\n",
       "      <th></th>\n",
       "      <th>환불금액</th>\n",
       "      <th>환불금액_new</th>\n",
       "    </tr>\n",
       "  </thead>\n",
       "  <tbody>\n",
       "    <tr>\n",
       "      <th>0</th>\n",
       "      <td>4050000.0</td>\n",
       "      <td>1.0</td>\n",
       "    </tr>\n",
       "    <tr>\n",
       "      <th>1</th>\n",
       "      <td>48034700.0</td>\n",
       "      <td>1.0</td>\n",
       "    </tr>\n",
       "    <tr>\n",
       "      <th>2</th>\n",
       "      <td>30521000.0</td>\n",
       "      <td>1.0</td>\n",
       "    </tr>\n",
       "    <tr>\n",
       "      <th>3</th>\n",
       "      <td>0.0</td>\n",
       "      <td>0.0</td>\n",
       "    </tr>\n",
       "    <tr>\n",
       "      <th>4</th>\n",
       "      <td>0.0</td>\n",
       "      <td>0.0</td>\n",
       "    </tr>\n",
       "    <tr>\n",
       "      <th>5</th>\n",
       "      <td>0.0</td>\n",
       "      <td>0.0</td>\n",
       "    </tr>\n",
       "    <tr>\n",
       "      <th>6</th>\n",
       "      <td>39566000.0</td>\n",
       "      <td>1.0</td>\n",
       "    </tr>\n",
       "    <tr>\n",
       "      <th>7</th>\n",
       "      <td>0.0</td>\n",
       "      <td>0.0</td>\n",
       "    </tr>\n",
       "    <tr>\n",
       "      <th>8</th>\n",
       "      <td>0.0</td>\n",
       "      <td>0.0</td>\n",
       "    </tr>\n",
       "    <tr>\n",
       "      <th>9</th>\n",
       "      <td>23062000.0</td>\n",
       "      <td>1.0</td>\n",
       "    </tr>\n",
       "  </tbody>\n",
       "</table>\n",
       "</div>"
      ],
      "text/plain": [
       "         환불금액  환불금액_new\n",
       "0   4050000.0       1.0\n",
       "1  48034700.0       1.0\n",
       "2  30521000.0       1.0\n",
       "3         0.0       0.0\n",
       "4         0.0       0.0\n",
       "5         0.0       0.0\n",
       "6  39566000.0       1.0\n",
       "7         0.0       0.0\n",
       "8         0.0       0.0\n",
       "9  23062000.0       1.0"
      ]
     },
     "execution_count": 37,
     "metadata": {},
     "output_type": "execute_result"
    }
   ],
   "source": [
    "x_test.loc[condition_test, '환불금액_new'] = 1\n",
    "x_test.loc[~condition_test, '환불금액_new'] = 0\n",
    "x_test[['환불금액', '환불금액_new']].head(10)"
   ]
  },
  {
   "cell_type": "code",
   "execution_count": 38,
   "id": "89ddbd7b",
   "metadata": {},
   "outputs": [
    {
     "data": {
      "text/html": [
       "<div>\n",
       "<style scoped>\n",
       "    .dataframe tbody tr th:only-of-type {\n",
       "        vertical-align: middle;\n",
       "    }\n",
       "\n",
       "    .dataframe tbody tr th {\n",
       "        vertical-align: top;\n",
       "    }\n",
       "\n",
       "    .dataframe thead th {\n",
       "        text-align: right;\n",
       "    }\n",
       "</style>\n",
       "<table border=\"1\" class=\"dataframe\">\n",
       "  <thead>\n",
       "    <tr style=\"text-align: right;\">\n",
       "      <th></th>\n",
       "      <th>총구매액</th>\n",
       "      <th>최대구매액</th>\n",
       "      <th>주구매상품</th>\n",
       "      <th>주구매지점</th>\n",
       "      <th>내점일수</th>\n",
       "      <th>내점당구매건수</th>\n",
       "      <th>주말방문비율</th>\n",
       "      <th>구매주기</th>\n",
       "      <th>환불금액_new</th>\n",
       "    </tr>\n",
       "  </thead>\n",
       "  <tbody>\n",
       "    <tr>\n",
       "      <th>0</th>\n",
       "      <td>70900400</td>\n",
       "      <td>22000000</td>\n",
       "      <td>3</td>\n",
       "      <td>9</td>\n",
       "      <td>13</td>\n",
       "      <td>1.461538</td>\n",
       "      <td>0.789474</td>\n",
       "      <td>26</td>\n",
       "      <td>1.0</td>\n",
       "    </tr>\n",
       "    <tr>\n",
       "      <th>1</th>\n",
       "      <td>310533100</td>\n",
       "      <td>38558000</td>\n",
       "      <td>9</td>\n",
       "      <td>19</td>\n",
       "      <td>90</td>\n",
       "      <td>2.433333</td>\n",
       "      <td>0.369863</td>\n",
       "      <td>3</td>\n",
       "      <td>1.0</td>\n",
       "    </tr>\n",
       "    <tr>\n",
       "      <th>2</th>\n",
       "      <td>305264140</td>\n",
       "      <td>14825000</td>\n",
       "      <td>0</td>\n",
       "      <td>8</td>\n",
       "      <td>101</td>\n",
       "      <td>14.623762</td>\n",
       "      <td>0.083277</td>\n",
       "      <td>3</td>\n",
       "      <td>1.0</td>\n",
       "    </tr>\n",
       "    <tr>\n",
       "      <th>3</th>\n",
       "      <td>7594080</td>\n",
       "      <td>5225000</td>\n",
       "      <td>31</td>\n",
       "      <td>9</td>\n",
       "      <td>5</td>\n",
       "      <td>2.000000</td>\n",
       "      <td>0.000000</td>\n",
       "      <td>47</td>\n",
       "      <td>0.0</td>\n",
       "    </tr>\n",
       "    <tr>\n",
       "      <th>4</th>\n",
       "      <td>1795790</td>\n",
       "      <td>1411200</td>\n",
       "      <td>19</td>\n",
       "      <td>22</td>\n",
       "      <td>3</td>\n",
       "      <td>2.666667</td>\n",
       "      <td>0.125000</td>\n",
       "      <td>8</td>\n",
       "      <td>0.0</td>\n",
       "    </tr>\n",
       "  </tbody>\n",
       "</table>\n",
       "</div>"
      ],
      "text/plain": [
       "        총구매액     최대구매액  주구매상품  주구매지점  내점일수    내점당구매건수    주말방문비율  구매주기  \\\n",
       "0   70900400  22000000      3      9    13   1.461538  0.789474    26   \n",
       "1  310533100  38558000      9     19    90   2.433333  0.369863     3   \n",
       "2  305264140  14825000      0      8   101  14.623762  0.083277     3   \n",
       "3    7594080   5225000     31      9     5   2.000000  0.000000    47   \n",
       "4    1795790   1411200     19     22     3   2.666667  0.125000     8   \n",
       "\n",
       "   환불금액_new  \n",
       "0       1.0  \n",
       "1       1.0  \n",
       "2       1.0  \n",
       "3       0.0  \n",
       "4       0.0  "
      ]
     },
     "execution_count": 38,
     "metadata": {},
     "output_type": "execute_result"
    }
   ],
   "source": [
    "x_test.drop(columns = ['환불금액'], inplace = True)\n",
    "x_test.head()"
   ]
  },
  {
   "cell_type": "markdown",
   "id": "4ff98aa8",
   "metadata": {},
   "source": [
    "표준화 크기로 변환하기"
   ]
  },
  {
   "cell_type": "code",
   "execution_count": 39,
   "id": "53f2821c",
   "metadata": {},
   "outputs": [
    {
     "name": "stdout",
     "output_type": "stream",
     "text": [
      "               총구매액         최대구매액        주구매상품        주구매지점         내점일수  \\\n",
      "count  3.500000e+03  3.500000e+03  3500.000000  3500.000000  3500.000000   \n",
      "mean   9.191925e+07  1.966424e+07    14.612000    10.734286    19.253714   \n",
      "std    1.635065e+08  3.199235e+07    13.019947     5.636480    27.174942   \n",
      "min   -5.242152e+07 -2.992000e+06     0.000000     0.000000     1.000000   \n",
      "25%    4.747050e+06  2.875000e+06     5.000000     8.000000     2.000000   \n",
      "50%    2.822270e+07  9.837000e+06     9.000000     9.000000     8.000000   \n",
      "75%    1.065079e+08  2.296250e+07    22.000000    15.000000    25.000000   \n",
      "max    2.323180e+09  7.066290e+08    41.000000    23.000000   285.000000   \n",
      "\n",
      "           내점당구매건수       주말방문비율         구매주기     환불금액_new  \n",
      "count  3500.000000  3500.000000  3500.000000  3500.000000  \n",
      "mean      2.834963     0.307246    20.958286     0.344286  \n",
      "std       1.912368     0.289752    24.748682     0.475203  \n",
      "min       1.000000     0.000000     0.000000     0.000000  \n",
      "25%       1.666667     0.027291     4.000000     0.000000  \n",
      "50%       2.333333     0.256410    13.000000     0.000000  \n",
      "75%       3.375000     0.448980    28.000000     1.000000  \n",
      "max      22.083333     1.000000   166.000000     1.000000  \n"
     ]
    }
   ],
   "source": [
    "print(x_train.describe())"
   ]
  },
  {
   "cell_type": "code",
   "execution_count": 40,
   "id": "01b74db4",
   "metadata": {},
   "outputs": [
    {
     "name": "stdout",
     "output_type": "stream",
     "text": [
      "           count          mean           std         min           25%  \\\n",
      "총구매액      3500.0  9.191925e+07  1.635065e+08 -52421520.0  4.747050e+06   \n",
      "최대구매액     3500.0  1.966424e+07  3.199235e+07  -2992000.0  2.875000e+06   \n",
      "주구매상품     3500.0  1.461200e+01  1.301995e+01         0.0  5.000000e+00   \n",
      "주구매지점     3500.0  1.073429e+01  5.636480e+00         0.0  8.000000e+00   \n",
      "내점일수      3500.0  1.925371e+01  2.717494e+01         1.0  2.000000e+00   \n",
      "내점당구매건수   3500.0  2.834963e+00  1.912368e+00         1.0  1.666667e+00   \n",
      "주말방문비율    3500.0  3.072463e-01  2.897516e-01         0.0  2.729090e-02   \n",
      "구매주기      3500.0  2.095829e+01  2.474868e+01         0.0  4.000000e+00   \n",
      "환불금액_new  3500.0  3.442857e-01  4.752027e-01         0.0  0.000000e+00   \n",
      "\n",
      "                   50%           75%           max  \n",
      "총구매액      2.822270e+07  1.065079e+08  2.323180e+09  \n",
      "최대구매액     9.837000e+06  2.296250e+07  7.066290e+08  \n",
      "주구매상품     9.000000e+00  2.200000e+01  4.100000e+01  \n",
      "주구매지점     9.000000e+00  1.500000e+01  2.300000e+01  \n",
      "내점일수      8.000000e+00  2.500000e+01  2.850000e+02  \n",
      "내점당구매건수   2.333333e+00  3.375000e+00  2.208333e+01  \n",
      "주말방문비율    2.564103e-01  4.489796e-01  1.000000e+00  \n",
      "구매주기      1.300000e+01  2.800000e+01  1.660000e+02  \n",
      "환불금액_new  0.000000e+00  1.000000e+00  1.000000e+00  \n"
     ]
    }
   ],
   "source": [
    "print(x_train.describe().T)"
   ]
  },
  {
   "cell_type": "code",
   "execution_count": 41,
   "id": "9766364a",
   "metadata": {},
   "outputs": [
    {
     "data": {
      "text/html": [
       "<div>\n",
       "<style scoped>\n",
       "    .dataframe tbody tr th:only-of-type {\n",
       "        vertical-align: middle;\n",
       "    }\n",
       "\n",
       "    .dataframe tbody tr th {\n",
       "        vertical-align: top;\n",
       "    }\n",
       "\n",
       "    .dataframe thead th {\n",
       "        text-align: right;\n",
       "    }\n",
       "</style>\n",
       "<table border=\"1\" class=\"dataframe\">\n",
       "  <thead>\n",
       "    <tr style=\"text-align: right;\">\n",
       "      <th></th>\n",
       "      <th>총구매액</th>\n",
       "      <th>최대구매액</th>\n",
       "      <th>주구매상품</th>\n",
       "      <th>주구매지점</th>\n",
       "      <th>내점일수</th>\n",
       "      <th>내점당구매건수</th>\n",
       "      <th>주말방문비율</th>\n",
       "      <th>구매주기</th>\n",
       "      <th>환불금액_new</th>\n",
       "    </tr>\n",
       "  </thead>\n",
       "  <tbody>\n",
       "    <tr>\n",
       "      <th>0</th>\n",
       "      <td>-0.144580</td>\n",
       "      <td>-0.262608</td>\n",
       "      <td>-0.738357</td>\n",
       "      <td>-1.904703</td>\n",
       "      <td>-0.009338</td>\n",
       "      <td>0.554247</td>\n",
       "      <td>0.758623</td>\n",
       "      <td>-0.159962</td>\n",
       "      <td>1.380060</td>\n",
       "    </tr>\n",
       "    <tr>\n",
       "      <th>1</th>\n",
       "      <td>-0.549190</td>\n",
       "      <td>-0.547967</td>\n",
       "      <td>0.490702</td>\n",
       "      <td>1.466677</td>\n",
       "      <td>-0.635003</td>\n",
       "      <td>-0.698168</td>\n",
       "      <td>-1.060530</td>\n",
       "      <td>-0.806554</td>\n",
       "      <td>1.380060</td>\n",
       "    </tr>\n",
       "    <tr>\n",
       "      <th>2</th>\n",
       "      <td>-0.542700</td>\n",
       "      <td>-0.563504</td>\n",
       "      <td>-0.661541</td>\n",
       "      <td>-1.727262</td>\n",
       "      <td>-0.635003</td>\n",
       "      <td>-0.436675</td>\n",
       "      <td>-1.060530</td>\n",
       "      <td>-0.806554</td>\n",
       "      <td>-0.724606</td>\n",
       "    </tr>\n",
       "    <tr>\n",
       "      <th>3</th>\n",
       "      <td>-0.463911</td>\n",
       "      <td>-0.460465</td>\n",
       "      <td>-0.738357</td>\n",
       "      <td>-1.549821</td>\n",
       "      <td>-0.046142</td>\n",
       "      <td>-0.204236</td>\n",
       "      <td>0.037746</td>\n",
       "      <td>-0.200374</td>\n",
       "      <td>-0.724606</td>\n",
       "    </tr>\n",
       "    <tr>\n",
       "      <th>4</th>\n",
       "      <td>-0.384561</td>\n",
       "      <td>0.135544</td>\n",
       "      <td>0.029805</td>\n",
       "      <td>-0.485175</td>\n",
       "      <td>-0.635003</td>\n",
       "      <td>-0.698168</td>\n",
       "      <td>-1.060530</td>\n",
       "      <td>2.588052</td>\n",
       "      <td>-0.724606</td>\n",
       "    </tr>\n",
       "  </tbody>\n",
       "</table>\n",
       "</div>"
      ],
      "text/plain": [
       "       총구매액     최대구매액     주구매상품     주구매지점      내점일수   내점당구매건수    주말방문비율  \\\n",
       "0 -0.144580 -0.262608 -0.738357 -1.904703 -0.009338  0.554247  0.758623   \n",
       "1 -0.549190 -0.547967  0.490702  1.466677 -0.635003 -0.698168 -1.060530   \n",
       "2 -0.542700 -0.563504 -0.661541 -1.727262 -0.635003 -0.436675 -1.060530   \n",
       "3 -0.463911 -0.460465 -0.738357 -1.549821 -0.046142 -0.204236  0.037746   \n",
       "4 -0.384561  0.135544  0.029805 -0.485175 -0.635003 -0.698168 -1.060530   \n",
       "\n",
       "       구매주기  환불금액_new  \n",
       "0 -0.159962  1.380060  \n",
       "1 -0.806554  1.380060  \n",
       "2 -0.806554 -0.724606  \n",
       "3 -0.200374 -0.724606  \n",
       "4  2.588052 -0.724606  "
      ]
     },
     "execution_count": 41,
     "metadata": {},
     "output_type": "execute_result"
    }
   ],
   "source": [
    "from sklearn.preprocessing import StandardScaler\n",
    "\n",
    "# 표준화 크기 변환을 수행하기 위한 scaler 객체를 만들기\n",
    "scaler = StandardScaler()\n",
    "\n",
    "# scaler 객체로 표준화 크기변환을 수행하고, x_train의 칼럼명을 사용하기\n",
    "x_train = pd.DataFrame(scaler.fit_transform(x_train), columns = x_train.columns)\n",
    "x_train.head()"
   ]
  },
  {
   "cell_type": "code",
   "execution_count": 42,
   "id": "d9c0773c",
   "metadata": {},
   "outputs": [
    {
     "data": {
      "text/html": [
       "<div>\n",
       "<style scoped>\n",
       "    .dataframe tbody tr th:only-of-type {\n",
       "        vertical-align: middle;\n",
       "    }\n",
       "\n",
       "    .dataframe tbody tr th {\n",
       "        vertical-align: top;\n",
       "    }\n",
       "\n",
       "    .dataframe thead th {\n",
       "        text-align: right;\n",
       "    }\n",
       "</style>\n",
       "<table border=\"1\" class=\"dataframe\">\n",
       "  <thead>\n",
       "    <tr style=\"text-align: right;\">\n",
       "      <th></th>\n",
       "      <th>총구매액</th>\n",
       "      <th>최대구매액</th>\n",
       "      <th>주구매상품</th>\n",
       "      <th>주구매지점</th>\n",
       "      <th>내점일수</th>\n",
       "      <th>내점당구매건수</th>\n",
       "      <th>주말방문비율</th>\n",
       "      <th>구매주기</th>\n",
       "      <th>환불금액_new</th>\n",
       "    </tr>\n",
       "  </thead>\n",
       "  <tbody>\n",
       "    <tr>\n",
       "      <th>0</th>\n",
       "      <td>70900400</td>\n",
       "      <td>22000000</td>\n",
       "      <td>3</td>\n",
       "      <td>9</td>\n",
       "      <td>13</td>\n",
       "      <td>1.461538</td>\n",
       "      <td>0.789474</td>\n",
       "      <td>26</td>\n",
       "      <td>1.0</td>\n",
       "    </tr>\n",
       "    <tr>\n",
       "      <th>1</th>\n",
       "      <td>310533100</td>\n",
       "      <td>38558000</td>\n",
       "      <td>9</td>\n",
       "      <td>19</td>\n",
       "      <td>90</td>\n",
       "      <td>2.433333</td>\n",
       "      <td>0.369863</td>\n",
       "      <td>3</td>\n",
       "      <td>1.0</td>\n",
       "    </tr>\n",
       "    <tr>\n",
       "      <th>2</th>\n",
       "      <td>305264140</td>\n",
       "      <td>14825000</td>\n",
       "      <td>0</td>\n",
       "      <td>8</td>\n",
       "      <td>101</td>\n",
       "      <td>14.623762</td>\n",
       "      <td>0.083277</td>\n",
       "      <td>3</td>\n",
       "      <td>1.0</td>\n",
       "    </tr>\n",
       "    <tr>\n",
       "      <th>3</th>\n",
       "      <td>7594080</td>\n",
       "      <td>5225000</td>\n",
       "      <td>31</td>\n",
       "      <td>9</td>\n",
       "      <td>5</td>\n",
       "      <td>2.000000</td>\n",
       "      <td>0.000000</td>\n",
       "      <td>47</td>\n",
       "      <td>0.0</td>\n",
       "    </tr>\n",
       "    <tr>\n",
       "      <th>4</th>\n",
       "      <td>1795790</td>\n",
       "      <td>1411200</td>\n",
       "      <td>19</td>\n",
       "      <td>22</td>\n",
       "      <td>3</td>\n",
       "      <td>2.666667</td>\n",
       "      <td>0.125000</td>\n",
       "      <td>8</td>\n",
       "      <td>0.0</td>\n",
       "    </tr>\n",
       "  </tbody>\n",
       "</table>\n",
       "</div>"
      ],
      "text/plain": [
       "        총구매액     최대구매액  주구매상품  주구매지점  내점일수    내점당구매건수    주말방문비율  구매주기  \\\n",
       "0   70900400  22000000      3      9    13   1.461538  0.789474    26   \n",
       "1  310533100  38558000      9     19    90   2.433333  0.369863     3   \n",
       "2  305264140  14825000      0      8   101  14.623762  0.083277     3   \n",
       "3    7594080   5225000     31      9     5   2.000000  0.000000    47   \n",
       "4    1795790   1411200     19     22     3   2.666667  0.125000     8   \n",
       "\n",
       "   환불금액_new  \n",
       "0       1.0  \n",
       "1       1.0  \n",
       "2       1.0  \n",
       "3       0.0  \n",
       "4       0.0  "
      ]
     },
     "execution_count": 42,
     "metadata": {},
     "output_type": "execute_result"
    }
   ],
   "source": [
    "x_test.head()"
   ]
  },
  {
   "cell_type": "code",
   "execution_count": 43,
   "id": "bb4738c7",
   "metadata": {},
   "outputs": [
    {
     "data": {
      "text/html": [
       "<div>\n",
       "<style scoped>\n",
       "    .dataframe tbody tr th:only-of-type {\n",
       "        vertical-align: middle;\n",
       "    }\n",
       "\n",
       "    .dataframe tbody tr th {\n",
       "        vertical-align: top;\n",
       "    }\n",
       "\n",
       "    .dataframe thead th {\n",
       "        text-align: right;\n",
       "    }\n",
       "</style>\n",
       "<table border=\"1\" class=\"dataframe\">\n",
       "  <thead>\n",
       "    <tr style=\"text-align: right;\">\n",
       "      <th></th>\n",
       "      <th>총구매액</th>\n",
       "      <th>최대구매액</th>\n",
       "      <th>주구매상품</th>\n",
       "      <th>주구매지점</th>\n",
       "      <th>내점일수</th>\n",
       "      <th>내점당구매건수</th>\n",
       "      <th>주말방문비율</th>\n",
       "      <th>구매주기</th>\n",
       "      <th>환불금액_new</th>\n",
       "    </tr>\n",
       "  </thead>\n",
       "  <tbody>\n",
       "    <tr>\n",
       "      <th>0</th>\n",
       "      <td>-0.128569</td>\n",
       "      <td>0.073020</td>\n",
       "      <td>-0.891990</td>\n",
       "      <td>-0.307733</td>\n",
       "      <td>-0.230161</td>\n",
       "      <td>-0.718283</td>\n",
       "      <td>1.664517</td>\n",
       "      <td>0.203746</td>\n",
       "      <td>1.380060</td>\n",
       "    </tr>\n",
       "    <tr>\n",
       "      <th>1</th>\n",
       "      <td>1.337225</td>\n",
       "      <td>0.590656</td>\n",
       "      <td>-0.431093</td>\n",
       "      <td>1.466677</td>\n",
       "      <td>2.603737</td>\n",
       "      <td>-0.210047</td>\n",
       "      <td>0.216136</td>\n",
       "      <td>-0.725730</td>\n",
       "      <td>1.380060</td>\n",
       "    </tr>\n",
       "    <tr>\n",
       "      <th>2</th>\n",
       "      <td>1.304996</td>\n",
       "      <td>-0.151284</td>\n",
       "      <td>-1.122438</td>\n",
       "      <td>-0.485175</td>\n",
       "      <td>3.008579</td>\n",
       "      <td>6.165384</td>\n",
       "      <td>-0.773081</td>\n",
       "      <td>-0.725730</td>\n",
       "      <td>1.380060</td>\n",
       "    </tr>\n",
       "    <tr>\n",
       "      <th>3</th>\n",
       "      <td>-0.515803</td>\n",
       "      <td>-0.451399</td>\n",
       "      <td>1.258864</td>\n",
       "      <td>-0.307733</td>\n",
       "      <td>-0.524592</td>\n",
       "      <td>-0.436675</td>\n",
       "      <td>-1.060530</td>\n",
       "      <td>1.052397</td>\n",
       "      <td>-0.724606</td>\n",
       "    </tr>\n",
       "    <tr>\n",
       "      <th>4</th>\n",
       "      <td>-0.551271</td>\n",
       "      <td>-0.570626</td>\n",
       "      <td>0.337069</td>\n",
       "      <td>1.999000</td>\n",
       "      <td>-0.598199</td>\n",
       "      <td>-0.088017</td>\n",
       "      <td>-0.629064</td>\n",
       "      <td>-0.523670</td>\n",
       "      <td>-0.724606</td>\n",
       "    </tr>\n",
       "  </tbody>\n",
       "</table>\n",
       "</div>"
      ],
      "text/plain": [
       "       총구매액     최대구매액     주구매상품     주구매지점      내점일수   내점당구매건수    주말방문비율  \\\n",
       "0 -0.128569  0.073020 -0.891990 -0.307733 -0.230161 -0.718283  1.664517   \n",
       "1  1.337225  0.590656 -0.431093  1.466677  2.603737 -0.210047  0.216136   \n",
       "2  1.304996 -0.151284 -1.122438 -0.485175  3.008579  6.165384 -0.773081   \n",
       "3 -0.515803 -0.451399  1.258864 -0.307733 -0.524592 -0.436675 -1.060530   \n",
       "4 -0.551271 -0.570626  0.337069  1.999000 -0.598199 -0.088017 -0.629064   \n",
       "\n",
       "       구매주기  환불금액_new  \n",
       "0  0.203746  1.380060  \n",
       "1 -0.725730  1.380060  \n",
       "2 -0.725730  1.380060  \n",
       "3  1.052397 -0.724606  \n",
       "4 -0.523670 -0.724606  "
      ]
     },
     "execution_count": 43,
     "metadata": {},
     "output_type": "execute_result"
    }
   ],
   "source": [
    "# 테스트 데이터를 표준화 크기로 변환하기\n",
    "x_test = pd.DataFrame(scaler.transform(x_test), columns = x_test.columns)\n",
    "x_test.head()"
   ]
  },
  {
   "cell_type": "code",
   "execution_count": 44,
   "id": "8d025ce2",
   "metadata": {},
   "outputs": [
    {
     "name": "stdout",
     "output_type": "stream",
     "text": [
      "           count          mean       std       min       25%       50%  \\\n",
      "총구매액      3500.0 -4.409171e-17  1.000143 -0.882909 -0.533218 -0.389621   \n",
      "최대구매액     3500.0 -4.838986e-17  1.000143 -0.708278 -0.524864 -0.307219   \n",
      "주구매상품     3500.0 -6.236281e-17  1.000143 -1.122438 -0.738357 -0.431093   \n",
      "주구매지점     3500.0 -8.333017e-17  1.000143 -1.904703 -0.485175 -0.307733   \n",
      "내점일수      3500.0  2.518303e-16  1.000143 -0.671807 -0.635003 -0.414180   \n",
      "내점당구매건수   3500.0 -2.288170e-16  1.000143 -0.959661 -0.611003 -0.262346   \n",
      "주말방문비율    3500.0  9.192647e-17  1.000143 -1.060530 -0.966329 -0.175472   \n",
      "구매주기      3500.0 -1.220294e-16  1.000143 -0.846966 -0.685318 -0.321610   \n",
      "환불금액_new  3500.0  3.445498e-16  1.000143 -0.724606 -0.724606 -0.724606   \n",
      "\n",
      "               75%        max  \n",
      "총구매액      0.089237  13.648260  \n",
      "최대구매액     0.103110  21.475852  \n",
      "주구매상품     0.567518   2.027026  \n",
      "주구매지점     0.756913   2.176441  \n",
      "내점일수      0.211486   9.780490  \n",
      "내점당구매건수   0.282432  10.066639  \n",
      "주말방문비율    0.489224   2.391196  \n",
      "구매주기      0.284570   5.861421  \n",
      "환불금액_new  1.380060   1.380060  \n"
     ]
    }
   ],
   "source": [
    "# 크기변환 후, x_train 세트의 기초 통계량 확인하기\n",
    "print(x_train.describe().T)"
   ]
  },
  {
   "cell_type": "markdown",
   "id": "98b3317f",
   "metadata": {},
   "source": [
    "상관관계 확인하기"
   ]
  },
  {
   "cell_type": "code",
   "execution_count": 45,
   "id": "fb48b59f",
   "metadata": {},
   "outputs": [
    {
     "name": "stdout",
     "output_type": "stream",
     "text": [
      "              총구매액     최대구매액  환불금액_new\n",
      "총구매액      1.000000  0.700080  0.403357\n",
      "최대구매액     0.700080  1.000000  0.330687\n",
      "환불금액_new  0.403357  0.330687  1.000000\n"
     ]
    }
   ],
   "source": [
    "# '총구매액', '최대구매액', '환불금액_new' 칼럼 간의 상관관계 구하기\n",
    "print(x_train[['총구매액', '최대구매액', '환불금액_new']].corr())"
   ]
  },
  {
   "cell_type": "code",
   "execution_count": 46,
   "id": "5d8b8f15",
   "metadata": {},
   "outputs": [],
   "source": [
    "# x_train 세트에서 '최대구매액' 칼럼을 삭제한 후, x_train에 저장하기\n",
    "x_train = x_train.drop(columns = ['최대구매액'])\n",
    "x_test = x_test.drop(columns = ['최대구매액'])"
   ]
  },
  {
   "cell_type": "code",
   "execution_count": 47,
   "id": "f42e24a2",
   "metadata": {},
   "outputs": [
    {
     "data": {
      "text/html": [
       "<div>\n",
       "<style scoped>\n",
       "    .dataframe tbody tr th:only-of-type {\n",
       "        vertical-align: middle;\n",
       "    }\n",
       "\n",
       "    .dataframe tbody tr th {\n",
       "        vertical-align: top;\n",
       "    }\n",
       "\n",
       "    .dataframe thead th {\n",
       "        text-align: right;\n",
       "    }\n",
       "</style>\n",
       "<table border=\"1\" class=\"dataframe\">\n",
       "  <thead>\n",
       "    <tr style=\"text-align: right;\">\n",
       "      <th></th>\n",
       "      <th>총구매액</th>\n",
       "      <th>주구매상품</th>\n",
       "      <th>주구매지점</th>\n",
       "      <th>내점일수</th>\n",
       "      <th>내점당구매건수</th>\n",
       "      <th>주말방문비율</th>\n",
       "      <th>구매주기</th>\n",
       "      <th>환불금액_new</th>\n",
       "    </tr>\n",
       "  </thead>\n",
       "  <tbody>\n",
       "    <tr>\n",
       "      <th>0</th>\n",
       "      <td>-0.144580</td>\n",
       "      <td>-0.738357</td>\n",
       "      <td>-1.904703</td>\n",
       "      <td>-0.009338</td>\n",
       "      <td>0.554247</td>\n",
       "      <td>0.758623</td>\n",
       "      <td>-0.159962</td>\n",
       "      <td>1.380060</td>\n",
       "    </tr>\n",
       "    <tr>\n",
       "      <th>1</th>\n",
       "      <td>-0.549190</td>\n",
       "      <td>0.490702</td>\n",
       "      <td>1.466677</td>\n",
       "      <td>-0.635003</td>\n",
       "      <td>-0.698168</td>\n",
       "      <td>-1.060530</td>\n",
       "      <td>-0.806554</td>\n",
       "      <td>1.380060</td>\n",
       "    </tr>\n",
       "    <tr>\n",
       "      <th>2</th>\n",
       "      <td>-0.542700</td>\n",
       "      <td>-0.661541</td>\n",
       "      <td>-1.727262</td>\n",
       "      <td>-0.635003</td>\n",
       "      <td>-0.436675</td>\n",
       "      <td>-1.060530</td>\n",
       "      <td>-0.806554</td>\n",
       "      <td>-0.724606</td>\n",
       "    </tr>\n",
       "    <tr>\n",
       "      <th>3</th>\n",
       "      <td>-0.463911</td>\n",
       "      <td>-0.738357</td>\n",
       "      <td>-1.549821</td>\n",
       "      <td>-0.046142</td>\n",
       "      <td>-0.204236</td>\n",
       "      <td>0.037746</td>\n",
       "      <td>-0.200374</td>\n",
       "      <td>-0.724606</td>\n",
       "    </tr>\n",
       "    <tr>\n",
       "      <th>4</th>\n",
       "      <td>-0.384561</td>\n",
       "      <td>0.029805</td>\n",
       "      <td>-0.485175</td>\n",
       "      <td>-0.635003</td>\n",
       "      <td>-0.698168</td>\n",
       "      <td>-1.060530</td>\n",
       "      <td>2.588052</td>\n",
       "      <td>-0.724606</td>\n",
       "    </tr>\n",
       "  </tbody>\n",
       "</table>\n",
       "</div>"
      ],
      "text/plain": [
       "       총구매액     주구매상품     주구매지점      내점일수   내점당구매건수    주말방문비율      구매주기  \\\n",
       "0 -0.144580 -0.738357 -1.904703 -0.009338  0.554247  0.758623 -0.159962   \n",
       "1 -0.549190  0.490702  1.466677 -0.635003 -0.698168 -1.060530 -0.806554   \n",
       "2 -0.542700 -0.661541 -1.727262 -0.635003 -0.436675 -1.060530 -0.806554   \n",
       "3 -0.463911 -0.738357 -1.549821 -0.046142 -0.204236  0.037746 -0.200374   \n",
       "4 -0.384561  0.029805 -0.485175 -0.635003 -0.698168 -1.060530  2.588052   \n",
       "\n",
       "   환불금액_new  \n",
       "0  1.380060  \n",
       "1  1.380060  \n",
       "2 -0.724606  \n",
       "3 -0.724606  \n",
       "4 -0.724606  "
      ]
     },
     "execution_count": 47,
     "metadata": {},
     "output_type": "execute_result"
    }
   ],
   "source": [
    "x_train.head()"
   ]
  },
  {
   "cell_type": "markdown",
   "id": "a5229824",
   "metadata": {},
   "source": [
    "데이터의 중간 결과를 수시로 백업하기"
   ]
  },
  {
   "cell_type": "code",
   "execution_count": 48,
   "id": "6a2272a3",
   "metadata": {},
   "outputs": [],
   "source": [
    "x_train_backup = x_train.copy()"
   ]
  },
  {
   "cell_type": "code",
   "execution_count": 52,
   "id": "97d02b3b",
   "metadata": {},
   "outputs": [
    {
     "data": {
      "text/html": [
       "<div>\n",
       "<style scoped>\n",
       "    .dataframe tbody tr th:only-of-type {\n",
       "        vertical-align: middle;\n",
       "    }\n",
       "\n",
       "    .dataframe tbody tr th {\n",
       "        vertical-align: top;\n",
       "    }\n",
       "\n",
       "    .dataframe thead th {\n",
       "        text-align: right;\n",
       "    }\n",
       "</style>\n",
       "<table border=\"1\" class=\"dataframe\">\n",
       "  <thead>\n",
       "    <tr style=\"text-align: right;\">\n",
       "      <th></th>\n",
       "      <th>총구매액</th>\n",
       "      <th>주구매상품</th>\n",
       "      <th>주구매지점</th>\n",
       "      <th>내점일수</th>\n",
       "      <th>내점당구매건수</th>\n",
       "      <th>주말방문비율</th>\n",
       "      <th>구매주기</th>\n",
       "      <th>환불금액_new</th>\n",
       "    </tr>\n",
       "  </thead>\n",
       "  <tbody>\n",
       "    <tr>\n",
       "      <th>0</th>\n",
       "      <td>-0.144580</td>\n",
       "      <td>-0.738357</td>\n",
       "      <td>-1.904703</td>\n",
       "      <td>-0.009338</td>\n",
       "      <td>0.554247</td>\n",
       "      <td>0.758623</td>\n",
       "      <td>-0.159962</td>\n",
       "      <td>1.380060</td>\n",
       "    </tr>\n",
       "    <tr>\n",
       "      <th>1</th>\n",
       "      <td>-0.549190</td>\n",
       "      <td>0.490702</td>\n",
       "      <td>1.466677</td>\n",
       "      <td>-0.635003</td>\n",
       "      <td>-0.698168</td>\n",
       "      <td>-1.060530</td>\n",
       "      <td>-0.806554</td>\n",
       "      <td>1.380060</td>\n",
       "    </tr>\n",
       "    <tr>\n",
       "      <th>2</th>\n",
       "      <td>-0.542700</td>\n",
       "      <td>-0.661541</td>\n",
       "      <td>-1.727262</td>\n",
       "      <td>-0.635003</td>\n",
       "      <td>-0.436675</td>\n",
       "      <td>-1.060530</td>\n",
       "      <td>-0.806554</td>\n",
       "      <td>-0.724606</td>\n",
       "    </tr>\n",
       "    <tr>\n",
       "      <th>3</th>\n",
       "      <td>-0.463911</td>\n",
       "      <td>-0.738357</td>\n",
       "      <td>-1.549821</td>\n",
       "      <td>-0.046142</td>\n",
       "      <td>-0.204236</td>\n",
       "      <td>0.037746</td>\n",
       "      <td>-0.200374</td>\n",
       "      <td>-0.724606</td>\n",
       "    </tr>\n",
       "    <tr>\n",
       "      <th>4</th>\n",
       "      <td>-0.384561</td>\n",
       "      <td>0.029805</td>\n",
       "      <td>-0.485175</td>\n",
       "      <td>-0.635003</td>\n",
       "      <td>-0.698168</td>\n",
       "      <td>-1.060530</td>\n",
       "      <td>2.588052</td>\n",
       "      <td>-0.724606</td>\n",
       "    </tr>\n",
       "  </tbody>\n",
       "</table>\n",
       "</div>"
      ],
      "text/plain": [
       "       총구매액     주구매상품     주구매지점      내점일수   내점당구매건수    주말방문비율      구매주기  \\\n",
       "0 -0.144580 -0.738357 -1.904703 -0.009338  0.554247  0.758623 -0.159962   \n",
       "1 -0.549190  0.490702  1.466677 -0.635003 -0.698168 -1.060530 -0.806554   \n",
       "2 -0.542700 -0.661541 -1.727262 -0.635003 -0.436675 -1.060530 -0.806554   \n",
       "3 -0.463911 -0.738357 -1.549821 -0.046142 -0.204236  0.037746 -0.200374   \n",
       "4 -0.384561  0.029805 -0.485175 -0.635003 -0.698168 -1.060530  2.588052   \n",
       "\n",
       "   환불금액_new  \n",
       "0  1.380060  \n",
       "1  1.380060  \n",
       "2 -0.724606  \n",
       "3 -0.724606  \n",
       "4 -0.724606  "
      ]
     },
     "execution_count": 52,
     "metadata": {},
     "output_type": "execute_result"
    }
   ],
   "source": [
    "x_train.head()"
   ]
  },
  {
   "cell_type": "code",
   "execution_count": 53,
   "id": "fb5da7ae",
   "metadata": {},
   "outputs": [
    {
     "data": {
      "text/html": [
       "<div>\n",
       "<style scoped>\n",
       "    .dataframe tbody tr th:only-of-type {\n",
       "        vertical-align: middle;\n",
       "    }\n",
       "\n",
       "    .dataframe tbody tr th {\n",
       "        vertical-align: top;\n",
       "    }\n",
       "\n",
       "    .dataframe thead th {\n",
       "        text-align: right;\n",
       "    }\n",
       "</style>\n",
       "<table border=\"1\" class=\"dataframe\">\n",
       "  <thead>\n",
       "    <tr style=\"text-align: right;\">\n",
       "      <th></th>\n",
       "      <th>gender</th>\n",
       "    </tr>\n",
       "  </thead>\n",
       "  <tbody>\n",
       "    <tr>\n",
       "      <th>0</th>\n",
       "      <td>0</td>\n",
       "    </tr>\n",
       "    <tr>\n",
       "      <th>1</th>\n",
       "      <td>0</td>\n",
       "    </tr>\n",
       "    <tr>\n",
       "      <th>2</th>\n",
       "      <td>1</td>\n",
       "    </tr>\n",
       "    <tr>\n",
       "      <th>3</th>\n",
       "      <td>1</td>\n",
       "    </tr>\n",
       "    <tr>\n",
       "      <th>4</th>\n",
       "      <td>0</td>\n",
       "    </tr>\n",
       "  </tbody>\n",
       "</table>\n",
       "</div>"
      ],
      "text/plain": [
       "   gender\n",
       "0       0\n",
       "1       0\n",
       "2       1\n",
       "3       1\n",
       "4       0"
      ]
     },
     "execution_count": 53,
     "metadata": {},
     "output_type": "execute_result"
    }
   ],
   "source": [
    "y_train.head()"
   ]
  },
  {
   "cell_type": "markdown",
   "id": "3c767aa6",
   "metadata": {},
   "source": [
    "## 1.3 학습하고 평가하기"
   ]
  },
  {
   "cell_type": "markdown",
   "id": "6008c6cb",
   "metadata": {},
   "source": [
    "데이터 학습시키기"
   ]
  },
  {
   "cell_type": "code",
   "execution_count": 55,
   "id": "a006d911",
   "metadata": {},
   "outputs": [
    {
     "name": "stdout",
     "output_type": "stream",
     "text": [
      "[1 0 0 ... 1 0 1]\n"
     ]
    }
   ],
   "source": [
    "from sklearn.tree import DecisionTreeClassifier\n",
    "\n",
    "model = DecisionTreeClassifier()\n",
    "\n",
    "model.fit(x_train, y_train)\n",
    "\n",
    "y_test_predicted = model.predict(x_test)\n",
    "\n",
    "print(y_test_predicted)"
   ]
  },
  {
   "cell_type": "code",
   "execution_count": 56,
   "id": "ba9690a5",
   "metadata": {},
   "outputs": [
    {
     "name": "stdout",
     "output_type": "stream",
     "text": [
      "      0\n",
      "0     1\n",
      "1     0\n",
      "2     0\n",
      "3     1\n",
      "4     0\n",
      "...  ..\n",
      "2477  1\n",
      "2478  1\n",
      "2479  1\n",
      "2480  0\n",
      "2481  1\n",
      "\n",
      "[2482 rows x 1 columns]\n"
     ]
    }
   ],
   "source": [
    "print(pd.DataFrame(y_test_predicted))"
   ]
  },
  {
   "cell_type": "markdown",
   "id": "f90137a2",
   "metadata": {},
   "source": [
    "하이퍼 파라미터 튜닝하기 : hyper parameter tuning"
   ]
  },
  {
   "cell_type": "code",
   "execution_count": 57,
   "id": "44bf7bc8",
   "metadata": {},
   "outputs": [
    {
     "name": "stdout",
     "output_type": "stream",
     "text": [
      "      0\n",
      "0     1\n",
      "1     0\n",
      "2     0\n",
      "3     0\n",
      "4     0\n",
      "...  ..\n",
      "2477  0\n",
      "2478  0\n",
      "2479  1\n",
      "2480  0\n",
      "2481  1\n",
      "\n",
      "[2482 rows x 1 columns]\n"
     ]
    }
   ],
   "source": [
    "model = DecisionTreeClassifier(max_depth = 10, criterion = 'entropy', random_state = 10)\n",
    "\n",
    "model.fit(x_train, y_train)\n",
    "\n",
    "y_test_predicted = model.predict(x_test)\n",
    "\n",
    "print(pd.DataFrame(y_test_predicted))"
   ]
  },
  {
   "cell_type": "markdown",
   "id": "193b480d",
   "metadata": {},
   "source": [
    "GridSearchCV() 함수로 하이퍼 파라미터 튜닝하기"
   ]
  },
  {
   "cell_type": "code",
   "execution_count": null,
   "id": "c5bcfc73",
   "metadata": {},
   "outputs": [],
   "source": [
    "from sklearn.model_selection import GridSearchCV\n",
    "from sklearn.pipeline import Pipeline\n",
    "\n",
    "parameters = {'model__max_depth':[3,4,5,6],\n",
    "              'model__criterion':['gini', 'entropy']}\n",
    "\n",
    "pipeline_model = Pipeline([('scaler', StandardScaler()), ('model', DecisionTreeClassifier())])\n",
    "\n",
    "grid_model = GridSearchCV(pipeline_model, param_grid = parameters, cv = 3)\n",
    "\n",
    "print(grid_model.fit(X_TRAIN, Y_TRAIN))\n",
    "\n",
    "best_model = grid_model.best_estimator_\n",
    "\n",
    "y_test_predicted = best_model.predict(x_test)\n",
    "print(pd.DataFrame(y_test_predicted))"
   ]
  },
  {
   "cell_type": "markdown",
   "id": "5690c84b",
   "metadata": {},
   "source": [
    "결과 예측하기"
   ]
  },
  {
   "cell_type": "code",
   "execution_count": 73,
   "id": "80cb7626",
   "metadata": {},
   "outputs": [
    {
     "name": "stdout",
     "output_type": "stream",
     "text": [
      "          0         1\n",
      "0  1.000000  0.000000\n",
      "1  0.805785  0.194215\n",
      "2  1.000000  0.000000\n",
      "3  0.509091  0.490909\n",
      "4  0.000000  1.000000\n"
     ]
    }
   ],
   "source": [
    "y_test_proba = model.predict_proba(x_test)\n",
    "\n",
    "print(pd.DataFrame(y_test_proba).head())"
   ]
  },
  {
   "cell_type": "code",
   "execution_count": 74,
   "id": "dca70bce",
   "metadata": {},
   "outputs": [
    {
     "name": "stdout",
     "output_type": "stream",
     "text": [
      "0       0.000000\n",
      "1       0.194215\n",
      "2       0.000000\n",
      "3       0.490909\n",
      "4       1.000000\n",
      "          ...   \n",
      "2477    0.393443\n",
      "2478    0.533632\n",
      "2479    1.000000\n",
      "2480    0.285714\n",
      "2481    0.000000\n",
      "Name: 1, Length: 2482, dtype: float64\n"
     ]
    }
   ],
   "source": [
    "print(pd.DataFrame(y_test_proba)[1])"
   ]
  },
  {
   "cell_type": "code",
   "execution_count": 75,
   "id": "53f178cb",
   "metadata": {},
   "outputs": [],
   "source": [
    "result = pd.DataFrame(y_test_proba)[1]"
   ]
  },
  {
   "cell_type": "markdown",
   "id": "3bb3df2e",
   "metadata": {},
   "source": [
    "모델 평가하기"
   ]
  },
  {
   "cell_type": "code",
   "execution_count": 61,
   "id": "239b86dc",
   "metadata": {},
   "outputs": [
    {
     "name": "stdout",
     "output_type": "stream",
     "text": [
      "0.6896432468240978\n"
     ]
    }
   ],
   "source": [
    "y_train_predicted = model.predict(x_train)\n",
    "\n",
    "from sklearn.metrics import roc_auc_score\n",
    "\n",
    "print(roc_auc_score(y_train, y_train_predicted))"
   ]
  },
  {
   "cell_type": "markdown",
   "id": "d0db68f2",
   "metadata": {},
   "source": [
    "꿀팁4) 테스트 데이터로 모델 평가하기"
   ]
  },
  {
   "cell_type": "code",
   "execution_count": 64,
   "id": "d07224af",
   "metadata": {},
   "outputs": [
    {
     "name": "stdout",
     "output_type": "stream",
     "text": [
      "(2800, 8)\n"
     ]
    }
   ],
   "source": [
    "from sklearn.model_selection import train_test_split\n",
    "\n",
    "X_TRAIN, X_TEST, Y_TRAIN, Y_TEST = train_test_split(x_train, y_train, test_size = 0.2, random_state = 10)\n",
    "\n",
    "print(X_TRAIN.shape)"
   ]
  },
  {
   "cell_type": "code",
   "execution_count": 65,
   "id": "83a1ff0b",
   "metadata": {},
   "outputs": [
    {
     "name": "stdout",
     "output_type": "stream",
     "text": [
      "(700, 8)\n"
     ]
    }
   ],
   "source": [
    "print(X_TEST.shape)"
   ]
  },
  {
   "cell_type": "code",
   "execution_count": 66,
   "id": "efcc75bd",
   "metadata": {},
   "outputs": [
    {
     "name": "stdout",
     "output_type": "stream",
     "text": [
      "(2800, 1)\n"
     ]
    }
   ],
   "source": [
    "print(Y_TRAIN.shape)"
   ]
  },
  {
   "cell_type": "code",
   "execution_count": 67,
   "id": "138e6124",
   "metadata": {},
   "outputs": [
    {
     "name": "stdout",
     "output_type": "stream",
     "text": [
      "(700, 1)\n"
     ]
    }
   ],
   "source": [
    "print(Y_TEST.shape)"
   ]
  },
  {
   "cell_type": "code",
   "execution_count": 68,
   "id": "bb842e89",
   "metadata": {},
   "outputs": [],
   "source": [
    "model = DecisionTreeClassifier(max_depth=10, criterion='entropy', random_state = 10)\n",
    "\n",
    "model.fit(X_TRAIN, Y_TRAIN)\n",
    "\n",
    "Y_TEST_PREDICTED = model.predict(X_TEST)"
   ]
  },
  {
   "cell_type": "code",
   "execution_count": 69,
   "id": "f7993cbb",
   "metadata": {},
   "outputs": [
    {
     "name": "stdout",
     "output_type": "stream",
     "text": [
      "0.5771332492643968\n"
     ]
    }
   ],
   "source": [
    "from sklearn.metrics import roc_auc_score\n",
    "\n",
    "print(roc_auc_score(Y_TEST, Y_TEST_PREDICTED))"
   ]
  },
  {
   "cell_type": "markdown",
   "id": "a6d86b65",
   "metadata": {},
   "source": [
    "## 1.4 결과 제출하기"
   ]
  },
  {
   "cell_type": "code",
   "execution_count": 76,
   "id": "5b69bb5b",
   "metadata": {},
   "outputs": [
    {
     "data": {
      "text/plain": [
       "0       0.000000\n",
       "1       0.194215\n",
       "2       0.000000\n",
       "3       0.490909\n",
       "4       1.000000\n",
       "          ...   \n",
       "2477    0.393443\n",
       "2478    0.533632\n",
       "2479    1.000000\n",
       "2480    0.285714\n",
       "2481    0.000000\n",
       "Name: 1, Length: 2482, dtype: float64"
      ]
     },
     "execution_count": 76,
     "metadata": {},
     "output_type": "execute_result"
    }
   ],
   "source": [
    "result"
   ]
  },
  {
   "cell_type": "code",
   "execution_count": 77,
   "id": "95217651",
   "metadata": {},
   "outputs": [
    {
     "data": {
      "text/html": [
       "<div>\n",
       "<style scoped>\n",
       "    .dataframe tbody tr th:only-of-type {\n",
       "        vertical-align: middle;\n",
       "    }\n",
       "\n",
       "    .dataframe tbody tr th {\n",
       "        vertical-align: top;\n",
       "    }\n",
       "\n",
       "    .dataframe thead th {\n",
       "        text-align: right;\n",
       "    }\n",
       "</style>\n",
       "<table border=\"1\" class=\"dataframe\">\n",
       "  <thead>\n",
       "    <tr style=\"text-align: right;\">\n",
       "      <th></th>\n",
       "      <th>cust_id</th>\n",
       "      <th>1</th>\n",
       "    </tr>\n",
       "  </thead>\n",
       "  <tbody>\n",
       "    <tr>\n",
       "      <th>0</th>\n",
       "      <td>3500</td>\n",
       "      <td>0.000000</td>\n",
       "    </tr>\n",
       "    <tr>\n",
       "      <th>1</th>\n",
       "      <td>3501</td>\n",
       "      <td>0.194215</td>\n",
       "    </tr>\n",
       "    <tr>\n",
       "      <th>2</th>\n",
       "      <td>3502</td>\n",
       "      <td>0.000000</td>\n",
       "    </tr>\n",
       "    <tr>\n",
       "      <th>3</th>\n",
       "      <td>3503</td>\n",
       "      <td>0.490909</td>\n",
       "    </tr>\n",
       "    <tr>\n",
       "      <th>4</th>\n",
       "      <td>3504</td>\n",
       "      <td>1.000000</td>\n",
       "    </tr>\n",
       "    <tr>\n",
       "      <th>...</th>\n",
       "      <td>...</td>\n",
       "      <td>...</td>\n",
       "    </tr>\n",
       "    <tr>\n",
       "      <th>2477</th>\n",
       "      <td>5977</td>\n",
       "      <td>0.393443</td>\n",
       "    </tr>\n",
       "    <tr>\n",
       "      <th>2478</th>\n",
       "      <td>5978</td>\n",
       "      <td>0.533632</td>\n",
       "    </tr>\n",
       "    <tr>\n",
       "      <th>2479</th>\n",
       "      <td>5979</td>\n",
       "      <td>1.000000</td>\n",
       "    </tr>\n",
       "    <tr>\n",
       "      <th>2480</th>\n",
       "      <td>5980</td>\n",
       "      <td>0.285714</td>\n",
       "    </tr>\n",
       "    <tr>\n",
       "      <th>2481</th>\n",
       "      <td>5981</td>\n",
       "      <td>0.000000</td>\n",
       "    </tr>\n",
       "  </tbody>\n",
       "</table>\n",
       "<p>2482 rows × 2 columns</p>\n",
       "</div>"
      ],
      "text/plain": [
       "      cust_id         1\n",
       "0        3500  0.000000\n",
       "1        3501  0.194215\n",
       "2        3502  0.000000\n",
       "3        3503  0.490909\n",
       "4        3504  1.000000\n",
       "...       ...       ...\n",
       "2477     5977  0.393443\n",
       "2478     5978  0.533632\n",
       "2479     5979  1.000000\n",
       "2480     5980  0.285714\n",
       "2481     5981  0.000000\n",
       "\n",
       "[2482 rows x 2 columns]"
      ]
     },
     "execution_count": 77,
     "metadata": {},
     "output_type": "execute_result"
    }
   ],
   "source": [
    "pd.concat([x_test_cust_id, result], axis=1)"
   ]
  },
  {
   "cell_type": "code",
   "execution_count": 78,
   "id": "f7c4a423",
   "metadata": {},
   "outputs": [
    {
     "data": {
      "text/html": [
       "<div>\n",
       "<style scoped>\n",
       "    .dataframe tbody tr th:only-of-type {\n",
       "        vertical-align: middle;\n",
       "    }\n",
       "\n",
       "    .dataframe tbody tr th {\n",
       "        vertical-align: top;\n",
       "    }\n",
       "\n",
       "    .dataframe thead th {\n",
       "        text-align: right;\n",
       "    }\n",
       "</style>\n",
       "<table border=\"1\" class=\"dataframe\">\n",
       "  <thead>\n",
       "    <tr style=\"text-align: right;\">\n",
       "      <th></th>\n",
       "      <th>cust_id</th>\n",
       "      <th>gender</th>\n",
       "    </tr>\n",
       "  </thead>\n",
       "  <tbody>\n",
       "    <tr>\n",
       "      <th>0</th>\n",
       "      <td>3500</td>\n",
       "      <td>0.000000</td>\n",
       "    </tr>\n",
       "    <tr>\n",
       "      <th>1</th>\n",
       "      <td>3501</td>\n",
       "      <td>0.194215</td>\n",
       "    </tr>\n",
       "    <tr>\n",
       "      <th>2</th>\n",
       "      <td>3502</td>\n",
       "      <td>0.000000</td>\n",
       "    </tr>\n",
       "    <tr>\n",
       "      <th>3</th>\n",
       "      <td>3503</td>\n",
       "      <td>0.490909</td>\n",
       "    </tr>\n",
       "    <tr>\n",
       "      <th>4</th>\n",
       "      <td>3504</td>\n",
       "      <td>1.000000</td>\n",
       "    </tr>\n",
       "    <tr>\n",
       "      <th>...</th>\n",
       "      <td>...</td>\n",
       "      <td>...</td>\n",
       "    </tr>\n",
       "    <tr>\n",
       "      <th>2477</th>\n",
       "      <td>5977</td>\n",
       "      <td>0.393443</td>\n",
       "    </tr>\n",
       "    <tr>\n",
       "      <th>2478</th>\n",
       "      <td>5978</td>\n",
       "      <td>0.533632</td>\n",
       "    </tr>\n",
       "    <tr>\n",
       "      <th>2479</th>\n",
       "      <td>5979</td>\n",
       "      <td>1.000000</td>\n",
       "    </tr>\n",
       "    <tr>\n",
       "      <th>2480</th>\n",
       "      <td>5980</td>\n",
       "      <td>0.285714</td>\n",
       "    </tr>\n",
       "    <tr>\n",
       "      <th>2481</th>\n",
       "      <td>5981</td>\n",
       "      <td>0.000000</td>\n",
       "    </tr>\n",
       "  </tbody>\n",
       "</table>\n",
       "<p>2482 rows × 2 columns</p>\n",
       "</div>"
      ],
      "text/plain": [
       "      cust_id    gender\n",
       "0        3500  0.000000\n",
       "1        3501  0.194215\n",
       "2        3502  0.000000\n",
       "3        3503  0.490909\n",
       "4        3504  1.000000\n",
       "...       ...       ...\n",
       "2477     5977  0.393443\n",
       "2478     5978  0.533632\n",
       "2479     5979  1.000000\n",
       "2480     5980  0.285714\n",
       "2481     5981  0.000000\n",
       "\n",
       "[2482 rows x 2 columns]"
      ]
     },
     "execution_count": 78,
     "metadata": {},
     "output_type": "execute_result"
    }
   ],
   "source": [
    "pd.concat([x_test_cust_id, result], axis=1).rename(columns = {1:'gender'})"
   ]
  },
  {
   "cell_type": "code",
   "execution_count": 79,
   "id": "b514f08c",
   "metadata": {},
   "outputs": [],
   "source": [
    "final = pd.concat([x_test_cust_id, result], axis=1).rename(columns = {1:'gender'})\n",
    "final.to_csv('12345.csv', index=False)"
   ]
  },
  {
   "cell_type": "markdown",
   "id": "6695b52f",
   "metadata": {},
   "source": [
    "꿀팁5) 제출된 파일의 정상 여부를 확인하기"
   ]
  },
  {
   "cell_type": "code",
   "execution_count": 80,
   "id": "318c1528",
   "metadata": {},
   "outputs": [
    {
     "name": "stdout",
     "output_type": "stream",
     "text": [
      "      cust_id    gender\n",
      "0        3500  0.000000\n",
      "1        3501  0.194215\n",
      "2        3502  0.000000\n",
      "3        3503  0.490909\n",
      "4        3504  1.000000\n",
      "...       ...       ...\n",
      "2477     5977  0.393443\n",
      "2478     5978  0.533632\n",
      "2479     5979  1.000000\n",
      "2480     5980  0.285714\n",
      "2481     5981  0.000000\n",
      "\n",
      "[2482 rows x 2 columns]\n"
     ]
    }
   ],
   "source": [
    "final_confirm = pd.read_csv('12345.csv')\n",
    "print(final_confirm)"
   ]
  },
  {
   "cell_type": "markdown",
   "id": "77b64a8a",
   "metadata": {},
   "source": [
    "최종 제출 코드"
   ]
  },
  {
   "cell_type": "code",
   "execution_count": 83,
   "id": "22e6ecde",
   "metadata": {},
   "outputs": [
    {
     "data": {
      "text/html": [
       "<div>\n",
       "<style scoped>\n",
       "    .dataframe tbody tr th:only-of-type {\n",
       "        vertical-align: middle;\n",
       "    }\n",
       "\n",
       "    .dataframe tbody tr th {\n",
       "        vertical-align: top;\n",
       "    }\n",
       "\n",
       "    .dataframe thead th {\n",
       "        text-align: right;\n",
       "    }\n",
       "</style>\n",
       "<table border=\"1\" class=\"dataframe\">\n",
       "  <thead>\n",
       "    <tr style=\"text-align: right;\">\n",
       "      <th></th>\n",
       "      <th>cust_id</th>\n",
       "      <th>gender</th>\n",
       "    </tr>\n",
       "  </thead>\n",
       "  <tbody>\n",
       "    <tr>\n",
       "      <th>0</th>\n",
       "      <td>3500</td>\n",
       "      <td>0.409091</td>\n",
       "    </tr>\n",
       "    <tr>\n",
       "      <th>1</th>\n",
       "      <td>3501</td>\n",
       "      <td>1.000000</td>\n",
       "    </tr>\n",
       "    <tr>\n",
       "      <th>2</th>\n",
       "      <td>3502</td>\n",
       "      <td>1.000000</td>\n",
       "    </tr>\n",
       "    <tr>\n",
       "      <th>3</th>\n",
       "      <td>3503</td>\n",
       "      <td>0.684211</td>\n",
       "    </tr>\n",
       "    <tr>\n",
       "      <th>4</th>\n",
       "      <td>3504</td>\n",
       "      <td>0.156250</td>\n",
       "    </tr>\n",
       "    <tr>\n",
       "      <th>...</th>\n",
       "      <td>...</td>\n",
       "      <td>...</td>\n",
       "    </tr>\n",
       "    <tr>\n",
       "      <th>2477</th>\n",
       "      <td>5977</td>\n",
       "      <td>NaN</td>\n",
       "    </tr>\n",
       "    <tr>\n",
       "      <th>2478</th>\n",
       "      <td>5978</td>\n",
       "      <td>NaN</td>\n",
       "    </tr>\n",
       "    <tr>\n",
       "      <th>2479</th>\n",
       "      <td>5979</td>\n",
       "      <td>NaN</td>\n",
       "    </tr>\n",
       "    <tr>\n",
       "      <th>2480</th>\n",
       "      <td>5980</td>\n",
       "      <td>NaN</td>\n",
       "    </tr>\n",
       "    <tr>\n",
       "      <th>2481</th>\n",
       "      <td>5981</td>\n",
       "      <td>NaN</td>\n",
       "    </tr>\n",
       "  </tbody>\n",
       "</table>\n",
       "<p>2482 rows × 2 columns</p>\n",
       "</div>"
      ],
      "text/plain": [
       "      cust_id    gender\n",
       "0        3500  0.409091\n",
       "1        3501  1.000000\n",
       "2        3502  1.000000\n",
       "3        3503  0.684211\n",
       "4        3504  0.156250\n",
       "...       ...       ...\n",
       "2477     5977       NaN\n",
       "2478     5978       NaN\n",
       "2479     5979       NaN\n",
       "2480     5980       NaN\n",
       "2481     5981       NaN\n",
       "\n",
       "[2482 rows x 2 columns]"
      ]
     },
     "execution_count": 83,
     "metadata": {},
     "output_type": "execute_result"
    }
   ],
   "source": [
    "# 라이브러리와 파일 읽기\n",
    "import pandas as pd\n",
    "x_train = pd.read_csv('x_train.csv', encoding='cp949')\n",
    "x_test = pd.read_csv('x_test.csv', encoding='cp949')\n",
    "y_train = pd.read_csv('y_train.csv', encoding='cp949')\n",
    "\n",
    "# 테스트 데이터의 cust_id 저장하기\n",
    "x_test_cust_id = x_test['cust_id']\n",
    "\n",
    "# cust_id 칼럼 삭제하기\n",
    "x_train = x_train.drop(columns = ['cust_id'])\n",
    "y_train = y_train.drop(columns = ['cust_id'])\n",
    "x_test = x_test.drop(columns = ['cust_id'])\n",
    "\n",
    "# 결측치 처리하기\n",
    "x_train['환불금액'] = x_train['환불금액'].fillna(0)\n",
    "x_test['환불금액'] = x_test['환불금액'].fillna(0)\n",
    "\n",
    "# 라벨 인코딩 수행하기\n",
    "from sklearn.preprocessing import LabelEncoder\n",
    "encoder = LabelEncoder()\n",
    "x_train['주구매상품'] = encoder.fit_transform(x_train['주구매상품'])\n",
    "x_test['주구매상품'] = encoder.fit_transform(x_test['주구매상품'])\n",
    "x_train['주구매지점'] = encoder.fit_transform(x_train['주구매지점'])\n",
    "x_test['주구매지점'] = encoder.fit_transform(x_test['주구매지점'])\n",
    "\n",
    "# 파생변수 만들기\n",
    "condition = x_train['환불금액'] > 0\n",
    "x_train.loc[condition, '환불금액_new'] = 1\n",
    "x_train.loc[~condition, '환불금액_new'] = 0\n",
    "x_train = x_train.drop(columns = ['환불금액'])\n",
    "\n",
    "x_test.loc[condition, '환불금액_new'] = 1\n",
    "x_test.loc[~condition, '환불금액_new'] = 0\n",
    "x_test = x_test.drop(columns = ['환불금액'])\n",
    "\n",
    "# 데이터 스케일링 : 표준화 크기로 변환하기\n",
    "from sklearn.preprocessing import StandardScaler\n",
    "scaler = StandardScaler()\n",
    "x_train = pd.DataFrame(scaler.fit_transform(x_train), columns = x_train.columns)\n",
    "x_test = pd.DataFrame(scaler.fit_transform(x_test), columns = x_test.columns)\n",
    "\n",
    "# 불필요한 칼럼 삭제하기\n",
    "x_train = x_train.drop(columns = ['최대구매액'])\n",
    "x_test = x_test.drop(columns = ['최대구매액'])\n",
    "\n",
    "# 학습용/검증용 데이터로 분리하기\n",
    "from sklearn.model_selection import train_test_split\n",
    "X_TRAIN, X_TEST, Y_TRAIN, Y_TEST = train_test_split(x_train, y_train, test_size = 0.2, random_state = 10)\n",
    "\n",
    "# 모델 학습 및 평가하기\n",
    "from sklearn.tree import DecisionTreeClassifier\n",
    "model = DecisionTreeClassifier(max_depth = 10, criterion='entropy', random_state = 10)\n",
    "model.fit(X_TRAIN, Y_TRAIN)\n",
    "y_test_proba = model.predict_proba(X_TEST)\n",
    "\n",
    "# 결과 제출하기\n",
    "result = pd.DataFrame(y_test_proba)[1]\n",
    "final = pd.concat([x_test_cust_id, result], axis=1).rename(columns={1:'gender'})\n",
    "final.to_csv('12345.csv', index = False)\n",
    "confirm = pd.read_csv('12345.csv')\n",
    "confirm"
   ]
  },
  {
   "cell_type": "code",
   "execution_count": null,
   "id": "7803f338",
   "metadata": {},
   "outputs": [],
   "source": []
  }
 ],
 "metadata": {
  "kernelspec": {
   "display_name": "Python 3",
   "language": "python",
   "name": "python3"
  },
  "language_info": {
   "codemirror_mode": {
    "name": "ipython",
    "version": 3
   },
   "file_extension": ".py",
   "mimetype": "text/x-python",
   "name": "python",
   "nbconvert_exporter": "python",
   "pygments_lexer": "ipython3",
   "version": "3.8.8"
  }
 },
 "nbformat": 4,
 "nbformat_minor": 5
}
