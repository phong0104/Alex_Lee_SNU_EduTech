{
 "cells": [
  {
   "cell_type": "markdown",
   "id": "5c22d8a5",
   "metadata": {},
   "source": [
    "## 2.1 데이터 탐색하기"
   ]
  },
  {
   "cell_type": "markdown",
   "id": "3b05602d",
   "metadata": {},
   "source": [
    "데이터 가져오기"
   ]
  },
  {
   "cell_type": "code",
   "execution_count": 1,
   "id": "30b26b6d",
   "metadata": {},
   "outputs": [],
   "source": [
    "import pandas as pd\n",
    "\n",
    "x_train = pd.read_csv('titanic_x_train.csv', encoding='cp949')\n",
    "x_test = pd.read_csv('titanic_x_test.csv', encoding='cp949')\n",
    "y_train = pd.read_csv('titanic_y_train.csv', encoding='cp949')"
   ]
  },
  {
   "cell_type": "code",
   "execution_count": 2,
   "id": "ce0e47f8",
   "metadata": {},
   "outputs": [
    {
     "name": "stdout",
     "output_type": "stream",
     "text": [
      "                                   0\n",
      "PassengerId                        1\n",
      "티켓등급                               3\n",
      "승객이름         Braund, Mr. Owen Harris\n",
      "성별                              male\n",
      "나이                              22.0\n",
      "형제자매배우자수                           1\n",
      "부모자식수                              0\n",
      "티켓번호                       A/5 21171\n",
      "운임요금                            7.25\n",
      "객실번호                             NaN\n",
      "선착장                                S\n"
     ]
    }
   ],
   "source": [
    "print(x_train.head(1).T)"
   ]
  },
  {
   "cell_type": "code",
   "execution_count": 3,
   "id": "5695ad83",
   "metadata": {},
   "outputs": [
    {
     "name": "stdout",
     "output_type": "stream",
     "text": [
      "                            0\n",
      "PassengerId               892\n",
      "티켓등급                        3\n",
      "승객이름         Kelly, Mr. James\n",
      "성별                       male\n",
      "나이                       34.5\n",
      "형제자매배우자수                    0\n",
      "부모자식수                       0\n",
      "티켓번호                   330911\n",
      "운임요금                   7.8292\n",
      "객실번호                      NaN\n",
      "선착장                         Q\n"
     ]
    }
   ],
   "source": [
    "print(x_test.head(1).T)"
   ]
  },
  {
   "cell_type": "code",
   "execution_count": 4,
   "id": "3ddc1c86",
   "metadata": {},
   "outputs": [
    {
     "name": "stdout",
     "output_type": "stream",
     "text": [
      "   癤풮assengerId  Survived\n",
      "0             1         0\n",
      "1             2         1\n",
      "2             3         1\n",
      "3             4         1\n",
      "4             5         0\n"
     ]
    }
   ],
   "source": [
    "print(y_train.head(5))"
   ]
  },
  {
   "cell_type": "code",
   "execution_count": 5,
   "id": "34e2eb85",
   "metadata": {},
   "outputs": [
    {
     "data": {
      "text/html": [
       "<div>\n",
       "<style scoped>\n",
       "    .dataframe tbody tr th:only-of-type {\n",
       "        vertical-align: middle;\n",
       "    }\n",
       "\n",
       "    .dataframe tbody tr th {\n",
       "        vertical-align: top;\n",
       "    }\n",
       "\n",
       "    .dataframe thead th {\n",
       "        text-align: right;\n",
       "    }\n",
       "</style>\n",
       "<table border=\"1\" class=\"dataframe\">\n",
       "  <thead>\n",
       "    <tr style=\"text-align: right;\">\n",
       "      <th></th>\n",
       "      <th>PassengerId</th>\n",
       "      <th>Survived</th>\n",
       "    </tr>\n",
       "  </thead>\n",
       "  <tbody>\n",
       "    <tr>\n",
       "      <th>0</th>\n",
       "      <td>1</td>\n",
       "      <td>0</td>\n",
       "    </tr>\n",
       "    <tr>\n",
       "      <th>1</th>\n",
       "      <td>2</td>\n",
       "      <td>1</td>\n",
       "    </tr>\n",
       "    <tr>\n",
       "      <th>2</th>\n",
       "      <td>3</td>\n",
       "      <td>1</td>\n",
       "    </tr>\n",
       "    <tr>\n",
       "      <th>3</th>\n",
       "      <td>4</td>\n",
       "      <td>1</td>\n",
       "    </tr>\n",
       "    <tr>\n",
       "      <th>4</th>\n",
       "      <td>5</td>\n",
       "      <td>0</td>\n",
       "    </tr>\n",
       "  </tbody>\n",
       "</table>\n",
       "</div>"
      ],
      "text/plain": [
       "   PassengerId  Survived\n",
       "0            1         0\n",
       "1            2         1\n",
       "2            3         1\n",
       "3            4         1\n",
       "4            5         0"
      ]
     },
     "execution_count": 5,
     "metadata": {},
     "output_type": "execute_result"
    }
   ],
   "source": [
    "y_train.columns = ['PassengerId', 'Survived']\n",
    "y_train.head()"
   ]
  },
  {
   "cell_type": "markdown",
   "id": "eb5e0971",
   "metadata": {},
   "source": [
    "행/열 확인하기"
   ]
  },
  {
   "cell_type": "code",
   "execution_count": 6,
   "id": "ab3428de",
   "metadata": {},
   "outputs": [
    {
     "name": "stdout",
     "output_type": "stream",
     "text": [
      "(891, 11)\n"
     ]
    }
   ],
   "source": [
    "print(x_train.shape)"
   ]
  },
  {
   "cell_type": "code",
   "execution_count": 7,
   "id": "844ed5d8",
   "metadata": {},
   "outputs": [
    {
     "name": "stdout",
     "output_type": "stream",
     "text": [
      "(418, 11)\n"
     ]
    }
   ],
   "source": [
    "print(x_test.shape)"
   ]
  },
  {
   "cell_type": "code",
   "execution_count": 8,
   "id": "0bc5a430",
   "metadata": {},
   "outputs": [
    {
     "name": "stdout",
     "output_type": "stream",
     "text": [
      "(891, 2)\n"
     ]
    }
   ],
   "source": [
    "print(y_train.shape)"
   ]
  },
  {
   "cell_type": "markdown",
   "id": "dfdbd6ad",
   "metadata": {},
   "source": [
    "요약정보 확인하기"
   ]
  },
  {
   "cell_type": "code",
   "execution_count": 9,
   "id": "aab39229",
   "metadata": {},
   "outputs": [
    {
     "name": "stdout",
     "output_type": "stream",
     "text": [
      "<class 'pandas.core.frame.DataFrame'>\n",
      "RangeIndex: 891 entries, 0 to 890\n",
      "Data columns (total 11 columns):\n",
      " #   Column       Non-Null Count  Dtype  \n",
      "---  ------       --------------  -----  \n",
      " 0   PassengerId  891 non-null    int64  \n",
      " 1   티켓등급         891 non-null    int64  \n",
      " 2   승객이름         891 non-null    object \n",
      " 3   성별           891 non-null    object \n",
      " 4   나이           714 non-null    float64\n",
      " 5   형제자매배우자수     891 non-null    int64  \n",
      " 6   부모자식수        891 non-null    int64  \n",
      " 7   티켓번호         891 non-null    object \n",
      " 8   운임요금         891 non-null    float64\n",
      " 9   객실번호         204 non-null    object \n",
      " 10  선착장          889 non-null    object \n",
      "dtypes: float64(2), int64(4), object(5)\n",
      "memory usage: 76.7+ KB\n",
      "None\n"
     ]
    }
   ],
   "source": [
    "print(x_train.info())"
   ]
  },
  {
   "cell_type": "code",
   "execution_count": 10,
   "id": "77bc7a03",
   "metadata": {},
   "outputs": [
    {
     "name": "stdout",
     "output_type": "stream",
     "text": [
      "2\n"
     ]
    }
   ],
   "source": [
    "print(x_train['성별'].unique().size)"
   ]
  },
  {
   "cell_type": "code",
   "execution_count": 11,
   "id": "af8d9d4a",
   "metadata": {},
   "outputs": [
    {
     "name": "stdout",
     "output_type": "stream",
     "text": [
      "['male' 'female']\n"
     ]
    }
   ],
   "source": [
    "print(x_train['성별'].unique())"
   ]
  },
  {
   "cell_type": "code",
   "execution_count": 12,
   "id": "5c2b0e3e",
   "metadata": {},
   "outputs": [
    {
     "name": "stdout",
     "output_type": "stream",
     "text": [
      "4\n"
     ]
    }
   ],
   "source": [
    "print(x_train['선착장'].unique().size)"
   ]
  },
  {
   "cell_type": "code",
   "execution_count": 13,
   "id": "8e208596",
   "metadata": {},
   "outputs": [
    {
     "name": "stdout",
     "output_type": "stream",
     "text": [
      "['S' 'C' 'Q' nan]\n"
     ]
    }
   ],
   "source": [
    "print(x_train['선착장'].unique())"
   ]
  },
  {
   "cell_type": "code",
   "execution_count": 14,
   "id": "b454158b",
   "metadata": {},
   "outputs": [
    {
     "name": "stdout",
     "output_type": "stream",
     "text": [
      "891\n"
     ]
    }
   ],
   "source": [
    "print(x_train['승객이름'].unique().size)"
   ]
  },
  {
   "cell_type": "code",
   "execution_count": 15,
   "id": "45c88deb",
   "metadata": {},
   "outputs": [
    {
     "name": "stdout",
     "output_type": "stream",
     "text": [
      "681\n"
     ]
    }
   ],
   "source": [
    "print(x_train['티켓번호'].unique().size)"
   ]
  },
  {
   "cell_type": "code",
   "execution_count": 16,
   "id": "aa925dab",
   "metadata": {},
   "outputs": [
    {
     "name": "stdout",
     "output_type": "stream",
     "text": [
      "148\n"
     ]
    }
   ],
   "source": [
    "print(x_train['객실번호'].unique().size)"
   ]
  },
  {
   "cell_type": "markdown",
   "id": "bdb3b958",
   "metadata": {},
   "source": [
    "기초 통계량 확인하기"
   ]
  },
  {
   "cell_type": "code",
   "execution_count": 17,
   "id": "59d8b09e",
   "metadata": {},
   "outputs": [
    {
     "name": "stdout",
     "output_type": "stream",
     "text": [
      "             count        mean         std   min       25%       50%    75%  \\\n",
      "PassengerId  891.0  446.000000  257.353842  1.00  223.5000  446.0000  668.5   \n",
      "티켓등급         891.0    2.308642    0.836071  1.00    2.0000    3.0000    3.0   \n",
      "나이           714.0   29.699118   14.526497  0.42   20.1250   28.0000   38.0   \n",
      "형제자매배우자수     891.0    0.523008    1.102743  0.00    0.0000    0.0000    1.0   \n",
      "부모자식수        891.0    0.381594    0.806057  0.00    0.0000    0.0000    0.0   \n",
      "운임요금         891.0   32.204208   49.693429  0.00    7.9104   14.4542   31.0   \n",
      "\n",
      "                  max  \n",
      "PassengerId  891.0000  \n",
      "티켓등급           3.0000  \n",
      "나이            80.0000  \n",
      "형제자매배우자수       8.0000  \n",
      "부모자식수          6.0000  \n",
      "운임요금         512.3292  \n"
     ]
    }
   ],
   "source": [
    "print(x_train.describe().T)"
   ]
  },
  {
   "cell_type": "markdown",
   "id": "2191a592",
   "metadata": {},
   "source": [
    "독립변수와 종속변수의 관계 확인하기"
   ]
  },
  {
   "cell_type": "code",
   "execution_count": 18,
   "id": "a6cf6d99",
   "metadata": {},
   "outputs": [],
   "source": [
    "data = pd.concat([x_train, y_train], axis = 1)"
   ]
  },
  {
   "cell_type": "code",
   "execution_count": 19,
   "id": "25b33e64",
   "metadata": {},
   "outputs": [
    {
     "name": "stdout",
     "output_type": "stream",
     "text": [
      "성별\n",
      "female    0.742038\n",
      "male      0.188908\n",
      "Name: Survived, dtype: float64\n"
     ]
    }
   ],
   "source": [
    "print(data.groupby(['성별'])['Survived'].mean())"
   ]
  },
  {
   "cell_type": "code",
   "execution_count": 20,
   "id": "a7af7773",
   "metadata": {},
   "outputs": [
    {
     "name": "stdout",
     "output_type": "stream",
     "text": [
      "티켓등급\n",
      "1    0.629630\n",
      "2    0.472826\n",
      "3    0.242363\n",
      "Name: Survived, dtype: float64\n"
     ]
    }
   ],
   "source": [
    "print(data.groupby(['티켓등급'])['Survived'].mean())"
   ]
  },
  {
   "cell_type": "code",
   "execution_count": 21,
   "id": "3a206aa9",
   "metadata": {},
   "outputs": [
    {
     "name": "stdout",
     "output_type": "stream",
     "text": [
      "선착장\n",
      "C    0.553571\n",
      "Q    0.389610\n",
      "S    0.336957\n",
      "Name: Survived, dtype: float64\n"
     ]
    }
   ],
   "source": [
    "print(data.groupby(['선착장'])['Survived'].mean())"
   ]
  },
  {
   "cell_type": "markdown",
   "id": "21ce6435",
   "metadata": {},
   "source": [
    "## 2.2 전처리하기"
   ]
  },
  {
   "cell_type": "markdown",
   "id": "3e6da532",
   "metadata": {},
   "source": [
    "불필요한 칼럼 삭제하기"
   ]
  },
  {
   "cell_type": "code",
   "execution_count": 22,
   "id": "e26e5d1e",
   "metadata": {},
   "outputs": [],
   "source": [
    "x_test_passenger_id = x_test['PassengerId']"
   ]
  },
  {
   "cell_type": "code",
   "execution_count": 23,
   "id": "2488ed91",
   "metadata": {},
   "outputs": [],
   "source": [
    "x_train = x_train.drop(columns=['PassengerId'])\n",
    "x_test = x_test.drop(columns=['PassengerId'])\n",
    "y_train = y_train.drop(columns=['PassengerId'])"
   ]
  },
  {
   "cell_type": "code",
   "execution_count": 24,
   "id": "69600ee1",
   "metadata": {},
   "outputs": [
    {
     "name": "stdout",
     "output_type": "stream",
     "text": [
      "                                0  \\\n",
      "티켓등급                            3   \n",
      "승객이름      Braund, Mr. Owen Harris   \n",
      "성별                           male   \n",
      "나이                           22.0   \n",
      "형제자매배우자수                        1   \n",
      "부모자식수                           0   \n",
      "티켓번호                    A/5 21171   \n",
      "운임요금                         7.25   \n",
      "객실번호                          NaN   \n",
      "선착장                             S   \n",
      "\n",
      "                                                          1  \\\n",
      "티켓등급                                                      1   \n",
      "승객이름      Cumings, Mrs. John Bradley (Florence Briggs Th...   \n",
      "성별                                                   female   \n",
      "나이                                                     38.0   \n",
      "형제자매배우자수                                                  1   \n",
      "부모자식수                                                     0   \n",
      "티켓번호                                               PC 17599   \n",
      "운임요금                                                71.2833   \n",
      "객실번호                                                    C85   \n",
      "선착장                                                       C   \n",
      "\n",
      "                               2  \\\n",
      "티켓등급                           3   \n",
      "승객이름      Heikkinen, Miss. Laina   \n",
      "성별                        female   \n",
      "나이                          26.0   \n",
      "형제자매배우자수                       0   \n",
      "부모자식수                          0   \n",
      "티켓번호            STON/O2. 3101282   \n",
      "운임요금                       7.925   \n",
      "객실번호                         NaN   \n",
      "선착장                            S   \n",
      "\n",
      "                                                     3  \\\n",
      "티켓등급                                                 1   \n",
      "승객이름      Futrelle, Mrs. Jacques Heath (Lily May Peel)   \n",
      "성별                                              female   \n",
      "나이                                                35.0   \n",
      "형제자매배우자수                                             1   \n",
      "부모자식수                                                0   \n",
      "티켓번호                                            113803   \n",
      "운임요금                                              53.1   \n",
      "객실번호                                              C123   \n",
      "선착장                                                  S   \n",
      "\n",
      "                                 4  \n",
      "티켓등급                             3  \n",
      "승객이름      Allen, Mr. William Henry  \n",
      "성별                            male  \n",
      "나이                            35.0  \n",
      "형제자매배우자수                         0  \n",
      "부모자식수                            0  \n",
      "티켓번호                        373450  \n",
      "운임요금                          8.05  \n",
      "객실번호                           NaN  \n",
      "선착장                              S  \n"
     ]
    }
   ],
   "source": [
    "print(x_train.head().T)"
   ]
  },
  {
   "cell_type": "code",
   "execution_count": 25,
   "id": "bf99accb",
   "metadata": {},
   "outputs": [
    {
     "name": "stdout",
     "output_type": "stream",
     "text": [
      "   Survived\n",
      "0         0\n",
      "1         1\n",
      "2         1\n",
      "3         1\n",
      "4         0\n"
     ]
    }
   ],
   "source": [
    "print(y_train.head())"
   ]
  },
  {
   "cell_type": "code",
   "execution_count": 26,
   "id": "f3a62df9",
   "metadata": {},
   "outputs": [],
   "source": [
    "x_train = x_train.drop(columns=['티켓번호'])\n",
    "x_test = x_test.drop(columns=['티켓번호'])"
   ]
  },
  {
   "cell_type": "code",
   "execution_count": 27,
   "id": "514d8613",
   "metadata": {},
   "outputs": [],
   "source": [
    "x_train = x_train.drop(columns=['승객이름'])\n",
    "x_test = x_test.drop(columns=['승객이름'])"
   ]
  },
  {
   "cell_type": "markdown",
   "id": "a7f6f388",
   "metadata": {},
   "source": [
    "결측치 처리하기"
   ]
  },
  {
   "cell_type": "code",
   "execution_count": 28,
   "id": "6564b5a9",
   "metadata": {},
   "outputs": [
    {
     "name": "stdout",
     "output_type": "stream",
     "text": [
      "177\n"
     ]
    }
   ],
   "source": [
    "print(x_train['나이'].isnull().sum())"
   ]
  },
  {
   "cell_type": "code",
   "execution_count": 29,
   "id": "c4eb19a8",
   "metadata": {},
   "outputs": [
    {
     "name": "stdout",
     "output_type": "stream",
     "text": [
      "687\n"
     ]
    }
   ],
   "source": [
    "print(x_train['객실번호'].isnull().sum())"
   ]
  },
  {
   "cell_type": "code",
   "execution_count": 30,
   "id": "622bc849",
   "metadata": {},
   "outputs": [
    {
     "name": "stdout",
     "output_type": "stream",
     "text": [
      "2\n"
     ]
    }
   ],
   "source": [
    "print(x_train['선착장'].isnull().sum())"
   ]
  },
  {
   "cell_type": "code",
   "execution_count": 31,
   "id": "1b508a1e",
   "metadata": {},
   "outputs": [
    {
     "name": "stdout",
     "output_type": "stream",
     "text": [
      "                나이  Survived\n",
      "나이        1.000000 -0.077221\n",
      "Survived -0.077221  1.000000\n"
     ]
    }
   ],
   "source": [
    "print(data[['나이', 'Survived']].corr())"
   ]
  },
  {
   "cell_type": "code",
   "execution_count": 32,
   "id": "34a812a7",
   "metadata": {},
   "outputs": [
    {
     "data": {
      "text/html": [
       "<div>\n",
       "<style scoped>\n",
       "    .dataframe tbody tr th:only-of-type {\n",
       "        vertical-align: middle;\n",
       "    }\n",
       "\n",
       "    .dataframe tbody tr th {\n",
       "        vertical-align: top;\n",
       "    }\n",
       "\n",
       "    .dataframe thead th {\n",
       "        text-align: right;\n",
       "    }\n",
       "</style>\n",
       "<table border=\"1\" class=\"dataframe\">\n",
       "  <thead>\n",
       "    <tr style=\"text-align: right;\">\n",
       "      <th></th>\n",
       "      <th>나이</th>\n",
       "      <th>Survived</th>\n",
       "    </tr>\n",
       "  </thead>\n",
       "  <tbody>\n",
       "    <tr>\n",
       "      <th>나이</th>\n",
       "      <td>1.000000</td>\n",
       "      <td>-0.077221</td>\n",
       "    </tr>\n",
       "    <tr>\n",
       "      <th>Survived</th>\n",
       "      <td>-0.077221</td>\n",
       "      <td>1.000000</td>\n",
       "    </tr>\n",
       "  </tbody>\n",
       "</table>\n",
       "</div>"
      ],
      "text/plain": [
       "                나이  Survived\n",
       "나이        1.000000 -0.077221\n",
       "Survived -0.077221  1.000000"
      ]
     },
     "execution_count": 32,
     "metadata": {},
     "output_type": "execute_result"
    }
   ],
   "source": [
    "data[['나이', 'Survived']].corr()"
   ]
  },
  {
   "cell_type": "code",
   "execution_count": 33,
   "id": "03884399",
   "metadata": {},
   "outputs": [],
   "source": [
    "x_train = x_train.drop(columns = ['나이'])\n",
    "x_test = x_test.drop(columns = ['나이'])"
   ]
  },
  {
   "cell_type": "code",
   "execution_count": 34,
   "id": "52bfcff7",
   "metadata": {},
   "outputs": [
    {
     "name": "stdout",
     "output_type": "stream",
     "text": [
      "148\n"
     ]
    }
   ],
   "source": [
    "print(x_train['객실번호'].unique().size)"
   ]
  },
  {
   "cell_type": "code",
   "execution_count": 35,
   "id": "b0dcda63",
   "metadata": {},
   "outputs": [],
   "source": [
    "x_train = x_train.drop(columns = ['객실번호'])"
   ]
  },
  {
   "cell_type": "code",
   "execution_count": 36,
   "id": "8f00618b",
   "metadata": {},
   "outputs": [],
   "source": [
    "x_test = x_test.drop(columns = ['객실번호'])"
   ]
  },
  {
   "cell_type": "code",
   "execution_count": 37,
   "id": "37d70832",
   "metadata": {},
   "outputs": [
    {
     "name": "stdout",
     "output_type": "stream",
     "text": [
      "선착장\n",
      "C    168\n",
      "Q     77\n",
      "S    644\n",
      "Name: 선착장, dtype: int64\n"
     ]
    }
   ],
   "source": [
    "print(x_train.groupby(['선착장'])['선착장'].count())"
   ]
  },
  {
   "cell_type": "code",
   "execution_count": 38,
   "id": "e20258fc",
   "metadata": {},
   "outputs": [
    {
     "name": "stdout",
     "output_type": "stream",
     "text": [
      "0\n"
     ]
    }
   ],
   "source": [
    "x_train['선착장'] = x_train['선착장'].fillna('S')\n",
    "print(x_train['선착장'].isnull().sum())"
   ]
  },
  {
   "cell_type": "code",
   "execution_count": 39,
   "id": "f9df8e40",
   "metadata": {},
   "outputs": [
    {
     "name": "stdout",
     "output_type": "stream",
     "text": [
      "0\n"
     ]
    }
   ],
   "source": [
    "print(x_test['선착장'].isnull().sum())"
   ]
  },
  {
   "cell_type": "markdown",
   "id": "a5208c46",
   "metadata": {},
   "source": [
    "범주형 변수를 인코딩하기"
   ]
  },
  {
   "cell_type": "code",
   "execution_count": 40,
   "id": "8deb292a",
   "metadata": {},
   "outputs": [],
   "source": [
    "x_train['성별'] = x_train['성별'].replace('male',0).replace('female',1)\n",
    "x_test['성별'] = x_test['성별'].replace('male',0).replace('female',1)"
   ]
  },
  {
   "cell_type": "code",
   "execution_count": 41,
   "id": "f99b10cd",
   "metadata": {},
   "outputs": [
    {
     "name": "stdout",
     "output_type": "stream",
     "text": [
      "   티켓등급  성별  형제자매배우자수  부모자식수     운임요금 선착장  선착장Q  선착장S\n",
      "0     3   0         1      0   7.2500   S     0     1\n",
      "1     1   1         1      0  71.2833   C     0     0\n",
      "2     3   1         0      0   7.9250   S     0     1\n",
      "3     1   1         1      0  53.1000   S     0     1\n",
      "4     3   0         0      0   8.0500   S     0     1\n"
     ]
    }
   ],
   "source": [
    "선착장_dummy = pd.get_dummies(x_train['선착장'], drop_first = True).rename(columns={'Q':'선착장Q', 'S':'선착장S'})\n",
    "x_train = pd.concat([x_train, 선착장_dummy], axis=1)\n",
    "print(x_train.head())"
   ]
  },
  {
   "cell_type": "code",
   "execution_count": 42,
   "id": "38a2920d",
   "metadata": {},
   "outputs": [
    {
     "data": {
      "text/html": [
       "<div>\n",
       "<style scoped>\n",
       "    .dataframe tbody tr th:only-of-type {\n",
       "        vertical-align: middle;\n",
       "    }\n",
       "\n",
       "    .dataframe tbody tr th {\n",
       "        vertical-align: top;\n",
       "    }\n",
       "\n",
       "    .dataframe thead th {\n",
       "        text-align: right;\n",
       "    }\n",
       "</style>\n",
       "<table border=\"1\" class=\"dataframe\">\n",
       "  <thead>\n",
       "    <tr style=\"text-align: right;\">\n",
       "      <th></th>\n",
       "      <th>티켓등급</th>\n",
       "      <th>성별</th>\n",
       "      <th>형제자매배우자수</th>\n",
       "      <th>부모자식수</th>\n",
       "      <th>운임요금</th>\n",
       "      <th>선착장</th>\n",
       "      <th>선착장Q</th>\n",
       "      <th>선착장S</th>\n",
       "    </tr>\n",
       "  </thead>\n",
       "  <tbody>\n",
       "    <tr>\n",
       "      <th>0</th>\n",
       "      <td>3</td>\n",
       "      <td>0</td>\n",
       "      <td>1</td>\n",
       "      <td>0</td>\n",
       "      <td>7.2500</td>\n",
       "      <td>S</td>\n",
       "      <td>0</td>\n",
       "      <td>1</td>\n",
       "    </tr>\n",
       "    <tr>\n",
       "      <th>1</th>\n",
       "      <td>1</td>\n",
       "      <td>1</td>\n",
       "      <td>1</td>\n",
       "      <td>0</td>\n",
       "      <td>71.2833</td>\n",
       "      <td>C</td>\n",
       "      <td>0</td>\n",
       "      <td>0</td>\n",
       "    </tr>\n",
       "    <tr>\n",
       "      <th>2</th>\n",
       "      <td>3</td>\n",
       "      <td>1</td>\n",
       "      <td>0</td>\n",
       "      <td>0</td>\n",
       "      <td>7.9250</td>\n",
       "      <td>S</td>\n",
       "      <td>0</td>\n",
       "      <td>1</td>\n",
       "    </tr>\n",
       "    <tr>\n",
       "      <th>3</th>\n",
       "      <td>1</td>\n",
       "      <td>1</td>\n",
       "      <td>1</td>\n",
       "      <td>0</td>\n",
       "      <td>53.1000</td>\n",
       "      <td>S</td>\n",
       "      <td>0</td>\n",
       "      <td>1</td>\n",
       "    </tr>\n",
       "    <tr>\n",
       "      <th>4</th>\n",
       "      <td>3</td>\n",
       "      <td>0</td>\n",
       "      <td>0</td>\n",
       "      <td>0</td>\n",
       "      <td>8.0500</td>\n",
       "      <td>S</td>\n",
       "      <td>0</td>\n",
       "      <td>1</td>\n",
       "    </tr>\n",
       "  </tbody>\n",
       "</table>\n",
       "</div>"
      ],
      "text/plain": [
       "   티켓등급  성별  형제자매배우자수  부모자식수     운임요금 선착장  선착장Q  선착장S\n",
       "0     3   0         1      0   7.2500   S     0     1\n",
       "1     1   1         1      0  71.2833   C     0     0\n",
       "2     3   1         0      0   7.9250   S     0     1\n",
       "3     1   1         1      0  53.1000   S     0     1\n",
       "4     3   0         0      0   8.0500   S     0     1"
      ]
     },
     "execution_count": 42,
     "metadata": {},
     "output_type": "execute_result"
    }
   ],
   "source": [
    "x_train.head()"
   ]
  },
  {
   "cell_type": "code",
   "execution_count": 43,
   "id": "4f8d083a",
   "metadata": {},
   "outputs": [],
   "source": [
    "x_train = x_train.drop(columns = ['선착장'])"
   ]
  },
  {
   "cell_type": "code",
   "execution_count": 44,
   "id": "812239c5",
   "metadata": {},
   "outputs": [
    {
     "name": "stdout",
     "output_type": "stream",
     "text": [
      "   티켓등급  성별  형제자매배우자수  부모자식수     운임요금  선착장Q  선착장S\n",
      "0     3   0         0      0   7.8292     1     0\n",
      "1     3   1         1      0   7.0000     0     1\n",
      "2     2   0         0      0   9.6875     1     0\n",
      "3     3   0         0      0   8.6625     0     1\n",
      "4     3   1         1      1  12.2875     0     1\n"
     ]
    }
   ],
   "source": [
    "선착장_dummy = pd.get_dummies(x_test['선착장'], drop_first = True).rename(columns={'Q':'선착장Q', 'S':'선착장S'})\n",
    "x_test = pd.concat([x_test, 선착장_dummy], axis=1)\n",
    "x_test = x_test.drop(columns=['선착장'])\n",
    "print(x_test.head())"
   ]
  },
  {
   "cell_type": "code",
   "execution_count": 45,
   "id": "74504322",
   "metadata": {},
   "outputs": [
    {
     "data": {
      "text/html": [
       "<div>\n",
       "<style scoped>\n",
       "    .dataframe tbody tr th:only-of-type {\n",
       "        vertical-align: middle;\n",
       "    }\n",
       "\n",
       "    .dataframe tbody tr th {\n",
       "        vertical-align: top;\n",
       "    }\n",
       "\n",
       "    .dataframe thead th {\n",
       "        text-align: right;\n",
       "    }\n",
       "</style>\n",
       "<table border=\"1\" class=\"dataframe\">\n",
       "  <thead>\n",
       "    <tr style=\"text-align: right;\">\n",
       "      <th></th>\n",
       "      <th>티켓등급</th>\n",
       "      <th>성별</th>\n",
       "      <th>형제자매배우자수</th>\n",
       "      <th>부모자식수</th>\n",
       "      <th>운임요금</th>\n",
       "      <th>선착장Q</th>\n",
       "      <th>선착장S</th>\n",
       "    </tr>\n",
       "  </thead>\n",
       "  <tbody>\n",
       "    <tr>\n",
       "      <th>0</th>\n",
       "      <td>3</td>\n",
       "      <td>0</td>\n",
       "      <td>0</td>\n",
       "      <td>0</td>\n",
       "      <td>7.8292</td>\n",
       "      <td>1</td>\n",
       "      <td>0</td>\n",
       "    </tr>\n",
       "    <tr>\n",
       "      <th>1</th>\n",
       "      <td>3</td>\n",
       "      <td>1</td>\n",
       "      <td>1</td>\n",
       "      <td>0</td>\n",
       "      <td>7.0000</td>\n",
       "      <td>0</td>\n",
       "      <td>1</td>\n",
       "    </tr>\n",
       "    <tr>\n",
       "      <th>2</th>\n",
       "      <td>2</td>\n",
       "      <td>0</td>\n",
       "      <td>0</td>\n",
       "      <td>0</td>\n",
       "      <td>9.6875</td>\n",
       "      <td>1</td>\n",
       "      <td>0</td>\n",
       "    </tr>\n",
       "    <tr>\n",
       "      <th>3</th>\n",
       "      <td>3</td>\n",
       "      <td>0</td>\n",
       "      <td>0</td>\n",
       "      <td>0</td>\n",
       "      <td>8.6625</td>\n",
       "      <td>0</td>\n",
       "      <td>1</td>\n",
       "    </tr>\n",
       "    <tr>\n",
       "      <th>4</th>\n",
       "      <td>3</td>\n",
       "      <td>1</td>\n",
       "      <td>1</td>\n",
       "      <td>1</td>\n",
       "      <td>12.2875</td>\n",
       "      <td>0</td>\n",
       "      <td>1</td>\n",
       "    </tr>\n",
       "  </tbody>\n",
       "</table>\n",
       "</div>"
      ],
      "text/plain": [
       "   티켓등급  성별  형제자매배우자수  부모자식수     운임요금  선착장Q  선착장S\n",
       "0     3   0         0      0   7.8292     1     0\n",
       "1     3   1         1      0   7.0000     0     1\n",
       "2     2   0         0      0   9.6875     1     0\n",
       "3     3   0         0      0   8.6625     0     1\n",
       "4     3   1         1      1  12.2875     0     1"
      ]
     },
     "execution_count": 45,
     "metadata": {},
     "output_type": "execute_result"
    }
   ],
   "source": [
    "x_test.head()"
   ]
  },
  {
   "cell_type": "markdown",
   "id": "c4bb888d",
   "metadata": {},
   "source": [
    "파생변수 만들기"
   ]
  },
  {
   "cell_type": "code",
   "execution_count": 46,
   "id": "d9b1f253",
   "metadata": {},
   "outputs": [
    {
     "name": "stdout",
     "output_type": "stream",
     "text": [
      "   형제자매배우자수  부모자식수  가족수\n",
      "0         1      0    1\n",
      "1         1      0    1\n",
      "2         0      0    0\n",
      "3         1      0    1\n",
      "4         0      0    0\n",
      "5         0      0    0\n",
      "6         0      0    0\n",
      "7         3      1    4\n",
      "8         0      2    2\n",
      "9         1      0    1\n"
     ]
    }
   ],
   "source": [
    "x_train['가족수'] = x_train['형제자매배우자수'] + x_train['부모자식수']\n",
    "print(x_train[['형제자매배우자수', '부모자식수', '가족수']].head(10))"
   ]
  },
  {
   "cell_type": "code",
   "execution_count": 47,
   "id": "6ede896c",
   "metadata": {},
   "outputs": [],
   "source": [
    "x_train = x_train.drop(columns = ['형제자매배우자수', '부모자식수'])"
   ]
  },
  {
   "cell_type": "code",
   "execution_count": 48,
   "id": "24e27d3c",
   "metadata": {},
   "outputs": [],
   "source": [
    "x_test['가족수'] = x_test['형제자매배우자수'] + x_test['부모자식수']\n",
    "x_test = x_test.drop(columns = ['형제자매배우자수', '부모자식수'])"
   ]
  },
  {
   "cell_type": "markdown",
   "id": "ece5265f",
   "metadata": {},
   "source": [
    "## 2.3 학습하고 평가하기"
   ]
  },
  {
   "cell_type": "markdown",
   "id": "d3eb827c",
   "metadata": {},
   "source": [
    "데이터 분리하기"
   ]
  },
  {
   "cell_type": "code",
   "execution_count": 49,
   "id": "a805722f",
   "metadata": {},
   "outputs": [],
   "source": [
    "from sklearn.model_selection import train_test_split\n",
    "\n",
    "X_TRAIN, X_TEST, Y_TRAIN, Y_TEST = train_test_split(x_train, y_train, test_size = 0.2, random_state = 10)"
   ]
  },
  {
   "cell_type": "code",
   "execution_count": 50,
   "id": "df2ad1ba",
   "metadata": {},
   "outputs": [
    {
     "name": "stdout",
     "output_type": "stream",
     "text": [
      "(712, 6)\n"
     ]
    }
   ],
   "source": [
    "print(X_TRAIN.shape)"
   ]
  },
  {
   "cell_type": "code",
   "execution_count": 51,
   "id": "37e150f9",
   "metadata": {},
   "outputs": [
    {
     "name": "stdout",
     "output_type": "stream",
     "text": [
      "(179, 6)\n"
     ]
    }
   ],
   "source": [
    "print(X_TEST.shape)"
   ]
  },
  {
   "cell_type": "code",
   "execution_count": 52,
   "id": "dfd89a40",
   "metadata": {},
   "outputs": [
    {
     "name": "stdout",
     "output_type": "stream",
     "text": [
      "(712, 1)\n"
     ]
    }
   ],
   "source": [
    "print(Y_TRAIN.shape)"
   ]
  },
  {
   "cell_type": "code",
   "execution_count": 53,
   "id": "d63465b2",
   "metadata": {},
   "outputs": [
    {
     "name": "stdout",
     "output_type": "stream",
     "text": [
      "(179, 1)\n"
     ]
    }
   ],
   "source": [
    "print(Y_TEST.shape)"
   ]
  },
  {
   "cell_type": "markdown",
   "id": "473bc5f7",
   "metadata": {},
   "source": [
    "데이터 학습 및 하이퍼 파라미터 튜닝하기"
   ]
  },
  {
   "cell_type": "code",
   "execution_count": 55,
   "id": "abd7a088",
   "metadata": {},
   "outputs": [
    {
     "data": {
      "text/plain": [
       "XGBClassifier(base_score=0.5, booster='gbtree', colsample_bylevel=1,\n",
       "              colsample_bynode=1, colsample_bytree=1, enable_categorical=False,\n",
       "              eval_metric='error', gamma=0, gpu_id=-1, importance_type=None,\n",
       "              interaction_constraints='', learning_rate=0.300000012,\n",
       "              max_delta_step=0, max_depth=6, min_child_weight=1, missing=nan,\n",
       "              monotone_constraints='()', n_estimators=100, n_jobs=8,\n",
       "              num_parallel_tree=1, predictor='auto', random_state=10,\n",
       "              reg_alpha=0, reg_lambda=1, scale_pos_weight=1, subsample=1,\n",
       "              tree_method='exact', use_label_encoder=False,\n",
       "              validate_parameters=1, verbosity=None)"
      ]
     },
     "execution_count": 55,
     "metadata": {},
     "output_type": "execute_result"
    }
   ],
   "source": [
    "from xgboost import XGBClassifier\n",
    "model = XGBClassifier(eval_metric = 'error', random_state = 10, use_label_encoder = False)\n",
    "model.fit(X_TRAIN, Y_TRAIN)"
   ]
  },
  {
   "cell_type": "code",
   "execution_count": 56,
   "id": "1247deb3",
   "metadata": {},
   "outputs": [
    {
     "data": {
      "text/plain": [
       "XGBClassifier(base_score=0.5, booster='gbtree', colsample_bylevel=1,\n",
       "              colsample_bynode=1, colsample_bytree=1, enable_categorical=False,\n",
       "              eval_metric='error', gamma=0, gpu_id=-1, importance_type=None,\n",
       "              interaction_constraints='', learning_rate=0.300000012,\n",
       "              max_delta_step=0, max_depth=5, min_child_weight=1, missing=nan,\n",
       "              monotone_constraints='()', n_estimators=100, n_jobs=8,\n",
       "              num_parallel_tree=1, predictor='auto', random_state=10,\n",
       "              reg_alpha=0, reg_lambda=1, scale_pos_weight=1, subsample=1,\n",
       "              tree_method='exact', validate_parameters=1, verbosity=None)"
      ]
     },
     "execution_count": 56,
     "metadata": {},
     "output_type": "execute_result"
    }
   ],
   "source": [
    "model2 = XGBClassifier(n_estimators = 100, max_depth = 5, eval_metric = 'error', random_state = 10)\n",
    "model2.fit(X_TRAIN, Y_TRAIN)"
   ]
  },
  {
   "cell_type": "markdown",
   "id": "996f065a",
   "metadata": {},
   "source": [
    "결과 예측하기"
   ]
  },
  {
   "cell_type": "code",
   "execution_count": 57,
   "id": "c967377c",
   "metadata": {},
   "outputs": [
    {
     "data": {
      "text/plain": [
       "array([0, 0, 0, 0, 1, 0, 0, 1, 1, 0, 0, 0, 1, 0, 1, 1, 0, 0, 1, 1, 1, 0,\n",
       "       1, 0, 1, 0, 1, 0, 1, 0, 0, 0, 0, 1, 1, 0, 0, 0, 0, 1, 1, 1, 0, 1,\n",
       "       1, 0, 0, 0, 1, 1, 0, 0, 1, 1, 0, 0, 0, 0, 0, 1, 0, 0, 0, 1, 0, 1,\n",
       "       1, 0, 0, 1, 1, 0, 1, 0, 1, 0, 0, 1, 0, 1, 1, 0, 0, 0, 0, 0, 1, 0,\n",
       "       1, 1, 1, 0, 1, 0, 0, 0, 1, 0, 0, 0, 1, 0, 0, 0, 0, 0, 0, 0, 0, 0,\n",
       "       0, 1, 1, 1, 1, 0, 0, 1, 1, 1, 1, 0, 1, 0, 0, 1, 0, 1, 0, 0, 0, 0,\n",
       "       0, 0, 0, 0, 0, 0, 0, 0, 0, 1, 0, 0, 1, 0, 0, 0, 1, 0, 1, 0, 0, 1,\n",
       "       0, 0, 1, 0, 1, 1, 1, 1, 1, 0, 0, 1, 0, 0, 1, 1, 0, 0, 0, 0, 0, 1,\n",
       "       1, 1, 1, 1, 0, 1, 1, 0, 1, 0, 0, 0, 0, 0, 0, 0, 1, 0, 0, 0, 1, 0,\n",
       "       0, 0, 1, 0, 0, 1, 0, 0, 1, 0, 1, 0, 0, 0, 0, 1, 0, 0, 1, 0, 1, 0,\n",
       "       1, 0, 1, 0, 1, 1, 0, 1, 0, 0, 0, 1, 0, 0, 1, 0, 1, 0, 1, 1, 1, 1,\n",
       "       1, 0, 0, 0, 1, 0, 1, 0, 1, 0, 0, 0, 0, 0, 0, 0, 1, 0, 0, 0, 1, 1,\n",
       "       1, 0, 0, 0, 0, 0, 1, 0, 1, 1, 0, 1, 0, 0, 0, 0, 0, 1, 1, 1, 0, 0,\n",
       "       0, 0, 0, 0, 0, 0, 0, 0, 0, 0, 1, 0, 0, 0, 0, 0, 0, 0, 1, 1, 0, 0,\n",
       "       1, 0, 0, 0, 0, 1, 1, 1, 0, 0, 0, 0, 0, 0, 0, 1, 1, 0, 1, 0, 0, 0,\n",
       "       1, 0, 0, 1, 0, 0, 0, 0, 0, 0, 0, 0, 0, 1, 1, 1, 0, 1, 0, 1, 1, 0,\n",
       "       0, 0, 0, 0, 1, 0, 0, 1, 0, 1, 1, 0, 1, 0, 0, 1, 1, 1, 0, 1, 0, 0,\n",
       "       1, 1, 0, 0, 0, 0, 0, 0, 0, 1, 0, 1, 0, 0, 0, 0, 1, 1, 0, 0, 0, 1,\n",
       "       0, 1, 0, 0, 1, 0, 1, 0, 0, 1, 0, 0, 1, 1, 1, 1, 0, 0, 1, 0, 0, 1])"
      ]
     },
     "execution_count": 57,
     "metadata": {},
     "output_type": "execute_result"
    }
   ],
   "source": [
    "y_test_predicted = model.predict(x_test)\n",
    "y_test_predicted"
   ]
  },
  {
   "cell_type": "code",
   "execution_count": 59,
   "id": "1711b610",
   "metadata": {},
   "outputs": [
    {
     "data": {
      "text/html": [
       "<div>\n",
       "<style scoped>\n",
       "    .dataframe tbody tr th:only-of-type {\n",
       "        vertical-align: middle;\n",
       "    }\n",
       "\n",
       "    .dataframe tbody tr th {\n",
       "        vertical-align: top;\n",
       "    }\n",
       "\n",
       "    .dataframe thead th {\n",
       "        text-align: right;\n",
       "    }\n",
       "</style>\n",
       "<table border=\"1\" class=\"dataframe\">\n",
       "  <thead>\n",
       "    <tr style=\"text-align: right;\">\n",
       "      <th></th>\n",
       "      <th>0</th>\n",
       "    </tr>\n",
       "  </thead>\n",
       "  <tbody>\n",
       "    <tr>\n",
       "      <th>0</th>\n",
       "      <td>0</td>\n",
       "    </tr>\n",
       "    <tr>\n",
       "      <th>1</th>\n",
       "      <td>0</td>\n",
       "    </tr>\n",
       "    <tr>\n",
       "      <th>2</th>\n",
       "      <td>0</td>\n",
       "    </tr>\n",
       "    <tr>\n",
       "      <th>3</th>\n",
       "      <td>0</td>\n",
       "    </tr>\n",
       "    <tr>\n",
       "      <th>4</th>\n",
       "      <td>1</td>\n",
       "    </tr>\n",
       "    <tr>\n",
       "      <th>...</th>\n",
       "      <td>...</td>\n",
       "    </tr>\n",
       "    <tr>\n",
       "      <th>413</th>\n",
       "      <td>0</td>\n",
       "    </tr>\n",
       "    <tr>\n",
       "      <th>414</th>\n",
       "      <td>1</td>\n",
       "    </tr>\n",
       "    <tr>\n",
       "      <th>415</th>\n",
       "      <td>0</td>\n",
       "    </tr>\n",
       "    <tr>\n",
       "      <th>416</th>\n",
       "      <td>0</td>\n",
       "    </tr>\n",
       "    <tr>\n",
       "      <th>417</th>\n",
       "      <td>1</td>\n",
       "    </tr>\n",
       "  </tbody>\n",
       "</table>\n",
       "<p>418 rows × 1 columns</p>\n",
       "</div>"
      ],
      "text/plain": [
       "     0\n",
       "0    0\n",
       "1    0\n",
       "2    0\n",
       "3    0\n",
       "4    1\n",
       "..  ..\n",
       "413  0\n",
       "414  1\n",
       "415  0\n",
       "416  0\n",
       "417  1\n",
       "\n",
       "[418 rows x 1 columns]"
      ]
     },
     "execution_count": 59,
     "metadata": {},
     "output_type": "execute_result"
    }
   ],
   "source": [
    "y_test_predicted = pd.DataFrame(y_test_predicted)\n",
    "y_test_predicted"
   ]
  },
  {
   "cell_type": "code",
   "execution_count": 60,
   "id": "2f31f512",
   "metadata": {},
   "outputs": [],
   "source": [
    "y_test_predicted = y_test_predicted.rename(columns={0:'Survived'})"
   ]
  },
  {
   "cell_type": "code",
   "execution_count": 62,
   "id": "dfd733e7",
   "metadata": {},
   "outputs": [
    {
     "data": {
      "text/html": [
       "<div>\n",
       "<style scoped>\n",
       "    .dataframe tbody tr th:only-of-type {\n",
       "        vertical-align: middle;\n",
       "    }\n",
       "\n",
       "    .dataframe tbody tr th {\n",
       "        vertical-align: top;\n",
       "    }\n",
       "\n",
       "    .dataframe thead th {\n",
       "        text-align: right;\n",
       "    }\n",
       "</style>\n",
       "<table border=\"1\" class=\"dataframe\">\n",
       "  <thead>\n",
       "    <tr style=\"text-align: right;\">\n",
       "      <th></th>\n",
       "      <th>Survived</th>\n",
       "    </tr>\n",
       "  </thead>\n",
       "  <tbody>\n",
       "    <tr>\n",
       "      <th>0</th>\n",
       "      <td>0</td>\n",
       "    </tr>\n",
       "    <tr>\n",
       "      <th>1</th>\n",
       "      <td>0</td>\n",
       "    </tr>\n",
       "    <tr>\n",
       "      <th>2</th>\n",
       "      <td>0</td>\n",
       "    </tr>\n",
       "    <tr>\n",
       "      <th>3</th>\n",
       "      <td>0</td>\n",
       "    </tr>\n",
       "    <tr>\n",
       "      <th>4</th>\n",
       "      <td>1</td>\n",
       "    </tr>\n",
       "    <tr>\n",
       "      <th>5</th>\n",
       "      <td>0</td>\n",
       "    </tr>\n",
       "    <tr>\n",
       "      <th>6</th>\n",
       "      <td>0</td>\n",
       "    </tr>\n",
       "    <tr>\n",
       "      <th>7</th>\n",
       "      <td>1</td>\n",
       "    </tr>\n",
       "    <tr>\n",
       "      <th>8</th>\n",
       "      <td>1</td>\n",
       "    </tr>\n",
       "    <tr>\n",
       "      <th>9</th>\n",
       "      <td>0</td>\n",
       "    </tr>\n",
       "  </tbody>\n",
       "</table>\n",
       "</div>"
      ],
      "text/plain": [
       "   Survived\n",
       "0         0\n",
       "1         0\n",
       "2         0\n",
       "3         0\n",
       "4         1\n",
       "5         0\n",
       "6         0\n",
       "7         1\n",
       "8         1\n",
       "9         0"
      ]
     },
     "execution_count": 62,
     "metadata": {},
     "output_type": "execute_result"
    }
   ],
   "source": [
    "y_test_predicted.head(10)"
   ]
  },
  {
   "cell_type": "markdown",
   "id": "2fe334e7",
   "metadata": {},
   "source": [
    "승객이 사망할 확률을 구한다면?"
   ]
  },
  {
   "cell_type": "code",
   "execution_count": 63,
   "id": "ae4f57c5",
   "metadata": {},
   "outputs": [
    {
     "data": {
      "text/plain": [
       "0      0.914809\n",
       "1      0.553258\n",
       "2      0.914584\n",
       "3      0.919943\n",
       "4      0.092902\n",
       "         ...   \n",
       "413    0.877425\n",
       "414    0.004091\n",
       "415    0.979298\n",
       "416    0.877425\n",
       "417    0.409309\n",
       "Name: 0, Length: 418, dtype: float32"
      ]
     },
     "execution_count": 63,
     "metadata": {},
     "output_type": "execute_result"
    }
   ],
   "source": [
    "pd.DataFrame(model.predict_proba(x_test))[0]"
   ]
  },
  {
   "cell_type": "markdown",
   "id": "fdde7493",
   "metadata": {},
   "source": [
    "승객이 생존할 확률을 구한다면?"
   ]
  },
  {
   "cell_type": "code",
   "execution_count": 64,
   "id": "94386ff4",
   "metadata": {},
   "outputs": [
    {
     "data": {
      "text/plain": [
       "0      0.085191\n",
       "1      0.446742\n",
       "2      0.085416\n",
       "3      0.080057\n",
       "4      0.907098\n",
       "         ...   \n",
       "413    0.122575\n",
       "414    0.995909\n",
       "415    0.020702\n",
       "416    0.122575\n",
       "417    0.590691\n",
       "Name: 1, Length: 418, dtype: float32"
      ]
     },
     "execution_count": 64,
     "metadata": {},
     "output_type": "execute_result"
    }
   ],
   "source": [
    "pd.DataFrame(model.predict_proba(x_test))[1]"
   ]
  },
  {
   "cell_type": "code",
   "execution_count": 65,
   "id": "390cb279",
   "metadata": {},
   "outputs": [
    {
     "data": {
      "text/html": [
       "<div>\n",
       "<style scoped>\n",
       "    .dataframe tbody tr th:only-of-type {\n",
       "        vertical-align: middle;\n",
       "    }\n",
       "\n",
       "    .dataframe tbody tr th {\n",
       "        vertical-align: top;\n",
       "    }\n",
       "\n",
       "    .dataframe thead th {\n",
       "        text-align: right;\n",
       "    }\n",
       "</style>\n",
       "<table border=\"1\" class=\"dataframe\">\n",
       "  <thead>\n",
       "    <tr style=\"text-align: right;\">\n",
       "      <th></th>\n",
       "      <th>0</th>\n",
       "    </tr>\n",
       "  </thead>\n",
       "  <tbody>\n",
       "    <tr>\n",
       "      <th>0</th>\n",
       "      <td>0</td>\n",
       "    </tr>\n",
       "    <tr>\n",
       "      <th>1</th>\n",
       "      <td>0</td>\n",
       "    </tr>\n",
       "    <tr>\n",
       "      <th>2</th>\n",
       "      <td>0</td>\n",
       "    </tr>\n",
       "    <tr>\n",
       "      <th>3</th>\n",
       "      <td>1</td>\n",
       "    </tr>\n",
       "    <tr>\n",
       "      <th>4</th>\n",
       "      <td>1</td>\n",
       "    </tr>\n",
       "    <tr>\n",
       "      <th>...</th>\n",
       "      <td>...</td>\n",
       "    </tr>\n",
       "    <tr>\n",
       "      <th>174</th>\n",
       "      <td>1</td>\n",
       "    </tr>\n",
       "    <tr>\n",
       "      <th>175</th>\n",
       "      <td>0</td>\n",
       "    </tr>\n",
       "    <tr>\n",
       "      <th>176</th>\n",
       "      <td>0</td>\n",
       "    </tr>\n",
       "    <tr>\n",
       "      <th>177</th>\n",
       "      <td>0</td>\n",
       "    </tr>\n",
       "    <tr>\n",
       "      <th>178</th>\n",
       "      <td>0</td>\n",
       "    </tr>\n",
       "  </tbody>\n",
       "</table>\n",
       "<p>179 rows × 1 columns</p>\n",
       "</div>"
      ],
      "text/plain": [
       "     0\n",
       "0    0\n",
       "1    0\n",
       "2    0\n",
       "3    1\n",
       "4    1\n",
       "..  ..\n",
       "174  1\n",
       "175  0\n",
       "176  0\n",
       "177  0\n",
       "178  0\n",
       "\n",
       "[179 rows x 1 columns]"
      ]
     },
     "execution_count": 65,
     "metadata": {},
     "output_type": "execute_result"
    }
   ],
   "source": [
    "Y_TEST_PREDICTED = pd.DataFrame(model.predict(X_TEST))\n",
    "Y_TEST_PREDICTED"
   ]
  },
  {
   "cell_type": "markdown",
   "id": "50b3d13a",
   "metadata": {},
   "source": [
    "모델 평가하기"
   ]
  },
  {
   "cell_type": "code",
   "execution_count": 66,
   "id": "e8d615b3",
   "metadata": {},
   "outputs": [],
   "source": [
    "from sklearn.metrics import roc_auc_score"
   ]
  },
  {
   "cell_type": "code",
   "execution_count": 67,
   "id": "d943c6ff",
   "metadata": {},
   "outputs": [
    {
     "name": "stdout",
     "output_type": "stream",
     "text": [
      "0.7731596360628619\n"
     ]
    }
   ],
   "source": [
    "print(roc_auc_score(Y_TEST, Y_TEST_PREDICTED))"
   ]
  },
  {
   "cell_type": "markdown",
   "id": "0bb1f040",
   "metadata": {},
   "source": [
    "## 2.4 결과 제출하기"
   ]
  },
  {
   "cell_type": "code",
   "execution_count": 68,
   "id": "8fa2c026",
   "metadata": {},
   "outputs": [
    {
     "name": "stdout",
     "output_type": "stream",
     "text": [
      "     PassengerId  Survived\n",
      "0            892         0\n",
      "1            893         0\n",
      "2            894         0\n",
      "3            895         0\n",
      "4            896         1\n",
      "..           ...       ...\n",
      "413         1305         0\n",
      "414         1306         1\n",
      "415         1307         0\n",
      "416         1308         0\n",
      "417         1309         1\n",
      "\n",
      "[418 rows x 2 columns]\n"
     ]
    }
   ],
   "source": [
    "print(pd.concat([x_test_passenger_id, y_test_predicted], axis=1))"
   ]
  },
  {
   "cell_type": "code",
   "execution_count": 69,
   "id": "2546d953",
   "metadata": {},
   "outputs": [],
   "source": [
    "final = pd.concat([x_test_passenger_id, y_test_predicted], axis=1)\n",
    "final.to_csv('2022.03.02.csv', index=False)"
   ]
  },
  {
   "cell_type": "code",
   "execution_count": 70,
   "id": "495400b4",
   "metadata": {},
   "outputs": [
    {
     "data": {
      "text/html": [
       "<div>\n",
       "<style scoped>\n",
       "    .dataframe tbody tr th:only-of-type {\n",
       "        vertical-align: middle;\n",
       "    }\n",
       "\n",
       "    .dataframe tbody tr th {\n",
       "        vertical-align: top;\n",
       "    }\n",
       "\n",
       "    .dataframe thead th {\n",
       "        text-align: right;\n",
       "    }\n",
       "</style>\n",
       "<table border=\"1\" class=\"dataframe\">\n",
       "  <thead>\n",
       "    <tr style=\"text-align: right;\">\n",
       "      <th></th>\n",
       "      <th>PassengerId</th>\n",
       "      <th>Survived</th>\n",
       "    </tr>\n",
       "  </thead>\n",
       "  <tbody>\n",
       "    <tr>\n",
       "      <th>0</th>\n",
       "      <td>892</td>\n",
       "      <td>0</td>\n",
       "    </tr>\n",
       "    <tr>\n",
       "      <th>1</th>\n",
       "      <td>893</td>\n",
       "      <td>0</td>\n",
       "    </tr>\n",
       "    <tr>\n",
       "      <th>2</th>\n",
       "      <td>894</td>\n",
       "      <td>0</td>\n",
       "    </tr>\n",
       "    <tr>\n",
       "      <th>3</th>\n",
       "      <td>895</td>\n",
       "      <td>0</td>\n",
       "    </tr>\n",
       "    <tr>\n",
       "      <th>4</th>\n",
       "      <td>896</td>\n",
       "      <td>1</td>\n",
       "    </tr>\n",
       "    <tr>\n",
       "      <th>...</th>\n",
       "      <td>...</td>\n",
       "      <td>...</td>\n",
       "    </tr>\n",
       "    <tr>\n",
       "      <th>413</th>\n",
       "      <td>1305</td>\n",
       "      <td>0</td>\n",
       "    </tr>\n",
       "    <tr>\n",
       "      <th>414</th>\n",
       "      <td>1306</td>\n",
       "      <td>1</td>\n",
       "    </tr>\n",
       "    <tr>\n",
       "      <th>415</th>\n",
       "      <td>1307</td>\n",
       "      <td>0</td>\n",
       "    </tr>\n",
       "    <tr>\n",
       "      <th>416</th>\n",
       "      <td>1308</td>\n",
       "      <td>0</td>\n",
       "    </tr>\n",
       "    <tr>\n",
       "      <th>417</th>\n",
       "      <td>1309</td>\n",
       "      <td>1</td>\n",
       "    </tr>\n",
       "  </tbody>\n",
       "</table>\n",
       "<p>418 rows × 2 columns</p>\n",
       "</div>"
      ],
      "text/plain": [
       "     PassengerId  Survived\n",
       "0            892         0\n",
       "1            893         0\n",
       "2            894         0\n",
       "3            895         0\n",
       "4            896         1\n",
       "..           ...       ...\n",
       "413         1305         0\n",
       "414         1306         1\n",
       "415         1307         0\n",
       "416         1308         0\n",
       "417         1309         1\n",
       "\n",
       "[418 rows x 2 columns]"
      ]
     },
     "execution_count": 70,
     "metadata": {},
     "output_type": "execute_result"
    }
   ],
   "source": [
    "test = pd.read_csv('2022.03.02.csv')\n",
    "test"
   ]
  },
  {
   "cell_type": "markdown",
   "id": "a96aaf88",
   "metadata": {},
   "source": [
    "최종 제출 코드"
   ]
  },
  {
   "cell_type": "code",
   "execution_count": 78,
   "id": "e62a127b",
   "metadata": {},
   "outputs": [],
   "source": [
    "# 데이터 가져오기\n",
    "import pandas as pd\n",
    "x_train = pd.read_csv('titanic_x_train.csv', encoding='cp949')\n",
    "x_test = pd.read_csv('titanic_x_test.csv', encoding='cp949')\n",
    "y_train = pd.read_csv('titanic_y_train.csv', encoding='cp949')\n",
    "\n",
    "y_train.columns = ['PassengerId', 'Survived']\n",
    "\n",
    "# 전처리하기\n",
    "x_test_passenger_id = x_test['PassengerId']\n",
    "x_train = x_train.drop(columns = ['PassengerId'])\n",
    "x_test = x_test.drop(columns = ['PassengerId'])\n",
    "y_train = y_train.drop(columns = ['PassengerId'])\n",
    "\n",
    "x_train = x_train.drop(columns = ['티켓번호'])\n",
    "x_test = x_test.drop(columns = ['티켓번호'])\n",
    "\n",
    "x_train = x_train.drop(columns = ['승객이름'])\n",
    "x_test = x_test.drop(columns = ['승객이름'])\n",
    "\n",
    "x_train = x_train.drop(columns = ['나이'])\n",
    "x_test = x_test.drop(columns = ['나이'])\n",
    "\n",
    "x_train = x_train.drop(columns = ['객실번호'])\n",
    "x_test = x_test.drop(columns = ['객실번호'])\n",
    "\n",
    "# 결측치 처리하기\n",
    "x_train['선착장'] = x_train['선착장'].fillna('S')\n",
    "x_test['선착장'] = x_test['선착장'].fillna('S')\n",
    "\n",
    "# 인코딩 수행하기\n",
    "x_train['성별'] = x_train['성별'].replace('male', 0).replace('female',1)\n",
    "x_test['성별'] = x_test['성별'].replace('male', 0).replace('female',1)\n",
    "선착장_dummy = pd.get_dummies(x_train['선착장'], drop_first = True).rename(columns = {'Q':'선착장Q', 'S':'선착장S'})\n",
    "\n",
    "x_train = pd.concat([x_train, 선착장_dummy], axis=1)\n",
    "x_train = x_train.drop(columns = ['선착장'])\n",
    "\n",
    "선착장_dummy = pd.get_dummies(x_test['선착장'], drop_first = True).rename(columns = {'Q':'선착장Q', 'S':'선착장S'})\n",
    "x_test = pd.concat([x_test, 선착장_dummy], axis=1)\n",
    "x_test = x_test.drop(columns = ['선착장'])\n",
    "\n",
    "# 파생변수 만들기\n",
    "x_train['가족수'] = x_train['형제자매배우자수'] + x_train['부모자식수']\n",
    "x_train = x_train.drop(columns = ['형제자매배우자수', '부모자식수'])\n",
    "\n",
    "x_test['가족수'] = x_test['형제자매배우자수'] + x_test['부모자식수']\n",
    "x_test = x_test.drop(columns = ['형제자매배우자수', '부모자식수'])\n",
    "\n",
    "# 데이터 분리하기\n",
    "from sklearn.model_selection import train_test_split\n",
    "X_TRAIN, X_TEST, Y_TRAIN, Y_TEST = train_test_split(x_train, y_train, test_size = 0.2, random_state = 10)\n",
    "\n",
    "# 모델 학습하기\n",
    "from xgboost import XGBClassifier\n",
    "model = XGBClassifier(n_estimators = 100, max_depth = 5, eval_metric = 'error', use_label_encoder = False, random_state = 10)\n",
    "model.fit(X_TRAIN, Y_TRAIN)\n",
    "\n",
    "# 최종 결과를 파일로 저장하기\n",
    "y_test_predicted = pd.DataFrame(model.predict(x_test)).rename(columns={0:'Survived'})\n",
    "final = pd.concat([x_test_passenger_id, y_test_predicted], axis=1)\n",
    "final.to_csv('2022.03.02.csv', index=False)"
   ]
  },
  {
   "cell_type": "code",
   "execution_count": 79,
   "id": "3db4ec66",
   "metadata": {},
   "outputs": [
    {
     "data": {
      "text/html": [
       "<div>\n",
       "<style scoped>\n",
       "    .dataframe tbody tr th:only-of-type {\n",
       "        vertical-align: middle;\n",
       "    }\n",
       "\n",
       "    .dataframe tbody tr th {\n",
       "        vertical-align: top;\n",
       "    }\n",
       "\n",
       "    .dataframe thead th {\n",
       "        text-align: right;\n",
       "    }\n",
       "</style>\n",
       "<table border=\"1\" class=\"dataframe\">\n",
       "  <thead>\n",
       "    <tr style=\"text-align: right;\">\n",
       "      <th></th>\n",
       "      <th>티켓등급</th>\n",
       "      <th>성별</th>\n",
       "      <th>운임요금</th>\n",
       "      <th>선착장Q</th>\n",
       "      <th>선착장S</th>\n",
       "      <th>가족수</th>\n",
       "    </tr>\n",
       "  </thead>\n",
       "  <tbody>\n",
       "    <tr>\n",
       "      <th>0</th>\n",
       "      <td>3</td>\n",
       "      <td>0</td>\n",
       "      <td>7.2500</td>\n",
       "      <td>0</td>\n",
       "      <td>1</td>\n",
       "      <td>1</td>\n",
       "    </tr>\n",
       "    <tr>\n",
       "      <th>1</th>\n",
       "      <td>1</td>\n",
       "      <td>1</td>\n",
       "      <td>71.2833</td>\n",
       "      <td>0</td>\n",
       "      <td>0</td>\n",
       "      <td>1</td>\n",
       "    </tr>\n",
       "    <tr>\n",
       "      <th>2</th>\n",
       "      <td>3</td>\n",
       "      <td>1</td>\n",
       "      <td>7.9250</td>\n",
       "      <td>0</td>\n",
       "      <td>1</td>\n",
       "      <td>0</td>\n",
       "    </tr>\n",
       "    <tr>\n",
       "      <th>3</th>\n",
       "      <td>1</td>\n",
       "      <td>1</td>\n",
       "      <td>53.1000</td>\n",
       "      <td>0</td>\n",
       "      <td>1</td>\n",
       "      <td>1</td>\n",
       "    </tr>\n",
       "    <tr>\n",
       "      <th>4</th>\n",
       "      <td>3</td>\n",
       "      <td>0</td>\n",
       "      <td>8.0500</td>\n",
       "      <td>0</td>\n",
       "      <td>1</td>\n",
       "      <td>0</td>\n",
       "    </tr>\n",
       "  </tbody>\n",
       "</table>\n",
       "</div>"
      ],
      "text/plain": [
       "   티켓등급  성별     운임요금  선착장Q  선착장S  가족수\n",
       "0     3   0   7.2500     0     1    1\n",
       "1     1   1  71.2833     0     0    1\n",
       "2     3   1   7.9250     0     1    0\n",
       "3     1   1  53.1000     0     1    1\n",
       "4     3   0   8.0500     0     1    0"
      ]
     },
     "execution_count": 79,
     "metadata": {},
     "output_type": "execute_result"
    }
   ],
   "source": [
    "x_train.head()"
   ]
  },
  {
   "cell_type": "code",
   "execution_count": 80,
   "id": "7948484a",
   "metadata": {},
   "outputs": [
    {
     "data": {
      "text/html": [
       "<div>\n",
       "<style scoped>\n",
       "    .dataframe tbody tr th:only-of-type {\n",
       "        vertical-align: middle;\n",
       "    }\n",
       "\n",
       "    .dataframe tbody tr th {\n",
       "        vertical-align: top;\n",
       "    }\n",
       "\n",
       "    .dataframe thead th {\n",
       "        text-align: right;\n",
       "    }\n",
       "</style>\n",
       "<table border=\"1\" class=\"dataframe\">\n",
       "  <thead>\n",
       "    <tr style=\"text-align: right;\">\n",
       "      <th></th>\n",
       "      <th>PassengerId</th>\n",
       "      <th>Survived</th>\n",
       "    </tr>\n",
       "  </thead>\n",
       "  <tbody>\n",
       "    <tr>\n",
       "      <th>0</th>\n",
       "      <td>892</td>\n",
       "      <td>0</td>\n",
       "    </tr>\n",
       "    <tr>\n",
       "      <th>1</th>\n",
       "      <td>893</td>\n",
       "      <td>1</td>\n",
       "    </tr>\n",
       "    <tr>\n",
       "      <th>2</th>\n",
       "      <td>894</td>\n",
       "      <td>0</td>\n",
       "    </tr>\n",
       "    <tr>\n",
       "      <th>3</th>\n",
       "      <td>895</td>\n",
       "      <td>0</td>\n",
       "    </tr>\n",
       "    <tr>\n",
       "      <th>4</th>\n",
       "      <td>896</td>\n",
       "      <td>1</td>\n",
       "    </tr>\n",
       "    <tr>\n",
       "      <th>...</th>\n",
       "      <td>...</td>\n",
       "      <td>...</td>\n",
       "    </tr>\n",
       "    <tr>\n",
       "      <th>413</th>\n",
       "      <td>1305</td>\n",
       "      <td>0</td>\n",
       "    </tr>\n",
       "    <tr>\n",
       "      <th>414</th>\n",
       "      <td>1306</td>\n",
       "      <td>1</td>\n",
       "    </tr>\n",
       "    <tr>\n",
       "      <th>415</th>\n",
       "      <td>1307</td>\n",
       "      <td>0</td>\n",
       "    </tr>\n",
       "    <tr>\n",
       "      <th>416</th>\n",
       "      <td>1308</td>\n",
       "      <td>0</td>\n",
       "    </tr>\n",
       "    <tr>\n",
       "      <th>417</th>\n",
       "      <td>1309</td>\n",
       "      <td>1</td>\n",
       "    </tr>\n",
       "  </tbody>\n",
       "</table>\n",
       "<p>418 rows × 2 columns</p>\n",
       "</div>"
      ],
      "text/plain": [
       "     PassengerId  Survived\n",
       "0            892         0\n",
       "1            893         1\n",
       "2            894         0\n",
       "3            895         0\n",
       "4            896         1\n",
       "..           ...       ...\n",
       "413         1305         0\n",
       "414         1306         1\n",
       "415         1307         0\n",
       "416         1308         0\n",
       "417         1309         1\n",
       "\n",
       "[418 rows x 2 columns]"
      ]
     },
     "execution_count": 80,
     "metadata": {},
     "output_type": "execute_result"
    }
   ],
   "source": [
    "final"
   ]
  },
  {
   "cell_type": "code",
   "execution_count": null,
   "id": "4e9b61c1",
   "metadata": {},
   "outputs": [],
   "source": []
  }
 ],
 "metadata": {
  "kernelspec": {
   "display_name": "Python 3",
   "language": "python",
   "name": "python3"
  },
  "language_info": {
   "codemirror_mode": {
    "name": "ipython",
    "version": 3
   },
   "file_extension": ".py",
   "mimetype": "text/x-python",
   "name": "python",
   "nbconvert_exporter": "python",
   "pygments_lexer": "ipython3",
   "version": "3.8.8"
  }
 },
 "nbformat": 4,
 "nbformat_minor": 5
}
