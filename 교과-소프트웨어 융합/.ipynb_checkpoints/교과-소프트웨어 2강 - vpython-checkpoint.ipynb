{
 "cells": [
  {
   "cell_type": "code",
   "execution_count": 2,
   "id": "3ba3ba42",
   "metadata": {},
   "outputs": [
    {
     "name": "stdout",
     "output_type": "stream",
     "text": [
      "Collecting vpython\n",
      "  Downloading vpython-7.6.3-cp38-cp38-win_amd64.whl (3.6 MB)\n",
      "Requirement already satisfied: ipykernel in c:\\users\\phong\\anaconda3\\lib\\site-packages (from vpython) (5.3.4)\n",
      "Collecting autobahn>=18.8.2\n",
      "  Downloading autobahn-22.2.2.tar.gz (375 kB)\n",
      "Collecting jupyter-server-proxy\n",
      "  Downloading jupyter_server_proxy-3.2.1-py3-none-any.whl (35 kB)\n",
      "Requirement already satisfied: numpy in c:\\users\\phong\\anaconda3\\lib\\site-packages (from vpython) (1.20.1)\n",
      "Requirement already satisfied: jupyter in c:\\users\\phong\\anaconda3\\lib\\site-packages (from vpython) (1.0.0)\n",
      "Collecting txaio>=21.2.1\n",
      "  Downloading txaio-22.2.1-py2.py3-none-any.whl (30 kB)\n",
      "Requirement already satisfied: cryptography>=3.4.6 in c:\\users\\phong\\anaconda3\\lib\\site-packages (from autobahn>=18.8.2->vpython) (3.4.7)\n",
      "Collecting hyperlink>=21.0.0\n",
      "  Downloading hyperlink-21.0.0-py2.py3-none-any.whl (74 kB)\n",
      "Requirement already satisfied: setuptools in c:\\users\\phong\\anaconda3\\lib\\site-packages (from autobahn>=18.8.2->vpython) (52.0.0.post20210125)\n",
      "Requirement already satisfied: cffi>=1.12 in c:\\users\\phong\\anaconda3\\lib\\site-packages (from cryptography>=3.4.6->autobahn>=18.8.2->vpython) (1.14.5)\n",
      "Requirement already satisfied: pycparser in c:\\users\\phong\\anaconda3\\lib\\site-packages (from cffi>=1.12->cryptography>=3.4.6->autobahn>=18.8.2->vpython) (2.20)\n",
      "Requirement already satisfied: idna>=2.5 in c:\\users\\phong\\anaconda3\\lib\\site-packages (from hyperlink>=21.0.0->autobahn>=18.8.2->vpython) (2.10)\n",
      "Requirement already satisfied: tornado>=4.2 in c:\\users\\phong\\anaconda3\\lib\\site-packages (from ipykernel->vpython) (6.1)\n",
      "Requirement already satisfied: ipython>=5.0.0 in c:\\users\\phong\\anaconda3\\lib\\site-packages (from ipykernel->vpython) (7.22.0)\n",
      "Requirement already satisfied: traitlets>=4.1.0 in c:\\users\\phong\\anaconda3\\lib\\site-packages (from ipykernel->vpython) (5.0.5)\n",
      "Requirement already satisfied: jupyter-client in c:\\users\\phong\\anaconda3\\lib\\site-packages (from ipykernel->vpython) (6.1.12)\n",
      "Requirement already satisfied: jedi>=0.16 in c:\\users\\phong\\anaconda3\\lib\\site-packages (from ipython>=5.0.0->ipykernel->vpython) (0.17.2)\n",
      "Requirement already satisfied: colorama in c:\\users\\phong\\anaconda3\\lib\\site-packages (from ipython>=5.0.0->ipykernel->vpython) (0.4.4)\n",
      "Requirement already satisfied: pickleshare in c:\\users\\phong\\anaconda3\\lib\\site-packages (from ipython>=5.0.0->ipykernel->vpython) (0.7.5)\n",
      "Requirement already satisfied: backcall in c:\\users\\phong\\anaconda3\\lib\\site-packages (from ipython>=5.0.0->ipykernel->vpython) (0.2.0)\n",
      "Requirement already satisfied: pygments in c:\\users\\phong\\anaconda3\\lib\\site-packages (from ipython>=5.0.0->ipykernel->vpython) (2.8.1)\n",
      "Requirement already satisfied: decorator in c:\\users\\phong\\anaconda3\\lib\\site-packages (from ipython>=5.0.0->ipykernel->vpython) (5.0.6)\n",
      "Requirement already satisfied: prompt-toolkit!=3.0.0,!=3.0.1,<3.1.0,>=2.0.0 in c:\\users\\phong\\anaconda3\\lib\\site-packages (from ipython>=5.0.0->ipykernel->vpython) (3.0.17)\n",
      "Requirement already satisfied: parso<0.8.0,>=0.7.0 in c:\\users\\phong\\anaconda3\\lib\\site-packages (from jedi>=0.16->ipython>=5.0.0->ipykernel->vpython) (0.7.0)\n",
      "Requirement already satisfied: wcwidth in c:\\users\\phong\\anaconda3\\lib\\site-packages (from prompt-toolkit!=3.0.0,!=3.0.1,<3.1.0,>=2.0.0->ipython>=5.0.0->ipykernel->vpython) (0.2.5)\n",
      "Requirement already satisfied: ipython-genutils in c:\\users\\phong\\anaconda3\\lib\\site-packages (from traitlets>=4.1.0->ipykernel->vpython) (0.2.0)\n",
      "Requirement already satisfied: nbconvert in c:\\users\\phong\\anaconda3\\lib\\site-packages (from jupyter->vpython) (6.0.7)\n",
      "Requirement already satisfied: notebook in c:\\users\\phong\\anaconda3\\lib\\site-packages (from jupyter->vpython) (6.3.0)\n",
      "Requirement already satisfied: jupyter-console in c:\\users\\phong\\anaconda3\\lib\\site-packages (from jupyter->vpython) (6.4.0)\n",
      "Requirement already satisfied: ipywidgets in c:\\users\\phong\\anaconda3\\lib\\site-packages (from jupyter->vpython) (7.6.3)\n",
      "Requirement already satisfied: qtconsole in c:\\users\\phong\\anaconda3\\lib\\site-packages (from jupyter->vpython) (5.0.3)\n",
      "Requirement already satisfied: nbformat>=4.2.0 in c:\\users\\phong\\anaconda3\\lib\\site-packages (from ipywidgets->jupyter->vpython) (5.1.3)\n",
      "Requirement already satisfied: jupyterlab-widgets>=1.0.0 in c:\\users\\phong\\anaconda3\\lib\\site-packages (from ipywidgets->jupyter->vpython) (1.0.0)\n",
      "Requirement already satisfied: widgetsnbextension~=3.5.0 in c:\\users\\phong\\anaconda3\\lib\\site-packages (from ipywidgets->jupyter->vpython) (3.5.1)\n",
      "Requirement already satisfied: jsonschema!=2.5.0,>=2.4 in c:\\users\\phong\\anaconda3\\lib\\site-packages (from nbformat>=4.2.0->ipywidgets->jupyter->vpython) (3.2.0)\n",
      "Requirement already satisfied: jupyter-core in c:\\users\\phong\\anaconda3\\lib\\site-packages (from nbformat>=4.2.0->ipywidgets->jupyter->vpython) (4.7.1)\n",
      "Requirement already satisfied: six>=1.11.0 in c:\\users\\phong\\anaconda3\\lib\\site-packages (from jsonschema!=2.5.0,>=2.4->nbformat>=4.2.0->ipywidgets->jupyter->vpython) (1.15.0)\n",
      "Requirement already satisfied: attrs>=17.4.0 in c:\\users\\phong\\anaconda3\\lib\\site-packages (from jsonschema!=2.5.0,>=2.4->nbformat>=4.2.0->ipywidgets->jupyter->vpython) (20.3.0)\n",
      "Requirement already satisfied: pyrsistent>=0.14.0 in c:\\users\\phong\\anaconda3\\lib\\site-packages (from jsonschema!=2.5.0,>=2.4->nbformat>=4.2.0->ipywidgets->jupyter->vpython) (0.17.3)\n",
      "Requirement already satisfied: jinja2 in c:\\users\\phong\\anaconda3\\lib\\site-packages (from notebook->jupyter->vpython) (2.11.3)\n",
      "Requirement already satisfied: prometheus-client in c:\\users\\phong\\anaconda3\\lib\\site-packages (from notebook->jupyter->vpython) (0.10.1)\n",
      "Requirement already satisfied: Send2Trash>=1.5.0 in c:\\users\\phong\\anaconda3\\lib\\site-packages (from notebook->jupyter->vpython) (1.5.0)\n",
      "Requirement already satisfied: terminado>=0.8.3 in c:\\users\\phong\\anaconda3\\lib\\site-packages (from notebook->jupyter->vpython) (0.9.4)\n",
      "Requirement already satisfied: argon2-cffi in c:\\users\\phong\\anaconda3\\lib\\site-packages (from notebook->jupyter->vpython) (20.1.0)\n",
      "Requirement already satisfied: pyzmq>=17 in c:\\users\\phong\\anaconda3\\lib\\site-packages (from notebook->jupyter->vpython) (20.0.0)\n",
      "Requirement already satisfied: python-dateutil>=2.1 in c:\\users\\phong\\anaconda3\\lib\\site-packages (from jupyter-client->ipykernel->vpython) (2.8.1)\n",
      "Requirement already satisfied: pywin32>=1.0 in c:\\users\\phong\\anaconda3\\lib\\site-packages (from jupyter-core->nbformat>=4.2.0->ipywidgets->jupyter->vpython) (227)\n",
      "Requirement already satisfied: pywinpty>=0.5 in c:\\users\\phong\\anaconda3\\lib\\site-packages (from terminado>=0.8.3->notebook->jupyter->vpython) (0.5.7)\n",
      "Requirement already satisfied: MarkupSafe>=0.23 in c:\\users\\phong\\anaconda3\\lib\\site-packages (from jinja2->notebook->jupyter->vpython) (1.1.1)\n",
      "Requirement already satisfied: jupyter-server>=1.0 in c:\\users\\phong\\anaconda3\\lib\\site-packages (from jupyter-server-proxy->vpython) (1.4.1)\n",
      "Collecting aiohttp\n",
      "  Downloading aiohttp-3.8.1-cp38-cp38-win_amd64.whl (555 kB)\n",
      "Collecting simpervisor>=0.4\n",
      "  Downloading simpervisor-0.4-py3-none-any.whl (5.7 kB)\n",
      "Requirement already satisfied: anyio>=2.0.2 in c:\\users\\phong\\anaconda3\\lib\\site-packages (from jupyter-server>=1.0->jupyter-server-proxy->vpython) (2.2.0)\n",
      "Requirement already satisfied: sniffio>=1.1 in c:\\users\\phong\\anaconda3\\lib\\site-packages (from anyio>=2.0.2->jupyter-server>=1.0->jupyter-server-proxy->vpython) (1.2.0)\n",
      "Collecting async-timeout<5.0,>=4.0.0a3\n",
      "  Downloading async_timeout-4.0.2-py3-none-any.whl (5.8 kB)\n",
      "Collecting charset-normalizer<3.0,>=2.0\n",
      "  Downloading charset_normalizer-2.0.12-py3-none-any.whl (39 kB)\n",
      "Collecting frozenlist>=1.1.1\n",
      "  Downloading frozenlist-1.3.0-cp38-cp38-win_amd64.whl (33 kB)\n",
      "Collecting yarl<2.0,>=1.0\n",
      "  Downloading yarl-1.7.2-cp38-cp38-win_amd64.whl (122 kB)\n",
      "Collecting multidict<7.0,>=4.5\n",
      "  Downloading multidict-6.0.2-cp38-cp38-win_amd64.whl (28 kB)\n",
      "Collecting aiosignal>=1.1.2\n",
      "  Downloading aiosignal-1.2.0-py3-none-any.whl (8.2 kB)\n",
      "Requirement already satisfied: defusedxml in c:\\users\\phong\\anaconda3\\lib\\site-packages (from nbconvert->jupyter->vpython) (0.7.1)Note: you may need to restart the kernel to use updated packages.\n",
      "\n",
      "Requirement already satisfied: pandocfilters>=1.4.1 in c:\\users\\phong\\anaconda3\\lib\\site-packages (from nbconvert->jupyter->vpython) (1.4.3)\n",
      "Requirement already satisfied: testpath in c:\\users\\phong\\anaconda3\\lib\\site-packages (from nbconvert->jupyter->vpython) (0.4.4)\n",
      "Requirement already satisfied: mistune<2,>=0.8.1 in c:\\users\\phong\\anaconda3\\lib\\site-packages (from nbconvert->jupyter->vpython) (0.8.4)\n",
      "Requirement already satisfied: nbclient<0.6.0,>=0.5.0 in c:\\users\\phong\\anaconda3\\lib\\site-packages (from nbconvert->jupyter->vpython) (0.5.3)\n",
      "Requirement already satisfied: entrypoints>=0.2.2 in c:\\users\\phong\\anaconda3\\lib\\site-packages (from nbconvert->jupyter->vpython) (0.3)\n",
      "Requirement already satisfied: bleach in c:\\users\\phong\\anaconda3\\lib\\site-packages (from nbconvert->jupyter->vpython) (3.3.0)\n",
      "Requirement already satisfied: jupyterlab-pygments in c:\\users\\phong\\anaconda3\\lib\\site-packages (from nbconvert->jupyter->vpython) (0.1.2)\n",
      "Requirement already satisfied: nest-asyncio in c:\\users\\phong\\anaconda3\\lib\\site-packages (from nbclient<0.6.0,>=0.5.0->nbconvert->jupyter->vpython) (1.5.1)\n",
      "Requirement already satisfied: async-generator in c:\\users\\phong\\anaconda3\\lib\\site-packages (from nbclient<0.6.0,>=0.5.0->nbconvert->jupyter->vpython) (1.10)\n",
      "Requirement already satisfied: packaging in c:\\users\\phong\\anaconda3\\lib\\site-packages (from bleach->nbconvert->jupyter->vpython) (20.9)\n",
      "Requirement already satisfied: webencodings in c:\\users\\phong\\anaconda3\\lib\\site-packages (from bleach->nbconvert->jupyter->vpython) (0.5.1)\n",
      "Requirement already satisfied: pyparsing>=2.0.2 in c:\\users\\phong\\anaconda3\\lib\\site-packages (from packaging->bleach->nbconvert->jupyter->vpython) (2.4.7)\n",
      "Requirement already satisfied: qtpy in c:\\users\\phong\\anaconda3\\lib\\site-packages (from qtconsole->jupyter->vpython) (1.9.0)\n",
      "Building wheels for collected packages: autobahn\n",
      "  Building wheel for autobahn (setup.py): started\n",
      "  Building wheel for autobahn (setup.py): finished with status 'done'\n",
      "  Created wheel for autobahn: filename=autobahn-22.2.2-cp38-cp38-win_amd64.whl size=520937 sha256=b1ebe8601e16bb0c1ab5da96927baf202a2bf02b23274b4520c6a992e494ca02\n",
      "  Stored in directory: c:\\users\\phong\\appdata\\local\\pip\\cache\\wheels\\ac\\4f\\87\\6bd0e96aa63878d38cd751b07d09385e67a67372fc41e118de\n",
      "Successfully built autobahn\n",
      "Installing collected packages: multidict, frozenlist, yarl, charset-normalizer, async-timeout, aiosignal, txaio, simpervisor, hyperlink, aiohttp, jupyter-server-proxy, autobahn, vpython\n",
      "Successfully installed aiohttp-3.8.1 aiosignal-1.2.0 async-timeout-4.0.2 autobahn-22.2.2 charset-normalizer-2.0.12 frozenlist-1.3.0 hyperlink-21.0.0 jupyter-server-proxy-3.2.1 multidict-6.0.2 simpervisor-0.4 txaio-22.2.1 vpython-7.6.3 yarl-1.7.2\n"
     ]
    }
   ],
   "source": [
    "pip install vpython"
   ]
  },
  {
   "cell_type": "code",
   "execution_count": 2,
   "id": "f83fef4c",
   "metadata": {},
   "outputs": [
    {
     "data": {
      "text/html": [
       "<div id=\"glowscript\" class=\"glowscript\"></div>"
      ],
      "text/plain": [
       "<IPython.core.display.HTML object>"
      ]
     },
     "metadata": {},
     "output_type": "display_data"
    },
    {
     "data": {
      "application/javascript": [
       "if (typeof Jupyter !== \"undefined\") { window.__context = { glowscript_container: $(\"#glowscript\").removeAttr(\"id\")};}else{ element.textContent = ' ';}"
      ],
      "text/plain": [
       "<IPython.core.display.Javascript object>"
      ]
     },
     "metadata": {},
     "output_type": "display_data"
    },
    {
     "data": {
      "text/html": [
       "<div id=\"glowscript\" class=\"glowscript\"></div>"
      ],
      "text/plain": [
       "<IPython.core.display.HTML object>"
      ]
     },
     "metadata": {},
     "output_type": "display_data"
    },
    {
     "data": {
      "application/javascript": [
       "if (typeof Jupyter !== \"undefined\") { window.__context = { glowscript_container: $(\"#glowscript\").removeAttr(\"id\")};}else{ element.textContent = ' ';}"
      ],
      "text/plain": [
       "<IPython.core.display.Javascript object>"
      ]
     },
     "metadata": {},
     "output_type": "display_data"
    },
    {
     "data": {
      "application/javascript": [
       "if (typeof Jupyter !== \"undefined\") {require.undef(\"nbextensions/vpython_libraries/glow.min\");}else{element.textContent = ' ';}"
      ],
      "text/plain": [
       "<IPython.core.display.Javascript object>"
      ]
     },
     "metadata": {},
     "output_type": "display_data"
    },
    {
     "data": {
      "application/javascript": [
       "if (typeof Jupyter !== \"undefined\") {require.undef(\"nbextensions/vpython_libraries/glowcomm\");}else{element.textContent = ' ';}"
      ],
      "text/plain": [
       "<IPython.core.display.Javascript object>"
      ]
     },
     "metadata": {},
     "output_type": "display_data"
    },
    {
     "data": {
      "application/javascript": [
       "if (typeof Jupyter !== \"undefined\") {require.undef(\"nbextensions/vpython_libraries/jquery-ui.custom.min\");}else{element.textContent = ' ';}"
      ],
      "text/plain": [
       "<IPython.core.display.Javascript object>"
      ]
     },
     "metadata": {},
     "output_type": "display_data"
    },
    {
     "data": {
      "application/javascript": [
       "if (typeof Jupyter !== \"undefined\") {require([\"nbextensions/vpython_libraries/glow.min\"], function(){console.log(\"GLOW LOADED\");});}else{element.textContent = ' ';}"
      ],
      "text/plain": [
       "<IPython.core.display.Javascript object>"
      ]
     },
     "metadata": {},
     "output_type": "display_data"
    },
    {
     "data": {
      "application/javascript": [
       "if (typeof Jupyter !== \"undefined\") {require([\"nbextensions/vpython_libraries/glowcomm\"], function(){console.log(\"GLOWCOMM LOADED\");});}else{element.textContent = ' ';}"
      ],
      "text/plain": [
       "<IPython.core.display.Javascript object>"
      ]
     },
     "metadata": {},
     "output_type": "display_data"
    },
    {
     "data": {
      "application/javascript": [
       "if (typeof Jupyter !== \"undefined\") {require([\"nbextensions/vpython_libraries/jquery-ui.custom.min\"], function(){console.log(\"JQUERY LOADED\");});}else{element.textContent = ' ';}"
      ],
      "text/plain": [
       "<IPython.core.display.Javascript object>"
      ]
     },
     "metadata": {},
     "output_type": "display_data"
    }
   ],
   "source": [
    "from vpython import *\n",
    "import random\n",
    "\n",
    "canvas()\n",
    "\n",
    "box(pos = vec(0, 2, 0), color = color.red)\n",
    "box(pos = vec(0, 1, 0), color = color.green)\n",
    "\n",
    "for i in range(1000):\n",
    "    x = random.randint(-10, 10)\n",
    "    y = random.randint(-10, 10)\n",
    "    if i % 2 == 0:\n",
    "        box(pos = vec(x, y, 0), color = color.white)\n",
    "    else:\n",
    "        box(pos = vec(x, y, 0), color = color.black)"
   ]
  },
  {
   "cell_type": "code",
   "execution_count": 3,
   "id": "bad7fe24",
   "metadata": {},
   "outputs": [
    {
     "data": {
      "text/html": [
       "<div id=\"glowscript\" class=\"glowscript\"></div>"
      ],
      "text/plain": [
       "<IPython.core.display.HTML object>"
      ]
     },
     "metadata": {},
     "output_type": "display_data"
    },
    {
     "data": {
      "application/javascript": [
       "if (typeof Jupyter !== \"undefined\") { window.__context = { glowscript_container: $(\"#glowscript\").removeAttr(\"id\")};}else{ element.textContent = ' ';}"
      ],
      "text/plain": [
       "<IPython.core.display.Javascript object>"
      ]
     },
     "metadata": {},
     "output_type": "display_data"
    }
   ],
   "source": [
    "canvas()\n",
    "x = 0\n",
    "y = 0\n",
    "box()\n",
    "a = box(pos = vec(x, y, 0))\n",
    "\n",
    "for i in range(100):\n",
    "    rate(20)\n",
    "    a.pos.x += 1\n",
    "    a.pos.y += 1"
   ]
  },
  {
   "cell_type": "code",
   "execution_count": 4,
   "id": "cb100489",
   "metadata": {},
   "outputs": [
    {
     "data": {
      "text/html": [
       "<div id=\"glowscript\" class=\"glowscript\"></div>"
      ],
      "text/plain": [
       "<IPython.core.display.HTML object>"
      ]
     },
     "metadata": {},
     "output_type": "display_data"
    },
    {
     "data": {
      "application/javascript": [
       "if (typeof Jupyter !== \"undefined\") { window.__context = { glowscript_container: $(\"#glowscript\").removeAttr(\"id\")};}else{ element.textContent = ' ';}"
      ],
      "text/plain": [
       "<IPython.core.display.Javascript object>"
      ]
     },
     "metadata": {},
     "output_type": "display_data"
    }
   ],
   "source": [
    "from vpython import *\n",
    "canvas()\n",
    "import random\n",
    "for i in range(100) :\n",
    "    x = random.randint(-10,10)\n",
    "    y = random.randint(-10,10)\n",
    "    if i % 2 == 0 :\n",
    "        box(pos = vec(x,y,0), color = color.red)\n",
    "    else :\n",
    "        box(pos = vec(x,y,0), color = color.green)"
   ]
  },
  {
   "cell_type": "code",
   "execution_count": 5,
   "id": "47a14536",
   "metadata": {},
   "outputs": [
    {
     "data": {
      "text/html": [
       "<div id=\"glowscript\" class=\"glowscript\"></div>"
      ],
      "text/plain": [
       "<IPython.core.display.HTML object>"
      ]
     },
     "metadata": {},
     "output_type": "display_data"
    },
    {
     "data": {
      "application/javascript": [
       "if (typeof Jupyter !== \"undefined\") { window.__context = { glowscript_container: $(\"#glowscript\").removeAttr(\"id\")};}else{ element.textContent = ' ';}"
      ],
      "text/plain": [
       "<IPython.core.display.Javascript object>"
      ]
     },
     "metadata": {},
     "output_type": "display_data"
    }
   ],
   "source": [
    "canvas()\n",
    "\n",
    "box(pos = vec(0,0,0), color = color.green)\n",
    "for i in range (-1,2) : \n",
    "    if i % 2 == 0 :\n",
    "        box(pos = vec(i,-1,0), color = color.red)\n",
    "    else :\n",
    "        box(pos = vec(i,-1,0), color = color.green)\n",
    "for i in range (-2,3) : \n",
    "    if i % 2 == 0 :\n",
    "        box(pos = vec(i,-2,0), color = color.green)\n",
    "    else :\n",
    "        box(pos = vec(i,-2,0), color = color.red)\n",
    "for i in range (-3,4) :\n",
    "    if i % 2 == 0 :\n",
    "        box(pos = vec(i,-3,0), color = color.red)\n",
    "    else :\n",
    "        box(pos = vec(i,-3,0), color = color.green)\n",
    "for i in range (-4,5) :\n",
    "    box(pos = vec(i,-4,0), color = color.green)\n",
    "    \n",
    "for i in range (-7, -4) :\n",
    "    box(pos = vec(0,i,0), color = color.yellow)"
   ]
  },
  {
   "cell_type": "code",
   "execution_count": 6,
   "id": "f265a35c",
   "metadata": {},
   "outputs": [
    {
     "data": {
      "text/html": [
       "<div id=\"glowscript\" class=\"glowscript\"></div>"
      ],
      "text/plain": [
       "<IPython.core.display.HTML object>"
      ]
     },
     "metadata": {},
     "output_type": "display_data"
    },
    {
     "data": {
      "application/javascript": [
       "if (typeof Jupyter !== \"undefined\") { window.__context = { glowscript_container: $(\"#glowscript\").removeAttr(\"id\")};}else{ element.textContent = ' ';}"
      ],
      "text/plain": [
       "<IPython.core.display.Javascript object>"
      ]
     },
     "metadata": {},
     "output_type": "display_data"
    }
   ],
   "source": [
    "from vpython import *\n",
    "import random\n",
    "\n",
    "canvas()\n",
    "for i in range(200):\n",
    "    x = random.randint(-300, 300)\n",
    "    y = random.randint(-300, 300)\n",
    "    z = random.randint(-300, 300)\n",
    "    r = random.random()\n",
    "    g = random.random()\n",
    "    b = random.random()\n",
    "    rad = random.randint(1, 5)\n",
    "    points = sphere(pos=vector(x, y, z), radius=rad, color=color.hsv_to_rgb(vector(r, g, b))) "
   ]
  },
  {
   "cell_type": "code",
   "execution_count": 7,
   "id": "48e38501",
   "metadata": {},
   "outputs": [
    {
     "data": {
      "text/html": [
       "<div id=\"glowscript\" class=\"glowscript\"></div>"
      ],
      "text/plain": [
       "<IPython.core.display.HTML object>"
      ]
     },
     "metadata": {},
     "output_type": "display_data"
    },
    {
     "data": {
      "application/javascript": [
       "if (typeof Jupyter !== \"undefined\") { window.__context = { glowscript_container: $(\"#glowscript\").removeAttr(\"id\")};}else{ element.textContent = ' ';}"
      ],
      "text/plain": [
       "<IPython.core.display.Javascript object>"
      ]
     },
     "metadata": {},
     "output_type": "display_data"
    }
   ],
   "source": [
    "from vpython import*\n",
    "canvas()\n",
    "a=sphere(radius=5,pos=vec(0,5,0),color=vec(0.7,0,1), opacity=0.7)\n",
    "for i in range(5) :\n",
    "    box(size=vec(10,1,10), pos=vec(20*i,0,0))\n",
    "\n",
    "\n",
    "for j in range(4) :\n",
    "    rate(2)\n",
    "    for i in range(10) :\n",
    "        a.pos.x=i+20*j\n",
    "        a.pos.y=i+5\n",
    "    rate(2)\n",
    "    for i in range(10) :\n",
    "        a.pos.x=10+20*j+i\n",
    "        a.pos.y=15-i"
   ]
  },
  {
   "cell_type": "code",
   "execution_count": 8,
   "id": "f81dd4b8",
   "metadata": {},
   "outputs": [
    {
     "data": {
      "text/html": [
       "<div id=\"glowscript\" class=\"glowscript\"></div>"
      ],
      "text/plain": [
       "<IPython.core.display.HTML object>"
      ]
     },
     "metadata": {},
     "output_type": "display_data"
    },
    {
     "data": {
      "application/javascript": [
       "if (typeof Jupyter !== \"undefined\") { window.__context = { glowscript_container: $(\"#glowscript\").removeAttr(\"id\")};}else{ element.textContent = ' ';}"
      ],
      "text/plain": [
       "<IPython.core.display.Javascript object>"
      ]
     },
     "metadata": {},
     "output_type": "display_data"
    },
    {
     "ename": "ValueError",
     "evalue": "math domain error",
     "output_type": "error",
     "traceback": [
      "\u001b[1;31m---------------------------------------------------------------------------\u001b[0m",
      "\u001b[1;31mValueError\u001b[0m                                Traceback (most recent call last)",
      "\u001b[1;32m<ipython-input-8-7e4e5b85f4cc>\u001b[0m in \u001b[0;36m<module>\u001b[1;34m\u001b[0m\n\u001b[0;32m     25\u001b[0m     \u001b[1;32melse\u001b[0m\u001b[1;33m:\u001b[0m\u001b[1;33m\u001b[0m\u001b[1;33m\u001b[0m\u001b[0m\n\u001b[0;32m     26\u001b[0m         \u001b[0mx\u001b[0m \u001b[1;33m-=\u001b[0m \u001b[1;36m0.01\u001b[0m\u001b[1;33m\u001b[0m\u001b[1;33m\u001b[0m\u001b[0m\n\u001b[1;32m---> 27\u001b[1;33m         \u001b[0my\u001b[0m \u001b[1;33m=\u001b[0m \u001b[0msqrt\u001b[0m\u001b[1;33m(\u001b[0m\u001b[1;36m1\u001b[0m\u001b[1;33m-\u001b[0m\u001b[0mx\u001b[0m\u001b[1;33m**\u001b[0m\u001b[1;36m2\u001b[0m\u001b[1;33m)\u001b[0m\u001b[1;33m\u001b[0m\u001b[1;33m\u001b[0m\u001b[0m\n\u001b[0m\u001b[0;32m     28\u001b[0m \u001b[1;33m\u001b[0m\u001b[0m\n\u001b[0;32m     29\u001b[0m \u001b[1;33m\u001b[0m\u001b[0m\n",
      "\u001b[1;31mValueError\u001b[0m: math domain error"
     ]
    }
   ],
   "source": [
    "canvas()\n",
    "import random\n",
    "import math\n",
    "\n",
    "x = 1\n",
    "\n",
    "sphere(pos = vec(0,0,0), color = color.red)\n",
    "\n",
    "# apple_pos_x = random.randint(-60, 60)\n",
    "# apple_pos_y = random.randint(-60, 60)\n",
    "\n",
    "# sphere(pos = vec(apple_pos_x, apple_pos_y, 0), color = color.red)\n",
    "\n",
    "plus = False\n",
    "\n",
    "for i in range(1000):\n",
    "    if x == -1:\n",
    "        plus = True\n",
    "    if x == 1:\n",
    "        plus = False\n",
    "    \n",
    "    if plus == True:\n",
    "        x += 0.01\n",
    "        y = -sqrt(1-x**2)\n",
    "    else:\n",
    "        x -= 0.01\n",
    "        y = sqrt(1-x**2)\n",
    "        \n",
    "    "
   ]
  },
  {
   "cell_type": "code",
   "execution_count": 3,
   "id": "4255d907",
   "metadata": {},
   "outputs": [
    {
     "data": {
      "text/html": [
       "<div id=\"glowscript\" class=\"glowscript\"></div>"
      ],
      "text/plain": [
       "<IPython.core.display.HTML object>"
      ]
     },
     "metadata": {},
     "output_type": "display_data"
    },
    {
     "data": {
      "application/javascript": [
       "if (typeof Jupyter !== \"undefined\") { window.__context = { glowscript_container: $(\"#glowscript\").removeAttr(\"id\")};}else{ element.textContent = ' ';}"
      ],
      "text/plain": [
       "<IPython.core.display.Javascript object>"
      ]
     },
     "metadata": {},
     "output_type": "display_data"
    },
    {
     "ename": "TypeError",
     "evalue": "'module' object is not callable",
     "output_type": "error",
     "traceback": [
      "\u001b[1;31m---------------------------------------------------------------------------\u001b[0m",
      "\u001b[1;31mTypeError\u001b[0m                                 Traceback (most recent call last)",
      "\u001b[1;32m<ipython-input-3-9fd1b9d5a8a5>\u001b[0m in \u001b[0;36m<module>\u001b[1;34m\u001b[0m\n\u001b[0;32m     13\u001b[0m \u001b[1;32mwhile\u001b[0m \u001b[1;32mTrue\u001b[0m\u001b[1;33m:\u001b[0m\u001b[1;33m\u001b[0m\u001b[1;33m\u001b[0m\u001b[0m\n\u001b[0;32m     14\u001b[0m     \u001b[0mrate\u001b[0m\u001b[1;33m(\u001b[0m\u001b[1;36m500\u001b[0m\u001b[1;33m)\u001b[0m\u001b[1;33m\u001b[0m\u001b[1;33m\u001b[0m\u001b[0m\n\u001b[1;32m---> 15\u001b[1;33m     \u001b[0msphere\u001b[0m\u001b[1;33m(\u001b[0m\u001b[0mpos\u001b[0m \u001b[1;33m=\u001b[0m \u001b[0mvec\u001b[0m\u001b[1;33m(\u001b[0m\u001b[1;36m0.5\u001b[0m\u001b[1;33m,\u001b[0m\u001b[1;36m0.25\u001b[0m\u001b[1;33m,\u001b[0m\u001b[1;36m0.8\u001b[0m\u001b[1;33m)\u001b[0m\u001b[1;33m,\u001b[0m \u001b[0mcolor\u001b[0m \u001b[1;33m=\u001b[0m \u001b[0mcolor\u001b[0m\u001b[1;33m.\u001b[0m\u001b[0mred\u001b[0m\u001b[1;33m,\u001b[0m \u001b[0mradius\u001b[0m \u001b[1;33m=\u001b[0m \u001b[1;36m0.2\u001b[0m\u001b[1;33m,\u001b[0m \u001b[0mopacity\u001b[0m \u001b[1;33m=\u001b[0m \u001b[0mrandom\u001b[0m\u001b[1;33m(\u001b[0m\u001b[1;33m)\u001b[0m\u001b[1;33m)\u001b[0m\u001b[1;33m\u001b[0m\u001b[1;33m\u001b[0m\u001b[0m\n\u001b[0m\u001b[0;32m     16\u001b[0m     \u001b[0msphere\u001b[0m\u001b[1;33m(\u001b[0m\u001b[0mpos\u001b[0m \u001b[1;33m=\u001b[0m \u001b[0mvec\u001b[0m\u001b[1;33m(\u001b[0m\u001b[1;33m-\u001b[0m\u001b[1;36m0.5\u001b[0m\u001b[1;33m,\u001b[0m\u001b[1;36m0.25\u001b[0m\u001b[1;33m,\u001b[0m\u001b[1;36m0.8\u001b[0m\u001b[1;33m)\u001b[0m\u001b[1;33m,\u001b[0m \u001b[0mcolor\u001b[0m \u001b[1;33m=\u001b[0m \u001b[0mcolor\u001b[0m\u001b[1;33m.\u001b[0m\u001b[0mred\u001b[0m\u001b[1;33m,\u001b[0m \u001b[0mradius\u001b[0m \u001b[1;33m=\u001b[0m \u001b[1;36m0.2\u001b[0m\u001b[1;33m,\u001b[0m \u001b[0mopacity\u001b[0m\u001b[1;33m=\u001b[0m \u001b[0mrandom\u001b[0m\u001b[1;33m(\u001b[0m\u001b[1;33m)\u001b[0m\u001b[1;33m)\u001b[0m\u001b[1;33m\u001b[0m\u001b[1;33m\u001b[0m\u001b[0m\n",
      "\u001b[1;31mTypeError\u001b[0m: 'module' object is not callable"
     ]
    }
   ],
   "source": [
    "import random\n",
    "\n",
    "canvas()\n",
    "\n",
    "sphere(pos = vec(0,0,0), color = color.orange, radius = 1)\n",
    "sphere(pos = vec(0.8,0.8,0), color = color.orange, radius = 0.2)\n",
    "sphere(pos = vec(-0.8,0.8,0), color = color.orange, radius = 0.2)\n",
    "sphere(pos = vec(0.1,0.25,0.95), color = color.white, radius = 0.15)\n",
    "sphere(pos = vec(-0.1,0.25,0.95), color = color.white, radius = 0.15)\n",
    "sphere(pos = vec(0,0.4,1), color = color.black, radius = 0.05)\n",
    "sphere(pos = vec(0.3,0.5,0.8), color = color.black, radius = 0.1)\n",
    "sphere(pos = vec(-0.3,0.5,0.8), color = color.black, radius = 0.1)\n",
    "while True:\n",
    "    rate(500)\n",
    "    sphere(pos = vec(0.5,0.25,0.8), color = color.red, radius = 0.2, opacity = random())\n",
    "    sphere(pos = vec(-0.5,0.25,0.8), color = color.red, radius = 0.2, opacity= random())"
   ]
  },
  {
   "cell_type": "code",
   "execution_count": 4,
   "id": "b7b15c8f",
   "metadata": {},
   "outputs": [
    {
     "data": {
      "text/html": [
       "<div id=\"glowscript\" class=\"glowscript\"></div>"
      ],
      "text/plain": [
       "<IPython.core.display.HTML object>"
      ]
     },
     "metadata": {},
     "output_type": "display_data"
    },
    {
     "data": {
      "application/javascript": [
       "if (typeof Jupyter !== \"undefined\") { window.__context = { glowscript_container: $(\"#glowscript\").removeAttr(\"id\")};}else{ element.textContent = ' ';}"
      ],
      "text/plain": [
       "<IPython.core.display.Javascript object>"
      ]
     },
     "metadata": {},
     "output_type": "display_data"
    }
   ],
   "source": [
    "from vpython import *\n",
    "import random\n",
    "\n",
    "canvas()\n",
    "sphere(pos = vec(0, 0, 0), color = color.yellow, radius = 100)\n",
    "\n",
    "for i in range(3000):\n",
    "    x = random.randint(-100, 100)\n",
    "    y = random.randint(-100, 100)\n",
    "    z = random.randint(-100, 100)\n",
    "    if (x**2 + y**2 + z**2 <= 10500) & (x**2 + y**2 + z**2 >= 9500) : \n",
    "        sphere(pos = vec(x, y, z), color = color.red, radius = 1.5)\n",
    "\n",
    "for i in range(3000):\n",
    "    x = random.randint(-100, 100)\n",
    "    y = random.randint(-100, 100)\n",
    "    z = random.randint(-100, 100)\n",
    "    if (x**2 + y**2 + z**2 <= 10500) & (x**2 + y**2 + z**2 >= 9500) : \n",
    "        sphere(pos = vec(x, y, z), color = color.green, radius = 1.5)\n",
    "    \n",
    "for i in range(3000):\n",
    "    x = random.randint(-100, 100)\n",
    "    y = random.randint(-100, 100)\n",
    "    z = random.randint(-100, 100)\n",
    "    if (x**2 + y**2 + z**2 <= 10500) & (x**2 + y**2 + z**2 >= 9500) : \n",
    "        sphere(pos = vec(x, y, z), color = color.blue, radius = 1.5)\n",
    "        \n",
    "box(pos = vec(0,-120,0), color = color.white)"
   ]
  },
  {
   "cell_type": "code",
   "execution_count": 6,
   "id": "2460021a",
   "metadata": {},
   "outputs": [
    {
     "data": {
      "text/html": [
       "<div id=\"glowscript\" class=\"glowscript\"></div>"
      ],
      "text/plain": [
       "<IPython.core.display.HTML object>"
      ]
     },
     "metadata": {},
     "output_type": "display_data"
    },
    {
     "data": {
      "application/javascript": [
       "if (typeof Jupyter !== \"undefined\") { window.__context = { glowscript_container: $(\"#glowscript\").removeAttr(\"id\")};}else{ element.textContent = ' ';}"
      ],
      "text/plain": [
       "<IPython.core.display.Javascript object>"
      ]
     },
     "metadata": {},
     "output_type": "display_data"
    }
   ],
   "source": [
    "canvas()\n",
    "\n",
    "sphere()"
   ]
  }
 ],
 "metadata": {
  "kernelspec": {
   "display_name": "Python 3",
   "language": "python",
   "name": "python3"
  },
  "language_info": {
   "codemirror_mode": {
    "name": "ipython",
    "version": 3
   },
   "file_extension": ".py",
   "mimetype": "text/x-python",
   "name": "python",
   "nbconvert_exporter": "python",
   "pygments_lexer": "ipython3",
   "version": "3.8.8"
  }
 },
 "nbformat": 4,
 "nbformat_minor": 5
}
